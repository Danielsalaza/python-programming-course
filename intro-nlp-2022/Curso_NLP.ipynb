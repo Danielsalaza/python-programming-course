{
  "nbformat": 4,
  "nbformat_minor": 0,
  "metadata": {
    "colab": {
      "name": "Curso_NLP.ipynb",
      "provenance": [],
      "collapsed_sections": [
        "DlwDFEJjGecu",
        "iCxagi9OHCZA",
        "x63UgYW7HMKD",
        "dnJl7U6lHkJr",
        "3ahZ5cuqHhDy",
        "n6RsKdYbIbTO",
        "ZLffD3ttHdn4"
      ],
      "authorship_tag": "ABX9TyNF4Zlo9OBHIUwRPTubRKi+",
      "include_colab_link": true
    },
    "kernelspec": {
      "name": "python3",
      "display_name": "Python 3"
    },
    "language_info": {
      "name": "python"
    }
  },
  "cells": [
    {
      "cell_type": "markdown",
      "metadata": {
        "id": "view-in-github",
        "colab_type": "text"
      },
      "source": [
        "<a href=\"https://colab.research.google.com/github/chemaar/python-programming-course/blob/master/intro-nlp-2022/Curso_NLP.ipynb\" target=\"_parent\"><img src=\"https://colab.research.google.com/assets/colab-badge.svg\" alt=\"Open In Colab\"/></a>"
      ]
    },
    {
      "cell_type": "markdown",
      "source": [
        "# 🔰 Arrancando con el Procesamiento del Lenguaje Natural\n"
      ],
      "metadata": {
        "id": "EeXFnqYrx75u"
      }
    },
    {
      "cell_type": "markdown",
      "source": [
        "## Ejemplos divertidos\n",
        "\n",
        "* *DALL·E 2 is a new AI system that can create realistic images and art from a description in natural language.* https://openai.com/dall-e-2/ \n",
        "  * https://huggingface.co/spaces/dalle-mini/dalle-mini\n",
        "\n",
        "* \"Darth vader riding a white horse\"\n",
        "\n",
        "![Generado con Dall-E mini](https://github.com/chemaar/python-programming-course/raw/master/intro-nlp-2022/imgs/darth_vader_white_horse.png)\n",
        "\n",
        "* \"Darth vader harvesting strawberries\"\n",
        "\n",
        "![Generado con Dall-E mini](https://github.com/chemaar/python-programming-course/raw/master/intro-nlp-2022/imgs/darth_vader_strawberries.png)\n",
        "\n",
        "\n",
        "* \"restaurant in the isengard tower\"\n",
        "\n",
        "![Generado con Dall-E mini](https://github.com/chemaar/python-programming-course/raw/master/intro-nlp-2022/imgs/isengard.png)\n",
        "\n",
        "\n",
        "* \"mickey mouse doing burlesque\"\n",
        "\n",
        "![Generado con Dall-E mini](https://github.com/chemaar/python-programming-course/raw/master/intro-nlp-2022/imgs/mickey.png)"
      ],
      "metadata": {
        "id": "vfsNjj-XZAxl"
      }
    },
    {
      "cell_type": "markdown",
      "source": [
        "### ❓ Algunas preguntas iniciales...\n",
        "\n",
        "* ¿Aplicaciones de NLP?\n",
        "* ¿Fases en NLP?\n",
        "* ¿Modelos de lenguaje: GPT-3, Bloom, BERT, etc.?\n",
        "* ¿Programación?"
      ],
      "metadata": {
        "id": "qi3KPIriKR9v"
      }
    },
    {
      "cell_type": "markdown",
      "source": [
        "## 📗 Definiciones\n",
        "\n",
        "**Procesamiento del lenguaje natural (*Natural Language Processing*). Es un conjunto de técnicas en el ámbito de la inteligencia artificial y la computación linguistica para habilitar la interacción entre personas y máquinas mediante la programación que permitan a la máquina \"entender\" el universo del discurso.**\n",
        "\n",
        "Otros aspectos:\n",
        "\n",
        "* *Natural Language Understanding* \n",
        "* *Natural Language Generation*\n",
        "* *Name Entity Recognition* \n",
        "* *Text mining* \n",
        "* *Lenguaje formal*\n",
        "* ...\n"
      ],
      "metadata": {
        "id": "UqzCyJC3LESA"
      }
    },
    {
      "cell_type": "markdown",
      "source": [
        "## 📢 Casos de uso y aplicaciones\n",
        "\n",
        "Basándose en que el lenguaje es el medio de comunicación entre personas, se pueden encontrar muchos casos de uso y aplicaciones que se podrán adaptar a los diferentes dominios.\n",
        "\n",
        "*  Análisis de contenidos\n",
        "   * Opinión\n",
        "   * Sentimiento\n",
        "   * Reconocimiento de entidades: lugares, personas, unidades de medida, moneda, códigos, acrónimos, etc.\n",
        "   * Anotación automática\n",
        "   * Búsqueda de patrones de texto\n",
        "   * ...\n",
        "*  Generación de contenidos\n",
        "   * Redacción automática de texto\n",
        "   * Resumen de texto\n",
        "   * Simplificación y personalización de textos\n",
        "   * Verbalización de imágenes\n",
        "   * Recomendación de textos (ej: etiquetas)\n",
        "   * ...\n",
        "*  Interacción\n",
        "   * Bots de productividad\n",
        "   * Chatbots\n",
        "   * ...\n",
        "*  Búsqueda\n",
        "   * Textual (tipo Google)\n",
        "   * Semántica: NLP + Semántica\n",
        "*  Traducción de texto\n",
        "*  Otros:\n",
        "   * Reconocimiento y sintetización de voz\n",
        "\n"
      ],
      "metadata": {
        "id": "sAze_E96M4d6"
      }
    },
    {
      "cell_type": "markdown",
      "source": [
        "### 👷 Tareas concretas\n",
        "* Comparar dos palabras\n",
        "* Búsqueda de palabras similares\n",
        "* Corrección de errores léxicos/sintácticos\n",
        "* ..."
      ],
      "metadata": {
        "id": "rVGExNNOaih0"
      }
    },
    {
      "cell_type": "markdown",
      "source": [
        "## Técnicas y enfoques para el procesamiento de lenguaje natural\n",
        "\n",
        "* Computación linguistica: codificación en un modelo de programación de las reglas léxicas, gramaticales y semánticas de un lenguaje natural. ¿Cómo se analiza un texto en un idioma determinado?\n",
        "* Reglas: implementación del proceso de lenguaje natural mediante reglas.\n",
        "* Aprendizaje automático: para algunos casos de uso, análisis de sentimiento, un clasificador puede ser una opción muy válidad.\n",
        "* Deep Learning (transformers): en tendencia actualmente, codificación del texto y sus relaciones mediante estructuras computables (ej: vectores) basadas en probabilidades.\n",
        "\n",
        "\n",
        "---\n",
        "\n",
        "📔 **_NOTA:_** \n",
        "\n",
        "En general y dependiendo del problema es muy posible que haya que combinar varias técnicas teniendo siempre como base el procesamiento de lenguaje natural para hacer el lenguaje computable, entendible por una máquina, y después explotarlo de la manera más adecuada a nuestras necesidades.\n",
        "\n",
        "---\n",
        "\n",
        "\n",
        "\n"
      ],
      "metadata": {
        "id": "hgpA2EV6SsoP"
      }
    },
    {
      "cell_type": "markdown",
      "source": [
        "❓ ¿Qué casos de uso y/o aplicaciones podríamos encontrar en: comercio electrónico, salud o medios de comunicación?\n",
        "  * Veamos que hacen en el New York times: https://rd.nytimes.com/research/natural-language-understanding "
      ],
      "metadata": {
        "id": "AQ_EYk2uOUtS"
      }
    },
    {
      "cell_type": "markdown",
      "source": [
        "## Problemas conocidos en el procesamiento del lenguaje natural\n",
        "\n",
        "Los problemas principales vienen derivados del aspecto humano del lenguaje que de alguna forma habrá que resolver para que una máquina los pueda entender apropiadamente, de esta forma se pueden destacar algunos como:\n",
        "\n",
        "* Ambiguedad del propio del lenguaje (universo del discurso y semántica): léxica, sintáctica y semántica.\n",
        "* Omisión de elementos clave del contexto (ej: \"it\")\n",
        "* Ironía y sarcasmo\n",
        "* Procesamiento de emojis\n",
        "* Errores propios en el texto\n",
        "* Textos coloquiales (jerga)\n",
        "* Vocabulario técnico (específico)\n",
        "* Acrónimos\n",
        "* Falta de suficientes textos para algunos contextos\n"
      ],
      "metadata": {
        "id": "ObKIO7KvUkP7"
      }
    },
    {
      "cell_type": "markdown",
      "source": [
        "## ⏩ Proceso y actividades en el procesamiento del lenguaje natural\n"
      ],
      "metadata": {
        "id": "-ThBny0cOjFR"
      }
    },
    {
      "cell_type": "markdown",
      "source": [
        "* Tokenización\n",
        "* Lematización (Stemming)\n",
        "* POS (Part of Speech Tagging)\n",
        "* NER (Name Entity Recognition)\n"
      ],
      "metadata": {
        "id": "qNImZ3QKWBXr"
      }
    },
    {
      "cell_type": "markdown",
      "source": [
        "## Tecnología\n",
        "\n",
        "*   [Python Spacy](https://spacy.io/) \n",
        "*   [Python NLTK (Natural Language Toolkit)](https://www.nltk.org/): más orientado a la investigación. \n",
        "*   [Core NLP](https://stanfordnlp.github.io/CoreNLP/): más orientado a la investigación. \n",
        "*   [Gate](https://gate.ac.uk/)\n",
        "*   [Python Keras (Deep Learning) para NLP](https://keras.io/keras_nlp/).\n",
        "*   [Python Pytorch (Deep Learning) para NLP (Facebook)](https://pytorch.org/tutorials/beginner/deep_learning_nlp_tutorial.html). \n",
        "*   Apache Lucene, Solr, ElasticSearch (específico para búsqueda). \n",
        "*   [Python Sci-kit text-analytics](https://scikit-learn.org/stable/tutorial/text_analytics/working_with_text_data.html): general para tareas de aprendizaje automático pero con muchas capacidades para NLP.\n",
        "*  Otras muchas tecnologías ya disponibles como productos configurables en Google u otros proveedores de software de análisis de datos.\n",
        "\n",
        "## Modelos fundacionales\n",
        "*  [HugginFace](https://huggingface.co/models): repositorio de modelos. \n",
        "*  [GTP-3 de OpenAI](https://openai.com/blog/openai-api/). \n",
        "*  [BERT de Google](https://ai.googleblog.com/2018/11/open-sourcing-bert-state-of-art-pre.html)\n",
        "*  Glove, Gensim, etc.\n",
        "*  [MarIA de MareNostrum y BNE](https://github.com/PlanTL-GOB-ES/lm-spanish)\n",
        "\n",
        "📔 Lectura recomendada: \"On the Opportunities and Risks of\n",
        "Foundation Models\". [Ver PDF](https://arxiv.org/pdf/2108.07258.pdf)\n",
        "\n",
        "📰 Noticia interesante: [\"200 languages within a single AI model: A breakthrough in high-quality machine translation\"](https://ai.facebook.com/blog/nllb-200-high-quality-machine-translation/)\n",
        "\n",
        "\n"
      ],
      "metadata": {
        "id": "I8Vu6-qDWUAS"
      }
    },
    {
      "cell_type": "markdown",
      "source": [
        "# ⏬ Procesamiento de lenguaje natural \"puro\" en Python"
      ],
      "metadata": {
        "id": "-s8MZr57cx45"
      }
    },
    {
      "cell_type": "markdown",
      "source": [
        "Supongamos que tenemos un texto como el siguiente (extraído de la Wikipedia):\n",
        "\n",
        "*Jaca es la capital de la comarca de La Jacetania y dista 72 km de Huesca, la capital provincial, y 143 km de Zaragoza. Está situada en el norte de la provincia, en el valle del Aragón, único gran valle paralelo al eje de la cadena pirenaica. La prolongación de este eje, desde la Cuenca de Pamplona, al oeste, hasta la Cuenca de Tremp, al este, facilita las comunicaciones entre Navarra y Cataluña a través del norte de Aragón.*\n",
        "\n",
        "👷 Y se pretende realizar las siguientes tareas:\n",
        "\n",
        "* Extraer estadísticas del texto: nº de palabras, nº de caracteres, palabra más frecuente, etc.\n",
        "* Extraer los nombres propios\n",
        "* Extraer los verbos\n",
        "\n",
        "❓ ¿Cómo se puede proceder?\n",
        "\n",
        "1. Tokenizar el texto\n",
        "2. ¿Estrategia para las signos de puntuación?\n",
        "3. ¿Se pasa el texto a minúsculas/mayúsculas?\n",
        "4. ¿Estrategia con las \"stopwords\"?\n",
        "5. ¿Cómo se resuelven los acrónimos?"
      ],
      "metadata": {
        "id": "OSA7DJOcc1hA"
      }
    },
    {
      "cell_type": "markdown",
      "source": [
        "## Introducción a los procesos básicos de NLP con Python NLTK"
      ],
      "metadata": {
        "id": "_yE9rcfdLG9l"
      }
    },
    {
      "cell_type": "markdown",
      "source": [
        "### **Normalización**\n",
        "\n",
        "Proceso por el cual se crea una versión \"limpia\" del texto. Por ejemplo, pasand a minúsculas, eliminando signos de puntuación, etc. No obstante, hay que tener cuidado porque se puede perder semántica en el proceso, por ejemplo los acrónimos."
      ],
      "metadata": {
        "id": "laV7omr3GPxh"
      }
    },
    {
      "cell_type": "code",
      "source": [
        "import string\n",
        "text = \"Jaca es la capital de la comarca de La Jacetania y dista 72 km de Huesca, la capital provincial, y 143 km de Zaragoza. Está situada en el norte de la provincia, en el valle del Aragón, único gran valle paralelo al eje de la cadena pirenaica. La prolongación de este eje, desde la Cuenca de Pamplona, al oeste, hasta la Cuenca de Tremp, al este, facilita las comunicaciones entre Navarra y Cataluña a través del norte de Aragón.\"\n",
        "text = \"\".join(v for v in text if v not in string.punctuation).lower()\n",
        "text = text.encode(\"utf8\").decode(\"ascii\",'ignore')\n",
        "print(text)"
      ],
      "metadata": {
        "colab": {
          "base_uri": "https://localhost:8080/"
        },
        "id": "GMoYK19xGW0Q",
        "outputId": "99bba677-59e9-4482-d8ab-b0370de7ba19"
      },
      "execution_count": 1,
      "outputs": [
        {
          "output_type": "stream",
          "name": "stdout",
          "text": [
            "jaca es la capital de la comarca de la jacetania y dista 72 km de huesca la capital provincial y 143 km de zaragoza est situada en el norte de la provincia en el valle del aragn nico gran valle paralelo al eje de la cadena pirenaica la prolongacin de este eje desde la cuenca de pamplona al oeste hasta la cuenca de tremp al este facilita las comunicaciones entre navarra y catalua a travs del norte de aragn\n"
          ]
        }
      ]
    },
    {
      "cell_type": "markdown",
      "source": [
        "### **Tokenización**\n",
        "\n",
        "Proceso por el cual se obtienen los tokens (palabras) de un texto. Existen diferentes técnicas de tokenización que suelen estar basadas en la separación por espacio en blanco."
      ],
      "metadata": {
        "id": "DlwDFEJjGecu"
      }
    },
    {
      "cell_type": "code",
      "source": [
        "input_text = \"Jaca es la capital de la comarca de La Jacetania y dista 72 km de Huesca, la capital provincial, y 143 km de Zaragoza. Está situada en el norte de la provincia, en el valle del Aragón, único gran valle paralelo al eje de la cadena pirenaica. La prolongación de este eje, desde la Cuenca de Pamplona, al oeste, hasta la Cuenca de Tremp, al este, facilita las comunicaciones entre Navarra y Cataluña a través del norte de Aragón.\"\n",
        "tokens = input_text.split(\" \")\n",
        "print(\"Nº de caracteres: \"+str(len(input_text)))\n",
        "print(\"Nº de palabras: \"+str(len(tokens)))\n",
        "#Huesca, -->es una palabra?\n",
        "#Nombres propios-->son los que empiezan por mayúscula\n",
        "nouns =[token for token in tokens if token[0].isupper()]\n",
        "print(\"Nº de nombres propios: \"+str(len(nouns)))\n",
        "print(nouns)\n",
        "#y \"La Jacetania\"?\n",
        "n_numbers =[token for token in tokens if token.isnumeric()]\n",
        "print(\"Nº de números: \"+str(len(n_numbers)))\n",
        "print(n_numbers)\n",
        "#y los acrónimos?\n",
        "#y los verbos?\n",
        "\n",
        "\n"
      ],
      "metadata": {
        "colab": {
          "base_uri": "https://localhost:8080/"
        },
        "id": "LoRyyT9Dd6TY",
        "outputId": "74469409-b6aa-4b95-a0bb-258260b57ed0"
      },
      "execution_count": 2,
      "outputs": [
        {
          "output_type": "stream",
          "name": "stdout",
          "text": [
            "Nº de caracteres: 427\n",
            "Nº de palabras: 79\n",
            "Nº de nombres propios: 15\n",
            "['Jaca', 'La', 'Jacetania', 'Huesca,', 'Zaragoza.', 'Está', 'Aragón,', 'La', 'Cuenca', 'Pamplona,', 'Cuenca', 'Tremp,', 'Navarra', 'Cataluña', 'Aragón.']\n",
            "Nº de números: 2\n",
            "['72', '143']\n"
          ]
        }
      ]
    },
    {
      "cell_type": "markdown",
      "source": [
        "🔜 Vamos a introducir un poco de NLTK..."
      ],
      "metadata": {
        "id": "4QFrAhljkeVu"
      }
    },
    {
      "cell_type": "code",
      "source": [
        "!pip install nltk\n"
      ],
      "metadata": {
        "id": "_HUgGWIsPazO"
      },
      "execution_count": null,
      "outputs": []
    },
    {
      "cell_type": "code",
      "source": [
        "import nltk\n",
        "nltk.download('punkt')\n",
        "\n",
        "from nltk import sent_tokenize\n",
        "from nltk import word_tokenize\n",
        "input_text = \"Jaca es la capital de la comarca de La Jacetania y dista 72 km de Huesca, la capital provincial, y 143 km de Zaragoza. Está situada en el norte de la provincia, en el valle del Aragón, único gran valle paralelo al eje de la cadena pirenaica. La prolongación de este eje, desde la Cuenca de Pamplona, al oeste, hasta la Cuenca de Tremp, al este, facilita las comunicaciones entre Navarra y Cataluña a través del norte de Aragón.\"\n",
        "sentences = sent_tokenize(input_text)\n",
        "print(\"Frases: \"+str(len(sentences)))\n",
        "print(sentences)"
      ],
      "metadata": {
        "id": "O2Wh1yf1GkGP"
      },
      "execution_count": null,
      "outputs": []
    },
    {
      "cell_type": "code",
      "source": [
        "import nltk\n",
        "from nltk.corpus import stopwords\n",
        "nltk.download('stopwords')\n",
        "spanish_stopwords = stopwords.words('spanish')\n",
        "words = [token.replace(\".\",\"\") for token in tokens if token not in spanish_stopwords]\n",
        "print(\"Nº de palabras: \"+str(len(words)))\n",
        "print(words)\n",
        "#Creando mi dataset de words\n",
        "real_words = []\n",
        "position = 0\n",
        "while position < len(words):\n",
        "  if position+1 < len(words)-1 and words[position][0].isupper() and words[position+1][0].isupper():\n",
        "    real_words.append(words[position]+\" \"+words[position+1])\n",
        "    position += 1\n",
        "  else:\n",
        "    real_words.append(words[position])\n",
        "  position += 1\n",
        "\n",
        "print(\"Nº de palabras: \"+str(len(real_words)))\n",
        "print(real_words)  \n",
        "\n",
        "#Se deben incluir reglas muy imperativas.\n",
        "#-->y esto sólo para particionar más o menos bien, si los nombres son de más de dos palabras?\n"
      ],
      "metadata": {
        "id": "bQY0--fVfLl0"
      },
      "execution_count": null,
      "outputs": []
    },
    {
      "cell_type": "code",
      "source": [
        "#Resolución de acrónimos\n",
        "acronym_map = {\"km\": \"kilometro\"}\n",
        "acronyms = {token for token in tokens if token in acronym_map}\n",
        "print(acronyms)\n"
      ],
      "metadata": {
        "id": "8JtQUjd5fzO5"
      },
      "execution_count": null,
      "outputs": []
    },
    {
      "cell_type": "code",
      "source": [
        "#Algunas estadísticas\n",
        "unique_words = set(words)\n",
        "print(\"Nº único de palabras: \"+str(len(unique_words)))\n",
        "#Frequencia de las palabras\n",
        "stats  = {word:words.count(word) for word in unique_words}\n",
        "print(stats)\n",
        "#Top 5\n",
        "top_5_most_frequent = sorted(stats.items(), key=lambda x: x[1], reverse=True)[:5]   \n",
        "print(top_5_most_frequent)"
      ],
      "metadata": {
        "id": "60roFjYtiXpr"
      },
      "execution_count": null,
      "outputs": []
    },
    {
      "cell_type": "code",
      "source": [
        "#!pip install nltk\n",
        "import nltk\n",
        "from nltk.tokenize import word_tokenize\n",
        "from nltk.probability import FreqDist\n",
        "nltk.download('punkt')\n",
        "tokenized_word=word_tokenize(input_text)\n",
        "print(tokenized_word)\n",
        "\n",
        "fdist = FreqDist(tokenized_word)\n",
        "print(fdist)\n",
        "print(fdist.most_common(5))\n"
      ],
      "metadata": {
        "id": "uhsHblpljpXu"
      },
      "execution_count": null,
      "outputs": []
    },
    {
      "cell_type": "code",
      "source": [
        "import matplotlib.pyplot as plt\n",
        "fdist.plot(30,cumulative=False)\n",
        "plt.show()"
      ],
      "metadata": {
        "id": "1pNBr-VakOVO"
      },
      "execution_count": null,
      "outputs": []
    },
    {
      "cell_type": "code",
      "source": [
        "from wordcloud import WordCloud\n",
        "\n",
        "input_text = \"Jaca es la capital de la comarca de La Jacetania y dista 72 km de Huesca, la capital provincial, y 143 km de Zaragoza. Está situada en el norte de la provincia, en el valle del Aragón, único gran valle paralelo al eje de la cadena pirenaica. La prolongación de este eje, desde la Cuenca de Pamplona, al oeste, hasta la Cuenca de Tremp, al este, facilita las comunicaciones entre Navarra y Cataluña a través del norte de Aragón.\"\n",
        "wordcloud = WordCloud().generate(input_text)\n",
        "plt.figure(figsize = (10,10))\n",
        "plt.imshow(wordcloud)\n",
        "plt.axis(\"off\")\n",
        "plt.show()"
      ],
      "metadata": {
        "id": "eKQvkXhZG2cs"
      },
      "execution_count": null,
      "outputs": []
    },
    {
      "cell_type": "code",
      "source": [
        "#Palabras similares?\n",
        "#Jaccard para conjuntos?\n",
        "def jaccard_similarity(s1, s2):\n",
        "    \"\"\"\n",
        "    Given two sets, it calculates the Jaccard similarity index. \n",
        "    \n",
        "    The Jaccard similarity index is calculated as follows:\n",
        "        \n",
        "        J(X,Y) = |X∩Y| / |X∪Y|\n",
        "\n",
        "    X = {0,1,2,5}\n",
        "    Y = {0,2,3,4}\n",
        "    \n",
        "    Solution: J(X,Y) = |X∩Y| / |X∪Y| = |{0,2}| / |{0,1,2,3,4,5}| = 2/6 = 0.33.\n",
        "\n",
        "    Returns\n",
        "    -------\n",
        "    Float\n",
        "        The Jaccard similarity index.\n",
        "\n",
        "    \"\"\"\n",
        "    if s1 and s2:\n",
        "        intersection_cardinality = len(set.intersection(s1, s2))\n",
        "        union_cardinality = len(set.union(s1, s2))\n",
        "        return intersection_cardinality/float(union_cardinality)\n",
        "    else:\n",
        "        return 0\n",
        "\n",
        "word_1 = set(\"casa\")\n",
        "word_2 = set(\"cosa\")\n",
        "#Una similaridad simplemente basada en conjuntos, muy pobre, no considera ninguna semántica.\n",
        "print(\"Similaridad: \"+str(jaccard_similarity(word_1, word_2)))\n"
      ],
      "metadata": {
        "colab": {
          "base_uri": "https://localhost:8080/"
        },
        "id": "9jPoAJrrpPUb",
        "outputId": "26f6e540-6324-4656-ab0d-a087493b12c7"
      },
      "execution_count": null,
      "outputs": [
        {
          "output_type": "stream",
          "name": "stdout",
          "text": [
            "Similaridad: 0.75\n"
          ]
        }
      ]
    },
    {
      "cell_type": "code",
      "source": [
        "from difflib import SequenceMatcher\n",
        "def similar(a, b):\n",
        "    return SequenceMatcher(None, a, b).ratio()\n",
        "\n",
        "word_1 = \"casa\"\n",
        "word_2 = \"cosa\"\n",
        "print(\"Similaridad: \"+str(similar(word_1, word_2)))"
      ],
      "metadata": {
        "colab": {
          "base_uri": "https://localhost:8080/"
        },
        "id": "dwYsiARC3NZ0",
        "outputId": "b556c5a0-e647-42b3-8413-ebdf927bb694"
      },
      "execution_count": null,
      "outputs": [
        {
          "output_type": "stream",
          "name": "stdout",
          "text": [
            "Similaridad: 0.75\n"
          ]
        }
      ]
    },
    {
      "cell_type": "code",
      "source": [
        "!pip install jellyfish"
      ],
      "metadata": {
        "id": "6EhKhhR63nSs"
      },
      "execution_count": null,
      "outputs": []
    },
    {
      "cell_type": "markdown",
      "source": [
        "Paquete `jellyfish`:\n",
        "\n",
        "* String comparison:\n",
        "\t* Levenshtein Distance\n",
        "\t* Damerau-Levenshtein Distance\n",
        "\t* Jaro Distance\n",
        "\t* Jaro-Winkler Distance\n",
        "\t* Match Rating Approach Comparison\n",
        "\t* Hamming Distance\n",
        "\n",
        "* Phonetic encoding:\n",
        "\t* American Soundex\n",
        "\t* Metaphone\n",
        "\t* NYSIIS (New York State Identification and Intelligence System)\n",
        "\t* Match Rating Codex"
      ],
      "metadata": {
        "id": "wEfwvHWu34R5"
      }
    },
    {
      "cell_type": "code",
      "source": [
        "#La distancia de Levenshtein, distancia de edición o distancia entre palabras es el \n",
        "#número mínimo de operaciones requeridas para transformar una cadena de caracteres en otra.\n",
        "\n",
        "import jellyfish\n",
        "word_1 = \"casa\"\n",
        "word_2 = \"cosa\"\n",
        "jellyfish.levenshtein_distance(word_1, word_2)"
      ],
      "metadata": {
        "colab": {
          "base_uri": "https://localhost:8080/"
        },
        "id": "6U1S1Nwp3daq",
        "outputId": "e474ac0d-1466-4280-9949-26cfd8bc5871"
      },
      "execution_count": null,
      "outputs": [
        {
          "output_type": "execute_result",
          "data": {
            "text/plain": [
              "1"
            ]
          },
          "metadata": {},
          "execution_count": 35
        }
      ]
    },
    {
      "cell_type": "markdown",
      "source": [
        "### **Stemming**\n",
        "\n",
        "Proceso por el cual se obtienen las raíces de las palabras."
      ],
      "metadata": {
        "id": "iCxagi9OHCZA"
      }
    },
    {
      "cell_type": "code",
      "source": [
        "from nltk.stem import PorterStemmer\n",
        "#Hay muchos, normalmente Porter o Snowball son los más utilizados\n",
        "ps = PorterStemmer()\n",
        "words = [\"drink\", \"drunk\", \"drinking\", \"drinks\"]\n",
        "for w in words:\n",
        "  print (ps.stem(w))"
      ],
      "metadata": {
        "colab": {
          "base_uri": "https://localhost:8080/"
        },
        "id": "ZzXembHyHEJc",
        "outputId": "0333f6e8-90c4-4786-f7b3-9a8acc2cd2d4"
      },
      "execution_count": null,
      "outputs": [
        {
          "output_type": "stream",
          "name": "stdout",
          "text": [
            "drink\n",
            "drunk\n",
            "drink\n",
            "drink\n"
          ]
        }
      ]
    },
    {
      "cell_type": "markdown",
      "source": [
        "### **Lematización**\n",
        "\n",
        "Proceso por el cual se obtiene una raíz común de las palabras pero teniendo en cuenta el contexto de las palabras. Requiere más tiempo pero se más preciso."
      ],
      "metadata": {
        "id": "x63UgYW7HMKD"
      }
    },
    {
      "cell_type": "code",
      "source": [
        "nltk.download('wordnet')"
      ],
      "metadata": {
        "colab": {
          "base_uri": "https://localhost:8080/"
        },
        "id": "gNJnhnewHOB8",
        "outputId": "9a04b478-3ad4-47c8-f37b-a7fa1a4749ba"
      },
      "execution_count": null,
      "outputs": [
        {
          "output_type": "stream",
          "name": "stderr",
          "text": [
            "[nltk_data] Downloading package wordnet to /root/nltk_data...\n"
          ]
        },
        {
          "output_type": "execute_result",
          "data": {
            "text/plain": [
              "True"
            ]
          },
          "metadata": {},
          "execution_count": 86
        }
      ]
    },
    {
      "cell_type": "code",
      "source": [
        "from nltk.stem import WordNetLemmatizer\n",
        "ps = PorterStemmer()\n",
        "wl = WordNetLemmatizer()\n",
        "print(ps.stem(\"memories\"))\n",
        "print(wl.lemmatize(\"memories\"))\n",
        "print(ps.stem(\"wolves\"))\n",
        "print(wl.lemmatize(\"wolves\"))"
      ],
      "metadata": {
        "colab": {
          "base_uri": "https://localhost:8080/"
        },
        "id": "XtsIEZ1mHP0Z",
        "outputId": "bf70607e-25de-4bb0-cc19-1f02c8cd3479"
      },
      "execution_count": null,
      "outputs": [
        {
          "output_type": "stream",
          "name": "stdout",
          "text": [
            "memori\n",
            "memory\n",
            "wolv\n",
            "wolf\n"
          ]
        }
      ]
    },
    {
      "cell_type": "markdown",
      "source": [
        "### **Chunking**\n",
        "\n",
        "Proceso por el cual se extraen ciertas partes interesantes de un texto. Se establece un patrón para extraer y se obtiene el texto que encaja. En su versión más sencilla puede ser con expresiones regulares, aunque lo ideal es utilizar el POS Tagging."
      ],
      "metadata": {
        "id": "dnJl7U6lHkJr"
      }
    },
    {
      "cell_type": "code",
      "source": [
        "import nltk\n",
        "from nltk.tokenize import word_tokenize\n",
        "text = \"The White House is waiting for a new President.\"\n",
        "#Normalizamos\n",
        "text = \"\".join(v for v in text if v not in string.punctuation).lower()\n",
        "#Quitamos stopwords\n",
        "words = [word for word in word_tokenize(text) if word not in stop_words]\n",
        "#Tokenizamos con POS Tagging\n",
        "pos_text = word_tokenize(\" \".join(words))\n",
        "tagged_words = nltk.pos_tag(pos_text)\n",
        "print(tagged_words)\n",
        "#Pattern\n",
        "pattern = \"NP: {<JJ><NN>}\"\n",
        "parser = nltk.RegexpParser(pattern)\n",
        "output = parser.parse(tagged_words)\n",
        "print(output)"
      ],
      "metadata": {
        "id": "VqB927OJHmyg"
      },
      "execution_count": null,
      "outputs": []
    },
    {
      "cell_type": "markdown",
      "source": [
        "### **Chinking**\n",
        "\n",
        "Proceso por el cual se borrar ciertas partes interesantes de un texto. "
      ],
      "metadata": {
        "id": "3ahZ5cuqHhDy"
      }
    },
    {
      "cell_type": "code",
      "source": [
        "#Quitar stopwords\n",
        "from nltk.corpus import stopwords\n",
        "stop_words = stopwords.words(\"english\")\n",
        "print(stop_words)\n",
        "#Habitualmente este conjunto también lo hay que parametrizar"
      ],
      "metadata": {
        "id": "JV6R3teAH8ix"
      },
      "execution_count": null,
      "outputs": []
    },
    {
      "cell_type": "code",
      "source": [
        "nltk.download('averaged_perceptron_tagger')"
      ],
      "metadata": {
        "id": "cQDeMG1RIBkP"
      },
      "execution_count": null,
      "outputs": []
    },
    {
      "cell_type": "code",
      "source": [
        "import nltk\n",
        "from nltk.chunk.regexp import ChunkRule\n",
        "from nltk.tokenize import word_tokenize\n",
        "from nltk.chunk import RegexpChunkParser \n",
        "text = \"The White House is waiting for a new President.\"\n",
        "#Normalizamos\n",
        "text = \"\".join(v for v in text if v not in string.punctuation).lower()\n",
        "#Quitamos stopwords\n",
        "words = [word for word in word_tokenize(text) if word not in stop_words]\n",
        "#Tokenizamos con POS Tagging\n",
        "pos_text = word_tokenize(\" \".join(words))\n",
        "tagged_words = nltk.pos_tag(pos_text)\n",
        "print(tagged_words)\n",
        "#Pattern\n",
        "ur = ChunkRule('<NN>', 'single noun') \n",
        "parser = nltk.RegexpChunkParser([ur])\n",
        "output = parser.parse(tagged_words)\n",
        "print(output)"
      ],
      "metadata": {
        "id": "o4xLYMgbHi31"
      },
      "execution_count": null,
      "outputs": []
    },
    {
      "cell_type": "markdown",
      "source": [
        "### **POS Tagging**\n",
        "\n",
        "Proceso por el cual se asignan las categorías sintácticas a las diferentes palabras."
      ],
      "metadata": {
        "id": "n6RsKdYbIbTO"
      }
    },
    {
      "cell_type": "code",
      "source": [
        "nltk.download('averaged_perceptron_tagger')\n",
        "nltk.download('tagsets')"
      ],
      "metadata": {
        "id": "eORteoxGIdMi"
      },
      "execution_count": null,
      "outputs": []
    },
    {
      "cell_type": "code",
      "source": [
        "import nltk\n",
        "from nltk.tokenize import word_tokenize\n",
        "text = \"Most senior Democrats and former Justice Department officials agree a top contender for the position is Sally Q. Yates, the former deputy attorney general whose tenure stretched from 2015 to the early, tumultuous days of the Trump administration. Other names under consideration include Sen. Doug Jones (D-Ala.), former homeland security secretary Jeh Johnson, former Massachusetts governor Deval Patrick, California Attorney General Xavier Becerra and former White House adviser Lisa Monaco. Behind the scenes, each Democratic contender has a constituency as well as detractors. But whomever Biden picks will have to be confirmed by a Senate that is currently controlled by Republicans, and take command of a department wracked by accusations of politicization.\"\n",
        "#Normalizamos\n",
        "text = \"\".join(v for v in text if v not in string.punctuation).lower()\n",
        "#Quitamos stopwords\n",
        "words = [word for word in word_tokenize(text) if word not in stop_words]\n",
        "#Tokenizamos con POS Taggin\n",
        "pos_text = word_tokenize(\" \".join(words))\n",
        "nltk.pos_tag(pos_text)"
      ],
      "metadata": {
        "id": "QnaD9NIrIelw"
      },
      "execution_count": null,
      "outputs": []
    },
    {
      "cell_type": "markdown",
      "source": [
        "### **Semántica con Wordnet**\n",
        "\n",
        "Proceso por el cual se consulta el significado de las palabras. En este caso utilizando una ontología o, mejor dicho, una base de datos léxica como Wordnet."
      ],
      "metadata": {
        "id": "ZLffD3ttHdn4"
      }
    },
    {
      "cell_type": "code",
      "source": [
        "nltk.download('omw-1.4')"
      ],
      "metadata": {
        "id": "U4z56SnRIK4z"
      },
      "execution_count": null,
      "outputs": []
    },
    {
      "cell_type": "code",
      "source": [
        "from nltk.corpus import wordnet\n",
        "\n",
        "for words in wordnet.synsets(\"Happy\"):\n",
        "  for lemma in words.lemmas():\n",
        "    print(lemma)\n",
        "  print()\n",
        "\n",
        "word = wordnet.synsets(\"Happy\")[0]\n",
        "print(word.name())\n",
        "print(word.definition())\n",
        "print(word.examples())\n",
        "print(word.hypernyms())\n",
        "print(word.hyponyms())\n",
        "\n",
        "\n",
        "syns = []\n",
        "ants = []\n",
        "for word in wordnet.synsets(\"New\"):\n",
        "  for lemma in word.lemmas():\n",
        "    syns.append(lemma.name())\n",
        "    if lemma.antonyms():\n",
        "      ants.append(lemma.antonyms()[0].name())\n",
        "print(syns)\n",
        "print(ants)"
      ],
      "metadata": {
        "id": "Zx3N8I_WHbDa"
      },
      "execution_count": null,
      "outputs": []
    },
    {
      "cell_type": "markdown",
      "source": [
        "## 🚦 Evaluación inicial\n",
        "\n",
        "* Operaciones básicas para gestionar el nivel léxico pueden llegar a complicarse enormemente dependiendo del contexto. Por ejemplo: acrónimos.\n",
        "* Reconocimiento de entidades \"a mano\" require de fuente de conocimiento externa. Por ejemplo: un listado de entidades a reconocer, nombres, lugares, etc.\n",
        "* Las reglas gramaticales se deben codificar \"a mano\".\n",
        "* La semántica del lenguaje no queda recogida de ninguna forma.\n",
        "* No existe una forma de representar el texto y sus relaciones.\n",
        "* Dificultad en enlazar las tareas propias del procesamiento de lenguaje natural.\n",
        "* Muchos de los problemas intrínsecos al procesamiento del lenguaje natural no se resuelven fácilmente.\n",
        "\n",
        "**Necesidad de bibliotecas y configuración.**\n",
        "\n",
        "* NLP tradicional requiere comprensión del contexto.\n",
        "* Un proceso de configuración (manual).\n",
        "* Ontologías para mejorar la semántica.\n",
        "* Predictivo e interpretable.\n",
        "* No muchos datos.\n",
        "* Rápido."
      ],
      "metadata": {
        "id": "iDBrDdC94bwb"
      }
    },
    {
      "cell_type": "markdown",
      "source": [
        "# ⏫ Procesamiento de lenguaje natural con Python Spacy"
      ],
      "metadata": {
        "id": "qZSSngMJWM73"
      }
    },
    {
      "cell_type": "markdown",
      "source": [
        "* Industrial-Strength Natural Language Processing\n",
        "* Orientado a la generación de soluciones de procesamiento de lenguaje natural.\n",
        "* No es un API, es una biblioteca de funcionalidades habituales.\n",
        "\n",
        "Algunas características:\n",
        "\n",
        "* ❎ Support for 66+ languages\n",
        "* ❎ 73 trained pipelines for 22 languages\n",
        "* ❎ Multi-task learning with pretrained transformers like BERT\n",
        "* ❎ Pretrained word vectors\n",
        "* ❎ State-of-the-art speed\n",
        "* ❎ Production-ready training system\n",
        "* ❎ Linguistically-motivated tokenization\n",
        "* ❎ Components for named entity recognition, part-of-speech tagging, dependency parsing, sentence segmentation, text classification, lemmatization, morphological analysis, entity linking and more\n",
        "* ❎ Easily extensible with custom components and attributes\n",
        "* ❎ Support for custom models in PyTorch, TensorFlow and other frameworks\n",
        "* ❎ Built in visualizers for syntax and NER\n",
        "* ❎ Easy model packaging, deployment and workflow management\n",
        "* ❎ Robust, rigorously evaluated accuracy"
      ],
      "metadata": {
        "id": "_22RgGG-kpbE"
      }
    },
    {
      "cell_type": "markdown",
      "source": [
        "* Modelo de procesamiento basado en un [pipeline](https://spacy.io/usage/processing-pipelines).\n",
        "\n",
        "![Imagen oficial](https://d33wubrfki0l68.cloudfront.net/3ad0582d97663a1272ffc4ccf09f1c5b335b17e9/7f49c/pipeline-fde48da9b43661abcdf62ab70a546d71.svg)\n",
        "\n",
        "\n",
        "* Ver documentación: https://spacy.io/usage/processing-pipelines\n",
        "\n",
        "\n"
      ],
      "metadata": {
        "id": "73PkIPRW60xX"
      }
    },
    {
      "cell_type": "code",
      "source": [
        "!python -m spacy download es_core_news_sm"
      ],
      "metadata": {
        "id": "0KE4tYzu6vVJ"
      },
      "execution_count": null,
      "outputs": []
    },
    {
      "cell_type": "code",
      "execution_count": null,
      "metadata": {
        "id": "R946OyoGw-e_"
      },
      "outputs": [],
      "source": [
        "#pip install -U spacy\n",
        "#python -m spacy download en_core_web_sm\n",
        "import spacy\n",
        "\n",
        "#Load Spanish tokenizer, tagger, parser and NER\n",
        "nlp = spacy.load(\"es_core_news_sm\")\n",
        "\n",
        "#Procesamiento de texto (también por líneas)\n",
        "input_text = \"Jaca es la capital de la comarca de La Jacetania y dista 72 km de Huesca, la capital provincial, y 143 km de Zaragoza. Está situada en el norte de la provincia, en el valle del Aragón, único gran valle paralelo al eje de la cadena pirenaica. La prolongación de este eje, desde la Cuenca de Pamplona, al oeste, hasta la Cuenca de Tremp, al este, facilita las comunicaciones entre Navarra y Cataluña a través del norte de Aragón.\"\n",
        "doc = nlp(input_text)\n",
        "\n"
      ]
    },
    {
      "cell_type": "code",
      "source": [
        "#Visualizar dependencias\n",
        "from spacy import displacy\n",
        "displacy.render(doc, style=\"dep\", jupyter=True)"
      ],
      "metadata": {
        "id": "Xhje4q3F8mwL"
      },
      "execution_count": null,
      "outputs": []
    },
    {
      "cell_type": "code",
      "source": [
        "#POS Tagging\n",
        "for token in doc:\n",
        "    print(token.text, token.lemma_, token.pos_, token.tag_, token.dep_, token.shape_, token.is_alpha, token.is_stop)"
      ],
      "metadata": {
        "id": "8wA4UacJARHq"
      },
      "execution_count": null,
      "outputs": []
    },
    {
      "cell_type": "code",
      "source": [
        "#Morfología\n",
        "for token in doc:\n",
        "  print(token.text+ \"  \"+str(token.morph))"
      ],
      "metadata": {
        "id": "8zx6htUo-oJr"
      },
      "execution_count": null,
      "outputs": []
    },
    {
      "cell_type": "code",
      "source": [
        "#Lematización\n",
        "for token in doc:\n",
        "  print(token.text+ \"  \"+token.lemma_)"
      ],
      "metadata": {
        "id": "q4gX6eVg_P1Q"
      },
      "execution_count": null,
      "outputs": []
    },
    {
      "cell_type": "code",
      "source": [
        "#Sintaxis\n",
        "print(\"Noun phrases:\", [chunk.text for chunk in doc.noun_chunks])\n",
        "print(\"Verbos:\", [token.lemma_ for token in doc if token.pos_ == \"VERB\"])"
      ],
      "metadata": {
        "id": "tNKUi7YU75u5",
        "colab": {
          "base_uri": "https://localhost:8080/"
        },
        "outputId": "9ec2d0c6-57f4-4623-948a-fafda014c747"
      },
      "execution_count": null,
      "outputs": [
        {
          "output_type": "stream",
          "name": "stdout",
          "text": [
            "Noun phrases: ['Jaca', 'la comarca', 'La Jacetania', 'dista', 'km', 'Huesca', ', la capital provincial', 'km', 'Zaragoza', 'el norte', 'la provincia', ', en el valle', 'Aragón', ', único gran valle', 'paralelo al eje', 'la cadena pirenaica', 'La prolongación', 'este eje', ', desde la Cuenca de Pamplona, al oeste', ', hasta la Cuenca de Tremp', ', al este', 'las comunicaciones', 'Navarra', 'Cataluña', 'través del norte', 'Aragón']\n",
            "Verbos: ['facilitar']\n"
          ]
        }
      ]
    },
    {
      "cell_type": "code",
      "source": [
        "#Chunk de nombres\n",
        "for chunk in doc.noun_chunks:\n",
        "    print(chunk.text, chunk.root.text, chunk.root.dep_, chunk.root.head.text)"
      ],
      "metadata": {
        "id": "UjgAARQY_maz"
      },
      "execution_count": null,
      "outputs": []
    },
    {
      "cell_type": "code",
      "source": [
        "#Árbol de parseado\n",
        "for token in doc:\n",
        "    print(token.text, token.dep_, token.head.text, token.head.pos_, [child for child in token.children])"
      ],
      "metadata": {
        "id": "xrL5baxU_0sp"
      },
      "execution_count": null,
      "outputs": []
    },
    {
      "cell_type": "code",
      "source": [
        "#Reconocimiento de entidades\n",
        "for ent in doc.ents:\n",
        "    print(ent.text, ent.start_char, ent.end_char, ent.label_)"
      ],
      "metadata": {
        "id": "luJ8hjof76z8"
      },
      "execution_count": null,
      "outputs": []
    },
    {
      "cell_type": "code",
      "source": [
        "#Visualización de texto etiquetado\n",
        "displacy.render(doc, style=\"ent\", jupyter=True)"
      ],
      "metadata": {
        "id": "Vb57ErUD8yvw"
      },
      "execution_count": null,
      "outputs": []
    },
    {
      "cell_type": "code",
      "source": [
        "#Tokenización personalizada. Ver ejemplos: https://spacy.io/usage/linguistic-features#tokenization\n",
        "\n",
        "import spacy\n",
        "from spacy.symbols import ORTH\n",
        "\n",
        "nlp = spacy.load(\"en_core_web_sm\")\n",
        "doc = nlp(\"gimme that\")  # phrase to tokenize\n",
        "print([w.text for w in doc])  # ['gimme', 'that']\n",
        "\n",
        "# Add special case rule\n",
        "special_case = [{ORTH: \"gim\"}, {ORTH: \"me\"}]\n",
        "nlp.tokenizer.add_special_case(\"gimme\", special_case)\n",
        "\n",
        "# Check new tokenization\n",
        "print([w.text for w in nlp(\"gimme that\")])  # ['gim', 'me', 'that']"
      ],
      "metadata": {
        "id": "0EWDb1QxA3RF",
        "colab": {
          "base_uri": "https://localhost:8080/"
        },
        "outputId": "d6214b07-35f1-4ce0-b7a5-b847ea938312"
      },
      "execution_count": null,
      "outputs": [
        {
          "output_type": "stream",
          "name": "stdout",
          "text": [
            "['gimme', 'that']\n",
            "['gim', 'me', 'that']\n"
          ]
        }
      ]
    },
    {
      "cell_type": "code",
      "source": [
        "#Representación como un vector\n",
        "import spacy\n",
        "nlp = spacy.load(\"es_core_news_sm\")\n",
        "# Procesando texto\n",
        "doc = nlp(\"Dos coches están aparcados en la universidad\")\n",
        "# Ver el vector\n",
        "coches_vector = doc[1].vector\n",
        "print(coches_vector)"
      ],
      "metadata": {
        "id": "f5p-Kdn9DFQN"
      },
      "execution_count": null,
      "outputs": []
    },
    {
      "cell_type": "code",
      "source": [
        "#Similaridad de palabras\n",
        "\n",
        "import spacy\n",
        "\n",
        "nlp = spacy.load(\"es_core_news_sm\")\n",
        "\n",
        "doc = nlp(\"coche y vehículo\")\n",
        "token1, token2 = doc[0], doc[2]\n",
        "\n",
        "similarity = token1.similarity(token2)\n",
        "print(similarity)\n",
        "\n",
        "\n",
        "doc = nlp(\"coche y moto\")\n",
        "token1, token2 = doc[0], doc[2]\n",
        "\n",
        "similarity = token1.similarity(token2)\n",
        "print(similarity)\n",
        "\n",
        "\n",
        "doc = nlp(\"coche y árbol\")\n",
        "token1, token2 = doc[0], doc[2]\n",
        "\n",
        "similarity = token1.similarity(token2)\n",
        "print(similarity)"
      ],
      "metadata": {
        "id": "NZiBivvKDzxs"
      },
      "execution_count": null,
      "outputs": []
    },
    {
      "cell_type": "code",
      "source": [
        "#Similaridad a nivel de frase\n",
        "import spacy\n",
        "\n",
        "nlp = spacy.load(\"es_core_news_sm\")\n",
        "doc1 = nlp(\"Hoy hace un día caluroso\")\n",
        "doc2 = nlp(\"Es un día soleado\")\n",
        "\n",
        "similarity = doc1.similarity(doc2)\n",
        "print(similarity)\n",
        "\n",
        "doc1 = nlp(\"Hoy hace un día caluroso\")\n",
        "doc2 = nlp(\"Es un día lluvioso\")\n",
        "\n",
        "similarity = doc1.similarity(doc2)\n",
        "print(similarity)"
      ],
      "metadata": {
        "id": "TG8MRxiyDcJ9"
      },
      "execution_count": null,
      "outputs": []
    },
    {
      "cell_type": "markdown",
      "source": [
        "# 🦾 Tendencias en procesamiento de lenguaje natural\n"
      ],
      "metadata": {
        "id": "Uy-5WvP-In6D"
      }
    },
    {
      "cell_type": "markdown",
      "source": [
        "##Notas generales sobre Deep Learning\n",
        "\n",
        "* ¿Cómo se puede aplicar DL para NLP?\n",
        "* ¿Cómo se representan las palabras?\n",
        "\n",
        "Referencias:\n",
        "\n",
        "* http://mccormickml.com/2016/04/19/word2vec-tutorial-the-skip-gram-model/\n",
        "* http://jalammar.github.io/mit-analytics-lab-talk/"
      ],
      "metadata": {
        "id": "YUOZyqtcIszP"
      }
    },
    {
      "cell_type": "code",
      "source": [
        "from IPython.display import IFrame\n",
        "IFrame(src='//www.slideshare.net/slideshow/embed_code/key/K23kAMkMyKHDUr', width=595, height=485)"
      ],
      "metadata": {
        "id": "7z2CZ3sBYJ3H"
      },
      "execution_count": null,
      "outputs": []
    },
    {
      "cell_type": "markdown",
      "source": [
        "### Representación de información textual\n",
        "\n",
        "* One-hot encoding: dado un vector de vocabulario donde cada palabra está en un posición, un texto se corresponde con un vector de 0's y 1's.\n",
        "  * Problema: no guarda el contexto entre las palabras\n",
        "\n",
        "* Word Embeddings: se representa la probabilidad de aparición de las palabras de forma conjunta con una ventana de tamaño n.\n",
        "\n",
        "![Curso de Stanford NLP](https://github.com/chemaar/python-programming-course/raw/master/intro-nlp-2022/imgs/word2vec.png)\n",
        "\n",
        "Fuente: [Curso de Stanford NLP](http://web.stanford.edu/class/cs224n/slides/cs224n-2022-lecture01-wordvecs1.pd)\n",
        "\n",
        "\n",
        "Enlaces interesantes:\n",
        "\n",
        "   * Teoría: http://web.stanford.edu/class/cs224n/slides/cs224n-2022-lecture01-wordvecs1.pdf\n",
        "   * [\"Efficient Estimation of Word Representations in Vector Space\"](https://arxiv.org/pdf/1301.3781.pdf)\n",
        "   * [Glove](https://nlp.stanford.edu/projects/glove/)\n",
        "   * [Tutorial de Gooogle](https://colab.research.google.com/github/tensorflow/docs/blob/master/site/en/tutorials/text/word_embeddings.ipynb)"
      ],
      "metadata": {
        "id": "UH8OlkpgEj1y"
      }
    },
    {
      "cell_type": "markdown",
      "source": [
        "## **Word Embeddings**\n"
      ],
      "metadata": {
        "id": "aabDk9_RIxYR"
      }
    },
    {
      "cell_type": "markdown",
      "source": [
        "* Ver en Projector las palabras similares a \"city\": https://projector.tensorflow.org/\n",
        "\n",
        "![Visualizando city](https://github.com/chemaar/python-programming-course/raw/master/intro-nlp-2022/imgs/projector.png)"
      ],
      "metadata": {
        "id": "59Sd64E6Gg9B"
      }
    },
    {
      "cell_type": "markdown",
      "source": [
        "### Modelos para la representación de información en vectores\n",
        "\n",
        "* Skip-gram: dada una palabra, ¿cuál es el conjunto de palabras en una ventana más probable?\n",
        "* C-BOW: dado un contexto (conjunto de palabras), ¿cuál es la palabra más probable?\n",
        "\n",
        "![Curso de Stanford NLP](https://github.com/chemaar/python-programming-course/raw/master/intro-nlp-2022/imgs/skip-gram.png)\n",
        "\n",
        "Fuente: [Exploiting Similarities among Languages for Machine Translation](https://arxiv.org/pdf/1309.4168v1.pdf)"
      ],
      "metadata": {
        "id": "ptP-Zt7BHWAv"
      }
    },
    {
      "cell_type": "markdown",
      "source": [
        "### **Word embeddings: ejemplo gráfico**\n",
        "\n",
        "* Supongamos que queremos generar titulares deportivos...y tenemos\n",
        "  * Una muestra de titulares de periódicos\n",
        "* Necesitamos...\n",
        "  * Aprender cómo escriben los periodistas y generar titulares"
      ],
      "metadata": {
        "id": "l3g5f93x5uhj"
      }
    },
    {
      "cell_type": "markdown",
      "source": [
        "El proceso sería:\n",
        "\n",
        "1.   Texto de ejemplo (se puede hacer preprocesamiento)\n",
        "\n",
        "![Texto de ejemplo](https://github.com/chemaar/python-programming-course/raw/master/intro-nlp-2022/imgs/embed_text.png)\n",
        "\n",
        "2.  Generación de pares con tamaño de ventana 2.\n",
        "\n",
        "3.  Entrenamiento (generación de embeddings).\n",
        "\n",
        "4.  Predicción de texto.\n",
        "\n",
        "\n",
        "**Esto funcionaría sólo para este contexto del partido.**\n",
        "\n",
        "Un partido de una competición NO es generación de texto perse, sino más bien eventos. Así también lo veían en Stanford:\n",
        "\n",
        "![Stanford StoryTelling](https://github.com/chemaar/python-programming-course/raw/master/intro-nlp-2022/imgs/story_telling_1.png)\n",
        "\n",
        "![Stanford StoryTelling](https://github.com/chemaar/python-programming-course/raw/master/intro-nlp-2022/imgs/story_telling_2.png)\n",
        "\n",
        "**Por ello, cambiamos el proceso.**\n",
        "\n",
        "1.   **Texto de ejemplo (se puede hacer preprocesamiento)**\n",
        "\n",
        "![Texto de ejemplo](https://github.com/chemaar/python-programming-course/raw/master/intro-nlp-2022/imgs/embed_text.png)\n",
        "\n",
        "2.  **Generación de pares con tamaño de ventana 2.**\n",
        "\n",
        "![Texto de ejemplo](https://github.com/chemaar/python-programming-course/raw/master/intro-nlp-2022/imgs/embed_pattern.png)\n",
        "\n",
        "3.  **Entrenamiento (generación de embeddings).**\n",
        "\n",
        "![Texto de ejemplo](https://github.com/chemaar/python-programming-course/raw/master/intro-nlp-2022/imgs/embed_result.png)\n",
        "\n",
        "4.  **Predicción de texto.**\n",
        "\n",
        "5.  **Enriquecimiento de texto con un modelo de lenguaje existente (ej: BERT).**\n",
        "\n",
        "\n",
        "**En este caso se definieron varios contextos y se aplicó el mismo proceso...**\n",
        "\n",
        "* Objetivos del equipo y alineación con clasificación actual y resultado.\n",
        "* El tiempo (siempre relevante)\n",
        "* Los eventos del partido\n",
        "* ..."
      ],
      "metadata": {
        "id": "NX-4ZcTx6ESm"
      }
    },
    {
      "cell_type": "code",
      "source": [
        "from IPython.display import IFrame\n",
        "IFrame(src='https://www.youtube.com/embed/xnOxJL6-D-E', width=560, height=315)"
      ],
      "metadata": {
        "colab": {
          "base_uri": "https://localhost:8080/",
          "height": 336
        },
        "id": "eddyPfwk-A1C",
        "outputId": "28b0741e-8671-4a2f-c394-c7a106cd0fee"
      },
      "execution_count": null,
      "outputs": [
        {
          "output_type": "execute_result",
          "data": {
            "text/plain": [
              "<IPython.lib.display.IFrame at 0x7f2c60011a90>"
            ],
            "text/html": [
              "\n",
              "        <iframe\n",
              "            width=\"560\"\n",
              "            height=\"315\"\n",
              "            src=\"https://www.youtube.com/embed/xnOxJL6-D-E\"\n",
              "            frameborder=\"0\"\n",
              "            allowfullscreen\n",
              "        ></iframe>\n",
              "        "
            ]
          },
          "metadata": {},
          "execution_count": 35
        }
      ]
    },
    {
      "cell_type": "markdown",
      "source": [
        "### **Word embeddings paso a paso**"
      ],
      "metadata": {
        "id": "uyFo_TZLsYj7"
      }
    },
    {
      "cell_type": "code",
      "source": [
        "#Fuente original: https://towardsdatascience.com/creating-word-embeddings-coding-the-word2vec-algorithm-in-python-using-deep-learning-b337d0ba17a8\n",
        "\n",
        "\n",
        "import itertools\n",
        "import pandas as pd\n",
        "import numpy as np\n",
        "import re\n",
        "import os\n",
        "from tqdm import tqdm\n",
        "\n",
        "\n",
        "import matplotlib.pyplot as plt\n",
        "\n",
        "# Deep learning: \n",
        "from keras.models import Input, Model\n",
        "from keras.layers import Dense\n",
        "\n",
        "#Utility\n",
        "\n",
        "def create_unique_word_dict(text:list) -> dict:\n",
        "    \"\"\"\n",
        "    A method that creates a dictionary where the keys are unique words\n",
        "    and key values are indices\n",
        "    \"\"\"\n",
        "    # Getting all the unique words from our text and sorting them alphabetically\n",
        "    words = list(set(text))\n",
        "    words.sort()\n",
        "\n",
        "    # Creating the dictionary for the unique words\n",
        "    unique_word_dict = {}\n",
        "    for i, word in enumerate(words):\n",
        "        unique_word_dict.update({\n",
        "            word: i\n",
        "        })\n",
        "\n",
        "    return unique_word_dict "
      ],
      "metadata": {
        "id": "vMc7vqWbtMHG"
      },
      "execution_count": null,
      "outputs": []
    },
    {
      "cell_type": "code",
      "source": [
        "from scipy import sparse\n",
        "\n",
        "texts = [\"Un coche es un vehículo\", \"Una moto es un vehículo\", \"Un coche es rápido\", \"Una moto es menos rápida que un coche\"]\n",
        "window = 2\n",
        "\n",
        "word_lists = []\n",
        "all_text = []\n",
        "\n",
        "for text in texts:\n",
        "    text = [token.lower() for token in text.split()]\n",
        "    all_text += text \n",
        "    # Creating a context dictionary\n",
        "    for i, word in enumerate(text):\n",
        "        for w in range(window):\n",
        "            # Getting the context that is ahead by *window* words\n",
        "            if i + 1 + w < len(text): \n",
        "                word_lists.append([word] + [text[(i + 1 + w)]])\n",
        "            # Getting the context that is behind by *window* words    \n",
        "            if i - w - 1 >= 0:\n",
        "                word_lists.append([word] + [text[(i - w - 1)]])\n",
        "\n",
        "unique_word_dict = create_unique_word_dict(all_text)\n",
        "\n",
        "# Defining the number of features (unique words)\n",
        "n_words = len(unique_word_dict)\n",
        "# Getting all the unique words \n",
        "words = list(unique_word_dict.keys())\n",
        "\n",
        "# Creating the X and Y matrices using one hot encoding\n",
        "X = []\n",
        "Y = []\n",
        "\n",
        "for i, word_list in tqdm(enumerate(word_lists)):\n",
        "    # Getting the indices\n",
        "    main_word_index = unique_word_dict.get(word_list[0])\n",
        "    context_word_index = unique_word_dict.get(word_list[1])\n",
        "\n",
        "    # Creating the placeholders   \n",
        "    X_row = np.zeros(n_words)\n",
        "    Y_row = np.zeros(n_words)\n",
        "\n",
        "    # One hot encoding the main word\n",
        "    X_row[main_word_index] = 1\n",
        "\n",
        "    # One hot encoding the Y matrix words \n",
        "    Y_row[context_word_index] = 1\n",
        "\n",
        "    # Appending to the main matrices\n",
        "    X.append(X_row)\n",
        "    Y.append(Y_row)\n",
        "\n",
        "X = np.asarray(X)\n",
        "Y = np.asarray(Y)\n",
        "\n",
        "# Defining the size of the embedding\n",
        "embed_size = 2 #This is the size of the window\n",
        "\n",
        "# Building the network\n",
        "inp = Input(shape=(X.shape[1],))\n",
        "x = Dense(units=embed_size, activation='linear')(inp)\n",
        "x = Dense(units=Y.shape[1], activation='softmax')(x)\n",
        "model = Model(inputs=inp, outputs=x)\n",
        "model.compile(loss = 'categorical_crossentropy', optimizer = 'adam')\n",
        "\n",
        "# Optimizing the network weights\n",
        "model.fit(x=X, y=Y, batch_size=256, epochs=1000, verbose=False)\n",
        "\n",
        "# Obtaining the weights from the neural network. \n",
        "# These are the so called word embeddings\n",
        "\n",
        "# The input layer \n",
        "weights = model.get_weights()[0]\n",
        "\n",
        "# Creating a dictionary to store the embeddings in. The key is a unique word and \n",
        "# the value is the numeric vector\n",
        "embedding_dict = {}\n",
        "for word in words: \n",
        "    embedding_dict.update({\n",
        "        word: weights[unique_word_dict.get(word)]\n",
        "        })\n",
        "\n",
        "# Ploting the embeddings\n",
        "plt.figure(figsize=(10, 10))\n",
        "for word in list(unique_word_dict.keys()):\n",
        "    coord = embedding_dict.get(word)\n",
        "    plt.scatter(coord[0], coord[1])\n",
        "    plt.annotate(word, (coord[0], coord[1]))   "
      ],
      "metadata": {
        "colab": {
          "base_uri": "https://localhost:8080/",
          "height": 610
        },
        "id": "kiKmrVSVvrfh",
        "outputId": "6cbc1ae6-6808-496a-c2ac-57a1a543440a"
      },
      "execution_count": null,
      "outputs": [
        {
          "output_type": "stream",
          "name": "stderr",
          "text": [
            "64it [00:00, 129741.64it/s]\n"
          ]
        },
        {
          "output_type": "display_data",
          "data": {
            "text/plain": [
              "<Figure size 720x720 with 1 Axes>"
            ],
            "image/png": "[encoded data removed]"
          },
          "metadata": {
            "needs_background": "light"
          }
        }
      ]
    },
    {
      "cell_type": "markdown",
      "source": [
        "* Un ejemplo con Gensim..."
      ],
      "metadata": {
        "id": "F3wFVnNZyX_1"
      }
    },
    {
      "cell_type": "code",
      "source": [
        "import gensim\n",
        "import gensim.downloader as api\n",
        "from sklearn.metrics.pairwise import cosine_similarity\n",
        "import seaborn as sns\n",
        "import matplotlib.pyplot as plt\n",
        "import warnings\n",
        "warnings.filterwarnings('ignore')\n",
        "# Download embeddings (66MB, glove, trained on wikipedia)\n",
        "model = api.load(\"glove-wiki-gigaword-50\")"
      ],
      "metadata": {
        "id": "ZGeNHNadI0Tm"
      },
      "execution_count": null,
      "outputs": []
    },
    {
      "cell_type": "code",
      "source": [
        "model['king']"
      ],
      "metadata": {
        "id": "vL2xfNVtI3sD"
      },
      "execution_count": null,
      "outputs": []
    },
    {
      "cell_type": "code",
      "source": [
        "def plot_embeddings(vectors, labels=None):\n",
        "    n_vectors = len(vectors)\n",
        "    fig = plt.figure(figsize=(12, n_vectors))\n",
        "    # ax = fig.add_axes([0.1, 0.1, 0.8, 0.8])\n",
        "    # ax = fig.add_axes([1, 1, 1, 1])\n",
        "    ax = plt.gca()\n",
        "    \n",
        "    sns.heatmap(vectors, cmap='RdBu', vmax=2, vmin=-2, ax=ax)\n",
        "    \n",
        "    if labels:\n",
        "        ax.set_yticklabels(labels,rotation=0)\n",
        "        ax.tick_params(axis='both', which='major', labelsize=30)\n",
        "        \n",
        "    plt.tick_params(axis='x',          # changes apply to the x-axis\n",
        "        which='both',      # both major and minor ticks are affected\n",
        "        bottom=False,      # ticks along the bottom edge are off\n",
        "        top=False,         # ticks along the top edge are off\n",
        "        labelbottom=False) # labels along the bottom edge are off\n",
        "    \n",
        "    # From https://github.com/mwaskom/seaborn/issues/1773\n",
        "    # fix for mpl bug that cuts off top/bottom of seaborn viz\n",
        "    b, t = plt.ylim() # discover the values for bottom and top\n",
        "    b += 0.5 # Add 0.5 to the bottom\n",
        "    t -= 0.5 # Subtract 0.5 from the top\n",
        "    plt.ylim(b, t) # update the ylim(bottom, top) values\n",
        "    plt.show() # ta-da!\n",
        "\n",
        "plot_embeddings([model['king'], model['man'], model['woman'], model['girl'], model['boy']],\n",
        "              ['king', 'man', 'woman', 'girl', 'boy'])"
      ],
      "metadata": {
        "colab": {
          "base_uri": "https://localhost:8080/",
          "height": 313
        },
        "id": "GjSQj0rmI6XJ",
        "outputId": "f79045b0-9a87-42cc-b09a-a76bcea36439"
      },
      "execution_count": null,
      "outputs": [
        {
          "output_type": "display_data",
          "data": {
            "text/plain": [
              "<Figure size 864x360 with 2 Axes>"
            ],
            "image/png": "[encoded data removed]"
          },
          "metadata": {
            "needs_background": "light"
          }
        }
      ]
    },
    {
      "cell_type": "markdown",
      "source": [
        "https://ars.els-cdn.com/content/image/1-s2.0-S2666651021000231-gr9.jpg"
      ],
      "metadata": {
        "id": "F94mkXrPLVjl"
      }
    },
    {
      "cell_type": "markdown",
      "source": [
        "## **Transformers** y modelos de lenguaje\n",
        "\n",
        "* Visión:\n",
        "\n",
        "![Transformers](https://ars.els-cdn.com/content/image/1-s2.0-S2666651021000231-gr9.jpg)\n",
        "\n",
        "Fuente: [Pre-trained models: Past, present and future](https://www.sciencedirect.com/science/article/pii/S2666651021000231)\n",
        "\n",
        "* Tecnología:\n",
        "\n",
        "![Tecnología Transformers](https://ars.els-cdn.com/content/image/1-s2.0-S2666651021000231-gr4.jpg)\n",
        "\n",
        "* Evolución: billones (miles de millones de parámetros). GPT-3, LaMDA, PALM (540b), BLOOM (175b), MARIA, etc.\n",
        "\n",
        "![Evolución](https://miro.medium.com/max/1400/0*6oaNF3UEOBHX_l-s)\n",
        "\n",
        "* Técnica que representa el estado del arte para procesamiento de lenguaje natural (y, en realidad, para muchos otros problemas).\n",
        "\n",
        "\n",
        "![Paper original](https://github.com/chemaar/python-programming-course/raw/master/intro-nlp-2022/imgs/transformer.png)\n",
        "\n",
        "Fuente: [Attention Is All You Need](https://arxiv.org/abs/1706.03762)\n",
        "\n",
        "*The dominant sequence transduction models are based on complex recurrent or convolutional neural networks in an encoder-decoder configuration. The best performing models also connect the encoder and decoder through an attention mechanism. We propose a new simple network architecture, the Transformer, based solely on attention mechanisms, dispensing with recurrence and convolutions entirely.*\n",
        "\n",
        "\n",
        "Enlaces de interés:\n",
        "\n",
        "* [Transformers en el blog de Google AI](https://ai.googleblog.com/2017/08/transformer-novel-neural-network.html)\n",
        "* [Visualizando BERT](https://colab.research.google.com/drive/1hXIQ77A4TYS4y3UthWF-Ci7V7vVUoxmQ?usp=sharing)\n",
        "* [Google Palm](https://ai.googleblog.com/2022/04/pathways-language-model-palm-scaling-to.html)\n",
        "* [Bloom](https://huggingface.co/docs/transformers/model_doc/bloom) \n",
        "* [Lamda](https://ai.googleblog.com/2022/01/lamda-towards-safe-grounded-and-high.html)\n",
        "* [OPT: Open Pre-trained Transformer Language Models](https://arxiv.org/abs/2205.01068)"
      ],
      "metadata": {
        "id": "tj8_usZMHA0D"
      }
    },
    {
      "cell_type": "markdown",
      "source": [
        "## **Explorando modelos fundacionales: BERT, GPT, etc. con Huggingface**\n",
        "\n",
        "* [Bidirectional Encoder Representations from Transformers](https://arxiv.org/abs/1810.04805) es un modelo de lenguaje creado por Google.\n",
        "\n",
        "\n",
        "* https://huggingface.co/PlanTL-GOB-ES/roberta-base-bne "
      ],
      "metadata": {
        "id": "Jy4u0z-bM9qU"
      }
    },
    {
      "cell_type": "code",
      "source": [
        "!pip install -qq transformers"
      ],
      "metadata": {
        "id": "-GqihOiLMMMH",
        "colab": {
          "base_uri": "https://localhost:8080/"
        },
        "outputId": "24823ddb-b60e-43cf-b587-a2aa57cb229b"
      },
      "execution_count": null,
      "outputs": [
        {
          "output_type": "stream",
          "name": "stdout",
          "text": [
            "\u001b[K     |████████████████████████████████| 4.4 MB 5.1 MB/s \n",
            "\u001b[K     |████████████████████████████████| 596 kB 61.0 MB/s \n",
            "\u001b[K     |████████████████████████████████| 101 kB 11.2 MB/s \n",
            "\u001b[K     |████████████████████████████████| 6.6 MB 28.2 MB/s \n",
            "\u001b[?25h"
          ]
        }
      ]
    },
    {
      "cell_type": "code",
      "source": [
        "from transformers import pipeline\n"
      ],
      "metadata": {
        "id": "zWs9EGV3L_NH"
      },
      "execution_count": null,
      "outputs": []
    },
    {
      "cell_type": "code",
      "source": [
        "text = \"Jaca is a city of northeastern Spain in the province of Huesca, located near the Pyrenees and the border with France. Jaca is an ancient fort on the Aragón River, situated at the crossing of two great early medieval routes, one from Pau to Zaragoza. Jaca was the city out of which the County and Kingdom of Aragon developed. It was the capital of Aragon until 1097 and also the capital of Jacetania.\""
      ],
      "metadata": {
        "id": "ktg4eAPYL8OI"
      },
      "execution_count": null,
      "outputs": []
    },
    {
      "cell_type": "code",
      "source": [
        "import pandas as pd\n",
        "classifier = pipeline(\"text-classification\", model=\"distilbert-base-uncased-finetuned-sst-2-english\")\n",
        "outputs = classifier(text)\n",
        "pd.DataFrame(outputs)"
      ],
      "metadata": {
        "id": "aP8-_qEXMay9",
        "colab": {
          "base_uri": "https://localhost:8080/",
          "height": 81
        },
        "outputId": "0c1a68db-fb9e-4acc-8da9-e6134ce3f659"
      },
      "execution_count": null,
      "outputs": [
        {
          "output_type": "execute_result",
          "data": {
            "text/plain": [
              "      label     score\n",
              "0  POSITIVE  0.994097"
            ],
            "text/html": [
              "\n",
              "  <div id=\"df-0a4ae533-8207-4097-9cff-693087c32b06\">\n",
              "    <div class=\"colab-df-container\">\n",
              "      <div>\n",
              "<style scoped>\n",
              "    .dataframe tbody tr th:only-of-type {\n",
              "        vertical-align: middle;\n",
              "    }\n",
              "\n",
              "    .dataframe tbody tr th {\n",
              "        vertical-align: top;\n",
              "    }\n",
              "\n",
              "    .dataframe thead th {\n",
              "        text-align: right;\n",
              "    }\n",
              "</style>\n",
              "<table border=\"1\" class=\"dataframe\">\n",
              "  <thead>\n",
              "    <tr style=\"text-align: right;\">\n",
              "      <th></th>\n",
              "      <th>label</th>\n",
              "      <th>score</th>\n",
              "    </tr>\n",
              "  </thead>\n",
              "  <tbody>\n",
              "    <tr>\n",
              "      <th>0</th>\n",
              "      <td>POSITIVE</td>\n",
              "      <td>0.994097</td>\n",
              "    </tr>\n",
              "  </tbody>\n",
              "</table>\n",
              "</div>\n",
              "      <button class=\"colab-df-convert\" onclick=\"convertToInteractive('df-0a4ae533-8207-4097-9cff-693087c32b06')\"\n",
              "              title=\"Convert this dataframe to an interactive table.\"\n",
              "              style=\"display:none;\">\n",
              "        \n",
              "  <svg xmlns=\"http://www.w3.org/2000/svg\" height=\"24px\"viewBox=\"0 0 24 24\"\n",
              "       width=\"24px\">\n",
              "    <path d=\"M0 0h24v24H0V0z\" fill=\"none\"/>\n",
              "    <path d=\"M18.56 5.44l.94 2.06.94-2.06 2.06-.94-2.06-.94-.94-2.06-.94 2.06-2.06.94zm-11 1L8.5 8.5l.94-2.06 2.06-.94-2.06-.94L8.5 2.5l-.94 2.06-2.06.94zm10 10l.94 2.06.94-2.06 2.06-.94-2.06-.94-.94-2.06-.94 2.06-2.06.94z\"/><path d=\"M17.41 7.96l-1.37-1.37c-.4-.4-.92-.59-1.43-.59-.52 0-1.04.2-1.43.59L10.3 9.45l-7.72 7.72c-.78.78-.78 2.05 0 2.83L4 21.41c.39.39.9.59 1.41.59.51 0 1.02-.2 1.41-.59l7.78-7.78 2.81-2.81c.8-.78.8-2.07 0-2.86zM5.41 20L4 18.59l7.72-7.72 1.47 1.35L5.41 20z\"/>\n",
              "  </svg>\n",
              "      </button>\n",
              "      \n",
              "  <style>\n",
              "    .colab-df-container {\n",
              "      display:flex;\n",
              "      flex-wrap:wrap;\n",
              "      gap: 12px;\n",
              "    }\n",
              "\n",
              "    .colab-df-convert {\n",
              "      background-color: #E8F0FE;\n",
              "      border: none;\n",
              "      border-radius: 50%;\n",
              "      cursor: pointer;\n",
              "      display: none;\n",
              "      fill: #1967D2;\n",
              "      height: 32px;\n",
              "      padding: 0 0 0 0;\n",
              "      width: 32px;\n",
              "    }\n",
              "\n",
              "    .colab-df-convert:hover {\n",
              "      background-color: #E2EBFA;\n",
              "      box-shadow: 0px 1px 2px rgba(60, 64, 67, 0.3), 0px 1px 3px 1px rgba(60, 64, 67, 0.15);\n",
              "      fill: #174EA6;\n",
              "    }\n",
              "\n",
              "    [theme=dark] .colab-df-convert {\n",
              "      background-color: #3B4455;\n",
              "      fill: #D2E3FC;\n",
              "    }\n",
              "\n",
              "    [theme=dark] .colab-df-convert:hover {\n",
              "      background-color: #434B5C;\n",
              "      box-shadow: 0px 1px 3px 1px rgba(0, 0, 0, 0.15);\n",
              "      filter: drop-shadow(0px 1px 2px rgba(0, 0, 0, 0.3));\n",
              "      fill: #FFFFFF;\n",
              "    }\n",
              "  </style>\n",
              "\n",
              "      <script>\n",
              "        const buttonEl =\n",
              "          document.querySelector('#df-0a4ae533-8207-4097-9cff-693087c32b06 button.colab-df-convert');\n",
              "        buttonEl.style.display =\n",
              "          google.colab.kernel.accessAllowed ? 'block' : 'none';\n",
              "\n",
              "        async function convertToInteractive(key) {\n",
              "          const element = document.querySelector('#df-0a4ae533-8207-4097-9cff-693087c32b06');\n",
              "          const dataTable =\n",
              "            await google.colab.kernel.invokeFunction('convertToInteractive',\n",
              "                                                     [key], {});\n",
              "          if (!dataTable) return;\n",
              "\n",
              "          const docLinkHtml = 'Like what you see? Visit the ' +\n",
              "            '<a target=\"_blank\" href=https://colab.research.google.com/notebooks/data_table.ipynb>data table notebook</a>'\n",
              "            + ' to learn more about interactive tables.';\n",
              "          element.innerHTML = '';\n",
              "          dataTable['output_type'] = 'display_data';\n",
              "          await google.colab.output.renderOutput(dataTable, element);\n",
              "          const docLink = document.createElement('div');\n",
              "          docLink.innerHTML = docLinkHtml;\n",
              "          element.appendChild(docLink);\n",
              "        }\n",
              "      </script>\n",
              "    </div>\n",
              "  </div>\n",
              "  "
            ]
          },
          "metadata": {},
          "execution_count": 24
        }
      ]
    },
    {
      "cell_type": "code",
      "source": [
        "ner_tagger = pipeline(\"ner\", aggregation_strategy=\"simple\", model=\"dbmdz/bert-large-cased-finetuned-conll03-english\")\n",
        "outputs = ner_tagger(text)\n",
        "pd.DataFrame(outputs)"
      ],
      "metadata": {
        "id": "ULEhiyp1Mggd"
      },
      "execution_count": null,
      "outputs": []
    },
    {
      "cell_type": "code",
      "source": [
        "reader = pipeline(\"question-answering\", model=\"distilbert-base-cased-distilled-squad\")\n",
        "question = \"Where Jaca is located?\"\n",
        "outputs = reader(question=question, context=text)\n",
        "pd.DataFrame([outputs])"
      ],
      "metadata": {
        "id": "dG3Th-TfMo1x"
      },
      "execution_count": null,
      "outputs": []
    },
    {
      "cell_type": "code",
      "source": [
        "summarizer = pipeline(\"summarization\", model=\"sshleifer/distilbart-cnn-12-6\")\n",
        "outputs = summarizer(text, max_length=60, clean_up_tokenization_spaces=True)\n",
        "print(outputs[0]['summary_text'])"
      ],
      "metadata": {
        "id": "oXECQudeMzgJ"
      },
      "execution_count": null,
      "outputs": []
    },
    {
      "cell_type": "code",
      "source": [
        "text2text = pipeline(\"text2text-generation\")\n",
        "text2text(\"question: Which is capital city of Spain?\")"
      ],
      "metadata": {
        "id": "uLAcFfEJTSrG"
      },
      "execution_count": null,
      "outputs": []
    },
    {
      "cell_type": "code",
      "source": [
        "text2text(\"question: Which is capital city of Germany?\")"
      ],
      "metadata": {
        "id": "ddm5oGB1Tq6t"
      },
      "execution_count": null,
      "outputs": []
    },
    {
      "cell_type": "code",
      "source": [
        "text2text(\"translate English to German: Jaca is a good place for summer\")"
      ],
      "metadata": {
        "id": "GRCHvEFlT3SI"
      },
      "execution_count": null,
      "outputs": []
    },
    {
      "cell_type": "code",
      "source": [
        "generator = pipeline(\"text-generation\")\n",
        "text= generator(\"A football player must run and\", max_length=50, do_sample=False)[0]\n",
        "print(text['generated_text'])"
      ],
      "metadata": {
        "id": "0uBHFveWUgMJ",
        "colab": {
          "base_uri": "https://localhost:8080/"
        },
        "outputId": "6b3f1058-341a-4365-d6b6-fbc3e0aba0d0"
      },
      "execution_count": null,
      "outputs": [
        {
          "output_type": "stream",
          "name": "stderr",
          "text": [
            "No model was supplied, defaulted to gpt2 (https://huggingface.co/gpt2)\n",
            "The attention mask and the pad token id were not set. As a consequence, you may observe unexpected behavior. Please pass your input's `attention_mask` to obtain reliable results.\n",
            "Setting `pad_token_id` to `eos_token_id`:50256 for open-end generation.\n"
          ]
        },
        {
          "output_type": "stream",
          "name": "stdout",
          "text": [
            "A football player must run and pass the ball.\n",
            "\n",
            "The ball must be thrown in the air.\n",
            "\n",
            "The ball must be thrown in the air.\n",
            "\n",
            "The ball must be thrown in the air.\n",
            "\n",
            "The ball must be thrown\n"
          ]
        }
      ]
    },
    {
      "cell_type": "code",
      "source": [
        "text= generator(\"The summer in Spain is warm and\", max_length=50, do_sample=False)[0]\n",
        "print(text['generated_text'])"
      ],
      "metadata": {
        "id": "fwFmFxTlU0a5"
      },
      "execution_count": null,
      "outputs": []
    },
    {
      "cell_type": "code",
      "source": [
        "input_text = \"Jaca es la capital de la comarca de La Jacetania y dista 72 km de Huesca, la capital provincial, y 143 km de Zaragoza. Está situada en el norte de la provincia, en el valle del Aragón, único gran valle paralelo al eje de la cadena pirenaica. La prolongación de este eje, desde la Cuenca de Pamplona, al oeste, hasta la Cuenca de Tremp, al este, facilita las comunicaciones entre Navarra y Cataluña a través del norte de Aragón.\"\n",
        "ner_tagger = pipeline(\"ner\", aggregation_strategy=\"simple\", model=\"PlanTL-GOB-ES/roberta-base-bne\")\n",
        "outputs = ner_tagger(input_text)\n",
        "pd.DataFrame(outputs)"
      ],
      "metadata": {
        "id": "s6BLKmkjWI8I"
      },
      "execution_count": null,
      "outputs": []
    },
    {
      "cell_type": "markdown",
      "source": [
        "# ⛳ Actividad\n",
        "\n",
        "* Tipo: grupo (2-3 personas)\n",
        "* Objetivo: diseñar un sistema de NLP para algún problema relacionado con las humanidades (preferentemente)\n",
        "* Tiempo: 15 minutos + 3 minutos presentación\n",
        "* Entregable: 1-2 diapositvas/diagrama o similar indicando los siguientes aspectos:\n",
        "  * Historia de usuario\n",
        "    * `Como <actor> quiero <capacidad> para así <conseguir objetivo>`\n",
        "  * Acrónimo\n",
        "  * Tipología del problema: análisis de contenido/generación/etc.\n",
        "  * Ámbito\n",
        "  * Necesidades de NLP\n",
        "  * Conjuntos de datos iniciales\n",
        "  * Reutilización de datos\n",
        "  * ¿Demo?\n",
        "  "
      ],
      "metadata": {
        "id": "do2qVp12NQ29"
      }
    },
    {
      "cell_type": "markdown",
      "source": [
        "## Ejemplos de problemas\n",
        "\n",
        "*  Generación de titulares de noticias para cualquier dominio.\n",
        "*  Generación de noticias (storytelling)\n",
        "*  Topic modelling para Twitter\n",
        "*  Análisis de sentimiento\n",
        "*  Análisis de opinión de encuestas\n",
        "*  Sistema de preguntas/respuestas para periodistas (JARVIS del periodismo)\n",
        "*  Personalización y explicación de contenidos para un dominio determinado\n",
        "*  Otras apps: https://plantl.mineco.gob.es/tecnologias-lenguaje/actividades/desarrollos/Paginas/desarrollos-SW.aspx \n",
        "*  Ejemplos en el ámbito de Big Data: https://nvlpubs.nist.gov/nistpubs/SpecialPublications/NIST.SP.1500-3r2.pdf \n",
        "*  ..."
      ],
      "metadata": {
        "id": "sNuOkdHtNh0x"
      }
    },
    {
      "cell_type": "markdown",
      "source": [
        "## Análisis de Twitter stream\n",
        "\n",
        "https://www.kaggle.com/code/thebrownviking20/topic-modelling-with-spacy-and-scikit-learn/notebook"
      ],
      "metadata": {
        "id": "iRscR8ezJt0S"
      }
    },
    {
      "cell_type": "code",
      "source": [
        "!pip install tweepy"
      ],
      "metadata": {
        "id": "8_WpTqyNXRkG"
      },
      "execution_count": null,
      "outputs": []
    },
    {
      "cell_type": "code",
      "source": [
        "import tweepy\n",
        "CONSUMER_KEY=\"\"\n",
        "CONSUMER_SECRET=\"\"\n",
        "ACCESS_TOKEN=\"\"\n",
        "ACCESS_TOKEN_SECRET=\"\"\n",
        "\n",
        "auth = tweepy.OAuth1UserHandler(\n",
        "   CONSUMER_KEY, CONSUMER_SECRET, ACCESS_TOKEN, ACCESS_TOKEN_SECRET\n",
        ")\n",
        "\n",
        "api = tweepy.API(auth)\n",
        "\n",
        "public_tweets = api.home_timeline()\n",
        "for tweet in public_tweets:\n",
        "    print(tweet.text)"
      ],
      "metadata": {
        "id": "uIm1QqrlsFbj"
      },
      "execution_count": null,
      "outputs": []
    },
    {
      "cell_type": "markdown",
      "source": [
        "#Bibliografía de interés y referencias"
      ],
      "metadata": {
        "id": "GTUz1T2Nw_Gg"
      }
    },
    {
      "cell_type": "markdown",
      "source": [
        "* NLP with Deep Learning course (video lectures and exercises). URL: http://web.stanford.edu/class/cs224n/\n",
        "* Transformers united course (video lectures and exervices). URL: https://web.stanford.edu/class/cs25/\n",
        "* A Path Towards Autonomous Machine Intelligence. Yann LeCun, Junio 2022. URL: https://openreview.net/forum?id=BZ5a1r-kVsf \n",
        "* \"Yann LeCun on a vision to make AI systems learn and reason like animals and humans\". Febrero 2022. URL: https://ai.facebook.com/blog/yann-lecun-advances-in-ai-research/\n",
        "* https://www.kaggle.com/code/amananandrai/hugging-face-pipeline-examples/notebook\n",
        "* Natural Language Processing with Transformers: Building Language Applications with Hugging Face}\". 2022. Repositorio Github: https://github.com/nlp-with-transformers/notebooks\n",
        "* Transformers for Natural Language Processing - Second Edition. 2022. https://www.packtpub.com/product/transformers-for-natural-language-processing-second-edition/9781803247335\n",
        "* https://towardsdatascience.com/creating-word-embeddings-coding-the-word2vec-algorithm-in-python-using-deep-learning-b337d0ba17a8"
      ],
      "metadata": {
        "id": "CUFr1yYvxG3b"
      }
    }
  ]
}