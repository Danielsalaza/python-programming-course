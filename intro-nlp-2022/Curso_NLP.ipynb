{
  "nbformat": 4,
  "nbformat_minor": 0,
  "metadata": {
    "colab": {
      "name": "Curso_NLP.ipynb",
      "provenance": [],
      "collapsed_sections": [
        "DlwDFEJjGecu",
        "iCxagi9OHCZA",
        "x63UgYW7HMKD",
        "dnJl7U6lHkJr",
        "3ahZ5cuqHhDy",
        "n6RsKdYbIbTO",
        "ZLffD3ttHdn4"
      ],
      "authorship_tag": "ABX9TyO892H/LuEmi2PmAWlpBbEl",
      "include_colab_link": true
    },
    "kernelspec": {
      "name": "python3",
      "display_name": "Python 3"
    },
    "language_info": {
      "name": "python"
    },
    "widgets": {
      "application/vnd.jupyter.widget-state+json": {
        "3d6758fb16ae44559f5427c1d3233197": {
          "model_module": "@jupyter-widgets/controls",
          "model_name": "HBoxModel",
          "model_module_version": "1.5.0",
          "state": {
            "_dom_classes": [],
            "_model_module": "@jupyter-widgets/controls",
            "_model_module_version": "1.5.0",
            "_model_name": "HBoxModel",
            "_view_count": null,
            "_view_module": "@jupyter-widgets/controls",
            "_view_module_version": "1.5.0",
            "_view_name": "HBoxView",
            "box_style": "",
            "children": [
              "IPY_MODEL_7431a3a75bed49c4b2fe8eaca1de5d1a",
              "IPY_MODEL_cc3304d5b6bc4a28b8679c4371c39e6f",
              "IPY_MODEL_f88edf39611443b28b38bf67db093a46"
            ],
            "layout": "IPY_MODEL_1eed76c806d54e75be761b382cf71333"
          }
        },
        "7431a3a75bed49c4b2fe8eaca1de5d1a": {
          "model_module": "@jupyter-widgets/controls",
          "model_name": "HTMLModel",
          "model_module_version": "1.5.0",
          "state": {
            "_dom_classes": [],
            "_model_module": "@jupyter-widgets/controls",
            "_model_module_version": "1.5.0",
            "_model_name": "HTMLModel",
            "_view_count": null,
            "_view_module": "@jupyter-widgets/controls",
            "_view_module_version": "1.5.0",
            "_view_name": "HTMLView",
            "description": "",
            "description_tooltip": null,
            "layout": "IPY_MODEL_1f60e7a45a93480aae6d6b5b5ac92317",
            "placeholder": "​",
            "style": "IPY_MODEL_87fd56a346cd4f25a4f56060fc578546",
            "value": "Downloading: 100%"
          }
        },
        "cc3304d5b6bc4a28b8679c4371c39e6f": {
          "model_module": "@jupyter-widgets/controls",
          "model_name": "FloatProgressModel",
          "model_module_version": "1.5.0",
          "state": {
            "_dom_classes": [],
            "_model_module": "@jupyter-widgets/controls",
            "_model_module_version": "1.5.0",
            "_model_name": "FloatProgressModel",
            "_view_count": null,
            "_view_module": "@jupyter-widgets/controls",
            "_view_module_version": "1.5.0",
            "_view_name": "ProgressView",
            "bar_style": "success",
            "description": "",
            "description_tooltip": null,
            "layout": "IPY_MODEL_de0a065b5029411da65b4e1f40229ff4",
            "max": 629,
            "min": 0,
            "orientation": "horizontal",
            "style": "IPY_MODEL_cc672b0ca8b3450f83f44e3921239e5d",
            "value": 629
          }
        },
        "f88edf39611443b28b38bf67db093a46": {
          "model_module": "@jupyter-widgets/controls",
          "model_name": "HTMLModel",
          "model_module_version": "1.5.0",
          "state": {
            "_dom_classes": [],
            "_model_module": "@jupyter-widgets/controls",
            "_model_module_version": "1.5.0",
            "_model_name": "HTMLModel",
            "_view_count": null,
            "_view_module": "@jupyter-widgets/controls",
            "_view_module_version": "1.5.0",
            "_view_name": "HTMLView",
            "description": "",
            "description_tooltip": null,
            "layout": "IPY_MODEL_dc936ef56bae4b24880d09a7003c883a",
            "placeholder": "​",
            "style": "IPY_MODEL_62a94f199d4a400b91a95d9070dc31e8",
            "value": " 629/629 [00:00&lt;00:00, 17.6kB/s]"
          }
        },
        "1eed76c806d54e75be761b382cf71333": {
          "model_module": "@jupyter-widgets/base",
          "model_name": "LayoutModel",
          "model_module_version": "1.2.0",
          "state": {
            "_model_module": "@jupyter-widgets/base",
            "_model_module_version": "1.2.0",
            "_model_name": "LayoutModel",
            "_view_count": null,
            "_view_module": "@jupyter-widgets/base",
            "_view_module_version": "1.2.0",
            "_view_name": "LayoutView",
            "align_content": null,
            "align_items": null,
            "align_self": null,
            "border": null,
            "bottom": null,
            "display": null,
            "flex": null,
            "flex_flow": null,
            "grid_area": null,
            "grid_auto_columns": null,
            "grid_auto_flow": null,
            "grid_auto_rows": null,
            "grid_column": null,
            "grid_gap": null,
            "grid_row": null,
            "grid_template_areas": null,
            "grid_template_columns": null,
            "grid_template_rows": null,
            "height": null,
            "justify_content": null,
            "justify_items": null,
            "left": null,
            "margin": null,
            "max_height": null,
            "max_width": null,
            "min_height": null,
            "min_width": null,
            "object_fit": null,
            "object_position": null,
            "order": null,
            "overflow": null,
            "overflow_x": null,
            "overflow_y": null,
            "padding": null,
            "right": null,
            "top": null,
            "visibility": null,
            "width": null
          }
        },
        "1f60e7a45a93480aae6d6b5b5ac92317": {
          "model_module": "@jupyter-widgets/base",
          "model_name": "LayoutModel",
          "model_module_version": "1.2.0",
          "state": {
            "_model_module": "@jupyter-widgets/base",
            "_model_module_version": "1.2.0",
            "_model_name": "LayoutModel",
            "_view_count": null,
            "_view_module": "@jupyter-widgets/base",
            "_view_module_version": "1.2.0",
            "_view_name": "LayoutView",
            "align_content": null,
            "align_items": null,
            "align_self": null,
            "border": null,
            "bottom": null,
            "display": null,
            "flex": null,
            "flex_flow": null,
            "grid_area": null,
            "grid_auto_columns": null,
            "grid_auto_flow": null,
            "grid_auto_rows": null,
            "grid_column": null,
            "grid_gap": null,
            "grid_row": null,
            "grid_template_areas": null,
            "grid_template_columns": null,
            "grid_template_rows": null,
            "height": null,
            "justify_content": null,
            "justify_items": null,
            "left": null,
            "margin": null,
            "max_height": null,
            "max_width": null,
            "min_height": null,
            "min_width": null,
            "object_fit": null,
            "object_position": null,
            "order": null,
            "overflow": null,
            "overflow_x": null,
            "overflow_y": null,
            "padding": null,
            "right": null,
            "top": null,
            "visibility": null,
            "width": null
          }
        },
        "87fd56a346cd4f25a4f56060fc578546": {
          "model_module": "@jupyter-widgets/controls",
          "model_name": "DescriptionStyleModel",
          "model_module_version": "1.5.0",
          "state": {
            "_model_module": "@jupyter-widgets/controls",
            "_model_module_version": "1.5.0",
            "_model_name": "DescriptionStyleModel",
            "_view_count": null,
            "_view_module": "@jupyter-widgets/base",
            "_view_module_version": "1.2.0",
            "_view_name": "StyleView",
            "description_width": ""
          }
        },
        "de0a065b5029411da65b4e1f40229ff4": {
          "model_module": "@jupyter-widgets/base",
          "model_name": "LayoutModel",
          "model_module_version": "1.2.0",
          "state": {
            "_model_module": "@jupyter-widgets/base",
            "_model_module_version": "1.2.0",
            "_model_name": "LayoutModel",
            "_view_count": null,
            "_view_module": "@jupyter-widgets/base",
            "_view_module_version": "1.2.0",
            "_view_name": "LayoutView",
            "align_content": null,
            "align_items": null,
            "align_self": null,
            "border": null,
            "bottom": null,
            "display": null,
            "flex": null,
            "flex_flow": null,
            "grid_area": null,
            "grid_auto_columns": null,
            "grid_auto_flow": null,
            "grid_auto_rows": null,
            "grid_column": null,
            "grid_gap": null,
            "grid_row": null,
            "grid_template_areas": null,
            "grid_template_columns": null,
            "grid_template_rows": null,
            "height": null,
            "justify_content": null,
            "justify_items": null,
            "left": null,
            "margin": null,
            "max_height": null,
            "max_width": null,
            "min_height": null,
            "min_width": null,
            "object_fit": null,
            "object_position": null,
            "order": null,
            "overflow": null,
            "overflow_x": null,
            "overflow_y": null,
            "padding": null,
            "right": null,
            "top": null,
            "visibility": null,
            "width": null
          }
        },
        "cc672b0ca8b3450f83f44e3921239e5d": {
          "model_module": "@jupyter-widgets/controls",
          "model_name": "ProgressStyleModel",
          "model_module_version": "1.5.0",
          "state": {
            "_model_module": "@jupyter-widgets/controls",
            "_model_module_version": "1.5.0",
            "_model_name": "ProgressStyleModel",
            "_view_count": null,
            "_view_module": "@jupyter-widgets/base",
            "_view_module_version": "1.2.0",
            "_view_name": "StyleView",
            "bar_color": null,
            "description_width": ""
          }
        },
        "dc936ef56bae4b24880d09a7003c883a": {
          "model_module": "@jupyter-widgets/base",
          "model_name": "LayoutModel",
          "model_module_version": "1.2.0",
          "state": {
            "_model_module": "@jupyter-widgets/base",
            "_model_module_version": "1.2.0",
            "_model_name": "LayoutModel",
            "_view_count": null,
            "_view_module": "@jupyter-widgets/base",
            "_view_module_version": "1.2.0",
            "_view_name": "LayoutView",
            "align_content": null,
            "align_items": null,
            "align_self": null,
            "border": null,
            "bottom": null,
            "display": null,
            "flex": null,
            "flex_flow": null,
            "grid_area": null,
            "grid_auto_columns": null,
            "grid_auto_flow": null,
            "grid_auto_rows": null,
            "grid_column": null,
            "grid_gap": null,
            "grid_row": null,
            "grid_template_areas": null,
            "grid_template_columns": null,
            "grid_template_rows": null,
            "height": null,
            "justify_content": null,
            "justify_items": null,
            "left": null,
            "margin": null,
            "max_height": null,
            "max_width": null,
            "min_height": null,
            "min_width": null,
            "object_fit": null,
            "object_position": null,
            "order": null,
            "overflow": null,
            "overflow_x": null,
            "overflow_y": null,
            "padding": null,
            "right": null,
            "top": null,
            "visibility": null,
            "width": null
          }
        },
        "62a94f199d4a400b91a95d9070dc31e8": {
          "model_module": "@jupyter-widgets/controls",
          "model_name": "DescriptionStyleModel",
          "model_module_version": "1.5.0",
          "state": {
            "_model_module": "@jupyter-widgets/controls",
            "_model_module_version": "1.5.0",
            "_model_name": "DescriptionStyleModel",
            "_view_count": null,
            "_view_module": "@jupyter-widgets/base",
            "_view_module_version": "1.2.0",
            "_view_name": "StyleView",
            "description_width": ""
          }
        },
        "9018ae226e384bf48f5ea10b8cc47424": {
          "model_module": "@jupyter-widgets/controls",
          "model_name": "HBoxModel",
          "model_module_version": "1.5.0",
          "state": {
            "_dom_classes": [],
            "_model_module": "@jupyter-widgets/controls",
            "_model_module_version": "1.5.0",
            "_model_name": "HBoxModel",
            "_view_count": null,
            "_view_module": "@jupyter-widgets/controls",
            "_view_module_version": "1.5.0",
            "_view_name": "HBoxView",
            "box_style": "",
            "children": [
              "IPY_MODEL_36a30c9c0d0f4f2786b22c83b85ab459",
              "IPY_MODEL_44cbb0bf34b14f79ae2edf81bf35d9ba",
              "IPY_MODEL_5bb4a3c1f0fb410eba94410b7460df53"
            ],
            "layout": "IPY_MODEL_bf62c9acbc0a46d9837e816bd5a27d19"
          }
        },
        "36a30c9c0d0f4f2786b22c83b85ab459": {
          "model_module": "@jupyter-widgets/controls",
          "model_name": "HTMLModel",
          "model_module_version": "1.5.0",
          "state": {
            "_dom_classes": [],
            "_model_module": "@jupyter-widgets/controls",
            "_model_module_version": "1.5.0",
            "_model_name": "HTMLModel",
            "_view_count": null,
            "_view_module": "@jupyter-widgets/controls",
            "_view_module_version": "1.5.0",
            "_view_name": "HTMLView",
            "description": "",
            "description_tooltip": null,
            "layout": "IPY_MODEL_106bf4384bc04b09a725a166d2f5638f",
            "placeholder": "​",
            "style": "IPY_MODEL_fe2c0b5a84db4420ab78885686237932",
            "value": "Downloading: 100%"
          }
        },
        "44cbb0bf34b14f79ae2edf81bf35d9ba": {
          "model_module": "@jupyter-widgets/controls",
          "model_name": "FloatProgressModel",
          "model_module_version": "1.5.0",
          "state": {
            "_dom_classes": [],
            "_model_module": "@jupyter-widgets/controls",
            "_model_module_version": "1.5.0",
            "_model_name": "FloatProgressModel",
            "_view_count": null,
            "_view_module": "@jupyter-widgets/controls",
            "_view_module_version": "1.5.0",
            "_view_name": "ProgressView",
            "bar_style": "success",
            "description": "",
            "description_tooltip": null,
            "layout": "IPY_MODEL_0f47f1dd116e4cd1961721e06902e569",
            "max": 267844284,
            "min": 0,
            "orientation": "horizontal",
            "style": "IPY_MODEL_d6a4e5eb10514402ae7cccb5df76fe7e",
            "value": 267844284
          }
        },
        "5bb4a3c1f0fb410eba94410b7460df53": {
          "model_module": "@jupyter-widgets/controls",
          "model_name": "HTMLModel",
          "model_module_version": "1.5.0",
          "state": {
            "_dom_classes": [],
            "_model_module": "@jupyter-widgets/controls",
            "_model_module_version": "1.5.0",
            "_model_name": "HTMLModel",
            "_view_count": null,
            "_view_module": "@jupyter-widgets/controls",
            "_view_module_version": "1.5.0",
            "_view_name": "HTMLView",
            "description": "",
            "description_tooltip": null,
            "layout": "IPY_MODEL_2afba585ca9b4855952a90dc654ae758",
            "placeholder": "​",
            "style": "IPY_MODEL_6749512850594c0596c98a9f6e17807f",
            "value": " 255M/255M [00:05&lt;00:00, 49.5MB/s]"
          }
        },
        "bf62c9acbc0a46d9837e816bd5a27d19": {
          "model_module": "@jupyter-widgets/base",
          "model_name": "LayoutModel",
          "model_module_version": "1.2.0",
          "state": {
            "_model_module": "@jupyter-widgets/base",
            "_model_module_version": "1.2.0",
            "_model_name": "LayoutModel",
            "_view_count": null,
            "_view_module": "@jupyter-widgets/base",
            "_view_module_version": "1.2.0",
            "_view_name": "LayoutView",
            "align_content": null,
            "align_items": null,
            "align_self": null,
            "border": null,
            "bottom": null,
            "display": null,
            "flex": null,
            "flex_flow": null,
            "grid_area": null,
            "grid_auto_columns": null,
            "grid_auto_flow": null,
            "grid_auto_rows": null,
            "grid_column": null,
            "grid_gap": null,
            "grid_row": null,
            "grid_template_areas": null,
            "grid_template_columns": null,
            "grid_template_rows": null,
            "height": null,
            "justify_content": null,
            "justify_items": null,
            "left": null,
            "margin": null,
            "max_height": null,
            "max_width": null,
            "min_height": null,
            "min_width": null,
            "object_fit": null,
            "object_position": null,
            "order": null,
            "overflow": null,
            "overflow_x": null,
            "overflow_y": null,
            "padding": null,
            "right": null,
            "top": null,
            "visibility": null,
            "width": null
          }
        },
        "106bf4384bc04b09a725a166d2f5638f": {
          "model_module": "@jupyter-widgets/base",
          "model_name": "LayoutModel",
          "model_module_version": "1.2.0",
          "state": {
            "_model_module": "@jupyter-widgets/base",
            "_model_module_version": "1.2.0",
            "_model_name": "LayoutModel",
            "_view_count": null,
            "_view_module": "@jupyter-widgets/base",
            "_view_module_version": "1.2.0",
            "_view_name": "LayoutView",
            "align_content": null,
            "align_items": null,
            "align_self": null,
            "border": null,
            "bottom": null,
            "display": null,
            "flex": null,
            "flex_flow": null,
            "grid_area": null,
            "grid_auto_columns": null,
            "grid_auto_flow": null,
            "grid_auto_rows": null,
            "grid_column": null,
            "grid_gap": null,
            "grid_row": null,
            "grid_template_areas": null,
            "grid_template_columns": null,
            "grid_template_rows": null,
            "height": null,
            "justify_content": null,
            "justify_items": null,
            "left": null,
            "margin": null,
            "max_height": null,
            "max_width": null,
            "min_height": null,
            "min_width": null,
            "object_fit": null,
            "object_position": null,
            "order": null,
            "overflow": null,
            "overflow_x": null,
            "overflow_y": null,
            "padding": null,
            "right": null,
            "top": null,
            "visibility": null,
            "width": null
          }
        },
        "fe2c0b5a84db4420ab78885686237932": {
          "model_module": "@jupyter-widgets/controls",
          "model_name": "DescriptionStyleModel",
          "model_module_version": "1.5.0",
          "state": {
            "_model_module": "@jupyter-widgets/controls",
            "_model_module_version": "1.5.0",
            "_model_name": "DescriptionStyleModel",
            "_view_count": null,
            "_view_module": "@jupyter-widgets/base",
            "_view_module_version": "1.2.0",
            "_view_name": "StyleView",
            "description_width": ""
          }
        },
        "0f47f1dd116e4cd1961721e06902e569": {
          "model_module": "@jupyter-widgets/base",
          "model_name": "LayoutModel",
          "model_module_version": "1.2.0",
          "state": {
            "_model_module": "@jupyter-widgets/base",
            "_model_module_version": "1.2.0",
            "_model_name": "LayoutModel",
            "_view_count": null,
            "_view_module": "@jupyter-widgets/base",
            "_view_module_version": "1.2.0",
            "_view_name": "LayoutView",
            "align_content": null,
            "align_items": null,
            "align_self": null,
            "border": null,
            "bottom": null,
            "display": null,
            "flex": null,
            "flex_flow": null,
            "grid_area": null,
            "grid_auto_columns": null,
            "grid_auto_flow": null,
            "grid_auto_rows": null,
            "grid_column": null,
            "grid_gap": null,
            "grid_row": null,
            "grid_template_areas": null,
            "grid_template_columns": null,
            "grid_template_rows": null,
            "height": null,
            "justify_content": null,
            "justify_items": null,
            "left": null,
            "margin": null,
            "max_height": null,
            "max_width": null,
            "min_height": null,
            "min_width": null,
            "object_fit": null,
            "object_position": null,
            "order": null,
            "overflow": null,
            "overflow_x": null,
            "overflow_y": null,
            "padding": null,
            "right": null,
            "top": null,
            "visibility": null,
            "width": null
          }
        },
        "d6a4e5eb10514402ae7cccb5df76fe7e": {
          "model_module": "@jupyter-widgets/controls",
          "model_name": "ProgressStyleModel",
          "model_module_version": "1.5.0",
          "state": {
            "_model_module": "@jupyter-widgets/controls",
            "_model_module_version": "1.5.0",
            "_model_name": "ProgressStyleModel",
            "_view_count": null,
            "_view_module": "@jupyter-widgets/base",
            "_view_module_version": "1.2.0",
            "_view_name": "StyleView",
            "bar_color": null,
            "description_width": ""
          }
        },
        "2afba585ca9b4855952a90dc654ae758": {
          "model_module": "@jupyter-widgets/base",
          "model_name": "LayoutModel",
          "model_module_version": "1.2.0",
          "state": {
            "_model_module": "@jupyter-widgets/base",
            "_model_module_version": "1.2.0",
            "_model_name": "LayoutModel",
            "_view_count": null,
            "_view_module": "@jupyter-widgets/base",
            "_view_module_version": "1.2.0",
            "_view_name": "LayoutView",
            "align_content": null,
            "align_items": null,
            "align_self": null,
            "border": null,
            "bottom": null,
            "display": null,
            "flex": null,
            "flex_flow": null,
            "grid_area": null,
            "grid_auto_columns": null,
            "grid_auto_flow": null,
            "grid_auto_rows": null,
            "grid_column": null,
            "grid_gap": null,
            "grid_row": null,
            "grid_template_areas": null,
            "grid_template_columns": null,
            "grid_template_rows": null,
            "height": null,
            "justify_content": null,
            "justify_items": null,
            "left": null,
            "margin": null,
            "max_height": null,
            "max_width": null,
            "min_height": null,
            "min_width": null,
            "object_fit": null,
            "object_position": null,
            "order": null,
            "overflow": null,
            "overflow_x": null,
            "overflow_y": null,
            "padding": null,
            "right": null,
            "top": null,
            "visibility": null,
            "width": null
          }
        },
        "6749512850594c0596c98a9f6e17807f": {
          "model_module": "@jupyter-widgets/controls",
          "model_name": "DescriptionStyleModel",
          "model_module_version": "1.5.0",
          "state": {
            "_model_module": "@jupyter-widgets/controls",
            "_model_module_version": "1.5.0",
            "_model_name": "DescriptionStyleModel",
            "_view_count": null,
            "_view_module": "@jupyter-widgets/base",
            "_view_module_version": "1.2.0",
            "_view_name": "StyleView",
            "description_width": ""
          }
        },
        "44ba70f116f6414182e45ab26ff382ea": {
          "model_module": "@jupyter-widgets/controls",
          "model_name": "HBoxModel",
          "model_module_version": "1.5.0",
          "state": {
            "_dom_classes": [],
            "_model_module": "@jupyter-widgets/controls",
            "_model_module_version": "1.5.0",
            "_model_name": "HBoxModel",
            "_view_count": null,
            "_view_module": "@jupyter-widgets/controls",
            "_view_module_version": "1.5.0",
            "_view_name": "HBoxView",
            "box_style": "",
            "children": [
              "IPY_MODEL_fd655a741005478fa6675e0ad4ac98ed",
              "IPY_MODEL_e00bf98ef8b9475f9d5759280772a4ef",
              "IPY_MODEL_c4784c7a185f49719d479367c64aaa3b"
            ],
            "layout": "IPY_MODEL_8203467410164de3b253defaf2b4e0e0"
          }
        },
        "fd655a741005478fa6675e0ad4ac98ed": {
          "model_module": "@jupyter-widgets/controls",
          "model_name": "HTMLModel",
          "model_module_version": "1.5.0",
          "state": {
            "_dom_classes": [],
            "_model_module": "@jupyter-widgets/controls",
            "_model_module_version": "1.5.0",
            "_model_name": "HTMLModel",
            "_view_count": null,
            "_view_module": "@jupyter-widgets/controls",
            "_view_module_version": "1.5.0",
            "_view_name": "HTMLView",
            "description": "",
            "description_tooltip": null,
            "layout": "IPY_MODEL_5b87d124d5244af9918de090d8c23c15",
            "placeholder": "​",
            "style": "IPY_MODEL_2a78e1195ead453abfea900cf7c5b128",
            "value": "Downloading: 100%"
          }
        },
        "e00bf98ef8b9475f9d5759280772a4ef": {
          "model_module": "@jupyter-widgets/controls",
          "model_name": "FloatProgressModel",
          "model_module_version": "1.5.0",
          "state": {
            "_dom_classes": [],
            "_model_module": "@jupyter-widgets/controls",
            "_model_module_version": "1.5.0",
            "_model_name": "FloatProgressModel",
            "_view_count": null,
            "_view_module": "@jupyter-widgets/controls",
            "_view_module_version": "1.5.0",
            "_view_name": "ProgressView",
            "bar_style": "success",
            "description": "",
            "description_tooltip": null,
            "layout": "IPY_MODEL_cca38c27f67a4858b16a2fff060e8093",
            "max": 48,
            "min": 0,
            "orientation": "horizontal",
            "style": "IPY_MODEL_9c46a4b4cff740ebbfa7b952e1d81260",
            "value": 48
          }
        },
        "c4784c7a185f49719d479367c64aaa3b": {
          "model_module": "@jupyter-widgets/controls",
          "model_name": "HTMLModel",
          "model_module_version": "1.5.0",
          "state": {
            "_dom_classes": [],
            "_model_module": "@jupyter-widgets/controls",
            "_model_module_version": "1.5.0",
            "_model_name": "HTMLModel",
            "_view_count": null,
            "_view_module": "@jupyter-widgets/controls",
            "_view_module_version": "1.5.0",
            "_view_name": "HTMLView",
            "description": "",
            "description_tooltip": null,
            "layout": "IPY_MODEL_b3e4dabcf41f4808ba447d8b47efae3b",
            "placeholder": "​",
            "style": "IPY_MODEL_fd34b1f2abf348fab15c13fa6730ee2d",
            "value": " 48.0/48.0 [00:00&lt;00:00, 1.00kB/s]"
          }
        },
        "8203467410164de3b253defaf2b4e0e0": {
          "model_module": "@jupyter-widgets/base",
          "model_name": "LayoutModel",
          "model_module_version": "1.2.0",
          "state": {
            "_model_module": "@jupyter-widgets/base",
            "_model_module_version": "1.2.0",
            "_model_name": "LayoutModel",
            "_view_count": null,
            "_view_module": "@jupyter-widgets/base",
            "_view_module_version": "1.2.0",
            "_view_name": "LayoutView",
            "align_content": null,
            "align_items": null,
            "align_self": null,
            "border": null,
            "bottom": null,
            "display": null,
            "flex": null,
            "flex_flow": null,
            "grid_area": null,
            "grid_auto_columns": null,
            "grid_auto_flow": null,
            "grid_auto_rows": null,
            "grid_column": null,
            "grid_gap": null,
            "grid_row": null,
            "grid_template_areas": null,
            "grid_template_columns": null,
            "grid_template_rows": null,
            "height": null,
            "justify_content": null,
            "justify_items": null,
            "left": null,
            "margin": null,
            "max_height": null,
            "max_width": null,
            "min_height": null,
            "min_width": null,
            "object_fit": null,
            "object_position": null,
            "order": null,
            "overflow": null,
            "overflow_x": null,
            "overflow_y": null,
            "padding": null,
            "right": null,
            "top": null,
            "visibility": null,
            "width": null
          }
        },
        "5b87d124d5244af9918de090d8c23c15": {
          "model_module": "@jupyter-widgets/base",
          "model_name": "LayoutModel",
          "model_module_version": "1.2.0",
          "state": {
            "_model_module": "@jupyter-widgets/base",
            "_model_module_version": "1.2.0",
            "_model_name": "LayoutModel",
            "_view_count": null,
            "_view_module": "@jupyter-widgets/base",
            "_view_module_version": "1.2.0",
            "_view_name": "LayoutView",
            "align_content": null,
            "align_items": null,
            "align_self": null,
            "border": null,
            "bottom": null,
            "display": null,
            "flex": null,
            "flex_flow": null,
            "grid_area": null,
            "grid_auto_columns": null,
            "grid_auto_flow": null,
            "grid_auto_rows": null,
            "grid_column": null,
            "grid_gap": null,
            "grid_row": null,
            "grid_template_areas": null,
            "grid_template_columns": null,
            "grid_template_rows": null,
            "height": null,
            "justify_content": null,
            "justify_items": null,
            "left": null,
            "margin": null,
            "max_height": null,
            "max_width": null,
            "min_height": null,
            "min_width": null,
            "object_fit": null,
            "object_position": null,
            "order": null,
            "overflow": null,
            "overflow_x": null,
            "overflow_y": null,
            "padding": null,
            "right": null,
            "top": null,
            "visibility": null,
            "width": null
          }
        },
        "2a78e1195ead453abfea900cf7c5b128": {
          "model_module": "@jupyter-widgets/controls",
          "model_name": "DescriptionStyleModel",
          "model_module_version": "1.5.0",
          "state": {
            "_model_module": "@jupyter-widgets/controls",
            "_model_module_version": "1.5.0",
            "_model_name": "DescriptionStyleModel",
            "_view_count": null,
            "_view_module": "@jupyter-widgets/base",
            "_view_module_version": "1.2.0",
            "_view_name": "StyleView",
            "description_width": ""
          }
        },
        "cca38c27f67a4858b16a2fff060e8093": {
          "model_module": "@jupyter-widgets/base",
          "model_name": "LayoutModel",
          "model_module_version": "1.2.0",
          "state": {
            "_model_module": "@jupyter-widgets/base",
            "_model_module_version": "1.2.0",
            "_model_name": "LayoutModel",
            "_view_count": null,
            "_view_module": "@jupyter-widgets/base",
            "_view_module_version": "1.2.0",
            "_view_name": "LayoutView",
            "align_content": null,
            "align_items": null,
            "align_self": null,
            "border": null,
            "bottom": null,
            "display": null,
            "flex": null,
            "flex_flow": null,
            "grid_area": null,
            "grid_auto_columns": null,
            "grid_auto_flow": null,
            "grid_auto_rows": null,
            "grid_column": null,
            "grid_gap": null,
            "grid_row": null,
            "grid_template_areas": null,
            "grid_template_columns": null,
            "grid_template_rows": null,
            "height": null,
            "justify_content": null,
            "justify_items": null,
            "left": null,
            "margin": null,
            "max_height": null,
            "max_width": null,
            "min_height": null,
            "min_width": null,
            "object_fit": null,
            "object_position": null,
            "order": null,
            "overflow": null,
            "overflow_x": null,
            "overflow_y": null,
            "padding": null,
            "right": null,
            "top": null,
            "visibility": null,
            "width": null
          }
        },
        "9c46a4b4cff740ebbfa7b952e1d81260": {
          "model_module": "@jupyter-widgets/controls",
          "model_name": "ProgressStyleModel",
          "model_module_version": "1.5.0",
          "state": {
            "_model_module": "@jupyter-widgets/controls",
            "_model_module_version": "1.5.0",
            "_model_name": "ProgressStyleModel",
            "_view_count": null,
            "_view_module": "@jupyter-widgets/base",
            "_view_module_version": "1.2.0",
            "_view_name": "StyleView",
            "bar_color": null,
            "description_width": ""
          }
        },
        "b3e4dabcf41f4808ba447d8b47efae3b": {
          "model_module": "@jupyter-widgets/base",
          "model_name": "LayoutModel",
          "model_module_version": "1.2.0",
          "state": {
            "_model_module": "@jupyter-widgets/base",
            "_model_module_version": "1.2.0",
            "_model_name": "LayoutModel",
            "_view_count": null,
            "_view_module": "@jupyter-widgets/base",
            "_view_module_version": "1.2.0",
            "_view_name": "LayoutView",
            "align_content": null,
            "align_items": null,
            "align_self": null,
            "border": null,
            "bottom": null,
            "display": null,
            "flex": null,
            "flex_flow": null,
            "grid_area": null,
            "grid_auto_columns": null,
            "grid_auto_flow": null,
            "grid_auto_rows": null,
            "grid_column": null,
            "grid_gap": null,
            "grid_row": null,
            "grid_template_areas": null,
            "grid_template_columns": null,
            "grid_template_rows": null,
            "height": null,
            "justify_content": null,
            "justify_items": null,
            "left": null,
            "margin": null,
            "max_height": null,
            "max_width": null,
            "min_height": null,
            "min_width": null,
            "object_fit": null,
            "object_position": null,
            "order": null,
            "overflow": null,
            "overflow_x": null,
            "overflow_y": null,
            "padding": null,
            "right": null,
            "top": null,
            "visibility": null,
            "width": null
          }
        },
        "fd34b1f2abf348fab15c13fa6730ee2d": {
          "model_module": "@jupyter-widgets/controls",
          "model_name": "DescriptionStyleModel",
          "model_module_version": "1.5.0",
          "state": {
            "_model_module": "@jupyter-widgets/controls",
            "_model_module_version": "1.5.0",
            "_model_name": "DescriptionStyleModel",
            "_view_count": null,
            "_view_module": "@jupyter-widgets/base",
            "_view_module_version": "1.2.0",
            "_view_name": "StyleView",
            "description_width": ""
          }
        },
        "93eb2923449641d9a2f5481f9bb645d2": {
          "model_module": "@jupyter-widgets/controls",
          "model_name": "HBoxModel",
          "model_module_version": "1.5.0",
          "state": {
            "_dom_classes": [],
            "_model_module": "@jupyter-widgets/controls",
            "_model_module_version": "1.5.0",
            "_model_name": "HBoxModel",
            "_view_count": null,
            "_view_module": "@jupyter-widgets/controls",
            "_view_module_version": "1.5.0",
            "_view_name": "HBoxView",
            "box_style": "",
            "children": [
              "IPY_MODEL_144d4d9ba64a485eb96ca14ac9df03e6",
              "IPY_MODEL_63809cde4d1346bd871f0d9303444fa6",
              "IPY_MODEL_e7c5e3ac2dcf4771973223b44cf5b2af"
            ],
            "layout": "IPY_MODEL_59204029af104091bab1859bb832600d"
          }
        },
        "144d4d9ba64a485eb96ca14ac9df03e6": {
          "model_module": "@jupyter-widgets/controls",
          "model_name": "HTMLModel",
          "model_module_version": "1.5.0",
          "state": {
            "_dom_classes": [],
            "_model_module": "@jupyter-widgets/controls",
            "_model_module_version": "1.5.0",
            "_model_name": "HTMLModel",
            "_view_count": null,
            "_view_module": "@jupyter-widgets/controls",
            "_view_module_version": "1.5.0",
            "_view_name": "HTMLView",
            "description": "",
            "description_tooltip": null,
            "layout": "IPY_MODEL_d85fd70e854a494ca83fb99d17f6e43c",
            "placeholder": "​",
            "style": "IPY_MODEL_9f09e63768124e3fb9488a8157f8222e",
            "value": "Downloading: 100%"
          }
        },
        "63809cde4d1346bd871f0d9303444fa6": {
          "model_module": "@jupyter-widgets/controls",
          "model_name": "FloatProgressModel",
          "model_module_version": "1.5.0",
          "state": {
            "_dom_classes": [],
            "_model_module": "@jupyter-widgets/controls",
            "_model_module_version": "1.5.0",
            "_model_name": "FloatProgressModel",
            "_view_count": null,
            "_view_module": "@jupyter-widgets/controls",
            "_view_module_version": "1.5.0",
            "_view_name": "ProgressView",
            "bar_style": "success",
            "description": "",
            "description_tooltip": null,
            "layout": "IPY_MODEL_9a2453b6800345adbb0cf1a4f992a743",
            "max": 231508,
            "min": 0,
            "orientation": "horizontal",
            "style": "IPY_MODEL_f922f43e62a54b1986db5627f6ba5413",
            "value": 231508
          }
        },
        "e7c5e3ac2dcf4771973223b44cf5b2af": {
          "model_module": "@jupyter-widgets/controls",
          "model_name": "HTMLModel",
          "model_module_version": "1.5.0",
          "state": {
            "_dom_classes": [],
            "_model_module": "@jupyter-widgets/controls",
            "_model_module_version": "1.5.0",
            "_model_name": "HTMLModel",
            "_view_count": null,
            "_view_module": "@jupyter-widgets/controls",
            "_view_module_version": "1.5.0",
            "_view_name": "HTMLView",
            "description": "",
            "description_tooltip": null,
            "layout": "IPY_MODEL_071e0f3cdd8544898ce6cd478021cd8c",
            "placeholder": "​",
            "style": "IPY_MODEL_dfdbceac46774bda8a86e60c5f549577",
            "value": " 226k/226k [00:00&lt;00:00, 2.74MB/s]"
          }
        },
        "59204029af104091bab1859bb832600d": {
          "model_module": "@jupyter-widgets/base",
          "model_name": "LayoutModel",
          "model_module_version": "1.2.0",
          "state": {
            "_model_module": "@jupyter-widgets/base",
            "_model_module_version": "1.2.0",
            "_model_name": "LayoutModel",
            "_view_count": null,
            "_view_module": "@jupyter-widgets/base",
            "_view_module_version": "1.2.0",
            "_view_name": "LayoutView",
            "align_content": null,
            "align_items": null,
            "align_self": null,
            "border": null,
            "bottom": null,
            "display": null,
            "flex": null,
            "flex_flow": null,
            "grid_area": null,
            "grid_auto_columns": null,
            "grid_auto_flow": null,
            "grid_auto_rows": null,
            "grid_column": null,
            "grid_gap": null,
            "grid_row": null,
            "grid_template_areas": null,
            "grid_template_columns": null,
            "grid_template_rows": null,
            "height": null,
            "justify_content": null,
            "justify_items": null,
            "left": null,
            "margin": null,
            "max_height": null,
            "max_width": null,
            "min_height": null,
            "min_width": null,
            "object_fit": null,
            "object_position": null,
            "order": null,
            "overflow": null,
            "overflow_x": null,
            "overflow_y": null,
            "padding": null,
            "right": null,
            "top": null,
            "visibility": null,
            "width": null
          }
        },
        "d85fd70e854a494ca83fb99d17f6e43c": {
          "model_module": "@jupyter-widgets/base",
          "model_name": "LayoutModel",
          "model_module_version": "1.2.0",
          "state": {
            "_model_module": "@jupyter-widgets/base",
            "_model_module_version": "1.2.0",
            "_model_name": "LayoutModel",
            "_view_count": null,
            "_view_module": "@jupyter-widgets/base",
            "_view_module_version": "1.2.0",
            "_view_name": "LayoutView",
            "align_content": null,
            "align_items": null,
            "align_self": null,
            "border": null,
            "bottom": null,
            "display": null,
            "flex": null,
            "flex_flow": null,
            "grid_area": null,
            "grid_auto_columns": null,
            "grid_auto_flow": null,
            "grid_auto_rows": null,
            "grid_column": null,
            "grid_gap": null,
            "grid_row": null,
            "grid_template_areas": null,
            "grid_template_columns": null,
            "grid_template_rows": null,
            "height": null,
            "justify_content": null,
            "justify_items": null,
            "left": null,
            "margin": null,
            "max_height": null,
            "max_width": null,
            "min_height": null,
            "min_width": null,
            "object_fit": null,
            "object_position": null,
            "order": null,
            "overflow": null,
            "overflow_x": null,
            "overflow_y": null,
            "padding": null,
            "right": null,
            "top": null,
            "visibility": null,
            "width": null
          }
        },
        "9f09e63768124e3fb9488a8157f8222e": {
          "model_module": "@jupyter-widgets/controls",
          "model_name": "DescriptionStyleModel",
          "model_module_version": "1.5.0",
          "state": {
            "_model_module": "@jupyter-widgets/controls",
            "_model_module_version": "1.5.0",
            "_model_name": "DescriptionStyleModel",
            "_view_count": null,
            "_view_module": "@jupyter-widgets/base",
            "_view_module_version": "1.2.0",
            "_view_name": "StyleView",
            "description_width": ""
          }
        },
        "9a2453b6800345adbb0cf1a4f992a743": {
          "model_module": "@jupyter-widgets/base",
          "model_name": "LayoutModel",
          "model_module_version": "1.2.0",
          "state": {
            "_model_module": "@jupyter-widgets/base",
            "_model_module_version": "1.2.0",
            "_model_name": "LayoutModel",
            "_view_count": null,
            "_view_module": "@jupyter-widgets/base",
            "_view_module_version": "1.2.0",
            "_view_name": "LayoutView",
            "align_content": null,
            "align_items": null,
            "align_self": null,
            "border": null,
            "bottom": null,
            "display": null,
            "flex": null,
            "flex_flow": null,
            "grid_area": null,
            "grid_auto_columns": null,
            "grid_auto_flow": null,
            "grid_auto_rows": null,
            "grid_column": null,
            "grid_gap": null,
            "grid_row": null,
            "grid_template_areas": null,
            "grid_template_columns": null,
            "grid_template_rows": null,
            "height": null,
            "justify_content": null,
            "justify_items": null,
            "left": null,
            "margin": null,
            "max_height": null,
            "max_width": null,
            "min_height": null,
            "min_width": null,
            "object_fit": null,
            "object_position": null,
            "order": null,
            "overflow": null,
            "overflow_x": null,
            "overflow_y": null,
            "padding": null,
            "right": null,
            "top": null,
            "visibility": null,
            "width": null
          }
        },
        "f922f43e62a54b1986db5627f6ba5413": {
          "model_module": "@jupyter-widgets/controls",
          "model_name": "ProgressStyleModel",
          "model_module_version": "1.5.0",
          "state": {
            "_model_module": "@jupyter-widgets/controls",
            "_model_module_version": "1.5.0",
            "_model_name": "ProgressStyleModel",
            "_view_count": null,
            "_view_module": "@jupyter-widgets/base",
            "_view_module_version": "1.2.0",
            "_view_name": "StyleView",
            "bar_color": null,
            "description_width": ""
          }
        },
        "071e0f3cdd8544898ce6cd478021cd8c": {
          "model_module": "@jupyter-widgets/base",
          "model_name": "LayoutModel",
          "model_module_version": "1.2.0",
          "state": {
            "_model_module": "@jupyter-widgets/base",
            "_model_module_version": "1.2.0",
            "_model_name": "LayoutModel",
            "_view_count": null,
            "_view_module": "@jupyter-widgets/base",
            "_view_module_version": "1.2.0",
            "_view_name": "LayoutView",
            "align_content": null,
            "align_items": null,
            "align_self": null,
            "border": null,
            "bottom": null,
            "display": null,
            "flex": null,
            "flex_flow": null,
            "grid_area": null,
            "grid_auto_columns": null,
            "grid_auto_flow": null,
            "grid_auto_rows": null,
            "grid_column": null,
            "grid_gap": null,
            "grid_row": null,
            "grid_template_areas": null,
            "grid_template_columns": null,
            "grid_template_rows": null,
            "height": null,
            "justify_content": null,
            "justify_items": null,
            "left": null,
            "margin": null,
            "max_height": null,
            "max_width": null,
            "min_height": null,
            "min_width": null,
            "object_fit": null,
            "object_position": null,
            "order": null,
            "overflow": null,
            "overflow_x": null,
            "overflow_y": null,
            "padding": null,
            "right": null,
            "top": null,
            "visibility": null,
            "width": null
          }
        },
        "dfdbceac46774bda8a86e60c5f549577": {
          "model_module": "@jupyter-widgets/controls",
          "model_name": "DescriptionStyleModel",
          "model_module_version": "1.5.0",
          "state": {
            "_model_module": "@jupyter-widgets/controls",
            "_model_module_version": "1.5.0",
            "_model_name": "DescriptionStyleModel",
            "_view_count": null,
            "_view_module": "@jupyter-widgets/base",
            "_view_module_version": "1.2.0",
            "_view_name": "StyleView",
            "description_width": ""
          }
        },
        "1bde7922cb1c443b9efa5a3fd2031c83": {
          "model_module": "@jupyter-widgets/controls",
          "model_name": "HBoxModel",
          "model_module_version": "1.5.0",
          "state": {
            "_dom_classes": [],
            "_model_module": "@jupyter-widgets/controls",
            "_model_module_version": "1.5.0",
            "_model_name": "HBoxModel",
            "_view_count": null,
            "_view_module": "@jupyter-widgets/controls",
            "_view_module_version": "1.5.0",
            "_view_name": "HBoxView",
            "box_style": "",
            "children": [
              "IPY_MODEL_fa16e299300d45399b8000c2d1457ed6",
              "IPY_MODEL_0f17548262cf4d0ba9424264af5503f6",
              "IPY_MODEL_7c23127d90844ec6b6e517f149f8b31a"
            ],
            "layout": "IPY_MODEL_9523fcf23e0546dbb08832afa74bbb8a"
          }
        },
        "fa16e299300d45399b8000c2d1457ed6": {
          "model_module": "@jupyter-widgets/controls",
          "model_name": "HTMLModel",
          "model_module_version": "1.5.0",
          "state": {
            "_dom_classes": [],
            "_model_module": "@jupyter-widgets/controls",
            "_model_module_version": "1.5.0",
            "_model_name": "HTMLModel",
            "_view_count": null,
            "_view_module": "@jupyter-widgets/controls",
            "_view_module_version": "1.5.0",
            "_view_name": "HTMLView",
            "description": "",
            "description_tooltip": null,
            "layout": "IPY_MODEL_9891156aed2546e69c51e84074bb5e12",
            "placeholder": "​",
            "style": "IPY_MODEL_e28c7f37bd504456a0a801fd9cd41c9f",
            "value": "Downloading: 100%"
          }
        },
        "0f17548262cf4d0ba9424264af5503f6": {
          "model_module": "@jupyter-widgets/controls",
          "model_name": "FloatProgressModel",
          "model_module_version": "1.5.0",
          "state": {
            "_dom_classes": [],
            "_model_module": "@jupyter-widgets/controls",
            "_model_module_version": "1.5.0",
            "_model_name": "FloatProgressModel",
            "_view_count": null,
            "_view_module": "@jupyter-widgets/controls",
            "_view_module_version": "1.5.0",
            "_view_name": "ProgressView",
            "bar_style": "success",
            "description": "",
            "description_tooltip": null,
            "layout": "IPY_MODEL_adc294c419d74f3db418fa61d1c70f76",
            "max": 1802,
            "min": 0,
            "orientation": "horizontal",
            "style": "IPY_MODEL_f130ed291e234dce8d21337db29205ee",
            "value": 1802
          }
        },
        "7c23127d90844ec6b6e517f149f8b31a": {
          "model_module": "@jupyter-widgets/controls",
          "model_name": "HTMLModel",
          "model_module_version": "1.5.0",
          "state": {
            "_dom_classes": [],
            "_model_module": "@jupyter-widgets/controls",
            "_model_module_version": "1.5.0",
            "_model_name": "HTMLModel",
            "_view_count": null,
            "_view_module": "@jupyter-widgets/controls",
            "_view_module_version": "1.5.0",
            "_view_name": "HTMLView",
            "description": "",
            "description_tooltip": null,
            "layout": "IPY_MODEL_e851e9bfb668465cbd2cbe9ff4cbfaff",
            "placeholder": "​",
            "style": "IPY_MODEL_8270f862f2d44660a0b5e3bbe2c2088c",
            "value": " 1.76k/1.76k [00:00&lt;00:00, 34.6kB/s]"
          }
        },
        "9523fcf23e0546dbb08832afa74bbb8a": {
          "model_module": "@jupyter-widgets/base",
          "model_name": "LayoutModel",
          "model_module_version": "1.2.0",
          "state": {
            "_model_module": "@jupyter-widgets/base",
            "_model_module_version": "1.2.0",
            "_model_name": "LayoutModel",
            "_view_count": null,
            "_view_module": "@jupyter-widgets/base",
            "_view_module_version": "1.2.0",
            "_view_name": "LayoutView",
            "align_content": null,
            "align_items": null,
            "align_self": null,
            "border": null,
            "bottom": null,
            "display": null,
            "flex": null,
            "flex_flow": null,
            "grid_area": null,
            "grid_auto_columns": null,
            "grid_auto_flow": null,
            "grid_auto_rows": null,
            "grid_column": null,
            "grid_gap": null,
            "grid_row": null,
            "grid_template_areas": null,
            "grid_template_columns": null,
            "grid_template_rows": null,
            "height": null,
            "justify_content": null,
            "justify_items": null,
            "left": null,
            "margin": null,
            "max_height": null,
            "max_width": null,
            "min_height": null,
            "min_width": null,
            "object_fit": null,
            "object_position": null,
            "order": null,
            "overflow": null,
            "overflow_x": null,
            "overflow_y": null,
            "padding": null,
            "right": null,
            "top": null,
            "visibility": null,
            "width": null
          }
        },
        "9891156aed2546e69c51e84074bb5e12": {
          "model_module": "@jupyter-widgets/base",
          "model_name": "LayoutModel",
          "model_module_version": "1.2.0",
          "state": {
            "_model_module": "@jupyter-widgets/base",
            "_model_module_version": "1.2.0",
            "_model_name": "LayoutModel",
            "_view_count": null,
            "_view_module": "@jupyter-widgets/base",
            "_view_module_version": "1.2.0",
            "_view_name": "LayoutView",
            "align_content": null,
            "align_items": null,
            "align_self": null,
            "border": null,
            "bottom": null,
            "display": null,
            "flex": null,
            "flex_flow": null,
            "grid_area": null,
            "grid_auto_columns": null,
            "grid_auto_flow": null,
            "grid_auto_rows": null,
            "grid_column": null,
            "grid_gap": null,
            "grid_row": null,
            "grid_template_areas": null,
            "grid_template_columns": null,
            "grid_template_rows": null,
            "height": null,
            "justify_content": null,
            "justify_items": null,
            "left": null,
            "margin": null,
            "max_height": null,
            "max_width": null,
            "min_height": null,
            "min_width": null,
            "object_fit": null,
            "object_position": null,
            "order": null,
            "overflow": null,
            "overflow_x": null,
            "overflow_y": null,
            "padding": null,
            "right": null,
            "top": null,
            "visibility": null,
            "width": null
          }
        },
        "e28c7f37bd504456a0a801fd9cd41c9f": {
          "model_module": "@jupyter-widgets/controls",
          "model_name": "DescriptionStyleModel",
          "model_module_version": "1.5.0",
          "state": {
            "_model_module": "@jupyter-widgets/controls",
            "_model_module_version": "1.5.0",
            "_model_name": "DescriptionStyleModel",
            "_view_count": null,
            "_view_module": "@jupyter-widgets/base",
            "_view_module_version": "1.2.0",
            "_view_name": "StyleView",
            "description_width": ""
          }
        },
        "adc294c419d74f3db418fa61d1c70f76": {
          "model_module": "@jupyter-widgets/base",
          "model_name": "LayoutModel",
          "model_module_version": "1.2.0",
          "state": {
            "_model_module": "@jupyter-widgets/base",
            "_model_module_version": "1.2.0",
            "_model_name": "LayoutModel",
            "_view_count": null,
            "_view_module": "@jupyter-widgets/base",
            "_view_module_version": "1.2.0",
            "_view_name": "LayoutView",
            "align_content": null,
            "align_items": null,
            "align_self": null,
            "border": null,
            "bottom": null,
            "display": null,
            "flex": null,
            "flex_flow": null,
            "grid_area": null,
            "grid_auto_columns": null,
            "grid_auto_flow": null,
            "grid_auto_rows": null,
            "grid_column": null,
            "grid_gap": null,
            "grid_row": null,
            "grid_template_areas": null,
            "grid_template_columns": null,
            "grid_template_rows": null,
            "height": null,
            "justify_content": null,
            "justify_items": null,
            "left": null,
            "margin": null,
            "max_height": null,
            "max_width": null,
            "min_height": null,
            "min_width": null,
            "object_fit": null,
            "object_position": null,
            "order": null,
            "overflow": null,
            "overflow_x": null,
            "overflow_y": null,
            "padding": null,
            "right": null,
            "top": null,
            "visibility": null,
            "width": null
          }
        },
        "f130ed291e234dce8d21337db29205ee": {
          "model_module": "@jupyter-widgets/controls",
          "model_name": "ProgressStyleModel",
          "model_module_version": "1.5.0",
          "state": {
            "_model_module": "@jupyter-widgets/controls",
            "_model_module_version": "1.5.0",
            "_model_name": "ProgressStyleModel",
            "_view_count": null,
            "_view_module": "@jupyter-widgets/base",
            "_view_module_version": "1.2.0",
            "_view_name": "StyleView",
            "bar_color": null,
            "description_width": ""
          }
        },
        "e851e9bfb668465cbd2cbe9ff4cbfaff": {
          "model_module": "@jupyter-widgets/base",
          "model_name": "LayoutModel",
          "model_module_version": "1.2.0",
          "state": {
            "_model_module": "@jupyter-widgets/base",
            "_model_module_version": "1.2.0",
            "_model_name": "LayoutModel",
            "_view_count": null,
            "_view_module": "@jupyter-widgets/base",
            "_view_module_version": "1.2.0",
            "_view_name": "LayoutView",
            "align_content": null,
            "align_items": null,
            "align_self": null,
            "border": null,
            "bottom": null,
            "display": null,
            "flex": null,
            "flex_flow": null,
            "grid_area": null,
            "grid_auto_columns": null,
            "grid_auto_flow": null,
            "grid_auto_rows": null,
            "grid_column": null,
            "grid_gap": null,
            "grid_row": null,
            "grid_template_areas": null,
            "grid_template_columns": null,
            "grid_template_rows": null,
            "height": null,
            "justify_content": null,
            "justify_items": null,
            "left": null,
            "margin": null,
            "max_height": null,
            "max_width": null,
            "min_height": null,
            "min_width": null,
            "object_fit": null,
            "object_position": null,
            "order": null,
            "overflow": null,
            "overflow_x": null,
            "overflow_y": null,
            "padding": null,
            "right": null,
            "top": null,
            "visibility": null,
            "width": null
          }
        },
        "8270f862f2d44660a0b5e3bbe2c2088c": {
          "model_module": "@jupyter-widgets/controls",
          "model_name": "DescriptionStyleModel",
          "model_module_version": "1.5.0",
          "state": {
            "_model_module": "@jupyter-widgets/controls",
            "_model_module_version": "1.5.0",
            "_model_name": "DescriptionStyleModel",
            "_view_count": null,
            "_view_module": "@jupyter-widgets/base",
            "_view_module_version": "1.2.0",
            "_view_name": "StyleView",
            "description_width": ""
          }
        },
        "a7860b52fdac46f8bf45b20d3fc0f713": {
          "model_module": "@jupyter-widgets/controls",
          "model_name": "HBoxModel",
          "model_module_version": "1.5.0",
          "state": {
            "_dom_classes": [],
            "_model_module": "@jupyter-widgets/controls",
            "_model_module_version": "1.5.0",
            "_model_name": "HBoxModel",
            "_view_count": null,
            "_view_module": "@jupyter-widgets/controls",
            "_view_module_version": "1.5.0",
            "_view_name": "HBoxView",
            "box_style": "",
            "children": [
              "IPY_MODEL_855e8e6c19e24e759bb8a867b8cc2b1a",
              "IPY_MODEL_1df22dd3c2004dfcad08102335439f99",
              "IPY_MODEL_e21ea4161bf049a1992b708b18c4377e"
            ],
            "layout": "IPY_MODEL_9670d24b0798452dbbb6918f7de29d82"
          }
        },
        "855e8e6c19e24e759bb8a867b8cc2b1a": {
          "model_module": "@jupyter-widgets/controls",
          "model_name": "HTMLModel",
          "model_module_version": "1.5.0",
          "state": {
            "_dom_classes": [],
            "_model_module": "@jupyter-widgets/controls",
            "_model_module_version": "1.5.0",
            "_model_name": "HTMLModel",
            "_view_count": null,
            "_view_module": "@jupyter-widgets/controls",
            "_view_module_version": "1.5.0",
            "_view_name": "HTMLView",
            "description": "",
            "description_tooltip": null,
            "layout": "IPY_MODEL_228e540c6c5d4cc1b51282170cef9367",
            "placeholder": "​",
            "style": "IPY_MODEL_b6800716637f4e4daebd178db9bc2e70",
            "value": "Downloading: 100%"
          }
        },
        "1df22dd3c2004dfcad08102335439f99": {
          "model_module": "@jupyter-widgets/controls",
          "model_name": "FloatProgressModel",
          "model_module_version": "1.5.0",
          "state": {
            "_dom_classes": [],
            "_model_module": "@jupyter-widgets/controls",
            "_model_module_version": "1.5.0",
            "_model_name": "FloatProgressModel",
            "_view_count": null,
            "_view_module": "@jupyter-widgets/controls",
            "_view_module_version": "1.5.0",
            "_view_name": "ProgressView",
            "bar_style": "success",
            "description": "",
            "description_tooltip": null,
            "layout": "IPY_MODEL_1ed7ddaf02954269a7559390b4dabc20",
            "max": 1222317369,
            "min": 0,
            "orientation": "horizontal",
            "style": "IPY_MODEL_a724bc03a5b642cab76f2f2dcc1348a6",
            "value": 1222317369
          }
        },
        "e21ea4161bf049a1992b708b18c4377e": {
          "model_module": "@jupyter-widgets/controls",
          "model_name": "HTMLModel",
          "model_module_version": "1.5.0",
          "state": {
            "_dom_classes": [],
            "_model_module": "@jupyter-widgets/controls",
            "_model_module_version": "1.5.0",
            "_model_name": "HTMLModel",
            "_view_count": null,
            "_view_module": "@jupyter-widgets/controls",
            "_view_module_version": "1.5.0",
            "_view_name": "HTMLView",
            "description": "",
            "description_tooltip": null,
            "layout": "IPY_MODEL_863479a6f0754f85b3a0b7c455856289",
            "placeholder": "​",
            "style": "IPY_MODEL_d8ea36939ad84663a9c0804730bbc404",
            "value": " 1.14G/1.14G [00:40&lt;00:00, 51.3MB/s]"
          }
        },
        "9670d24b0798452dbbb6918f7de29d82": {
          "model_module": "@jupyter-widgets/base",
          "model_name": "LayoutModel",
          "model_module_version": "1.2.0",
          "state": {
            "_model_module": "@jupyter-widgets/base",
            "_model_module_version": "1.2.0",
            "_model_name": "LayoutModel",
            "_view_count": null,
            "_view_module": "@jupyter-widgets/base",
            "_view_module_version": "1.2.0",
            "_view_name": "LayoutView",
            "align_content": null,
            "align_items": null,
            "align_self": null,
            "border": null,
            "bottom": null,
            "display": null,
            "flex": null,
            "flex_flow": null,
            "grid_area": null,
            "grid_auto_columns": null,
            "grid_auto_flow": null,
            "grid_auto_rows": null,
            "grid_column": null,
            "grid_gap": null,
            "grid_row": null,
            "grid_template_areas": null,
            "grid_template_columns": null,
            "grid_template_rows": null,
            "height": null,
            "justify_content": null,
            "justify_items": null,
            "left": null,
            "margin": null,
            "max_height": null,
            "max_width": null,
            "min_height": null,
            "min_width": null,
            "object_fit": null,
            "object_position": null,
            "order": null,
            "overflow": null,
            "overflow_x": null,
            "overflow_y": null,
            "padding": null,
            "right": null,
            "top": null,
            "visibility": null,
            "width": null
          }
        },
        "228e540c6c5d4cc1b51282170cef9367": {
          "model_module": "@jupyter-widgets/base",
          "model_name": "LayoutModel",
          "model_module_version": "1.2.0",
          "state": {
            "_model_module": "@jupyter-widgets/base",
            "_model_module_version": "1.2.0",
            "_model_name": "LayoutModel",
            "_view_count": null,
            "_view_module": "@jupyter-widgets/base",
            "_view_module_version": "1.2.0",
            "_view_name": "LayoutView",
            "align_content": null,
            "align_items": null,
            "align_self": null,
            "border": null,
            "bottom": null,
            "display": null,
            "flex": null,
            "flex_flow": null,
            "grid_area": null,
            "grid_auto_columns": null,
            "grid_auto_flow": null,
            "grid_auto_rows": null,
            "grid_column": null,
            "grid_gap": null,
            "grid_row": null,
            "grid_template_areas": null,
            "grid_template_columns": null,
            "grid_template_rows": null,
            "height": null,
            "justify_content": null,
            "justify_items": null,
            "left": null,
            "margin": null,
            "max_height": null,
            "max_width": null,
            "min_height": null,
            "min_width": null,
            "object_fit": null,
            "object_position": null,
            "order": null,
            "overflow": null,
            "overflow_x": null,
            "overflow_y": null,
            "padding": null,
            "right": null,
            "top": null,
            "visibility": null,
            "width": null
          }
        },
        "b6800716637f4e4daebd178db9bc2e70": {
          "model_module": "@jupyter-widgets/controls",
          "model_name": "DescriptionStyleModel",
          "model_module_version": "1.5.0",
          "state": {
            "_model_module": "@jupyter-widgets/controls",
            "_model_module_version": "1.5.0",
            "_model_name": "DescriptionStyleModel",
            "_view_count": null,
            "_view_module": "@jupyter-widgets/base",
            "_view_module_version": "1.2.0",
            "_view_name": "StyleView",
            "description_width": ""
          }
        },
        "1ed7ddaf02954269a7559390b4dabc20": {
          "model_module": "@jupyter-widgets/base",
          "model_name": "LayoutModel",
          "model_module_version": "1.2.0",
          "state": {
            "_model_module": "@jupyter-widgets/base",
            "_model_module_version": "1.2.0",
            "_model_name": "LayoutModel",
            "_view_count": null,
            "_view_module": "@jupyter-widgets/base",
            "_view_module_version": "1.2.0",
            "_view_name": "LayoutView",
            "align_content": null,
            "align_items": null,
            "align_self": null,
            "border": null,
            "bottom": null,
            "display": null,
            "flex": null,
            "flex_flow": null,
            "grid_area": null,
            "grid_auto_columns": null,
            "grid_auto_flow": null,
            "grid_auto_rows": null,
            "grid_column": null,
            "grid_gap": null,
            "grid_row": null,
            "grid_template_areas": null,
            "grid_template_columns": null,
            "grid_template_rows": null,
            "height": null,
            "justify_content": null,
            "justify_items": null,
            "left": null,
            "margin": null,
            "max_height": null,
            "max_width": null,
            "min_height": null,
            "min_width": null,
            "object_fit": null,
            "object_position": null,
            "order": null,
            "overflow": null,
            "overflow_x": null,
            "overflow_y": null,
            "padding": null,
            "right": null,
            "top": null,
            "visibility": null,
            "width": null
          }
        },
        "a724bc03a5b642cab76f2f2dcc1348a6": {
          "model_module": "@jupyter-widgets/controls",
          "model_name": "ProgressStyleModel",
          "model_module_version": "1.5.0",
          "state": {
            "_model_module": "@jupyter-widgets/controls",
            "_model_module_version": "1.5.0",
            "_model_name": "ProgressStyleModel",
            "_view_count": null,
            "_view_module": "@jupyter-widgets/base",
            "_view_module_version": "1.2.0",
            "_view_name": "StyleView",
            "bar_color": null,
            "description_width": ""
          }
        },
        "863479a6f0754f85b3a0b7c455856289": {
          "model_module": "@jupyter-widgets/base",
          "model_name": "LayoutModel",
          "model_module_version": "1.2.0",
          "state": {
            "_model_module": "@jupyter-widgets/base",
            "_model_module_version": "1.2.0",
            "_model_name": "LayoutModel",
            "_view_count": null,
            "_view_module": "@jupyter-widgets/base",
            "_view_module_version": "1.2.0",
            "_view_name": "LayoutView",
            "align_content": null,
            "align_items": null,
            "align_self": null,
            "border": null,
            "bottom": null,
            "display": null,
            "flex": null,
            "flex_flow": null,
            "grid_area": null,
            "grid_auto_columns": null,
            "grid_auto_flow": null,
            "grid_auto_rows": null,
            "grid_column": null,
            "grid_gap": null,
            "grid_row": null,
            "grid_template_areas": null,
            "grid_template_columns": null,
            "grid_template_rows": null,
            "height": null,
            "justify_content": null,
            "justify_items": null,
            "left": null,
            "margin": null,
            "max_height": null,
            "max_width": null,
            "min_height": null,
            "min_width": null,
            "object_fit": null,
            "object_position": null,
            "order": null,
            "overflow": null,
            "overflow_x": null,
            "overflow_y": null,
            "padding": null,
            "right": null,
            "top": null,
            "visibility": null,
            "width": null
          }
        },
        "d8ea36939ad84663a9c0804730bbc404": {
          "model_module": "@jupyter-widgets/controls",
          "model_name": "DescriptionStyleModel",
          "model_module_version": "1.5.0",
          "state": {
            "_model_module": "@jupyter-widgets/controls",
            "_model_module_version": "1.5.0",
            "_model_name": "DescriptionStyleModel",
            "_view_count": null,
            "_view_module": "@jupyter-widgets/base",
            "_view_module_version": "1.2.0",
            "_view_name": "StyleView",
            "description_width": ""
          }
        },
        "b5bfdb442f744263845e8bc29420459b": {
          "model_module": "@jupyter-widgets/controls",
          "model_name": "HBoxModel",
          "model_module_version": "1.5.0",
          "state": {
            "_dom_classes": [],
            "_model_module": "@jupyter-widgets/controls",
            "_model_module_version": "1.5.0",
            "_model_name": "HBoxModel",
            "_view_count": null,
            "_view_module": "@jupyter-widgets/controls",
            "_view_module_version": "1.5.0",
            "_view_name": "HBoxView",
            "box_style": "",
            "children": [
              "IPY_MODEL_33eb65e5ade4415aa6f9b19293e7c8fd",
              "IPY_MODEL_bdfabfee4d5d45299b28c9a6dc82ee9a",
              "IPY_MODEL_6b6feca5d2414de9802c4b599ef336af"
            ],
            "layout": "IPY_MODEL_da7643e2ec9e4855814342ab06660f88"
          }
        },
        "33eb65e5ade4415aa6f9b19293e7c8fd": {
          "model_module": "@jupyter-widgets/controls",
          "model_name": "HTMLModel",
          "model_module_version": "1.5.0",
          "state": {
            "_dom_classes": [],
            "_model_module": "@jupyter-widgets/controls",
            "_model_module_version": "1.5.0",
            "_model_name": "HTMLModel",
            "_view_count": null,
            "_view_module": "@jupyter-widgets/controls",
            "_view_module_version": "1.5.0",
            "_view_name": "HTMLView",
            "description": "",
            "description_tooltip": null,
            "layout": "IPY_MODEL_7df635ed8d4d4ea483aba56e09b3a621",
            "placeholder": "​",
            "style": "IPY_MODEL_5762498e54284aa288fcd39436d7a36a",
            "value": "Downloading: 100%"
          }
        },
        "bdfabfee4d5d45299b28c9a6dc82ee9a": {
          "model_module": "@jupyter-widgets/controls",
          "model_name": "FloatProgressModel",
          "model_module_version": "1.5.0",
          "state": {
            "_dom_classes": [],
            "_model_module": "@jupyter-widgets/controls",
            "_model_module_version": "1.5.0",
            "_model_name": "FloatProgressModel",
            "_view_count": null,
            "_view_module": "@jupyter-widgets/controls",
            "_view_module_version": "1.5.0",
            "_view_name": "ProgressView",
            "bar_style": "success",
            "description": "",
            "description_tooltip": null,
            "layout": "IPY_MODEL_75fae83835e842f7a52885de0207b020",
            "max": 26,
            "min": 0,
            "orientation": "horizontal",
            "style": "IPY_MODEL_86ec287f75c34c7b9e0c2c3f807c99e9",
            "value": 26
          }
        },
        "6b6feca5d2414de9802c4b599ef336af": {
          "model_module": "@jupyter-widgets/controls",
          "model_name": "HTMLModel",
          "model_module_version": "1.5.0",
          "state": {
            "_dom_classes": [],
            "_model_module": "@jupyter-widgets/controls",
            "_model_module_version": "1.5.0",
            "_model_name": "HTMLModel",
            "_view_count": null,
            "_view_module": "@jupyter-widgets/controls",
            "_view_module_version": "1.5.0",
            "_view_name": "HTMLView",
            "description": "",
            "description_tooltip": null,
            "layout": "IPY_MODEL_d2dfee710dfb4a33b4fceeaddceab1a0",
            "placeholder": "​",
            "style": "IPY_MODEL_dc9d59e77ac54e9581a1391f3bdd73cc",
            "value": " 26.0/26.0 [00:00&lt;00:00, 649B/s]"
          }
        },
        "da7643e2ec9e4855814342ab06660f88": {
          "model_module": "@jupyter-widgets/base",
          "model_name": "LayoutModel",
          "model_module_version": "1.2.0",
          "state": {
            "_model_module": "@jupyter-widgets/base",
            "_model_module_version": "1.2.0",
            "_model_name": "LayoutModel",
            "_view_count": null,
            "_view_module": "@jupyter-widgets/base",
            "_view_module_version": "1.2.0",
            "_view_name": "LayoutView",
            "align_content": null,
            "align_items": null,
            "align_self": null,
            "border": null,
            "bottom": null,
            "display": null,
            "flex": null,
            "flex_flow": null,
            "grid_area": null,
            "grid_auto_columns": null,
            "grid_auto_flow": null,
            "grid_auto_rows": null,
            "grid_column": null,
            "grid_gap": null,
            "grid_row": null,
            "grid_template_areas": null,
            "grid_template_columns": null,
            "grid_template_rows": null,
            "height": null,
            "justify_content": null,
            "justify_items": null,
            "left": null,
            "margin": null,
            "max_height": null,
            "max_width": null,
            "min_height": null,
            "min_width": null,
            "object_fit": null,
            "object_position": null,
            "order": null,
            "overflow": null,
            "overflow_x": null,
            "overflow_y": null,
            "padding": null,
            "right": null,
            "top": null,
            "visibility": null,
            "width": null
          }
        },
        "7df635ed8d4d4ea483aba56e09b3a621": {
          "model_module": "@jupyter-widgets/base",
          "model_name": "LayoutModel",
          "model_module_version": "1.2.0",
          "state": {
            "_model_module": "@jupyter-widgets/base",
            "_model_module_version": "1.2.0",
            "_model_name": "LayoutModel",
            "_view_count": null,
            "_view_module": "@jupyter-widgets/base",
            "_view_module_version": "1.2.0",
            "_view_name": "LayoutView",
            "align_content": null,
            "align_items": null,
            "align_self": null,
            "border": null,
            "bottom": null,
            "display": null,
            "flex": null,
            "flex_flow": null,
            "grid_area": null,
            "grid_auto_columns": null,
            "grid_auto_flow": null,
            "grid_auto_rows": null,
            "grid_column": null,
            "grid_gap": null,
            "grid_row": null,
            "grid_template_areas": null,
            "grid_template_columns": null,
            "grid_template_rows": null,
            "height": null,
            "justify_content": null,
            "justify_items": null,
            "left": null,
            "margin": null,
            "max_height": null,
            "max_width": null,
            "min_height": null,
            "min_width": null,
            "object_fit": null,
            "object_position": null,
            "order": null,
            "overflow": null,
            "overflow_x": null,
            "overflow_y": null,
            "padding": null,
            "right": null,
            "top": null,
            "visibility": null,
            "width": null
          }
        },
        "5762498e54284aa288fcd39436d7a36a": {
          "model_module": "@jupyter-widgets/controls",
          "model_name": "DescriptionStyleModel",
          "model_module_version": "1.5.0",
          "state": {
            "_model_module": "@jupyter-widgets/controls",
            "_model_module_version": "1.5.0",
            "_model_name": "DescriptionStyleModel",
            "_view_count": null,
            "_view_module": "@jupyter-widgets/base",
            "_view_module_version": "1.2.0",
            "_view_name": "StyleView",
            "description_width": ""
          }
        },
        "75fae83835e842f7a52885de0207b020": {
          "model_module": "@jupyter-widgets/base",
          "model_name": "LayoutModel",
          "model_module_version": "1.2.0",
          "state": {
            "_model_module": "@jupyter-widgets/base",
            "_model_module_version": "1.2.0",
            "_model_name": "LayoutModel",
            "_view_count": null,
            "_view_module": "@jupyter-widgets/base",
            "_view_module_version": "1.2.0",
            "_view_name": "LayoutView",
            "align_content": null,
            "align_items": null,
            "align_self": null,
            "border": null,
            "bottom": null,
            "display": null,
            "flex": null,
            "flex_flow": null,
            "grid_area": null,
            "grid_auto_columns": null,
            "grid_auto_flow": null,
            "grid_auto_rows": null,
            "grid_column": null,
            "grid_gap": null,
            "grid_row": null,
            "grid_template_areas": null,
            "grid_template_columns": null,
            "grid_template_rows": null,
            "height": null,
            "justify_content": null,
            "justify_items": null,
            "left": null,
            "margin": null,
            "max_height": null,
            "max_width": null,
            "min_height": null,
            "min_width": null,
            "object_fit": null,
            "object_position": null,
            "order": null,
            "overflow": null,
            "overflow_x": null,
            "overflow_y": null,
            "padding": null,
            "right": null,
            "top": null,
            "visibility": null,
            "width": null
          }
        },
        "86ec287f75c34c7b9e0c2c3f807c99e9": {
          "model_module": "@jupyter-widgets/controls",
          "model_name": "ProgressStyleModel",
          "model_module_version": "1.5.0",
          "state": {
            "_model_module": "@jupyter-widgets/controls",
            "_model_module_version": "1.5.0",
            "_model_name": "ProgressStyleModel",
            "_view_count": null,
            "_view_module": "@jupyter-widgets/base",
            "_view_module_version": "1.2.0",
            "_view_name": "StyleView",
            "bar_color": null,
            "description_width": ""
          }
        },
        "d2dfee710dfb4a33b4fceeaddceab1a0": {
          "model_module": "@jupyter-widgets/base",
          "model_name": "LayoutModel",
          "model_module_version": "1.2.0",
          "state": {
            "_model_module": "@jupyter-widgets/base",
            "_model_module_version": "1.2.0",
            "_model_name": "LayoutModel",
            "_view_count": null,
            "_view_module": "@jupyter-widgets/base",
            "_view_module_version": "1.2.0",
            "_view_name": "LayoutView",
            "align_content": null,
            "align_items": null,
            "align_self": null,
            "border": null,
            "bottom": null,
            "display": null,
            "flex": null,
            "flex_flow": null,
            "grid_area": null,
            "grid_auto_columns": null,
            "grid_auto_flow": null,
            "grid_auto_rows": null,
            "grid_column": null,
            "grid_gap": null,
            "grid_row": null,
            "grid_template_areas": null,
            "grid_template_columns": null,
            "grid_template_rows": null,
            "height": null,
            "justify_content": null,
            "justify_items": null,
            "left": null,
            "margin": null,
            "max_height": null,
            "max_width": null,
            "min_height": null,
            "min_width": null,
            "object_fit": null,
            "object_position": null,
            "order": null,
            "overflow": null,
            "overflow_x": null,
            "overflow_y": null,
            "padding": null,
            "right": null,
            "top": null,
            "visibility": null,
            "width": null
          }
        },
        "dc9d59e77ac54e9581a1391f3bdd73cc": {
          "model_module": "@jupyter-widgets/controls",
          "model_name": "DescriptionStyleModel",
          "model_module_version": "1.5.0",
          "state": {
            "_model_module": "@jupyter-widgets/controls",
            "_model_module_version": "1.5.0",
            "_model_name": "DescriptionStyleModel",
            "_view_count": null,
            "_view_module": "@jupyter-widgets/base",
            "_view_module_version": "1.2.0",
            "_view_name": "StyleView",
            "description_width": ""
          }
        },
        "5160e036e4e6449e9152441c0e18c895": {
          "model_module": "@jupyter-widgets/controls",
          "model_name": "HBoxModel",
          "model_module_version": "1.5.0",
          "state": {
            "_dom_classes": [],
            "_model_module": "@jupyter-widgets/controls",
            "_model_module_version": "1.5.0",
            "_model_name": "HBoxModel",
            "_view_count": null,
            "_view_module": "@jupyter-widgets/controls",
            "_view_module_version": "1.5.0",
            "_view_name": "HBoxView",
            "box_style": "",
            "children": [
              "IPY_MODEL_8af41121ee1a4101b2de8153555cf371",
              "IPY_MODEL_7485794983804aa38ca8e26fa2322f26",
              "IPY_MODEL_29b9fa4a826d4eaca7f3f5adb895c3df"
            ],
            "layout": "IPY_MODEL_ba830dd95f9841d3a91564594b33a665"
          }
        },
        "8af41121ee1a4101b2de8153555cf371": {
          "model_module": "@jupyter-widgets/controls",
          "model_name": "HTMLModel",
          "model_module_version": "1.5.0",
          "state": {
            "_dom_classes": [],
            "_model_module": "@jupyter-widgets/controls",
            "_model_module_version": "1.5.0",
            "_model_name": "HTMLModel",
            "_view_count": null,
            "_view_module": "@jupyter-widgets/controls",
            "_view_module_version": "1.5.0",
            "_view_name": "HTMLView",
            "description": "",
            "description_tooltip": null,
            "layout": "IPY_MODEL_86c21e7b496847799783364dad84931f",
            "placeholder": "​",
            "style": "IPY_MODEL_3cdc70713e2c42ed822081db660810c4",
            "value": "Downloading: 100%"
          }
        },
        "7485794983804aa38ca8e26fa2322f26": {
          "model_module": "@jupyter-widgets/controls",
          "model_name": "FloatProgressModel",
          "model_module_version": "1.5.0",
          "state": {
            "_dom_classes": [],
            "_model_module": "@jupyter-widgets/controls",
            "_model_module_version": "1.5.0",
            "_model_name": "FloatProgressModel",
            "_view_count": null,
            "_view_module": "@jupyter-widgets/controls",
            "_view_module_version": "1.5.0",
            "_view_name": "ProgressView",
            "bar_style": "success",
            "description": "",
            "description_tooltip": null,
            "layout": "IPY_MODEL_d2114cbbc62345be811cd59247904d81",
            "max": 898822,
            "min": 0,
            "orientation": "horizontal",
            "style": "IPY_MODEL_ee475bc40e0d41b9bd75d6b52af105c9",
            "value": 898822
          }
        },
        "29b9fa4a826d4eaca7f3f5adb895c3df": {
          "model_module": "@jupyter-widgets/controls",
          "model_name": "HTMLModel",
          "model_module_version": "1.5.0",
          "state": {
            "_dom_classes": [],
            "_model_module": "@jupyter-widgets/controls",
            "_model_module_version": "1.5.0",
            "_model_name": "HTMLModel",
            "_view_count": null,
            "_view_module": "@jupyter-widgets/controls",
            "_view_module_version": "1.5.0",
            "_view_name": "HTMLView",
            "description": "",
            "description_tooltip": null,
            "layout": "IPY_MODEL_2b30aca12b5145e68d56b9e4e2794c30",
            "placeholder": "​",
            "style": "IPY_MODEL_b9c3bbc4824e492b8e1bbc119a27d3e6",
            "value": " 878k/878k [00:00&lt;00:00, 7.40kB/s]"
          }
        },
        "ba830dd95f9841d3a91564594b33a665": {
          "model_module": "@jupyter-widgets/base",
          "model_name": "LayoutModel",
          "model_module_version": "1.2.0",
          "state": {
            "_model_module": "@jupyter-widgets/base",
            "_model_module_version": "1.2.0",
            "_model_name": "LayoutModel",
            "_view_count": null,
            "_view_module": "@jupyter-widgets/base",
            "_view_module_version": "1.2.0",
            "_view_name": "LayoutView",
            "align_content": null,
            "align_items": null,
            "align_self": null,
            "border": null,
            "bottom": null,
            "display": null,
            "flex": null,
            "flex_flow": null,
            "grid_area": null,
            "grid_auto_columns": null,
            "grid_auto_flow": null,
            "grid_auto_rows": null,
            "grid_column": null,
            "grid_gap": null,
            "grid_row": null,
            "grid_template_areas": null,
            "grid_template_columns": null,
            "grid_template_rows": null,
            "height": null,
            "justify_content": null,
            "justify_items": null,
            "left": null,
            "margin": null,
            "max_height": null,
            "max_width": null,
            "min_height": null,
            "min_width": null,
            "object_fit": null,
            "object_position": null,
            "order": null,
            "overflow": null,
            "overflow_x": null,
            "overflow_y": null,
            "padding": null,
            "right": null,
            "top": null,
            "visibility": null,
            "width": null
          }
        },
        "86c21e7b496847799783364dad84931f": {
          "model_module": "@jupyter-widgets/base",
          "model_name": "LayoutModel",
          "model_module_version": "1.2.0",
          "state": {
            "_model_module": "@jupyter-widgets/base",
            "_model_module_version": "1.2.0",
            "_model_name": "LayoutModel",
            "_view_count": null,
            "_view_module": "@jupyter-widgets/base",
            "_view_module_version": "1.2.0",
            "_view_name": "LayoutView",
            "align_content": null,
            "align_items": null,
            "align_self": null,
            "border": null,
            "bottom": null,
            "display": null,
            "flex": null,
            "flex_flow": null,
            "grid_area": null,
            "grid_auto_columns": null,
            "grid_auto_flow": null,
            "grid_auto_rows": null,
            "grid_column": null,
            "grid_gap": null,
            "grid_row": null,
            "grid_template_areas": null,
            "grid_template_columns": null,
            "grid_template_rows": null,
            "height": null,
            "justify_content": null,
            "justify_items": null,
            "left": null,
            "margin": null,
            "max_height": null,
            "max_width": null,
            "min_height": null,
            "min_width": null,
            "object_fit": null,
            "object_position": null,
            "order": null,
            "overflow": null,
            "overflow_x": null,
            "overflow_y": null,
            "padding": null,
            "right": null,
            "top": null,
            "visibility": null,
            "width": null
          }
        },
        "3cdc70713e2c42ed822081db660810c4": {
          "model_module": "@jupyter-widgets/controls",
          "model_name": "DescriptionStyleModel",
          "model_module_version": "1.5.0",
          "state": {
            "_model_module": "@jupyter-widgets/controls",
            "_model_module_version": "1.5.0",
            "_model_name": "DescriptionStyleModel",
            "_view_count": null,
            "_view_module": "@jupyter-widgets/base",
            "_view_module_version": "1.2.0",
            "_view_name": "StyleView",
            "description_width": ""
          }
        },
        "d2114cbbc62345be811cd59247904d81": {
          "model_module": "@jupyter-widgets/base",
          "model_name": "LayoutModel",
          "model_module_version": "1.2.0",
          "state": {
            "_model_module": "@jupyter-widgets/base",
            "_model_module_version": "1.2.0",
            "_model_name": "LayoutModel",
            "_view_count": null,
            "_view_module": "@jupyter-widgets/base",
            "_view_module_version": "1.2.0",
            "_view_name": "LayoutView",
            "align_content": null,
            "align_items": null,
            "align_self": null,
            "border": null,
            "bottom": null,
            "display": null,
            "flex": null,
            "flex_flow": null,
            "grid_area": null,
            "grid_auto_columns": null,
            "grid_auto_flow": null,
            "grid_auto_rows": null,
            "grid_column": null,
            "grid_gap": null,
            "grid_row": null,
            "grid_template_areas": null,
            "grid_template_columns": null,
            "grid_template_rows": null,
            "height": null,
            "justify_content": null,
            "justify_items": null,
            "left": null,
            "margin": null,
            "max_height": null,
            "max_width": null,
            "min_height": null,
            "min_width": null,
            "object_fit": null,
            "object_position": null,
            "order": null,
            "overflow": null,
            "overflow_x": null,
            "overflow_y": null,
            "padding": null,
            "right": null,
            "top": null,
            "visibility": null,
            "width": null
          }
        },
        "ee475bc40e0d41b9bd75d6b52af105c9": {
          "model_module": "@jupyter-widgets/controls",
          "model_name": "ProgressStyleModel",
          "model_module_version": "1.5.0",
          "state": {
            "_model_module": "@jupyter-widgets/controls",
            "_model_module_version": "1.5.0",
            "_model_name": "ProgressStyleModel",
            "_view_count": null,
            "_view_module": "@jupyter-widgets/base",
            "_view_module_version": "1.2.0",
            "_view_name": "StyleView",
            "bar_color": null,
            "description_width": ""
          }
        },
        "2b30aca12b5145e68d56b9e4e2794c30": {
          "model_module": "@jupyter-widgets/base",
          "model_name": "LayoutModel",
          "model_module_version": "1.2.0",
          "state": {
            "_model_module": "@jupyter-widgets/base",
            "_model_module_version": "1.2.0",
            "_model_name": "LayoutModel",
            "_view_count": null,
            "_view_module": "@jupyter-widgets/base",
            "_view_module_version": "1.2.0",
            "_view_name": "LayoutView",
            "align_content": null,
            "align_items": null,
            "align_self": null,
            "border": null,
            "bottom": null,
            "display": null,
            "flex": null,
            "flex_flow": null,
            "grid_area": null,
            "grid_auto_columns": null,
            "grid_auto_flow": null,
            "grid_auto_rows": null,
            "grid_column": null,
            "grid_gap": null,
            "grid_row": null,
            "grid_template_areas": null,
            "grid_template_columns": null,
            "grid_template_rows": null,
            "height": null,
            "justify_content": null,
            "justify_items": null,
            "left": null,
            "margin": null,
            "max_height": null,
            "max_width": null,
            "min_height": null,
            "min_width": null,
            "object_fit": null,
            "object_position": null,
            "order": null,
            "overflow": null,
            "overflow_x": null,
            "overflow_y": null,
            "padding": null,
            "right": null,
            "top": null,
            "visibility": null,
            "width": null
          }
        },
        "b9c3bbc4824e492b8e1bbc119a27d3e6": {
          "model_module": "@jupyter-widgets/controls",
          "model_name": "DescriptionStyleModel",
          "model_module_version": "1.5.0",
          "state": {
            "_model_module": "@jupyter-widgets/controls",
            "_model_module_version": "1.5.0",
            "_model_name": "DescriptionStyleModel",
            "_view_count": null,
            "_view_module": "@jupyter-widgets/base",
            "_view_module_version": "1.2.0",
            "_view_name": "StyleView",
            "description_width": ""
          }
        },
        "401afe3cb1c245cebad19c0fe4c0091a": {
          "model_module": "@jupyter-widgets/controls",
          "model_name": "HBoxModel",
          "model_module_version": "1.5.0",
          "state": {
            "_dom_classes": [],
            "_model_module": "@jupyter-widgets/controls",
            "_model_module_version": "1.5.0",
            "_model_name": "HBoxModel",
            "_view_count": null,
            "_view_module": "@jupyter-widgets/controls",
            "_view_module_version": "1.5.0",
            "_view_name": "HBoxView",
            "box_style": "",
            "children": [
              "IPY_MODEL_9fe2d7e61f134125b25bb7386bd0eb1e",
              "IPY_MODEL_9d1f46a5b67b4c628872c4bb0421e4a8",
              "IPY_MODEL_da99d8a31dca4a08881ce42f55b9000f"
            ],
            "layout": "IPY_MODEL_e7a7020346eb43a6a181d8f1b1bc61a8"
          }
        },
        "9fe2d7e61f134125b25bb7386bd0eb1e": {
          "model_module": "@jupyter-widgets/controls",
          "model_name": "HTMLModel",
          "model_module_version": "1.5.0",
          "state": {
            "_dom_classes": [],
            "_model_module": "@jupyter-widgets/controls",
            "_model_module_version": "1.5.0",
            "_model_name": "HTMLModel",
            "_view_count": null,
            "_view_module": "@jupyter-widgets/controls",
            "_view_module_version": "1.5.0",
            "_view_name": "HTMLView",
            "description": "",
            "description_tooltip": null,
            "layout": "IPY_MODEL_b3866a8f73a940998ef12439997699ba",
            "placeholder": "​",
            "style": "IPY_MODEL_ab2a4b4771a0490a84054612f39deeab",
            "value": "Downloading: 100%"
          }
        },
        "9d1f46a5b67b4c628872c4bb0421e4a8": {
          "model_module": "@jupyter-widgets/controls",
          "model_name": "FloatProgressModel",
          "model_module_version": "1.5.0",
          "state": {
            "_dom_classes": [],
            "_model_module": "@jupyter-widgets/controls",
            "_model_module_version": "1.5.0",
            "_model_name": "FloatProgressModel",
            "_view_count": null,
            "_view_module": "@jupyter-widgets/controls",
            "_view_module_version": "1.5.0",
            "_view_name": "ProgressView",
            "bar_style": "success",
            "description": "",
            "description_tooltip": null,
            "layout": "IPY_MODEL_bc1116f1963c449c92198f4c9d1e06f8",
            "max": 456318,
            "min": 0,
            "orientation": "horizontal",
            "style": "IPY_MODEL_146035dccc984755a6d918daceba3406",
            "value": 456318
          }
        },
        "da99d8a31dca4a08881ce42f55b9000f": {
          "model_module": "@jupyter-widgets/controls",
          "model_name": "HTMLModel",
          "model_module_version": "1.5.0",
          "state": {
            "_dom_classes": [],
            "_model_module": "@jupyter-widgets/controls",
            "_model_module_version": "1.5.0",
            "_model_name": "HTMLModel",
            "_view_count": null,
            "_view_module": "@jupyter-widgets/controls",
            "_view_module_version": "1.5.0",
            "_view_name": "HTMLView",
            "description": "",
            "description_tooltip": null,
            "layout": "IPY_MODEL_c57eac9702e64dc09beb04577021be60",
            "placeholder": "​",
            "style": "IPY_MODEL_dc5c99498b7a4ad3bb34f9999e7ce16f",
            "value": " 446k/446k [00:00&lt;00:00, 8.08MB/s]"
          }
        },
        "e7a7020346eb43a6a181d8f1b1bc61a8": {
          "model_module": "@jupyter-widgets/base",
          "model_name": "LayoutModel",
          "model_module_version": "1.2.0",
          "state": {
            "_model_module": "@jupyter-widgets/base",
            "_model_module_version": "1.2.0",
            "_model_name": "LayoutModel",
            "_view_count": null,
            "_view_module": "@jupyter-widgets/base",
            "_view_module_version": "1.2.0",
            "_view_name": "LayoutView",
            "align_content": null,
            "align_items": null,
            "align_self": null,
            "border": null,
            "bottom": null,
            "display": null,
            "flex": null,
            "flex_flow": null,
            "grid_area": null,
            "grid_auto_columns": null,
            "grid_auto_flow": null,
            "grid_auto_rows": null,
            "grid_column": null,
            "grid_gap": null,
            "grid_row": null,
            "grid_template_areas": null,
            "grid_template_columns": null,
            "grid_template_rows": null,
            "height": null,
            "justify_content": null,
            "justify_items": null,
            "left": null,
            "margin": null,
            "max_height": null,
            "max_width": null,
            "min_height": null,
            "min_width": null,
            "object_fit": null,
            "object_position": null,
            "order": null,
            "overflow": null,
            "overflow_x": null,
            "overflow_y": null,
            "padding": null,
            "right": null,
            "top": null,
            "visibility": null,
            "width": null
          }
        },
        "b3866a8f73a940998ef12439997699ba": {
          "model_module": "@jupyter-widgets/base",
          "model_name": "LayoutModel",
          "model_module_version": "1.2.0",
          "state": {
            "_model_module": "@jupyter-widgets/base",
            "_model_module_version": "1.2.0",
            "_model_name": "LayoutModel",
            "_view_count": null,
            "_view_module": "@jupyter-widgets/base",
            "_view_module_version": "1.2.0",
            "_view_name": "LayoutView",
            "align_content": null,
            "align_items": null,
            "align_self": null,
            "border": null,
            "bottom": null,
            "display": null,
            "flex": null,
            "flex_flow": null,
            "grid_area": null,
            "grid_auto_columns": null,
            "grid_auto_flow": null,
            "grid_auto_rows": null,
            "grid_column": null,
            "grid_gap": null,
            "grid_row": null,
            "grid_template_areas": null,
            "grid_template_columns": null,
            "grid_template_rows": null,
            "height": null,
            "justify_content": null,
            "justify_items": null,
            "left": null,
            "margin": null,
            "max_height": null,
            "max_width": null,
            "min_height": null,
            "min_width": null,
            "object_fit": null,
            "object_position": null,
            "order": null,
            "overflow": null,
            "overflow_x": null,
            "overflow_y": null,
            "padding": null,
            "right": null,
            "top": null,
            "visibility": null,
            "width": null
          }
        },
        "ab2a4b4771a0490a84054612f39deeab": {
          "model_module": "@jupyter-widgets/controls",
          "model_name": "DescriptionStyleModel",
          "model_module_version": "1.5.0",
          "state": {
            "_model_module": "@jupyter-widgets/controls",
            "_model_module_version": "1.5.0",
            "_model_name": "DescriptionStyleModel",
            "_view_count": null,
            "_view_module": "@jupyter-widgets/base",
            "_view_module_version": "1.2.0",
            "_view_name": "StyleView",
            "description_width": ""
          }
        },
        "bc1116f1963c449c92198f4c9d1e06f8": {
          "model_module": "@jupyter-widgets/base",
          "model_name": "LayoutModel",
          "model_module_version": "1.2.0",
          "state": {
            "_model_module": "@jupyter-widgets/base",
            "_model_module_version": "1.2.0",
            "_model_name": "LayoutModel",
            "_view_count": null,
            "_view_module": "@jupyter-widgets/base",
            "_view_module_version": "1.2.0",
            "_view_name": "LayoutView",
            "align_content": null,
            "align_items": null,
            "align_self": null,
            "border": null,
            "bottom": null,
            "display": null,
            "flex": null,
            "flex_flow": null,
            "grid_area": null,
            "grid_auto_columns": null,
            "grid_auto_flow": null,
            "grid_auto_rows": null,
            "grid_column": null,
            "grid_gap": null,
            "grid_row": null,
            "grid_template_areas": null,
            "grid_template_columns": null,
            "grid_template_rows": null,
            "height": null,
            "justify_content": null,
            "justify_items": null,
            "left": null,
            "margin": null,
            "max_height": null,
            "max_width": null,
            "min_height": null,
            "min_width": null,
            "object_fit": null,
            "object_position": null,
            "order": null,
            "overflow": null,
            "overflow_x": null,
            "overflow_y": null,
            "padding": null,
            "right": null,
            "top": null,
            "visibility": null,
            "width": null
          }
        },
        "146035dccc984755a6d918daceba3406": {
          "model_module": "@jupyter-widgets/controls",
          "model_name": "ProgressStyleModel",
          "model_module_version": "1.5.0",
          "state": {
            "_model_module": "@jupyter-widgets/controls",
            "_model_module_version": "1.5.0",
            "_model_name": "ProgressStyleModel",
            "_view_count": null,
            "_view_module": "@jupyter-widgets/base",
            "_view_module_version": "1.2.0",
            "_view_name": "StyleView",
            "bar_color": null,
            "description_width": ""
          }
        },
        "c57eac9702e64dc09beb04577021be60": {
          "model_module": "@jupyter-widgets/base",
          "model_name": "LayoutModel",
          "model_module_version": "1.2.0",
          "state": {
            "_model_module": "@jupyter-widgets/base",
            "_model_module_version": "1.2.0",
            "_model_name": "LayoutModel",
            "_view_count": null,
            "_view_module": "@jupyter-widgets/base",
            "_view_module_version": "1.2.0",
            "_view_name": "LayoutView",
            "align_content": null,
            "align_items": null,
            "align_self": null,
            "border": null,
            "bottom": null,
            "display": null,
            "flex": null,
            "flex_flow": null,
            "grid_area": null,
            "grid_auto_columns": null,
            "grid_auto_flow": null,
            "grid_auto_rows": null,
            "grid_column": null,
            "grid_gap": null,
            "grid_row": null,
            "grid_template_areas": null,
            "grid_template_columns": null,
            "grid_template_rows": null,
            "height": null,
            "justify_content": null,
            "justify_items": null,
            "left": null,
            "margin": null,
            "max_height": null,
            "max_width": null,
            "min_height": null,
            "min_width": null,
            "object_fit": null,
            "object_position": null,
            "order": null,
            "overflow": null,
            "overflow_x": null,
            "overflow_y": null,
            "padding": null,
            "right": null,
            "top": null,
            "visibility": null,
            "width": null
          }
        },
        "dc5c99498b7a4ad3bb34f9999e7ce16f": {
          "model_module": "@jupyter-widgets/controls",
          "model_name": "DescriptionStyleModel",
          "model_module_version": "1.5.0",
          "state": {
            "_model_module": "@jupyter-widgets/controls",
            "_model_module_version": "1.5.0",
            "_model_name": "DescriptionStyleModel",
            "_view_count": null,
            "_view_module": "@jupyter-widgets/base",
            "_view_module_version": "1.2.0",
            "_view_name": "StyleView",
            "description_width": ""
          }
        },
        "b51bead2aaf24aa58d145021c35a360d": {
          "model_module": "@jupyter-widgets/controls",
          "model_name": "HBoxModel",
          "model_module_version": "1.5.0",
          "state": {
            "_dom_classes": [],
            "_model_module": "@jupyter-widgets/controls",
            "_model_module_version": "1.5.0",
            "_model_name": "HBoxModel",
            "_view_count": null,
            "_view_module": "@jupyter-widgets/controls",
            "_view_module_version": "1.5.0",
            "_view_name": "HBoxView",
            "box_style": "",
            "children": [
              "IPY_MODEL_36e2e443b4bd488d902c1b19737234bf",
              "IPY_MODEL_4e746dbdbf524466b1cf8626a818db24",
              "IPY_MODEL_d3fcddf47af444ce968ae5eb60223b5e"
            ],
            "layout": "IPY_MODEL_caf1823542454f56ad8e1d33bbbfc248"
          }
        },
        "36e2e443b4bd488d902c1b19737234bf": {
          "model_module": "@jupyter-widgets/controls",
          "model_name": "HTMLModel",
          "model_module_version": "1.5.0",
          "state": {
            "_dom_classes": [],
            "_model_module": "@jupyter-widgets/controls",
            "_model_module_version": "1.5.0",
            "_model_name": "HTMLModel",
            "_view_count": null,
            "_view_module": "@jupyter-widgets/controls",
            "_view_module_version": "1.5.0",
            "_view_name": "HTMLView",
            "description": "",
            "description_tooltip": null,
            "layout": "IPY_MODEL_b9f5034eacb347e48b753e9b127e6c15",
            "placeholder": "​",
            "style": "IPY_MODEL_7e8b21c53795458daf500c38da3d694a",
            "value": "Downloading: 100%"
          }
        },
        "4e746dbdbf524466b1cf8626a818db24": {
          "model_module": "@jupyter-widgets/controls",
          "model_name": "FloatProgressModel",
          "model_module_version": "1.5.0",
          "state": {
            "_dom_classes": [],
            "_model_module": "@jupyter-widgets/controls",
            "_model_module_version": "1.5.0",
            "_model_name": "FloatProgressModel",
            "_view_count": null,
            "_view_module": "@jupyter-widgets/controls",
            "_view_module_version": "1.5.0",
            "_view_name": "ProgressView",
            "bar_style": "success",
            "description": "",
            "description_tooltip": null,
            "layout": "IPY_MODEL_b8948a998ac54fcda5cdfbf4f1df277d",
            "max": 665,
            "min": 0,
            "orientation": "horizontal",
            "style": "IPY_MODEL_28f9344122d14abb95a732b2d652d65f",
            "value": 665
          }
        },
        "d3fcddf47af444ce968ae5eb60223b5e": {
          "model_module": "@jupyter-widgets/controls",
          "model_name": "HTMLModel",
          "model_module_version": "1.5.0",
          "state": {
            "_dom_classes": [],
            "_model_module": "@jupyter-widgets/controls",
            "_model_module_version": "1.5.0",
            "_model_name": "HTMLModel",
            "_view_count": null,
            "_view_module": "@jupyter-widgets/controls",
            "_view_module_version": "1.5.0",
            "_view_name": "HTMLView",
            "description": "",
            "description_tooltip": null,
            "layout": "IPY_MODEL_127fafb487d244edbed59348664d4266",
            "placeholder": "​",
            "style": "IPY_MODEL_2b73a2b4d6c4425eb798de933354ddb0",
            "value": " 665/665 [00:00&lt;00:00, 3.61kB/s]"
          }
        },
        "caf1823542454f56ad8e1d33bbbfc248": {
          "model_module": "@jupyter-widgets/base",
          "model_name": "LayoutModel",
          "model_module_version": "1.2.0",
          "state": {
            "_model_module": "@jupyter-widgets/base",
            "_model_module_version": "1.2.0",
            "_model_name": "LayoutModel",
            "_view_count": null,
            "_view_module": "@jupyter-widgets/base",
            "_view_module_version": "1.2.0",
            "_view_name": "LayoutView",
            "align_content": null,
            "align_items": null,
            "align_self": null,
            "border": null,
            "bottom": null,
            "display": null,
            "flex": null,
            "flex_flow": null,
            "grid_area": null,
            "grid_auto_columns": null,
            "grid_auto_flow": null,
            "grid_auto_rows": null,
            "grid_column": null,
            "grid_gap": null,
            "grid_row": null,
            "grid_template_areas": null,
            "grid_template_columns": null,
            "grid_template_rows": null,
            "height": null,
            "justify_content": null,
            "justify_items": null,
            "left": null,
            "margin": null,
            "max_height": null,
            "max_width": null,
            "min_height": null,
            "min_width": null,
            "object_fit": null,
            "object_position": null,
            "order": null,
            "overflow": null,
            "overflow_x": null,
            "overflow_y": null,
            "padding": null,
            "right": null,
            "top": null,
            "visibility": null,
            "width": null
          }
        },
        "b9f5034eacb347e48b753e9b127e6c15": {
          "model_module": "@jupyter-widgets/base",
          "model_name": "LayoutModel",
          "model_module_version": "1.2.0",
          "state": {
            "_model_module": "@jupyter-widgets/base",
            "_model_module_version": "1.2.0",
            "_model_name": "LayoutModel",
            "_view_count": null,
            "_view_module": "@jupyter-widgets/base",
            "_view_module_version": "1.2.0",
            "_view_name": "LayoutView",
            "align_content": null,
            "align_items": null,
            "align_self": null,
            "border": null,
            "bottom": null,
            "display": null,
            "flex": null,
            "flex_flow": null,
            "grid_area": null,
            "grid_auto_columns": null,
            "grid_auto_flow": null,
            "grid_auto_rows": null,
            "grid_column": null,
            "grid_gap": null,
            "grid_row": null,
            "grid_template_areas": null,
            "grid_template_columns": null,
            "grid_template_rows": null,
            "height": null,
            "justify_content": null,
            "justify_items": null,
            "left": null,
            "margin": null,
            "max_height": null,
            "max_width": null,
            "min_height": null,
            "min_width": null,
            "object_fit": null,
            "object_position": null,
            "order": null,
            "overflow": null,
            "overflow_x": null,
            "overflow_y": null,
            "padding": null,
            "right": null,
            "top": null,
            "visibility": null,
            "width": null
          }
        },
        "7e8b21c53795458daf500c38da3d694a": {
          "model_module": "@jupyter-widgets/controls",
          "model_name": "DescriptionStyleModel",
          "model_module_version": "1.5.0",
          "state": {
            "_model_module": "@jupyter-widgets/controls",
            "_model_module_version": "1.5.0",
            "_model_name": "DescriptionStyleModel",
            "_view_count": null,
            "_view_module": "@jupyter-widgets/base",
            "_view_module_version": "1.2.0",
            "_view_name": "StyleView",
            "description_width": ""
          }
        },
        "b8948a998ac54fcda5cdfbf4f1df277d": {
          "model_module": "@jupyter-widgets/base",
          "model_name": "LayoutModel",
          "model_module_version": "1.2.0",
          "state": {
            "_model_module": "@jupyter-widgets/base",
            "_model_module_version": "1.2.0",
            "_model_name": "LayoutModel",
            "_view_count": null,
            "_view_module": "@jupyter-widgets/base",
            "_view_module_version": "1.2.0",
            "_view_name": "LayoutView",
            "align_content": null,
            "align_items": null,
            "align_self": null,
            "border": null,
            "bottom": null,
            "display": null,
            "flex": null,
            "flex_flow": null,
            "grid_area": null,
            "grid_auto_columns": null,
            "grid_auto_flow": null,
            "grid_auto_rows": null,
            "grid_column": null,
            "grid_gap": null,
            "grid_row": null,
            "grid_template_areas": null,
            "grid_template_columns": null,
            "grid_template_rows": null,
            "height": null,
            "justify_content": null,
            "justify_items": null,
            "left": null,
            "margin": null,
            "max_height": null,
            "max_width": null,
            "min_height": null,
            "min_width": null,
            "object_fit": null,
            "object_position": null,
            "order": null,
            "overflow": null,
            "overflow_x": null,
            "overflow_y": null,
            "padding": null,
            "right": null,
            "top": null,
            "visibility": null,
            "width": null
          }
        },
        "28f9344122d14abb95a732b2d652d65f": {
          "model_module": "@jupyter-widgets/controls",
          "model_name": "ProgressStyleModel",
          "model_module_version": "1.5.0",
          "state": {
            "_model_module": "@jupyter-widgets/controls",
            "_model_module_version": "1.5.0",
            "_model_name": "ProgressStyleModel",
            "_view_count": null,
            "_view_module": "@jupyter-widgets/base",
            "_view_module_version": "1.2.0",
            "_view_name": "StyleView",
            "bar_color": null,
            "description_width": ""
          }
        },
        "127fafb487d244edbed59348664d4266": {
          "model_module": "@jupyter-widgets/base",
          "model_name": "LayoutModel",
          "model_module_version": "1.2.0",
          "state": {
            "_model_module": "@jupyter-widgets/base",
            "_model_module_version": "1.2.0",
            "_model_name": "LayoutModel",
            "_view_count": null,
            "_view_module": "@jupyter-widgets/base",
            "_view_module_version": "1.2.0",
            "_view_name": "LayoutView",
            "align_content": null,
            "align_items": null,
            "align_self": null,
            "border": null,
            "bottom": null,
            "display": null,
            "flex": null,
            "flex_flow": null,
            "grid_area": null,
            "grid_auto_columns": null,
            "grid_auto_flow": null,
            "grid_auto_rows": null,
            "grid_column": null,
            "grid_gap": null,
            "grid_row": null,
            "grid_template_areas": null,
            "grid_template_columns": null,
            "grid_template_rows": null,
            "height": null,
            "justify_content": null,
            "justify_items": null,
            "left": null,
            "margin": null,
            "max_height": null,
            "max_width": null,
            "min_height": null,
            "min_width": null,
            "object_fit": null,
            "object_position": null,
            "order": null,
            "overflow": null,
            "overflow_x": null,
            "overflow_y": null,
            "padding": null,
            "right": null,
            "top": null,
            "visibility": null,
            "width": null
          }
        },
        "2b73a2b4d6c4425eb798de933354ddb0": {
          "model_module": "@jupyter-widgets/controls",
          "model_name": "DescriptionStyleModel",
          "model_module_version": "1.5.0",
          "state": {
            "_model_module": "@jupyter-widgets/controls",
            "_model_module_version": "1.5.0",
            "_model_name": "DescriptionStyleModel",
            "_view_count": null,
            "_view_module": "@jupyter-widgets/base",
            "_view_module_version": "1.2.0",
            "_view_name": "StyleView",
            "description_width": ""
          }
        },
        "cb78dadfb24544cab75462b25dac7a49": {
          "model_module": "@jupyter-widgets/controls",
          "model_name": "HBoxModel",
          "model_module_version": "1.5.0",
          "state": {
            "_dom_classes": [],
            "_model_module": "@jupyter-widgets/controls",
            "_model_module_version": "1.5.0",
            "_model_name": "HBoxModel",
            "_view_count": null,
            "_view_module": "@jupyter-widgets/controls",
            "_view_module_version": "1.5.0",
            "_view_name": "HBoxView",
            "box_style": "",
            "children": [
              "IPY_MODEL_385fceed7fd9446e90085fda235ca514",
              "IPY_MODEL_c8cc826cccf441f6b83dd3921679cb91",
              "IPY_MODEL_11000b395e1f403aa5f847e3fa0b7441"
            ],
            "layout": "IPY_MODEL_08da15e038fc432a929cc20ae6878c56"
          }
        },
        "385fceed7fd9446e90085fda235ca514": {
          "model_module": "@jupyter-widgets/controls",
          "model_name": "HTMLModel",
          "model_module_version": "1.5.0",
          "state": {
            "_dom_classes": [],
            "_model_module": "@jupyter-widgets/controls",
            "_model_module_version": "1.5.0",
            "_model_name": "HTMLModel",
            "_view_count": null,
            "_view_module": "@jupyter-widgets/controls",
            "_view_module_version": "1.5.0",
            "_view_name": "HTMLView",
            "description": "",
            "description_tooltip": null,
            "layout": "IPY_MODEL_aa2b46909aff435ebb146758271c65a5",
            "placeholder": "​",
            "style": "IPY_MODEL_111c150453614067b6d754f1cd0dd283",
            "value": "Downloading: 100%"
          }
        },
        "c8cc826cccf441f6b83dd3921679cb91": {
          "model_module": "@jupyter-widgets/controls",
          "model_name": "FloatProgressModel",
          "model_module_version": "1.5.0",
          "state": {
            "_dom_classes": [],
            "_model_module": "@jupyter-widgets/controls",
            "_model_module_version": "1.5.0",
            "_model_name": "FloatProgressModel",
            "_view_count": null,
            "_view_module": "@jupyter-widgets/controls",
            "_view_module_version": "1.5.0",
            "_view_name": "ProgressView",
            "bar_style": "success",
            "description": "",
            "description_tooltip": null,
            "layout": "IPY_MODEL_8f85337859e7405982ffc6a55e2784e5",
            "max": 548118077,
            "min": 0,
            "orientation": "horizontal",
            "style": "IPY_MODEL_46dd15d6d08b407e8ddc80d569bc7340",
            "value": 548118077
          }
        },
        "11000b395e1f403aa5f847e3fa0b7441": {
          "model_module": "@jupyter-widgets/controls",
          "model_name": "HTMLModel",
          "model_module_version": "1.5.0",
          "state": {
            "_dom_classes": [],
            "_model_module": "@jupyter-widgets/controls",
            "_model_module_version": "1.5.0",
            "_model_name": "HTMLModel",
            "_view_count": null,
            "_view_module": "@jupyter-widgets/controls",
            "_view_module_version": "1.5.0",
            "_view_name": "HTMLView",
            "description": "",
            "description_tooltip": null,
            "layout": "IPY_MODEL_4ec8c2f8e6ab444dabe9b28feed6af86",
            "placeholder": "​",
            "style": "IPY_MODEL_20c4f1ea4ae94331bdbf2f4cafe36edf",
            "value": " 523M/523M [00:14&lt;00:00, 50.3MB/s]"
          }
        },
        "08da15e038fc432a929cc20ae6878c56": {
          "model_module": "@jupyter-widgets/base",
          "model_name": "LayoutModel",
          "model_module_version": "1.2.0",
          "state": {
            "_model_module": "@jupyter-widgets/base",
            "_model_module_version": "1.2.0",
            "_model_name": "LayoutModel",
            "_view_count": null,
            "_view_module": "@jupyter-widgets/base",
            "_view_module_version": "1.2.0",
            "_view_name": "LayoutView",
            "align_content": null,
            "align_items": null,
            "align_self": null,
            "border": null,
            "bottom": null,
            "display": null,
            "flex": null,
            "flex_flow": null,
            "grid_area": null,
            "grid_auto_columns": null,
            "grid_auto_flow": null,
            "grid_auto_rows": null,
            "grid_column": null,
            "grid_gap": null,
            "grid_row": null,
            "grid_template_areas": null,
            "grid_template_columns": null,
            "grid_template_rows": null,
            "height": null,
            "justify_content": null,
            "justify_items": null,
            "left": null,
            "margin": null,
            "max_height": null,
            "max_width": null,
            "min_height": null,
            "min_width": null,
            "object_fit": null,
            "object_position": null,
            "order": null,
            "overflow": null,
            "overflow_x": null,
            "overflow_y": null,
            "padding": null,
            "right": null,
            "top": null,
            "visibility": null,
            "width": null
          }
        },
        "aa2b46909aff435ebb146758271c65a5": {
          "model_module": "@jupyter-widgets/base",
          "model_name": "LayoutModel",
          "model_module_version": "1.2.0",
          "state": {
            "_model_module": "@jupyter-widgets/base",
            "_model_module_version": "1.2.0",
            "_model_name": "LayoutModel",
            "_view_count": null,
            "_view_module": "@jupyter-widgets/base",
            "_view_module_version": "1.2.0",
            "_view_name": "LayoutView",
            "align_content": null,
            "align_items": null,
            "align_self": null,
            "border": null,
            "bottom": null,
            "display": null,
            "flex": null,
            "flex_flow": null,
            "grid_area": null,
            "grid_auto_columns": null,
            "grid_auto_flow": null,
            "grid_auto_rows": null,
            "grid_column": null,
            "grid_gap": null,
            "grid_row": null,
            "grid_template_areas": null,
            "grid_template_columns": null,
            "grid_template_rows": null,
            "height": null,
            "justify_content": null,
            "justify_items": null,
            "left": null,
            "margin": null,
            "max_height": null,
            "max_width": null,
            "min_height": null,
            "min_width": null,
            "object_fit": null,
            "object_position": null,
            "order": null,
            "overflow": null,
            "overflow_x": null,
            "overflow_y": null,
            "padding": null,
            "right": null,
            "top": null,
            "visibility": null,
            "width": null
          }
        },
        "111c150453614067b6d754f1cd0dd283": {
          "model_module": "@jupyter-widgets/controls",
          "model_name": "DescriptionStyleModel",
          "model_module_version": "1.5.0",
          "state": {
            "_model_module": "@jupyter-widgets/controls",
            "_model_module_version": "1.5.0",
            "_model_name": "DescriptionStyleModel",
            "_view_count": null,
            "_view_module": "@jupyter-widgets/base",
            "_view_module_version": "1.2.0",
            "_view_name": "StyleView",
            "description_width": ""
          }
        },
        "8f85337859e7405982ffc6a55e2784e5": {
          "model_module": "@jupyter-widgets/base",
          "model_name": "LayoutModel",
          "model_module_version": "1.2.0",
          "state": {
            "_model_module": "@jupyter-widgets/base",
            "_model_module_version": "1.2.0",
            "_model_name": "LayoutModel",
            "_view_count": null,
            "_view_module": "@jupyter-widgets/base",
            "_view_module_version": "1.2.0",
            "_view_name": "LayoutView",
            "align_content": null,
            "align_items": null,
            "align_self": null,
            "border": null,
            "bottom": null,
            "display": null,
            "flex": null,
            "flex_flow": null,
            "grid_area": null,
            "grid_auto_columns": null,
            "grid_auto_flow": null,
            "grid_auto_rows": null,
            "grid_column": null,
            "grid_gap": null,
            "grid_row": null,
            "grid_template_areas": null,
            "grid_template_columns": null,
            "grid_template_rows": null,
            "height": null,
            "justify_content": null,
            "justify_items": null,
            "left": null,
            "margin": null,
            "max_height": null,
            "max_width": null,
            "min_height": null,
            "min_width": null,
            "object_fit": null,
            "object_position": null,
            "order": null,
            "overflow": null,
            "overflow_x": null,
            "overflow_y": null,
            "padding": null,
            "right": null,
            "top": null,
            "visibility": null,
            "width": null
          }
        },
        "46dd15d6d08b407e8ddc80d569bc7340": {
          "model_module": "@jupyter-widgets/controls",
          "model_name": "ProgressStyleModel",
          "model_module_version": "1.5.0",
          "state": {
            "_model_module": "@jupyter-widgets/controls",
            "_model_module_version": "1.5.0",
            "_model_name": "ProgressStyleModel",
            "_view_count": null,
            "_view_module": "@jupyter-widgets/base",
            "_view_module_version": "1.2.0",
            "_view_name": "StyleView",
            "bar_color": null,
            "description_width": ""
          }
        },
        "4ec8c2f8e6ab444dabe9b28feed6af86": {
          "model_module": "@jupyter-widgets/base",
          "model_name": "LayoutModel",
          "model_module_version": "1.2.0",
          "state": {
            "_model_module": "@jupyter-widgets/base",
            "_model_module_version": "1.2.0",
            "_model_name": "LayoutModel",
            "_view_count": null,
            "_view_module": "@jupyter-widgets/base",
            "_view_module_version": "1.2.0",
            "_view_name": "LayoutView",
            "align_content": null,
            "align_items": null,
            "align_self": null,
            "border": null,
            "bottom": null,
            "display": null,
            "flex": null,
            "flex_flow": null,
            "grid_area": null,
            "grid_auto_columns": null,
            "grid_auto_flow": null,
            "grid_auto_rows": null,
            "grid_column": null,
            "grid_gap": null,
            "grid_row": null,
            "grid_template_areas": null,
            "grid_template_columns": null,
            "grid_template_rows": null,
            "height": null,
            "justify_content": null,
            "justify_items": null,
            "left": null,
            "margin": null,
            "max_height": null,
            "max_width": null,
            "min_height": null,
            "min_width": null,
            "object_fit": null,
            "object_position": null,
            "order": null,
            "overflow": null,
            "overflow_x": null,
            "overflow_y": null,
            "padding": null,
            "right": null,
            "top": null,
            "visibility": null,
            "width": null
          }
        },
        "20c4f1ea4ae94331bdbf2f4cafe36edf": {
          "model_module": "@jupyter-widgets/controls",
          "model_name": "DescriptionStyleModel",
          "model_module_version": "1.5.0",
          "state": {
            "_model_module": "@jupyter-widgets/controls",
            "_model_module_version": "1.5.0",
            "_model_name": "DescriptionStyleModel",
            "_view_count": null,
            "_view_module": "@jupyter-widgets/base",
            "_view_module_version": "1.2.0",
            "_view_name": "StyleView",
            "description_width": ""
          }
        },
        "d81bd53740f245168467dc5fc52f7d92": {
          "model_module": "@jupyter-widgets/controls",
          "model_name": "HBoxModel",
          "model_module_version": "1.5.0",
          "state": {
            "_dom_classes": [],
            "_model_module": "@jupyter-widgets/controls",
            "_model_module_version": "1.5.0",
            "_model_name": "HBoxModel",
            "_view_count": null,
            "_view_module": "@jupyter-widgets/controls",
            "_view_module_version": "1.5.0",
            "_view_name": "HBoxView",
            "box_style": "",
            "children": [
              "IPY_MODEL_6eb2e3cc908e4f56ad004e152f33b4b8",
              "IPY_MODEL_93d69eed48cd4a048a5e0c753f5a2229",
              "IPY_MODEL_bafb4abcfab14458bc3ecd8623407491"
            ],
            "layout": "IPY_MODEL_d1281f0053434f539ca1bb1118b393e1"
          }
        },
        "6eb2e3cc908e4f56ad004e152f33b4b8": {
          "model_module": "@jupyter-widgets/controls",
          "model_name": "HTMLModel",
          "model_module_version": "1.5.0",
          "state": {
            "_dom_classes": [],
            "_model_module": "@jupyter-widgets/controls",
            "_model_module_version": "1.5.0",
            "_model_name": "HTMLModel",
            "_view_count": null,
            "_view_module": "@jupyter-widgets/controls",
            "_view_module_version": "1.5.0",
            "_view_name": "HTMLView",
            "description": "",
            "description_tooltip": null,
            "layout": "IPY_MODEL_3acb782ba8bc4309b3ed05fb860a47c1",
            "placeholder": "​",
            "style": "IPY_MODEL_900cebff998744b780008c934581221a",
            "value": "Downloading: 100%"
          }
        },
        "93d69eed48cd4a048a5e0c753f5a2229": {
          "model_module": "@jupyter-widgets/controls",
          "model_name": "FloatProgressModel",
          "model_module_version": "1.5.0",
          "state": {
            "_dom_classes": [],
            "_model_module": "@jupyter-widgets/controls",
            "_model_module_version": "1.5.0",
            "_model_name": "FloatProgressModel",
            "_view_count": null,
            "_view_module": "@jupyter-widgets/controls",
            "_view_module_version": "1.5.0",
            "_view_name": "ProgressView",
            "bar_style": "success",
            "description": "",
            "description_tooltip": null,
            "layout": "IPY_MODEL_695dda75e0bd44c5b4062c229c958afd",
            "max": 1042301,
            "min": 0,
            "orientation": "horizontal",
            "style": "IPY_MODEL_adc81e0816bc418787fb44ec6a49e157",
            "value": 1042301
          }
        },
        "bafb4abcfab14458bc3ecd8623407491": {
          "model_module": "@jupyter-widgets/controls",
          "model_name": "HTMLModel",
          "model_module_version": "1.5.0",
          "state": {
            "_dom_classes": [],
            "_model_module": "@jupyter-widgets/controls",
            "_model_module_version": "1.5.0",
            "_model_name": "HTMLModel",
            "_view_count": null,
            "_view_module": "@jupyter-widgets/controls",
            "_view_module_version": "1.5.0",
            "_view_name": "HTMLView",
            "description": "",
            "description_tooltip": null,
            "layout": "IPY_MODEL_7bd17dc13106440f956f0f604c53bcc6",
            "placeholder": "​",
            "style": "IPY_MODEL_72ff37b91144474eb51e1a7054a94ca5",
            "value": " 0.99M/0.99M [00:00&lt;00:00, 13.5MB/s]"
          }
        },
        "d1281f0053434f539ca1bb1118b393e1": {
          "model_module": "@jupyter-widgets/base",
          "model_name": "LayoutModel",
          "model_module_version": "1.2.0",
          "state": {
            "_model_module": "@jupyter-widgets/base",
            "_model_module_version": "1.2.0",
            "_model_name": "LayoutModel",
            "_view_count": null,
            "_view_module": "@jupyter-widgets/base",
            "_view_module_version": "1.2.0",
            "_view_name": "LayoutView",
            "align_content": null,
            "align_items": null,
            "align_self": null,
            "border": null,
            "bottom": null,
            "display": null,
            "flex": null,
            "flex_flow": null,
            "grid_area": null,
            "grid_auto_columns": null,
            "grid_auto_flow": null,
            "grid_auto_rows": null,
            "grid_column": null,
            "grid_gap": null,
            "grid_row": null,
            "grid_template_areas": null,
            "grid_template_columns": null,
            "grid_template_rows": null,
            "height": null,
            "justify_content": null,
            "justify_items": null,
            "left": null,
            "margin": null,
            "max_height": null,
            "max_width": null,
            "min_height": null,
            "min_width": null,
            "object_fit": null,
            "object_position": null,
            "order": null,
            "overflow": null,
            "overflow_x": null,
            "overflow_y": null,
            "padding": null,
            "right": null,
            "top": null,
            "visibility": null,
            "width": null
          }
        },
        "3acb782ba8bc4309b3ed05fb860a47c1": {
          "model_module": "@jupyter-widgets/base",
          "model_name": "LayoutModel",
          "model_module_version": "1.2.0",
          "state": {
            "_model_module": "@jupyter-widgets/base",
            "_model_module_version": "1.2.0",
            "_model_name": "LayoutModel",
            "_view_count": null,
            "_view_module": "@jupyter-widgets/base",
            "_view_module_version": "1.2.0",
            "_view_name": "LayoutView",
            "align_content": null,
            "align_items": null,
            "align_self": null,
            "border": null,
            "bottom": null,
            "display": null,
            "flex": null,
            "flex_flow": null,
            "grid_area": null,
            "grid_auto_columns": null,
            "grid_auto_flow": null,
            "grid_auto_rows": null,
            "grid_column": null,
            "grid_gap": null,
            "grid_row": null,
            "grid_template_areas": null,
            "grid_template_columns": null,
            "grid_template_rows": null,
            "height": null,
            "justify_content": null,
            "justify_items": null,
            "left": null,
            "margin": null,
            "max_height": null,
            "max_width": null,
            "min_height": null,
            "min_width": null,
            "object_fit": null,
            "object_position": null,
            "order": null,
            "overflow": null,
            "overflow_x": null,
            "overflow_y": null,
            "padding": null,
            "right": null,
            "top": null,
            "visibility": null,
            "width": null
          }
        },
        "900cebff998744b780008c934581221a": {
          "model_module": "@jupyter-widgets/controls",
          "model_name": "DescriptionStyleModel",
          "model_module_version": "1.5.0",
          "state": {
            "_model_module": "@jupyter-widgets/controls",
            "_model_module_version": "1.5.0",
            "_model_name": "DescriptionStyleModel",
            "_view_count": null,
            "_view_module": "@jupyter-widgets/base",
            "_view_module_version": "1.2.0",
            "_view_name": "StyleView",
            "description_width": ""
          }
        },
        "695dda75e0bd44c5b4062c229c958afd": {
          "model_module": "@jupyter-widgets/base",
          "model_name": "LayoutModel",
          "model_module_version": "1.2.0",
          "state": {
            "_model_module": "@jupyter-widgets/base",
            "_model_module_version": "1.2.0",
            "_model_name": "LayoutModel",
            "_view_count": null,
            "_view_module": "@jupyter-widgets/base",
            "_view_module_version": "1.2.0",
            "_view_name": "LayoutView",
            "align_content": null,
            "align_items": null,
            "align_self": null,
            "border": null,
            "bottom": null,
            "display": null,
            "flex": null,
            "flex_flow": null,
            "grid_area": null,
            "grid_auto_columns": null,
            "grid_auto_flow": null,
            "grid_auto_rows": null,
            "grid_column": null,
            "grid_gap": null,
            "grid_row": null,
            "grid_template_areas": null,
            "grid_template_columns": null,
            "grid_template_rows": null,
            "height": null,
            "justify_content": null,
            "justify_items": null,
            "left": null,
            "margin": null,
            "max_height": null,
            "max_width": null,
            "min_height": null,
            "min_width": null,
            "object_fit": null,
            "object_position": null,
            "order": null,
            "overflow": null,
            "overflow_x": null,
            "overflow_y": null,
            "padding": null,
            "right": null,
            "top": null,
            "visibility": null,
            "width": null
          }
        },
        "adc81e0816bc418787fb44ec6a49e157": {
          "model_module": "@jupyter-widgets/controls",
          "model_name": "ProgressStyleModel",
          "model_module_version": "1.5.0",
          "state": {
            "_model_module": "@jupyter-widgets/controls",
            "_model_module_version": "1.5.0",
            "_model_name": "ProgressStyleModel",
            "_view_count": null,
            "_view_module": "@jupyter-widgets/base",
            "_view_module_version": "1.2.0",
            "_view_name": "StyleView",
            "bar_color": null,
            "description_width": ""
          }
        },
        "7bd17dc13106440f956f0f604c53bcc6": {
          "model_module": "@jupyter-widgets/base",
          "model_name": "LayoutModel",
          "model_module_version": "1.2.0",
          "state": {
            "_model_module": "@jupyter-widgets/base",
            "_model_module_version": "1.2.0",
            "_model_name": "LayoutModel",
            "_view_count": null,
            "_view_module": "@jupyter-widgets/base",
            "_view_module_version": "1.2.0",
            "_view_name": "LayoutView",
            "align_content": null,
            "align_items": null,
            "align_self": null,
            "border": null,
            "bottom": null,
            "display": null,
            "flex": null,
            "flex_flow": null,
            "grid_area": null,
            "grid_auto_columns": null,
            "grid_auto_flow": null,
            "grid_auto_rows": null,
            "grid_column": null,
            "grid_gap": null,
            "grid_row": null,
            "grid_template_areas": null,
            "grid_template_columns": null,
            "grid_template_rows": null,
            "height": null,
            "justify_content": null,
            "justify_items": null,
            "left": null,
            "margin": null,
            "max_height": null,
            "max_width": null,
            "min_height": null,
            "min_width": null,
            "object_fit": null,
            "object_position": null,
            "order": null,
            "overflow": null,
            "overflow_x": null,
            "overflow_y": null,
            "padding": null,
            "right": null,
            "top": null,
            "visibility": null,
            "width": null
          }
        },
        "72ff37b91144474eb51e1a7054a94ca5": {
          "model_module": "@jupyter-widgets/controls",
          "model_name": "DescriptionStyleModel",
          "model_module_version": "1.5.0",
          "state": {
            "_model_module": "@jupyter-widgets/controls",
            "_model_module_version": "1.5.0",
            "_model_name": "DescriptionStyleModel",
            "_view_count": null,
            "_view_module": "@jupyter-widgets/base",
            "_view_module_version": "1.2.0",
            "_view_name": "StyleView",
            "description_width": ""
          }
        },
        "ad89603a1e584ff58772777023ce345c": {
          "model_module": "@jupyter-widgets/controls",
          "model_name": "HBoxModel",
          "model_module_version": "1.5.0",
          "state": {
            "_dom_classes": [],
            "_model_module": "@jupyter-widgets/controls",
            "_model_module_version": "1.5.0",
            "_model_name": "HBoxModel",
            "_view_count": null,
            "_view_module": "@jupyter-widgets/controls",
            "_view_module_version": "1.5.0",
            "_view_name": "HBoxView",
            "box_style": "",
            "children": [
              "IPY_MODEL_cff896559a594ec58fc6c5ee22b217c3",
              "IPY_MODEL_2c78c67ae1e04181a597f4620341789a",
              "IPY_MODEL_66d932deb1884ccf957add97c77d663b"
            ],
            "layout": "IPY_MODEL_5910e54c8ebe4c348541f3471d9ca5e7"
          }
        },
        "cff896559a594ec58fc6c5ee22b217c3": {
          "model_module": "@jupyter-widgets/controls",
          "model_name": "HTMLModel",
          "model_module_version": "1.5.0",
          "state": {
            "_dom_classes": [],
            "_model_module": "@jupyter-widgets/controls",
            "_model_module_version": "1.5.0",
            "_model_name": "HTMLModel",
            "_view_count": null,
            "_view_module": "@jupyter-widgets/controls",
            "_view_module_version": "1.5.0",
            "_view_name": "HTMLView",
            "description": "",
            "description_tooltip": null,
            "layout": "IPY_MODEL_fe42bae3000f4358b99a3423123dbd3f",
            "placeholder": "​",
            "style": "IPY_MODEL_a30e427927774052a745ea8ef5197cd7",
            "value": "Downloading: 100%"
          }
        },
        "2c78c67ae1e04181a597f4620341789a": {
          "model_module": "@jupyter-widgets/controls",
          "model_name": "FloatProgressModel",
          "model_module_version": "1.5.0",
          "state": {
            "_dom_classes": [],
            "_model_module": "@jupyter-widgets/controls",
            "_model_module_version": "1.5.0",
            "_model_name": "FloatProgressModel",
            "_view_count": null,
            "_view_module": "@jupyter-widgets/controls",
            "_view_module_version": "1.5.0",
            "_view_name": "ProgressView",
            "bar_style": "success",
            "description": "",
            "description_tooltip": null,
            "layout": "IPY_MODEL_1fc9cbf4d61142c28670d752e014681e",
            "max": 456318,
            "min": 0,
            "orientation": "horizontal",
            "style": "IPY_MODEL_164a41716d9d414ebabbdf06f69ead3c",
            "value": 456318
          }
        },
        "66d932deb1884ccf957add97c77d663b": {
          "model_module": "@jupyter-widgets/controls",
          "model_name": "HTMLModel",
          "model_module_version": "1.5.0",
          "state": {
            "_dom_classes": [],
            "_model_module": "@jupyter-widgets/controls",
            "_model_module_version": "1.5.0",
            "_model_name": "HTMLModel",
            "_view_count": null,
            "_view_module": "@jupyter-widgets/controls",
            "_view_module_version": "1.5.0",
            "_view_name": "HTMLView",
            "description": "",
            "description_tooltip": null,
            "layout": "IPY_MODEL_7abc7e9e6236475f8b1d3633ee1e3a95",
            "placeholder": "​",
            "style": "IPY_MODEL_a82a85e4f7d14253b69e0a2ddfaaeaec",
            "value": " 446k/446k [00:00&lt;00:00, 5.54MB/s]"
          }
        },
        "5910e54c8ebe4c348541f3471d9ca5e7": {
          "model_module": "@jupyter-widgets/base",
          "model_name": "LayoutModel",
          "model_module_version": "1.2.0",
          "state": {
            "_model_module": "@jupyter-widgets/base",
            "_model_module_version": "1.2.0",
            "_model_name": "LayoutModel",
            "_view_count": null,
            "_view_module": "@jupyter-widgets/base",
            "_view_module_version": "1.2.0",
            "_view_name": "LayoutView",
            "align_content": null,
            "align_items": null,
            "align_self": null,
            "border": null,
            "bottom": null,
            "display": null,
            "flex": null,
            "flex_flow": null,
            "grid_area": null,
            "grid_auto_columns": null,
            "grid_auto_flow": null,
            "grid_auto_rows": null,
            "grid_column": null,
            "grid_gap": null,
            "grid_row": null,
            "grid_template_areas": null,
            "grid_template_columns": null,
            "grid_template_rows": null,
            "height": null,
            "justify_content": null,
            "justify_items": null,
            "left": null,
            "margin": null,
            "max_height": null,
            "max_width": null,
            "min_height": null,
            "min_width": null,
            "object_fit": null,
            "object_position": null,
            "order": null,
            "overflow": null,
            "overflow_x": null,
            "overflow_y": null,
            "padding": null,
            "right": null,
            "top": null,
            "visibility": null,
            "width": null
          }
        },
        "fe42bae3000f4358b99a3423123dbd3f": {
          "model_module": "@jupyter-widgets/base",
          "model_name": "LayoutModel",
          "model_module_version": "1.2.0",
          "state": {
            "_model_module": "@jupyter-widgets/base",
            "_model_module_version": "1.2.0",
            "_model_name": "LayoutModel",
            "_view_count": null,
            "_view_module": "@jupyter-widgets/base",
            "_view_module_version": "1.2.0",
            "_view_name": "LayoutView",
            "align_content": null,
            "align_items": null,
            "align_self": null,
            "border": null,
            "bottom": null,
            "display": null,
            "flex": null,
            "flex_flow": null,
            "grid_area": null,
            "grid_auto_columns": null,
            "grid_auto_flow": null,
            "grid_auto_rows": null,
            "grid_column": null,
            "grid_gap": null,
            "grid_row": null,
            "grid_template_areas": null,
            "grid_template_columns": null,
            "grid_template_rows": null,
            "height": null,
            "justify_content": null,
            "justify_items": null,
            "left": null,
            "margin": null,
            "max_height": null,
            "max_width": null,
            "min_height": null,
            "min_width": null,
            "object_fit": null,
            "object_position": null,
            "order": null,
            "overflow": null,
            "overflow_x": null,
            "overflow_y": null,
            "padding": null,
            "right": null,
            "top": null,
            "visibility": null,
            "width": null
          }
        },
        "a30e427927774052a745ea8ef5197cd7": {
          "model_module": "@jupyter-widgets/controls",
          "model_name": "DescriptionStyleModel",
          "model_module_version": "1.5.0",
          "state": {
            "_model_module": "@jupyter-widgets/controls",
            "_model_module_version": "1.5.0",
            "_model_name": "DescriptionStyleModel",
            "_view_count": null,
            "_view_module": "@jupyter-widgets/base",
            "_view_module_version": "1.2.0",
            "_view_name": "StyleView",
            "description_width": ""
          }
        },
        "1fc9cbf4d61142c28670d752e014681e": {
          "model_module": "@jupyter-widgets/base",
          "model_name": "LayoutModel",
          "model_module_version": "1.2.0",
          "state": {
            "_model_module": "@jupyter-widgets/base",
            "_model_module_version": "1.2.0",
            "_model_name": "LayoutModel",
            "_view_count": null,
            "_view_module": "@jupyter-widgets/base",
            "_view_module_version": "1.2.0",
            "_view_name": "LayoutView",
            "align_content": null,
            "align_items": null,
            "align_self": null,
            "border": null,
            "bottom": null,
            "display": null,
            "flex": null,
            "flex_flow": null,
            "grid_area": null,
            "grid_auto_columns": null,
            "grid_auto_flow": null,
            "grid_auto_rows": null,
            "grid_column": null,
            "grid_gap": null,
            "grid_row": null,
            "grid_template_areas": null,
            "grid_template_columns": null,
            "grid_template_rows": null,
            "height": null,
            "justify_content": null,
            "justify_items": null,
            "left": null,
            "margin": null,
            "max_height": null,
            "max_width": null,
            "min_height": null,
            "min_width": null,
            "object_fit": null,
            "object_position": null,
            "order": null,
            "overflow": null,
            "overflow_x": null,
            "overflow_y": null,
            "padding": null,
            "right": null,
            "top": null,
            "visibility": null,
            "width": null
          }
        },
        "164a41716d9d414ebabbdf06f69ead3c": {
          "model_module": "@jupyter-widgets/controls",
          "model_name": "ProgressStyleModel",
          "model_module_version": "1.5.0",
          "state": {
            "_model_module": "@jupyter-widgets/controls",
            "_model_module_version": "1.5.0",
            "_model_name": "ProgressStyleModel",
            "_view_count": null,
            "_view_module": "@jupyter-widgets/base",
            "_view_module_version": "1.2.0",
            "_view_name": "StyleView",
            "bar_color": null,
            "description_width": ""
          }
        },
        "7abc7e9e6236475f8b1d3633ee1e3a95": {
          "model_module": "@jupyter-widgets/base",
          "model_name": "LayoutModel",
          "model_module_version": "1.2.0",
          "state": {
            "_model_module": "@jupyter-widgets/base",
            "_model_module_version": "1.2.0",
            "_model_name": "LayoutModel",
            "_view_count": null,
            "_view_module": "@jupyter-widgets/base",
            "_view_module_version": "1.2.0",
            "_view_name": "LayoutView",
            "align_content": null,
            "align_items": null,
            "align_self": null,
            "border": null,
            "bottom": null,
            "display": null,
            "flex": null,
            "flex_flow": null,
            "grid_area": null,
            "grid_auto_columns": null,
            "grid_auto_flow": null,
            "grid_auto_rows": null,
            "grid_column": null,
            "grid_gap": null,
            "grid_row": null,
            "grid_template_areas": null,
            "grid_template_columns": null,
            "grid_template_rows": null,
            "height": null,
            "justify_content": null,
            "justify_items": null,
            "left": null,
            "margin": null,
            "max_height": null,
            "max_width": null,
            "min_height": null,
            "min_width": null,
            "object_fit": null,
            "object_position": null,
            "order": null,
            "overflow": null,
            "overflow_x": null,
            "overflow_y": null,
            "padding": null,
            "right": null,
            "top": null,
            "visibility": null,
            "width": null
          }
        },
        "a82a85e4f7d14253b69e0a2ddfaaeaec": {
          "model_module": "@jupyter-widgets/controls",
          "model_name": "DescriptionStyleModel",
          "model_module_version": "1.5.0",
          "state": {
            "_model_module": "@jupyter-widgets/controls",
            "_model_module_version": "1.5.0",
            "_model_name": "DescriptionStyleModel",
            "_view_count": null,
            "_view_module": "@jupyter-widgets/base",
            "_view_module_version": "1.2.0",
            "_view_name": "StyleView",
            "description_width": ""
          }
        },
        "c20954b9e618413d9737b05a0ee21cdc": {
          "model_module": "@jupyter-widgets/controls",
          "model_name": "HBoxModel",
          "model_module_version": "1.5.0",
          "state": {
            "_dom_classes": [],
            "_model_module": "@jupyter-widgets/controls",
            "_model_module_version": "1.5.0",
            "_model_name": "HBoxModel",
            "_view_count": null,
            "_view_module": "@jupyter-widgets/controls",
            "_view_module_version": "1.5.0",
            "_view_name": "HBoxView",
            "box_style": "",
            "children": [
              "IPY_MODEL_818486d3b4294c3bb10ff23a13260da9",
              "IPY_MODEL_f4acadbb0a454566886ce4d8d26f64b0",
              "IPY_MODEL_6d043d1cbb9849ecb87c5cf540ca3220"
            ],
            "layout": "IPY_MODEL_8c0178ce0acd4867b14f45fd198ee54e"
          }
        },
        "818486d3b4294c3bb10ff23a13260da9": {
          "model_module": "@jupyter-widgets/controls",
          "model_name": "HTMLModel",
          "model_module_version": "1.5.0",
          "state": {
            "_dom_classes": [],
            "_model_module": "@jupyter-widgets/controls",
            "_model_module_version": "1.5.0",
            "_model_name": "HTMLModel",
            "_view_count": null,
            "_view_module": "@jupyter-widgets/controls",
            "_view_module_version": "1.5.0",
            "_view_name": "HTMLView",
            "description": "",
            "description_tooltip": null,
            "layout": "IPY_MODEL_e1e1a0eabc934a29890a0ada6143ef6c",
            "placeholder": "​",
            "style": "IPY_MODEL_88cd69b46de94b6f876cc47445e0313e",
            "value": "Downloading: 100%"
          }
        },
        "f4acadbb0a454566886ce4d8d26f64b0": {
          "model_module": "@jupyter-widgets/controls",
          "model_name": "FloatProgressModel",
          "model_module_version": "1.5.0",
          "state": {
            "_dom_classes": [],
            "_model_module": "@jupyter-widgets/controls",
            "_model_module_version": "1.5.0",
            "_model_name": "FloatProgressModel",
            "_view_count": null,
            "_view_module": "@jupyter-widgets/controls",
            "_view_module_version": "1.5.0",
            "_view_name": "ProgressView",
            "bar_style": "success",
            "description": "",
            "description_tooltip": null,
            "layout": "IPY_MODEL_e1620eac09fa48c9a2c95ea4d229721b",
            "max": 1355256,
            "min": 0,
            "orientation": "horizontal",
            "style": "IPY_MODEL_194df59483ea4d79976d8b866aac7381",
            "value": 1355256
          }
        },
        "6d043d1cbb9849ecb87c5cf540ca3220": {
          "model_module": "@jupyter-widgets/controls",
          "model_name": "HTMLModel",
          "model_module_version": "1.5.0",
          "state": {
            "_dom_classes": [],
            "_model_module": "@jupyter-widgets/controls",
            "_model_module_version": "1.5.0",
            "_model_name": "HTMLModel",
            "_view_count": null,
            "_view_module": "@jupyter-widgets/controls",
            "_view_module_version": "1.5.0",
            "_view_name": "HTMLView",
            "description": "",
            "description_tooltip": null,
            "layout": "IPY_MODEL_de9684f20c8f43baa97ea5f06d7e43cc",
            "placeholder": "​",
            "style": "IPY_MODEL_ad38c4a3bcfe47b1a7c4c676c11291ce",
            "value": " 1.29M/1.29M [00:00&lt;00:00, 13.9MB/s]"
          }
        },
        "8c0178ce0acd4867b14f45fd198ee54e": {
          "model_module": "@jupyter-widgets/base",
          "model_name": "LayoutModel",
          "model_module_version": "1.2.0",
          "state": {
            "_model_module": "@jupyter-widgets/base",
            "_model_module_version": "1.2.0",
            "_model_name": "LayoutModel",
            "_view_count": null,
            "_view_module": "@jupyter-widgets/base",
            "_view_module_version": "1.2.0",
            "_view_name": "LayoutView",
            "align_content": null,
            "align_items": null,
            "align_self": null,
            "border": null,
            "bottom": null,
            "display": null,
            "flex": null,
            "flex_flow": null,
            "grid_area": null,
            "grid_auto_columns": null,
            "grid_auto_flow": null,
            "grid_auto_rows": null,
            "grid_column": null,
            "grid_gap": null,
            "grid_row": null,
            "grid_template_areas": null,
            "grid_template_columns": null,
            "grid_template_rows": null,
            "height": null,
            "justify_content": null,
            "justify_items": null,
            "left": null,
            "margin": null,
            "max_height": null,
            "max_width": null,
            "min_height": null,
            "min_width": null,
            "object_fit": null,
            "object_position": null,
            "order": null,
            "overflow": null,
            "overflow_x": null,
            "overflow_y": null,
            "padding": null,
            "right": null,
            "top": null,
            "visibility": null,
            "width": null
          }
        },
        "e1e1a0eabc934a29890a0ada6143ef6c": {
          "model_module": "@jupyter-widgets/base",
          "model_name": "LayoutModel",
          "model_module_version": "1.2.0",
          "state": {
            "_model_module": "@jupyter-widgets/base",
            "_model_module_version": "1.2.0",
            "_model_name": "LayoutModel",
            "_view_count": null,
            "_view_module": "@jupyter-widgets/base",
            "_view_module_version": "1.2.0",
            "_view_name": "LayoutView",
            "align_content": null,
            "align_items": null,
            "align_self": null,
            "border": null,
            "bottom": null,
            "display": null,
            "flex": null,
            "flex_flow": null,
            "grid_area": null,
            "grid_auto_columns": null,
            "grid_auto_flow": null,
            "grid_auto_rows": null,
            "grid_column": null,
            "grid_gap": null,
            "grid_row": null,
            "grid_template_areas": null,
            "grid_template_columns": null,
            "grid_template_rows": null,
            "height": null,
            "justify_content": null,
            "justify_items": null,
            "left": null,
            "margin": null,
            "max_height": null,
            "max_width": null,
            "min_height": null,
            "min_width": null,
            "object_fit": null,
            "object_position": null,
            "order": null,
            "overflow": null,
            "overflow_x": null,
            "overflow_y": null,
            "padding": null,
            "right": null,
            "top": null,
            "visibility": null,
            "width": null
          }
        },
        "88cd69b46de94b6f876cc47445e0313e": {
          "model_module": "@jupyter-widgets/controls",
          "model_name": "DescriptionStyleModel",
          "model_module_version": "1.5.0",
          "state": {
            "_model_module": "@jupyter-widgets/controls",
            "_model_module_version": "1.5.0",
            "_model_name": "DescriptionStyleModel",
            "_view_count": null,
            "_view_module": "@jupyter-widgets/base",
            "_view_module_version": "1.2.0",
            "_view_name": "StyleView",
            "description_width": ""
          }
        },
        "e1620eac09fa48c9a2c95ea4d229721b": {
          "model_module": "@jupyter-widgets/base",
          "model_name": "LayoutModel",
          "model_module_version": "1.2.0",
          "state": {
            "_model_module": "@jupyter-widgets/base",
            "_model_module_version": "1.2.0",
            "_model_name": "LayoutModel",
            "_view_count": null,
            "_view_module": "@jupyter-widgets/base",
            "_view_module_version": "1.2.0",
            "_view_name": "LayoutView",
            "align_content": null,
            "align_items": null,
            "align_self": null,
            "border": null,
            "bottom": null,
            "display": null,
            "flex": null,
            "flex_flow": null,
            "grid_area": null,
            "grid_auto_columns": null,
            "grid_auto_flow": null,
            "grid_auto_rows": null,
            "grid_column": null,
            "grid_gap": null,
            "grid_row": null,
            "grid_template_areas": null,
            "grid_template_columns": null,
            "grid_template_rows": null,
            "height": null,
            "justify_content": null,
            "justify_items": null,
            "left": null,
            "margin": null,
            "max_height": null,
            "max_width": null,
            "min_height": null,
            "min_width": null,
            "object_fit": null,
            "object_position": null,
            "order": null,
            "overflow": null,
            "overflow_x": null,
            "overflow_y": null,
            "padding": null,
            "right": null,
            "top": null,
            "visibility": null,
            "width": null
          }
        },
        "194df59483ea4d79976d8b866aac7381": {
          "model_module": "@jupyter-widgets/controls",
          "model_name": "ProgressStyleModel",
          "model_module_version": "1.5.0",
          "state": {
            "_model_module": "@jupyter-widgets/controls",
            "_model_module_version": "1.5.0",
            "_model_name": "ProgressStyleModel",
            "_view_count": null,
            "_view_module": "@jupyter-widgets/base",
            "_view_module_version": "1.2.0",
            "_view_name": "StyleView",
            "bar_color": null,
            "description_width": ""
          }
        },
        "de9684f20c8f43baa97ea5f06d7e43cc": {
          "model_module": "@jupyter-widgets/base",
          "model_name": "LayoutModel",
          "model_module_version": "1.2.0",
          "state": {
            "_model_module": "@jupyter-widgets/base",
            "_model_module_version": "1.2.0",
            "_model_name": "LayoutModel",
            "_view_count": null,
            "_view_module": "@jupyter-widgets/base",
            "_view_module_version": "1.2.0",
            "_view_name": "LayoutView",
            "align_content": null,
            "align_items": null,
            "align_self": null,
            "border": null,
            "bottom": null,
            "display": null,
            "flex": null,
            "flex_flow": null,
            "grid_area": null,
            "grid_auto_columns": null,
            "grid_auto_flow": null,
            "grid_auto_rows": null,
            "grid_column": null,
            "grid_gap": null,
            "grid_row": null,
            "grid_template_areas": null,
            "grid_template_columns": null,
            "grid_template_rows": null,
            "height": null,
            "justify_content": null,
            "justify_items": null,
            "left": null,
            "margin": null,
            "max_height": null,
            "max_width": null,
            "min_height": null,
            "min_width": null,
            "object_fit": null,
            "object_position": null,
            "order": null,
            "overflow": null,
            "overflow_x": null,
            "overflow_y": null,
            "padding": null,
            "right": null,
            "top": null,
            "visibility": null,
            "width": null
          }
        },
        "ad38c4a3bcfe47b1a7c4c676c11291ce": {
          "model_module": "@jupyter-widgets/controls",
          "model_name": "DescriptionStyleModel",
          "model_module_version": "1.5.0",
          "state": {
            "_model_module": "@jupyter-widgets/controls",
            "_model_module_version": "1.5.0",
            "_model_name": "DescriptionStyleModel",
            "_view_count": null,
            "_view_module": "@jupyter-widgets/base",
            "_view_module_version": "1.2.0",
            "_view_name": "StyleView",
            "description_width": ""
          }
        }
      }
    }
  },
  "cells": [
    {
      "cell_type": "markdown",
      "metadata": {
        "id": "view-in-github",
        "colab_type": "text"
      },
      "source": [
        "<a href=\"https://colab.research.google.com/github/chemaar/python-programming-course/blob/master/intro-nlp-2022/Curso_NLP.ipynb\" target=\"_parent\"><img src=\"https://colab.research.google.com/assets/colab-badge.svg\" alt=\"Open In Colab\"/></a>"
      ]
    },
    {
      "cell_type": "markdown",
      "source": [
        "# 🔰 Arrancando con el Procesamiento del Lenguaje Natural\n"
      ],
      "metadata": {
        "id": "EeXFnqYrx75u"
      }
    },
    {
      "cell_type": "markdown",
      "source": [
        "## Ejemplos divertidos\n",
        "\n",
        "* *DALL·E 2 is a new AI system that can create realistic images and art from a description in natural language.* https://openai.com/dall-e-2/ \n",
        "  * https://huggingface.co/spaces/dalle-mini/dalle-mini\n",
        "\n",
        "* \"Darth vader riding a white horse\"\n",
        "\n",
        "![Generado con Dall-E mini](https://github.com/chemaar/python-programming-course/raw/master/intro-nlp-2022/imgs/darth_vader_white_horse.png)\n",
        "\n",
        "* \"Darth vader harvesting strawberries\"\n",
        "\n",
        "![Generado con Dall-E mini](https://github.com/chemaar/python-programming-course/raw/master/intro-nlp-2022/imgs/darth_vader_strawberries.png)\n",
        "\n",
        "\n",
        "* \"restaurant in the isengard tower\"\n",
        "\n",
        "![Generado con Dall-E mini](https://github.com/chemaar/python-programming-course/raw/master/intro-nlp-2022/imgs/isengard.png)\n",
        "\n",
        "\n",
        "* \"mickey mouse doing burlesque\"\n",
        "\n",
        "![Generado con Dall-E mini](https://github.com/chemaar/python-programming-course/raw/master/intro-nlp-2022/imgs/mickey.png)"
      ],
      "metadata": {
        "id": "vfsNjj-XZAxl"
      }
    },
    {
      "cell_type": "markdown",
      "source": [
        "### ❓ Algunas preguntas iniciales...\n",
        "\n",
        "* ¿Aplicaciones de NLP?\n",
        "* ¿Fases en NLP?\n",
        "* ¿Modelos de lenguaje: GPT-3, Bloom, BERT, etc.?\n",
        "* ¿Programación?"
      ],
      "metadata": {
        "id": "qi3KPIriKR9v"
      }
    },
    {
      "cell_type": "markdown",
      "source": [
        "## 📗 Definiciones\n",
        "\n",
        "**Procesamiento del lenguaje natural (*Natural Language Processing*). Es un conjunto de técnicas en el ámbito de la inteligencia artificial y la computación linguistica para habilitar la interacción entre personas y máquinas mediante la programación que permitan a la máquina \"entender\" el universo del discurso.**\n",
        "\n",
        "Otros aspectos:\n",
        "\n",
        "* *Natural Language Understanding* \n",
        "* *Natural Language Generation*\n",
        "* *Name Entity Recognition* \n",
        "* *Text mining* \n",
        "* *Lenguaje formal*\n",
        "* ...\n"
      ],
      "metadata": {
        "id": "UqzCyJC3LESA"
      }
    },
    {
      "cell_type": "markdown",
      "source": [
        "## 📢 Casos de uso y aplicaciones\n",
        "\n",
        "Basándose en que el lenguaje es el medio de comunicación entre personas, se pueden encontrar muchos casos de uso y aplicaciones que se podrán adaptar a los diferentes dominios.\n",
        "\n",
        "*  Análisis de contenidos\n",
        "   * Opinión\n",
        "   * Sentimiento\n",
        "   * Reconocimiento de entidades: lugares, personas, unidades de medida, moneda, códigos, acrónimos, etc.\n",
        "   * Anotación automática\n",
        "   * Búsqueda de patrones de texto\n",
        "   * ...\n",
        "*  Generación de contenidos\n",
        "   * Redacción automática de texto\n",
        "   * Resumen de texto\n",
        "   * Simplificación y personalización de textos\n",
        "   * Verbalización de imágenes\n",
        "   * Recomendación de textos (ej: etiquetas)\n",
        "   * ...\n",
        "*  Interacción\n",
        "   * Bots de productividad\n",
        "   * Chatbots\n",
        "   * ...\n",
        "*  Búsqueda\n",
        "   * Textual (tipo Google)\n",
        "   * Semántica: NLP + Semántica\n",
        "*  Traducción de texto\n",
        "*  Otros:\n",
        "   * Reconocimiento y sintetización de voz\n",
        "\n"
      ],
      "metadata": {
        "id": "sAze_E96M4d6"
      }
    },
    {
      "cell_type": "markdown",
      "source": [
        "### 👷 Tareas concretas\n",
        "* Comparar dos palabras\n",
        "* Búsqueda de palabras similares\n",
        "* Corrección de errores léxicos/sintácticos\n",
        "* ..."
      ],
      "metadata": {
        "id": "rVGExNNOaih0"
      }
    },
    {
      "cell_type": "markdown",
      "source": [
        "## Técnicas y enfoques para el procesamiento de lenguaje natural\n",
        "\n",
        "* Computación linguistica: codificación en un modelo de programación de las reglas léxicas, gramaticales y semánticas de un lenguaje natural. ¿Cómo se analiza un texto en un idioma determinado?\n",
        "* Reglas: implementación del proceso de lenguaje natural mediante reglas.\n",
        "* Aprendizaje automático: para algunos casos de uso, análisis de sentimiento, un clasificador puede ser una opción muy válidad.\n",
        "* Deep Learning (transformers): en tendencia actualmente, codificación del texto y sus relaciones mediante estructuras computables (ej: vectores) basadas en probabilidades.\n",
        "\n",
        "\n",
        "---\n",
        "\n",
        "📔 **_NOTA:_** \n",
        "\n",
        "En general y dependiendo del problema es muy posible que haya que combinar varias técnicas teniendo siempre como base el procesamiento de lenguaje natural para hacer el lenguaje computable, entendible por una máquina, y después explotarlo de la manera más adecuada a nuestras necesidades.\n",
        "\n",
        "---\n",
        "\n",
        "\n",
        "\n"
      ],
      "metadata": {
        "id": "hgpA2EV6SsoP"
      }
    },
    {
      "cell_type": "markdown",
      "source": [
        "❓ ¿Qué casos de uso y/o aplicaciones podríamos encontrar en: comercio electrónico, salud o medios de comunicación?\n",
        "  * Veamos que hacen en el New York times: https://rd.nytimes.com/research/natural-language-understanding "
      ],
      "metadata": {
        "id": "AQ_EYk2uOUtS"
      }
    },
    {
      "cell_type": "markdown",
      "source": [
        "## Problemas conocidos en el procesamiento del lenguaje natural\n",
        "\n",
        "Los problemas principales vienen derivados del aspecto humano del lenguaje que de alguna forma habrá que resolver para que una máquina los pueda entender apropiadamente, de esta forma se pueden destacar algunos como:\n",
        "\n",
        "* Ambiguedad del propio del lenguaje (universo del discurso y semántica): léxica, sintáctica y semántica.\n",
        "* Omisión de elementos clave del contexto (ej: \"it\")\n",
        "* Ironía y sarcasmo\n",
        "* Procesamiento de emojis\n",
        "* Errores propios en el texto\n",
        "* Textos coloquiales (jerga)\n",
        "* Vocabulario técnico (específico)\n",
        "* Acrónimos\n",
        "* Falta de suficientes textos para algunos contextos\n"
      ],
      "metadata": {
        "id": "ObKIO7KvUkP7"
      }
    },
    {
      "cell_type": "markdown",
      "source": [
        "## ⏩ Proceso y actividades en el procesamiento del lenguaje natural\n"
      ],
      "metadata": {
        "id": "-ThBny0cOjFR"
      }
    },
    {
      "cell_type": "markdown",
      "source": [
        "* Tokenización\n",
        "* Lematización (Stemming)\n",
        "* POS (Part of Speech Tagging)\n",
        "* NER (Name Entity Recognition)\n"
      ],
      "metadata": {
        "id": "qNImZ3QKWBXr"
      }
    },
    {
      "cell_type": "markdown",
      "source": [
        "## Tecnología\n",
        "\n",
        "*   [Python Spacy](https://spacy.io/) \n",
        "*   [Python NLTK (Natural Language Toolkit)](https://www.nltk.org/): más orientado a la investigación. \n",
        "*   [Core NLP](https://stanfordnlp.github.io/CoreNLP/): más orientado a la investigación. \n",
        "*   [Gate](https://gate.ac.uk/)\n",
        "*   [Python Keras (Deep Learning) para NLP](https://keras.io/keras_nlp/).\n",
        "*   [Python Pytorch (Deep Learning) para NLP (Facebook)](https://pytorch.org/tutorials/beginner/deep_learning_nlp_tutorial.html). \n",
        "*   Apache Lucene, Solr, ElasticSearch (específico para búsqueda). \n",
        "*   [Python Sci-kit text-analytics](https://scikit-learn.org/stable/tutorial/text_analytics/working_with_text_data.html): general para tareas de aprendizaje automático pero con muchas capacidades para NLP.\n",
        "*  Otras muchas tecnologías ya disponibles como productos configurables en Google u otros proveedores de software de análisis de datos.\n",
        "\n",
        "## Modelos fundacionales\n",
        "*  [HugginFace](https://huggingface.co/models): repositorio de modelos. \n",
        "*  [GTP-3 de OpenAI](https://openai.com/blog/openai-api/). \n",
        "*  [BERT de Google](https://ai.googleblog.com/2018/11/open-sourcing-bert-state-of-art-pre.html)\n",
        "*  Glove, Gensim, etc.\n",
        "*  [MarIA de MareNostrum y BNE](https://github.com/PlanTL-GOB-ES/lm-spanish)\n",
        "\n",
        "📔 Lectura recomendada: \"On the Opportunities and Risks of\n",
        "Foundation Models\". [Ver PDF](https://arxiv.org/pdf/2108.07258.pdf)\n",
        "\n",
        "📰 Noticia interesante: [\"200 languages within a single AI model: A breakthrough in high-quality machine translation\"](https://ai.facebook.com/blog/nllb-200-high-quality-machine-translation/)\n",
        "\n",
        "\n"
      ],
      "metadata": {
        "id": "I8Vu6-qDWUAS"
      }
    },
    {
      "cell_type": "markdown",
      "source": [
        "# ⏬ Procesamiento de lenguaje natural \"puro\" en Python"
      ],
      "metadata": {
        "id": "-s8MZr57cx45"
      }
    },
    {
      "cell_type": "markdown",
      "source": [
        "Supongamos que tenemos un texto como el siguiente (extraído de la Wikipedia):\n",
        "\n",
        "*Jaca es la capital de la comarca de La Jacetania y dista 72 km de Huesca, la capital provincial, y 143 km de Zaragoza. Está situada en el norte de la provincia, en el valle del Aragón, único gran valle paralelo al eje de la cadena pirenaica. La prolongación de este eje, desde la Cuenca de Pamplona, al oeste, hasta la Cuenca de Tremp, al este, facilita las comunicaciones entre Navarra y Cataluña a través del norte de Aragón.*\n",
        "\n",
        "👷 Y se pretende realizar las siguientes tareas:\n",
        "\n",
        "* Extraer estadísticas del texto: nº de palabras, nº de caracteres, palabra más frecuente, etc.\n",
        "* Extraer los nombres propios\n",
        "* Extraer los verbos\n",
        "\n",
        "❓ ¿Cómo se puede proceder?\n",
        "\n",
        "1. Tokenizar el texto\n",
        "2. ¿Estrategia para las signos de puntuación?\n",
        "3. ¿Se pasa el texto a minúsculas/mayúsculas?\n",
        "4. ¿Estrategia con las \"stopwords\"?\n",
        "5. ¿Cómo se resuelven los acrónimos?"
      ],
      "metadata": {
        "id": "OSA7DJOcc1hA"
      }
    },
    {
      "cell_type": "markdown",
      "source": [
        "## Introducción a los procesos básicos de NLP con Python NLTK"
      ],
      "metadata": {
        "id": "_yE9rcfdLG9l"
      }
    },
    {
      "cell_type": "markdown",
      "source": [
        "### **Normalización**\n",
        "\n",
        "Proceso por el cual se crea una versión \"limpia\" del texto. Por ejemplo, pasand a minúsculas, eliminando signos de puntuación, etc. No obstante, hay que tener cuidado porque se puede perder semántica en el proceso, por ejemplo los acrónimos."
      ],
      "metadata": {
        "id": "laV7omr3GPxh"
      }
    },
    {
      "cell_type": "code",
      "source": [
        "import string\n",
        "text = \"Jaca es la capital de la comarca de La Jacetania y dista 72 km de Huesca, la capital provincial, y 143 km de Zaragoza. Está situada en el norte de la provincia, en el valle del Aragón, único gran valle paralelo al eje de la cadena pirenaica. La prolongación de este eje, desde la Cuenca de Pamplona, al oeste, hasta la Cuenca de Tremp, al este, facilita las comunicaciones entre Navarra y Cataluña a través del norte de Aragón.\"\n",
        "text = \"\".join(v for v in text if v not in string.punctuation).lower()\n",
        "text = text.encode(\"utf8\").decode(\"ascii\",'ignore')\n",
        "print(text)"
      ],
      "metadata": {
        "colab": {
          "base_uri": "https://localhost:8080/"
        },
        "id": "GMoYK19xGW0Q",
        "outputId": "273d9e91-16da-436b-e319-acbe5912641e"
      },
      "execution_count": null,
      "outputs": [
        {
          "output_type": "stream",
          "name": "stdout",
          "text": [
            "jaca es la capital de la comarca de la jacetania y dista 72 km de huesca la capital provincial y 143 km de zaragoza est situada en el norte de la provincia en el valle del aragn nico gran valle paralelo al eje de la cadena pirenaica la prolongacin de este eje desde la cuenca de pamplona al oeste hasta la cuenca de tremp al este facilita las comunicaciones entre navarra y catalua a travs del norte de aragn\n"
          ]
        }
      ]
    },
    {
      "cell_type": "markdown",
      "source": [
        "### **Tokenización**\n",
        "\n",
        "Proceso por el cual se obtienen los tokens (palabras) de un texto. Existen diferentes técnicas de tokenización que suelen estar basadas en la separación por espacio en blanco."
      ],
      "metadata": {
        "id": "DlwDFEJjGecu"
      }
    },
    {
      "cell_type": "code",
      "source": [
        "input_text = \"Jaca es la capital de la comarca de La Jacetania y dista 72 km de Huesca, la capital provincial, y 143 km de Zaragoza. Está situada en el norte de la provincia, en el valle del Aragón, único gran valle paralelo al eje de la cadena pirenaica. La prolongación de este eje, desde la Cuenca de Pamplona, al oeste, hasta la Cuenca de Tremp, al este, facilita las comunicaciones entre Navarra y Cataluña a través del norte de Aragón.\"\n",
        "tokens = input_text.split(\" \")\n",
        "print(\"Nº de caracteres: \"+str(len(input_text)))\n",
        "print(\"Nº de palabras: \"+str(len(tokens)))\n",
        "#Huesca, -->es una palabra?\n",
        "#Nombres propios-->son los que empiezan por mayúscula\n",
        "nouns =[token for token in tokens if token[0].isupper()]\n",
        "print(\"Nº de nombres propios: \"+str(len(nouns)))\n",
        "print(nouns)\n",
        "#y \"La Jacetania\"?\n",
        "n_numbers =[token for token in tokens if token.isnumeric()]\n",
        "print(\"Nº de números: \"+str(len(n_numbers)))\n",
        "print(n_numbers)\n",
        "#y los acrónimos?\n",
        "#y los verbos?\n",
        "\n",
        "\n"
      ],
      "metadata": {
        "colab": {
          "base_uri": "https://localhost:8080/"
        },
        "id": "LoRyyT9Dd6TY",
        "outputId": "7060330c-c56b-4512-c45d-85994c8184dd"
      },
      "execution_count": null,
      "outputs": [
        {
          "output_type": "stream",
          "name": "stdout",
          "text": [
            "Nº de caracteres: 427\n",
            "Nº de palabras: 79\n",
            "Nº de nombres propios: 15\n",
            "['Jaca', 'La', 'Jacetania', 'Huesca,', 'Zaragoza.', 'Está', 'Aragón,', 'La', 'Cuenca', 'Pamplona,', 'Cuenca', 'Tremp,', 'Navarra', 'Cataluña', 'Aragón.']\n",
            "Nº de números: 2\n",
            "['72', '143']\n"
          ]
        }
      ]
    },
    {
      "cell_type": "markdown",
      "source": [
        "🔜 Vamos a introducir un poco de NLTK..."
      ],
      "metadata": {
        "id": "4QFrAhljkeVu"
      }
    },
    {
      "cell_type": "code",
      "source": [
        "!pip install nltk\n"
      ],
      "metadata": {
        "colab": {
          "base_uri": "https://localhost:8080/"
        },
        "id": "_HUgGWIsPazO",
        "outputId": "f8d59d69-5ac7-4aa9-8098-6e45204335e2"
      },
      "execution_count": null,
      "outputs": [
        {
          "output_type": "stream",
          "name": "stdout",
          "text": [
            "Looking in indexes: https://pypi.org/simple, https://us-python.pkg.dev/colab-wheels/public/simple/\n",
            "Requirement already satisfied: nltk in /usr/local/lib/python3.7/dist-packages (3.7)\n",
            "Requirement already satisfied: tqdm in /usr/local/lib/python3.7/dist-packages (from nltk) (4.64.0)\n",
            "Requirement already satisfied: regex>=2021.8.3 in /usr/local/lib/python3.7/dist-packages (from nltk) (2022.6.2)\n",
            "Requirement already satisfied: joblib in /usr/local/lib/python3.7/dist-packages (from nltk) (1.1.0)\n",
            "Requirement already satisfied: click in /usr/local/lib/python3.7/dist-packages (from nltk) (7.1.2)\n"
          ]
        }
      ]
    },
    {
      "cell_type": "code",
      "source": [
        "import nltk\n",
        "nltk.download('punkt')\n",
        "\n",
        "from nltk import sent_tokenize\n",
        "from nltk import word_tokenize\n",
        "input_text = \"Jaca es la capital de la comarca de La Jacetania y dista 72 km de Huesca, la capital provincial, y 143 km de Zaragoza. Está situada en el norte de la provincia, en el valle del Aragón, único gran valle paralelo al eje de la cadena pirenaica. La prolongación de este eje, desde la Cuenca de Pamplona, al oeste, hasta la Cuenca de Tremp, al este, facilita las comunicaciones entre Navarra y Cataluña a través del norte de Aragón.\"\n",
        "sentences = sent_tokenize(input_text)\n",
        "print(\"Frases: \"+str(len(sentences)))\n",
        "print(sentences)"
      ],
      "metadata": {
        "colab": {
          "base_uri": "https://localhost:8080/"
        },
        "id": "O2Wh1yf1GkGP",
        "outputId": "48c29f59-dce2-4d3d-df88-d8a9531fbfc8"
      },
      "execution_count": null,
      "outputs": [
        {
          "output_type": "stream",
          "name": "stderr",
          "text": [
            "[nltk_data] Downloading package punkt to /root/nltk_data...\n",
            "[nltk_data]   Unzipping tokenizers/punkt.zip.\n"
          ]
        },
        {
          "output_type": "stream",
          "name": "stdout",
          "text": [
            "Frases: 3\n",
            "['Jaca es la capital de la comarca de La Jacetania y dista 72 km de Huesca, la capital provincial, y 143 km de Zaragoza.', 'Está situada en el norte de la provincia, en el valle del Aragón, único gran valle paralelo al eje de la cadena pirenaica.', 'La prolongación de este eje, desde la Cuenca de Pamplona, al oeste, hasta la Cuenca de Tremp, al este, facilita las comunicaciones entre Navarra y Cataluña a través del norte de Aragón.']\n"
          ]
        }
      ]
    },
    {
      "cell_type": "code",
      "source": [
        "import nltk\n",
        "from nltk.corpus import stopwords\n",
        "nltk.download('stopwords')\n",
        "spanish_stopwords = stopwords.words('spanish')\n",
        "words = [token.replace(\".\",\"\") for token in tokens if token not in spanish_stopwords]\n",
        "print(\"Nº de palabras: \"+str(len(words)))\n",
        "print(words)\n",
        "#Creando mi dataset de words\n",
        "real_words = []\n",
        "position = 0\n",
        "while position < len(words):\n",
        "  if position+1 < len(words)-1 and words[position][0].isupper() and words[position+1][0].isupper():\n",
        "    real_words.append(words[position]+\" \"+words[position+1])\n",
        "    position += 1\n",
        "  else:\n",
        "    real_words.append(words[position])\n",
        "  position += 1\n",
        "\n",
        "print(\"Nº de palabras: \"+str(len(real_words)))\n",
        "print(real_words)  \n",
        "\n",
        "#Se deben incluir reglas muy imperativas.\n",
        "#-->y esto sólo para particionar más o menos bien, si los nombres son de más de dos palabras?\n"
      ],
      "metadata": {
        "id": "bQY0--fVfLl0",
        "colab": {
          "base_uri": "https://localhost:8080/"
        },
        "outputId": "1dfeecd1-adf4-4dd6-c445-485d44c3c801"
      },
      "execution_count": null,
      "outputs": [
        {
          "output_type": "stream",
          "name": "stdout",
          "text": [
            "Nº de palabras: 43\n",
            "['Jaca', 'capital', 'comarca', 'La', 'Jacetania', 'dista', '72', 'km', 'Huesca,', 'capital', 'provincial,', '143', 'km', 'Zaragoza', 'Está', 'situada', 'norte', 'provincia,', 'valle', 'Aragón,', 'único', 'gran', 'valle', 'paralelo', 'eje', 'cadena', 'pirenaica', 'La', 'prolongación', 'eje,', 'Cuenca', 'Pamplona,', 'oeste,', 'Cuenca', 'Tremp,', 'este,', 'facilita', 'comunicaciones', 'Navarra', 'Cataluña', 'través', 'norte', 'Aragón']\n",
            "Nº de palabras: 38\n",
            "['Jaca', 'capital', 'comarca', 'La Jacetania', 'dista', '72', 'km', 'Huesca,', 'capital', 'provincial,', '143', 'km', 'Zaragoza Está', 'situada', 'norte', 'provincia,', 'valle', 'Aragón,', 'único', 'gran', 'valle', 'paralelo', 'eje', 'cadena', 'pirenaica', 'La', 'prolongación', 'eje,', 'Cuenca Pamplona,', 'oeste,', 'Cuenca Tremp,', 'este,', 'facilita', 'comunicaciones', 'Navarra Cataluña', 'través', 'norte', 'Aragón']\n"
          ]
        },
        {
          "output_type": "stream",
          "name": "stderr",
          "text": [
            "[nltk_data] Downloading package stopwords to /root/nltk_data...\n",
            "[nltk_data]   Unzipping corpora/stopwords.zip.\n"
          ]
        }
      ]
    },
    {
      "cell_type": "code",
      "source": [
        "#Resolución de acrónimos\n",
        "acronym_map = {\"km\": \"kilometro\"}\n",
        "acronyms = {token for token in tokens if token in acronym_map}\n",
        "print(acronyms)\n"
      ],
      "metadata": {
        "id": "8JtQUjd5fzO5",
        "colab": {
          "base_uri": "https://localhost:8080/"
        },
        "outputId": "76b578ec-0966-450d-9a70-6f7d8e182b80"
      },
      "execution_count": null,
      "outputs": [
        {
          "output_type": "stream",
          "name": "stdout",
          "text": [
            "{'km'}\n"
          ]
        }
      ]
    },
    {
      "cell_type": "code",
      "source": [
        "#Algunas estadísticas\n",
        "unique_words = set(words)\n",
        "print(\"Nº único de palabras: \"+str(len(unique_words)))\n",
        "#Frequencia de las palabras\n",
        "stats  = {word:words.count(word) for word in unique_words}\n",
        "print(stats)\n",
        "#Top 5\n",
        "top_5_most_frequent = sorted(stats.items(), key=lambda x: x[1], reverse=True)[:5]   \n",
        "print(top_5_most_frequent)"
      ],
      "metadata": {
        "id": "60roFjYtiXpr",
        "colab": {
          "base_uri": "https://localhost:8080/"
        },
        "outputId": "d8374670-9afe-4b6a-cd9a-410e505f1568"
      },
      "execution_count": null,
      "outputs": [
        {
          "output_type": "stream",
          "name": "stdout",
          "text": [
            "Nº único de palabras: 37\n",
            "{'situada': 1, 'cadena': 1, 'Navarra': 1, 'través': 1, 'Cataluña': 1, 'La': 2, 'Tremp,': 1, 'norte': 2, 'Está': 1, 'dista': 1, 'único': 1, '143': 1, 'Zaragoza': 1, 'gran': 1, 'provincia,': 1, 'provincial,': 1, 'Pamplona,': 1, 'Jaca': 1, 'comarca': 1, 'eje,': 1, 'eje': 1, 'valle': 2, 'facilita': 1, 'comunicaciones': 1, 'oeste,': 1, 'capital': 2, 'Huesca,': 1, 'Jacetania': 1, 'Cuenca': 2, 'paralelo': 1, 'pirenaica': 1, 'prolongación': 1, 'este,': 1, '72': 1, 'Aragón': 1, 'Aragón,': 1, 'km': 2}\n",
            "[('La', 2), ('norte', 2), ('valle', 2), ('capital', 2), ('Cuenca', 2)]\n"
          ]
        }
      ]
    },
    {
      "cell_type": "code",
      "source": [
        "from nltk.tokenize import word_tokenize\n",
        "help(word_tokenize)"
      ],
      "metadata": {
        "id": "9oUSxH_DGLMN"
      },
      "execution_count": null,
      "outputs": []
    },
    {
      "cell_type": "code",
      "source": [
        "#!pip install nltk\n",
        "import nltk\n",
        "from nltk.tokenize import word_tokenize\n",
        "from nltk.probability import FreqDist\n",
        "nltk.download('punkt')\n",
        "spanish_stopwords = stopwords.words('spanish')\n",
        "\n",
        "tokenized_word=word_tokenize(input_text, language=\"spanish\")\n",
        "print(tokenized_word)\n",
        "\n",
        "fdist = FreqDist(tokenized_word)\n",
        "print(fdist)\n",
        "print(fdist.most_common(5))\n"
      ],
      "metadata": {
        "id": "uhsHblpljpXu"
      },
      "execution_count": null,
      "outputs": []
    },
    {
      "cell_type": "code",
      "source": [
        "import matplotlib.pyplot as plt\n",
        "fdist.plot(30,cumulative=False)\n",
        "plt.show()"
      ],
      "metadata": {
        "id": "1pNBr-VakOVO"
      },
      "execution_count": null,
      "outputs": []
    },
    {
      "cell_type": "code",
      "source": [
        "from wordcloud import WordCloud\n",
        "\n",
        "input_text = \"Jaca es la capital de la comarca de La Jacetania y dista 72 km de Huesca, la capital provincial, y 143 km de Zaragoza. Está situada en el norte de la provincia, en el valle del Aragón, único gran valle paralelo al eje de la cadena pirenaica. La prolongación de este eje, desde la Cuenca de Pamplona, al oeste, hasta la Cuenca de Tremp, al este, facilita las comunicaciones entre Navarra y Cataluña a través del norte de Aragón.\"\n",
        "wordcloud = WordCloud().generate(input_text)\n",
        "plt.figure(figsize = (10,10))\n",
        "plt.imshow(wordcloud)\n",
        "plt.axis(\"off\")\n",
        "plt.show()"
      ],
      "metadata": {
        "id": "eKQvkXhZG2cs"
      },
      "execution_count": null,
      "outputs": []
    },
    {
      "cell_type": "code",
      "source": [
        "#Palabras similares?\n",
        "#Jaccard para conjuntos?\n",
        "def jaccard_similarity(s1, s2):\n",
        "    \"\"\"\n",
        "    Given two sets, it calculates the Jaccard similarity index. \n",
        "    \n",
        "    The Jaccard similarity index is calculated as follows:\n",
        "        \n",
        "        J(X,Y) = |X∩Y| / |X∪Y|\n",
        "\n",
        "    X = {0,1,2,5}\n",
        "    Y = {0,2,3,4}\n",
        "    \n",
        "    Solution: J(X,Y) = |X∩Y| / |X∪Y| = |{0,2}| / |{0,1,2,3,4,5}| = 2/6 = 0.33.\n",
        "\n",
        "    Returns\n",
        "    -------\n",
        "    Float\n",
        "        The Jaccard similarity index.\n",
        "\n",
        "    \"\"\"\n",
        "    if s1 and s2:\n",
        "        intersection_cardinality = len(set.intersection(s1, s2))\n",
        "        union_cardinality = len(set.union(s1, s2))\n",
        "        return intersection_cardinality/float(union_cardinality)\n",
        "    else:\n",
        "        return 0\n",
        "\n",
        "word_1 = set(\"casa\")\n",
        "word_2 = set(\"cosa\")\n",
        "#Una similaridad simplemente basada en conjuntos, muy pobre, no considera ninguna semántica.\n",
        "print(\"Similaridad: \"+str(jaccard_similarity(word_1, word_2)))\n"
      ],
      "metadata": {
        "colab": {
          "base_uri": "https://localhost:8080/"
        },
        "id": "9jPoAJrrpPUb",
        "outputId": "350de6bb-3e8b-4e1e-f482-062bf9d4f9fa"
      },
      "execution_count": null,
      "outputs": [
        {
          "output_type": "stream",
          "name": "stdout",
          "text": [
            "Similaridad: 0.75\n"
          ]
        }
      ]
    },
    {
      "cell_type": "code",
      "source": [
        "from difflib import SequenceMatcher\n",
        "def similar(a, b):\n",
        "    return SequenceMatcher(None, a, b).ratio()\n",
        "\n",
        "word_1 = \"casa\"\n",
        "word_2 = \"cosa\"\n",
        "print(\"Similaridad: \"+str(similar(word_1, word_2)))"
      ],
      "metadata": {
        "colab": {
          "base_uri": "https://localhost:8080/"
        },
        "id": "dwYsiARC3NZ0",
        "outputId": "f7c65fac-016c-4521-e7ac-94f455dc5122"
      },
      "execution_count": null,
      "outputs": [
        {
          "output_type": "stream",
          "name": "stdout",
          "text": [
            "Similaridad: 0.75\n"
          ]
        }
      ]
    },
    {
      "cell_type": "code",
      "source": [
        "!pip install jellyfish"
      ],
      "metadata": {
        "colab": {
          "base_uri": "https://localhost:8080/"
        },
        "id": "6EhKhhR63nSs",
        "outputId": "13139146-bd25-48f3-9161-a093929661ea"
      },
      "execution_count": null,
      "outputs": [
        {
          "output_type": "stream",
          "name": "stdout",
          "text": [
            "Looking in indexes: https://pypi.org/simple, https://us-python.pkg.dev/colab-wheels/public/simple/\n",
            "Collecting jellyfish\n",
            "  Downloading jellyfish-0.9.0.tar.gz (132 kB)\n",
            "\u001b[K     |████████████████████████████████| 132 kB 25.0 MB/s \n",
            "\u001b[?25hBuilding wheels for collected packages: jellyfish\n",
            "  Building wheel for jellyfish (setup.py) ... \u001b[?25l\u001b[?25hdone\n",
            "  Created wheel for jellyfish: filename=jellyfish-0.9.0-cp37-cp37m-linux_x86_64.whl size=73972 sha256=bc9d87bb3f173b926b45bf4f7e63d40121e0f2347c75cfd9f862ff6033857b43\n",
            "  Stored in directory: /root/.cache/pip/wheels/fe/99/4e/646ce766df0d070b0ef04db27aa11543e2767fda3075aec31b\n",
            "Successfully built jellyfish\n",
            "Installing collected packages: jellyfish\n",
            "Successfully installed jellyfish-0.9.0\n"
          ]
        }
      ]
    },
    {
      "cell_type": "markdown",
      "source": [
        "Paquete `jellyfish`:\n",
        "\n",
        "* String comparison:\n",
        "\t* Levenshtein Distance\n",
        "\t* Damerau-Levenshtein Distance\n",
        "\t* Jaro Distance\n",
        "\t* Jaro-Winkler Distance\n",
        "\t* Match Rating Approach Comparison\n",
        "\t* Hamming Distance\n",
        "\n",
        "* Phonetic encoding:\n",
        "\t* American Soundex\n",
        "\t* Metaphone\n",
        "\t* NYSIIS (New York State Identification and Intelligence System)\n",
        "\t* Match Rating Codex"
      ],
      "metadata": {
        "id": "wEfwvHWu34R5"
      }
    },
    {
      "cell_type": "code",
      "source": [
        "#La distancia de Levenshtein, distancia de edición o distancia entre palabras es el \n",
        "#número mínimo de operaciones requeridas para transformar una cadena de caracteres en otra.\n",
        "\n",
        "import jellyfish\n",
        "word_1 = \"casa\"\n",
        "word_2 = \"cosa\"\n",
        "jellyfish.levenshtein_distance(word_1, word_2)"
      ],
      "metadata": {
        "colab": {
          "base_uri": "https://localhost:8080/"
        },
        "id": "6U1S1Nwp3daq",
        "outputId": "b781bc2b-0640-4836-9fae-28bb3a9e197e"
      },
      "execution_count": null,
      "outputs": [
        {
          "output_type": "execute_result",
          "data": {
            "text/plain": [
              "0"
            ]
          },
          "metadata": {},
          "execution_count": 23
        }
      ]
    },
    {
      "cell_type": "markdown",
      "source": [
        "### **Stemming**\n",
        "\n",
        "Proceso por el cual se obtienen las raíces de las palabras."
      ],
      "metadata": {
        "id": "iCxagi9OHCZA"
      }
    },
    {
      "cell_type": "code",
      "source": [
        "from nltk.stem import PorterStemmer\n",
        "#Hay muchos, normalmente Porter o Snowball son los más utilizados\n",
        "ps = PorterStemmer()\n",
        "words = [\"drink\", \"drunk\", \"drinking\", \"drinks\"]\n",
        "for w in words:\n",
        "  print (ps.stem(w))"
      ],
      "metadata": {
        "colab": {
          "base_uri": "https://localhost:8080/"
        },
        "id": "ZzXembHyHEJc",
        "outputId": "45970140-e201-4535-c40b-4f5d6d533b9e"
      },
      "execution_count": null,
      "outputs": [
        {
          "output_type": "stream",
          "name": "stdout",
          "text": [
            "drink\n",
            "drunk\n",
            "drink\n",
            "drink\n"
          ]
        }
      ]
    },
    {
      "cell_type": "markdown",
      "source": [
        "### **Lematización**\n",
        "\n",
        "Proceso por el cual se obtiene una raíz común de las palabras pero teniendo en cuenta el contexto de las palabras. Requiere más tiempo pero se más preciso."
      ],
      "metadata": {
        "id": "x63UgYW7HMKD"
      }
    },
    {
      "cell_type": "code",
      "source": [
        "nltk.download('wordnet')\n",
        "nltk.download('omw-1.4')"
      ],
      "metadata": {
        "colab": {
          "base_uri": "https://localhost:8080/"
        },
        "id": "gNJnhnewHOB8",
        "outputId": "b2183c15-3a41-4ad2-b702-89c75adc5614"
      },
      "execution_count": null,
      "outputs": [
        {
          "output_type": "stream",
          "name": "stderr",
          "text": [
            "[nltk_data] Downloading package wordnet to /root/nltk_data...\n",
            "[nltk_data]   Package wordnet is already up-to-date!\n",
            "[nltk_data] Downloading package omw-1.4 to /root/nltk_data...\n"
          ]
        },
        {
          "output_type": "execute_result",
          "data": {
            "text/plain": [
              "True"
            ]
          },
          "metadata": {},
          "execution_count": 27
        }
      ]
    },
    {
      "cell_type": "code",
      "source": [
        "from nltk.stem import WordNetLemmatizer\n",
        "ps = PorterStemmer()\n",
        "wl = WordNetLemmatizer()\n",
        "print(ps.stem(\"memories\"))\n",
        "print(wl.lemmatize(\"memories\"))\n",
        "print(ps.stem(\"wolves\"))\n",
        "print(wl.lemmatize(\"wolves\"))"
      ],
      "metadata": {
        "colab": {
          "base_uri": "https://localhost:8080/"
        },
        "id": "XtsIEZ1mHP0Z",
        "outputId": "e426b81f-728d-4aec-a372-eeed78d566e3"
      },
      "execution_count": null,
      "outputs": [
        {
          "output_type": "stream",
          "name": "stdout",
          "text": [
            "memori\n",
            "memory\n",
            "wolv\n",
            "wolf\n"
          ]
        }
      ]
    },
    {
      "cell_type": "markdown",
      "source": [
        "### **Chunking**\n",
        "\n",
        "Proceso por el cual se extraen ciertas partes interesantes de un texto. Se establece un patrón para extraer y se obtiene el texto que encaja. En su versión más sencilla puede ser con expresiones regulares, aunque lo ideal es utilizar el POS Tagging."
      ],
      "metadata": {
        "id": "dnJl7U6lHkJr"
      }
    },
    {
      "cell_type": "code",
      "source": [
        "nltk.download('averaged_perceptron_tagger')"
      ],
      "metadata": {
        "colab": {
          "base_uri": "https://localhost:8080/"
        },
        "id": "rdkCD1JxIDqG",
        "outputId": "800884f6-f4c5-4d65-b140-a7f3859b804f"
      },
      "execution_count": null,
      "outputs": [
        {
          "output_type": "stream",
          "name": "stderr",
          "text": [
            "[nltk_data] Downloading package averaged_perceptron_tagger to\n",
            "[nltk_data]     /root/nltk_data...\n",
            "[nltk_data]   Unzipping taggers/averaged_perceptron_tagger.zip.\n"
          ]
        },
        {
          "output_type": "execute_result",
          "data": {
            "text/plain": [
              "True"
            ]
          },
          "metadata": {},
          "execution_count": 30
        }
      ]
    },
    {
      "cell_type": "code",
      "source": [
        "import nltk\n",
        "from nltk.tokenize import word_tokenize\n",
        "stop_words = stopwords.words('english')\n",
        "text = \"The White House is waiting for a new President.\"\n",
        "#Normalizamos\n",
        "text = \"\".join(v for v in text if v not in string.punctuation).lower()\n",
        "#Quitamos stopwords\n",
        "words = [word for word in word_tokenize(text) if word not in stop_words]\n",
        "#Tokenizamos con POS Tagging\n",
        "pos_text = word_tokenize(\" \".join(words))\n",
        "tagged_words = nltk.pos_tag(pos_text)\n",
        "print(tagged_words)\n",
        "#Pattern\n",
        "pattern = \"NP: {<JJ><NN>}\"\n",
        "parser = nltk.RegexpParser(pattern)\n",
        "output = parser.parse(tagged_words)\n",
        "print(output)"
      ],
      "metadata": {
        "id": "VqB927OJHmyg",
        "colab": {
          "base_uri": "https://localhost:8080/"
        },
        "outputId": "124fc78d-d59a-4b0f-9937-f5a44bcf4504"
      },
      "execution_count": null,
      "outputs": [
        {
          "output_type": "stream",
          "name": "stdout",
          "text": [
            "[('white', 'JJ'), ('house', 'NN'), ('waiting', 'VBG'), ('new', 'JJ'), ('president', 'NN')]\n",
            "(S (NP white/JJ house/NN) waiting/VBG (NP new/JJ president/NN))\n"
          ]
        }
      ]
    },
    {
      "cell_type": "markdown",
      "source": [
        "### **Chinking**\n",
        "\n",
        "Proceso por el cual se borrar ciertas partes interesantes de un texto. "
      ],
      "metadata": {
        "id": "3ahZ5cuqHhDy"
      }
    },
    {
      "cell_type": "code",
      "source": [
        "#Quitar stopwords\n",
        "from nltk.corpus import stopwords\n",
        "stop_words = stopwords.words(\"english\")\n",
        "print(stop_words)\n",
        "#Habitualmente este conjunto también lo hay que parametrizar"
      ],
      "metadata": {
        "id": "JV6R3teAH8ix"
      },
      "execution_count": null,
      "outputs": []
    },
    {
      "cell_type": "code",
      "source": [
        "nltk.download('averaged_perceptron_tagger')"
      ],
      "metadata": {
        "id": "cQDeMG1RIBkP"
      },
      "execution_count": null,
      "outputs": []
    },
    {
      "cell_type": "code",
      "source": [
        "import nltk\n",
        "from nltk.chunk.regexp import ChunkRule\n",
        "from nltk.tokenize import word_tokenize\n",
        "from nltk.chunk import RegexpChunkParser \n",
        "text = \"The White House is waiting for a new President.\"\n",
        "#Normalizamos\n",
        "text = \"\".join(v for v in text if v not in string.punctuation).lower()\n",
        "#Quitamos stopwords\n",
        "words = [word for word in word_tokenize(text) if word not in stop_words]\n",
        "#Tokenizamos con POS Tagging\n",
        "pos_text = word_tokenize(\" \".join(words))\n",
        "tagged_words = nltk.pos_tag(pos_text)\n",
        "print(tagged_words)\n",
        "#Pattern\n",
        "ur = ChunkRule('<NN>', 'single noun') \n",
        "parser = nltk.RegexpChunkParser([ur])\n",
        "output = parser.parse(tagged_words)\n",
        "print(output)"
      ],
      "metadata": {
        "id": "o4xLYMgbHi31"
      },
      "execution_count": null,
      "outputs": []
    },
    {
      "cell_type": "markdown",
      "source": [
        "### **POS Tagging**\n",
        "\n",
        "Proceso por el cual se asignan las categorías sintácticas a las diferentes palabras."
      ],
      "metadata": {
        "id": "n6RsKdYbIbTO"
      }
    },
    {
      "cell_type": "code",
      "source": [
        "nltk.download('averaged_perceptron_tagger')\n",
        "nltk.download('tagsets')"
      ],
      "metadata": {
        "colab": {
          "base_uri": "https://localhost:8080/"
        },
        "id": "eORteoxGIdMi",
        "outputId": "716c9f88-ab2a-45a9-ea58-1b996e081c6c"
      },
      "execution_count": null,
      "outputs": [
        {
          "output_type": "stream",
          "name": "stderr",
          "text": [
            "[nltk_data] Downloading package averaged_perceptron_tagger to\n",
            "[nltk_data]     /root/nltk_data...\n",
            "[nltk_data]   Package averaged_perceptron_tagger is already up-to-\n",
            "[nltk_data]       date!\n",
            "[nltk_data] Downloading package tagsets to /root/nltk_data...\n",
            "[nltk_data]   Unzipping help/tagsets.zip.\n"
          ]
        },
        {
          "output_type": "execute_result",
          "data": {
            "text/plain": [
              "True"
            ]
          },
          "metadata": {},
          "execution_count": 32
        }
      ]
    },
    {
      "cell_type": "code",
      "source": [
        "import nltk\n",
        "from nltk.tokenize import word_tokenize\n",
        "text = \"Most senior Democrats and former Justice Department officials agree a top contender for the position is Sally Q. Yates, the former deputy attorney general whose tenure stretched from 2015 to the early, tumultuous days of the Trump administration. Other names under consideration include Sen. Doug Jones (D-Ala.), former homeland security secretary Jeh Johnson, former Massachusetts governor Deval Patrick, California Attorney General Xavier Becerra and former White House adviser Lisa Monaco. Behind the scenes, each Democratic contender has a constituency as well as detractors. But whomever Biden picks will have to be confirmed by a Senate that is currently controlled by Republicans, and take command of a department wracked by accusations of politicization.\"\n",
        "#Normalizamos\n",
        "text = \"\".join(v for v in text if v not in string.punctuation).lower()\n",
        "#Quitamos stopwords\n",
        "words = [word for word in word_tokenize(text) if word not in stop_words]\n",
        "#Tokenizamos con POS Taggin\n",
        "pos_text = word_tokenize(\" \".join(words))\n",
        "nltk.pos_tag(pos_text)"
      ],
      "metadata": {
        "id": "QnaD9NIrIelw"
      },
      "execution_count": null,
      "outputs": []
    },
    {
      "cell_type": "markdown",
      "source": [
        "### **Semántica con Wordnet**\n",
        "\n",
        "Proceso por el cual se consulta el significado de las palabras. En este caso utilizando una ontología o, mejor dicho, una base de datos léxica como Wordnet."
      ],
      "metadata": {
        "id": "ZLffD3ttHdn4"
      }
    },
    {
      "cell_type": "code",
      "source": [
        "nltk.download('omw-1.4')"
      ],
      "metadata": {
        "id": "U4z56SnRIK4z"
      },
      "execution_count": null,
      "outputs": []
    },
    {
      "cell_type": "code",
      "source": [
        "from nltk.corpus import wordnet\n",
        "\n",
        "for words in wordnet.synsets(\"Happy\"):\n",
        "  for lemma in words.lemmas():\n",
        "    print(lemma)\n",
        "  print()\n",
        "\n",
        "word = wordnet.synsets(\"Happy\")[0]\n",
        "print(word.name())\n",
        "print(word.definition())\n",
        "print(word.examples())\n",
        "print(word.hypernyms())\n",
        "print(word.hyponyms())\n",
        "\n",
        "\n",
        "syns = []\n",
        "ants = []\n",
        "for word in wordnet.synsets(\"New\"):\n",
        "  for lemma in word.lemmas():\n",
        "    syns.append(lemma.name())\n",
        "    if lemma.antonyms():\n",
        "      ants.append(lemma.antonyms()[0].name())\n",
        "print(syns)\n",
        "print(ants)"
      ],
      "metadata": {
        "colab": {
          "base_uri": "https://localhost:8080/"
        },
        "id": "Zx3N8I_WHbDa",
        "outputId": "145bf556-4727-4d10-8f06-4304cbd077a4"
      },
      "execution_count": null,
      "outputs": [
        {
          "output_type": "stream",
          "name": "stdout",
          "text": [
            "Lemma('happy.a.01.happy')\n",
            "\n",
            "Lemma('felicitous.s.02.felicitous')\n",
            "Lemma('felicitous.s.02.happy')\n",
            "\n",
            "Lemma('glad.s.02.glad')\n",
            "Lemma('glad.s.02.happy')\n",
            "\n",
            "Lemma('happy.s.04.happy')\n",
            "Lemma('happy.s.04.well-chosen')\n",
            "\n",
            "happy.a.01\n",
            "enjoying or showing or marked by joy or pleasure\n",
            "['a happy smile', 'spent many happy days on the beach', 'a happy marriage']\n",
            "[]\n",
            "[]\n",
            "['new', 'fresh', 'new', 'novel', 'raw', 'new', 'new', 'unexampled', 'new', 'new', 'newfangled', 'new', 'New', 'Modern', 'New', 'new', 'young', 'new', 'newly', 'freshly', 'fresh', 'new']\n",
            "['old', 'worn']\n"
          ]
        }
      ]
    },
    {
      "cell_type": "markdown",
      "source": [
        "## 🚦 Evaluación inicial\n",
        "\n",
        "* Operaciones básicas para gestionar el nivel léxico pueden llegar a complicarse enormemente dependiendo del contexto. Por ejemplo: acrónimos.\n",
        "* Reconocimiento de entidades \"a mano\" require de fuente de conocimiento externa. Por ejemplo: un listado de entidades a reconocer, nombres, lugares, etc.\n",
        "* Las reglas gramaticales se deben codificar \"a mano\".\n",
        "* La semántica del lenguaje no queda recogida de ninguna forma.\n",
        "* No existe una forma de representar el texto y sus relaciones.\n",
        "* Dificultad en enlazar las tareas propias del procesamiento de lenguaje natural.\n",
        "* Muchos de los problemas intrínsecos al procesamiento del lenguaje natural no se resuelven fácilmente.\n",
        "\n",
        "**Necesidad de bibliotecas y configuración.**\n",
        "\n",
        "* NLP tradicional requiere comprensión del contexto.\n",
        "* Un proceso de configuración (manual).\n",
        "* Ontologías para mejorar la semántica.\n",
        "* Predictivo e interpretable.\n",
        "* No muchos datos.\n",
        "* Rápido."
      ],
      "metadata": {
        "id": "iDBrDdC94bwb"
      }
    },
    {
      "cell_type": "markdown",
      "source": [
        "# ⏫ Procesamiento de lenguaje natural con Python Spacy"
      ],
      "metadata": {
        "id": "qZSSngMJWM73"
      }
    },
    {
      "cell_type": "markdown",
      "source": [
        "* Industrial-Strength Natural Language Processing\n",
        "* Orientado a la generación de soluciones de procesamiento de lenguaje natural.\n",
        "* No es un API, es una biblioteca de funcionalidades habituales.\n",
        "\n",
        "Algunas características:\n",
        "\n",
        "* ❎ Support for 66+ languages\n",
        "* ❎ 73 trained pipelines for 22 languages\n",
        "* ❎ Multi-task learning with pretrained transformers like BERT\n",
        "* ❎ Pretrained word vectors\n",
        "* ❎ State-of-the-art speed\n",
        "* ❎ Production-ready training system\n",
        "* ❎ Linguistically-motivated tokenization\n",
        "* ❎ Components for named entity recognition, part-of-speech tagging, dependency parsing, sentence segmentation, text classification, lemmatization, morphological analysis, entity linking and more\n",
        "* ❎ Easily extensible with custom components and attributes\n",
        "* ❎ Support for custom models in PyTorch, TensorFlow and other frameworks\n",
        "* ❎ Built in visualizers for syntax and NER\n",
        "* ❎ Easy model packaging, deployment and workflow management\n",
        "* ❎ Robust, rigorously evaluated accuracy"
      ],
      "metadata": {
        "id": "_22RgGG-kpbE"
      }
    },
    {
      "cell_type": "markdown",
      "source": [
        "* Modelo de procesamiento basado en un [pipeline](https://spacy.io/usage/processing-pipelines).\n",
        "\n",
        "![Imagen oficial](https://d33wubrfki0l68.cloudfront.net/3ad0582d97663a1272ffc4ccf09f1c5b335b17e9/7f49c/pipeline-fde48da9b43661abcdf62ab70a546d71.svg)\n",
        "\n",
        "\n",
        "* Ver documentación: https://spacy.io/usage/processing-pipelines\n",
        "\n",
        "\n"
      ],
      "metadata": {
        "id": "73PkIPRW60xX"
      }
    },
    {
      "cell_type": "code",
      "source": [
        "!python -m spacy download es_core_news_sm"
      ],
      "metadata": {
        "id": "0KE4tYzu6vVJ"
      },
      "execution_count": null,
      "outputs": []
    },
    {
      "cell_type": "code",
      "source": [
        "!python -m spacy download ko_core_news_sm"
      ],
      "metadata": {
        "id": "E6VclCFYKbSV"
      },
      "execution_count": null,
      "outputs": []
    },
    {
      "cell_type": "code",
      "source": [
        "import spacy\n",
        "nlp = spacy.load(\"ko_core_news_sm\")\n",
        "doc = nlp(\"이것은 문장입니다.\")\n",
        "print([(w.text, w.pos_) for w in doc])"
      ],
      "metadata": {
        "id": "XnWxY9DMKYZ_"
      },
      "execution_count": null,
      "outputs": []
    },
    {
      "cell_type": "code",
      "source": [
        "displacy.render(doc, style=\"dep\", jupyter=True)"
      ],
      "metadata": {
        "id": "6oraHo1kKmJy"
      },
      "execution_count": null,
      "outputs": []
    },
    {
      "cell_type": "code",
      "execution_count": null,
      "metadata": {
        "id": "R946OyoGw-e_"
      },
      "outputs": [],
      "source": [
        "#pip install -U spacy\n",
        "#python -m spacy download en_core_web_sm\n",
        "import spacy\n",
        "\n",
        "#Load Spanish tokenizer, tagger, parser and NER\n",
        "nlp = spacy.load(\"es_core_news_sm\")\n",
        "\n",
        "#Procesamiento de texto (también por líneas)\n",
        "input_text = \"Jaca es la capital de la comarca de La Jacetania y dista 72 km de Huesca, la capital provincial, y 143 km de Zaragoza. Está situada en el norte de la provincia, en el valle del Aragón, único gran valle paralelo al eje de la cadena pirenaica. La prolongación de este eje, desde la Cuenca de Pamplona, al oeste, hasta la Cuenca de Tremp, al este, facilita las comunicaciones entre Navarra y Cataluña a través del norte de Aragón.\"\n",
        "doc = nlp(input_text)\n",
        "\n"
      ]
    },
    {
      "cell_type": "code",
      "source": [
        "#Visualizar dependencias\n",
        "from spacy import displacy\n",
        "displacy.render(doc, style=\"dep\", jupyter=True)"
      ],
      "metadata": {
        "id": "Xhje4q3F8mwL"
      },
      "execution_count": null,
      "outputs": []
    },
    {
      "cell_type": "markdown",
      "source": [
        "|POS|DESCRIPTION|EXAMPLES|\n",
        "|---|---|---|\n",
        "|ADJ|adjective|\"*big, old, green, incomprehensible| first*\" |\n",
        "|ADP|adposition|\"*in, to, during*\" |\n",
        "|ADV|adverb|\"*very, tomorrow, down, where, there*\" |\n",
        "|AUX|auxiliary|\"*is, has (done), will (do), should (do)*\" |\n",
        "|CONJ|conjunction|\"*and, or, but*\" |\n",
        "|CCONJ|coordinating conjunction|\"*and, or, but*\" |\n",
        "|DET|determiner|\"*a, an, the*\" |\n",
        "|INTJ|interjection|\"*psst, ouch, bravo, hello*\" |\n",
        "|NOUN|noun|\"*girl, cat, tree, air, beauty*\" |\n",
        "|NUM|numeral|\"*1, 2017, one, seventy-seven, IV, MMXIV*\" |\n",
        "|PART|particle|\"*’s, not,*\" |\n",
        "|PRON|pronoun|\"*I, you, he, she, myself, themselves, somebody*\" |\n",
        "|PROPN|proper noun|\"*Mary|, John, London, NATO, HBO*\" |\n",
        "|PUNCT|punctuation|\"*., ( ), ?*\" |\n",
        "|SCONJ|subordinating conjunction|\"*if|, while, that*\" |\n",
        "|SYM|symbol|\"*$|, %|, §, ©|, +, −, ×, ÷, =, :)| *\" |\n",
        "|VERB|verb|\"*run, runs, running, eat, ate, eating*\" |\n",
        "|X|other|*sfpksdpsxmsa* |\n",
        "|SPACE|space||"
      ],
      "metadata": {
        "id": "x5nbD7-tUN1Q"
      }
    },
    {
      "cell_type": "code",
      "source": [
        "#POS Tagging\n",
        "for token in doc:\n",
        "    print(token.text, token.lemma_, token.pos_, token.tag_, token.dep_, token.shape_, token.is_alpha, token.is_stop)"
      ],
      "metadata": {
        "id": "8wA4UacJARHq"
      },
      "execution_count": null,
      "outputs": []
    },
    {
      "cell_type": "code",
      "source": [
        "#Morfología\n",
        "for token in doc:\n",
        "  print(token.text+ \"  \"+str(token.morph))"
      ],
      "metadata": {
        "id": "8zx6htUo-oJr"
      },
      "execution_count": null,
      "outputs": []
    },
    {
      "cell_type": "code",
      "source": [
        "#Lematización\n",
        "for token in doc:\n",
        "  print(token.text+ \"  \"+token.lemma_)"
      ],
      "metadata": {
        "id": "q4gX6eVg_P1Q"
      },
      "execution_count": null,
      "outputs": []
    },
    {
      "cell_type": "code",
      "source": [
        "#Sintaxis\n",
        "print(\"Noun phrases:\", [chunk.text for chunk in doc.noun_chunks])\n",
        "print(\"Verbos:\", [token.lemma_ for token in doc if token.pos_ == \"VERB\"])"
      ],
      "metadata": {
        "id": "tNKUi7YU75u5",
        "colab": {
          "base_uri": "https://localhost:8080/"
        },
        "outputId": "25bbede5-50a9-4017-e513-fae921fb640b"
      },
      "execution_count": null,
      "outputs": [
        {
          "output_type": "stream",
          "name": "stdout",
          "text": [
            "Noun phrases: ['Jaca', 'la comarca', 'La Jacetania', 'dista', 'km', 'Huesca', ', la capital provincial', 'km', 'Zaragoza', 'el norte', 'la provincia', ', en el valle', 'Aragón', ', único gran valle', 'paralelo al eje', 'la cadena pirenaica', 'La prolongación', 'este eje', ', desde la Cuenca de Pamplona, al oeste', ', hasta la Cuenca de Tremp', ', al este', 'las comunicaciones', 'Navarra', 'Cataluña', 'través del norte', 'Aragón']\n",
            "Verbos: ['facilitar']\n"
          ]
        }
      ]
    },
    {
      "cell_type": "code",
      "source": [
        "#Chunk de nombres\n",
        "for chunk in doc.noun_chunks:\n",
        "    print(chunk.text, chunk.root.text, chunk.root.dep_, chunk.root.head.text)"
      ],
      "metadata": {
        "id": "UjgAARQY_maz"
      },
      "execution_count": null,
      "outputs": []
    },
    {
      "cell_type": "code",
      "source": [
        "#Árbol de parseado\n",
        "for token in doc:\n",
        "    print(token.text, token.dep_, token.head.text, token.head.pos_, [child for child in token.children])"
      ],
      "metadata": {
        "id": "xrL5baxU_0sp"
      },
      "execution_count": null,
      "outputs": []
    },
    {
      "cell_type": "code",
      "source": [
        "#Reconocimiento de entidades\n",
        "input_text = \"Obama is the president of United of States of America\"\n",
        "doc = nlp(input_text)\n",
        "for ent in doc.ents:\n",
        "    print(ent.text, ent.start_char, ent.end_char, ent.label_)"
      ],
      "metadata": {
        "id": "luJ8hjof76z8"
      },
      "execution_count": null,
      "outputs": []
    },
    {
      "cell_type": "markdown",
      "source": [
        "| Tipo  |  Descripción  |\n",
        "|---|---|\n",
        "| PERSON | People, including fictional.|\n",
        "| NORP | Nationalities or religious or political groups.| \n",
        "|FAC | Buildings, airports, highways, bridges, etc.| \n",
        "|ORG | Companies, agencies, institutions, etc.|\n",
        "|GPE | Countries, cities, states.| \n",
        "|LOC | Non-GPE locations, mountain ranges, bodies of water.| \n",
        "|PRODUCT |  Objects, vehicles, foods, etc. (Not services.)| \n",
        "|EVENT | Named hurricanes, battles, wars, sports events, etc.| \n",
        "|WORK_OF_ART | Titles of books, songs, etc.| \n",
        "|LAW | Named documents made into laws.| \n",
        "|LANGUAGE | Any named language.| \n",
        "|DATE | Absolute or relative dates or periods.| \n",
        "|TIME | Times smaller than a day.| \n",
        "|PERCENT | Percentage, including ”%“.| \n",
        "|MONEY | Monetary values, including unit.| \n",
        "|QUANTITY | Measurements, as of weight or distance.| \n",
        "|ORDINAL | “first”, “second”, etc.| \n",
        "|CARDINAL | Numerals that do not fall under another type.| a"
      ],
      "metadata": {
        "id": "2mg-SF0nRpIr"
      }
    },
    {
      "cell_type": "code",
      "source": [
        "#Visualización de texto etiquetado\n",
        "displacy.render(doc, style=\"ent\", jupyter=True)"
      ],
      "metadata": {
        "id": "Vb57ErUD8yvw",
        "colab": {
          "base_uri": "https://localhost:8080/",
          "height": 52
        },
        "outputId": "53ae2690-b7ab-42d0-c05f-6daa7bf93394"
      },
      "execution_count": null,
      "outputs": [
        {
          "output_type": "display_data",
          "data": {
            "text/plain": [
              "<IPython.core.display.HTML object>"
            ],
            "text/html": [
              "<span class=\"tex2jax_ignore\"><div class=\"entities\" style=\"line-height: 2.5; direction: ltr\">\n",
              "<mark class=\"entity\" style=\"background: #ddd; padding: 0.45em 0.6em; margin: 0 0.25em; line-height: 1; border-radius: 0.35em;\">\n",
              "    Obama\n",
              "    <span style=\"font-size: 0.8em; font-weight: bold; line-height: 1; border-radius: 0.35em; vertical-align: middle; margin-left: 0.5rem\">PER</span>\n",
              "</mark>\n",
              " is the president of \n",
              "<mark class=\"entity\" style=\"background: #7aecec; padding: 0.45em 0.6em; margin: 0 0.25em; line-height: 1; border-radius: 0.35em;\">\n",
              "    United of States of America\n",
              "    <span style=\"font-size: 0.8em; font-weight: bold; line-height: 1; border-radius: 0.35em; vertical-align: middle; margin-left: 0.5rem\">ORG</span>\n",
              "</mark>\n",
              ", km</div></span>"
            ]
          },
          "metadata": {}
        }
      ]
    },
    {
      "cell_type": "code",
      "source": [
        "#Tokenización personalizada. Ver ejemplos: https://spacy.io/usage/linguistic-features#tokenization\n",
        "\n",
        "import spacy\n",
        "from spacy.symbols import ORTH\n",
        "\n",
        "nlp = spacy.load(\"en_core_web_sm\")\n",
        "doc = nlp(\"gimme that\")  # phrase to tokenize\n",
        "print([w.text for w in doc])  # ['gimme', 'that']\n",
        "\n",
        "# Add special case rule\n",
        "special_case = [{ORTH: \"gim\"}, {ORTH: \"me\"}]\n",
        "nlp.tokenizer.add_special_case(\"gimme\", special_case)\n",
        "\n",
        "# Check new tokenization\n",
        "print([w.text for w in nlp(\"gimme that\")])  # ['gim', 'me', 'that']"
      ],
      "metadata": {
        "id": "0EWDb1QxA3RF",
        "colab": {
          "base_uri": "https://localhost:8080/"
        },
        "outputId": "d6214b07-35f1-4ce0-b7a5-b847ea938312"
      },
      "execution_count": null,
      "outputs": [
        {
          "output_type": "stream",
          "name": "stdout",
          "text": [
            "['gimme', 'that']\n",
            "['gim', 'me', 'that']\n"
          ]
        }
      ]
    },
    {
      "cell_type": "code",
      "source": [
        "#Representación como un vector\n",
        "import spacy\n",
        "nlp = spacy.load(\"es_core_news_sm\")\n",
        "# Procesando texto\n",
        "doc = nlp(\"Dos coches están aparcados en la universidad\")\n",
        "# Ver el vector\n",
        "coches_vector = doc[1].vector\n",
        "print(coches_vector)"
      ],
      "metadata": {
        "id": "f5p-Kdn9DFQN"
      },
      "execution_count": null,
      "outputs": []
    },
    {
      "cell_type": "code",
      "source": [
        "#Similaridad de palabras\n",
        "\n",
        "import spacy\n",
        "\n",
        "nlp = spacy.load(\"es_core_news_sm\")\n",
        "\n",
        "doc = nlp(\"coche y moto\")\n",
        "token1, token2 = doc[0], doc[2]\n",
        "\n",
        "similarity = token1.similarity(token2)\n",
        "print(similarity)\n",
        "\n",
        "\n",
        "doc = nlp(\"coche y moto\")\n",
        "token1, token2 = doc[0], doc[2]\n",
        "\n",
        "similarity = token1.similarity(token2)\n",
        "print(similarity)\n",
        "\n",
        "\n",
        "doc = nlp(\"coche y árbol\")\n",
        "token1, token2 = doc[0], doc[2]\n",
        "\n",
        "similarity = token1.similarity(token2)\n",
        "print(similarity)"
      ],
      "metadata": {
        "id": "NZiBivvKDzxs"
      },
      "execution_count": null,
      "outputs": []
    },
    {
      "cell_type": "code",
      "source": [
        "#Similaridad a nivel de frase\n",
        "import spacy\n",
        "\n",
        "nlp = spacy.load(\"es_core_news_sm\")\n",
        "doc1 = nlp(\"Hoy hace un día caluroso\")\n",
        "doc2 = nlp(\"Es un día soleado\")\n",
        "\n",
        "similarity = doc1.similarity(doc2)\n",
        "print(similarity)\n",
        "\n",
        "doc1 = nlp(\"Hoy hace un día caluroso\")\n",
        "doc2 = nlp(\"Es un día lluvioso\")\n",
        "\n",
        "similarity = doc1.similarity(doc2)\n",
        "print(similarity)"
      ],
      "metadata": {
        "id": "TG8MRxiyDcJ9"
      },
      "execution_count": null,
      "outputs": []
    },
    {
      "cell_type": "markdown",
      "source": [
        "# 🦾 Tendencias en procesamiento de lenguaje natural\n"
      ],
      "metadata": {
        "id": "Uy-5WvP-In6D"
      }
    },
    {
      "cell_type": "markdown",
      "source": [
        "##Notas generales sobre Deep Learning\n",
        "\n",
        "* ¿Cómo se puede aplicar DL para NLP?\n",
        "* ¿Cómo se representan las palabras?\n",
        "\n",
        "Referencias:\n",
        "\n",
        "* http://mccormickml.com/2016/04/19/word2vec-tutorial-the-skip-gram-model/\n",
        "* http://jalammar.github.io/mit-analytics-lab-talk/"
      ],
      "metadata": {
        "id": "YUOZyqtcIszP"
      }
    },
    {
      "cell_type": "code",
      "source": [
        "from IPython.display import IFrame\n",
        "IFrame(src='//www.slideshare.net/slideshow/embed_code/key/K23kAMkMyKHDUr', width=595, height=485)"
      ],
      "metadata": {
        "id": "7z2CZ3sBYJ3H"
      },
      "execution_count": null,
      "outputs": []
    },
    {
      "cell_type": "markdown",
      "source": [
        "### Representación de información textual\n",
        "\n",
        "* One-hot encoding: dado un vector de vocabulario donde cada palabra está en un posición, un texto se corresponde con un vector de 0's y 1's.\n",
        "  * Problema: no guarda el contexto entre las palabras\n",
        "\n",
        "* Word Embeddings: se representa la probabilidad de aparición de las palabras de forma conjunta con una ventana de tamaño n.\n",
        "\n",
        "![Curso de Stanford NLP](https://github.com/chemaar/python-programming-course/raw/master/intro-nlp-2022/imgs/word2vec.png)\n",
        "\n",
        "Fuente: [Curso de Stanford NLP](http://web.stanford.edu/class/cs224n/slides/cs224n-2022-lecture01-wordvecs1.pd)\n",
        "\n",
        "\n",
        "Enlaces interesantes:\n",
        "\n",
        "   * Teoría: http://web.stanford.edu/class/cs224n/slides/cs224n-2022-lecture01-wordvecs1.pdf\n",
        "   * [\"Efficient Estimation of Word Representations in Vector Space\"](https://arxiv.org/pdf/1301.3781.pdf)\n",
        "   * [Glove](https://nlp.stanford.edu/projects/glove/)\n",
        "   * [Tutorial de Gooogle](https://colab.research.google.com/github/tensorflow/docs/blob/master/site/en/tutorials/text/word_embeddings.ipynb)"
      ],
      "metadata": {
        "id": "UH8OlkpgEj1y"
      }
    },
    {
      "cell_type": "markdown",
      "source": [
        "## **Word Embeddings**\n"
      ],
      "metadata": {
        "id": "aabDk9_RIxYR"
      }
    },
    {
      "cell_type": "markdown",
      "source": [
        "* Ver en Projector las palabras similares a \"city\": https://projector.tensorflow.org/\n",
        "\n",
        "![Visualizando city](https://github.com/chemaar/python-programming-course/raw/master/intro-nlp-2022/imgs/projector.png)"
      ],
      "metadata": {
        "id": "59Sd64E6Gg9B"
      }
    },
    {
      "cell_type": "markdown",
      "source": [
        "### Modelos para la representación de información en vectores\n",
        "\n",
        "* Skip-gram: dada una palabra, ¿cuál es el conjunto de palabras en una ventana más probable?\n",
        "* C-BOW: dado un contexto (conjunto de palabras), ¿cuál es la palabra más probable?\n",
        "\n",
        "![Curso de Stanford NLP](https://github.com/chemaar/python-programming-course/raw/master/intro-nlp-2022/imgs/skip-gram.png)\n",
        "\n",
        "Fuente: [Exploiting Similarities among Languages for Machine Translation](https://arxiv.org/pdf/1309.4168v1.pdf)"
      ],
      "metadata": {
        "id": "ptP-Zt7BHWAv"
      }
    },
    {
      "cell_type": "markdown",
      "source": [
        "### **Word embeddings: ejemplo gráfico**\n",
        "\n",
        "* Supongamos que queremos generar titulares deportivos...y tenemos\n",
        "  * Una muestra de titulares de periódicos\n",
        "* Necesitamos...\n",
        "  * Aprender cómo escriben los periodistas y generar titulares"
      ],
      "metadata": {
        "id": "l3g5f93x5uhj"
      }
    },
    {
      "cell_type": "markdown",
      "source": [
        "El proceso sería:\n",
        "\n",
        "1.   Texto de ejemplo (se puede hacer preprocesamiento)\n",
        "\n",
        "![Texto de ejemplo](https://github.com/chemaar/python-programming-course/raw/master/intro-nlp-2022/imgs/embed_text.png)\n",
        "\n",
        "2.  Generación de pares con tamaño de ventana 2.\n",
        "\n",
        "3.  Entrenamiento (generación de embeddings).\n",
        "\n",
        "4.  Predicción de texto.\n",
        "\n",
        "\n",
        "**Esto funcionaría sólo para este contexto del partido.**\n",
        "\n",
        "Un partido de una competición NO es generación de texto perse, sino más bien eventos. Así también lo veían en Stanford:\n",
        "\n",
        "![Stanford StoryTelling](https://github.com/chemaar/python-programming-course/raw/master/intro-nlp-2022/imgs/story_telling_1.png)\n",
        "\n",
        "![Stanford StoryTelling](https://github.com/chemaar/python-programming-course/raw/master/intro-nlp-2022/imgs/story_telling_2.png)\n",
        "\n",
        "**Por ello, cambiamos el proceso.**\n",
        "\n",
        "1.   **Texto de ejemplo (se puede hacer preprocesamiento)**\n",
        "\n",
        "![Texto de ejemplo](https://github.com/chemaar/python-programming-course/raw/master/intro-nlp-2022/imgs/embed_text.png)\n",
        "\n",
        "2.  **Generación de pares con tamaño de ventana 2.**\n",
        "\n",
        "![Texto de ejemplo](https://github.com/chemaar/python-programming-course/raw/master/intro-nlp-2022/imgs/embed_pattern.png)\n",
        "\n",
        "3.  **Entrenamiento (generación de embeddings).**\n",
        "\n",
        "![Texto de ejemplo](https://github.com/chemaar/python-programming-course/raw/master/intro-nlp-2022/imgs/embed_result.png)\n",
        "\n",
        "4.  **Predicción de texto.**\n",
        "\n",
        "5.  **Enriquecimiento de texto con un modelo de lenguaje existente (ej: BERT).**\n",
        "\n",
        "\n",
        "**En este caso se definieron varios contextos y se aplicó el mismo proceso...**\n",
        "\n",
        "* Objetivos del equipo y alineación con clasificación actual y resultado.\n",
        "* El tiempo (siempre relevante)\n",
        "* Los eventos del partido\n",
        "* ..."
      ],
      "metadata": {
        "id": "NX-4ZcTx6ESm"
      }
    },
    {
      "cell_type": "code",
      "source": [
        "from IPython.display import IFrame\n",
        "IFrame(src='https://www.youtube.com/embed/xnOxJL6-D-E', width=560, height=315)"
      ],
      "metadata": {
        "colab": {
          "base_uri": "https://localhost:8080/",
          "height": 336
        },
        "id": "eddyPfwk-A1C",
        "outputId": "28b0741e-8671-4a2f-c394-c7a106cd0fee"
      },
      "execution_count": null,
      "outputs": [
        {
          "output_type": "execute_result",
          "data": {
            "text/plain": [
              "<IPython.lib.display.IFrame at 0x7f2c60011a90>"
            ],
            "text/html": [
              "\n",
              "        <iframe\n",
              "            width=\"560\"\n",
              "            height=\"315\"\n",
              "            src=\"https://www.youtube.com/embed/xnOxJL6-D-E\"\n",
              "            frameborder=\"0\"\n",
              "            allowfullscreen\n",
              "        ></iframe>\n",
              "        "
            ]
          },
          "metadata": {},
          "execution_count": 35
        }
      ]
    },
    {
      "cell_type": "markdown",
      "source": [
        "### **Word embeddings paso a paso**"
      ],
      "metadata": {
        "id": "uyFo_TZLsYj7"
      }
    },
    {
      "cell_type": "code",
      "source": [
        "#Fuente original: https://towardsdatascience.com/creating-word-embeddings-coding-the-word2vec-algorithm-in-python-using-deep-learning-b337d0ba17a8\n",
        "\n",
        "\n",
        "import itertools\n",
        "import pandas as pd\n",
        "import numpy as np\n",
        "import re\n",
        "import os\n",
        "from tqdm import tqdm\n",
        "\n",
        "\n",
        "import matplotlib.pyplot as plt\n",
        "\n",
        "# Deep learning: \n",
        "from keras.models import Input, Model\n",
        "from keras.layers import Dense\n",
        "\n",
        "#Utility\n",
        "\n",
        "def create_unique_word_dict(text:list) -> dict:\n",
        "    \"\"\"\n",
        "    A method that creates a dictionary where the keys are unique words\n",
        "    and key values are indices\n",
        "    \"\"\"\n",
        "    # Getting all the unique words from our text and sorting them alphabetically\n",
        "    words = list(set(text))\n",
        "    words.sort()\n",
        "\n",
        "    # Creating the dictionary for the unique words\n",
        "    unique_word_dict = {}\n",
        "    for i, word in enumerate(words):\n",
        "        unique_word_dict.update({\n",
        "            word: i\n",
        "        })\n",
        "\n",
        "    return unique_word_dict "
      ],
      "metadata": {
        "id": "vMc7vqWbtMHG"
      },
      "execution_count": null,
      "outputs": []
    },
    {
      "cell_type": "code",
      "source": [
        "from scipy import sparse\n",
        "\n",
        "texts = [\"Un coche es un vehículo\", \"Una moto es un vehículo\", \"Un coche es rápido\", \"Una moto es menos rápida que un coche\"]\n",
        "window = 2\n",
        "\n",
        "word_lists = []\n",
        "all_text = []\n",
        "\n",
        "for text in texts:\n",
        "    text = [token.lower() for token in text.split()]\n",
        "    all_text += text \n",
        "    # Creating a context dictionary\n",
        "    for i, word in enumerate(text):\n",
        "        for w in range(window):\n",
        "            # Getting the context that is ahead by *window* words\n",
        "            if i + 1 + w < len(text): \n",
        "                word_lists.append([word] + [text[(i + 1 + w)]])\n",
        "            # Getting the context that is behind by *window* words    \n",
        "            if i - w - 1 >= 0:\n",
        "                word_lists.append([word] + [text[(i - w - 1)]])\n",
        "\n",
        "unique_word_dict = create_unique_word_dict(all_text)\n",
        "\n",
        "# Defining the number of features (unique words)\n",
        "n_words = len(unique_word_dict)\n",
        "# Getting all the unique words \n",
        "words = list(unique_word_dict.keys())\n",
        "\n",
        "# Creating the X and Y matrices using one hot encoding\n",
        "X = []\n",
        "Y = []\n",
        "\n",
        "for i, word_list in tqdm(enumerate(word_lists)):\n",
        "    # Getting the indices\n",
        "    main_word_index = unique_word_dict.get(word_list[0])\n",
        "    context_word_index = unique_word_dict.get(word_list[1])\n",
        "\n",
        "    # Creating the placeholders   \n",
        "    X_row = np.zeros(n_words)\n",
        "    Y_row = np.zeros(n_words)\n",
        "\n",
        "    # One hot encoding the main word\n",
        "    X_row[main_word_index] = 1\n",
        "\n",
        "    # One hot encoding the Y matrix words \n",
        "    Y_row[context_word_index] = 1\n",
        "\n",
        "    # Appending to the main matrices\n",
        "    X.append(X_row)\n",
        "    Y.append(Y_row)\n",
        "\n",
        "X = np.asarray(X)\n",
        "Y = np.asarray(Y)\n",
        "\n",
        "# Defining the size of the embedding\n",
        "embed_size = 2 #This is the size of the window\n",
        "\n",
        "# Building the network\n",
        "inp = Input(shape=(X.shape[1],))\n",
        "x = Dense(units=embed_size, activation='linear')(inp)\n",
        "x = Dense(units=Y.shape[1], activation='softmax')(x)\n",
        "model = Model(inputs=inp, outputs=x)\n",
        "model.compile(loss = 'categorical_crossentropy', optimizer = 'adam')\n",
        "\n",
        "# Optimizing the network weights\n",
        "model.fit(x=X, y=Y, batch_size=256, epochs=1000, verbose=False)\n",
        "\n",
        "# Obtaining the weights from the neural network. \n",
        "# These are the so called word embeddings\n",
        "\n",
        "# The input layer \n",
        "weights = model.get_weights()[0]\n",
        "\n",
        "# Creating a dictionary to store the embeddings in. The key is a unique word and \n",
        "# the value is the numeric vector\n",
        "embedding_dict = {}\n",
        "for word in words: \n",
        "    embedding_dict.update({\n",
        "        word: weights[unique_word_dict.get(word)]\n",
        "        })\n",
        "\n",
        "# Ploting the embeddings\n",
        "plt.figure(figsize=(10, 10))\n",
        "for word in list(unique_word_dict.keys()):\n",
        "    coord = embedding_dict.get(word)\n",
        "    plt.scatter(coord[0], coord[1])\n",
        "    plt.annotate(word, (coord[0], coord[1]))   "
      ],
      "metadata": {
        "id": "kiKmrVSVvrfh"
      },
      "execution_count": null,
      "outputs": []
    },
    {
      "cell_type": "markdown",
      "source": [
        "* Un ejemplo con Gensim..."
      ],
      "metadata": {
        "id": "F3wFVnNZyX_1"
      }
    },
    {
      "cell_type": "code",
      "source": [
        "import gensim\n",
        "import gensim.downloader as api\n",
        "from sklearn.metrics.pairwise import cosine_similarity\n",
        "import seaborn as sns\n",
        "import matplotlib.pyplot as plt\n",
        "import warnings\n",
        "warnings.filterwarnings('ignore')\n",
        "# Download embeddings (66MB, glove, trained on wikipedia)\n",
        "model = api.load(\"glove-wiki-gigaword-50\")"
      ],
      "metadata": {
        "colab": {
          "base_uri": "https://localhost:8080/"
        },
        "id": "ZGeNHNadI0Tm",
        "outputId": "40295cea-092a-4a70-fc18-0b32c29c8569"
      },
      "execution_count": null,
      "outputs": [
        {
          "output_type": "stream",
          "name": "stdout",
          "text": [
            "[==================================================] 100.0% 66.0/66.0MB downloaded\n"
          ]
        }
      ]
    },
    {
      "cell_type": "code",
      "source": [
        "model['king']"
      ],
      "metadata": {
        "colab": {
          "base_uri": "https://localhost:8080/"
        },
        "id": "vL2xfNVtI3sD",
        "outputId": "65f6989d-4c35-4da0-83cc-68a759730a7c"
      },
      "execution_count": null,
      "outputs": [
        {
          "output_type": "execute_result",
          "data": {
            "text/plain": [
              "array([ 0.50451 ,  0.68607 , -0.59517 , -0.022801,  0.60046 , -0.13498 ,\n",
              "       -0.08813 ,  0.47377 , -0.61798 , -0.31012 , -0.076666,  1.493   ,\n",
              "       -0.034189, -0.98173 ,  0.68229 ,  0.81722 , -0.51874 , -0.31503 ,\n",
              "       -0.55809 ,  0.66421 ,  0.1961  , -0.13495 , -0.11476 , -0.30344 ,\n",
              "        0.41177 , -2.223   , -1.0756  , -1.0783  , -0.34354 ,  0.33505 ,\n",
              "        1.9927  , -0.04234 , -0.64319 ,  0.71125 ,  0.49159 ,  0.16754 ,\n",
              "        0.34344 , -0.25663 , -0.8523  ,  0.1661  ,  0.40102 ,  1.1685  ,\n",
              "       -1.0137  , -0.21585 , -0.15155 ,  0.78321 , -0.91241 , -1.6106  ,\n",
              "       -0.64426 , -0.51042 ], dtype=float32)"
            ]
          },
          "metadata": {},
          "execution_count": 63
        }
      ]
    },
    {
      "cell_type": "code",
      "source": [
        "def plot_embeddings(vectors, labels=None):\n",
        "    n_vectors = len(vectors)\n",
        "    fig = plt.figure(figsize=(12, n_vectors))\n",
        "    # ax = fig.add_axes([0.1, 0.1, 0.8, 0.8])\n",
        "    # ax = fig.add_axes([1, 1, 1, 1])\n",
        "    ax = plt.gca()\n",
        "    \n",
        "    sns.heatmap(vectors, cmap='RdBu', vmax=2, vmin=-2, ax=ax)\n",
        "    \n",
        "    if labels:\n",
        "        ax.set_yticklabels(labels,rotation=0)\n",
        "        ax.tick_params(axis='both', which='major', labelsize=30)\n",
        "        \n",
        "    plt.tick_params(axis='x',          # changes apply to the x-axis\n",
        "        which='both',      # both major and minor ticks are affected\n",
        "        bottom=False,      # ticks along the bottom edge are off\n",
        "        top=False,         # ticks along the top edge are off\n",
        "        labelbottom=False) # labels along the bottom edge are off\n",
        "    \n",
        "    # From https://github.com/mwaskom/seaborn/issues/1773\n",
        "    # fix for mpl bug that cuts off top/bottom of seaborn viz\n",
        "    b, t = plt.ylim() # discover the values for bottom and top\n",
        "    b += 0.5 # Add 0.5 to the bottom\n",
        "    t -= 0.5 # Subtract 0.5 from the top\n",
        "    plt.ylim(b, t) # update the ylim(bottom, top) values\n",
        "    plt.show() # ta-da!\n",
        "\n",
        "plot_embeddings([model['king'], model['man'], model['woman'], model['girl'], model['boy']],\n",
        "              ['king', 'man', 'woman', 'girl', 'boy'])"
      ],
      "metadata": {
        "colab": {
          "base_uri": "https://localhost:8080/",
          "height": 313
        },
        "id": "GjSQj0rmI6XJ",
        "outputId": "ca0c3234-f6ad-4ab5-88f9-db40f93e8438"
      },
      "execution_count": null,
      "outputs": [
        {
          "output_type": "display_data",
          "data": {
            "text/plain": [
              "<Figure size 864x360 with 2 Axes>"
            ],
            "image/png": "[encoded data removed]"
          },
          "metadata": {
            "needs_background": "light"
          }
        }
      ]
    },
    {
      "cell_type": "markdown",
      "source": [
        "https://ars.els-cdn.com/content/image/1-s2.0-S2666651021000231-gr9.jpg"
      ],
      "metadata": {
        "id": "F94mkXrPLVjl"
      }
    },
    {
      "cell_type": "markdown",
      "source": [
        "## **Transformers** y modelos de lenguaje\n",
        "\n",
        "* Visión:\n",
        "\n",
        "![Transformers](https://ars.els-cdn.com/content/image/1-s2.0-S2666651021000231-gr9.jpg)\n",
        "\n",
        "Fuente: [Pre-trained models: Past, present and future](https://www.sciencedirect.com/science/article/pii/S2666651021000231)\n",
        "\n",
        "* Tecnología:\n",
        "\n",
        "![Tecnología Transformers](https://ars.els-cdn.com/content/image/1-s2.0-S2666651021000231-gr4.jpg)\n",
        "\n",
        "* Evolución: billones (miles de millones de parámetros). GPT-3, LaMDA, PALM (540b), BLOOM (175b), MARIA, etc.\n",
        "\n",
        "![Evolución](https://miro.medium.com/max/1400/0*6oaNF3UEOBHX_l-s)\n",
        "\n",
        "* Técnica que representa el estado del arte para procesamiento de lenguaje natural (y, en realidad, para muchos otros problemas).\n",
        "\n",
        "\n",
        "![Paper original](https://github.com/chemaar/python-programming-course/raw/master/intro-nlp-2022/imgs/transformer.png)\n",
        "\n",
        "Fuente: [Attention Is All You Need](https://arxiv.org/abs/1706.03762)\n",
        "\n",
        "*The dominant sequence transduction models are based on complex recurrent or convolutional neural networks in an encoder-decoder configuration. The best performing models also connect the encoder and decoder through an attention mechanism. We propose a new simple network architecture, the Transformer, based solely on attention mechanisms, dispensing with recurrence and convolutions entirely.*\n",
        "\n",
        "\n",
        "Enlaces de interés:\n",
        "\n",
        "* [Transformers en el blog de Google AI](https://ai.googleblog.com/2017/08/transformer-novel-neural-network.html)\n",
        "* [Visualizando BERT](https://colab.research.google.com/drive/1hXIQ77A4TYS4y3UthWF-Ci7V7vVUoxmQ?usp=sharing)\n",
        "* [Google Palm](https://ai.googleblog.com/2022/04/pathways-language-model-palm-scaling-to.html)\n",
        "* [Bloom](https://huggingface.co/docs/transformers/model_doc/bloom) \n",
        "* [Lamda](https://ai.googleblog.com/2022/01/lamda-towards-safe-grounded-and-high.html)\n",
        "* [OPT: Open Pre-trained Transformer Language Models](https://arxiv.org/abs/2205.01068)"
      ],
      "metadata": {
        "id": "tj8_usZMHA0D"
      }
    },
    {
      "cell_type": "markdown",
      "source": [
        "## **Explorando modelos fundacionales: BERT, GPT, etc. con Huggingface**\n",
        "\n",
        "* [Bidirectional Encoder Representations from Transformers](https://arxiv.org/abs/1810.04805) es un modelo de lenguaje creado por Google.\n",
        "\n",
        "\n",
        "* https://huggingface.co/PlanTL-GOB-ES/roberta-base-bne "
      ],
      "metadata": {
        "id": "Jy4u0z-bM9qU"
      }
    },
    {
      "cell_type": "code",
      "source": [
        "!pip install -qq transformers"
      ],
      "metadata": {
        "id": "-GqihOiLMMMH",
        "colab": {
          "base_uri": "https://localhost:8080/"
        },
        "outputId": "39d49648-0f66-491c-d2b9-969874292e8d"
      },
      "execution_count": null,
      "outputs": [
        {
          "output_type": "stream",
          "name": "stdout",
          "text": [
            "\u001b[K     |████████████████████████████████| 4.4 MB 29.4 MB/s \n",
            "\u001b[K     |████████████████████████████████| 596 kB 60.9 MB/s \n",
            "\u001b[K     |████████████████████████████████| 101 kB 11.0 MB/s \n",
            "\u001b[K     |████████████████████████████████| 6.6 MB 72.7 MB/s \n",
            "\u001b[?25h"
          ]
        }
      ]
    },
    {
      "cell_type": "code",
      "source": [
        "from transformers import pipeline\n"
      ],
      "metadata": {
        "id": "zWs9EGV3L_NH"
      },
      "execution_count": null,
      "outputs": []
    },
    {
      "cell_type": "code",
      "source": [
        "text = \"Jaca is a city of northeastern Spain in the province of Huesca, located near the Pyrenees and the border with France. Jaca is an ancient fort on the Aragón River, situated at the crossing of two great early medieval routes, one from Pau to Zaragoza. Jaca was the city out of which the County and Kingdom of Aragon developed. It was the capital of Aragon until 1097 and also the capital of Jacetania.\""
      ],
      "metadata": {
        "id": "ktg4eAPYL8OI"
      },
      "execution_count": null,
      "outputs": []
    },
    {
      "cell_type": "code",
      "source": [
        "import pandas as pd\n",
        "classifier = pipeline(\"text-classification\", model=\"distilbert-base-uncased-finetuned-sst-2-english\")\n",
        "outputs = classifier(text)\n",
        "pd.DataFrame(outputs)"
      ],
      "metadata": {
        "id": "aP8-_qEXMay9",
        "colab": {
          "base_uri": "https://localhost:8080/",
          "height": 209,
          "referenced_widgets": [
            "3d6758fb16ae44559f5427c1d3233197",
            "7431a3a75bed49c4b2fe8eaca1de5d1a",
            "cc3304d5b6bc4a28b8679c4371c39e6f",
            "f88edf39611443b28b38bf67db093a46",
            "1eed76c806d54e75be761b382cf71333",
            "1f60e7a45a93480aae6d6b5b5ac92317",
            "87fd56a346cd4f25a4f56060fc578546",
            "de0a065b5029411da65b4e1f40229ff4",
            "cc672b0ca8b3450f83f44e3921239e5d",
            "dc936ef56bae4b24880d09a7003c883a",
            "62a94f199d4a400b91a95d9070dc31e8",
            "9018ae226e384bf48f5ea10b8cc47424",
            "36a30c9c0d0f4f2786b22c83b85ab459",
            "44cbb0bf34b14f79ae2edf81bf35d9ba",
            "5bb4a3c1f0fb410eba94410b7460df53",
            "bf62c9acbc0a46d9837e816bd5a27d19",
            "106bf4384bc04b09a725a166d2f5638f",
            "fe2c0b5a84db4420ab78885686237932",
            "0f47f1dd116e4cd1961721e06902e569",
            "d6a4e5eb10514402ae7cccb5df76fe7e",
            "2afba585ca9b4855952a90dc654ae758",
            "6749512850594c0596c98a9f6e17807f",
            "44ba70f116f6414182e45ab26ff382ea",
            "fd655a741005478fa6675e0ad4ac98ed",
            "e00bf98ef8b9475f9d5759280772a4ef",
            "c4784c7a185f49719d479367c64aaa3b",
            "8203467410164de3b253defaf2b4e0e0",
            "5b87d124d5244af9918de090d8c23c15",
            "2a78e1195ead453abfea900cf7c5b128",
            "cca38c27f67a4858b16a2fff060e8093",
            "9c46a4b4cff740ebbfa7b952e1d81260",
            "b3e4dabcf41f4808ba447d8b47efae3b",
            "fd34b1f2abf348fab15c13fa6730ee2d",
            "93eb2923449641d9a2f5481f9bb645d2",
            "144d4d9ba64a485eb96ca14ac9df03e6",
            "63809cde4d1346bd871f0d9303444fa6",
            "e7c5e3ac2dcf4771973223b44cf5b2af",
            "59204029af104091bab1859bb832600d",
            "d85fd70e854a494ca83fb99d17f6e43c",
            "9f09e63768124e3fb9488a8157f8222e",
            "9a2453b6800345adbb0cf1a4f992a743",
            "f922f43e62a54b1986db5627f6ba5413",
            "071e0f3cdd8544898ce6cd478021cd8c",
            "dfdbceac46774bda8a86e60c5f549577"
          ]
        },
        "outputId": "2e554a14-5a52-4c99-c493-c65687f3f594"
      },
      "execution_count": null,
      "outputs": [
        {
          "output_type": "display_data",
          "data": {
            "text/plain": [
              "Downloading:   0%|          | 0.00/629 [00:00<?, ?B/s]"
            ],
            "application/vnd.jupyter.widget-view+json": {
              "version_major": 2,
              "version_minor": 0,
              "model_id": "3d6758fb16ae44559f5427c1d3233197"
            }
          },
          "metadata": {}
        },
        {
          "output_type": "display_data",
          "data": {
            "text/plain": [
              "Downloading:   0%|          | 0.00/255M [00:00<?, ?B/s]"
            ],
            "application/vnd.jupyter.widget-view+json": {
              "version_major": 2,
              "version_minor": 0,
              "model_id": "9018ae226e384bf48f5ea10b8cc47424"
            }
          },
          "metadata": {}
        },
        {
          "output_type": "display_data",
          "data": {
            "text/plain": [
              "Downloading:   0%|          | 0.00/48.0 [00:00<?, ?B/s]"
            ],
            "application/vnd.jupyter.widget-view+json": {
              "version_major": 2,
              "version_minor": 0,
              "model_id": "44ba70f116f6414182e45ab26ff382ea"
            }
          },
          "metadata": {}
        },
        {
          "output_type": "display_data",
          "data": {
            "text/plain": [
              "Downloading:   0%|          | 0.00/226k [00:00<?, ?B/s]"
            ],
            "application/vnd.jupyter.widget-view+json": {
              "version_major": 2,
              "version_minor": 0,
              "model_id": "93eb2923449641d9a2f5481f9bb645d2"
            }
          },
          "metadata": {}
        },
        {
          "output_type": "execute_result",
          "data": {
            "text/plain": [
              "      label     score\n",
              "0  POSITIVE  0.994097"
            ],
            "text/html": [
              "\n",
              "  <div id=\"df-a5bf8df2-1995-4417-9d55-30e027eaf71d\">\n",
              "    <div class=\"colab-df-container\">\n",
              "      <div>\n",
              "<style scoped>\n",
              "    .dataframe tbody tr th:only-of-type {\n",
              "        vertical-align: middle;\n",
              "    }\n",
              "\n",
              "    .dataframe tbody tr th {\n",
              "        vertical-align: top;\n",
              "    }\n",
              "\n",
              "    .dataframe thead th {\n",
              "        text-align: right;\n",
              "    }\n",
              "</style>\n",
              "<table border=\"1\" class=\"dataframe\">\n",
              "  <thead>\n",
              "    <tr style=\"text-align: right;\">\n",
              "      <th></th>\n",
              "      <th>label</th>\n",
              "      <th>score</th>\n",
              "    </tr>\n",
              "  </thead>\n",
              "  <tbody>\n",
              "    <tr>\n",
              "      <th>0</th>\n",
              "      <td>POSITIVE</td>\n",
              "      <td>0.994097</td>\n",
              "    </tr>\n",
              "  </tbody>\n",
              "</table>\n",
              "</div>\n",
              "      <button class=\"colab-df-convert\" onclick=\"convertToInteractive('df-a5bf8df2-1995-4417-9d55-30e027eaf71d')\"\n",
              "              title=\"Convert this dataframe to an interactive table.\"\n",
              "              style=\"display:none;\">\n",
              "        \n",
              "  <svg xmlns=\"http://www.w3.org/2000/svg\" height=\"24px\"viewBox=\"0 0 24 24\"\n",
              "       width=\"24px\">\n",
              "    <path d=\"M0 0h24v24H0V0z\" fill=\"none\"/>\n",
              "    <path d=\"M18.56 5.44l.94 2.06.94-2.06 2.06-.94-2.06-.94-.94-2.06-.94 2.06-2.06.94zm-11 1L8.5 8.5l.94-2.06 2.06-.94-2.06-.94L8.5 2.5l-.94 2.06-2.06.94zm10 10l.94 2.06.94-2.06 2.06-.94-2.06-.94-.94-2.06-.94 2.06-2.06.94z\"/><path d=\"M17.41 7.96l-1.37-1.37c-.4-.4-.92-.59-1.43-.59-.52 0-1.04.2-1.43.59L10.3 9.45l-7.72 7.72c-.78.78-.78 2.05 0 2.83L4 21.41c.39.39.9.59 1.41.59.51 0 1.02-.2 1.41-.59l7.78-7.78 2.81-2.81c.8-.78.8-2.07 0-2.86zM5.41 20L4 18.59l7.72-7.72 1.47 1.35L5.41 20z\"/>\n",
              "  </svg>\n",
              "      </button>\n",
              "      \n",
              "  <style>\n",
              "    .colab-df-container {\n",
              "      display:flex;\n",
              "      flex-wrap:wrap;\n",
              "      gap: 12px;\n",
              "    }\n",
              "\n",
              "    .colab-df-convert {\n",
              "      background-color: #E8F0FE;\n",
              "      border: none;\n",
              "      border-radius: 50%;\n",
              "      cursor: pointer;\n",
              "      display: none;\n",
              "      fill: #1967D2;\n",
              "      height: 32px;\n",
              "      padding: 0 0 0 0;\n",
              "      width: 32px;\n",
              "    }\n",
              "\n",
              "    .colab-df-convert:hover {\n",
              "      background-color: #E2EBFA;\n",
              "      box-shadow: 0px 1px 2px rgba(60, 64, 67, 0.3), 0px 1px 3px 1px rgba(60, 64, 67, 0.15);\n",
              "      fill: #174EA6;\n",
              "    }\n",
              "\n",
              "    [theme=dark] .colab-df-convert {\n",
              "      background-color: #3B4455;\n",
              "      fill: #D2E3FC;\n",
              "    }\n",
              "\n",
              "    [theme=dark] .colab-df-convert:hover {\n",
              "      background-color: #434B5C;\n",
              "      box-shadow: 0px 1px 3px 1px rgba(0, 0, 0, 0.15);\n",
              "      filter: drop-shadow(0px 1px 2px rgba(0, 0, 0, 0.3));\n",
              "      fill: #FFFFFF;\n",
              "    }\n",
              "  </style>\n",
              "\n",
              "      <script>\n",
              "        const buttonEl =\n",
              "          document.querySelector('#df-a5bf8df2-1995-4417-9d55-30e027eaf71d button.colab-df-convert');\n",
              "        buttonEl.style.display =\n",
              "          google.colab.kernel.accessAllowed ? 'block' : 'none';\n",
              "\n",
              "        async function convertToInteractive(key) {\n",
              "          const element = document.querySelector('#df-a5bf8df2-1995-4417-9d55-30e027eaf71d');\n",
              "          const dataTable =\n",
              "            await google.colab.kernel.invokeFunction('convertToInteractive',\n",
              "                                                     [key], {});\n",
              "          if (!dataTable) return;\n",
              "\n",
              "          const docLinkHtml = 'Like what you see? Visit the ' +\n",
              "            '<a target=\"_blank\" href=https://colab.research.google.com/notebooks/data_table.ipynb>data table notebook</a>'\n",
              "            + ' to learn more about interactive tables.';\n",
              "          element.innerHTML = '';\n",
              "          dataTable['output_type'] = 'display_data';\n",
              "          await google.colab.output.renderOutput(dataTable, element);\n",
              "          const docLink = document.createElement('div');\n",
              "          docLink.innerHTML = docLinkHtml;\n",
              "          element.appendChild(docLink);\n",
              "        }\n",
              "      </script>\n",
              "    </div>\n",
              "  </div>\n",
              "  "
            ]
          },
          "metadata": {},
          "execution_count": 68
        }
      ]
    },
    {
      "cell_type": "code",
      "source": [
        "ner_tagger = pipeline(\"ner\", aggregation_strategy=\"simple\", model=\"dbmdz/bert-large-cased-finetuned-conll03-english\")\n",
        "outputs = ner_tagger(text)\n",
        "pd.DataFrame(outputs)"
      ],
      "metadata": {
        "id": "ULEhiyp1Mggd"
      },
      "execution_count": null,
      "outputs": []
    },
    {
      "cell_type": "code",
      "source": [
        "reader = pipeline(\"question-answering\", model=\"distilbert-base-cased-distilled-squad\")\n",
        "question = \"Is Jaca in Huesca?\"\n",
        "outputs = reader(question=question, context=text)\n",
        "pd.DataFrame([outputs])"
      ],
      "metadata": {
        "id": "dG3Th-TfMo1x",
        "colab": {
          "base_uri": "https://localhost:8080/",
          "height": 81
        },
        "outputId": "b8ce787d-6090-445b-fea3-00782761c3d9"
      },
      "execution_count": null,
      "outputs": [
        {
          "output_type": "execute_result",
          "data": {
            "text/plain": [
              "      score  start  end                                answer\n",
              "0  0.200351      0   36  Jaca is a city of northeastern Spain"
            ],
            "text/html": [
              "\n",
              "  <div id=\"df-acb81013-a561-4208-adb7-6b465f04408b\">\n",
              "    <div class=\"colab-df-container\">\n",
              "      <div>\n",
              "<style scoped>\n",
              "    .dataframe tbody tr th:only-of-type {\n",
              "        vertical-align: middle;\n",
              "    }\n",
              "\n",
              "    .dataframe tbody tr th {\n",
              "        vertical-align: top;\n",
              "    }\n",
              "\n",
              "    .dataframe thead th {\n",
              "        text-align: right;\n",
              "    }\n",
              "</style>\n",
              "<table border=\"1\" class=\"dataframe\">\n",
              "  <thead>\n",
              "    <tr style=\"text-align: right;\">\n",
              "      <th></th>\n",
              "      <th>score</th>\n",
              "      <th>start</th>\n",
              "      <th>end</th>\n",
              "      <th>answer</th>\n",
              "    </tr>\n",
              "  </thead>\n",
              "  <tbody>\n",
              "    <tr>\n",
              "      <th>0</th>\n",
              "      <td>0.200351</td>\n",
              "      <td>0</td>\n",
              "      <td>36</td>\n",
              "      <td>Jaca is a city of northeastern Spain</td>\n",
              "    </tr>\n",
              "  </tbody>\n",
              "</table>\n",
              "</div>\n",
              "      <button class=\"colab-df-convert\" onclick=\"convertToInteractive('df-acb81013-a561-4208-adb7-6b465f04408b')\"\n",
              "              title=\"Convert this dataframe to an interactive table.\"\n",
              "              style=\"display:none;\">\n",
              "        \n",
              "  <svg xmlns=\"http://www.w3.org/2000/svg\" height=\"24px\"viewBox=\"0 0 24 24\"\n",
              "       width=\"24px\">\n",
              "    <path d=\"M0 0h24v24H0V0z\" fill=\"none\"/>\n",
              "    <path d=\"M18.56 5.44l.94 2.06.94-2.06 2.06-.94-2.06-.94-.94-2.06-.94 2.06-2.06.94zm-11 1L8.5 8.5l.94-2.06 2.06-.94-2.06-.94L8.5 2.5l-.94 2.06-2.06.94zm10 10l.94 2.06.94-2.06 2.06-.94-2.06-.94-.94-2.06-.94 2.06-2.06.94z\"/><path d=\"M17.41 7.96l-1.37-1.37c-.4-.4-.92-.59-1.43-.59-.52 0-1.04.2-1.43.59L10.3 9.45l-7.72 7.72c-.78.78-.78 2.05 0 2.83L4 21.41c.39.39.9.59 1.41.59.51 0 1.02-.2 1.41-.59l7.78-7.78 2.81-2.81c.8-.78.8-2.07 0-2.86zM5.41 20L4 18.59l7.72-7.72 1.47 1.35L5.41 20z\"/>\n",
              "  </svg>\n",
              "      </button>\n",
              "      \n",
              "  <style>\n",
              "    .colab-df-container {\n",
              "      display:flex;\n",
              "      flex-wrap:wrap;\n",
              "      gap: 12px;\n",
              "    }\n",
              "\n",
              "    .colab-df-convert {\n",
              "      background-color: #E8F0FE;\n",
              "      border: none;\n",
              "      border-radius: 50%;\n",
              "      cursor: pointer;\n",
              "      display: none;\n",
              "      fill: #1967D2;\n",
              "      height: 32px;\n",
              "      padding: 0 0 0 0;\n",
              "      width: 32px;\n",
              "    }\n",
              "\n",
              "    .colab-df-convert:hover {\n",
              "      background-color: #E2EBFA;\n",
              "      box-shadow: 0px 1px 2px rgba(60, 64, 67, 0.3), 0px 1px 3px 1px rgba(60, 64, 67, 0.15);\n",
              "      fill: #174EA6;\n",
              "    }\n",
              "\n",
              "    [theme=dark] .colab-df-convert {\n",
              "      background-color: #3B4455;\n",
              "      fill: #D2E3FC;\n",
              "    }\n",
              "\n",
              "    [theme=dark] .colab-df-convert:hover {\n",
              "      background-color: #434B5C;\n",
              "      box-shadow: 0px 1px 3px 1px rgba(0, 0, 0, 0.15);\n",
              "      filter: drop-shadow(0px 1px 2px rgba(0, 0, 0, 0.3));\n",
              "      fill: #FFFFFF;\n",
              "    }\n",
              "  </style>\n",
              "\n",
              "      <script>\n",
              "        const buttonEl =\n",
              "          document.querySelector('#df-acb81013-a561-4208-adb7-6b465f04408b button.colab-df-convert');\n",
              "        buttonEl.style.display =\n",
              "          google.colab.kernel.accessAllowed ? 'block' : 'none';\n",
              "\n",
              "        async function convertToInteractive(key) {\n",
              "          const element = document.querySelector('#df-acb81013-a561-4208-adb7-6b465f04408b');\n",
              "          const dataTable =\n",
              "            await google.colab.kernel.invokeFunction('convertToInteractive',\n",
              "                                                     [key], {});\n",
              "          if (!dataTable) return;\n",
              "\n",
              "          const docLinkHtml = 'Like what you see? Visit the ' +\n",
              "            '<a target=\"_blank\" href=https://colab.research.google.com/notebooks/data_table.ipynb>data table notebook</a>'\n",
              "            + ' to learn more about interactive tables.';\n",
              "          element.innerHTML = '';\n",
              "          dataTable['output_type'] = 'display_data';\n",
              "          await google.colab.output.renderOutput(dataTable, element);\n",
              "          const docLink = document.createElement('div');\n",
              "          docLink.innerHTML = docLinkHtml;\n",
              "          element.appendChild(docLink);\n",
              "        }\n",
              "      </script>\n",
              "    </div>\n",
              "  </div>\n",
              "  "
            ]
          },
          "metadata": {},
          "execution_count": 71
        }
      ]
    },
    {
      "cell_type": "code",
      "source": [
        "summarizer = pipeline(\"summarization\", model=\"sshleifer/distilbart-cnn-12-6\")\n",
        "outputs = summarizer(text, max_length=60, clean_up_tokenization_spaces=True)\n",
        "print(outputs[0]['summary_text'])"
      ],
      "metadata": {
        "id": "oXECQudeMzgJ",
        "colab": {
          "base_uri": "https://localhost:8080/",
          "height": 214,
          "referenced_widgets": [
            "1bde7922cb1c443b9efa5a3fd2031c83",
            "fa16e299300d45399b8000c2d1457ed6",
            "0f17548262cf4d0ba9424264af5503f6",
            "7c23127d90844ec6b6e517f149f8b31a",
            "9523fcf23e0546dbb08832afa74bbb8a",
            "9891156aed2546e69c51e84074bb5e12",
            "e28c7f37bd504456a0a801fd9cd41c9f",
            "adc294c419d74f3db418fa61d1c70f76",
            "f130ed291e234dce8d21337db29205ee",
            "e851e9bfb668465cbd2cbe9ff4cbfaff",
            "8270f862f2d44660a0b5e3bbe2c2088c",
            "a7860b52fdac46f8bf45b20d3fc0f713",
            "855e8e6c19e24e759bb8a867b8cc2b1a",
            "1df22dd3c2004dfcad08102335439f99",
            "e21ea4161bf049a1992b708b18c4377e",
            "9670d24b0798452dbbb6918f7de29d82",
            "228e540c6c5d4cc1b51282170cef9367",
            "b6800716637f4e4daebd178db9bc2e70",
            "1ed7ddaf02954269a7559390b4dabc20",
            "a724bc03a5b642cab76f2f2dcc1348a6",
            "863479a6f0754f85b3a0b7c455856289",
            "d8ea36939ad84663a9c0804730bbc404",
            "b5bfdb442f744263845e8bc29420459b",
            "33eb65e5ade4415aa6f9b19293e7c8fd",
            "bdfabfee4d5d45299b28c9a6dc82ee9a",
            "6b6feca5d2414de9802c4b599ef336af",
            "da7643e2ec9e4855814342ab06660f88",
            "7df635ed8d4d4ea483aba56e09b3a621",
            "5762498e54284aa288fcd39436d7a36a",
            "75fae83835e842f7a52885de0207b020",
            "86ec287f75c34c7b9e0c2c3f807c99e9",
            "d2dfee710dfb4a33b4fceeaddceab1a0",
            "dc9d59e77ac54e9581a1391f3bdd73cc",
            "5160e036e4e6449e9152441c0e18c895",
            "8af41121ee1a4101b2de8153555cf371",
            "7485794983804aa38ca8e26fa2322f26",
            "29b9fa4a826d4eaca7f3f5adb895c3df",
            "ba830dd95f9841d3a91564594b33a665",
            "86c21e7b496847799783364dad84931f",
            "3cdc70713e2c42ed822081db660810c4",
            "d2114cbbc62345be811cd59247904d81",
            "ee475bc40e0d41b9bd75d6b52af105c9",
            "2b30aca12b5145e68d56b9e4e2794c30",
            "b9c3bbc4824e492b8e1bbc119a27d3e6",
            "401afe3cb1c245cebad19c0fe4c0091a",
            "9fe2d7e61f134125b25bb7386bd0eb1e",
            "9d1f46a5b67b4c628872c4bb0421e4a8",
            "da99d8a31dca4a08881ce42f55b9000f",
            "e7a7020346eb43a6a181d8f1b1bc61a8",
            "b3866a8f73a940998ef12439997699ba",
            "ab2a4b4771a0490a84054612f39deeab",
            "bc1116f1963c449c92198f4c9d1e06f8",
            "146035dccc984755a6d918daceba3406",
            "c57eac9702e64dc09beb04577021be60",
            "dc5c99498b7a4ad3bb34f9999e7ce16f"
          ]
        },
        "outputId": "a0ee242b-45f3-4119-e77d-31876ebcc141"
      },
      "execution_count": null,
      "outputs": [
        {
          "output_type": "display_data",
          "data": {
            "text/plain": [
              "Downloading:   0%|          | 0.00/1.76k [00:00<?, ?B/s]"
            ],
            "application/vnd.jupyter.widget-view+json": {
              "version_major": 2,
              "version_minor": 0,
              "model_id": "1bde7922cb1c443b9efa5a3fd2031c83"
            }
          },
          "metadata": {}
        },
        {
          "output_type": "display_data",
          "data": {
            "text/plain": [
              "Downloading:   0%|          | 0.00/1.14G [00:00<?, ?B/s]"
            ],
            "application/vnd.jupyter.widget-view+json": {
              "version_major": 2,
              "version_minor": 0,
              "model_id": "a7860b52fdac46f8bf45b20d3fc0f713"
            }
          },
          "metadata": {}
        },
        {
          "output_type": "display_data",
          "data": {
            "text/plain": [
              "Downloading:   0%|          | 0.00/26.0 [00:00<?, ?B/s]"
            ],
            "application/vnd.jupyter.widget-view+json": {
              "version_major": 2,
              "version_minor": 0,
              "model_id": "b5bfdb442f744263845e8bc29420459b"
            }
          },
          "metadata": {}
        },
        {
          "output_type": "display_data",
          "data": {
            "text/plain": [
              "Downloading:   0%|          | 0.00/878k [00:00<?, ?B/s]"
            ],
            "application/vnd.jupyter.widget-view+json": {
              "version_major": 2,
              "version_minor": 0,
              "model_id": "5160e036e4e6449e9152441c0e18c895"
            }
          },
          "metadata": {}
        },
        {
          "output_type": "display_data",
          "data": {
            "text/plain": [
              "Downloading:   0%|          | 0.00/446k [00:00<?, ?B/s]"
            ],
            "application/vnd.jupyter.widget-view+json": {
              "version_major": 2,
              "version_minor": 0,
              "model_id": "401afe3cb1c245cebad19c0fe4c0091a"
            }
          },
          "metadata": {}
        },
        {
          "output_type": "stream",
          "name": "stdout",
          "text": [
            " Jaca is an ancient fort on the Aragón River, situated at the crossing of two great early medieval routes, one from Pau to Zaragoza. Jaca was the city out of which the County and Kingdom of Aragon developed. It was the capital of the Aragon\n"
          ]
        }
      ]
    },
    {
      "cell_type": "code",
      "source": [
        "text2text = pipeline(\"text2text-generation\")\n",
        "text2text(\"question: Which is the capital of Spain?\")"
      ],
      "metadata": {
        "id": "uLAcFfEJTSrG",
        "colab": {
          "base_uri": "https://localhost:8080/"
        },
        "outputId": "55a2cece-0293-4605-c6cc-bacff08a975a"
      },
      "execution_count": null,
      "outputs": [
        {
          "output_type": "stream",
          "name": "stderr",
          "text": [
            "No model was supplied, defaulted to t5-base (https://huggingface.co/t5-base)\n"
          ]
        },
        {
          "output_type": "execute_result",
          "data": {
            "text/plain": [
              "[{'generated_text': 'Madrid'}]"
            ]
          },
          "metadata": {},
          "execution_count": 77
        }
      ]
    },
    {
      "cell_type": "code",
      "source": [
        "text2text(\"question: Which is capital city of Serbia?\")"
      ],
      "metadata": {
        "id": "ddm5oGB1Tq6t",
        "colab": {
          "base_uri": "https://localhost:8080/"
        },
        "outputId": "c3d9d195-71f4-41d1-864a-96358d7c4ad7"
      },
      "execution_count": null,
      "outputs": [
        {
          "output_type": "execute_result",
          "data": {
            "text/plain": [
              "[{'generated_text': 'Serbia'}]"
            ]
          },
          "metadata": {},
          "execution_count": 76
        }
      ]
    },
    {
      "cell_type": "code",
      "source": [
        "text2text(\"translate English to German: Jaca is a good place for summer\")"
      ],
      "metadata": {
        "id": "GRCHvEFlT3SI",
        "colab": {
          "base_uri": "https://localhost:8080/"
        },
        "outputId": "59d77199-c94e-469b-8b69-ddd16278f003"
      },
      "execution_count": null,
      "outputs": [
        {
          "output_type": "execute_result",
          "data": {
            "text/plain": [
              "[{'generated_text': 'Jaca ist ein guter Ort für den Sommer'}]"
            ]
          },
          "metadata": {},
          "execution_count": 78
        }
      ]
    },
    {
      "cell_type": "code",
      "source": [
        "generator = pipeline(\"text-generation\")\n",
        "text= generator(\"A football player must run and\", max_length=50, do_sample=False)[0]\n",
        "print(text['generated_text'])"
      ],
      "metadata": {
        "id": "0uBHFveWUgMJ",
        "colab": {
          "base_uri": "https://localhost:8080/",
          "height": 405,
          "referenced_widgets": [
            "b51bead2aaf24aa58d145021c35a360d",
            "36e2e443b4bd488d902c1b19737234bf",
            "4e746dbdbf524466b1cf8626a818db24",
            "d3fcddf47af444ce968ae5eb60223b5e",
            "caf1823542454f56ad8e1d33bbbfc248",
            "b9f5034eacb347e48b753e9b127e6c15",
            "7e8b21c53795458daf500c38da3d694a",
            "b8948a998ac54fcda5cdfbf4f1df277d",
            "28f9344122d14abb95a732b2d652d65f",
            "127fafb487d244edbed59348664d4266",
            "2b73a2b4d6c4425eb798de933354ddb0",
            "cb78dadfb24544cab75462b25dac7a49",
            "385fceed7fd9446e90085fda235ca514",
            "c8cc826cccf441f6b83dd3921679cb91",
            "11000b395e1f403aa5f847e3fa0b7441",
            "08da15e038fc432a929cc20ae6878c56",
            "aa2b46909aff435ebb146758271c65a5",
            "111c150453614067b6d754f1cd0dd283",
            "8f85337859e7405982ffc6a55e2784e5",
            "46dd15d6d08b407e8ddc80d569bc7340",
            "4ec8c2f8e6ab444dabe9b28feed6af86",
            "20c4f1ea4ae94331bdbf2f4cafe36edf",
            "d81bd53740f245168467dc5fc52f7d92",
            "6eb2e3cc908e4f56ad004e152f33b4b8",
            "93d69eed48cd4a048a5e0c753f5a2229",
            "bafb4abcfab14458bc3ecd8623407491",
            "d1281f0053434f539ca1bb1118b393e1",
            "3acb782ba8bc4309b3ed05fb860a47c1",
            "900cebff998744b780008c934581221a",
            "695dda75e0bd44c5b4062c229c958afd",
            "adc81e0816bc418787fb44ec6a49e157",
            "7bd17dc13106440f956f0f604c53bcc6",
            "72ff37b91144474eb51e1a7054a94ca5",
            "ad89603a1e584ff58772777023ce345c",
            "cff896559a594ec58fc6c5ee22b217c3",
            "2c78c67ae1e04181a597f4620341789a",
            "66d932deb1884ccf957add97c77d663b",
            "5910e54c8ebe4c348541f3471d9ca5e7",
            "fe42bae3000f4358b99a3423123dbd3f",
            "a30e427927774052a745ea8ef5197cd7",
            "1fc9cbf4d61142c28670d752e014681e",
            "164a41716d9d414ebabbdf06f69ead3c",
            "7abc7e9e6236475f8b1d3633ee1e3a95",
            "a82a85e4f7d14253b69e0a2ddfaaeaec",
            "c20954b9e618413d9737b05a0ee21cdc",
            "818486d3b4294c3bb10ff23a13260da9",
            "f4acadbb0a454566886ce4d8d26f64b0",
            "6d043d1cbb9849ecb87c5cf540ca3220",
            "8c0178ce0acd4867b14f45fd198ee54e",
            "e1e1a0eabc934a29890a0ada6143ef6c",
            "88cd69b46de94b6f876cc47445e0313e",
            "e1620eac09fa48c9a2c95ea4d229721b",
            "194df59483ea4d79976d8b866aac7381",
            "de9684f20c8f43baa97ea5f06d7e43cc",
            "ad38c4a3bcfe47b1a7c4c676c11291ce"
          ]
        },
        "outputId": "ac6b93d4-0fd7-4138-ff40-279be33ff429"
      },
      "execution_count": null,
      "outputs": [
        {
          "output_type": "stream",
          "name": "stderr",
          "text": [
            "No model was supplied, defaulted to gpt2 (https://huggingface.co/gpt2)\n"
          ]
        },
        {
          "output_type": "display_data",
          "data": {
            "text/plain": [
              "Downloading:   0%|          | 0.00/665 [00:00<?, ?B/s]"
            ],
            "application/vnd.jupyter.widget-view+json": {
              "version_major": 2,
              "version_minor": 0,
              "model_id": "b51bead2aaf24aa58d145021c35a360d"
            }
          },
          "metadata": {}
        },
        {
          "output_type": "display_data",
          "data": {
            "text/plain": [
              "Downloading:   0%|          | 0.00/523M [00:00<?, ?B/s]"
            ],
            "application/vnd.jupyter.widget-view+json": {
              "version_major": 2,
              "version_minor": 0,
              "model_id": "cb78dadfb24544cab75462b25dac7a49"
            }
          },
          "metadata": {}
        },
        {
          "output_type": "display_data",
          "data": {
            "text/plain": [
              "Downloading:   0%|          | 0.00/0.99M [00:00<?, ?B/s]"
            ],
            "application/vnd.jupyter.widget-view+json": {
              "version_major": 2,
              "version_minor": 0,
              "model_id": "d81bd53740f245168467dc5fc52f7d92"
            }
          },
          "metadata": {}
        },
        {
          "output_type": "display_data",
          "data": {
            "text/plain": [
              "Downloading:   0%|          | 0.00/446k [00:00<?, ?B/s]"
            ],
            "application/vnd.jupyter.widget-view+json": {
              "version_major": 2,
              "version_minor": 0,
              "model_id": "ad89603a1e584ff58772777023ce345c"
            }
          },
          "metadata": {}
        },
        {
          "output_type": "display_data",
          "data": {
            "text/plain": [
              "Downloading:   0%|          | 0.00/1.29M [00:00<?, ?B/s]"
            ],
            "application/vnd.jupyter.widget-view+json": {
              "version_major": 2,
              "version_minor": 0,
              "model_id": "c20954b9e618413d9737b05a0ee21cdc"
            }
          },
          "metadata": {}
        },
        {
          "output_type": "stream",
          "name": "stderr",
          "text": [
            "The attention mask and the pad token id were not set. As a consequence, you may observe unexpected behavior. Please pass your input's `attention_mask` to obtain reliable results.\n",
            "Setting `pad_token_id` to `eos_token_id`:50256 for open-end generation.\n"
          ]
        },
        {
          "output_type": "stream",
          "name": "stdout",
          "text": [
            "A football player must run and pass the ball.\n",
            "\n",
            "The ball must be thrown in the air.\n",
            "\n",
            "The ball must be thrown in the air.\n",
            "\n",
            "The ball must be thrown in the air.\n",
            "\n",
            "The ball must be thrown\n"
          ]
        }
      ]
    },
    {
      "cell_type": "code",
      "source": [
        "text= generator(\"The summer in Spain is warm and\", max_length=50, do_sample=False)[0]\n",
        "print(text['generated_text'])"
      ],
      "metadata": {
        "id": "fwFmFxTlU0a5",
        "colab": {
          "base_uri": "https://localhost:8080/"
        },
        "outputId": "e4ec253d-0965-462e-e769-a19a40c96741"
      },
      "execution_count": null,
      "outputs": [
        {
          "output_type": "stream",
          "name": "stderr",
          "text": [
            "The attention mask and the pad token id were not set. As a consequence, you may observe unexpected behavior. Please pass your input's `attention_mask` to obtain reliable results.\n",
            "Setting `pad_token_id` to `eos_token_id`:50256 for open-end generation.\n"
          ]
        },
        {
          "output_type": "stream",
          "name": "stdout",
          "text": [
            "The summer in Spain is warm and sunny, and the sun is shining. The sun is shining on the mountains of the Canary Islands, and the sun is shining on the mountains of the Canary Islands. The sun is shining on the mountains of the Canary\n"
          ]
        }
      ]
    },
    {
      "cell_type": "code",
      "source": [
        "input_text = \"Jaca es la capital de la comarca de La Jacetania y dista 72 km de Huesca, la capital provincial, y 143 km de Zaragoza. Está situada en el norte de la provincia, en el valle del Aragón, único gran valle paralelo al eje de la cadena pirenaica. La prolongación de este eje, desde la Cuenca de Pamplona, al oeste, hasta la Cuenca de Tremp, al este, facilita las comunicaciones entre Navarra y Cataluña a través del norte de Aragón.\"\n",
        "ner_tagger = pipeline(\"ner\", aggregation_strategy=\"simple\", model=\"PlanTL-GOB-ES/roberta-base-bne\")\n",
        "outputs = ner_tagger(input_text)\n",
        "pd.DataFrame(outputs)"
      ],
      "metadata": {
        "id": "s6BLKmkjWI8I"
      },
      "execution_count": null,
      "outputs": []
    },
    {
      "cell_type": "markdown",
      "source": [
        "# ⛳ Actividad\n",
        "\n",
        "* Tipo: grupo (2-3 personas)\n",
        "* Objetivo: diseñar un sistema de NLP para algún problema relacionado con las humanidades (preferentemente)\n",
        "* Tiempo: 15 minutos + 3 minutos presentación\n",
        "* Entregable: 1-2 diapositvas/diagrama o similar indicando los siguientes aspectos:\n",
        "  * Historia de usuario\n",
        "    * `Como <actor> quiero <capacidad> para así <conseguir objetivo>`\n",
        "  * Acrónimo\n",
        "  * Tipología del problema: análisis de contenido/generación/etc.\n",
        "  * Ámbito\n",
        "  * Necesidades de NLP\n",
        "  * Conjuntos de datos iniciales\n",
        "  * Reutilización de datos\n",
        "  * ¿Demo?\n",
        "  "
      ],
      "metadata": {
        "id": "do2qVp12NQ29"
      }
    },
    {
      "cell_type": "markdown",
      "source": [
        "## Ejemplos de problemas\n",
        "\n",
        "*  Generación de titulares de noticias para cualquier dominio.\n",
        "*  Generación de noticias (storytelling)\n",
        "*  Topic modelling para Twitter\n",
        "*  Análisis de sentimiento\n",
        "*  Análisis de opinión de encuestas\n",
        "*  Sistema de preguntas/respuestas para periodistas (JARVIS del periodismo)\n",
        "*  Personalización y explicación de contenidos para un dominio determinado\n",
        "*  Otras apps: https://plantl.mineco.gob.es/tecnologias-lenguaje/actividades/desarrollos/Paginas/desarrollos-SW.aspx \n",
        "*  Ejemplos en el ámbito de Big Data: https://nvlpubs.nist.gov/nistpubs/SpecialPublications/NIST.SP.1500-3r2.pdf \n",
        "*  ..."
      ],
      "metadata": {
        "id": "sNuOkdHtNh0x"
      }
    },
    {
      "cell_type": "markdown",
      "source": [
        "## Análisis de Twitter stream\n",
        "\n",
        "https://www.kaggle.com/code/thebrownviking20/topic-modelling-with-spacy-and-scikit-learn/notebook"
      ],
      "metadata": {
        "id": "iRscR8ezJt0S"
      }
    },
    {
      "cell_type": "code",
      "source": [
        "!pip install tweepy"
      ],
      "metadata": {
        "id": "8_WpTqyNXRkG"
      },
      "execution_count": null,
      "outputs": []
    },
    {
      "cell_type": "code",
      "source": [
        "import tweepy\n",
        "CONSUMER_KEY=\"\"\n",
        "CONSUMER_SECRET=\"\"\n",
        "ACCESS_TOKEN=\"\"\n",
        "ACCESS_TOKEN_SECRET=\"\"\n",
        "\n",
        "auth = tweepy.OAuth1UserHandler(\n",
        "   CONSUMER_KEY, CONSUMER_SECRET, ACCESS_TOKEN, ACCESS_TOKEN_SECRET\n",
        ")\n",
        "\n",
        "api = tweepy.API(auth)\n",
        "\n",
        "public_tweets = api.home_timeline()\n",
        "for tweet in public_tweets:\n",
        "    print(tweet.text)"
      ],
      "metadata": {
        "id": "uIm1QqrlsFbj"
      },
      "execution_count": null,
      "outputs": []
    },
    {
      "cell_type": "markdown",
      "source": [
        "#Bibliografía de interés y referencias"
      ],
      "metadata": {
        "id": "GTUz1T2Nw_Gg"
      }
    },
    {
      "cell_type": "markdown",
      "source": [
        "* NLP with Deep Learning course (video lectures and exercises). URL: http://web.stanford.edu/class/cs224n/\n",
        "* Transformers united course (video lectures and exervices). URL: https://web.stanford.edu/class/cs25/\n",
        "* A Path Towards Autonomous Machine Intelligence. Yann LeCun, Junio 2022. URL: https://openreview.net/forum?id=BZ5a1r-kVsf \n",
        "* \"Yann LeCun on a vision to make AI systems learn and reason like animals and humans\". Febrero 2022. URL: https://ai.facebook.com/blog/yann-lecun-advances-in-ai-research/\n",
        "* https://www.kaggle.com/code/amananandrai/hugging-face-pipeline-examples/notebook\n",
        "* Natural Language Processing with Transformers: Building Language Applications with Hugging Face}\". 2022. Repositorio Github: https://github.com/nlp-with-transformers/notebooks\n",
        "* Transformers for Natural Language Processing - Second Edition. 2022. https://www.packtpub.com/product/transformers-for-natural-language-processing-second-edition/9781803247335\n",
        "* https://towardsdatascience.com/creating-word-embeddings-coding-the-word2vec-algorithm-in-python-using-deep-learning-b337d0ba17a8"
      ],
      "metadata": {
        "id": "CUFr1yYvxG3b"
      }
    }
  ]
}