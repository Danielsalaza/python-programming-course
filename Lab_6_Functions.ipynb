{
  "nbformat": 4,
  "nbformat_minor": 0,
  "metadata": {
    "colab": {
      "name": "Lab_6_Functions.ipynb",
      "provenance": [],
      "collapsed_sections": [],
      "authorship_tag": "ABX9TyMIKtwRoJXad3odT8kECAsA",
      "include_colab_link": true
    },
    "kernelspec": {
      "name": "python3",
      "display_name": "Python 3"
    }
  },
  "cells": [
    {
      "cell_type": "markdown",
      "metadata": {
        "id": "view-in-github",
        "colab_type": "text"
      },
      "source": [
        "<a href=\"https://colab.research.google.com/github/chemaar/python-programming-course/blob/master/Lab_6_Functions.ipynb\" target=\"_parent\"><img src=\"https://colab.research.google.com/assets/colab-badge.svg\" alt=\"Open In Colab\"/></a>"
      ]
    },
    {
      "cell_type": "markdown",
      "metadata": {
        "id": "l88YgeqXK38T",
        "colab_type": "text"
      },
      "source": [
        "# Lab 6: Functions\n",
        "\n",
        "In this notebook, we propose and solve some exercises about functions in Python.\n",
        "\n",
        "* **In these exercises, we can always proceed solving the problems in a generic way or taking advantage of Python capabilities. As a recommendation, first, try the generic way (applicable to any programming language) and, then, using Python**\n",
        "\n",
        "* **As a good programming practice, our test cases should ensure that all branches of the code are executed at least once.**\n",
        "\n",
        "* **In the specific case of functions, we have always to keep in mind the next keypoints:**\"\n",
        "  * Design the functions defining a proper domain and range.\n",
        "  * Think in the pre-conditions to execute the function.\n",
        "  * Design (pure) functions without side-effects."
      ]
    },
    {
      "cell_type": "markdown",
      "metadata": {
        "id": "ZfRgZHNdLIuf",
        "colab_type": "text"
      },
      "source": [
        "## List of exercises"
      ]
    },
    {
      "cell_type": "markdown",
      "metadata": {
        "id": "wV7mERYcMlJ3",
        "colab_type": "text"
      },
      "source": [
        "1. Write a function that defines a set of input parameters and displays their identifiers, types and values. Invoke this function from the `main` function.\n",
        "\n",
        "* Input: my_function(1,\"Hello\",[1,2,3])\n",
        "* Expected output:\n",
        "\n",
        "```\n",
        "1 of type  <class 'int'>  with id:  10914496\n",
        "Hello of type  <class 'str'>  with id:  139654081206232\n",
        "[1, 2, 3] of type  <class 'list'>  with id:  139654081356488\n",
        "```\n",
        "\n",
        "* Make use of the Python functions:\n",
        "\n",
        "\n",
        "```\n",
        "type(object)\n",
        "id(object)\n",
        "```\n",
        "\n"
      ]
    },
    {
      "cell_type": "code",
      "metadata": {
        "id": "tcS5he3ca2eh",
        "colab_type": "code",
        "colab": {
          "base_uri": "https://localhost:8080/",
          "height": 69
        },
        "outputId": "1712e2a3-c7eb-4920-e412-8cf792f68e86"
      },
      "source": [
        "def my_fun(value, message, alist):\n",
        "  print(value, \"of type \", type(value), \" with id: \", id(value))\n",
        "  print(message, \"of type \", type(message), \" with id: \", id(message))\n",
        "  print(alist, \"of type \", type(alist), \" with id: \", id(alist))\n",
        "\n",
        "if __name__==\"__main__\":\n",
        "  my_fun(1,\"Hello\", [1,2,3])"
      ],
      "execution_count": 1,
      "outputs": [
        {
          "output_type": "stream",
          "text": [
            "1 of type  <class 'int'>  with id:  10914496\n",
            "Hello of type  <class 'str'>  with id:  139654081206232\n",
            "[1, 2, 3] of type  <class 'list'>  with id:  139654081356488\n"
          ],
          "name": "stdout"
        }
      ]
    },
    {
      "cell_type": "markdown",
      "metadata": {
        "id": "1vfULXKB6cHJ",
        "colab_type": "text"
      },
      "source": [
        "2. Write a function that takes two arguments, at lest one parameter with a default boolean value True, and prints out the values of all parameters.\n",
        "\n",
        "* Input: \n",
        "  * `default_parameters(1)`\n",
        "  * `default_parameters(1, False)`\n",
        "* Expected output:\n",
        "\n",
        "```\n",
        "1\n",
        "True\n",
        "1\n",
        "False\n",
        "```"
      ]
    },
    {
      "cell_type": "code",
      "metadata": {
        "id": "RXvNkC_2AvwE",
        "colab_type": "code",
        "colab": {}
      },
      "source": [
        "def default_parameters(a, b = True):\n",
        "  print(a)\n",
        "  print(b)\n",
        "if __name__==\"__main__\":\n",
        "  default_parameters(1)\n",
        "  default_parameters(1, False)\n",
        "  "
      ],
      "execution_count": 0,
      "outputs": []
    },
    {
      "cell_type": "markdown",
      "metadata": {
        "id": "decoG2GZCB6U",
        "colab_type": "text"
      },
      "source": [
        "3. Write a function that takes three arguments (integer, string and list), modifies the value of such argument (displaying the id) and checks the value in the invocation point (displaying the id again).\n",
        "\n",
        "* Input: \n",
        "\n",
        "\n",
        "```\n",
        "a = 2\n",
        "msg = \"Hello\"\n",
        "alist = [1,2,3]\n",
        "my_fun(a, msg, alist)\n",
        "```\n",
        "\n",
        "\n",
        "* Expected output (the ids may change):\n",
        "\n",
        "\n",
        "\n",
        "```\n",
        "10914528\n",
        "139654071637640\n",
        "139654071236424\n",
        "Call function...\n",
        "10914528\n",
        "4\n",
        "139654071637640\n",
        "Other\n",
        "139654071236424\n",
        "[1, 3]\n",
        "After calling function...\n",
        "2\n",
        "Hello\n",
        "[1, 2, 3]\n",
        "```\n",
        "\n"
      ]
    },
    {
      "cell_type": "code",
      "metadata": {
        "id": "923mKDKDCBeu",
        "colab_type": "code",
        "colab": {}
      },
      "source": [
        "def my_fun(a,msg,alist):\n",
        "  print(id(a))\n",
        "  a = 4\n",
        "  print(a)\n",
        "  print(id(msg))\n",
        "  msg = \"Other\"\n",
        "  print(msg)\n",
        "  print(id(alist))\n",
        "  alist = [1,3]\n",
        "  print(alist)\n",
        "\n",
        "if __name__==\"__main__\":\n",
        "  a = 2\n",
        "  msg = \"Hello\"\n",
        "  alist = [1,2,3]\n",
        "  print(id(a))\n",
        "  print(id(msg))\n",
        "  print(id(alist))\n",
        "  print(\"Call function...\")\n",
        "  my_fun(a, msg, alist)\n",
        "  print(\"After calling function...\")\n",
        "  print(a)\n",
        "  print(msg)\n",
        "  print(alist)"
      ],
      "execution_count": 0,
      "outputs": []
    },
    {
      "cell_type": "markdown",
      "metadata": {
        "id": "xBENBLNrGsKn",
        "colab_type": "text"
      },
      "source": [
        "4. Write a function that takes a parameter (a list), appends a new element and prints out the content of the list in the invocation point.\n",
        "\n",
        "* Input: [1,2,3], a new element 4 is added.\n",
        "\n",
        "\n",
        "* Expected output:\n",
        "\n",
        "\n",
        "```\n",
        "Before calling...\n",
        "Hello\n",
        "After calling...\n",
        "Hello Mary\n",
        "```\n",
        "\n"
      ]
    },
    {
      "cell_type": "code",
      "metadata": {
        "id": "KlOtF4uPG6wl",
        "colab_type": "code",
        "colab": {
          "base_uri": "https://localhost:8080/",
          "height": 86
        },
        "outputId": "e438bcbc-89c5-40e9-a219-14da8cf8bcd9"
      },
      "source": [
        "def add_element(alist):\n",
        "  alist.append(4)\n",
        "\n",
        "if __name__==\"__main__\":\n",
        "  alist = [1,2,3]\n",
        "  print(\"Before calling...\")\n",
        "  print(alist)\n",
        "  add_element(alist)\n",
        "  print(\"After calling...\")\n",
        "  print(alist)"
      ],
      "execution_count": 10,
      "outputs": [
        {
          "output_type": "stream",
          "text": [
            "Before calling...\n",
            "[1, 2, 3]\n",
            "After calling...\n",
            "[1, 2, 3, 4]\n"
          ],
          "name": "stdout"
        }
      ]
    },
    {
      "cell_type": "markdown",
      "metadata": {
        "id": "mfP5Gi-qRQab",
        "colab_type": "text"
      },
      "source": [
        "5. Write a function that takes a parameter (a string), appends a new string and prints out the content of the string in the invocation point.\n",
        "\n",
        "* Input: \"Hello\", a new string \" Mary\".\n",
        "\n",
        "\n",
        "* Expected output:\n",
        "\n",
        "\n",
        "```\n",
        "Before calling...\n",
        "Hello\n",
        "After calling...\n",
        "Hello\n",
        "```"
      ]
    },
    {
      "cell_type": "code",
      "metadata": {
        "id": "hgrOysC7SBpA",
        "colab_type": "code",
        "colab": {}
      },
      "source": [
        "def add_message(msg):\n",
        "  msg = msg + \" Mary\"\n",
        "\n",
        "if __name__==\"__main__\":\n",
        "  msg = \"Hello\"\n",
        "  print(\"Before calling...\")\n",
        "  print(msg)\n",
        "  add_message(msg)\n",
        "  print(\"After calling...\")\n",
        "  print(msg)"
      ],
      "execution_count": 0,
      "outputs": []
    },
    {
      "cell_type": "markdown",
      "metadata": {
        "id": "nFJTZTVsS1w-",
        "colab_type": "text"
      },
      "source": [
        "6. Write a function that takes two integer numbers and returns tha addition of both numbers (an integer number).\n",
        "\n",
        "* Input: my_add(1,2).\n",
        "\n",
        "\n",
        "* Expected output:\n",
        "\n",
        "\n",
        "```\n",
        "3\n",
        "```"
      ]
    },
    {
      "cell_type": "code",
      "metadata": {
        "id": "1iMJH1iFS1St",
        "colab_type": "code",
        "colab": {}
      },
      "source": [
        "def my_add(a,b):\n",
        "  return a+b\n",
        "\n",
        "if __name__==\"__main__\":\n",
        "  print(my_add(1,2))"
      ],
      "execution_count": 0,
      "outputs": []
    },
    {
      "cell_type": "markdown",
      "metadata": {
        "id": "t_yWPOZoTSro",
        "colab_type": "text"
      },
      "source": [
        "7. Write a function to compare two integer numbers. The function shall return:\n",
        "  * 0 if both values are equal.\n",
        "  * 1 if the first parameter is greater than the second.\n",
        "  * -1 if the second parameter is greater than the first.\n",
        "\n",
        "* Input: \n",
        "\n",
        "  * are_equal(1,2)\n",
        "  * are_equal(2,1)\n",
        "  * are_equal(1,1)\n",
        "\n",
        "\n",
        "* Expected output:\n",
        "\n",
        "\n",
        "```\n",
        "1\n",
        "-1\n",
        "0\n",
        "```\n",
        "\n"
      ]
    },
    {
      "cell_type": "code",
      "metadata": {
        "id": "LHOGUaxRT1uv",
        "colab_type": "code",
        "colab": {
          "base_uri": "https://localhost:8080/",
          "height": 69
        },
        "outputId": "c54c1638-d95d-4276-f798-1d1c2d116a48"
      },
      "source": [
        "def are_equal(a,b):\n",
        "  if a == b:\n",
        "    return 0\n",
        "  elif a > b:\n",
        "    return 1\n",
        "  else:\n",
        "    return -1\n",
        "\n",
        "if __name__==\"__main__\":\n",
        "  print(are_equal(1,2))\n",
        "  print(are_equal(2,1))\n",
        "  print(are_equal(1,1))"
      ],
      "execution_count": 13,
      "outputs": [
        {
          "output_type": "stream",
          "text": [
            "-1\n",
            "1\n",
            "0\n"
          ],
          "name": "stdout"
        }
      ]
    },
    {
      "cell_type": "markdown",
      "metadata": {
        "id": "o37pwul2UkVr",
        "colab_type": "text"
      },
      "source": [
        "8. Write a function to implement the absolute value of an integer number.\n",
        "\n",
        "* Input: \n",
        "  * my_abs(5)\n",
        "  * my_abs(-5)\n",
        "\n",
        "\n",
        "* Expected output:\n",
        "\n",
        "\n",
        "```\n",
        "5\n",
        "5\n",
        "```"
      ]
    },
    {
      "cell_type": "code",
      "metadata": {
        "id": "xdcvk594WH3J",
        "colab_type": "code",
        "colab": {}
      },
      "source": [
        "def my_abs(a):\n",
        "  return ( -a if a<0 else a)\n",
        "if __name__==\"__main__\":\n",
        "  print(my_abs(5))\n",
        "  print(my_abs(-5))\n"
      ],
      "execution_count": 0,
      "outputs": []
    },
    {
      "cell_type": "markdown",
      "metadata": {
        "id": "Qgaql9c-aroY",
        "colab_type": "text"
      },
      "source": [
        "9. Write a function that takes as an argument one tuple packing argument (*args) and diplays the values.\n",
        "\n",
        "* Input: \n",
        "  * my_f(2,\"Hello\",[2,3])\n",
        "\n",
        "\n",
        "* Expected output:\n",
        "\n",
        "\n",
        "```\n",
        "2\n",
        "Hello\n",
        "[2,3]\n",
        "```"
      ]
    },
    {
      "cell_type": "code",
      "metadata": {
        "id": "JSKHkTSpbHg4",
        "colab_type": "code",
        "colab": {
          "base_uri": "https://localhost:8080/",
          "height": 69
        },
        "outputId": "c64bf96f-d06f-446f-fe84-3b19e490fb94"
      },
      "source": [
        "def my_f(*args):\n",
        "  if args:\n",
        "    for v in args:\n",
        "      print(v)\n",
        "if __name__==\"__main__\":\n",
        "  my_f(2,\"Hello\",[2,3])"
      ],
      "execution_count": 18,
      "outputs": [
        {
          "output_type": "stream",
          "text": [
            "2\n",
            "Hello\n",
            "[2, 3]\n"
          ],
          "name": "stdout"
        }
      ]
    },
    {
      "cell_type": "markdown",
      "metadata": {
        "id": "NtvQR2NqcLgw",
        "colab_type": "text"
      },
      "source": [
        "10. Write a function that takes as an argument one dictionary argument (**kwargs) and diplays the values.\n",
        "\n",
        "* Input: \n",
        "  *   my_f(name=\"Mary\", age=25)\n",
        "\n",
        "\n",
        "* Expected output:\n",
        "\n",
        "\n",
        "```\n",
        "Key:  name , value:  Mary\n",
        "Key:  age , value:  25\n",
        "```"
      ]
    },
    {
      "cell_type": "code",
      "metadata": {
        "id": "qx-pDDWaclL9",
        "colab_type": "code",
        "colab": {
          "base_uri": "https://localhost:8080/",
          "height": 51
        },
        "outputId": "3812a860-5087-4d66-d67c-3ffbfbb6e366"
      },
      "source": [
        "def my_f(**kwargs):\n",
        "  if kwargs:\n",
        "    for k,v in kwargs.items():\n",
        "      print(\"Key: \", k, \", value: \", v)\n",
        "if __name__==\"__main__\":\n",
        "  my_f(name=\"Mary\", age=25)"
      ],
      "execution_count": 22,
      "outputs": [
        {
          "output_type": "stream",
          "text": [
            "Key:  name , value:  Mary\n",
            "Key:  age , value:  25\n"
          ],
          "name": "stdout"
        }
      ]
    },
    {
      "cell_type": "markdown",
      "metadata": {
        "id": "oIsm6jHDdHWu",
        "colab_type": "text"
      },
      "source": [
        "11. Write a function, `is_leap`, that given a year number, returns whether is a leap year (reuse the code in the previous notebook: *Lab_3_Control_Flow_Conditional_Statements*).\n",
        "\n",
        "* Input: -1\n",
        "* Expected output:\n",
        "\n",
        "```\n",
        "False\n",
        "```\n",
        "\n",
        "\n",
        "* Input: 2019\n",
        "* Expected output:\n",
        "\n",
        "```\n",
        "False\n",
        "```\n",
        "\n",
        "* Input: 2020\n",
        "* Expected output:\n",
        "\n",
        "```\n",
        "True\n",
        "```\n"
      ]
    },
    {
      "cell_type": "code",
      "metadata": {
        "id": "1LGTyGowdcRa",
        "colab_type": "code",
        "colab": {
          "base_uri": "https://localhost:8080/",
          "height": 69
        },
        "outputId": "df1f6340-6d65-4949-f74b-5577f6f573b2"
      },
      "source": [
        "def is_leap(year):\n",
        "  is_leap_year = False\n",
        "  if year >= 0:\n",
        "    is_leap_year = (year % 4 == 0)\n",
        "    is_leap_year = is_leap_year and (year % 100 != 0)\n",
        "    is_leap_year = is_leap_year or (year % 400 == 0)\n",
        "  return is_leap_year\n",
        "\n",
        "if __name__==\"__main__\":\n",
        "  print(is_leap(-1))\n",
        "  print(is_leap(2019))\n",
        "  print(is_leap(2020))"
      ],
      "execution_count": 24,
      "outputs": [
        {
          "output_type": "stream",
          "text": [
            "False\n",
            "False\n",
            "True\n"
          ],
          "name": "stdout"
        }
      ]
    },
    {
      "cell_type": "markdown",
      "metadata": {
        "id": "WHAlYa35eYP_",
        "colab_type": "text"
      },
      "source": [
        "12. Doc strings"
      ]
    },
    {
      "cell_type": "markdown",
      "metadata": {
        "id": "R31ZeMlXeZli",
        "colab_type": "text"
      },
      "source": [
        "13. Annotations"
      ]
    }
  ]
}