{
  "nbformat": 4,
  "nbformat_minor": 0,
  "metadata": {
    "colab": {
      "name": "TIPS-Python-Builtin-Functions.ipynb",
      "provenance": [],
      "authorship_tag": "ABX9TyPiAb9V+Ibh4sWjB+wDrJZJ",
      "include_colab_link": true
    },
    "kernelspec": {
      "name": "python3",
      "display_name": "Python 3"
    }
  },
  "cells": [
    {
      "cell_type": "markdown",
      "metadata": {
        "id": "view-in-github",
        "colab_type": "text"
      },
      "source": [
        "<a href=\"https://colab.research.google.com/github/chemaar/python-programming-course/blob/master/TIPS_Python_Builtin_Functions.ipynb\" target=\"_parent\"><img src=\"https://colab.research.google.com/assets/colab-badge.svg\" alt=\"Open In Colab\"/></a>"
      ]
    },
    {
      "cell_type": "markdown",
      "metadata": {
        "id": "HN0mJuCmBspO",
        "colab_type": "text"
      },
      "source": [
        "# Python Builtin functions"
      ]
    },
    {
      "cell_type": "markdown",
      "metadata": {
        "id": "28ZEHRZvBvUi",
        "colab_type": "text"
      },
      "source": [
        "Following, we present some of the main [built-in functions in Python](https://docs.python.org/3/library/functions.html). These functions are available at anytime for any type of object in Python. However, the behavior can change depending on the input parameters.\n",
        "\n",
        "First, let's discover which built-in functions are available. In general, they can be classified into some categories:\n",
        "\n",
        "* Input/Output: input/print\n",
        "* Basic operations: len\n",
        "* Basic math functions: abs, pow\n",
        "* Aggregation operators: min, max, sum\n",
        "* Type casting: str, int, float, complex, bool\n",
        "* Object identification: id, hash\n",
        "* Help functions: help, dir, etc.\n",
        "\n",
        "The rest of functions will be in our interest in other cases."
      ]
    },
    {
      "cell_type": "code",
      "metadata": {
        "id": "j8mFST_GBpUK",
        "colab_type": "code",
        "colab": {}
      },
      "source": [
        "dir(__builtin__)"
      ],
      "execution_count": 0,
      "outputs": []
    },
    {
      "cell_type": "code",
      "metadata": {
        "id": "8Z8_-oMxJrkS",
        "colab_type": "code",
        "colab": {
          "base_uri": "https://localhost:8080/",
          "height": 223
        },
        "outputId": "0a45423c-5dbe-4037-ef76-de0fa9893350"
      },
      "source": [
        "help(print)"
      ],
      "execution_count": 33,
      "outputs": [
        {
          "output_type": "stream",
          "text": [
            "Help on built-in function print in module builtins:\n",
            "\n",
            "print(...)\n",
            "    print(value, ..., sep=' ', end='\\n', file=sys.stdout, flush=False)\n",
            "    \n",
            "    Prints the values to a stream, or to sys.stdout by default.\n",
            "    Optional keyword arguments:\n",
            "    file:  a file-like object (stream); defaults to the current sys.stdout.\n",
            "    sep:   string inserted between values, default a space.\n",
            "    end:   string appended after the last value, default a newline.\n",
            "    flush: whether to forcibly flush the stream.\n",
            "\n"
          ],
          "name": "stdout"
        }
      ]
    },
    {
      "cell_type": "markdown",
      "metadata": {
        "id": "ZuwUVHG7Cmbo",
        "colab_type": "text"
      },
      "source": [
        "## `print` function\n",
        "\n",
        "* Grammar: `print(*objects, sep=' ', end='\\n', file=sys.stdout, flush=False)`\n",
        "\n",
        "* Print objects to the text stream file, separated by sep and followed by end. sep, end, file and flush, if present, must be given as keyword arguments.\n",
        "\n",
        ">Source: https://docs.python.org/3/library/functions.html#print\n"
      ]
    },
    {
      "cell_type": "code",
      "metadata": {
        "id": "0bhTWeI-DMrc",
        "colab_type": "code",
        "colab": {
          "base_uri": "https://localhost:8080/",
          "height": 120
        },
        "outputId": "b093a18f-6a01-4846-bff6-b3c831165d11"
      },
      "source": [
        "print(\"Hello, no return\", end=\"\")\n",
        "print(\"...in the same line...\")\n",
        "print(\"New line\")\n",
        "#Including characters such as tabulator and return\n",
        "print(\"\\t This is a tabulator with two returns extra \\n\\n \")\n",
        "print(\"other line\")"
      ],
      "execution_count": 6,
      "outputs": [
        {
          "output_type": "stream",
          "text": [
            "Hello, no return...in the same line...\n",
            "New line\n",
            "\t This is a tabulator with two returns extra \n",
            "\n",
            " \n",
            "other line\n"
          ],
          "name": "stdout"
        }
      ]
    },
    {
      "cell_type": "code",
      "metadata": {
        "id": "bnts2AhlDlhy",
        "colab_type": "code",
        "colab": {
          "base_uri": "https://localhost:8080/",
          "height": 51
        },
        "outputId": "ac830c75-b2eb-484a-8efe-44e329206dba"
      },
      "source": [
        "print(\"Hello\", \"I am Paul\", \"and I am\", str(30), \"years old.\")\n",
        "#Separating input tokens with a hash\n",
        "print(\"Hello\", \"I am Paul\", \"and I am\", str(30), \"years old.\", sep=\"#\")"
      ],
      "execution_count": 8,
      "outputs": [
        {
          "output_type": "stream",
          "text": [
            "Hello I am Paul and I am 30 years old.\n",
            "Hello#I am Paul#and I am#30#years old.\n"
          ],
          "name": "stdout"
        }
      ]
    },
    {
      "cell_type": "code",
      "metadata": {
        "id": "5dyywtEoD3Vu",
        "colab_type": "code",
        "colab": {
          "base_uri": "https://localhost:8080/",
          "height": 51
        },
        "outputId": "eb7656d7-87a0-4a12-cba8-b9ec1c3a60e1"
      },
      "source": [
        "#Formmatting the output with str.format\n",
        "#Naming parameters\n",
        "print(\"Hello I am {name} and I am {age} years old.\".format(name=\"Paul\",age=30))\n",
        "#Positional parameters\n",
        "print(\"Hello I am {} and I am {} years old.\".format(\"Paul\",30))"
      ],
      "execution_count": 10,
      "outputs": [
        {
          "output_type": "stream",
          "text": [
            "Hello I am Paul and I am 30 years old.\n",
            "Hello I am Paul and I am 30 years old.\n"
          ],
          "name": "stdout"
        }
      ]
    },
    {
      "cell_type": "code",
      "metadata": {
        "id": "BwzBkJSKEQHR",
        "colab_type": "code",
        "colab": {
          "base_uri": "https://localhost:8080/",
          "height": 51
        },
        "outputId": "523d342d-55d8-4aab-d4ff-7608ff232bb3"
      },
      "source": [
        "#Formatting numbers\n",
        "#%[flags][width][.precision]type \n",
        "print(\"%6.3f\" % (3.14516))\n",
        "print(\"{0:8.3f}\".format(3567.14516))"
      ],
      "execution_count": 17,
      "outputs": [
        {
          "output_type": "stream",
          "text": [
            " 3.145\n",
            "3567.145\n"
          ],
          "name": "stdout"
        }
      ]
    },
    {
      "cell_type": "markdown",
      "metadata": {
        "id": "m9_iH6ESHBlZ",
        "colab_type": "text"
      },
      "source": [
        "## `input` function\n",
        "\n",
        "* Grammar: `input([prompt])`\n",
        "\n",
        "* If the prompt argument is present, it is written to standard output without a trailing newline. The function then reads a line from input, converts it to a string (stripping a trailing newline), and returns that. When EOF is read, EOFError is raised. \n",
        "\n",
        ">Source: https://docs.python.org/3/library/functions.html#input"
      ]
    },
    {
      "cell_type": "code",
      "metadata": {
        "id": "OM8d1DguHMYY",
        "colab_type": "code",
        "colab": {
          "base_uri": "https://localhost:8080/",
          "height": 51
        },
        "outputId": "30d7b2ee-11d0-43ad-e10b-19c8b22f930b"
      },
      "source": [
        "a = input(\">>>>\")\n",
        "print(a)"
      ],
      "execution_count": 24,
      "outputs": [
        {
          "output_type": "stream",
          "text": [
            ">>>>aaa\n",
            "aaa\n"
          ],
          "name": "stdout"
        }
      ]
    },
    {
      "cell_type": "markdown",
      "metadata": {
        "id": "DptM76lqCSNS",
        "colab_type": "text"
      },
      "source": [
        "## `str` function\n",
        "\n",
        "* Grammar: `str(object=b'', encoding='utf-8', errors='strict')`\n",
        "\n",
        "* Return a string version of object. If object is not provided, returns the empty string. Otherwise, the behavior of str() depends on whether encoding or errors is given, as follows.\n",
        "\n",
        ">Source: https://docs.python.org/3/library/stdtypes.html#str"
      ]
    },
    {
      "cell_type": "code",
      "metadata": {
        "id": "ennE1_6fCdPf",
        "colab_type": "code",
        "colab": {
          "base_uri": "https://localhost:8080/",
          "height": 103
        },
        "outputId": "f2207aa3-1e4d-4b15-dfc7-a98708c0fbc6"
      },
      "source": [
        "print(str(4))\n",
        "print(str([1,2]))\n",
        "print(str())\n",
        "print(str(True))\n",
        "print(str(None))"
      ],
      "execution_count": 2,
      "outputs": [
        {
          "output_type": "stream",
          "text": [
            "4\n",
            "[1, 2]\n",
            "\n",
            "True\n",
            "None\n"
          ],
          "name": "stdout"
        }
      ]
    },
    {
      "cell_type": "markdown",
      "metadata": {
        "id": "5pvmCWblFuNT",
        "colab_type": "text"
      },
      "source": [
        "## `len` function\n",
        "\n",
        "* Grammar: `len(s)`\n",
        "\n",
        "* Return the length (the number of items) of an object. The argument may be a sequence (such as a string, bytes, tuple, list, or range) or a collection (such as a dictionary, set, or frozen set).\n",
        "\n",
        ">Source: https://docs.python.org/3/library/functions.html#len"
      ]
    },
    {
      "cell_type": "code",
      "metadata": {
        "id": "Z8GtW7XhF2Hp",
        "colab_type": "code",
        "colab": {
          "base_uri": "https://localhost:8080/",
          "height": 34
        },
        "outputId": "e535cbda-80c0-4a49-9583-6a13e91632e2"
      },
      "source": [
        "len(\"Hello\")"
      ],
      "execution_count": 18,
      "outputs": [
        {
          "output_type": "execute_result",
          "data": {
            "text/plain": [
              "5"
            ]
          },
          "metadata": {
            "tags": []
          },
          "execution_count": 18
        }
      ]
    },
    {
      "cell_type": "code",
      "metadata": {
        "id": "t4ZKouEoF35Y",
        "colab_type": "code",
        "colab": {}
      },
      "source": [
        "len(4)"
      ],
      "execution_count": 0,
      "outputs": []
    },
    {
      "cell_type": "markdown",
      "metadata": {
        "id": "CBtbRt5hF-gg",
        "colab_type": "text"
      },
      "source": [
        "## `abs` function\n",
        "\n",
        "* Grammar: `abs(s)`\n",
        "\n",
        "* Return the absolute value of a number. The argument may be an integer or a floating point number. If the argument is a complex number, its magnitude is returned.\n",
        "\n",
        ">Source: https://docs.python.org/3/library/functions.html#abs"
      ]
    },
    {
      "cell_type": "code",
      "metadata": {
        "id": "SPDW-cioGIZw",
        "colab_type": "code",
        "colab": {
          "base_uri": "https://localhost:8080/",
          "height": 34
        },
        "outputId": "7eebc460-94d0-45dd-c02c-2a322493987b"
      },
      "source": [
        "abs(-5)"
      ],
      "execution_count": 20,
      "outputs": [
        {
          "output_type": "execute_result",
          "data": {
            "text/plain": [
              "5"
            ]
          },
          "metadata": {
            "tags": []
          },
          "execution_count": 20
        }
      ]
    },
    {
      "cell_type": "markdown",
      "metadata": {
        "id": "yvFotyGlGyM3",
        "colab_type": "text"
      },
      "source": [
        "## `max` function\n",
        "\n",
        "* Grammar: `max(arg1, arg2, *args[, key])`\n",
        "\n",
        "* Return the largest item in an iterable or the largest of two or more arguments..\n",
        "\n",
        ">Source: https://docs.python.org/3/library/functions.html#max"
      ]
    },
    {
      "cell_type": "code",
      "metadata": {
        "id": "yTQ1OM0tG5Aq",
        "colab_type": "code",
        "colab": {
          "base_uri": "https://localhost:8080/",
          "height": 34
        },
        "outputId": "77f8f2f4-6b1f-4752-8b72-fb9ca4e45785"
      },
      "source": [
        "max(2,3,4)"
      ],
      "execution_count": 23,
      "outputs": [
        {
          "output_type": "execute_result",
          "data": {
            "text/plain": [
              "4"
            ]
          },
          "metadata": {
            "tags": []
          },
          "execution_count": 23
        }
      ]
    },
    {
      "cell_type": "markdown",
      "metadata": {
        "id": "pIbvmdCxHWLc",
        "colab_type": "text"
      },
      "source": [
        "## `min` function\n",
        "\n",
        "* Grammar: `min(arg1, arg2, *args[, key])`\n",
        "\n",
        "* Return the smallest item in an iterable or the smallest of two or more arguments.\n",
        "\n",
        "\n",
        ">Source: https://docs.python.org/3/library/functions.html#min"
      ]
    },
    {
      "cell_type": "code",
      "metadata": {
        "id": "Qe40WZnFHgyz",
        "colab_type": "code",
        "colab": {
          "base_uri": "https://localhost:8080/",
          "height": 34
        },
        "outputId": "27a630cc-4253-4451-f0d9-cf573ddf64f9"
      },
      "source": [
        "min(1,2,3)"
      ],
      "execution_count": 25,
      "outputs": [
        {
          "output_type": "execute_result",
          "data": {
            "text/plain": [
              "1"
            ]
          },
          "metadata": {
            "tags": []
          },
          "execution_count": 25
        }
      ]
    },
    {
      "cell_type": "markdown",
      "metadata": {
        "id": "SnomkMc5HnVN",
        "colab_type": "text"
      },
      "source": [
        "## `pow` function\n",
        "\n",
        "* Grammar: `pow(base, exp[, mod])`\n",
        "\n",
        "* Return base to the power exp; if mod is present, return base to the power exp, modulo mod (computed more efficiently than pow(base, exp) % mod). The two-argument form pow(base, exp) is equivalent to using the power operator: base**exp.\n",
        "\n",
        "\n",
        ">Source: https://docs.python.org/3/library/functions.html#pow"
      ]
    },
    {
      "cell_type": "code",
      "metadata": {
        "id": "S0J0aEAkHw9J",
        "colab_type": "code",
        "colab": {
          "base_uri": "https://localhost:8080/",
          "height": 34
        },
        "outputId": "7b609df4-0eae-4176-b5dd-28f833bf0ac9"
      },
      "source": [
        "pow(2,3)"
      ],
      "execution_count": 26,
      "outputs": [
        {
          "output_type": "execute_result",
          "data": {
            "text/plain": [
              "8"
            ]
          },
          "metadata": {
            "tags": []
          },
          "execution_count": 26
        }
      ]
    },
    {
      "cell_type": "markdown",
      "metadata": {
        "id": "PpTKktwjH5v8",
        "colab_type": "text"
      },
      "source": [
        "## `sum` function\n",
        "\n",
        "* Grammar: `sum(iterable, /, start=0)`\n",
        "\n",
        "* Sums start and the items of an iterable from left to right and returns the total. The iterable’s items are normally numbers, and the start value is not allowed to be a string.\n",
        "\n",
        "\n",
        ">Source: https://docs.python.org/3/library/functions.html#sum"
      ]
    },
    {
      "cell_type": "code",
      "metadata": {
        "id": "Eh-AL5NlIDcb",
        "colab_type": "code",
        "colab": {
          "base_uri": "https://localhost:8080/",
          "height": 34
        },
        "outputId": "d065eb6d-0072-441b-fec7-4d6cac8efbc1"
      },
      "source": [
        "sum([1,2,3])"
      ],
      "execution_count": 28,
      "outputs": [
        {
          "output_type": "execute_result",
          "data": {
            "text/plain": [
              "6"
            ]
          },
          "metadata": {
            "tags": []
          },
          "execution_count": 28
        }
      ]
    },
    {
      "cell_type": "markdown",
      "metadata": {
        "id": "A5KqPSutGS0g",
        "colab_type": "text"
      },
      "source": [
        "## `float` function\n",
        "\n",
        "* Grammar: `float([s])`\n",
        "\n",
        "* Return a floating point number constructed from a number or string s.\n",
        "\n",
        "\n",
        ">Source: https://docs.python.org/3/library/functions.html#float"
      ]
    },
    {
      "cell_type": "code",
      "metadata": {
        "id": "pQy4Bok2GaX4",
        "colab_type": "code",
        "colab": {
          "base_uri": "https://localhost:8080/",
          "height": 34
        },
        "outputId": "8462c6fb-bb57-414e-c5d7-a2579a68d972"
      },
      "source": [
        "float(\"5.2\")"
      ],
      "execution_count": 21,
      "outputs": [
        {
          "output_type": "execute_result",
          "data": {
            "text/plain": [
              "5.2"
            ]
          },
          "metadata": {
            "tags": []
          },
          "execution_count": 21
        }
      ]
    },
    {
      "cell_type": "markdown",
      "metadata": {
        "id": "yj0bKocnGjQP",
        "colab_type": "text"
      },
      "source": [
        "## `int` function\n",
        "\n",
        "* Grammar: `int([s])`\n",
        "\n",
        "* Return an integer object constructed from a number or string x, or return 0 if no arguments are given.\n",
        "\n",
        "\n",
        ">Source: https://docs.python.org/3/library/functions.html#int"
      ]
    },
    {
      "cell_type": "code",
      "metadata": {
        "id": "2e5C8v-iGsN0",
        "colab_type": "code",
        "colab": {
          "base_uri": "https://localhost:8080/",
          "height": 34
        },
        "outputId": "c8405cc4-6e3c-4d3f-a518-1014170ac06b"
      },
      "source": [
        "int(\"1\")"
      ],
      "execution_count": 22,
      "outputs": [
        {
          "output_type": "execute_result",
          "data": {
            "text/plain": [
              "1"
            ]
          },
          "metadata": {
            "tags": []
          },
          "execution_count": 22
        }
      ]
    },
    {
      "cell_type": "markdown",
      "metadata": {
        "id": "c-ojV0m-JYtJ",
        "colab_type": "text"
      },
      "source": [
        "## `complex` function\n",
        "\n",
        "* Grammar: `complex([real[, imag]])`\n",
        "\n",
        "* Return a complex number with the value real + imag*1j or convert a string or number to a complex number. If the first parameter is a string, it will be interpreted as a complex number and the function must be called without a second parameter. The second parameter can never be a string. Each argument may be any numeric type (including complex). If imag is omitted, it defaults to zero and the constructor serves as a numeric conversion like int and float. If both arguments are omitted, returns 0j.\n",
        "\n",
        "\n",
        ">Source: https://docs.python.org/3/library/functions.html#complex"
      ]
    },
    {
      "cell_type": "code",
      "metadata": {
        "id": "r8f_woFCJhbB",
        "colab_type": "code",
        "colab": {
          "base_uri": "https://localhost:8080/",
          "height": 34
        },
        "outputId": "8787c955-2ac2-474c-a560-8c9d314881de"
      },
      "source": [
        "complex(1+2j)"
      ],
      "execution_count": 32,
      "outputs": [
        {
          "output_type": "execute_result",
          "data": {
            "text/plain": [
              "(1+2j)"
            ]
          },
          "metadata": {
            "tags": []
          },
          "execution_count": 32
        }
      ]
    },
    {
      "cell_type": "markdown",
      "metadata": {
        "id": "UlqhhJuMITWz",
        "colab_type": "text"
      },
      "source": [
        "## `bool` function\n",
        "\n",
        "* Grammar: `bool([x])`\n",
        "\n",
        "* Return a Boolean value, i.e. one of True or False. x is converted using the standard truth testing procedure. If x is false or omitted, this returns False; otherwise it returns True. \n",
        "\n",
        "\n",
        ">Source: https://docs.python.org/3/library/functions.html#bool"
      ]
    },
    {
      "cell_type": "markdown",
      "metadata": {
        "id": "uG8SHljGI5KF",
        "colab_type": "text"
      },
      "source": [
        "## `id` function\n",
        "\n",
        "* Grammar: `id(object)`\n",
        "\n",
        "* Return the “identity” of an object. This is an integer which is guaranteed to be unique and constant for this object during its lifetime. Two objects with non-overlapping lifetimes may have the same id() value.\n",
        "\n",
        "\n",
        ">Source: https://docs.python.org/3/library/functions.html#id"
      ]
    },
    {
      "cell_type": "code",
      "metadata": {
        "id": "ply2L8aPJLQq",
        "colab_type": "code",
        "colab": {
          "base_uri": "https://localhost:8080/",
          "height": 34
        },
        "outputId": "67b8eded-db77-45ea-bb78-d2fc5d966ca8"
      },
      "source": [
        "a = 2\n",
        "id(a)"
      ],
      "execution_count": 29,
      "outputs": [
        {
          "output_type": "execute_result",
          "data": {
            "text/plain": [
              "10914528"
            ]
          },
          "metadata": {
            "tags": []
          },
          "execution_count": 29
        }
      ]
    },
    {
      "cell_type": "markdown",
      "metadata": {
        "id": "6yRKx7IVJBu-",
        "colab_type": "text"
      },
      "source": [
        "## `hash` function\n",
        "\n",
        "* Grammar: `hash(object)`\n",
        "\n",
        "* Return the hash value of the object (if it has one). Hash values are integers. They are used to quickly compare dictionary keys during a dictionary lookup. Numeric values that compare equal have the same hash value (even if they are of different types, as is the case for 1 and 1.0).\n",
        "\n",
        "\n",
        ">Source: https://docs.python.org/3/library/functions.html#hash"
      ]
    },
    {
      "cell_type": "code",
      "metadata": {
        "id": "i4Te80wGJOkk",
        "colab_type": "code",
        "colab": {
          "base_uri": "https://localhost:8080/",
          "height": 34
        },
        "outputId": "34008693-de5e-44ba-98f9-e1254f867212"
      },
      "source": [
        "text = \"This is an string\"\n",
        "hash(text)"
      ],
      "execution_count": 31,
      "outputs": [
        {
          "output_type": "execute_result",
          "data": {
            "text/plain": [
              "-2681800488041121326"
            ]
          },
          "metadata": {
            "tags": []
          },
          "execution_count": 31
        }
      ]
    },
    {
      "cell_type": "markdown",
      "metadata": {
        "id": "QontwCARJwwr",
        "colab_type": "text"
      },
      "source": [
        "## References\n",
        "\n",
        "* https://docs.python.org/3/library/functions.html"
      ]
    }
  ]
}