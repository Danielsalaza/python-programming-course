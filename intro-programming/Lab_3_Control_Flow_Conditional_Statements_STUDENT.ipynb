{
  "nbformat": 4,
  "nbformat_minor": 0,
  "metadata": {
    "colab": {
      "name": "Lab_3_Control_Flow_Conditional_Statements_STUDENT.ipynb",
      "provenance": [],
      "collapsed_sections": [],
      "authorship_tag": "ABX9TyM4mmSZHNhnIqFspilEgndX",
      "include_colab_link": true
    },
    "kernelspec": {
      "name": "python3",
      "display_name": "Python 3"
    }
  },
  "cells": [
    {
      "cell_type": "markdown",
      "metadata": {
        "id": "view-in-github",
        "colab_type": "text"
      },
      "source": [
        "<a href=\"https://colab.research.google.com/github/chemaar/python-programming-course/blob/master/Lab_3_Control_Flow_Conditional_Statements_STUDENT.ipynb\" target=\"_parent\"><img src=\"https://colab.research.google.com/assets/colab-badge.svg\" alt=\"Open In Colab\"/></a>"
      ]
    },
    {
      "cell_type": "markdown",
      "metadata": {
        "id": "l88YgeqXK38T",
        "colab_type": "text"
      },
      "source": [
        "# Lab 3: Control flow-Conditional Statements\n",
        "\n",
        "In this notebook, we propose and solve some exercises about conditional statements.\n",
        "\n",
        "**As a good programming practice, our test cases should ensure that all branches of the code are executed at least once.**"
      ]
    },
    {
      "cell_type": "markdown",
      "metadata": {
        "id": "ZfRgZHNdLIuf",
        "colab_type": "text"
      },
      "source": [
        "## List of exercises"
      ]
    },
    {
      "cell_type": "markdown",
      "metadata": {
        "id": "wV7mERYcMlJ3",
        "colab_type": "text"
      },
      "source": [
        "1. Write a program that asks the user for an integer numbers and prints out a message indicating whether the input is greater than 10.\n",
        "\n",
        "\n",
        "* Input: 15\n",
        "* Expected output:\n",
        "\n",
        "```\n",
        "The input 15 is greater than 10.\n",
        "```"
      ]
    },
    {
      "cell_type": "markdown",
      "metadata": {
        "id": "exoNUr0OMFNX",
        "colab_type": "text"
      },
      "source": [
        "2. Write a program that asks the user for two integer numbers and prints out the greater value.\n",
        "\n",
        "\n",
        "* Input: 4 and 15\n",
        "* Expected output:\n",
        "\n",
        "```\n",
        "The result is: 15\n",
        "```"
      ]
    },
    {
      "cell_type": "markdown",
      "metadata": {
        "id": "a4arD3NSM_F0",
        "colab_type": "text"
      },
      "source": [
        "3. Modify the program in 2 to detect when the input values are equal.\n",
        "\n",
        "\n",
        "* Input: 4 and 4\n",
        "* Expected output:\n",
        "\n",
        "```\n",
        "Both values are equal.\n",
        "```"
      ]
    },
    {
      "cell_type": "markdown",
      "metadata": {
        "id": "-RcJhDJgNUDH",
        "colab_type": "text"
      },
      "source": [
        "4. Write a program that asks the user for an integer number and prints the absolute value of the input value.\n",
        "\n",
        ">Do not use the built-in function abs()\n",
        "\n",
        "\n",
        "* Input: -3\n",
        "* Expected output:\n",
        "\n",
        "```\n",
        "The absolute value of -3 is 3.\n",
        "```"
      ]
    },
    {
      "cell_type": "markdown",
      "metadata": {
        "id": "_C8Tya9EN5VZ",
        "colab_type": "text"
      },
      "source": [
        "5. Write a program that asks the user for two float numbers and prints out the greater value.\n",
        "\n",
        "* Input: 3.5, 4.5\n",
        "* Expected output:\n",
        "\n",
        "```\n",
        "4.5 is greater than 3.5\n",
        "```"
      ]
    },
    {
      "cell_type": "markdown",
      "metadata": {
        "id": "IYlizpxcPLwi",
        "colab_type": "text"
      },
      "source": [
        "6. Write a program that asks the user for 3 integer numbers and prints out the greater value.\n",
        "\n",
        "* Input: 4, 6, 2\n",
        "* Expected output:\n",
        "\n",
        "```\n",
        "6 is the greatest value.\n",
        "```"
      ]
    },
    {
      "cell_type": "markdown",
      "metadata": {
        "id": "1724wdKLQTRz",
        "colab_type": "text"
      },
      "source": [
        "7. Write a program that asks for a year and prints True if the year is a leap year, and False otherwise.  In the Gregorian calendar, a leap year follows these rules (see exercise 12 in Lab 2):\n",
        "\n",
        "* The year can be evenly divided by 4;\n",
        "* If the year can be evenly divided by 100, it is NOT a leap year, unless;\n",
        "* The year is also evenly divisible by 400. Then it is a leap year.\n",
        "\n",
        "* Input: 2020\n",
        "* Expected output:\n",
        "\n",
        "```\n",
        "The year 2020 is leap.\n",
        "```\n",
        "\n",
        "* Input: 2019\n",
        "* Expected output:\n",
        "\n",
        "```\n",
        "The year 2019 is not leap.\n",
        "```"
      ]
    },
    {
      "cell_type": "markdown",
      "metadata": {
        "id": "cS6y8RGUQwxK",
        "colab_type": "text"
      },
      "source": [
        "8. Write a program that asks the user for an integer number, and prints out whether or not it is an even number.\n",
        "\n",
        "* Input: 4\n",
        "* Expected output:\n",
        "\n",
        "```\n",
        "4 is an even number.\n",
        "```"
      ]
    },
    {
      "cell_type": "markdown",
      "metadata": {
        "id": "g01LdcWmRHiV",
        "colab_type": "text"
      },
      "source": [
        "9. Write a program that asks the user for a day number an prints the day name.\n",
        "\n",
        "* Input: between 1-7\n",
        "* Expected output:\n",
        "\n",
        "```\n",
        "Monday-Tuesday-etc.\n",
        "```"
      ]
    },
    {
      "cell_type": "markdown",
      "metadata": {
        "id": "2x3sDaxXR1c7",
        "colab_type": "text"
      },
      "source": [
        "10. Write a program that asks the user for her name an prints the number of characters.\n",
        "\n",
        "* Input: Jose, a valid name must have more than 2 characters (otherwise the program shall print \"Your name is too short\")\n",
        "* Expected output:\n",
        "\n",
        "```\n",
        "Your name has 4 characters\n",
        "```"
      ]
    },
    {
      "cell_type": "markdown",
      "metadata": {
        "id": "fIuM-qBsLIH-",
        "colab_type": "text"
      },
      "source": [
        "11. Write a program that given a quantitative grade, prints out the qualitative value.\n",
        "\n",
        "* A if input in [9-10]\n",
        "* B if input in [7-9)\n",
        "* C if input in [5-7)\n",
        "* D if input < 5\n",
        "\n",
        "* Input: 7.5 (test limit values like 7, 5, 9, 10 as an input)\n",
        "* Expected output:\n",
        "\n",
        "```\n",
        "Your grade is B.\n",
        "```"
      ]
    },
    {
      "cell_type": "markdown",
      "metadata": {
        "id": "ADaYg6DONV9L",
        "colab_type": "text"
      },
      "source": [
        "12. Write a program that given an integer numbers, prints out if it is divisible by 5 and 11.\n",
        "\n",
        "* Input: 55\n",
        "* Expected output:\n",
        "\n",
        "```\n",
        "The number 55 is divisible by 5 and 11.\n",
        "```"
      ]
    },
    {
      "cell_type": "markdown",
      "metadata": {
        "id": "VdTuYn7HN6b-",
        "colab_type": "text"
      },
      "source": [
        "12. Write a program to check that a character is a letter in uppercase.\n",
        "\n",
        "* Make use of these functions:\n",
        "  * value.isupper() -->Returns True if the value is in uppercase.\n",
        "  * value.isalpha()-->Returns True if the value is a letter.\n",
        "\n",
        "* Input: A\n",
        "* Expected output:\n",
        "\n",
        "```\n",
        "The character A is in uppercase.\n",
        "```"
      ]
    },
    {
      "cell_type": "markdown",
      "metadata": {
        "id": "HqIACWFvPN0a",
        "colab_type": "text"
      },
      "source": [
        "13. Write a program that given a month name, prints the number of days (if the name is not correct, it shall print out some error message).\n",
        "\n",
        "* Input: January\n",
        "* Expected output:\n",
        "\n",
        "```\n",
        "January has 31 days.\n",
        "```"
      ]
    },
    {
      "cell_type": "markdown",
      "metadata": {
        "id": "TJ7l6BJFRvEY",
        "colab_type": "text"
      },
      "source": [
        "14. Write a program that given the 3 angles of triangles, checks whether is valid (the sum must be 180).\n",
        "\n",
        "* Input: 45, 45, 90\n",
        "* Expected output:\n",
        "\n",
        "```\n",
        "The triangle: 45, 45, 90 is valid.\n",
        "```"
      ]
    },
    {
      "cell_type": "markdown",
      "metadata": {
        "id": "EbBeo_1PUJjP",
        "colab_type": "text"
      },
      "source": [
        "15. Write a program that given the 3 integer numbers, it prints out the sorted values (in descending order) using conditional statements..\n",
        "\n",
        "* Input: 3, 5, 2\n",
        "* Expected output:\n",
        "\n",
        "```\n",
        "5, 3, 2\n",
        "```"
      ]
    }
  ]
}