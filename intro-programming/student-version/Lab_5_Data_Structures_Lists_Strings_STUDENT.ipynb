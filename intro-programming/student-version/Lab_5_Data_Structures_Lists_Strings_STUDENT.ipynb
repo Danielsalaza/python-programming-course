{
  "nbformat": 4,
  "nbformat_minor": 0,
  "metadata": {
    "colab": {
      "name": "Lab_5_Data_Structures_Lists_Strings_STUDENT.ipynb",
      "provenance": [],
      "collapsed_sections": [
        "r_ylj8YQ2iAB",
        "-yNqZFCI2oBg"
      ],
      "authorship_tag": "ABX9TyOz/iih3zWTPqebdomhy5RG",
      "include_colab_link": true
    },
    "kernelspec": {
      "name": "python3",
      "display_name": "Python 3"
    }
  },
  "cells": [
    {
      "cell_type": "markdown",
      "metadata": {
        "id": "view-in-github",
        "colab_type": "text"
      },
      "source": [
        "<a href=\"https://colab.research.google.com/github/chemaar/python-programming-course/blob/master/Lab_5_Data_Structures_Lists_Strings_STUDENT.ipynb\" target=\"_parent\"><img src=\"https://colab.research.google.com/assets/colab-badge.svg\" alt=\"Open In Colab\"/></a>"
      ]
    },
    {
      "cell_type": "markdown",
      "metadata": {
        "id": "l88YgeqXK38T",
        "colab_type": "text"
      },
      "source": [
        "# Lab 5: Data structures: Lists and strings\n",
        "\n",
        "In this notebook, we propose and solve some exercises about basic data structures implemented through Python lists and strings.\n",
        "\n",
        "* **In these exercises, we can always proceed solving the problems in a generic way or taking advantage of Python capabilities. As a recommendation, first, try the generic way (applicable to any programming language) and, then, using Python**\n",
        "\n",
        "* **As a good programming practice, our test cases should ensure that all branches of the code are executed at least once.**"
      ]
    },
    {
      "cell_type": "markdown",
      "metadata": {
        "id": "ZfRgZHNdLIuf",
        "colab_type": "text"
      },
      "source": [
        "## List of exercises"
      ]
    },
    {
      "cell_type": "markdown",
      "metadata": {
        "id": "wV7mERYcMlJ3",
        "colab_type": "text"
      },
      "source": [
        "\n",
        "\n",
        "1. Write a a program that creates a list of $n$ numbers initializing each position with a value (the numeric value of such position). Display the list in the console.\n",
        "\n",
        "\n",
        "* Input: 5\n",
        "* Expected output:\n",
        "\n",
        "```\n",
        "[0,1,3,4,5]\n",
        "```"
      ]
    },
    {
      "cell_type": "markdown",
      "metadata": {
        "id": "KSIuWolrRpc5",
        "colab_type": "text"
      },
      "source": [
        "2. Write a program that given a list of $n$ numbers, calculates and displays the length of the list.\n",
        "\n",
        "\n",
        "* Input: [3,4,5,6]\n",
        "* Expected output:\n",
        "\n",
        "```\n",
        "The length of the list is: 4\n",
        "```"
      ]
    },
    {
      "cell_type": "markdown",
      "metadata": {
        "id": "g-ogwutGSb4n",
        "colab_type": "text"
      },
      "source": [
        "3. Write a program that given a list of $n$ numbers, calculates and displays the max value within the list and its position.\n",
        "\n",
        "\n",
        "* Input: [8, 1, 9, 2]\n",
        "* Expected output:\n",
        "\n",
        "```\n",
        "The max value is: 9 in position: 2.\n",
        "```"
      ]
    },
    {
      "cell_type": "markdown",
      "metadata": {
        "id": "XYxZMPq4T8KQ",
        "colab_type": "text"
      },
      "source": [
        "4. Write a program that given a list of $n$ numbers, calculates and displays the min value within the list and its position.\n",
        "\n",
        "\n",
        "* Input: [8, 1, 9, 2]\n",
        "* Expected output:\n",
        "\n",
        "```\n",
        "The min value is: 1 in position: 1.\n",
        "```"
      ]
    },
    {
      "cell_type": "markdown",
      "metadata": {
        "id": "YHX4fHYqUSYX",
        "colab_type": "text"
      },
      "source": [
        "5. Write a program that given a list of $n$ numbers, calculates and displays the sum of its elements.\n",
        "\n",
        "\n",
        "* Input: [8, 1, 9, 2]\n",
        "* Expected output:\n",
        "\n",
        "```\n",
        "The sum is: 20.\n",
        "```"
      ]
    },
    {
      "cell_type": "markdown",
      "metadata": {
        "id": "BW0ih-scU9_e",
        "colab_type": "text"
      },
      "source": [
        "6. Write a program that given a list of $n$ numbers and a target number $k$, counts the number of occurrences of $k$ in the list.\n",
        "\n",
        "\n",
        "* Input: [8, 1, 9, 1], $k=1$\n",
        "* Expected output:\n",
        "\n",
        "```\n",
        "The number 1 has 2 occurrences.\n",
        "```"
      ]
    },
    {
      "cell_type": "markdown",
      "metadata": {
        "id": "PdgUWA3AVrB2",
        "colab_type": "text"
      },
      "source": [
        "7. Write a program that given a list of $n$ numbers and a target number $k$, returns and displays the position of the first apparition of the number $k$.\n",
        "\n",
        "\n",
        "* Input: [8, 1, 9, 1], $k=1$\n",
        "* Expected output:\n",
        "\n",
        "```\n",
        "The number 1 occurs first in position 1.\n",
        "```"
      ]
    },
    {
      "cell_type": "markdown",
      "metadata": {
        "id": "pC8zQkz0YzYE",
        "colab_type": "text"
      },
      "source": [
        "8. Write a program that given a list of $n$ numbers and a target number $k$, returns and displays the position of the last apparition.\n",
        "\n",
        "\n",
        "* Input: [8, 1, 9, 1], $k=1$\n",
        "* Expected output:\n",
        "\n",
        "```\n",
        "The number 1 occurs last in position 3.\n",
        "```"
      ]
    },
    {
      "cell_type": "markdown",
      "metadata": {
        "id": "DO1-eIlYbxEZ",
        "colab_type": "text"
      },
      "source": [
        "9. Write a program that given a list of $n$ numbers and a target number $k$, returns and displays a list of all positions in which the value $k$ occurs.\n",
        "\n",
        "\n",
        "* Input: [8, 1, 9, 1], $k=1$\n",
        "* Expected output:\n",
        "\n",
        "```\n",
        "The number 1 occurs in [1, 3].\n",
        "```"
      ]
    },
    {
      "cell_type": "markdown",
      "metadata": {
        "id": "Qz8dThJBejkd",
        "colab_type": "text"
      },
      "source": [
        "10. Write a program that given a list of $n$ numbers, creates a new list in reverse order.\n",
        "\n",
        "\n",
        "* Input: [7, 5, 9, 2]\n",
        "* Expected output:\n",
        "\n",
        "```\n",
        "The reverse list is [2, 9, 5, 7].\n",
        "```"
      ]
    },
    {
      "cell_type": "markdown",
      "metadata": {
        "id": "i3eXLr4rcXbX",
        "colab_type": "text"
      },
      "source": [
        "11. **Benchmarking**: compare your previous code against the Python versions. See the next example."
      ]
    },
    {
      "cell_type": "code",
      "metadata": {
        "id": "ug2ktZLfcmFP",
        "colab_type": "code",
        "colab": {}
      },
      "source": [
        "#Module to use timers\n",
        "import time\n",
        "\n",
        "values = [8,1,9,2]\n",
        "\n",
        "#Start the timer\n",
        "t = time.time()\n",
        "\n",
        "min_value = values[0]\n",
        "position = 0\n",
        "for i in range(1, len(values)):\n",
        "  if values [i] < min_value:\n",
        "    min_value = values [i]\n",
        "    position = i\n",
        "\n",
        "print(\"\\n\\tMy min version-->time Taken: %.5f sec\" % (time.time()-t))\n",
        "\n",
        "#Python way to find the max value\n",
        "\n",
        "#Start the timer\n",
        "t = time.time()\n",
        "\n",
        "min_value = min(values)\n",
        "position = values.index(min_value)\n",
        "\n",
        "print(\"\\n\\tPython version-->time Taken: %.5f sec\" % (time.time()-t))"
      ],
      "execution_count": 0,
      "outputs": []
    },
    {
      "cell_type": "markdown",
      "metadata": {
        "id": "1DHP7oVGdH5b",
        "colab_type": "text"
      },
      "source": [
        "12. Write a program that given a list of $n$ numbers, $v$, and an scalar number $k$, returns and displays the scalar product of $k\t\\cdot v$.\n",
        "\n",
        "\n",
        "* Input: [7, 5, 9, 2], k = 3\n",
        "* Expected output:\n",
        "\n",
        "```\n",
        "The scalar product of 3 and [7, 5, 9, 2] is [21, 15, 27, 6].\n",
        "```\n",
        "\n"
      ]
    },
    {
      "cell_type": "markdown",
      "metadata": {
        "id": "-pedghgBJ06_",
        "colab_type": "text"
      },
      "source": [
        "14. Write a program that given two lists of $n$ numbers, returns and displays the vector product of $l1\t\\cdot l2$.\n",
        "\n",
        "\n",
        "* Input: [7, 5, 9, 2], [4, 5, 6, 7] \n",
        "* Expected output:\n",
        "\n",
        "```\n",
        "The vector product of [7, 5, 9, 2] and [4, 5, 6, 7]  is [28, 25, 54, 14].\n",
        "```"
      ]
    },
    {
      "cell_type": "markdown",
      "metadata": {
        "id": "BRK_644_LIy_",
        "colab_type": "text"
      },
      "source": [
        "15. Write a program that given two lists of $n$ numbers, returns all combination of pairs (cartesian product).\n",
        "\n",
        "\n",
        "* Input: [7, 5, 9, 2], [4, 5, 6, 7] \n",
        "* Expected output:\n",
        "\n",
        "```\n",
        "The cartesian product is: [[7, 4], [7, 5], [7, 6], [7, 7], [5, 4], [5, 5], [5, 6], [5, 7], [9, 4], [9, 5], [9, 6], [9, 7], [2, 4], [2, 5], [2, 6], [2, 7]].\n",
        "\n",
        "```"
      ]
    },
    {
      "cell_type": "markdown",
      "metadata": {
        "id": "E0W2_8PTL69G",
        "colab_type": "text"
      },
      "source": [
        "16. Write a program that given a list of $n$ numbers, returns and displays the average of the list numbers.\n",
        "\n",
        "\n",
        "* Input: [4, 5, 6, 7] \n",
        "* Expected output:\n",
        "\n",
        "```\n",
        "The average of [4, 5, 6, 7] is 5.5.\n",
        "\n",
        "```"
      ]
    },
    {
      "cell_type": "markdown",
      "metadata": {
        "id": "zoEZYOrHM7BW",
        "colab_type": "text"
      },
      "source": [
        "17. Write a program that given a list of $n$ numbers and a number $k$, returns the first $k$ numbers.\n",
        "\n",
        "\n",
        "* Input: [4, 5, 6, 7], k = 2\n",
        "* Expected output:\n",
        "\n",
        "```\n",
        "[4,5]\n",
        "\n",
        "```"
      ]
    },
    {
      "cell_type": "markdown",
      "metadata": {
        "id": "8Ei6cSqUNk2T",
        "colab_type": "text"
      },
      "source": [
        "18. Write a program that given a list of $n$ numbers and a number $k$, returns the last $k$ numbers.\n",
        "\n",
        "\n",
        "* Input: [4, 5, 6, 7], k = 2\n",
        "* Expected output:\n",
        "\n",
        "```\n",
        "[7,6]\n",
        "\n",
        "```"
      ]
    },
    {
      "cell_type": "markdown",
      "metadata": {
        "id": "IgbPFxnuOWRy",
        "colab_type": "text"
      },
      "source": [
        "19. Write a program that given a list of $n$ numbers, returns a new list containing in the same position the factorial of that value (if the value is < 0, the return value will be -1) .\n",
        "\n",
        "\n",
        "* Input: [5, 0, 1, -1]\n",
        "* Expected output:\n",
        "\n",
        "```\n",
        "[120, 1, 1, -1]\n",
        "\n",
        "```"
      ]
    },
    {
      "cell_type": "markdown",
      "metadata": {
        "id": "YJra1YM-PTt7",
        "colab_type": "text"
      },
      "source": [
        "20. Write a program that given a list of $n$ numbers, returns a new list without the repeated numbers.\n",
        "\n",
        "\n",
        "* Input: [4, 5, 5, 6, 6, 8]\n",
        "* Expected output:\n",
        "\n",
        "```\n",
        "[4, 5, 6, 8]\n",
        "\n",
        "```"
      ]
    },
    {
      "cell_type": "markdown",
      "metadata": {
        "id": "8E_G7JagRagL",
        "colab_type": "text"
      },
      "source": [
        "21. Write a program that given two lists of $n$ numbers, returns the union of both lists.\n",
        "\n",
        "\n",
        "* Input: [4,5,6] [5,7,8,9]\n",
        "* Expected output:\n",
        "\n",
        "```\n",
        "[4, 5, 6, 7, 8, 9]\n",
        "\n",
        "```"
      ]
    },
    {
      "cell_type": "markdown",
      "metadata": {
        "id": "Tmx6Vs1pSd-a",
        "colab_type": "text"
      },
      "source": [
        "22. Write a program that given two lists of $n$ numbers, returns the intersection of both lists.\n",
        "\n",
        "\n",
        "* Input: [4,5,6] [5,7,8,9]\n",
        "* Expected output:\n",
        "\n",
        "```\n",
        "[5]\n",
        "\n",
        "```"
      ]
    },
    {
      "cell_type": "markdown",
      "metadata": {
        "id": "mA7_kZruT5zJ",
        "colab_type": "text"
      },
      "source": [
        "23. Write a program that asks the user for $n$ numbers and returns a sorted list.\n",
        "\n",
        "* Use the function `insert(pos, value)`\n",
        "\n",
        "* Input:  6, 4, 8\n",
        "* Expected output:\n",
        "\n",
        "```\n",
        "[4, 6, 8]\n",
        "\n",
        "```"
      ]
    },
    {
      "cell_type": "markdown",
      "metadata": {
        "id": "QES6CMPWVm3U",
        "colab_type": "text"
      },
      "source": [
        "24. Write a program that asks the user for $n$ numbers and returns a sorted list in descending order.\n",
        "\n",
        "* Use the function `insert(pos, value)`\n",
        "\n",
        "* Input:  6, 4, 8\n",
        "* Expected output:\n",
        "\n",
        "```\n",
        "[8, 6, 4]\n",
        "\n",
        "```"
      ]
    },
    {
      "cell_type": "markdown",
      "metadata": {
        "id": "wY_mI7EBW-ND",
        "colab_type": "text"
      },
      "source": [
        "25. Write a program that given a list of $n$ numbers and a parameter $k$, creates chunks of $k$ elements.\n",
        "\n",
        "\n",
        "* Input:  [1,2,3,4,5,6,7,8,9], k = 3\n",
        "* Expected output:\n",
        "\n",
        "```\n",
        "[ [1,2,3], [4,5,6], [7,8,9] ]\n",
        "\n",
        "```"
      ]
    },
    {
      "cell_type": "markdown",
      "metadata": {
        "id": "AMyYq2tnagWY",
        "colab_type": "text"
      },
      "source": [
        "26. Write a program that given a number $n$ and an initial value $k$, creates a list of size $n$ with all positions having the initial value.\n",
        "\n",
        "* Input:  n = 10, k = -1\n",
        "* Expected output:\n",
        "\n",
        "```\n",
        "[-1, -1, -1, -1, -1]\n",
        "\n",
        "```"
      ]
    },
    {
      "cell_type": "markdown",
      "metadata": {
        "id": "Ydj33gKCO061",
        "colab_type": "text"
      },
      "source": [
        "27. Write a program that given a string, displays the lenght of the string.\n",
        "\n",
        "* Input:  Hello\n",
        "* Expected output:\n",
        "\n",
        "```\n",
        "The lenght of Hello is 5.\n",
        "\n",
        "```"
      ]
    },
    {
      "cell_type": "markdown",
      "metadata": {
        "id": "ELX6cYpxPWT-",
        "colab_type": "text"
      },
      "source": [
        "28. Explore the string object methods.\n",
        "\n",
        "\n",
        "\n",
        "```\n",
        "dir (\"\")\n",
        "```\n",
        "\n"
      ]
    },
    {
      "cell_type": "markdown",
      "metadata": {
        "id": "ezkPuQzePig4",
        "colab_type": "text"
      },
      "source": [
        "28. Write a program that given a string, displays the string in reverse order.\n",
        "\n",
        "* Input:  Hello\n",
        "* Expected output:\n",
        "\n",
        "```\n",
        "Hello and olleH\n",
        "\n",
        "```"
      ]
    },
    {
      "cell_type": "markdown",
      "metadata": {
        "id": "mUx9Hn1KQOyo",
        "colab_type": "text"
      },
      "source": [
        "29. Write a program that given a string, displays whether the string is a palindrome.\n",
        "\n",
        "* Input:  anna\n",
        "* Expected output:\n",
        "\n",
        "```\n",
        "anna is a palindrome True.\n",
        "\n",
        "```"
      ]
    },
    {
      "cell_type": "markdown",
      "metadata": {
        "id": "rMq7Nxl0ROYs",
        "colab_type": "text"
      },
      "source": [
        "30. Write a program that given a string, displays the string in uppercase letters.\n",
        "\n",
        "  * Make use of function `ord(char)`-->ASCII number of the char.\n",
        "\n",
        "\n",
        "\n",
        "* Input:  This is a string\n",
        "* Expected output:\n",
        "\n",
        "```\n",
        "THIS IS A STRING\n",
        "\n",
        "```"
      ]
    },
    {
      "cell_type": "markdown",
      "metadata": {
        "id": "h25VWkoWSxyn",
        "colab_type": "text"
      },
      "source": [
        "31. Write a program that given a string, displays the string in lowercase letters.\n",
        "\n",
        "* Input:  THIS IS A STRING\n",
        "* Expected output:\n",
        "\n",
        "```\n",
        "this is a string\n",
        "\n",
        "```"
      ]
    },
    {
      "cell_type": "markdown",
      "metadata": {
        "id": "dx_4gaorTJd4",
        "colab_type": "text"
      },
      "source": [
        "32. Write a program that given a string and a char separator, returns a list of the words. (Tokenizer)\n",
        "\n",
        "* Input:  Anna,21,Programming\n",
        "* Expected output:\n",
        "\n",
        "```\n",
        "[\"Anna\", \"21\", \"Programming\"]\n",
        "\n",
        "```"
      ]
    },
    {
      "cell_type": "markdown",
      "metadata": {
        "id": "p_dBbawuU04B",
        "colab_type": "text"
      },
      "source": [
        "33. Write a program that given a list of strings, returns a list with the size of each string.\n",
        "\n",
        "* Input:  [\"Anna\", \"21\", \"Programming\"]\n",
        "* Expected output:\n",
        "\n",
        "```\n",
        "[4, 2, 11]\n",
        "\n",
        "```"
      ]
    },
    {
      "cell_type": "markdown",
      "metadata": {
        "id": "mIL7Hf_7Vggd",
        "colab_type": "text"
      },
      "source": [
        "34. Write a program that given a string and a number $k$, returns a list of chunked strings of size $k$.\n",
        "\n",
        "* Input:  \"This is a very looooong string\" and $k=3$\n",
        "* Expected output:\n",
        "\n",
        "```\n",
        "['Thi', 's i', 's a', ' ve', 'ry ', 'loo', 'ooo', 'ng ', 'str', 'ing']\n",
        "\n",
        "```"
      ]
    },
    {
      "cell_type": "markdown",
      "metadata": {
        "id": "psFaRQcRWMQN",
        "colab_type": "text"
      },
      "source": [
        "35. Write a program that given a string, returns a trimmed string (removing blankspaces at the beginning and at the end) and separating words with just one blankspace.\n",
        "\n",
        "* Input:  \"    Hello   Mary   \"\n",
        "* Expected output:\n",
        "\n",
        "\n",
        "\n",
        "```\n",
        "    Hello   Mary   has 18 characters.\n",
        "    Hello Mary has 10 characters.\n",
        "```\n",
        "\n"
      ]
    },
    {
      "cell_type": "markdown",
      "metadata": {
        "id": "LXMaVMYedEz5",
        "colab_type": "text"
      },
      "source": [
        "36. Write a program that given a string, an input character and a replacement character, returns a string replacing all occurrences of input character by the replacement character.\n",
        "\n",
        "* Input:  \"Hello\", input = \"l\", replacement =\"t\"\n",
        "* Expected output:\n",
        "\n",
        "\n",
        "\n",
        "```\n",
        "Hello is now Hetto.\n",
        "```"
      ]
    },
    {
      "cell_type": "markdown",
      "metadata": {
        "id": "woj_sZWpeOQf",
        "colab_type": "text"
      },
      "source": [
        "37. Write a program that given a string, counts and displays the number of unique characters.\n",
        "\n",
        "* Input:  \"Hello\"\n",
        "* Expected output:\n",
        "\n",
        "\n",
        "\n",
        "```\n",
        "The number of unique characters is 4.\n",
        "```"
      ]
    },
    {
      "cell_type": "markdown",
      "metadata": {
        "id": "XfpWQwazfDNr",
        "colab_type": "text"
      },
      "source": [
        "38. Write a program that given a list of strings and a char separator, displays a message containing each string separated by separator.\n",
        "\n",
        "* Input:  [\"Hello\", \"Mary,\", \"How\", \"are\", \"you?\"], separator = \"#\"\n",
        "* Expected output:\n",
        "\n",
        "\n",
        "\n",
        "```\n",
        "Hello#Mary,#How#are#you?\n",
        "```"
      ]
    },
    {
      "cell_type": "markdown",
      "metadata": {
        "id": "00c5xYRbgqSF",
        "colab_type": "text"
      },
      "source": [
        "39. Write a program that given a string and and input pattern (another string), checks if the string starts with the input pattern.\n",
        "\n",
        "* Input:  \"Hello\", pattern=\"He\"\n",
        "* Expected output:\n",
        "\n",
        "\n",
        "\n",
        "```\n",
        "True\n",
        "```"
      ]
    },
    {
      "cell_type": "markdown",
      "metadata": {
        "id": "G9y_MJbbk1My",
        "colab_type": "text"
      },
      "source": [
        "40. Write a program that given a string and and input pattern (another string), checks if the string ends with the input pattern.\n",
        "\n",
        "* Input:  \"Hello\", pattern=\"lo\"\n",
        "* Expected output:\n",
        "\n",
        "\n",
        "\n",
        "```\n",
        "True\n",
        "```"
      ]
    },
    {
      "cell_type": "markdown",
      "metadata": {
        "id": "VUDgDvpjyuEH",
        "colab_type": "text"
      },
      "source": [
        "41. Write a program that given a string, filters all characters that are not numbers.\n",
        "\n",
        "* Use the function `value.isdigit()`\n",
        "\n",
        "* Input:  \"He2l3l4o5\"\n",
        "* Expected output:\n",
        "\n",
        "\n",
        "\n",
        "```\n",
        "['2', '3', '4', '5']\n",
        "```"
      ]
    },
    {
      "cell_type": "markdown",
      "metadata": {
        "id": "w7x_oRSx1mkl",
        "colab_type": "text"
      },
      "source": [
        "42. Write a program that given a list of integers and a value $k$, filters all numbers that are less than $k$.\n",
        "\n",
        "* Input:  [4, 15, 9, 21], $k=10$\n",
        "* Expected output:\n",
        "\n",
        "\n",
        "\n",
        "```\n",
        "[4, 9]\n",
        "```"
      ]
    },
    {
      "cell_type": "markdown",
      "metadata": {
        "id": "s4XZfATiBtJZ",
        "colab_type": "text"
      },
      "source": [
        "43. Write a program that given a list of integers and a value $k$, removes the first apparition of the value from the list.\n",
        "\n",
        "* Input:  [4, 15, 9, 21], $k=15$\n",
        "* Expected output:\n",
        "\n",
        "\n",
        "\n",
        "```\n",
        "[4, 9, 21]\n",
        "```"
      ]
    },
    {
      "cell_type": "markdown",
      "metadata": {
        "id": "iRSgsQYICVyu",
        "colab_type": "text"
      },
      "source": [
        "44. Write a program that asks the user for introducing $k$ numbers and creates a list following a LIFO (Last Input First Output) strategy. Then, the program must extract and remove the elements following this strategy\n",
        "\n",
        "* Input:  4, 5, 6, 7 ($k=4$)\n",
        "* Expected output:\n",
        "\n",
        "```\n",
        "Stack: [4, 5, 6, 7]\n",
        "Extracting: 7, Stack: [4, 5, 6, 7]\n",
        "Extracting: 6, Stack: [4, 5, 6]\n",
        "Extracting: 5, Stack: [4, 5]\n",
        "Extracting: 4, Stack: [4]\n",
        "```"
      ]
    },
    {
      "cell_type": "markdown",
      "metadata": {
        "id": "vBPP7ynfEw6-",
        "colab_type": "text"
      },
      "source": [
        "45. Write a program that asks the user for introducing $k$ numbers and creates a list following a FIFO (First Input First Output) strategy. Then, the program must extract and remove the elements following this strategy\n",
        "\n",
        "* Input:  4, 5, 6, 7 ($k=4$)\n",
        "* Expected output:\n",
        "\n",
        "```\n",
        "Stack: [4, 5, 6, 7]\n",
        "Extracting: 4, Stack: [4, 5, 6, 7]\n",
        "Extracting: 5, Stack: [5, 6, 7]\n",
        "Extracting: 6, Stack: [6, 7]\n",
        "Extracting: 7, Stack: [7]\n",
        "```"
      ]
    },
    {
      "cell_type": "markdown",
      "metadata": {
        "id": "UFBdRkpamv2p",
        "colab_type": "text"
      },
      "source": [
        "## Quick questions\n",
        "\n",
        "**1. Define the lists x and y as lists of numbers.**\n",
        "\n",
        " * x = [2, 4, 6, 8]\n",
        " * y = [1, 3, 5, 7]\n",
        "\n",
        "* What is the value of 2*x?\n",
        "* What is the result of x+y?\n",
        "* What is the result of x-y?\n",
        "* What is the value of x[1]?\n",
        "* What is the value of x[-1]?\n",
        "* What is the value of x[:]?\n",
        "* What is the value of x[2:4]?\n",
        "* What is the value of x[1:4:2]?\n",
        "* What is the value of x[:2]?\n",
        "* What is the value of x[::2]?\n",
        "* What is the result of the following two expressions? x[3]=8\n",
        "\n",
        "**2. Define a string x = \"Hello\"**\n",
        "\n",
        "* What is the value of 4*x?\n",
        "* What is the value of x[1]?\n",
        "* What is the value of x[-1]?\n",
        "* What is the value of x[::2]?\n",
        "* What is the value of x[::-1]?\n"
      ]
    },
    {
      "cell_type": "markdown",
      "metadata": {
        "id": "-4jeKWR12eUh",
        "colab_type": "text"
      },
      "source": [
        "## Quick review of list and string methods"
      ]
    },
    {
      "cell_type": "markdown",
      "metadata": {
        "id": "r_ylj8YQ2iAB",
        "colab_type": "text"
      },
      "source": [
        "### List: some relevant methods"
      ]
    },
    {
      "cell_type": "code",
      "metadata": {
        "id": "aYnLfL5eYvA6",
        "colab_type": "code",
        "colab": {}
      },
      "source": [
        "#Review of list methods\n",
        "\n",
        "#Create a list\n",
        "\n",
        "values = []\n",
        "\n",
        "#Append an element\n",
        "\n",
        "values.append(1)\n",
        "print(values)\n",
        "\n",
        "#Access an element\n",
        "\n",
        "print(values[0])\n",
        "\n",
        "#Get number of elements\n",
        "\n",
        "len(values)\n",
        "print(len(values))\n",
        "\n",
        "#Count the number of elements\n",
        "\n",
        "print(values.count(1))\n",
        "\n",
        "#Slicing [start:end:step], default start = 0, end = len(list), step = 1\n",
        "\n",
        "#First k elements, k = 1\n",
        "print(values[:1])\n",
        "\n",
        "#List sort\n",
        "\n",
        "print(values.sort())\n",
        "\n",
        "#List reverse\n",
        "\n",
        "values.reverse()\n",
        "\n",
        "#Remove an element\n",
        "\n",
        "del values [0]\n",
        "\n",
        "#Remove all elements\n",
        "\n",
        "values.clear()"
      ],
      "execution_count": 0,
      "outputs": []
    },
    {
      "cell_type": "markdown",
      "metadata": {
        "id": "-yNqZFCI2oBg",
        "colab_type": "text"
      },
      "source": [
        "### String: some relevant methods"
      ]
    },
    {
      "cell_type": "code",
      "metadata": {
        "id": "OUm93lnz242u",
        "colab_type": "code",
        "colab": {}
      },
      "source": [
        "#Review of string methods\n",
        "\n",
        "value = \"   Hello, Mary  \"\n",
        "\n",
        "print(len(value))\n",
        "\n",
        "#Accessing\n",
        "\n",
        "print(value[5])\n",
        "\n",
        "#Cleaning\n",
        "print(value.strip())\n",
        "\n",
        "#Modifying values\n",
        "print(value.upper())\n",
        "print(value.lower())\n",
        "\n",
        "#Finding and replacing\n",
        "print(\"Hello\".startswith(\"He\"))\n",
        "print(\"Hello\".endswith(\"lo\"))\n",
        "print(value.find(\"H\"))\n",
        "print(value.replace(\" \",\"#\"))\n",
        "\n",
        "#Check values\n",
        "\n",
        "print(\"1\".isdigit())\n",
        "\n",
        "print(\"a\".isalpha())\n",
        "\n",
        "#Tokenizing\n",
        "print(value.split(\",\"))\n",
        "\n",
        "\n"
      ],
      "execution_count": 0,
      "outputs": []
    }
  ]
}