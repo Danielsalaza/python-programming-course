{
  "nbformat": 4,
  "nbformat_minor": 0,
  "metadata": {
    "colab": {
      "name": "Lab_5b_Data_Structures_Tuples_Sets_Dictionaries_STUDENT.ipynb",
      "provenance": [],
      "collapsed_sections": [],
      "authorship_tag": "ABX9TyOT8OsPx8ovHmLOswoFGgAT",
      "include_colab_link": true
    },
    "kernelspec": {
      "name": "python3",
      "display_name": "Python 3"
    }
  },
  "cells": [
    {
      "cell_type": "markdown",
      "metadata": {
        "id": "view-in-github",
        "colab_type": "text"
      },
      "source": [
        "<a href=\"https://colab.research.google.com/github/chemaar/python-programming-course/blob/master/Lab_5b_Data_Structures_Tuples_Sets_Dictionaries_STUDENT.ipynb\" target=\"_parent\"><img src=\"https://colab.research.google.com/assets/colab-badge.svg\" alt=\"Open In Colab\"/></a>"
      ]
    },
    {
      "cell_type": "markdown",
      "metadata": {
        "id": "l88YgeqXK38T",
        "colab_type": "text"
      },
      "source": [
        "# Lab 5b: Data structures: Tuples, Sets and Dictionaries\n",
        "\n",
        "In this notebook, we propose and solve some exercises about basic data structures implemented through Python lists (matrix), tuples, sets and dictionaries.\n",
        "\n",
        "* **In these exercises, we can always proceed solving the problems in a generic way or taking advantage of Python capabilities. As a recommendation, first, try the generic way (applicable to any programming language) and, then, using Python**\n",
        "\n",
        "* **As a good programming practice, our test cases should ensure that all branches of the code are executed at least once.**"
      ]
    },
    {
      "cell_type": "markdown",
      "metadata": {
        "id": "ZfRgZHNdLIuf",
        "colab_type": "text"
      },
      "source": [
        "## List of exercises"
      ]
    },
    {
      "cell_type": "markdown",
      "metadata": {
        "id": "wV7mERYcMlJ3",
        "colab_type": "text"
      },
      "source": [
        "1. Write a program  that a given a number $n \\in (0,10)$ creates and displays a square matrix initialized with all positions to 1 (identify matrix).\n",
        "* Input: 3\n",
        "* Expected output:\n",
        "\n",
        "```\n",
        "111\n",
        "111\n",
        "111\n",
        "```"
      ]
    },
    {
      "cell_type": "markdown",
      "metadata": {
        "id": "L2X7MCRjKdMb",
        "colab_type": "text"
      },
      "source": [
        "2. Write a program  that given a matrix, displays whether is a square matrix.\n",
        "\n",
        "* Input: reuse the code before to create a matrix\n",
        "* Expected output:\n"
      ]
    },
    {
      "cell_type": "markdown",
      "metadata": {
        "id": "6O0-ZHPRj8rh",
        "colab_type": "text"
      },
      "source": [
        "3. Write a program  that a given a matrix ($n x m$) with random numbers between $(0,10)$, calculates and displays the transpose matrix.$t(j,i) = m(i,j)$\n",
        "\n",
        "* Input: n = 3, m = 2\n",
        "\n",
        "\n",
        "```\n",
        "[10, 0, 0]\n",
        "[5, 1, 0]\n",
        "```\n",
        "\n",
        "\n",
        "* Expected output:\n",
        "\n",
        "\n",
        "```\n",
        "[10, 5]\n",
        "[0, 1]\n",
        "[0, 0]\n",
        "```\n",
        "\n",
        "* Dependencies: To create the matrix with random numbers, we are going to introduce the library of random numbers in [Python](https://docs.python.org/3/library/random.html)."
      ]
    },
    {
      "cell_type": "code",
      "metadata": {
        "id": "37XXKEtcnMa4",
        "colab_type": "code",
        "colab": {}
      },
      "source": [
        "import random\n",
        "print(random.random()) # Random float x, 0.0 <= x < 1.0\n",
        "print(random.uniform(0, 10))  # Random float x, 0.0 <= x < 10.0\n",
        "print(random.randint(0, 10))  # Integer from 0 to 10, endpoints included\n",
        "print(random.randrange(0, 101, 2))  # Even integer from 0 to 100\n",
        "print(random.choice('AEIOU')) #Get a randomized element\n",
        "print(random.shuffle([1,2,3])) #Shuffle numbers of a list\n",
        "print(random.sample([1, 2, 3],  2))"
      ],
      "execution_count": 0,
      "outputs": []
    },
    {
      "cell_type": "markdown",
      "metadata": {
        "id": "pVvN2TvUq-9n",
        "colab_type": "text"
      },
      "source": [
        "4. Write a program creates and displays an identity matrix of dimension $n \\in (0,10)$.\n",
        "\n",
        "* Input: $n=5$\n",
        "* Expected output:\n",
        "\n",
        "\n",
        "```\n",
        "[1, 0, 0, 0, 0]\n",
        "[0, 1, 0, 0, 0]\n",
        "[0, 0, 1, 0, 0]\n",
        "[0, 0, 0, 1, 0]\n",
        "[0, 0, 0, 0, 1]\n",
        "```\n",
        "\n"
      ]
    },
    {
      "cell_type": "markdown",
      "metadata": {
        "id": "qyrzl0nCsGqW",
        "colab_type": "text"
      },
      "source": [
        "5. Write a program that makes the sum of two matrix $A$ and $B$. The resulting matrix $C$ is one in which each element $c(i,j) = a(i,j) + b(i,j)$.\n",
        "\n",
        "* Input: \n",
        "\n",
        "\n",
        "```\n",
        "A:\n",
        "\n",
        "[2, 1, 10]\n",
        "[3, 1, 1]\n",
        "\n",
        "B:\n",
        "[2, 9, 1]\n",
        "[10, 7, 6]\n",
        "\n",
        "```\n",
        "\n",
        "\n",
        "* Expected output:\n",
        "\n",
        "\n",
        "\n",
        "```\n",
        "[4, 10, 11]\n",
        "[13, 8, 7]\n",
        "```\n",
        "\n",
        "\n",
        "\n"
      ]
    },
    {
      "cell_type": "markdown",
      "metadata": {
        "id": "cG9CSMmY-zdJ",
        "colab_type": "text"
      },
      "source": [
        "6. The [Game of Life](https://en.wikipedia.org/wiki/Conway%27s_Game_of_Life), also known simply as Life, is a cellular automaton devised by the British mathematician John Horton Conway in 1970. \n",
        "\n",
        "Write a program to implement the Game of Life. The program will receive as an input the size of the board, $n$, and the number of generations. In each generation, the board will be updated following the next rules:\n",
        "\n",
        "* A living cell with less than 2 living neighbors-->die\n",
        "* A living cell with 2 or 3 living neighbors-->survives\n",
        "* A living cell with more than 3 living neighbors->die\n",
        "* A dead cell with exactly living neighbors->new born, alive \n",
        "\n",
        "Improvement: the simulation will end after $n$ generations or when there is no change.\n"
      ]
    },
    {
      "cell_type": "markdown",
      "metadata": {
        "id": "dfM6wMFHzwpI",
        "colab_type": "text"
      },
      "source": [
        "7. Write a program to manage a shopping cart with the following features. \n",
        "\n",
        "  * There is a list of products: rice (1 euro per package), apple (0.30 euro per unit) and milk (1 euro).\n",
        "  * The program shall ask the user to introduce a product in the shopping cart indicating the number of units. Each product can be added just once.\n",
        "  * The program shall display a menu with the following options:\n",
        "\n",
        "\n",
        "\n",
        "```\n",
        "Shopping Cart\n",
        "--------------------\n",
        "1-See shopping cart. (Shows the current shopping cart and calculates the cost.)\n",
        "2-See products. (Shows the list of products and its unit cots.)\n",
        "3-Add product. (Asks the user for a product and a number of units. if the product is none, the program will come back to the menu)\n",
        "4-Make the order. (Clears the cart.)\n",
        "5-Exit. (The program ends.)\n",
        "```\n",
        "\n"
      ]
    },
    {
      "cell_type": "markdown",
      "metadata": {
        "id": "Vr4Kl6Z-8XtV",
        "colab_type": "text"
      },
      "source": [
        "8. Implement the shopping cart using dictionaries."
      ]
    },
    {
      "cell_type": "markdown",
      "metadata": {
        "id": "zZHM4BqI8dmb",
        "colab_type": "text"
      },
      "source": [
        "9. Implement the TIC, TAC, TOE game.\n",
        " * The program shall display the board in each iteration. \n",
        " * The program shall ask the user for the coordinates to situate a value. "
      ]
    },
    {
      "cell_type": "markdown",
      "metadata": {
        "id": "UuBdKu8qbBwT",
        "colab_type": "text"
      },
      "source": [
        "10. Implement the previous program making use of just one vector and slicing capabilities of Python lists."
      ]
    }
  ]
}