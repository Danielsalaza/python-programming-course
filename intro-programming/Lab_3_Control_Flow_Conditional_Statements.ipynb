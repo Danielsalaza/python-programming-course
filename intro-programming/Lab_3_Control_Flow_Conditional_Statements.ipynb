{
  "nbformat": 4,
  "nbformat_minor": 0,
  "metadata": {
    "colab": {
      "name": "Lab_3_Control_Flow_Conditional_Statements.ipynb",
      "provenance": [],
      "collapsed_sections": [],
      "authorship_tag": "ABX9TyOt0O/IUvxRJ1Td2j4qg31d",
      "include_colab_link": true
    },
    "kernelspec": {
      "name": "python3",
      "display_name": "Python 3"
    }
  },
  "cells": [
    {
      "cell_type": "markdown",
      "metadata": {
        "id": "view-in-github",
        "colab_type": "text"
      },
      "source": [
        "<a href=\"https://colab.research.google.com/github/chemaar/python-programming-course/blob/master/Lab_3_Control_Flow_Conditional_Statements.ipynb\" target=\"_parent\"><img src=\"https://colab.research.google.com/assets/colab-badge.svg\" alt=\"Open In Colab\"/></a>"
      ]
    },
    {
      "cell_type": "markdown",
      "metadata": {
        "id": "l88YgeqXK38T",
        "colab_type": "text"
      },
      "source": [
        "# Lab 3: Control flow-Conditional Statements\n",
        "\n",
        "In this notebook, we propose and solve some exercises about conditional statements.\n",
        "\n",
        "**As a good programming practice, our test cases should ensure that all branches of the code are executed at least once.**"
      ]
    },
    {
      "cell_type": "markdown",
      "metadata": {
        "id": "ZfRgZHNdLIuf",
        "colab_type": "text"
      },
      "source": [
        "## List of exercises"
      ]
    },
    {
      "cell_type": "markdown",
      "metadata": {
        "id": "wV7mERYcMlJ3",
        "colab_type": "text"
      },
      "source": [
        "1. Write a program that asks the user for an integer numbers and prints out a message indicating whether the input is greater than 10.\n",
        "\n",
        "\n",
        "* Input: 15\n",
        "* Expected output:\n",
        "\n",
        "```\n",
        "The input 15 is greater than 10.\n",
        "```"
      ]
    },
    {
      "cell_type": "code",
      "metadata": {
        "id": "fyJb79NAMwWX",
        "colab_type": "code",
        "colab": {}
      },
      "source": [
        "a = int(input(\"-->\"))\n",
        "if a > 10:\n",
        "  print(\"The input {} is greater than 10.\".format(a))"
      ],
      "execution_count": 0,
      "outputs": []
    },
    {
      "cell_type": "markdown",
      "metadata": {
        "id": "exoNUr0OMFNX",
        "colab_type": "text"
      },
      "source": [
        "2. Write a program that asks the user for two integer numbers and prints out the greater value.\n",
        "\n",
        "\n",
        "* Input: 4 and 15\n",
        "* Expected output:\n",
        "\n",
        "```\n",
        "The result is: 15\n",
        "```"
      ]
    },
    {
      "cell_type": "code",
      "metadata": {
        "id": "RQR2ZPOhKteY",
        "colab_type": "code",
        "colab": {}
      },
      "source": [
        "a = int(input(\"-->\"))\n",
        "b = int(input(\"-->\"))\n",
        "if a > b:\n",
        "  print(\"a is greater...\"+str(a))\n",
        "else:\n",
        "  print(\"b is greater...\"+str(b))"
      ],
      "execution_count": 0,
      "outputs": []
    },
    {
      "cell_type": "markdown",
      "metadata": {
        "id": "a4arD3NSM_F0",
        "colab_type": "text"
      },
      "source": [
        "3. Modify the program in 2 to detect when the input values are equal.\n",
        "\n",
        "\n",
        "* Input: 4 and 4\n",
        "* Expected output:\n",
        "\n",
        "```\n",
        "Both values are equal.\n",
        "```"
      ]
    },
    {
      "cell_type": "code",
      "metadata": {
        "id": "AGtdfDFpNIdo",
        "colab_type": "code",
        "colab": {}
      },
      "source": [
        "a = int(input(\"-->\"))\n",
        "b = int(input(\"-->\"))\n",
        "if a > b:\n",
        "  print(\"a is greater...\"+str(a))\n",
        "elif a < b:\n",
        "  print(\"b is greater...\"+str(b))\n",
        "else:\n",
        "  print (\"Both values are equal.\")\n"
      ],
      "execution_count": 0,
      "outputs": []
    },
    {
      "cell_type": "markdown",
      "metadata": {
        "id": "-RcJhDJgNUDH",
        "colab_type": "text"
      },
      "source": [
        "4. Write a program that asks the user for an integer number and prints the absolute value of the input value.\n",
        "\n",
        ">Do not use the built-in function abs()\n",
        "\n",
        "\n",
        "* Input: -3\n",
        "* Expected output:\n",
        "\n",
        "```\n",
        "The absolute value of -3 is 3.\n",
        "```"
      ]
    },
    {
      "cell_type": "code",
      "metadata": {
        "id": "mZjPC7xeNlVi",
        "colab_type": "code",
        "colab": {}
      },
      "source": [
        "value = int(input(\"Introduce an integer number: \"))\n",
        "abs_value = value\n",
        "if value < 0 :\n",
        "  abs_value = value * -1\n",
        "print(\"The absolute value of {} is {}.\".format(value, abs_value))"
      ],
      "execution_count": 0,
      "outputs": []
    },
    {
      "cell_type": "markdown",
      "metadata": {
        "id": "_C8Tya9EN5VZ",
        "colab_type": "text"
      },
      "source": [
        "5. Write a program that asks the user for two float numbers and prints out the greater value.\n",
        "\n",
        "* Input: 3.5, 4.5\n",
        "* Expected output:\n",
        "\n",
        "```\n",
        "4.5 is greater than 3.5\n",
        "```"
      ]
    },
    {
      "cell_type": "code",
      "metadata": {
        "id": "PhVXR4C4OIxu",
        "colab_type": "code",
        "colab": {}
      },
      "source": [
        "a = float(input(\"Introduce the first number: \"))\n",
        "b = float(input(\"Introduce the second number: \"))\n",
        "if a < b: #Change to compare properly float numbers abs(a - b) < 0.0000001\n",
        "  print(\"{} is greater than {}\".format(b,a))\n",
        "else:\n",
        "  print(\"{} is greater than {}\".format(a,b))"
      ],
      "execution_count": 0,
      "outputs": []
    },
    {
      "cell_type": "markdown",
      "metadata": {
        "id": "IYlizpxcPLwi",
        "colab_type": "text"
      },
      "source": [
        "6. Write a program that asks the user for 3 integer numbers and prints out the greater value.\n",
        "\n",
        "* Input: 4, 6, 2\n",
        "* Expected output:\n",
        "\n",
        "```\n",
        "6 is the greatest value.\n",
        "```"
      ]
    },
    {
      "cell_type": "code",
      "metadata": {
        "id": "33aM5tXaPU5J",
        "colab_type": "code",
        "colab": {}
      },
      "source": [
        "a = int(input(\"Introduce the first number: \")) \n",
        "b = int(input(\"Introduce the second number: \")) \n",
        "c = int(input(\"Introduce the third number: \")) \n",
        "\n",
        "greatest = c\n",
        "\n",
        "if a > b > c:\n",
        "  greatest = a\n",
        "elif b > a and b > c:\n",
        "  greatest = b\n",
        "\n",
        "print(\"{} is the greatest value.\".format(greatest))"
      ],
      "execution_count": 0,
      "outputs": []
    },
    {
      "cell_type": "markdown",
      "metadata": {
        "id": "1724wdKLQTRz",
        "colab_type": "text"
      },
      "source": [
        "7. Write a program that asks for a year and prints True if the year is a leap year, and False otherwise.  In the Gregorian calendar, a leap year follows these rules (see exercise 12 in Lab 2):\n",
        "\n",
        "* The year can be evenly divided by 4;\n",
        "* If the year can be evenly divided by 100, it is NOT a leap year, unless;\n",
        "* The year is also evenly divisible by 400. Then it is a leap year.\n",
        "\n",
        "* Input: 2020\n",
        "* Expected output:\n",
        "\n",
        "```\n",
        "The year 2020 is leap.\n",
        "```\n",
        "\n",
        "* Input: 2019\n",
        "* Expected output:\n",
        "\n",
        "```\n",
        "The year 2019 is not leap.\n",
        "```"
      ]
    },
    {
      "cell_type": "code",
      "metadata": {
        "id": "zOB_am-VQi5U",
        "colab_type": "code",
        "colab": {}
      },
      "source": [
        "year = int(input(\"Introduce a year: \"))\n",
        "is_leap_year = (year % 4 == 0)\n",
        "is_leap_year = is_leap_year and (year % 100 != 0)\n",
        "is_leap_year = is_leap_year or (year % 400 == 0)\n",
        "if is_leap_year:\n",
        "  print(\"The year \"+str(year)+\" is leap.\")\n",
        "else:\n",
        "  print(\"The year \"+str(year)+\" is leap.\")"
      ],
      "execution_count": 0,
      "outputs": []
    },
    {
      "cell_type": "markdown",
      "metadata": {
        "id": "cS6y8RGUQwxK",
        "colab_type": "text"
      },
      "source": [
        "8. Write a program that asks the user for an integer number, and prints out whether or not it is an even number.\n",
        "\n",
        "* Input: 4\n",
        "* Expected output:\n",
        "\n",
        "```\n",
        "4 is an even number.\n",
        "```"
      ]
    },
    {
      "cell_type": "code",
      "metadata": {
        "id": "bJ4sKt18Q61o",
        "colab_type": "code",
        "outputId": "c551f98c-a619-4197-aa61-cf154b9a80a5",
        "colab": {
          "base_uri": "https://localhost:8080/",
          "height": 51
        }
      },
      "source": [
        "value = int(input(\"Introduce a value: \"))\n",
        "if value % 2 == 0:\n",
        "  print(\"{} is an even number.\".format(value))"
      ],
      "execution_count": 0,
      "outputs": [
        {
          "output_type": "stream",
          "text": [
            "Introduce a value: 4\n",
            "4 is an even number.\n"
          ],
          "name": "stdout"
        }
      ]
    },
    {
      "cell_type": "markdown",
      "metadata": {
        "id": "g01LdcWmRHiV",
        "colab_type": "text"
      },
      "source": [
        "9. Write a program that asks the user for a day number an prints the day name.\n",
        "\n",
        "* Input: between 1-7\n",
        "* Expected output:\n",
        "\n",
        "```\n",
        "Monday-Tuesday-etc.\n",
        "```"
      ]
    },
    {
      "cell_type": "code",
      "metadata": {
        "id": "zIyQhxLRRQIK",
        "colab_type": "code",
        "outputId": "4af92aca-5a78-4618-be22-625361e38aad",
        "colab": {
          "base_uri": "https://localhost:8080/",
          "height": 51
        }
      },
      "source": [
        "day = int(input(\"Introduce the day number: \"))\n",
        "name = \"No day\"\n",
        "if day == 1:\n",
        "  name = \"Monday\"\n",
        "elif day == 2:\n",
        "  name = \"Tuesday\"\n",
        "elif day == 3:\n",
        "  name = \"Wednesday\"\n",
        "elif day == 4:\n",
        "  name = \"Thursday\"\n",
        "elif day == 5:\n",
        "  name = \"Friday\"\n",
        "elif day == 6:\n",
        "  name = \"Saturday\"\n",
        "elif day == 7:\n",
        "  name = \"Sunday\"\n",
        "\n",
        "print(name)\n"
      ],
      "execution_count": 0,
      "outputs": [
        {
          "output_type": "stream",
          "text": [
            "Introduce the day number: -5\n",
            "No day\n"
          ],
          "name": "stdout"
        }
      ]
    },
    {
      "cell_type": "markdown",
      "metadata": {
        "id": "2x3sDaxXR1c7",
        "colab_type": "text"
      },
      "source": [
        "10. Write a program that asks the user for her name an prints the number of characters.\n",
        "\n",
        "* Input: Jose, a valid name must have more than 2 characters (otherwise the program shall print \"Your name is too short\")\n",
        "* Expected output:\n",
        "\n",
        "```\n",
        "Your name has 4 characters\n",
        "```"
      ]
    },
    {
      "cell_type": "code",
      "metadata": {
        "id": "5znbl91ASH5R",
        "colab_type": "code",
        "outputId": "1bd95a56-9195-47a2-c9e7-a1aba11f7ba1",
        "colab": {
          "base_uri": "https://localhost:8080/",
          "height": 51
        }
      },
      "source": [
        "name = input(\"What is your name?\")\n",
        "if len(name) > 2:\n",
        "  print(\"Your name has {} characters.\".format(len(name)))\n",
        "else:\n",
        "  print(\"Your name is too short.\")"
      ],
      "execution_count": 0,
      "outputs": [
        {
          "output_type": "stream",
          "text": [
            "What is your name?Jose\n",
            "Your name has 4 characters.\n"
          ],
          "name": "stdout"
        }
      ]
    },
    {
      "cell_type": "markdown",
      "metadata": {
        "id": "fIuM-qBsLIH-",
        "colab_type": "text"
      },
      "source": [
        "11. Write a program that given a quantitative grade, prints out the qualitative value.\n",
        "\n",
        "* A if input in [9-10]\n",
        "* B if input in [7-9)\n",
        "* C if input in [5-7)\n",
        "* D if input < 5\n",
        "\n",
        "* Input: 7.5 (test limit values like 7, 5, 9, 10 as an input)\n",
        "* Expected output:\n",
        "\n",
        "```\n",
        "Your grade is B.\n",
        "```"
      ]
    },
    {
      "cell_type": "code",
      "metadata": {
        "id": "gPInUUfcLoiU",
        "colab_type": "code",
        "colab": {}
      },
      "source": [
        "a = float(input(\"Introduce your grade as a number: \"))\n",
        "grade = \"\"\n",
        "if a < 5:\n",
        "  grade = \"D\"\n",
        "elif a < 7:\n",
        "  grade = \"C\"\n",
        "elif a < 9:\n",
        "   grade = \"B\"\n",
        "else:\n",
        "  grade = \"A\"\n",
        "\n",
        "print(\"Your grade is {}.\".format(grade))"
      ],
      "execution_count": 0,
      "outputs": []
    },
    {
      "cell_type": "markdown",
      "metadata": {
        "id": "ADaYg6DONV9L",
        "colab_type": "text"
      },
      "source": [
        "12. Write a program that given an integer numbers, prints out if it is divisible by 5 and 11.\n",
        "\n",
        "* Input: 55\n",
        "* Expected output:\n",
        "\n",
        "```\n",
        "The number 55 is divisible by 5 and 11.\n",
        "```"
      ]
    },
    {
      "cell_type": "code",
      "metadata": {
        "id": "OEU6fsYNNoNt",
        "colab_type": "code",
        "colab": {}
      },
      "source": [
        "value = int(input())\n",
        "if value % 5 == 0 and value % 11 == 0:\n",
        "  print (\"The number {} is divisible by 5 and 11.\".format(value))"
      ],
      "execution_count": 0,
      "outputs": []
    },
    {
      "cell_type": "markdown",
      "metadata": {
        "id": "VdTuYn7HN6b-",
        "colab_type": "text"
      },
      "source": [
        "12. Write a program to check that a character is a letter in uppercase.\n",
        "\n",
        "* Make use of these functions:\n",
        "  * value.isupper() -->Returns True if the value is in uppercase.\n",
        "  * value.isalpha()-->Returns True if the value is a letter.\n",
        "\n",
        "* Input: A\n",
        "* Expected output:\n",
        "\n",
        "```\n",
        "The character A is in uppercase.\n",
        "```"
      ]
    },
    {
      "cell_type": "code",
      "metadata": {
        "id": "u0sP4vKqONW0",
        "colab_type": "code",
        "colab": {}
      },
      "source": [
        "value = input()\n",
        "is_upper = len(value) == 1 and value.isupper() and value.isalpha()\n",
        "if is_upper:\n",
        "  print(\"The character {} is in uppercase.\".format(value))\n",
        "else:\n",
        "  print(\"It is not.\")"
      ],
      "execution_count": 0,
      "outputs": []
    },
    {
      "cell_type": "markdown",
      "metadata": {
        "id": "HqIACWFvPN0a",
        "colab_type": "text"
      },
      "source": [
        "13. Write a program that given a month name, prints the number of days (if the name is not correct, it shall print out some error message).\n",
        "\n",
        "* Input: January\n",
        "* Expected output:\n",
        "\n",
        "```\n",
        "January has 31 days.\n",
        "```"
      ]
    },
    {
      "cell_type": "code",
      "metadata": {
        "id": "n47s3ebgPWUS",
        "colab_type": "code",
        "outputId": "d7a04877-9c54-46c1-f67a-3e404a84df9f",
        "colab": {
          "base_uri": "https://localhost:8080/",
          "height": 51
        }
      },
      "source": [
        "month = input(\"Introduce the month name: \")\n",
        "n_days = 0\n",
        "if month == \"January\" or month == \"March\" or month == \"May\" or month == \"July\" or month == \"August\" or month == \"October\" or month == \"December\":\n",
        "  n_days = 31\n",
        "elif month == \"April\" or month == \"June\" or month == \"September\" or month == \"November\":\n",
        "  n_days = 30\n",
        "elif month == \"February\":\n",
        "  n_days = 28 \n",
        "\n",
        "if n_days != 0:\n",
        "  print(month + \" has {} days.\".format(n_days))\n",
        "else:\n",
        "  print(\"The month name is not recognized.\")"
      ],
      "execution_count": 0,
      "outputs": [
        {
          "output_type": "stream",
          "text": [
            "Introduce the month name: asdfasdf\n",
            "The month name is not recognized.\n"
          ],
          "name": "stdout"
        }
      ]
    },
    {
      "cell_type": "code",
      "metadata": {
        "id": "F6B8l9A3QQsL",
        "colab_type": "code",
        "colab": {}
      },
      "source": [
        "#More Python\n",
        "month = input(\"Introduce the month name: \")\n",
        "n_days = 0\n",
        "if month in [\"January\", \"March\", \"May\", \"July\", \"August\", \"October\", \"December\"]:\n",
        "  n_days = 31\n",
        "elif month in [\"April\", \"June\", \"September\", \"November\"]:\n",
        "  n_days = 30\n",
        "elif month == \"February\":\n",
        "  n_days = 28 \n",
        "\n",
        "if n_days != 0:\n",
        "  print(month + \" has {} days.\".format(n_days))\n",
        "else:\n",
        "  print(\"The month name is not recognized.\")"
      ],
      "execution_count": 0,
      "outputs": []
    },
    {
      "cell_type": "markdown",
      "metadata": {
        "id": "TJ7l6BJFRvEY",
        "colab_type": "text"
      },
      "source": [
        "14. Write a program that given the 3 angles of triangles, checks whether is valid (the sum must be 180).\n",
        "\n",
        "* Input: 45, 45, 90\n",
        "* Expected output:\n",
        "\n",
        "```\n",
        "The triangle: 45, 45, 90 is valid.\n",
        "```"
      ]
    },
    {
      "cell_type": "code",
      "metadata": {
        "id": "5gGtY5nER8ka",
        "colab_type": "code",
        "colab": {}
      },
      "source": [
        "a1 = int(input(\"Introduce the first angle: \")) \n",
        "a2 = int(input(\"Introduce the second angle: \")) \n",
        "a3 = int(input(\"Introduce the second angle: \")) \n",
        "\n",
        "if (a1+a2+a3 == 180): \n",
        "  print(\"The triangle: {}, {}, {} is valid.\".format(a1,a2,a3))\n",
        "else:\n",
        "  print(\"The triangle is not valid.\")"
      ],
      "execution_count": 0,
      "outputs": []
    },
    {
      "cell_type": "markdown",
      "metadata": {
        "id": "EbBeo_1PUJjP",
        "colab_type": "text"
      },
      "source": [
        "15. Write a program that given the 3 integer numbers, it prints out the sorted values (in descending order) using conditional statements..\n",
        "\n",
        "* Input: 3, 5, 2\n",
        "* Expected output:\n",
        "\n",
        "```\n",
        "5, 3, 2\n",
        "```"
      ]
    },
    {
      "cell_type": "code",
      "metadata": {
        "id": "2DeoyB2ZTM8d",
        "colab_type": "code",
        "outputId": "6fb3ad82-9f67-4049-84bc-529456068b16",
        "colab": {
          "base_uri": "https://localhost:8080/",
          "height": 34
        }
      },
      "source": [
        "a = 3\n",
        "b = 5\n",
        "c = 2\n",
        "\n",
        "if a > b:\n",
        "  if a > c:\n",
        "    if b > c:\n",
        "      print(\"{} {} {}\".format(a,b,c))\n",
        "    else:\n",
        "      print(\"{} {} {}\".format(a,c,b))\n",
        "  else:\n",
        "     print(\"{} {} {}\".format(c,a,b))\n",
        "else:\n",
        "  if b > c:\n",
        "    if c > a:\n",
        "      print(\"{} {} {}\".format(b,c,a))\n",
        "    else:\n",
        "      print(\"{} {} {}\".format(b,a,c))\n",
        "  else:\n",
        "    print(\"{} {} {}\".format(c,b,a))\n",
        "    "
      ],
      "execution_count": 0,
      "outputs": [
        {
          "output_type": "stream",
          "text": [
            "5 3 2\n"
          ],
          "name": "stdout"
        }
      ]
    }
  ]
}