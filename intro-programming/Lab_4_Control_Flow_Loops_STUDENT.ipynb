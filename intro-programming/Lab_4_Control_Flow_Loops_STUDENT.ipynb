{
  "nbformat": 4,
  "nbformat_minor": 0,
  "metadata": {
    "colab": {
      "name": "Lab_4_Control_Flow_Loops_STUDENT.ipynb",
      "provenance": [],
      "collapsed_sections": [],
      "authorship_tag": "ABX9TyO7XWf7++mNuZTmCfwQltr1",
      "include_colab_link": true
    },
    "kernelspec": {
      "name": "python3",
      "display_name": "Python 3"
    }
  },
  "cells": [
    {
      "cell_type": "markdown",
      "metadata": {
        "id": "view-in-github",
        "colab_type": "text"
      },
      "source": [
        "<a href=\"https://colab.research.google.com/github/chemaar/python-programming-course/blob/master/Lab_4_Control_Flow_Loops_STUDENT.ipynb\" target=\"_parent\"><img src=\"https://colab.research.google.com/assets/colab-badge.svg\" alt=\"Open In Colab\"/></a>"
      ]
    },
    {
      "cell_type": "markdown",
      "metadata": {
        "id": "l88YgeqXK38T",
        "colab_type": "text"
      },
      "source": [
        "# Lab 4: Control flow-Loops\n",
        "\n",
        "In this notebook, we propose and solve some exercises about loops.\n",
        "\n",
        "**As a good programming practice, our test cases should ensure that all branches of the code are executed at least once.**"
      ]
    },
    {
      "cell_type": "markdown",
      "metadata": {
        "id": "ZfRgZHNdLIuf",
        "colab_type": "text"
      },
      "source": [
        "## List of exercises"
      ]
    },
    {
      "cell_type": "markdown",
      "metadata": {
        "id": "wV7mERYcMlJ3",
        "colab_type": "text"
      },
      "source": [
        "\n",
        "\n",
        "1. Write a program that prints out the numbers from 0 to 10 (only even numbers). Use both: while and for loops.\n",
        "\n",
        "\n",
        "* Input: no input\n",
        "* Expected output:\n",
        "\n",
        "```\n",
        "0\n",
        "2\n",
        "4\n",
        "6\n",
        "8\n",
        "10\n",
        "```"
      ]
    },
    {
      "cell_type": "markdown",
      "metadata": {
        "id": "c1cyKMQ2qB9E",
        "colab_type": "text"
      },
      "source": [
        "2. Write a program that prints out the numbers from 0 to 10 (only odd numbers). Use both: while and for loops.\n",
        "\n",
        "\n",
        "* Input: no input\n",
        "* Expected output:\n",
        "\n",
        "```\n",
        "1\n",
        "3\n",
        "5\n",
        "7\n",
        "9\n",
        "```"
      ]
    },
    {
      "cell_type": "markdown",
      "metadata": {
        "id": "ClKV62cVqNNM",
        "colab_type": "text"
      },
      "source": [
        "3. Write a program that prints out the numbers from 10 to 0 (only odd numbers). Use both: while and for loops.\n",
        "\n",
        "\n",
        "* Input: no input\n",
        "* Expected output:\n",
        "\n",
        "```\n",
        "9\n",
        "7\n",
        "5\n",
        "3\n",
        "1\n",
        "```"
      ]
    },
    {
      "cell_type": "markdown",
      "metadata": {
        "id": "A9zjAN40qbpH",
        "colab_type": "text"
      },
      "source": [
        "4. Write a program to calculate the factorial of an integer number. Use both: while and for loops.\n",
        "  * factorial (n) = n * factorial (n-1) \n",
        "\n",
        "* Input: an integer number, 5\n",
        "* Expected output:\n",
        "\n",
        "```\n",
        "120\n",
        "```"
      ]
    },
    {
      "cell_type": "markdown",
      "metadata": {
        "id": "HbbL-UUBq1Sm",
        "colab_type": "text"
      },
      "source": [
        "5. Write a program to calculate the exponentiation of a number with base b, and exponent n, both: while and for loops.\n",
        "  * $base^{exponent} = a * a* a...*a$\n",
        "\n",
        "* Input: base 2, exponent 3\n",
        "* Expected output:\n",
        "\n",
        "```\n",
        "8\n",
        "```"
      ]
    },
    {
      "cell_type": "markdown",
      "metadata": {
        "id": "C3OS64fwrg1f",
        "colab_type": "text"
      },
      "source": [
        "6. Given an integer number, n, make the sum of all the numbers from 0 to n.\n",
        "\n",
        "\n",
        "* Input: 5\n",
        "* Expected output:\n",
        "\n",
        "```\n",
        "15\n",
        "```"
      ]
    },
    {
      "cell_type": "markdown",
      "metadata": {
        "id": "MZ2kS7XwdQCz",
        "colab_type": "text"
      },
      "source": [
        "7. Given an integer number, n, print a cross of radius n as follows.\n",
        "\n",
        "\n",
        "* Input: 9\n",
        "* Expected output:\n",
        "\n",
        "```\n",
        " * . . . . . . . *\n",
        " . * . . . . . * .\n",
        " . . * . . . * . .\n",
        " . . . * . * . . .\n",
        " . . . . * . . . .\n",
        " . . . * . * . . .\n",
        " . . * . . . * . .\n",
        " . * . . . . . * .\n",
        " * . . . . . . . *\n",
        "```\n",
        "\n"
      ]
    },
    {
      "cell_type": "markdown",
      "metadata": {
        "id": "v_X34RKdd-PI",
        "colab_type": "text"
      },
      "source": [
        "8. Given an integer number, n, print a wedge of stars as follows.\n",
        "\n",
        "\n",
        "* Input: 5\n",
        "* Expected output:\n",
        "\n",
        "```\n",
        "*****\n",
        "****\n",
        "***\n",
        "**\n",
        "*\n",
        "```\n",
        "\n",
        "\n",
        "\n"
      ]
    },
    {
      "cell_type": "markdown",
      "metadata": {
        "id": "ZTTZiGgeszjc",
        "colab_type": "text"
      },
      "source": [
        "9. Given an integer number, n, print a wedge of stars as follows.\n",
        "\n",
        "\n",
        "* Input: 5\n",
        "* Expected output:\n",
        "\n",
        "```\n",
        "*\n",
        "**\n",
        "***\n",
        "****\n",
        "*****\n",
        "```"
      ]
    },
    {
      "cell_type": "markdown",
      "metadata": {
        "id": "YgfcQ7Ejt_ZL",
        "colab_type": "text"
      },
      "source": [
        "10. Make a program to display the multiplication table (1-10).\n",
        "\n",
        "\n",
        "* Input: no input\n",
        "* Expected output:\n",
        "\n",
        "```\n",
        "1\t  2\t 3\t 4\t  5\t 6\t 7\t 8\t 9\t10\t\n",
        "2\t  4\t 6\t 8\t 10\t12\t14\t16\t18\t20\t\n",
        "3\t  6\t 9\t 12\t15\t18\t21\t24\t27\t30\t\n",
        "4\t  8\t 12\t16\t20\t24\t28\t32\t36\t40\t\n",
        "5\t  10\t15\t20\t25\t30\t35\t40\t45\t50\t\n",
        "6\t  12\t18\t24\t30\t36\t42\t48\t54\t60\t\n",
        "7\t  14\t21\t28\t35\t42\t49\t56\t63\t70\t\n",
        "8\t  16\t24\t32\t40\t48\t56\t64\t72\t80\t\n",
        "9\t  18\t27\t36\t45\t54\t63\t72\t81\t90\t\n",
        "10\t 20\t30\t40\t50\t60\t70\t80\t90\t100\n",
        "```"
      ]
    },
    {
      "cell_type": "markdown",
      "metadata": {
        "id": "wGpHuw26uVJH",
        "colab_type": "text"
      },
      "source": [
        "11. Write a program to detect if a number is a prime number.\n",
        "\n",
        "\n",
        "* Input: 5, 8\n",
        "* Expected output:\n",
        "\n",
        "\n",
        "\n",
        "```\n",
        "The number 5 is prime.\n",
        "The number 8 is not prime.\n",
        "```\n",
        "\n"
      ]
    },
    {
      "cell_type": "markdown",
      "metadata": {
        "id": "1jfxpuwWvTQx",
        "colab_type": "text"
      },
      "source": [
        "12. Write a program to sum all odd numbers between n and 100 (included).\n",
        "\n",
        "\n",
        "* Input: 11\n",
        "* Expected output:\n",
        "\n",
        "```\n",
        "The sum between 11-100 is 4995.\n",
        "```\n"
      ]
    },
    {
      "cell_type": "markdown",
      "metadata": {
        "id": "ZX98yeJXv5KY",
        "colab_type": "text"
      },
      "source": [
        "13. Write a program to show the square of the first 10 numbers.\n",
        "\n",
        "\n",
        "* Input: no input\n",
        "* Expected output:\n",
        "\n",
        "```\n",
        "The square of 0 is 0\n",
        "The square of 1 is 1\n",
        "The square of 2 is 4\n",
        "The square of 3 is 9\n",
        "The square of 4 is 16\n",
        "The square of 5 is 25\n",
        "The square of 6 is 36\n",
        "The square of 7 is 49\n",
        "The square of 8 is 64\n",
        "The square of 9 is 81\n",
        "The square of 10 is 100\n",
        "```"
      ]
    },
    {
      "cell_type": "markdown",
      "metadata": {
        "id": "xEAU3EngwNWp",
        "colab_type": "text"
      },
      "source": [
        "14. Write a program to show the Fibonnacci sequence of a given number n.\n",
        "\n",
        "\t\tfibonacci(n) = \n",
        "\t\t\t\t\t\tfibonacci (0) = 0\n",
        "\t\t\t\t\t\tfibonacci (1) = 1\n",
        "\t\t\t\t\t\tfibonacci (n) = fibonacci(n-1) + fibonacci (n-2)\n",
        "\n",
        "\n",
        "* Input: a positive number n\n",
        "* Expected output:\n",
        "\n",
        "```\n",
        "0\n",
        "1\n",
        "1\n",
        "2\n",
        "3\n",
        "```\n",
        "\n"
      ]
    },
    {
      "cell_type": "markdown",
      "metadata": {
        "id": "FpxzKzmx0waj",
        "colab_type": "text"
      },
      "source": [
        "15. Write a program to check if an integer number is a palindrome.\n",
        "\n",
        "* Input: 121\n",
        "* Expected output:\n",
        "\n",
        "```\n",
        "The number 121 is palindrome: True\n",
        "```\n",
        "\n"
      ]
    },
    {
      "cell_type": "markdown",
      "metadata": {
        "colab_type": "text",
        "id": "FuCDSsgV2WLJ"
      },
      "source": [
        "16. Write a program to check if an integer number of three digit is an Armstrong number.\n",
        "   *  An Armstrong number of three digit is a number whose sum of cubes of its digit is equal to its number.\"\n",
        "\n",
        "* Input: $153 = 1^3+5^3+3^3$ or $1+125+27=153$\n",
        "* Expected output:\n",
        "\n",
        "```\n",
        "The number 153 is an Armstrong number.\n",
        "```\n",
        "\n"
      ]
    },
    {
      "cell_type": "markdown",
      "metadata": {
        "id": "cNop6s6HqiCG",
        "colab_type": "text"
      },
      "source": [
        "17. Write a program to show the first N prime numbers.\n",
        "\n",
        "* Input: N = 10\n",
        "* Expected output:\n",
        "\n",
        "```\n",
        "The number 1 is prime.\n",
        "The number 2 is prime.\n",
        "The number 3 is prime.\n",
        "The number 5 is prime.\n",
        "The number 7 is prime.\n",
        "The number 11 is prime.\n",
        "The number 13 is prime.\n",
        "The number 17 is prime.\n",
        "The number 19 is prime.\n",
        "The number 23 is prime.\n",
        "```"
      ]
    },
    {
      "cell_type": "markdown",
      "metadata": {
        "id": "bNh2IiRmYPGv",
        "colab_type": "text"
      },
      "source": [
        "18. Write a program to calculate the combinatorial number\n",
        "\n",
        "$\\binom{m}{n} = \\frac{m!}{n! (m-n)!}$\n",
        "\n",
        "* Input: m = 10, n = 5\n",
        "* Expected output:\n",
        "\n",
        "```\n",
        "252\n",
        "```"
      ]
    },
    {
      "cell_type": "markdown",
      "metadata": {
        "id": "fHQD4JA8b9qx",
        "colab_type": "text"
      },
      "source": [
        "19. Write a program to print a Christmas tree of 15 base stars.\n",
        "\n",
        "* Input: base_stars = 15\n",
        "* Expected output:\n",
        "\n",
        "\n",
        "\n",
        "```\n",
        "       *       \n",
        "      ***      \n",
        "     *****     \n",
        "    *******    \n",
        "   *********   \n",
        "  ***********  \n",
        " ************* \n",
        "      ***      \n",
        "      ***      \n",
        "      ***     \n",
        "```\n",
        "\n"
      ]
    },
    {
      "cell_type": "markdown",
      "metadata": {
        "id": "iKpe8NtBdWbv",
        "colab_type": "text"
      },
      "source": [
        "20. Write a program to print an * in the upper diagonal of an implicit matrix of size n.\n",
        "\n",
        "* Input: n = 3\n",
        "* Expected output:\n",
        "\n",
        "\n",
        "\n",
        "```\n",
        "* * * \n",
        ". * * \n",
        ". . * \n",
        "```\n",
        "\n"
      ]
    },
    {
      "cell_type": "markdown",
      "metadata": {
        "id": "7spzGX7XeGlp",
        "colab_type": "text"
      },
      "source": [
        "21. Write a program to print an * in the lower diagonal of an implicit matrix of size n.\n",
        "\n",
        "* Input: n = 3\n",
        "* Expected output:\n",
        "\n",
        "\n",
        "\n",
        "```\n",
        "* . . \n",
        "* * . \n",
        "* * * \n",
        "```\n"
      ]
    },
    {
      "cell_type": "markdown",
      "metadata": {
        "id": "wTJVSB0jeYPi",
        "colab_type": "text"
      },
      "source": [
        "22. Write a program to print a diamond of radius n.\n",
        "\n",
        "* Input: n = 7\n",
        "* Expected output:\n",
        "\n",
        "\n",
        "\n",
        "```\n",
        " . . . * . . .\n",
        " . . * * * . .\n",
        " . * * * * * .\n",
        " * * * * * * *\n",
        " . * * * * * .\n",
        " . . * * * . .\n",
        " . . . * . . .\n",
        "```\n",
        "\n",
        "\n"
      ]
    },
    {
      "cell_type": "markdown",
      "metadata": {
        "id": "ySrNX4Hfg4Gp",
        "colab_type": "text"
      },
      "source": [
        "23. Write a program that displays a table of size (n x n) in which each cell will have * if i is a divisor of j or \"\" otherwise.\n",
        "\n",
        "* Input: n = 10\n",
        "* Expected output:\n",
        "\n",
        "\n",
        "\n",
        "\n",
        "```\n",
        "* * * * * * * * * * 1\n",
        "* *   *   *   *   * 2\n",
        "*   *     *     *   3\n",
        "* *   *       *     4\n",
        "*       *         * 5\n",
        "* * *     *         6\n",
        "*           *       7\n",
        "* *   *       *     8\n",
        "*   *           *   9\n",
        "* *     *         * 10\n",
        "\n",
        "```\n",
        "\n"
      ]
    },
    {
      "cell_type": "markdown",
      "metadata": {
        "id": "VzE8WPbFh1ET",
        "colab_type": "text"
      },
      "source": [
        "24. Write a program to display a menu with 3 options (to say hello in English, Spanish and French) and to finish, the user shall introduce the keyword \"quit\". If any other option is introduced, the program shall display that the input value is not a valid option.\n",
        "\n",
        "* Input: test the options\n",
        "* Expected output:\n",
        "\n",
        "\n",
        "\n",
        "```\n",
        "----------MENU OPTIONS----------\n",
        "1-Say Hello!\n",
        "2-Say ¡Hola!\n",
        "3-Say Salut!\n",
        "> introduce an option or quit to exit...\n",
        "```\n",
        "\n"
      ]
    },
    {
      "cell_type": "markdown",
      "metadata": {
        "id": "z5W6sGp0jt97",
        "colab_type": "text"
      },
      "source": [
        "25. The number finder: write a program that asks the user to find out a target number. If the input value is less than the target number, the program shall say \"the target value is less than X\", otherwise, the program shall say \"the target value is greater than X. The program shall finish once the user finds out the target number.\n",
        "\n",
        "* Input: target = 10\n",
        "* Expected output:\n",
        "\n",
        "\n",
        "\n",
        "```\n",
        "Introduce a number: 3\n",
        "The target value is greater than  3\n",
        "Introduce a number: 5\n",
        "The target value is greater than  5\n",
        "Introduce a number: 12\n",
        "The target value is less than  12\n",
        "Introduce a number: 10\n",
        "```\n",
        "\n"
      ]
    },
    {
      "cell_type": "markdown",
      "metadata": {
        "id": "nz3M9EDMky1H",
        "colab_type": "text"
      },
      "source": [
        "26. Modify the program in 20 to give only 5 attempts.\n",
        "\n",
        "* Input: target = 10\n",
        "* Expected output:\n",
        "\n",
        "\n",
        "\n",
        "```\n",
        "Introduce a number: 6\n",
        "The target value is greater than  6\n",
        "Introduce a number: 7\n",
        "The target value is greater than  7\n",
        "Introduce a number: 12\n",
        "The target value is less than  12\n",
        "Introduce a number: 9\n",
        "The target value is greater than  9\n",
        "Introduce a number: 11\n",
        "The target value is less than  11\n",
        "You have consumed the max number of attempts.\n",
        "```\n",
        "\n"
      ]
    },
    {
      "cell_type": "markdown",
      "metadata": {
        "id": "c1YJCNA8lgaM",
        "colab_type": "text"
      },
      "source": [
        "27. Write a program to print the following pattern:\n",
        "\n",
        "\n",
        "\n",
        "```\n",
        "1\n",
        "22\n",
        "333\n",
        "4444\n",
        "55555\n",
        "```\n",
        "\n"
      ]
    },
    {
      "cell_type": "code",
      "metadata": {
        "id": "N9uwap_Zll-Y",
        "colab_type": "code",
        "colab": {}
      },
      "source": [
        "for i in range (1,6):\n",
        "  print(str(i)*i)"
      ],
      "execution_count": 0,
      "outputs": []
    },
    {
      "cell_type": "markdown",
      "metadata": {
        "id": "P28719mtl6Tq",
        "colab_type": "text"
      },
      "source": [
        "28. Write a program to find greatest common divisor (GCD) of two numbers.\n",
        "\n",
        "* Input: x = 54, y = 24\n",
        "* Expected output:\n",
        "* Tip: try to improve the algorithm following the strategies here: https://en.wikipedia.org/wiki/Greatest_common_divisor\n",
        "\n",
        "\n",
        "\n",
        "```\n",
        "The GCD of 54 and 24 is: 6\n",
        "```\n",
        "\n"
      ]
    },
    {
      "cell_type": "code",
      "metadata": {
        "colab_type": "code",
        "id": "cmS2GMVw2bCQ",
        "colab": {}
      },
      "source": [
        "#Python version in the math library\n",
        "def gcd(a, b):\n",
        "    \"\"\"Calculate the Greatest Common Divisor of a and b.\n",
        "\n",
        "    Unless b==0, the result will have the same sign as b (so that when\n",
        "    b is divided by it, the result comes out positive).\n",
        "    \"\"\"\n",
        "    while b:\n",
        "        a, b = b, a%b\n",
        "    return a"
      ],
      "execution_count": 0,
      "outputs": []
    },
    {
      "cell_type": "markdown",
      "metadata": {
        "id": "ZrB7HLLtqwBo",
        "colab_type": "text"
      },
      "source": [
        "29. Write a program that counts the number of primer numbers between 1-MAX.\n",
        "\n",
        "* Input: MAX = 100\n",
        "* Expected output:\n",
        "\n",
        "\n",
        "```\n",
        "The number of primer numbers between 1 and 100 is 26.\n",
        "```\n",
        "\n"
      ]
    },
    {
      "cell_type": "markdown",
      "metadata": {
        "id": "mMWJkzHhrkZM",
        "colab_type": "text"
      },
      "source": [
        "30. Write a program that sums all primer numbers between 1-MAX.\n",
        "\n",
        "* Input: MAX = 100\n",
        "* Expected output:\n",
        "\n",
        "\n",
        "```\n",
        "The sum of all primer numbers between 1 and 100 is 1061.\n",
        "```"
      ]
    },
    {
      "cell_type": "markdown",
      "metadata": {
        "id": "ghYo6SaxsBaM",
        "colab_type": "text"
      },
      "source": [
        "31. Write a program to approximate the value of $e$ using the Taylor series for $e^x$.\n",
        "\n",
        "$\\begin{align}\n",
        "   \\sum_{n=0}^\\infty \\frac{x^n}{n!} &= \\frac{x^0}{0!} + \\frac{x^1}{1!} + \\frac{x^2}{2!} + \\frac{x^3}{3!} + \\frac{x^4}{4!} + \\frac{x^5}{5!}+ \\cdots \n",
        " \\end{align}$\n",
        "\n",
        " * Input: x = 1, MAX (N) = 100\n",
        " * Expected output: \n",
        "\n",
        "\n",
        "```\n",
        "The value of e is 2.7182818284590455\n",
        "```\n",
        "\n"
      ]
    },
    {
      "cell_type": "markdown",
      "metadata": {
        "id": "uLkqZeLf04p-",
        "colab_type": "text"
      },
      "source": [
        "32. Write a program to detect whether a number is a perfect number.\n",
        "\n",
        "* A number is perfect if the addition of all positive divisors is equal to the number.\n",
        "\n",
        "* Input: n = 6\n",
        "* Expected output:\n",
        "\n",
        "\n",
        "```\n",
        "The number 6 is perfect.\n",
        "```\n",
        "\n"
      ]
    }
  ]
}