{
  "nbformat": 4,
  "nbformat_minor": 0,
  "metadata": {
    "colab": {
      "name": "3-Control Flow: Conditional Statements",
      "provenance": [],
      "collapsed_sections": [],
      "authorship_tag": "ABX9TyPkzXgAa9Akmz0DtGd+n81Y",
      "include_colab_link": true
    },
    "kernelspec": {
      "name": "python3",
      "display_name": "Python 3"
    }
  },
  "cells": [
    {
      "cell_type": "markdown",
      "metadata": {
        "id": "view-in-github",
        "colab_type": "text"
      },
      "source": [
        "<a href=\"https://colab.research.google.com/github/chemaar/python-programming-course/blob/master/3_Control_Flow_Conditional_Statements.ipynb\" target=\"_parent\"><img src=\"https://colab.research.google.com/assets/colab-badge.svg\" alt=\"Open In Colab\"/></a>"
      ]
    },
    {
      "cell_type": "markdown",
      "metadata": {
        "id": "08ADk7tgHvga",
        "colab_type": "text"
      },
      "source": [
        "# Chapter 3: Control flow-Conditional Statements\n"
      ]
    },
    {
      "cell_type": "markdown",
      "metadata": {
        "id": "e8G-jN1TH182",
        "colab_type": "text"
      },
      "source": [
        "## 3.1 Control flow in a program\n",
        "\n",
        "So far we have seen that a program is a set of sequential steps (statements). In general, we have made some simple programs that get some input, performa some operation and display the result. However, the execution of a program is not always so easy and ideal. In many cases, it is necessary to check conditions and make decisions depending on the result. For instance, we may need:\n",
        "\n",
        "* Ensure that some input value is in a proper range.\n",
        "* After some computation, check what is current value of some variable and make a decision.\n",
        "* Repeat set of statements until some condition is True (or False).\n",
        "* ...\n",
        "\n",
        "That is why, any programming language includes constructors to control the program flow. Basically, it implies that we are able to perform \"jumps\" in our program from one line to another depending on some condition. In this sense, we can classify these jumps into two main categories:\n",
        "\n",
        "* **Conditional jumps**. In this case, and based on checking some condition, the program continues in some other statement.\n",
        "* **Inconditional jumps**. In this second case, the program \"jumps\" inconditionally to some line without checking any condition. These jumps are usually known as \"go-to\". **They are completely not-recommended**.\n",
        "\n",
        "Let's put a simple example:\n",
        "\n",
        ">Write a program that asks for an integer number, checks whether is an even number and displays two types of message: \"It is an even number\" (if positive) or \"It is an odd number\" (if negative).\n",
        "\n",
        "How can we proceed?\n",
        "\n",
        ">**Use of conditional statements**.\n",
        "\n",
        "\n"
      ]
    },
    {
      "cell_type": "markdown",
      "metadata": {
        "id": "QRLp07N3IZyB",
        "colab_type": "text"
      },
      "source": [
        "## 3.2 Conditional statements\n",
        "\n",
        "**A conditional statement is a kind of statement to control the flow of a program depending whether a condition is True or False.**\n",
        "\n",
        "We have different types of conditional statements (depending in how many branches are created when evaluating a condition):\n",
        "\n",
        "* **Simple IF statement**. It checks a condition and, if it is True, do some actions, otherwise, the program will continue normally.\n",
        "\n",
        "* **IF-ELSE statement**. It checks a condition and, if it is True, do some actions, otherwise, do other actions and, then the program will continue normally.\n",
        "\n",
        "* **IF-ELSE multiple statement**. It checks a condition and, if it is True, do some actions, otherwise, check the rest of conditions until one of them is true, then the program will continue normally. In other programming languages, this type of conditional statement is also known as \"switch\".\n",
        "\n",
        "\n",
        "\n"
      ]
    },
    {
      "cell_type": "markdown",
      "metadata": {
        "id": "oFO639Ye8aft",
        "colab_type": "text"
      },
      "source": [
        "### 3.2.1 Simple IF statement"
      ]
    },
    {
      "cell_type": "markdown",
      "metadata": {
        "id": "abQ40kYZEeAm",
        "colab_type": "text"
      },
      "source": [
        "#### **Problem statement**\n",
        "\n",
        "There are many times in which we have to check some condition and, in case, the condition is evaluated as True, a set of statements will be executed, and, if it is False, another set of statements will be then executed. \n",
        "\n",
        "For instance:\n",
        "\n",
        ">if the grade is greater or equal than 5, the course is passed.\n",
        "\n",
        "#### **Concept**\n",
        "\n",
        "* The IF statement is a compound statement in which a condition is checked and the control flow is divided into two branches:\n",
        "  * True branch: set of statements to be executed if the condition was True.\n",
        "  * False branch: set of statements to be executed if the condition was False.\n",
        "\n",
        "* **Flow diagram**:\n",
        "\n",
        "![alt text](https://github.com/chemaar/python-programming-course/raw/master/imgs/if-statement.png)\n",
        "\n",
        "#### **Application**\n",
        "\n",
        "* The main application of the simple conditional statement is for checking conditions.\n",
        "\n",
        "#### **IF-Else statement in the Python programming language**\n",
        "\n",
        "* In the Python programming language, the `if-else` statement is classified as a compound statement (because after its execution a new set of statements will be executed, or, in other words, a new indented block will follow to some of the branches).\n",
        "\n",
        "* The grammar is as follows (in this case we will focus in the first case):\n",
        "\n",
        "\n",
        "```\n",
        "if_stmt ::=  \"if\" expression \":\" suite\n",
        "             (\"elif\" expression \":\" suite)*\n",
        "             [\"else\" \":\" suite]\n",
        "```\n",
        "\n",
        "  * `expression` is a conditional expression (logical operators and operands) that will be evaluated as True or False.\n",
        "  * `suite` is a set of **indented** statements.\n",
        "  * Altough it is not necessary, sometimes it is good to enclose the expression between parenthesis for a better source code readability.\n",
        "\n",
        "> Grammar meaning, \n",
        "> * ()* means between 0-n repetitions of the statement (optional).\n",
        "> * [] means between 0-1 repetitions of the statement (optional).\n",
        "\n",
        "#### **Examples**\n"
      ]
    },
    {
      "cell_type": "code",
      "metadata": {
        "id": "wASGJZd4ry6_",
        "colab_type": "code",
        "colab": {}
      },
      "source": [
        "grade = 6\n",
        "\n",
        "if grade >= 5:\n",
        "  print(\"You have passed the course...\")"
      ],
      "execution_count": 0,
      "outputs": []
    },
    {
      "cell_type": "code",
      "metadata": {
        "id": "NxGDEM26r-0-",
        "colab_type": "code",
        "colab": {
          "base_uri": "https://localhost:8080/",
          "height": 34
        },
        "outputId": "d2eb4dd1-9252-4e1a-97c3-fe3e544f61d6"
      },
      "source": [
        "a = 4\n",
        "b = 2\n",
        "\n",
        "if a > b and a % 2 ==0:\n",
        "  print(\"a is greater than b and even...\")"
      ],
      "execution_count": 2,
      "outputs": [
        {
          "output_type": "stream",
          "text": [
            "a is greater than b and even...\n"
          ],
          "name": "stdout"
        }
      ]
    },
    {
      "cell_type": "code",
      "metadata": {
        "id": "w6zrLVsHsRnP",
        "colab_type": "code",
        "colab": {
          "base_uri": "https://localhost:8080/",
          "height": 69
        },
        "outputId": "0d670b03-d4e1-498a-a585-443e53520849"
      },
      "source": [
        "a = 3\n",
        "b = 2\n",
        "\n",
        "if (a > b) and (a % 2 == 1):\n",
        "  print(\"a is greater than b and odd...\")\n",
        "  print(\"...other statement in the if block...\")\n",
        "\n",
        "print (\"Other statement...\")"
      ],
      "execution_count": 5,
      "outputs": [
        {
          "output_type": "stream",
          "text": [
            "a is greater than b and odd...\n",
            "...other statement in the if block...\n",
            "Other statement...\n"
          ],
          "name": "stdout"
        }
      ]
    },
    {
      "cell_type": "code",
      "metadata": {
        "id": "H8BuiKMStODU",
        "colab_type": "code",
        "colab": {
          "base_uri": "https://localhost:8080/",
          "height": 86
        },
        "outputId": "0a91d556-04ec-483b-d5f0-cb164bd11e1d"
      },
      "source": [
        "#Nesting if simple statements\n",
        "a = 3\n",
        "b = 2\n",
        "\n",
        "if (a > b):\n",
        "  print(\"a is greater than b...\")\n",
        "  if (a % 2 == 1):\n",
        "    print(\"...and a is also odd...\")\n",
        "  print(\"...other statement in the suite of the first if...\")\n",
        "print(\"...main execution suite...\")"
      ],
      "execution_count": 6,
      "outputs": [
        {
          "output_type": "stream",
          "text": [
            "a is greater than b...\n",
            "...and a is also odd...\n",
            "...other statement in the suite of the first if...\n",
            "...main execution suite...\n"
          ],
          "name": "stdout"
        }
      ]
    },
    {
      "cell_type": "markdown",
      "metadata": {
        "colab_type": "text",
        "id": "inwVW1wc8e20"
      },
      "source": [
        "### 3.2.2 IF-ELSE statement"
      ]
    },
    {
      "cell_type": "markdown",
      "metadata": {
        "id": "8LMgButlEpPJ",
        "colab_type": "text"
      },
      "source": [
        "#### **Problem statement**\n",
        "\n",
        "As in the first case, there are many times in which we have to check some condition and, in case, the condition is evaluated as True, a set of statements will be executed, and, if it is False, another set of statements will be then executed. \n",
        "\n",
        "For instance:\n",
        "\n",
        ">if the grade is greater or equal than 5, the course is passed, otherwise the course is not passed.\n",
        "\n",
        "\n",
        "#### **Concept**\n",
        "\n",
        "* The `if-else` statement is programming language constructor to give support to the creation of two execution branches:\n",
        "  * True branch: set of statements to be executed if the condition was True.\n",
        "  * False branch: set of statements to be executed if the condition was False.\n",
        "\n",
        "* Flow diagram:\n",
        "\n",
        "![alt text](https://github.com/chemaar/python-programming-course/raw/master/imgs/IF-ELSE.png)\n",
        "\n",
        "#### **Application**\n",
        "\n",
        "* The main application of the if-else conditional statement is for checking conditions and provide two execution branches.\n",
        "\n",
        "#### **IF-Else statement in the Python programming language**\n",
        "\n",
        "* The grammar is as follows (in this case we will focus in the third case):\n",
        "\n",
        "```\n",
        "if_stmt ::=  \"if\" expression \":\" suite\n",
        "             (\"elif\" expression \":\" suite)*\n",
        "             [\"else\" \":\" suite]\n",
        "```\n",
        "* Again, here it is important to remark that **the suite of statements that follow the else clause must be properly indented**.\n",
        "\n",
        "\n",
        "#### **Examples**"
      ]
    },
    {
      "cell_type": "code",
      "metadata": {
        "id": "wfQOhUsxu1Cb",
        "colab_type": "code",
        "colab": {
          "base_uri": "https://localhost:8080/",
          "height": 34
        },
        "outputId": "51439f69-9d39-43bf-8e79-dcb6b518e8bf"
      },
      "source": [
        "grade = 6\n",
        "\n",
        "if grade >= 5:\n",
        "  print(\"You have passed the course...\")\n",
        "else: \n",
        "  print (\"You have NOT passed the course...\")"
      ],
      "execution_count": 7,
      "outputs": [
        {
          "output_type": "stream",
          "text": [
            "You have passed the course...\n"
          ],
          "name": "stdout"
        }
      ]
    },
    {
      "cell_type": "markdown",
      "metadata": {
        "id": "riGvQwhg8pzW",
        "colab_type": "text"
      },
      "source": [
        "### 3.2.2 Multiple IF-ELSE statement"
      ]
    },
    {
      "cell_type": "markdown",
      "metadata": {
        "id": "WKZwY5avEqkv",
        "colab_type": "text"
      },
      "source": [
        "#### **Problem statement**\n",
        "\n",
        "In this case, instead of evaluating just one condition, we have a case in which we have to make some actions depending on more than one condition.\n",
        "\n",
        "For instance:\n",
        "\n",
        ">if the day is 1, print \"Monday\", if the day is 2, print \"Tuesday\", etc.\n",
        "\n",
        "\n",
        "#### **Concept**\n",
        "\n",
        "* The `if-elif-else` statement is programming language constructor to give support to the creation of n execution branches:\n",
        "  * True branch: set of statements to be executed if the condition was True.\n",
        "  * False branch: set of statements to be executed if the condition was False.\n",
        "\n",
        "* Flow diagram:\n",
        "\n",
        "![alt text](https://github.com/chemaar/python-programming-course/raw/master/imgs/IF-ELSE-ELIF.png)\n",
        "\n",
        "#### **Application**\n",
        "\n",
        "* The main application of the if-elif-else conditional statement is for checking multiple cases and provide two execution branches.\n",
        "\n",
        "#### **IF-Else statement in the Python programming language**\n",
        "\n",
        "* The grammar is as follows (in this case we will focus in the second case):\n",
        "\n",
        "```\n",
        "if_stmt ::=  \"if\" expression \":\" suite\n",
        "             (\"elif\" expression \":\" suite)*\n",
        "             [\"else\" \":\" suite]\n",
        "```\n",
        "* Again, here it is important to remark that **the suite of statements that follow the else clause must be properly indented**.\n",
        "\n",
        "\n",
        "#### **Examples**"
      ]
    },
    {
      "cell_type": "code",
      "metadata": {
        "id": "3o0_PBACvriX",
        "colab_type": "code",
        "colab": {}
      },
      "source": [
        "day = 2\n",
        "\n",
        "if day == 1:\n",
        "  print (\"Monday\")\n",
        "elif day == 2:\n",
        "  print (\"Tuesday\")\n",
        "elif day == 3:\n",
        "  print (\"Wednesday\")\n",
        "elif day == 4:\n",
        "  print (\"Thursday\")\n",
        "elif day == 5:\n",
        "  print (\"Friday\")\n",
        "elif day == 6:\n",
        "  print (\"Saturday\")\n",
        "elif day == 7:\n",
        "  print (\"Sunday\")\n",
        "else:\n",
        "  print(\"That number of day has not a name...\")\n",
        "\n",
        "#Sometimes this it not an elegant way of writing Python code...but it is just an \n",
        "#explanatory example."
      ],
      "execution_count": 0,
      "outputs": []
    },
    {
      "cell_type": "markdown",
      "metadata": {
        "id": "dY769PAc8tVh",
        "colab_type": "text"
      },
      "source": [
        "## 3.3 Other types of conditional statements and examples\n",
        "\n",
        "In many programming languages, and in Python as well, there are some simplified forms of the `if-else` statements. Although, they are grammatically correct, they also make the code less readable, so, I personally advise not to use them unless it is completely necessary. \n",
        "\n",
        "Saving code lines is not an objective and to write this type of statements does not make your code more efficient or \"pythonic\".\n",
        "\n",
        "A good use case of this type of statements is debugging."
      ]
    },
    {
      "cell_type": "markdown",
      "metadata": {
        "id": "ZotkM1d3wT4H",
        "colab_type": "text"
      },
      "source": [
        "* **In-line simple if statement.**\n",
        "\n",
        "\n",
        "```\n",
        "\"if\" expression \":\" suite\n",
        "\n",
        "\"if\" expression: suite 1; suite 2; ...; suite n\n",
        "```\n",
        "\n"
      ]
    },
    {
      "cell_type": "code",
      "metadata": {
        "id": "VHc7ndkIwsMZ",
        "colab_type": "code",
        "colab": {}
      },
      "source": [
        "a = 2\n",
        "b = 3\n",
        "if a < b: print(\"This is...\"); print(a)"
      ],
      "execution_count": 0,
      "outputs": []
    },
    {
      "cell_type": "markdown",
      "metadata": {
        "id": "H-40UDJf0-Kw",
        "colab_type": "text"
      },
      "source": [
        "* **Conditional expression.** This type of statement was introduced by the Python creator, Guido, in the [PEP 308](https://www.python.org/dev/peps/pep-0308/). It is also known as \"ternary operator\".\n",
        "\n",
        "  * These expressions are a good manner of assigning a value to a variable under certain conditions, like a lambda function.\n",
        "```\n",
        "expression if expression else expression \n",
        "```\n",
        "\n"
      ]
    },
    {
      "cell_type": "code",
      "metadata": {
        "id": "Q_fZY4L81nb_",
        "colab_type": "code",
        "colab": {}
      },
      "source": [
        "age = 20\n",
        "category = \"minor\" if age < 18 else \"adult\"\n",
        "print(category)"
      ],
      "execution_count": 0,
      "outputs": []
    },
    {
      "cell_type": "markdown",
      "metadata": {
        "id": "f-OiPEmp2XKR",
        "colab_type": "text"
      },
      "source": [
        "* **pass statement**. This is a null statement, it does not make anything. Usually, we write pass when we want to allocate some code but we do not know yet which would be."
      ]
    },
    {
      "cell_type": "code",
      "metadata": {
        "id": "lL-AIQqy2jIt",
        "colab_type": "code",
        "colab": {}
      },
      "source": [
        "a = 2\n",
        "if a % 2 == 0:\n",
        "  pass #Source code is not decided yet...\n",
        "else:\n",
        "  print(\"This is not True...\")"
      ],
      "execution_count": 0,
      "outputs": []
    },
    {
      "cell_type": "markdown",
      "metadata": {
        "id": "5OQPfEDhIdJv",
        "colab_type": "text"
      },
      "source": [
        "## Relevant resources\n",
        "\n",
        "* https://docs.python.org/3/reference/compound_stmts.html\n",
        "* https://www.python.org/dev/peps/pep-0308/"
      ]
    }
  ]
}