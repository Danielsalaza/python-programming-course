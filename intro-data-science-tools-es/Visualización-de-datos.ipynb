Datos
• Nombre: Juan,Ana, Pedro,María,Luis,Ana
• Edad:28, 34, None, 45, 38, 34.
• Salario:3000, 4000, cinco mil, 4500, 4000, 5000
• Fecha Ingreso:2021-01-15, 2020/03/12, 2022-07-01,2021/12/01,2021-05-20,
2020-03-12
