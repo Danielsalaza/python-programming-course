{
  "nbformat": 4,
  "nbformat_minor": 0,
  "metadata": {
    "colab": {
      "name": "Lab_6_Functions_STUDENT.ipynb",
      "provenance": [],
      "collapsed_sections": [],
      "authorship_tag": "ABX9TyNU1sXQRWoHuir8L6MGknnO",
      "include_colab_link": true
    },
    "kernelspec": {
      "name": "python3",
      "display_name": "Python 3"
    }
  },
  "cells": [
    {
      "cell_type": "markdown",
      "metadata": {
        "id": "view-in-github",
        "colab_type": "text"
      },
      "source": [
        "<a href=\"https://colab.research.google.com/github/chemaar/python-programming-course/blob/master/Lab_6_Functions_STUDENT.ipynb\" target=\"_parent\"><img src=\"https://colab.research.google.com/assets/colab-badge.svg\" alt=\"Open In Colab\"/></a>"
      ]
    },
    {
      "cell_type": "markdown",
      "metadata": {
        "id": "l88YgeqXK38T",
        "colab_type": "text"
      },
      "source": [
        "# Lab 6: Functions\n",
        "\n",
        "In this notebook, we propose and solve some exercises about functions in Python.\n",
        "\n",
        "* **In these exercises, we can always proceed solving the problems in a generic way or taking advantage of Python capabilities. As a recommendation, first, try the generic way (applicable to any programming language) and, then, using Python**\n",
        "\n",
        "* **As a good programming practice, our test cases should ensure that all branches of the code are executed at least once.**\n",
        "\n",
        "* **In the specific case of functions, we have always to keep in mind the next keypoints:**\"\n",
        "  * Design the functions defining a proper domain and range.\n",
        "  * Think in the pre-conditions to execute the function.\n",
        "  * Design (pure) functions without side-effects."
      ]
    },
    {
      "cell_type": "markdown",
      "metadata": {
        "id": "ZfRgZHNdLIuf",
        "colab_type": "text"
      },
      "source": [
        "## List of exercises"
      ]
    },
    {
      "cell_type": "markdown",
      "metadata": {
        "id": "wV7mERYcMlJ3",
        "colab_type": "text"
      },
      "source": [
        "1. Write a function that defines a set of input parameters and displays their identifiers, types and values. Invoke this function from the `main` function.\n",
        "\n",
        "* Input: my_function(1,\"Hello\",[1,2,3])\n",
        "* Expected output:\n",
        "\n",
        "```\n",
        "1 of type  <class 'int'>  with id:  10914496\n",
        "Hello of type  <class 'str'>  with id:  139654081206232\n",
        "[1, 2, 3] of type  <class 'list'>  with id:  139654081356488\n",
        "```\n",
        "\n",
        "* Make use of the Python functions:\n",
        "\n",
        "\n",
        "```\n",
        "type(object)\n",
        "id(object)\n",
        "```\n",
        "\n"
      ]
    },
    {
      "cell_type": "markdown",
      "metadata": {
        "id": "1vfULXKB6cHJ",
        "colab_type": "text"
      },
      "source": [
        "2. Write a function that takes two arguments, at lest one parameter with a default boolean value True, and prints out the values of all parameters.\n",
        "\n",
        "* Input: \n",
        "  * `default_parameters(1)`\n",
        "  * `default_parameters(1, False)`\n",
        "* Expected output:\n",
        "\n",
        "```\n",
        "1\n",
        "True\n",
        "1\n",
        "False\n",
        "```"
      ]
    },
    {
      "cell_type": "markdown",
      "metadata": {
        "id": "decoG2GZCB6U",
        "colab_type": "text"
      },
      "source": [
        "3. Write a function that takes three arguments (integer, string and list), modifies the value of such argument (displaying the id) and checks the value in the invocation point (displaying the id again).\n",
        "\n",
        "* Input: \n",
        "\n",
        "\n",
        "```\n",
        "a = 2\n",
        "msg = \"Hello\"\n",
        "alist = [1,2,3]\n",
        "my_fun(a, msg, alist)\n",
        "```\n",
        "\n",
        "\n",
        "* Expected output (the ids may change):\n",
        "\n",
        "\n",
        "\n",
        "```\n",
        "10914528\n",
        "139654071637640\n",
        "139654071236424\n",
        "Call function...\n",
        "10914528\n",
        "4\n",
        "139654071637640\n",
        "Other\n",
        "139654071236424\n",
        "[1, 3]\n",
        "After calling function...\n",
        "2\n",
        "Hello\n",
        "[1, 2, 3]\n",
        "```\n",
        "\n"
      ]
    },
    {
      "cell_type": "markdown",
      "metadata": {
        "id": "xBENBLNrGsKn",
        "colab_type": "text"
      },
      "source": [
        "4. Write a function that takes a parameter (a list), appends a new element and prints out the content of the list in the invocation point.\n",
        "\n",
        "* Input: [1,2,3], a new element 4 is added.\n",
        "\n",
        "\n",
        "* Expected output:\n",
        "\n",
        "\n",
        "```\n",
        "Before calling...\n",
        "Hello\n",
        "After calling...\n",
        "Hello Mary\n",
        "```\n",
        "\n"
      ]
    },
    {
      "cell_type": "markdown",
      "metadata": {
        "id": "mfP5Gi-qRQab",
        "colab_type": "text"
      },
      "source": [
        "5. Write a function that takes a parameter (a string), appends a new string and prints out the content of the string in the invocation point.\n",
        "\n",
        "* Input: \"Hello\", a new string \" Mary\".\n",
        "\n",
        "\n",
        "* Expected output:\n",
        "\n",
        "\n",
        "```\n",
        "Before calling...\n",
        "Hello\n",
        "After calling...\n",
        "Hello\n",
        "```"
      ]
    },
    {
      "cell_type": "markdown",
      "metadata": {
        "id": "nFJTZTVsS1w-",
        "colab_type": "text"
      },
      "source": [
        "6. Write a function that takes two integer numbers and returns tha addition of both numbers (an integer number).\n",
        "\n",
        "* Input: my_add(1,2).\n",
        "\n",
        "\n",
        "* Expected output:\n",
        "\n",
        "\n",
        "```\n",
        "3\n",
        "```"
      ]
    },
    {
      "cell_type": "markdown",
      "metadata": {
        "id": "t_yWPOZoTSro",
        "colab_type": "text"
      },
      "source": [
        "7. Write a function to compare two integer numbers. The function shall return:\n",
        "  * 0 if both values are equal.\n",
        "  * 1 if the first parameter is greater than the second.\n",
        "  * -1 if the second parameter is greater than the first.\n",
        "\n",
        "* Input: \n",
        "\n",
        "  * are_equal(1,2)\n",
        "  * are_equal(2,1)\n",
        "  * are_equal(1,1)\n",
        "\n",
        "\n",
        "* Expected output:\n",
        "\n",
        "\n",
        "```\n",
        "1\n",
        "-1\n",
        "0\n",
        "```\n",
        "\n"
      ]
    },
    {
      "cell_type": "markdown",
      "metadata": {
        "id": "o37pwul2UkVr",
        "colab_type": "text"
      },
      "source": [
        "8. Write a function to implement the absolute value of an integer number.\n",
        "\n",
        "* Input: \n",
        "  * my_abs(5)\n",
        "  * my_abs(-5)\n",
        "\n",
        "\n",
        "* Expected output:\n",
        "\n",
        "\n",
        "```\n",
        "5\n",
        "5\n",
        "```"
      ]
    },
    {
      "cell_type": "markdown",
      "metadata": {
        "id": "Qgaql9c-aroY",
        "colab_type": "text"
      },
      "source": [
        "9. Write a function that takes as an argument one tuple packing argument (*args) and diplays the values.\n",
        "\n",
        "* Input: \n",
        "  * my_f(2,\"Hello\",[2,3])\n",
        "\n",
        "\n",
        "* Expected output:\n",
        "\n",
        "\n",
        "```\n",
        "2\n",
        "Hello\n",
        "[2,3]\n",
        "```"
      ]
    },
    {
      "cell_type": "markdown",
      "metadata": {
        "id": "NtvQR2NqcLgw",
        "colab_type": "text"
      },
      "source": [
        "10. Write a function that takes as an argument one dictionary argument (**kwargs) and diplays the values.\n",
        "\n",
        "* Input: \n",
        "  *   my_f(name=\"Mary\", age=25)\n",
        "\n",
        "\n",
        "* Expected output:\n",
        "\n",
        "\n",
        "```\n",
        "Key:  name , value:  Mary\n",
        "Key:  age , value:  25\n",
        "```"
      ]
    },
    {
      "cell_type": "markdown",
      "metadata": {
        "id": "oIsm6jHDdHWu",
        "colab_type": "text"
      },
      "source": [
        "11. Write a function, `is_leap`, that given a year number, returns whether is a leap year (reuse the code in the previous notebook: *Lab_3_Control_Flow_Conditional_Statements*).\n",
        "\n",
        "* Input: -1\n",
        "* Expected output:\n",
        "\n",
        "```\n",
        "False\n",
        "```\n",
        "\n",
        "\n",
        "* Input: 2019\n",
        "* Expected output:\n",
        "\n",
        "```\n",
        "False\n",
        "```\n",
        "\n",
        "* Input: 2020\n",
        "* Expected output:\n",
        "\n",
        "```\n",
        "True\n",
        "```\n"
      ]
    },
    {
      "cell_type": "markdown",
      "metadata": {
        "id": "WHAlYa35eYP_",
        "colab_type": "text"
      },
      "source": [
        "12. Check the next function in which a documentation string is added.\n",
        "* The documentation is enclosed between `\"\"\"`.\n",
        "* The documentation string is multiline.\n",
        "* The documentation is string is situated after the function signature.\n",
        "* The documentation can be checked in two manners:\n",
        "  * help(function_name): displays the function signature and the doc string.\n",
        "  * `function_name.__doc__`: returns the doc string.\n",
        "* The reference for documentation strings is defined in the next PEP: https://www.python.org/dev/peps/pep-0257/.\n",
        "\n"
      ]
    },
    {
      "cell_type": "markdown",
      "metadata": {
        "id": "R31ZeMlXeZli",
        "colab_type": "text"
      },
      "source": [
        "13. Check the next function in which **metadata** to describe the function is added.\n",
        "* Internally, the annotations are added as a dictionary to the function object.\n",
        "* The reference for annotations is defined in the next PEP:  https://www.python.org/dev/peps/pep-3107/"
      ]
    },
    {
      "cell_type": "markdown",
      "metadata": {
        "id": "LsKxAG_3fGSt",
        "colab_type": "text"
      },
      "source": [
        "14. Write a program to calculate the factorial of an integer number.\n",
        "\n",
        "  * factorial (n) = n * factorial (n-1) \n",
        "\n",
        "* Input: an integer number, 5\n",
        "* Expected output:\n",
        "\n",
        "```\n",
        "120\n",
        "```"
      ]
    },
    {
      "cell_type": "markdown",
      "metadata": {
        "id": "MYJfaUvYftth",
        "colab_type": "text"
      },
      "source": [
        "15. Write a program to calculate the factorial of an integer number using a recursive function.\n",
        "\n",
        "  * factorial (n) = n * factorial (n-1) \n",
        "\n",
        "\n",
        "A recursive function has two main parts:\n",
        " * The basic case. In the factorial function, when $n=0$ or $n=1$.\n",
        " * The recursive case. In the factorial function, when $n>1$.\n",
        "\n",
        "\n",
        "* Input: an integer number, 5\n",
        "* Expected output:\n",
        "\n",
        "```\n",
        "120\n",
        "```"
      ]
    },
    {
      "cell_type": "markdown",
      "metadata": {
        "id": "aEe1v6EugWsK",
        "colab_type": "text"
      },
      "source": [
        "16. Write a function to calculate the exponentiation of a number with base b, and exponent n.  \n",
        "  * $base^{exponent} = base * base* base...*base$\n",
        "\n",
        "* Input: base 2, exponent 3\n",
        "* Expected output:\n",
        "\n",
        "```\n",
        "8\n",
        "```"
      ]
    },
    {
      "cell_type": "markdown",
      "metadata": {
        "id": "ABWSG55VhAj2",
        "colab_type": "text"
      },
      "source": [
        "17. Write a function to detect if a number is a prime number.\n",
        "\n",
        "\n",
        "* Input: 5, 8\n",
        "* Expected output:\n",
        "\n",
        "```\n",
        "The number 5 is prime.\n",
        "The number 8 is not prime.\n",
        "```"
      ]
    },
    {
      "cell_type": "markdown",
      "metadata": {
        "id": "Sei6H6LyhkTX",
        "colab_type": "text"
      },
      "source": [
        "18. Write a function to sum up the Fibonacci sequence of the first n numbers.\n",
        "\n",
        "\t\tfibonacci(n) = \n",
        "\t\t\t\t\t\tfibonacci (0) = 0\n",
        "\t\t\t\t\t\tfibonacci (1) = 1\n",
        "\t\t\t\t\t\tfibonacci (n) = fibonacci(n-1) + fibonacci (n-2)\n",
        "\n",
        "\n",
        "* Input: a positive number $n = 4$\n",
        "* Expected output:\n",
        "\n",
        "```\n",
        "Fibonacci of: 0 , sequence:  [0] , sum =  0\n",
        "Fibonacci of: 1 , sequence:  [0, 1] , sum =  1\n",
        "Fibonacci of: 2 , sequence:  [0, 1, 1] , sum =  2\n",
        "Fibonacci of: 3 , sequence:  [0, 1, 1, 2] , sum =  4\n",
        "Fibonacci of: 4 , sequence:  [0, 1, 1, 2, 3] , sum =  7\n",
        "```"
      ]
    },
    {
      "cell_type": "markdown",
      "metadata": {
        "id": "Naz8eFMzjKcd",
        "colab_type": "text"
      },
      "source": [
        "19. Write a recursive function to calculate the next Fibonacci number of the first n numbers.\n",
        "\n",
        "\t\tfibonacci(n) = \n",
        "\t\t\t\t\t\tfibonacci (0) = 0\n",
        "\t\t\t\t\t\tfibonacci (1) = 1\n",
        "\t\t\t\t\t\tfibonacci (n) = fibonacci(n-1) + fibonacci (n-2)\n",
        "\n",
        "\n",
        "* Input: a positive number $n = 4$\n",
        "* Expected output:\n",
        "\n",
        "```\n",
        "Fib at position  0  is  0\n",
        "Fib at position  1  is  1\n",
        "Fib at position  2  is  1\n",
        "Fib at position  3  is  2\n",
        "Fib at position  4  is  3\n",
        "```"
      ]
    },
    {
      "cell_type": "markdown",
      "metadata": {
        "id": "pEbwi1qilrEF",
        "colab_type": "text"
      },
      "source": [
        "20. Write a function to calculate the combinatorial number (reuse your previous factorial function):\n",
        "\n",
        "$\\binom{m}{n} = \\frac{m!}{n! (m-n)!}$\n",
        "\n",
        "* Input: m = 10, n = 5\n",
        "* Expected output:\n",
        "\n",
        "```\n",
        "252\n",
        "```"
      ]
    },
    {
      "cell_type": "markdown",
      "metadata": {
        "id": "qQFRjE9Go0ql",
        "colab_type": "text"
      },
      "source": [
        "21. Write a program to display a menu with 3 options (to say hello in English, Spanish and French) and to finish, the user shall introduce the keyword \"quit\". If any other option is introduced, the program shall display that the input value is not a valid option. \n",
        " * **Refactor your previous code to provide a function that displays the menu and returns the selected option.**\n",
        "\n",
        "* Input: test the options\n",
        "* Expected output:\n",
        "\n",
        "\n",
        "\n",
        "```\n",
        "----------MENU OPTIONS----------\n",
        "1-Say Hello!\n",
        "2-Say ¡Hola!\n",
        "3-Say Salut!\n",
        "> introduce an option or quit to exit...\n",
        "```"
      ]
    },
    {
      "cell_type": "markdown",
      "metadata": {
        "id": "tsAuoWMdpzqC",
        "colab_type": "text"
      },
      "source": [
        "22. Write a function to detect whether a number is a perfect number.\n",
        "\n",
        "* A number is perfect if the addition of all positive divisors is equal to the number.\n",
        "\n",
        "* Input: n = 6\n",
        "* Expected output:\n",
        "\n",
        "\n",
        "```\n",
        "The number 6 is perfect.\n",
        "```"
      ]
    },
    {
      "cell_type": "markdown",
      "metadata": {
        "id": "kD7fQSxnqLpg",
        "colab_type": "text"
      },
      "source": [
        "23. Write a function to calculate the length of a sequence. If the list is None, the function shall return -1.\n",
        "\n",
        "\n",
        "* Input: [3,4,5,6]\n",
        "* Expected output:\n",
        "\n",
        "```\n",
        "The length of the list is: 4\n",
        "```"
      ]
    },
    {
      "cell_type": "markdown",
      "metadata": {
        "id": "s6YAPZTsrr81",
        "colab_type": "text"
      },
      "source": [
        "24. Write a function that given a list of $n$ numbers, calculates and returns the max value within the list and its position.\n",
        "\n",
        "\n",
        "* Input: [8, 1, 9, 2]\n",
        "* Expected output:\n",
        "\n",
        "```\n",
        "The max value is: 9 in position: 2.\n",
        "```"
      ]
    },
    {
      "cell_type": "markdown",
      "metadata": {
        "id": "vSUTjG6l2cyg",
        "colab_type": "text"
      },
      "source": [
        "25. Write a function that given a list of $n$ numbers and a target number $k$, counts the number of occurrences of $k$ in the list.\n",
        "\n",
        "\n",
        "* Input: [8, 1, 9, 1], $k=1$\n",
        "* Expected output:\n",
        "\n",
        "```\n",
        "The number 1 has 2 occurrences.\n",
        "```"
      ]
    },
    {
      "cell_type": "markdown",
      "metadata": {
        "id": "i2hyolTQ3Axs",
        "colab_type": "text"
      },
      "source": [
        "26. Write a module named `my_list_functions.py` that contains functions for:\n",
        "\n",
        "* Counting the number of occurrences of a value $k$ in a list.\n",
        "* Finding the position of the first/last/all apparition (this shall be a parameter) of the value $k$.\n",
        "* Creating a new list in reverse order.\n",
        "* Returning the first/last (this shall be a parameter) $k$ numbers of the list.\n",
        "* Making the union of two lists.\n",
        "* Making the intersection of two lists.\n",
        "* Creating chunks of  $k$  elements.\n",
        "\n",
        "These functions will be invoked from a program including the module with the next directive:\n",
        "\n",
        "`from my_list_functions import *`"
      ]
    },
    {
      "cell_type": "markdown",
      "metadata": {
        "id": "-m_RBKrB4jP9",
        "colab_type": "text"
      },
      "source": [
        "27. Refactor the TIC, TAC, TOE game implementing the following functions.\n",
        "\n",
        "* The program shall have a function to get the position to situate a new value.\n",
        "* The program shall have function to detect whether a player is winner by rows.\n",
        "* The program shall have function to detect whether a player is winner by columns.\n",
        "* The program shall have function to detect whether a player is winner in the main diagonal.\n",
        "* The program shall have function to detect whether a player is winner in the secondary diagonal.\n",
        "* The program shall have function to print the board.\n"
      ]
    },
    {
      "cell_type": "markdown",
      "metadata": {
        "id": "1VBKW71JgTe6",
        "colab_type": "text"
      },
      "source": [
        "28. As a refactoring exercise, take exercises of previous notebooks and select the parts of code that can be a function, e.g. string functions, vector operations, matrix operations, etc."
      ]
    },
    {
      "cell_type": "markdown",
      "metadata": {
        "id": "ohl0JZBVgE2J",
        "colab_type": "text"
      },
      "source": [
        "## Advanced function concepts (not for studying, only information)"
      ]
    },
    {
      "cell_type": "markdown",
      "metadata": {
        "id": "p_weyAKW5TeR",
        "colab_type": "text"
      },
      "source": [
        "1. **High-order functions**. A high-order function is a function that:\n",
        "\n",
        "   1. takes a function as a parameter or\n",
        "   2. returns a function.\n",
        "\n",
        "For instance, we are going to define a function that receives as parameters:\n",
        "* The function, $f$, to be applied to.\n",
        "* The list of elements, alist\n",
        "\n",
        "and returns, a list of the values after applying $f$ to each of the elements in alist. \n",
        "\n",
        "In this case, the example will return the square of the elements of the list.\n",
        "\n",
        "* Input: $f$ my own function to calculate the square of a number, and the list [1,2,3].\n",
        "* Output:\n",
        "\n",
        "\n",
        "```\n",
        "[1, 4, 9]\n",
        "```\n",
        "\n",
        "* Modify the program to make a function that adds 2 to each of the elements of the list.\n",
        "\n",
        "  * Output: `[3, 4, 5]`\n"
      ]
    },
    {
      "cell_type": "code",
      "metadata": {
        "id": "p-FtXkVA5saV",
        "colab_type": "code",
        "outputId": "17c66a22-6001-44f8-e089-5692b4d5ed46",
        "colab": {
          "base_uri": "https://localhost:8080/",
          "height": 51
        }
      },
      "source": [
        "#We define a function that takes as a parameter a function f and a list, a list, \n",
        "#then applies the function f to any element in the list.\n",
        "def apply_f_to_list(f, alist):\n",
        "  results = []\n",
        "  for v in alist:\n",
        "    value = f(v)\n",
        "    results.append(value)\n",
        "  return results\n",
        "\n",
        "def my_square(n):\n",
        "  return n**2\n",
        "\n",
        "def add_2(n):\n",
        "  return n+2\n",
        "\n",
        "if __name__==\"__main__\":\n",
        "  values = [1,2,3]\n",
        "  results = apply_f_to_list(my_square,values)\n",
        "  print(results)\n",
        "  results = apply_f_to_list(add_2,values)\n",
        "  print(results)"
      ],
      "execution_count": 0,
      "outputs": [
        {
          "output_type": "stream",
          "text": [
            "[1, 4, 9]\n",
            "[3, 4, 5]\n"
          ],
          "name": "stdout"
        }
      ]
    },
    {
      "cell_type": "markdown",
      "metadata": {
        "id": "6ebyRJjV8m_m",
        "colab_type": "text"
      },
      "source": [
        "2. **Lambda functions**. A **lambda function** is an anonymous function declared online.\n",
        "* A lambda function can take any number of arguments.\n",
        "* A lambda function can only return one expression.\n",
        "* A lambda function is a Python function, so anything regarding parameters, annotations, etc. are applicable to lambda functions.\n",
        "\n",
        "The theory behind lambda functions comes from the \"[Lambda Calculus](https://en.wikipedia.org/wiki/Lambda_calculus)\".\n",
        "\n",
        "According to the [official documentation](https://docs.python.org/3/reference/expressions.html#grammar-token-lambda-expr), the Lambda functions follow the next grammar:\n",
        "\n",
        ">lambda_expr        ::=  \"lambda\" [parameter_list] \":\" expression\n",
        ">lambda_expr_nocond ::=  \"lambda\" [parameter_list] \":\" expression_nocond\n",
        "\n",
        "\n",
        "Lambda expressions (sometimes called lambda forms) are used to create anonymous functions. The expression lambda parameters: expression yields a function object. The unnamed object behaves like a function object defined with:\n",
        "\n",
        ">def <lambda>(parameters):\n",
        ">\n",
        ">  return expression\n",
        "\n",
        "\n",
        "Lambda functions are mainly used in the following scenarios:\n",
        "* Simple functions that we want to apply inline and we do not plan to reuse.\n",
        "\n",
        "Lambda functions also come with some drawbacks:\n",
        "* Syntax can be complex, it is not so intuitive as a regular function.\n",
        "* Readability and understandability of the source code become complex.\n",
        "* Need of thinking in a functional way (not intuitive when coming from imperative program.\n",
        "\n",
        "In the Python PEP8 document recommends the following:\n",
        "\n",
        "\n",
        "\n",
        ">Always use a def statement instead of an assignment statement that binds a lambda expression directly to an identifier.\n",
        ">\n",
        ">Yes:\n",
        ">\n",
        ">`def f(x): return 2*x`\n",
        ">\n",
        ">No:\n",
        ">\n",
        ">`f = lambda x: 2*x`\n",
        ">\n",
        ">The first form means that the name of the resulting function object is specifically 'f' instead of the generic '<lambda>'. This is more useful for tracebacks and string representations in general. The use of the assignment statement eliminates the sole benefit a lambda expression can offer over an explicit def statement (i.e. that it can be embedded inside a larger expression).\n",
        "\n",
        "**However, Lambda functions are elegant to solve specific problems and parametrize some expressions in functional programming.**\n",
        "\n",
        "\n",
        "Learn more: https://www.python.org/dev/peps/pep-0008/"
      ]
    },
    {
      "cell_type": "code",
      "metadata": {
        "id": "XPS9uX4lCTln",
        "colab_type": "code",
        "colab": {}
      },
      "source": [
        "(lambda x, y: x + y)(2, 3)"
      ],
      "execution_count": 0,
      "outputs": []
    },
    {
      "cell_type": "code",
      "metadata": {
        "id": "85r0zvpuElWx",
        "colab_type": "code",
        "colab": {}
      },
      "source": [
        "#We can assign the lambda function to a variable that will become a variable of type function.\n",
        "f_add_two_numbers = (lambda x, y: x + y)\n",
        "print(type(f_add_two_numbers))\n",
        "result = f_add_two_numbers(2,3)\n",
        "print(result)"
      ],
      "execution_count": 0,
      "outputs": []
    },
    {
      "cell_type": "code",
      "metadata": {
        "id": "Jec3A__vIY4O",
        "colab_type": "code",
        "colab": {}
      },
      "source": [
        "values = [1,2,3]\n",
        "#Let's make the function squares inline with a lambda expression\n",
        "results = apply_f_to_list(lambda x: x**2 ,values)\n",
        "print(results)"
      ],
      "execution_count": 0,
      "outputs": []
    },
    {
      "cell_type": "markdown",
      "metadata": {
        "id": "Gyctx8Ye5VPv",
        "colab_type": "text"
      },
      "source": [
        "3. **Functional programming in Python**.\n",
        "\n",
        "* `map`. Given a function, $f$, and a sequence, $S$, it returns a new iterator, $f(S)$, where each element in $f(S)$ is the result of applying the function $f$ to each element in $S$.\n",
        "* `reduce`. Given an operator, $p$, and a sequence, $S$, it returns a value, $v$, after aggregating the items in $S$ using the operator $p$.\n",
        "* `filter`. Given a filter function, $filter$, and a sequence, $S$, it returns a new iterator, $filtered(S)$, where each element in $filtered(S)$ meets the conditions established in the filter $filter$.\n",
        "* `zip`. *The zip() function returns a zip object, which is an iterator of tuples where the first item in each passed iterator is paired together, and then the second item in each passed iterator are paired together etc.* (source: [W3C Schools](https://www.w3schools.com/python/ref_func_zip.asp))"
      ]
    },
    {
      "cell_type": "code",
      "metadata": {
        "id": "Tnp6NPTfI8_r",
        "colab_type": "code",
        "colab": {}
      },
      "source": [
        "#Applying a function through the map\n",
        "values = [1,2,3]\n",
        "squared_values = [x for x in map(lambda x: x**2, values)]\n",
        "print(squared_values)\n"
      ],
      "execution_count": 0,
      "outputs": []
    },
    {
      "cell_type": "code",
      "metadata": {
        "id": "Z5cD6YhPhMc_",
        "colab_type": "code",
        "colab": {}
      },
      "source": [
        "import functools \n",
        "import itertools\n",
        "import operator\n",
        "#Aggregating values with reduce: sum of values\n",
        "values = [1,2,3]\n",
        "print (functools.reduce(lambda a,b : a+b, values)) \n",
        "\n",
        "#Get the max of a list\n",
        "print (functools.reduce(lambda a,b : a if a > b else b, values)) \n",
        "\n",
        "#Count words frequency\n",
        "words = [('grape', 2), ('grape', 3), ('apple', 5), ('apple', 1), ('banana', 2)]\n",
        "word_frequency = {key: sum(list([v[1] for v in group])) for key, group in itertools.groupby(words, operator.itemgetter(0))}\n",
        "print(word_frequency)"
      ],
      "execution_count": 0,
      "outputs": []
    },
    {
      "cell_type": "markdown",
      "metadata": {
        "id": "mWz_0Fu-Hc47",
        "colab_type": "text"
      },
      "source": [
        "##References\n",
        "\n",
        "* Interesting discussion about Lambda expressions: https://treyhunner.com/2018/09/stop-writing-lambda-expressions/\n",
        "* Functional programming in Python: https://docs.python.org/3/howto/functional.html\n",
        "* The Zip function: https://realpython.com/python-zip-function/"
      ]
    }
  ]
}