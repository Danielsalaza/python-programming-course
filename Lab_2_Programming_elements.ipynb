{
  "nbformat": 4,
  "nbformat_minor": 0,
  "metadata": {
    "colab": {
      "name": "Lab-2-Programming elements",
      "provenance": [],
      "collapsed_sections": [
        "e8G-jN1TH182",
        "QRLp07N3IZyB"
      ],
      "authorship_tag": "ABX9TyOq6MQ9XlVJ344jZOpK8POB",
      "include_colab_link": true
    },
    "kernelspec": {
      "name": "python3",
      "display_name": "Python 3"
    }
  },
  "cells": [
    {
      "cell_type": "markdown",
      "metadata": {
        "id": "view-in-github",
        "colab_type": "text"
      },
      "source": [
        "<a href=\"https://colab.research.google.com/github/chemaar/python-programming-course/blob/master/Lab_2_Programming_elements.ipynb\" target=\"_parent\"><img src=\"https://colab.research.google.com/assets/colab-badge.svg\" alt=\"Open In Colab\"/></a>"
      ]
    },
    {
      "cell_type": "markdown",
      "metadata": {
        "id": "08ADk7tgHvga",
        "colab_type": "text"
      },
      "source": [
        "# Lab 2: Setting up the environment and getting started with programming elements in Python\n",
        "\n",
        "In this first notebok, we will review some of the main Python programming elements. In order to have an official reference of the syntax and semantics of the language, please, always refer to the official documentation: [\"The Python Language Reference\"](https://docs.python.org/3/reference/index.html)."
      ]
    },
    {
      "cell_type": "markdown",
      "metadata": {
        "id": "k8wLFl_REPwe",
        "colab_type": "text"
      },
      "source": [
        "## 2.1 Setting up the environment"
      ]
    },
    {
      "cell_type": "markdown",
      "metadata": {
        "id": "H1khwYim4y6H",
        "colab_type": "text"
      },
      "source": [
        "Once we know the process of compiling and execution of a Python program (theoretically speaking), it is time to start coding simple programs and setting up our development environment. We need to configure the next things in our machine:\n",
        "*   A Python compiler and interpreter.\n",
        "*   An integrated development environment (IDE). This is **not completely necessary** since we could write source code in any text-processor such as Notepad++. However, an IDE eases the tasks of: project management, program coding (syntax highlighting, debugging, etc.) and program construction and execution.\n",
        "\n",
        "To prepare this environment, we have different options:\n",
        "\n",
        "1. **Manual Python local installation** (Python 3 + Spyder). Make an instalation of the Python compiler and interpreter (isolated). Afterwards, we download and installed an IDE like Spyder or Pycharm. \n",
        "  * To do so, we have select our platform and the last version of the Python [distribution in the official web page](https://www.python.org/downloads/).\n",
        "     * [Spyder](https://www.spyder-ide.org/) or \n",
        "     * [PyCharm](https://www.jetbrains.com/es-es/pycharm/).\n",
        "  * To check the installation, we can open a console a type \"python\".\n",
        "  * If we need to install extra packages, we can use the [pip](https://pypi.org/project/pip/) (Python Package Index) utility as a command line tool (here, it is showed the Python interpreter within Anaconda).\n",
        "\n",
        "![Python console](https://github.com/chemaar/python-programming-course/raw/master/imgs/pyton-console.png)\n",
        ">*Figure: Python running from the console.*\n",
        "\n",
        "2. **Managed Python installation** (Anaconda, recommended). Anaconda is a meta-manager of Python tools that already includes the Python interpreter, the IDE, etc. You can download Anaconda from [here](https://www.anaconda.com/distribution/), depending on your machine (~700MB). \n",
        "  * We can prepare an isolated `conda` environment (by default we have the base environment) for our work and, thus, it is possible to m[anage all dependencies we have](https://docs.conda.io/projects/conda/en/latest/user-guide/tasks/manage-environments.html). To do so, we have to open the Anaconda console (it is also possible through the Anaconda graphical user interface).\n",
        "\n",
        "> ```\n",
        " conda create --name ProgrammingCourse\n",
        "conda activate ProgrammingCourse\n",
        "```\n",
        "\n",
        "![Conda create environment](https://github.com/chemaar/python-programming-course/raw/master/imgs/conda-create.png)\n",
        "\n",
        ">*Figure: Anaconda console and commands to create a new environment.*\n",
        "\n",
        "In this manner, we can already run from the console any Python program through the interpreter executing one of the following commands:\n",
        "\n",
        "> ```\n",
        "python #to open the interpreter, Ctrl+d to exit\n",
        "python file.py #to run a script\n",
        "```\n",
        "\n",
        "![Conda Navigator](https://github.com/chemaar/python-programming-course/raw/master/imgs/anaconda-navigator.png)\n",
        "\n",
        ">*Figure: Anaconda navigator.*\n",
        "\n",
        "Even better, we can now launch the Anaconda Navigator, select and launch Spyder and we have everything ready to code with an IDE (the first time, it will take sometime to configure the environment). It is important to remark that inside Spyder we have as interpreter IPython (Interactive Python), an enhanced version of the Python interpreter.\n",
        "\n",
        "![Spyder](https://github.com/chemaar/python-programming-course/raw/master/imgs/spyder-gui.png)\n",
        "\n",
        ">*Figure: Spyder IDE.*\n",
        "\n",
        "and now, **we are ready to code!**\n",
        "\n",
        "\n"
      ]
    },
    {
      "cell_type": "markdown",
      "metadata": {
        "id": "e8G-jN1TH182",
        "colab_type": "text"
      },
      "source": [
        "## 2.2 Python: elements of a programming language\n",
        "\n",
        "As we have been introduced in the theory, we recall here the basic elements of a programming language to build programs.\n",
        "\n"
      ]
    },
    {
      "cell_type": "markdown",
      "metadata": {
        "id": "yeLhwOIecC_S",
        "colab_type": "text"
      },
      "source": [
        "* **Identifiers**. It is a name given to an element of the programming language such as a constant, variable, function, function parameter, etc.\n",
        "\n"
      ]
    },
    {
      "cell_type": "markdown",
      "metadata": {
        "id": "71wBGbd7Y-ip",
        "colab_type": "text"
      },
      "source": [
        "* **Constants**. It is an **identifier** to access a memory area (reference) in which we will store a value that **will NOT change** during the execution of the program.\n"
      ]
    },
    {
      "cell_type": "markdown",
      "metadata": {
        "id": "y8GgFg3SZamS",
        "colab_type": "text"
      },
      "source": [
        "* **Variables**. It is an identifier to access a memory area (reference) in which we will store a value that **will change** during the execution of the program."
      ]
    },
    {
      "cell_type": "markdown",
      "metadata": {
        "id": "P6uYWif1hK_L",
        "colab_type": "text"
      },
      "source": [
        "* **Statements**. A statement is a grammatically correct sentence."
      ]
    },
    {
      "cell_type": "markdown",
      "metadata": {
        "id": "QuzYTtz3xZ6R",
        "colab_type": "text"
      },
      "source": [
        "* **Datatypes**. A datatype indicates the type of content that is stored in some variable and, by extension, the size that must be allocated in the memory."
      ]
    },
    {
      "cell_type": "code",
      "metadata": {
        "id": "04rOKmcgcpr8",
        "colab_type": "code",
        "colab": {}
      },
      "source": [
        "a = 2\n",
        "#A datatype is integer\n",
        "print(type(a))\n",
        "#...now we assign another value, with type string\n",
        "a = \"hello\"\n",
        "print(type(a))"
      ],
      "execution_count": 0,
      "outputs": []
    },
    {
      "cell_type": "markdown",
      "metadata": {
        "id": "dGLjJ4rXdtba",
        "colab_type": "text"
      },
      "source": [
        "List of simple datatypes:\n",
        "  1. **Integer**. In Python, there is no limit to size of an integer (only memory restrictions). \n",
        "    * Any sequence of numbers (without any prefix) is a decimal number.\n",
        "\n",
        "| Prefix        | Number System | Example |\n",
        "| ------------- |:-------------:|:-------------:|\n",
        "| 0b / 0B    | Binary |7 |\n",
        "| 0o / 0O     | Octal      |   0o7 |\n",
        "| 0x / 0x   | Hexadecimal      |  0x7 | \n",
        "\n",
        "\n",
        "\n"
      ]
    },
    {
      "cell_type": "code",
      "metadata": {
        "id": "EyQiltTMh3dS",
        "colab_type": "code",
        "colab": {}
      },
      "source": [
        "decimal_number = 7\n",
        "binary_number = 0b111\n",
        "octal_number = 0o7\n",
        "hex_number = 0x7\n",
        "print(hex_number)"
      ],
      "execution_count": 0,
      "outputs": []
    },
    {
      "cell_type": "markdown",
      "metadata": {
        "id": "T4ynO1iGh2he",
        "colab_type": "text"
      },
      "source": [
        "2. **Float**. To manage real numbers, Python offers a builtin datatype: float. A float value is specified with a decimal point. Additionally,  the character e or E followed by a positive or negative number (exponent). Python float values are represented following the standard IEEE 754 double precision. \n",
        "  * **Representation error** *refers to the fact that some (most, actually) decimal fractions cannot be represented exactly as binary (base 2) fractions. This is the chief reason why Python (or Perl, C, C++, Java, Fortran, and many others) often won’t display the exact decimal number you expect*. [Learn more](https://docs.python.org/3/tutorial/floatingpoint.html).\n",
        "\n"
      ]
    },
    {
      "cell_type": "code",
      "metadata": {
        "id": "HZpeV5sP_o1K",
        "colab_type": "code",
        "colab": {}
      },
      "source": [
        "a = 1.3\n",
        "distance_to_sun = 1.496e11\n",
        "print(a)\n",
        "print(distance_to_sun)\n",
        "#We can format the display of float numbers"
      ],
      "execution_count": 0,
      "outputs": []
    },
    {
      "cell_type": "markdown",
      "metadata": {
        "id": "tkICrlMi_noV",
        "colab_type": "text"
      },
      "source": [
        "3. **Complex Number**. This is a specific datatype to represent complex numbers in the format `<real part>+<imaginary part>j`. \n"
      ]
    },
    {
      "cell_type": "code",
      "metadata": {
        "id": "Bz5JKdNfAo9x",
        "colab_type": "code",
        "colab": {}
      },
      "source": [
        "my_complex_number = 2 + 3j\n",
        "print(type(my_complex_number))"
      ],
      "execution_count": 0,
      "outputs": []
    },
    {
      "cell_type": "markdown",
      "metadata": {
        "id": "cmYtaGFDAmKn",
        "colab_type": "text"
      },
      "source": [
        "4. **Boolean**. A boolean datatype corresponds to variables that can store two types of values: **True** or **False**."
      ]
    },
    {
      "cell_type": "code",
      "metadata": {
        "id": "94vn9l2ZBHh6",
        "colab_type": "code",
        "colab": {}
      },
      "source": [
        "a = True\n",
        "b = False\n",
        "print(type(a))\n",
        "print(type(b))"
      ],
      "execution_count": 0,
      "outputs": []
    },
    {
      "cell_type": "markdown",
      "metadata": {
        "id": "GnAyHdDMxdtf",
        "colab_type": "text"
      },
      "source": [
        "* **Operators**. An operator is a symbol that serves us to build expressions combining different operands.\n"
      ]
    },
    {
      "cell_type": "markdown",
      "metadata": {
        "id": "hQB3LRDIBYVb",
        "colab_type": "text"
      },
      "source": [
        "1. **Arithmetic  operators**."
      ]
    },
    {
      "cell_type": "code",
      "metadata": {
        "id": "5cY8unAiC69Z",
        "colab_type": "code",
        "colab": {}
      },
      "source": [
        "#Try to find out the result of this operations\n",
        "a = 8\n",
        "b = 5\n",
        "print(a+b) \n",
        "print(a-b) \n",
        "print(a*b) \n",
        "print(a/b) \n",
        "print(a//b)\n",
        "print(a%b) \n",
        "print(a**b) "
      ],
      "execution_count": 0,
      "outputs": []
    },
    {
      "cell_type": "markdown",
      "metadata": {
        "colab_type": "text",
        "id": "21bcWC2xDpym"
      },
      "source": [
        "2. **Comparison operators**. These are operators that perform a comparison returning a boolean value (True or False).\n"
      ]
    },
    {
      "cell_type": "code",
      "metadata": {
        "id": "ZzedHjmNEaOU",
        "colab_type": "code",
        "colab": {}
      },
      "source": [
        "#Try to find out the result of the next evaluations\n",
        "a = 3\n",
        "b = 5\n",
        "print (a==b)\n",
        "print (a!=b)\n",
        "print (a > b)\n",
        "print (a < b)\n",
        "print (a >= b-2)\n",
        "print (a <= b)"
      ],
      "execution_count": 0,
      "outputs": []
    },
    {
      "cell_type": "markdown",
      "metadata": {
        "id": "PefO53qoJR5y",
        "colab_type": "text"
      },
      "source": [
        "\n",
        "\n",
        "> It is possible to evaluate some expressions that are not boolean, as boolean values. Python has a perfectly defined strategy to evaluate as **FALSE** the following situations.\n",
        "> \n",
        "\n",
        "*   The value `False`.\n",
        "*   Any numerical value that is zero (0, 0.0, 0.0+0.0j).\n",
        "*   An empty string.\n",
        "*   An instance of built-in composite datatype (such as list) which is empty.\n",
        "*   The value `None`.\n"
      ]
    },
    {
      "cell_type": "code",
      "metadata": {
        "id": "jhQGdcxcJ4B_",
        "colab_type": "code",
        "colab": {}
      },
      "source": [
        "print(bool(False))\n",
        "print (bool(0))\n",
        "print (bool(3))\n",
        "print (bool(\"\"))\n",
        "print (bool(\"non empty\"))\n",
        "print (bool([])) #An empty list\n",
        "print (bool([1])) #A list with the value 1\n",
        "print (bool(None))"
      ],
      "execution_count": 0,
      "outputs": []
    },
    {
      "cell_type": "markdown",
      "metadata": {
        "id": "EDy9cA02EwKt",
        "colab_type": "text"
      },
      "source": [
        "> **In the case of comparing floating numbers, we need to be specially careful because of the representation error.**\n",
        "\n"
      ]
    },
    {
      "cell_type": "code",
      "metadata": {
        "id": "yhr6IBA9E6hC",
        "colab_type": "code",
        "colab": {}
      },
      "source": [
        "r = 2.1 + 3.2\n",
        "print(r == 5.3)\n",
        "#Another way to compare float values is to consider some tolerance\n",
        "print(abs(r - 5.3) < 0.0000001)"
      ],
      "execution_count": 0,
      "outputs": []
    },
    {
      "cell_type": "markdown",
      "metadata": {
        "id": "e00Er-gKFvSH",
        "colab_type": "text"
      },
      "source": [
        "3. **Logical operators**. These operators serve us to compose logical expressions (make conditions). It is important to know the truth tables of each operator."
      ]
    },
    {
      "cell_type": "code",
      "metadata": {
        "id": "oysC7K7DGSjf",
        "colab_type": "code",
        "colab": {}
      },
      "source": [
        "#Try to find out the result of the next evaluations\n",
        "a = 2\n",
        "b = 3\n",
        "result = (a > 2) and (b == 3)\n",
        "print(result)\n",
        "result = (a >= 2) or (b > 5)\n",
        "print (result)\n",
        "print (not(True))\n",
        "print (not(False))\n",
        "print (not(a==2))"
      ],
      "execution_count": 0,
      "outputs": []
    },
    {
      "cell_type": "markdown",
      "metadata": {
        "id": "zkXfOh45JBwE",
        "colab_type": "text"
      },
      "source": [
        "\n",
        "\n",
        "> **The evaluation of a logical AND is short-circuited (once an operand is false, the interpreter will NOT continue evaluating the rest of operands.**\n",
        "\n"
      ]
    },
    {
      "cell_type": "markdown",
      "metadata": {
        "id": "UXqKeUn9KfYB",
        "colab_type": "text"
      },
      "source": [
        "\n",
        "> Other interesting Python feature are **chained comparisons** in which we can express natural comparisons that are more complex.\n",
        "\n"
      ]
    },
    {
      "cell_type": "code",
      "metadata": {
        "id": "NZNJnJ4XK1KP",
        "colab_type": "code",
        "colab": {}
      },
      "source": [
        "a = 2\n",
        "b = 3\n",
        "c = 8\n",
        "a < b <= c\n",
        "#This is similar to\n",
        "a < b and b <= c"
      ],
      "execution_count": 0,
      "outputs": []
    },
    {
      "cell_type": "markdown",
      "metadata": {
        "id": "XxavLvL2LK5k",
        "colab_type": "text"
      },
      "source": [
        "4. **Bitwise operators**. They manage operands as sequences of binary digits operating them bit by bit. "
      ]
    },
    {
      "cell_type": "code",
      "metadata": {
        "id": "0hJNyBN2LPLU",
        "colab_type": "code",
        "colab": {}
      },
      "source": [
        "a = 0b100 \n",
        "b = 0b110\n",
        "#We make an special format to print binary numbers\n",
        "print ('a = 0b{:03b}'.format(a))\n",
        "print ('b = 0b{:03b}'.format(b))\n",
        "print ('a & b = 0b{:03b}'.format(a & b))\n",
        "print ('a | b = 0b{:03b}'.format(a | b))\n",
        "print ('not a = 0b{:03b}'.format(~a))\n",
        "print ('a xor b = 0b{:03b}'.format(a ^ b))\n",
        "print ('a >> 2  = 0b{:03b}'.format(a >> 2))\n",
        "print ('a << 2  = 0b{:03b}'.format(a << 2))"
      ],
      "execution_count": 0,
      "outputs": []
    },
    {
      "cell_type": "markdown",
      "metadata": {
        "id": "mGcDRGUFLXfM",
        "colab_type": "text"
      },
      "source": [
        "5. **Identity Operators.** `is` and `id` that determine whether the given operands have the same identity—that is, refer to the same object. This is not the same thing as equality, which means the two operands refer to objects that contain the same data but are not necessarily the same object"
      ]
    },
    {
      "cell_type": "code",
      "metadata": {
        "id": "Zf3tbBEtLgKX",
        "colab_type": "code",
        "colab": {}
      },
      "source": [
        "x = 300 #If we put a number <= 256, everything will be true. This is a kind of internal behavior.\n",
        "y = x - 1 + 1\n",
        "print (x == y)\n",
        "print (x is 300) #WARNING! We should not use is to compare integer values\n",
        "#print (id(x)) #Test in the Python console\n",
        "#print (id(y)) #Test in the Python console"
      ],
      "execution_count": 0,
      "outputs": []
    },
    {
      "cell_type": "markdown",
      "metadata": {
        "id": "18SRaNnRMujv",
        "colab_type": "text"
      },
      "source": [
        "* **Operator precedence**. When performing operations on expressions with operands and operators, it is necessary to know the operator precedence to properly calculate the value. The precedence and order of evaluation in **Python is similar to other languages: from the highest to lowest precedence and from the left to the right**.\n",
        "\n",
        "\n"
      ]
    },
    {
      "cell_type": "code",
      "metadata": {
        "id": "b7um3gRkLz6q",
        "colab_type": "code",
        "colab": {}
      },
      "source": [
        "a = 2*3+1 #Which is the value of a? 7 or8?\n",
        "print(a)\n",
        "a = (2*3)+1\n",
        "print(a)\n",
        "a = 2* (3+1)\n",
        "print (a)\n",
        "a = 2*3**2+1 #19? 37?\n",
        "print(a)\n",
        "a = 2*(3**2)+1\n",
        "print (a)\n",
        "a = (2*3)**2+1\n",
        "print(a)"
      ],
      "execution_count": 0,
      "outputs": []
    },
    {
      "cell_type": "markdown",
      "metadata": {
        "id": "CdIvBYWvxgS3",
        "colab_type": "text"
      },
      "source": [
        "* **Keywords**. They are identifiers used as reserved words, or keywords of the language, and cannot be used as ordinary identifiers. \n",
        "\n"
      ]
    },
    {
      "cell_type": "code",
      "metadata": {
        "id": "f06nLLUbf2TX",
        "colab_type": "code",
        "colab": {}
      },
      "source": [
        "#We can list the keywords, asking to the Python interpreter\n",
        "import keyword\n",
        "keyword.kwlist"
      ],
      "execution_count": 0,
      "outputs": []
    },
    {
      "cell_type": "markdown",
      "metadata": {
        "id": "MSNoymMLxjwi",
        "colab_type": "text"
      },
      "source": [
        "* **Comments**. A comment starts with a hash character (#) that is not part of a string literal, and ends at the end of the physical line. \n",
        "\n",
        "\n",
        "```\n",
        "# This is formatted as code\n",
        "```\n",
        "\n"
      ]
    },
    {
      "cell_type": "markdown",
      "metadata": {
        "id": "CqJqIgQqyVsH",
        "colab_type": "text"
      },
      "source": [
        " * **Documentation**. To write with documentation strings (a.k.a. \"docstrings\"), you may visit PEP 257.\n",
        "\n"
      ]
    },
    {
      "cell_type": "code",
      "metadata": {
        "id": "5o0oSSOUyfXj",
        "colab_type": "code",
        "colab": {}
      },
      "source": [
        "\"\"\"\n",
        "This is a documentation string.\n",
        "\"\"\""
      ],
      "execution_count": 0,
      "outputs": []
    },
    {
      "cell_type": "markdown",
      "metadata": {
        "id": "Hfl_tINXe9MK",
        "colab_type": "text"
      },
      "source": [
        "* **Builtin-functions**. The Python interpreter has a number of functions and types built into it that are always available. ([See more](https://docs.python.org/3/library/functions.html))"
      ]
    },
    {
      "cell_type": "code",
      "metadata": {
        "id": "edWb86f_fd4N",
        "colab_type": "code",
        "colab": {}
      },
      "source": [
        "#We can ask the Python interpreter which are the builtin-functions\n",
        "dir(__builtin__)"
      ],
      "execution_count": 0,
      "outputs": []
    },
    {
      "cell_type": "code",
      "metadata": {
        "id": "4kkUbdtNff0C",
        "colab_type": "code",
        "colab": {}
      },
      "source": [
        "#We can always know more about an element in Python, using the command help(element), it will display the documentation for that element\n",
        "help(int)"
      ],
      "execution_count": 0,
      "outputs": []
    },
    {
      "cell_type": "markdown",
      "metadata": {
        "id": "cydVngk3G_-g",
        "colab_type": "text"
      },
      "source": [
        "* **Delimiters**. These are symbols/tokens that serve as delimiters in the grammar.\n",
        "\n",
        "```\n",
        "(       )       [       ]       {       }\n",
        ",       :       .       ;       @       =       ->\n",
        "+=      -=      *=      /=      //=     %=      @=\n",
        "&=      |=      ^=      >>=     <<=     **=\n",
        "```\n",
        "\n"
      ]
    },
    {
      "cell_type": "markdown",
      "metadata": {
        "id": "QRLp07N3IZyB",
        "colab_type": "text"
      },
      "source": [
        "## 2.3 Writing Python code"
      ]
    },
    {
      "cell_type": "markdown",
      "metadata": {
        "id": "9YeBrENPyp-y",
        "colab_type": "text"
      },
      "source": [
        "### The entry point: the `main` function\n",
        "\n",
        "In Python, this is the `main` function. To define, the main function, we declare the next statement:\n",
        "\n",
        "```\n",
        "#Other elements some imports and functions\n",
        "\n",
        "if __name__==\"__main__\"_\n",
        "  #sententences\n",
        "```\n",
        "\n",
        "In general, a Python program will have the next structure:\n",
        "\n",
        "```\n",
        "# Documentation\n",
        "\n",
        "#import sections: see the next section\n",
        "\n",
        "#function definitions\n",
        "\n",
        "#main function\n",
        "\n",
        "if __name__==\"__main__\"_\n",
        "  #sententences\n",
        "\n",
        "```\n",
        "\n"
      ]
    },
    {
      "cell_type": "markdown",
      "metadata": {
        "id": "-mVFM93syrLZ",
        "colab_type": "text"
      },
      "source": [
        "### Code layout (PEP8)\n",
        "\n",
        "The following guidelines has been summarized from the PEP8 official document.\n",
        "\n",
        "* **Indentation**. Use 4 spaces per indentation level.\n",
        "* **Line size**. Limit all lines to a maximum of 79 characters.\n",
        "* **Long blocks**. For flowing long blocks of text with fewer structural restrictions (docstrings or comments), the line length should be limited to 72 characters.\n",
        "* Blocks\n",
        "```\n",
        "# Yes: easy to match operators with operands\n",
        "income = (gross_wages\n",
        "          + taxable_interest\n",
        "          + (dividends - qualified_dividends)\n",
        "          - ira_deduction\n",
        "          - student_loan_interest)\n",
        "```\n",
        "* **Blank Lines.** \n",
        "* **Encoding**. Code in the core Python distribution should always use UTF-8 (or ASCII in Python 2).\n",
        "* **Imports**. Imports should usually be on separate lines:\n",
        "  * Imports are always put at the top of the file, just after any module comments and docstrings, and before module globals and constants.\n",
        "  * Imports should be grouped in the following order:\n",
        "    1. Standard library imports.\n",
        "    2. Related third party imports.\n",
        "    3. Local application/library specific imports. You should put a blank line between each group of imports.\n",
        "  * Absolute imports are recommended, as they are usually more readable and tend to be better behaved (or at least give better error messages) if the import system is incorrectly configured (such as when a directory inside a package ends up on sys.path):\n",
        "\n"
      ]
    },
    {
      "cell_type": "code",
      "metadata": {
        "id": "scubbVS2zbtq",
        "colab_type": "code",
        "colab": {}
      },
      "source": [
        "\"\"\"This is the example module.\n",
        "\n",
        "This module does stuff.\n",
        "\"\"\"\n",
        "\n",
        "__all__ = ['a', 'b', 'c']\n",
        "__version__ = '0.1'\n",
        "__author__ = 'Cardinal Biggles'\n"
      ],
      "execution_count": 0,
      "outputs": []
    },
    {
      "cell_type": "markdown",
      "metadata": {
        "id": "KJg8Z6W1jvrQ",
        "colab_type": "text"
      },
      "source": [
        "## 2.4 Exercises\n",
        "\n",
        "### Important read\n",
        "\n",
        "So far, we know the basic elements of programming to mainly build expressions that can be computed. In order to make the exercises, we will need the use of some functions, so you have to *make an act of faith* and just use them (mechanically) as it is indicated.\n",
        "\n",
        "*    string literal: it is a literal value enclosed between \" \" . We can concatenate string values with the operator +.\n",
        "*    `input(message)`: it prints out in the standard output the value of message (a string), asks the user to input some value and returns a string representation of the input.\n",
        "    * `input(\"What is your name?\")`\n",
        "    * `input (\"What is your age?\")`\n",
        "*   `print(element)`: it prints out in the standard output (the console) the string version of the element. In the case of integer numbers, we must first convert the number to string with the next function.\n",
        "  * `print(\"Hello\")`-->Hello\n",
        "  * `print (str(5))`-->5\n",
        "*   `str(element)`: returns a string representation of the argument passed as a parament. \n",
        "    * `str(5)`-->\"5\"\n",
        "    * `str(2+3)`-->\"5\"\n",
        "*   `len(element)`: returns the lenght of the element passed as an argument.\n",
        "     * *len(\"Hello\")-->5*\n",
        "*   `int(string_literal)`: tries to convert a string literal to an integer number. It can raise a conversion error.\n",
        "    * `age = int(input (\"What is your age?\"))`\n",
        "*   `float(string_literal)`: tries to convert a string literal to float number. It can raise a conversion error.\n",
        "    * `t = float(input (\"What is the outside temperature?\"))`\n"
      ]
    },
    {
      "cell_type": "markdown",
      "metadata": {
        "id": "T4pQ3te_Pb4V",
        "colab_type": "text"
      },
      "source": [
        "**Tip**\n",
        "\n",
        "We will make use of the function print. It has the following syntax:\n",
        "\n",
        "```\n",
        "print(*objects, sep=' ', end='\\n', file=sys.stdout, flush=False)\n",
        "```\n",
        "\n",
        "*   Objects to be printed using a separator and ending with \"enter\".\n",
        "*   The file in which objects are printed is the default output (console).\n",
        "*   We can use % to concatenate strings.\n",
        "\n",
        "We can format a bit the output as follows:\n",
        "\n",
        "* Creating a template in which the parameters are enclosed between `{}`: `print(\"Hello {} \".format(\"Paul\"))`\n",
        "* For floating numbers, establishing the number of digits in the integer (n) and decimal part (m): %n.mf\n",
        "  * `%[flags][width][.precision]type `\n",
        "* Learn more in this [tutorial](https://www.python-course.eu/python3_formatted_output.php).\n",
        "\n",
        "\n",
        "\n"
      ]
    },
    {
      "cell_type": "code",
      "metadata": {
        "id": "7tJZlOqoP_A0",
        "colab_type": "code",
        "colab": {}
      },
      "source": [
        "print(\"Hello {} \".format(\"Paul\"))\n",
        "print(\"Hello {}, you are {} years old.\".format(\"Paul\", 30))\n",
        "print (\"This is a float number {0:8.5f}\".format((1/3)))\n",
        "print (\"%.5f\" % (1/3))\n",
        "b = 1/3\n",
        "\n",
        "\n"
      ],
      "execution_count": 0,
      "outputs": []
    },
    {
      "cell_type": "markdown",
      "metadata": {
        "id": "44U1LEObS3jL",
        "colab_type": "text"
      },
      "source": [
        "### List of exercices"
      ]
    },
    {
      "cell_type": "markdown",
      "metadata": {
        "id": "Zu4yD-Oe0tDV",
        "colab_type": "text"
      },
      "source": [
        "1. Write a program that declares a variable and assigns the value 10, then print out the value on the screen.\n",
        "\n",
        "* Input: 10\n",
        "* Expected output:\n",
        "\n",
        "\n",
        "```\n",
        "The value is: 10\n",
        "```\n",
        "\n"
      ]
    },
    {
      "cell_type": "code",
      "metadata": {
        "id": "fcvn2Zg202Kw",
        "colab_type": "code",
        "outputId": "6f4d51d1-3552-4213-ab63-4e280979c0bb",
        "colab": {
          "base_uri": "https://localhost:8080/",
          "height": 34
        }
      },
      "source": [
        "a = 10\n",
        "print(\"The value is: \"+str(a))"
      ],
      "execution_count": 1,
      "outputs": [
        {
          "output_type": "stream",
          "text": [
            "The value is: 10\n"
          ],
          "name": "stdout"
        }
      ]
    },
    {
      "cell_type": "markdown",
      "metadata": {
        "id": "chPjpTSh08ve",
        "colab_type": "text"
      },
      "source": [
        "2. Write a program that declares and adds two integer variables (2, 10), then print out the result on the screen.\n",
        "\n",
        "* Input: 2 and 10\n",
        "* Expected output:\n",
        "\n",
        "```\n",
        "The result is: 12\n",
        "```\n",
        "\n"
      ]
    },
    {
      "cell_type": "code",
      "metadata": {
        "id": "VkvoWKAt1GOw",
        "colab_type": "code",
        "colab": {}
      },
      "source": [
        "a = 2\n",
        "b = 10\n",
        "result = a + b\n",
        "print(\"The result is: \"+str(result))"
      ],
      "execution_count": 0,
      "outputs": []
    },
    {
      "cell_type": "markdown",
      "metadata": {
        "id": "yFFQ-1y41Wow",
        "colab_type": "text"
      },
      "source": [
        "3. Write a program that declares and multiplies two integer variables (4, 15), then print out the result on the screen.\n",
        "\n",
        "\n",
        "* Input: 4 and 15\n",
        "* Expected output:\n",
        "\n",
        "```\n",
        "The result is: 60\n",
        "```"
      ]
    },
    {
      "cell_type": "code",
      "metadata": {
        "id": "VTlOtlrl1eFS",
        "colab_type": "code",
        "colab": {}
      },
      "source": [
        "a = 4\n",
        "b = 15\n",
        "result = a * b\n",
        "print(\"The result is: \"+str(result))"
      ],
      "execution_count": 0,
      "outputs": []
    },
    {
      "cell_type": "markdown",
      "metadata": {
        "id": "WbKiBRUd1o3Y",
        "colab_type": "text"
      },
      "source": [
        "4. Write a program that asks the user to input an integer value, then print out the input value multiplied by 2.\n",
        "\n",
        "* Input: an integer number, 4\n",
        "* Expected output:\n",
        "\n",
        "```\n",
        "The result is: 8\n",
        "```"
      ]
    },
    {
      "cell_type": "code",
      "metadata": {
        "id": "QkuEUx7s1wq6",
        "colab_type": "code",
        "colab": {}
      },
      "source": [
        "value = int(input(\"Please, enter a number...\"))\n",
        "result = value * 2\n",
        "print(\"The result is: \"+str(result))"
      ],
      "execution_count": 0,
      "outputs": []
    },
    {
      "cell_type": "markdown",
      "metadata": {
        "id": "Ldlp1RWn2Dbs",
        "colab_type": "text"
      },
      "source": [
        "5. Check the type of different variables using the function ```type ```.\n",
        "\n",
        "* Input: \n",
        "\n",
        "\n",
        "```\n",
        "a = 2\n",
        "b = 3\n",
        "c = a\n",
        "char = 'a'\n",
        "string_value = \"hello\"\n",
        "bool_value = True\n",
        "float_value = 2.3\n",
        "```\n",
        "\n",
        "\n",
        "* Expected output:\n",
        "\n",
        "```\n",
        "<class 'int'>\n",
        "<class 'int'>\n",
        "<class 'int'>\n",
        "<class 'str'>\n",
        "<class 'str'>\n",
        "<class 'bool'>\n",
        "<class 'float'>\n",
        "```\n",
        "\n"
      ]
    },
    {
      "cell_type": "code",
      "metadata": {
        "id": "Zs8n-YTQ2Roa",
        "colab_type": "code",
        "colab": {}
      },
      "source": [
        "a = 2\n",
        "b = 3\n",
        "c = a\n",
        "char = 'a'\n",
        "string_value = \"hello\"\n",
        "bool_value = True\n",
        "float_value = 2.3\n",
        "print(type(a))\n",
        "print(type(b))\n",
        "print(type(c))\n",
        "print(type(char))\n",
        "print(type(string_value))\n",
        "print(type(bool_value))\n",
        "print(type(float_value))"
      ],
      "execution_count": 0,
      "outputs": []
    },
    {
      "cell_type": "markdown",
      "metadata": {
        "id": "BxfoyZww3Blf",
        "colab_type": "text"
      },
      "source": [
        "6. Write a program that asks your name and prints out \"Hello \" #name#\n",
        "\n",
        "* Input: Paul\n",
        "* Expected output:\n",
        "\n",
        "```\n",
        "Hello: Paul\n",
        "```"
      ]
    },
    {
      "cell_type": "code",
      "metadata": {
        "id": "7IcWxJTf3Lxq",
        "colab_type": "code",
        "colab": {}
      },
      "source": [
        "name = input(\"What is your name? \")\n",
        "print (\"Hello: \"+name)"
      ],
      "execution_count": 0,
      "outputs": []
    },
    {
      "cell_type": "markdown",
      "metadata": {
        "id": "VoQbFi_HXW7b",
        "colab_type": "text"
      },
      "source": [
        "7. Write a program that asks your name and prints out the length of the name.\n",
        "\n",
        "* Input: Paul\n",
        "* Expected output:\n",
        "\n",
        "```\n",
        "Your name: Paul has 4 characters.\n",
        "```"
      ]
    },
    {
      "cell_type": "code",
      "metadata": {
        "id": "ZOCHD5EaXdFT",
        "colab_type": "code",
        "colab": {}
      },
      "source": [
        "name = input(\"What is your name? \")\n",
        "l_name = len(name)\n",
        "print (\"Your name: \"+name+\" has \"+str(l_name)+\" characters.\")"
      ],
      "execution_count": 0,
      "outputs": []
    },
    {
      "cell_type": "markdown",
      "metadata": {
        "id": "MCrpZC0qXn0K",
        "colab_type": "text"
      },
      "source": [
        "8. Write a program that asks your age and prints out how many years are until 100.\n",
        "\n",
        "* Input: 25\n",
        "* Expected output:\n",
        "\n",
        "```\n",
        "Until 100 there are 75 years.\n",
        "```\n"
      ]
    },
    {
      "cell_type": "code",
      "metadata": {
        "id": "rGFlLVjaXtx1",
        "colab_type": "code",
        "colab": {}
      },
      "source": [
        "age = int(input(\"What is your age? \"))\n",
        "years_until_100 = 100-age\n",
        "print (\"Until 100 there are \"+str(years_until_100)+\" years.\")"
      ],
      "execution_count": 0,
      "outputs": []
    },
    {
      "cell_type": "markdown",
      "metadata": {
        "id": "b_YFiz_3YALy",
        "colab_type": "text"
      },
      "source": [
        "9. Write a program that asks the year of birth and prints out your age.\n",
        "\n",
        "* Input: 1983\n",
        "* Expected output:\n",
        "\n",
        "```\n",
        "You are 37 years old.\n",
        "```\n"
      ]
    },
    {
      "cell_type": "code",
      "metadata": {
        "id": "rb6YDVp-YGnk",
        "colab_type": "code",
        "colab": {}
      },
      "source": [
        "year_birth = int(input(\"Introduce the year of birth...\"))\n",
        "age = 2020-year_birth\n",
        "print (\"You are \"+str(age)+\" years old.\")"
      ],
      "execution_count": 0,
      "outputs": []
    },
    {
      "cell_type": "markdown",
      "metadata": {
        "id": "DziDS4acYTLB",
        "colab_type": "text"
      },
      "source": [
        "10. Write a program that asks the temperature in Kelvin degress and prints out the temperature in Celsius. \n",
        "$T(°C) = T(K) - 273.15$\n",
        "\n",
        "* Input: 300\n",
        "* Expected output:\n",
        "\n",
        "```\n",
        "The temperature in Celsius is: 26.850000000000023\n",
        "```\n"
      ]
    },
    {
      "cell_type": "code",
      "metadata": {
        "id": "lkTEBkJ2Yk5E",
        "colab_type": "code",
        "colab": {}
      },
      "source": [
        "t_kelvin = float(input(\"Introduce the temperature in Kelvin...\"))\n",
        "t_celsius = t_kelvin-273.15\n",
        "print (\"The temperature in Celsius is: \"+str(t_celsius))"
      ],
      "execution_count": 0,
      "outputs": []
    },
    {
      "cell_type": "markdown",
      "metadata": {
        "id": "gXE46tsiY61E",
        "colab_type": "text"
      },
      "source": [
        "11. Write a program that asks a number and prints True if the number is odd, and False otherwise.  \n",
        "\n",
        "* Input: 2020\n",
        "* Expected output:\n",
        "\n",
        "```\n",
        "The number 2020 is odd: True\n",
        "```\n",
        "\n",
        "* Input: 2019\n",
        "* Expected output:\n",
        "\n",
        "```\n",
        "The number 2019 is odd: False\n",
        "```\n"
      ]
    },
    {
      "cell_type": "code",
      "metadata": {
        "id": "xLwo-bB7ZKGK",
        "colab_type": "code",
        "colab": {}
      },
      "source": [
        "number = int(input(\"Introduce an integer number: \"))\n",
        "is_even = (number % 2 == 0)\n",
        "print(\"The number \"+str(number)+\" is odd: \"+str(is_even))"
      ],
      "execution_count": 0,
      "outputs": []
    },
    {
      "cell_type": "markdown",
      "metadata": {
        "id": "YrtCLTq1ZoDl",
        "colab_type": "text"
      },
      "source": [
        "12. Write a program that asks for a year and prints True if the year is a leap year, and False otherwise.  In the Gregorian calendar, a leap year follows these rules:\n",
        "\n",
        "* The year can be evenly divided by 4;\n",
        "* If the year can be evenly divided by 100, it is NOT a leap year, unless;\n",
        "* The year is also evenly divisible by 400. Then it is a leap year.\n",
        "\n",
        "* Input: 2020\n",
        "* Expected output:\n",
        "\n",
        "```\n",
        "The year 2020 is leap: True\n",
        "```\n",
        "\n",
        "* Input: 2019\n",
        "* Expected output:\n",
        "\n",
        "```\n",
        "The year 2019 is leap: False\n",
        "```\n"
      ]
    },
    {
      "cell_type": "code",
      "metadata": {
        "id": "1vFbd1UKZxp7",
        "colab_type": "code",
        "colab": {}
      },
      "source": [
        "year = int(input(\"Introduce a year: \"))\n",
        "is_leap_year = (year % 4 == 0)\n",
        "is_leap_year = is_leap_year and (year % 100 != 0)\n",
        "is_leap_year = is_leap_year or (year % 400 == 0)\n",
        "print(\"The year \"+str(year)+\" is leap: \"+str(is_leap_year))"
      ],
      "execution_count": 0,
      "outputs": []
    },
    {
      "cell_type": "markdown",
      "metadata": {
        "id": "_HfJwZJ_alOs",
        "colab_type": "text"
      },
      "source": [
        "13. Write a program calculates the area of a triangle.\n",
        "\n",
        "* Input: b = 2, h = 3\n",
        "* Expected output:\n",
        "\n",
        "```\n",
        "The area is: 3.0\n",
        "```\n"
      ]
    },
    {
      "cell_type": "code",
      "metadata": {
        "id": "zpWl56C3a243",
        "colab_type": "code",
        "colab": {}
      },
      "source": [
        "b = 2\n",
        "h = 3\n",
        "area = (b*h)/2\n",
        "\n",
        "print(\"The area is: \"+str(area))"
      ],
      "execution_count": 0,
      "outputs": []
    },
    {
      "cell_type": "markdown",
      "metadata": {
        "id": "KMI5AgTbblJ9",
        "colab_type": "text"
      },
      "source": [
        "\n",
        "\n",
        "```\n",
        "# This is formatted as code\n",
        "```\n",
        "\n",
        "14. Write a program to calculate the Euclidean distance between two points.\n",
        "\n",
        "* Use the function `math.sqrt(x)` to calculate the root square of a number.\n",
        "\n",
        "\n",
        "\n",
        "```\n",
        "Syntax: math.sqrt(x)\n",
        "\n",
        "Parameter: \n",
        "x is any number such that x>=0 \n",
        "\n",
        "Returns:\n",
        "It returns the square root of the number \n",
        "passed in the parameter. \n",
        "```\n",
        "\n",
        "* Input: (2.0, 3.0) (4.0, 5.0)\n",
        "* Expected output:\n",
        "\n",
        "```\n",
        "2.8284271247461903\n",
        "```\n",
        "\n",
        "\n",
        "\n",
        "\n",
        "\n"
      ]
    },
    {
      "cell_type": "code",
      "metadata": {
        "id": "mR-AAVxRbr5D",
        "colab_type": "code",
        "outputId": "e4d1dc7f-f9bb-4f11-8e70-55f1881bd6bd",
        "colab": {
          "base_uri": "https://localhost:8080/",
          "height": 34
        }
      },
      "source": [
        "\n",
        "x1 = 2.0\n",
        "y1 = 3.0\n",
        "x2 = 4.0\n",
        "y2 = 5.0\n",
        "distance = math.sqrt((x1-x2)**2 + (y1-y2)**2)\n",
        "distance"
      ],
      "execution_count": 0,
      "outputs": [
        {
          "output_type": "execute_result",
          "data": {
            "text/plain": [
              "2.8284271247461903"
            ]
          },
          "metadata": {
            "tags": []
          },
          "execution_count": 137
        }
      ]
    },
    {
      "cell_type": "markdown",
      "metadata": {
        "id": "4UsByYvmcdsJ",
        "colab_type": "text"
      },
      "source": [
        "15. Write a program that asks the temperature in Farenheit and prints out the temperature in Celsius. $T(C) = (T(F) - 32) * 5/9$\n",
        "\n",
        "* Input: 100\n",
        "* Expected output:\n",
        "\n",
        "```\n",
        "Temperature in Celsius is 37.77777777777778\n",
        "```\n",
        "\n",
        "\n"
      ]
    },
    {
      "cell_type": "code",
      "metadata": {
        "id": "ev8xOiBMcnxs",
        "colab_type": "code",
        "colab": {}
      },
      "source": [
        "t = float(input(\"Temperature: \"))\n",
        "t_celsius = ((t - 32)*5)/9;\n",
        "print(\"Temperature in Celsius is \" + str(t_celsius));"
      ],
      "execution_count": 0,
      "outputs": []
    },
    {
      "cell_type": "markdown",
      "metadata": {
        "id": "_4CpF-utc28U",
        "colab_type": "text"
      },
      "source": [
        "16. Write a program to swap the values of two variables.\n",
        "\n",
        "* Input: a = 2, b = 3\n",
        "* Expected output:\n",
        "\n",
        "```\n",
        "a = 3 b = 2\n",
        "```\n",
        "\n",
        "\n"
      ]
    },
    {
      "cell_type": "code",
      "metadata": {
        "id": "zQluzUFFc-UT",
        "colab_type": "code",
        "colab": {}
      },
      "source": [
        "a = 2\n",
        "b = 3\n",
        "print(\"a = \"+str(a)+\" b = \"+str(b))\n",
        "c = a\n",
        "a = b\n",
        "b = c\n",
        "print(\"a = \"+str(a)+\" b = \"+str(b))"
      ],
      "execution_count": 0,
      "outputs": []
    },
    {
      "cell_type": "markdown",
      "metadata": {
        "id": "yVI_jpdkdNUr",
        "colab_type": "text"
      },
      "source": [
        "17. Write a program to calculate the thermical sensation.\n",
        "\n",
        "$T_{s}=13,12+0,6215*T-11,37*V^{0,16}+0,3965*T*V^{0,16}$\n",
        "\n",
        "* Input: t = 10.0, v = 5.0\n",
        "* Expected output:\n",
        "\n",
        "```\n",
        "Temperature = 10.0\n",
        "Velocity = 5.0\n",
        "Thermal sensation  = 9.755115709161835\n",
        "```\n",
        "\n"
      ]
    },
    {
      "cell_type": "code",
      "metadata": {
        "id": "t3PrF-sAdM3P",
        "colab_type": "code",
        "colab": {}
      },
      "source": [
        "t = 10.0\n",
        "v = 5.0\n",
        "ts = 13.12 + 0.6215*t -(11.37*(v** 0.16))+(0.3965*t*(v**0.16))\n",
        "print(\"Temperature = \" + str(t))\n",
        "print(\"Velocity = \" + str(v))\n",
        "print(\"Thermal sensation  = \" + str(ts))"
      ],
      "execution_count": 0,
      "outputs": []
    },
    {
      "cell_type": "markdown",
      "metadata": {
        "id": "mz7avEy2eCWD",
        "colab_type": "text"
      },
      "source": [
        "18. Write a program to calculate the values r and theta required to transform cartesian coordinates to polar.\n",
        "\n",
        " * $r = \\sqrt( x2 + y2 )$\n",
        " * $\\theta = tan^{-1}(y/x)$\n",
        "\n",
        "* Input: x = 2, y = 3\n",
        "* Expected output:\n",
        "\n",
        "```\n",
        "r     = 3.605551275463989\n",
        "theta = 0.982793723247329\n",
        "```\n",
        "\n"
      ]
    },
    {
      "cell_type": "code",
      "metadata": {
        "id": "c8tntKGoeMvH",
        "colab_type": "code",
        "colab": {}
      },
      "source": [
        "x = 2.0\n",
        "y = 3.0\n",
        "r = math.sqrt(x*x + y*y)\n",
        "theta = math.atan2(y, x)\n",
        "print(\"r     = \" + str(r))\n",
        "print(\"theta = \" + str(theta))"
      ],
      "execution_count": 0,
      "outputs": []
    },
    {
      "cell_type": "markdown",
      "metadata": {
        "id": "MiheY1fl14BW",
        "colab_type": "text"
      },
      "source": [
        "19. Write a program that calculates the roots following the quadratic formula:\n",
        "\n",
        " * $x=\\frac{-b\\pm\\sqrt{b^2-4ac}}{2a}$.\n",
        " * Use the function `math.sqrt(x)`\n",
        "\n",
        "* Input: a = 4, b = 5, c = 1\n",
        "* Expected output:\n",
        "\n",
        "```\n",
        "The roots are:\n",
        "-0.25\n",
        "-1.0\n",
        "```"
      ]
    },
    {
      "cell_type": "code",
      "metadata": {
        "id": "cFgZv8YJ2jBg",
        "colab_type": "code",
        "colab": {}
      },
      "source": [
        "a = 4\n",
        "b = 5\n",
        "c = 1\n",
        "bac=b**2-4*a*c\n",
        "#This will not work if the roots are not real\n",
        "root_positive = (-b + math.sqrt(bac))/(2*a)\n",
        "root_negative = (-b - math.sqrt(bac))/(2*a)\n",
        "print(\"The roots are:\")\n",
        "print (str(root_positive))\n",
        "print (str(root_negative))"
      ],
      "execution_count": 0,
      "outputs": []
    },
    {
      "cell_type": "markdown",
      "metadata": {
        "id": "S-YJeu9y3zTL",
        "colab_type": "text"
      },
      "source": [
        "20. Write and check the difference between 1/3 and 1//3?"
      ]
    },
    {
      "cell_type": "code",
      "metadata": {
        "id": "EnxixU5d4Ces",
        "colab_type": "code",
        "outputId": "3a531df0-c980-4388-d9f8-e12e2ac7df84",
        "colab": {
          "base_uri": "https://localhost:8080/",
          "height": 34
        }
      },
      "source": [
        "1/3"
      ],
      "execution_count": 0,
      "outputs": [
        {
          "output_type": "execute_result",
          "data": {
            "text/plain": [
              "0.3333333333333333"
            ]
          },
          "metadata": {
            "tags": []
          },
          "execution_count": 143
        }
      ]
    },
    {
      "cell_type": "code",
      "metadata": {
        "id": "ig0z-gHi4DZE",
        "colab_type": "code",
        "outputId": "bf3abd00-ffa3-43a3-cc81-3a2dd499347c",
        "colab": {
          "base_uri": "https://localhost:8080/",
          "height": 34
        }
      },
      "source": [
        "1//3"
      ],
      "execution_count": 0,
      "outputs": [
        {
          "output_type": "execute_result",
          "data": {
            "text/plain": [
              "0"
            ]
          },
          "metadata": {
            "tags": []
          },
          "execution_count": 144
        }
      ]
    },
    {
      "cell_type": "markdown",
      "metadata": {
        "id": "42aa2PCE4LKD",
        "colab_type": "text"
      },
      "source": [
        "21. Write and check the result of comparing 5 == \"5\"."
      ]
    },
    {
      "cell_type": "code",
      "metadata": {
        "id": "3VyWhOPY4R2F",
        "colab_type": "code",
        "colab": {}
      },
      "source": [
        "5==\"5\""
      ],
      "execution_count": 0,
      "outputs": []
    },
    {
      "cell_type": "markdown",
      "metadata": {
        "id": "id01jp514gok",
        "colab_type": "text"
      },
      "source": [
        "22. A person drops a rock off of a cliff. The rock hits the ground after 20.0s. The acceleration due to gravity is g = 9.80 m/s2. What was the velocity of the rock the instant before hitting the ground?\n",
        "\n",
        "  * v = v0 + at\n",
        "\n",
        "* Input: data from the statement\n",
        "* Expected output:\n",
        "\n",
        "```\n",
        "Velocity: 196.0\n",
        "```"
      ]
    },
    {
      "cell_type": "code",
      "metadata": {
        "id": "nppfOZOR5EKR",
        "colab_type": "code",
        "colab": {}
      },
      "source": [
        "t = 20\n",
        "a = 9.8\n",
        "vi = 0\n",
        "vf = vi + a*t\n",
        "print(\"Velocity: \"+str(vf))"
      ],
      "execution_count": 0,
      "outputs": []
    },
    {
      "cell_type": "markdown",
      "metadata": {
        "id": "HPVvQE2n5zJe",
        "colab_type": "text"
      },
      "source": [
        "23. Write a program to test the **augmented assignment**. What is the result of the following program?"
      ]
    },
    {
      "cell_type": "code",
      "metadata": {
        "id": "DeFy42SA54pM",
        "colab_type": "code",
        "colab": {}
      },
      "source": [
        "a = 2\n",
        "a += 3\n",
        "print(a)\n",
        "a *= 2\n",
        "print(a)"
      ],
      "execution_count": 0,
      "outputs": []
    },
    {
      "cell_type": "markdown",
      "metadata": {
        "id": "XL0AGB-s7VCZ",
        "colab_type": "text"
      },
      "source": [
        "24. Write a program to calculate the area of a circle of radius r.\n",
        "  * Use the constant `math.pi`\n",
        "\n",
        "* Input: r = 3\n",
        "* Expected output:\n",
        "\n",
        "```\n",
        "28.274333882308138\n",
        "```"
      ]
    },
    {
      "cell_type": "code",
      "metadata": {
        "id": "XZOWF1ld7dfu",
        "colab_type": "code",
        "colab": {}
      },
      "source": [
        "r = 3\n",
        "area = math.pi * r**2\n",
        "print(area)"
      ],
      "execution_count": 0,
      "outputs": []
    },
    {
      "cell_type": "markdown",
      "metadata": {
        "id": "V_K3cq0p9Ibw",
        "colab_type": "text"
      },
      "source": [
        "25. Review and test the functions in the `math` module.\n",
        "* Check the next link: https://docs.python.org/3/library/math.html"
      ]
    },
    {
      "cell_type": "code",
      "metadata": {
        "id": "TGlZxTxh9QUE",
        "colab_type": "code",
        "colab": {}
      },
      "source": [
        "#Ask Python about the module\n",
        "dir(math)\n"
      ],
      "execution_count": 0,
      "outputs": []
    },
    {
      "cell_type": "code",
      "metadata": {
        "id": "9qcM5gcV9XKT",
        "colab_type": "code",
        "colab": {}
      },
      "source": [
        "help(math.sqrt)"
      ],
      "execution_count": 0,
      "outputs": []
    },
    {
      "cell_type": "markdown",
      "metadata": {
        "id": "5OQPfEDhIdJv",
        "colab_type": "text"
      },
      "source": [
        "## Relevant resources\n",
        "\n",
        "* [Python official grammar](https://docs.python.org/3/reference/grammar.html)\n",
        "* [PEP 8 Style Guide for Python Code](https://www.python.org/dev/peps/pep-0008/)\n",
        "* https://edabit.com/challenges/python3\n",
        "* https://exercism.io/tracks/python/exercises\n",
        "* https://www.practicepython.org/\n"
      ]
    }
  ]
}