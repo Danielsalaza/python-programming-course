{
  "nbformat": 4,
  "nbformat_minor": 0,
  "metadata": {
    "colab": {
      "name": "Lab_5b_Data_Structures_Tuples_Sets_Dictionaries.ipynb",
      "provenance": [],
      "collapsed_sections": [],
      "authorship_tag": "ABX9TyP6/LcSz1kOKnIUXO/QdJC5",
      "include_colab_link": true
    },
    "kernelspec": {
      "name": "python3",
      "display_name": "Python 3"
    }
  },
  "cells": [
    {
      "cell_type": "markdown",
      "metadata": {
        "id": "view-in-github",
        "colab_type": "text"
      },
      "source": [
        "<a href=\"https://colab.research.google.com/github/chemaar/python-programming-course/blob/master/Lab_5b_Data_Structures_Tuples_Sets_Dictionaries.ipynb\" target=\"_parent\"><img src=\"https://colab.research.google.com/assets/colab-badge.svg\" alt=\"Open In Colab\"/></a>"
      ]
    },
    {
      "cell_type": "markdown",
      "metadata": {
        "id": "l88YgeqXK38T",
        "colab_type": "text"
      },
      "source": [
        "# Lab 5b: Data structures: Tuples, Sets and Dictionaries\n",
        "\n",
        "In this notebook, we propose and solve some exercises about basic data structures implemented through Python lists (matrix), tuples, sets and dictionaries.\n",
        "\n",
        "* **In these exercises, we can always proceed solving the problems in a generic way or taking advantage of Python capabilities. As a recommendation, first, try the generic way (applicable to any programming language) and, then, using Python**\n",
        "\n",
        "* **As a good programming practice, our test cases should ensure that all branches of the code are executed at least once.**"
      ]
    },
    {
      "cell_type": "markdown",
      "metadata": {
        "id": "ZfRgZHNdLIuf",
        "colab_type": "text"
      },
      "source": [
        "## List of exercises"
      ]
    },
    {
      "cell_type": "markdown",
      "metadata": {
        "id": "wV7mERYcMlJ3",
        "colab_type": "text"
      },
      "source": [
        "1. Write a program  that a given a number $n \\in (0,10)$ creates and displays a square matrix initialized with all positions to 1 (identify matrix).\n",
        "* Input: 3\n",
        "* Expected output:\n",
        "\n",
        "```\n",
        "111\n",
        "111\n",
        "111\n",
        "```"
      ]
    },
    {
      "cell_type": "code",
      "metadata": {
        "id": "tcS5he3ca2eh",
        "colab_type": "code",
        "colab": {}
      },
      "source": [
        "matrix = []\n",
        "n = int(input(\"Introduce the value of n: \"))\n",
        "if n>0 and n<10:\n",
        "  for i in range(n):\n",
        "    row = []\n",
        "    for j in range (n):\n",
        "      row.append(1)\n",
        "    matrix.append(row)\n",
        "  #Manual display\n",
        "  for i in range(n):\n",
        "    for j in range(n):\n",
        "      print(matrix[i][j], end=\"\", sep=\",\")\n",
        "    print(\"\")\n",
        "#Pythonic version: comprehension lists\n",
        "matrix = [ [1 for i in range(n)] for j in range(n)]\n",
        "print(matrix)"
      ],
      "execution_count": 0,
      "outputs": []
    },
    {
      "cell_type": "markdown",
      "metadata": {
        "id": "L2X7MCRjKdMb",
        "colab_type": "text"
      },
      "source": [
        "2. Write a program  that given a matrix, displays whether is a square matrix.\n",
        "\n",
        "* Input: reuse the code before to create a matrix\n",
        "* Expected output:\n"
      ]
    },
    {
      "cell_type": "code",
      "metadata": {
        "id": "zEWJXX8bKq5y",
        "colab_type": "code",
        "colab": {
          "base_uri": "https://localhost:8080/",
          "height": 51
        },
        "outputId": "d046b85e-d66c-4d56-af3f-9fd3da0f7138"
      },
      "source": [
        "n = 3\n",
        "matrix = [ [1 for i in range(n)] for j in range(n)]\n",
        "is_square = True\n",
        "if matrix and len(matrix)>0:\n",
        "  n_rows = len(matrix)\n",
        "  n_cols = len(matrix[0]) #dimension\n",
        "  is_square = n_cols == n_rows\n",
        "  i = 1\n",
        "  while is_square and i<n_rows:\n",
        "    is_square = is_square and n_cols == len(matrix[i])\n",
        "    i = i + 1\n",
        "  print(\"The matrix is square: \", is_square)"
      ],
      "execution_count": 2,
      "outputs": [
        {
          "output_type": "stream",
          "text": [
            "[[1, 1, 1], [1, 1, 1], [1, 1, 1]]\n",
            "The matrix is square:  True\n"
          ],
          "name": "stdout"
        }
      ]
    },
    {
      "cell_type": "markdown",
      "metadata": {
        "id": "6O0-ZHPRj8rh",
        "colab_type": "text"
      },
      "source": [
        "3. Write a program  that a given a matrix ($n x m$) with random numbers between $(0,10)$, calculates and displays the transpose matrix.$t(j,i) = m(i,j)$\n",
        "\n",
        "* Input: n = 3, m = 2\n",
        "\n",
        "\n",
        "```\n",
        "[10, 0, 0]\n",
        "[5, 1, 0]\n",
        "```\n",
        "\n",
        "\n",
        "* Expected output:\n",
        "\n",
        "\n",
        "```\n",
        "[10, 5]\n",
        "[0, 1]\n",
        "[0, 0]\n",
        "```\n",
        "\n",
        "* Dependencies: To create the matrix with random numbers, we are going to introduce the library of random numbers in [Python](https://docs.python.org/3/library/random.html)."
      ]
    },
    {
      "cell_type": "code",
      "metadata": {
        "id": "37XXKEtcnMa4",
        "colab_type": "code",
        "colab": {}
      },
      "source": [
        "import random\n",
        "print(random.random()) # Random float x, 0.0 <= x < 1.0\n",
        "print(random.uniform(0, 10))  # Random float x, 0.0 <= x < 10.0\n",
        "print(random.randint(0, 10))  # Integer from 0 to 10, endpoints included\n",
        "print(random.randrange(0, 101, 2))  # Even integer from 0 to 100\n",
        "print(random.choice('AEIOU')) #Get a randomized element\n",
        "print(random.shuffle([1,2,3])) #Shuffle numbers of a list\n",
        "print(random.sample([1, 2, 3],  2))"
      ],
      "execution_count": 0,
      "outputs": []
    },
    {
      "cell_type": "code",
      "metadata": {
        "id": "JSPEsZEpmyrh",
        "colab_type": "code",
        "colab": {}
      },
      "source": [
        "#Create a matrix\n",
        "n = 3 #columns\n",
        "m = 2 #rows\n",
        "matrix = [ [random.randint(0, 10) for i in range(n)] for j in range(m)]\n",
        "print(matrix)\n",
        "print(\"Matrix\")\n",
        "for row in range(m):\n",
        "  print(matrix[row])\n",
        "\n",
        "#Transposing\n",
        "t_matrix = []\n",
        "for i in range(len(matrix[0])): #the new matrix has m rows \n",
        "  t_row = []\n",
        "  for j in range(len(matrix)): #and n columns\n",
        "    t_row.append(matrix[j][i])\n",
        "  t_matrix.append(t_row)\n",
        "\n",
        "print(\"Transposed matrix\")\n",
        "for row in range(len(t_matrix)):\n",
        "  print(t_matrix[row])\n",
        "\n",
        "#Pythonic way\n",
        "print(\"(Python version) Transposed matrix\")\n",
        "t_matrix = [[matrix[j][i] for j in range(len(matrix))] for i in range(len(matrix[0]))] \n",
        "for row in range(len(t_matrix)):\n",
        "  print(t_matrix[row])\n",
        "\n"
      ],
      "execution_count": 0,
      "outputs": []
    },
    {
      "cell_type": "markdown",
      "metadata": {
        "id": "pVvN2TvUq-9n",
        "colab_type": "text"
      },
      "source": [
        "4. Write a program creates and displays an identity matrix of dimension $n \\in (0,10)$.\n",
        "\n",
        "* Input: $n=5$\n",
        "* Expected output:\n",
        "\n",
        "\n",
        "```\n",
        "[1, 0, 0, 0, 0]\n",
        "[0, 1, 0, 0, 0]\n",
        "[0, 0, 1, 0, 0]\n",
        "[0, 0, 0, 1, 0]\n",
        "[0, 0, 0, 0, 1]\n",
        "```\n",
        "\n"
      ]
    },
    {
      "cell_type": "code",
      "metadata": {
        "id": "Stj8_Wy7rEMe",
        "colab_type": "code",
        "colab": {}
      },
      "source": [
        "matrix = []\n",
        "n = int(input(\"Introduce the value of n: \"))\n",
        "if n>0 and n<10:\n",
        "  for i in range(n):\n",
        "    row = []\n",
        "    for j in range (n):\n",
        "      if i == j:\n",
        "        row.append(1)\n",
        "      else:\n",
        "        row.append(0)\n",
        "    matrix.append(row)\n",
        "  for row in range(len(matrix)):\n",
        "    print(matrix[row])"
      ],
      "execution_count": 0,
      "outputs": []
    },
    {
      "cell_type": "markdown",
      "metadata": {
        "id": "qyrzl0nCsGqW",
        "colab_type": "text"
      },
      "source": [
        "5. Write a program that makes the sum of two matrix $A$ and $B$. The resulting matrix $C$ is one in which each element $c(i,j) = a(i,j) + b(i,j)$.\n",
        "\n",
        "* Input: \n",
        "\n",
        "\n",
        "```\n",
        "A:\n",
        "\n",
        "[2, 1, 10]\n",
        "[3, 1, 1]\n",
        "\n",
        "B:\n",
        "[2, 9, 1]\n",
        "[10, 7, 6]\n",
        "\n",
        "```\n",
        "\n",
        "\n",
        "* Expected output:\n",
        "\n",
        "\n",
        "\n",
        "```\n",
        "[4, 10, 11]\n",
        "[13, 8, 7]\n",
        "```\n",
        "\n",
        "\n",
        "\n"
      ]
    },
    {
      "cell_type": "code",
      "metadata": {
        "id": "4BzUlEuLsfVI",
        "colab_type": "code",
        "colab": {}
      },
      "source": [
        "n = 3 #columns\n",
        "m = 2 #rows\n",
        "A = [ [random.randint(0, 10) for i in range(n)] for j in range(m)]\n",
        "B = [ [random.randint(0, 10) for i in range(n)] for j in range(m)]\n",
        "C = []\n",
        "print(\"A\")\n",
        "for row in range(len(A)):\n",
        "  print(A[row])\n",
        "\n",
        "print(\"B\")\n",
        "for row in range(len(B)):\n",
        "  print(B[row])\n",
        "\n",
        "\n",
        "if len(A) == len(B) and len(A[0])==len(B[0]):\n",
        "  for i in range(len(A)):\n",
        "    row = []\n",
        "    for j in range(len(A[0])):\n",
        "      row.append(A[i][j] + B[i][j])\n",
        "    C.append(row)\n",
        "\n",
        "  print(\"C\")\n",
        "  for row in range(len(C)):\n",
        "    print(C[row])\n",
        "else:\n",
        "  print(\"The number of rows and columns must be the same.\")\n",
        "\n",
        "#Pythonic way\n",
        "print(\"(Python version) C\")\n",
        "C = [ [A[i][j] + B[i][j] for j in range(len(A[0]))] for i in range(len(A)) ] \n",
        "for row in range(len(C)):\n",
        "  print(C[row])"
      ],
      "execution_count": 0,
      "outputs": []
    },
    {
      "cell_type": "markdown",
      "metadata": {
        "id": "cG9CSMmY-zdJ",
        "colab_type": "text"
      },
      "source": [
        "6. The [Game of Life](https://en.wikipedia.org/wiki/Conway%27s_Game_of_Life), also known simply as Life, is a cellular automaton devised by the British mathematician John Horton Conway in 1970.\n",
        "\n",
        "* A living cell with less than 2 living neighbors-->die\n",
        "* A living cell with 2 or 3 living neighbors-->survives\n",
        "* A living cell with more than 3 living neighbors->die\n",
        "* A dead cell with exactly living neighbors->new born, alive \n"
      ]
    },
    {
      "cell_type": "code",
      "metadata": {
        "id": "PWE3TsnZ-qnz",
        "colab_type": "code",
        "colab": {}
      },
      "source": [
        "import random\n",
        "import time\n",
        "\n",
        "def demo_pattern():\n",
        "\t\treturn [\n",
        "\t\t\t\t[ True,  True,   True,   True,   False,  False,\t True,\t False,\t False,\t False],\n",
        "\t\t\t\t[ False, True,\t True,\t False,\t False,\t True,\t True,\t True,\t False,\t False],\n",
        "\t\t\t\t[ True,\t True,\t False,\t True,\t False,\t True,\t False,\t False,\t True,\t True],\n",
        "\t\t\t\t[ False, True,\t False,\t False,\t False,\t False,\t False,\t False,\t False,\t False],\n",
        "\t\t\t\t[ False, True,\t True,\t True,\t False,\t True,\t True,\t True,\t False,\t False],\n",
        "\t\t\t\t[ True,\t False,\t True,\t True,\t False,\t True,\t True,\t True,\t True,\t True],\n",
        "\t\t\t\t[ True,\t False,\t True,\t False,\t False,\t True,\t True,\t False,\t True,\t False],\n",
        "\t\t\t\t[ True,\t False,\t False,\t True,\t False,\t False,\t False,\t True,\t False,\t False],\n",
        "\t\t\t\t[ True,\t False,\t False,\t True,\t False,\t True,\t True,\t True,\t True,\t False],\n",
        "\t\t\t\t[ False, False,\t True,\t True,\t False,\t False,\t False,\t False,\t True,\t True]\n",
        "\t\t]\n",
        "\n",
        "def pretty_print(board):\n",
        "    if board:\n",
        "        for row in range(len(board)):\n",
        "            for column in range(len(board[0])):\n",
        "                if board[row][column]:\n",
        "                    print(\"\\t\\u2665\", end = \"\")\n",
        "                else:\n",
        "                    print(\"\\t\\u271D\", end = \"\")\n",
        "            print()\n",
        "            \n",
        "def show(board):\n",
        "    if board:\n",
        "        for row in range(len(board)):\n",
        "            print(board[row])\n",
        " \n",
        "def count_alive_neighbours(board, row, col):\n",
        "    alive = 0\n",
        "    if board and row >= 0 and row < len(board) and col >= 0 and col < len(board[0]):\n",
        "        nrows = len(board)\n",
        "        ncols = len(board[0])\n",
        "        alive +=  (1 if board[row][col+1] else 0)   if col+1<ncols else 0\n",
        "        alive +=  (1 if board[row][col-1] else 0)   if col-1>=0 else 0\n",
        "        alive +=  (1 if board[row+1][col] else 0)   if row+1<nrows else 0\n",
        "        alive +=  (1 if board[row-1][col] else 0)   if row-1>=0 else 0\n",
        "        alive +=  (1 if board[row-1][col-1] else 0) if row-1>=0 and col-1>=0 else 0\n",
        "        alive +=  (1 if board[row-1][col+1] else 0) if row-1>=0 and col+1<ncols else 0\n",
        "        alive +=  (1 if board[row+1][col-1] else 0) if row+1<nrows and col-1>=0 else 0\n",
        "        alive +=  (1 if board[row+1][col+1] else 0) if row+1<nrows and col+1<ncols else 0\n",
        "    return alive\n",
        "           \n",
        "if __name__== \"__main__\":\n",
        "    n = 5\n",
        "    generations = 3\n",
        "    current_generation = [ [random.choice([True,False]) for j in range(n)] for i in range(n) ] \n",
        "    alive_neighbours = 0\n",
        "    alive_cells = 0\n",
        "    for gen in range(generations):\n",
        "        print(\"Generation \", gen)\n",
        "        pretty_print(current_generation)\n",
        "        alive_cells = 0\n",
        "    #A living cell with less than 2 living neighbors-->die\n",
        "\t\t#A living cell with 2 or 3 living neighbors-->survives\n",
        "\t\t#A living cell with more than 3 living neighbors->die\n",
        "\t\t#A dead cell with exactly living neighbors->new born, alive \n",
        "        new_generation = current_generation.copy()\n",
        "        for i in range(n): #Use board length\n",
        "            for j in range(n):\n",
        "                alive_neighbours= count_alive_neighbours(current_generation, i, j)\n",
        "                if current_generation[i][j]:\n",
        "                    if alive_neighbours<2:\n",
        "                        new_generation [i][j] = False\n",
        "                    elif (alive_neighbours>=2 and alive_neighbours<=3):\n",
        "                        new_generation [i][j] = current_generation[i][j]\n",
        "                    elif alive_neighbours>3:\n",
        "                        new_generation [i][j] = False\n",
        "                else:\n",
        "                    new_generation [i][j] = alive_neighbours == 3\n",
        "        time.sleep(1)\n",
        "        #The new generation becomes the current generation\n",
        "        current_generation = new_generation.copy()"
      ],
      "execution_count": 0,
      "outputs": []
    },
    {
      "cell_type": "markdown",
      "metadata": {
        "id": "v0OAbwpuGP7n",
        "colab_type": "text"
      },
      "source": [
        "7. FIXME\n",
        "\n",
        "* https://github.com/realpython/python-basics-exercises/tree/master/ch09-lists-tuples-and-dictionaries\n",
        "* https://holypython.com/beginner-python-exercises/exercise-8-python-dictionaries/\n",
        "* http://wasabiapp.org/python_course/exercises_4.pdf\n",
        "* http://anh.cs.luc.edu/handsonPythonTutorial/dictionaries.html\n",
        "* https://sites.tufts.edu/cslol/files/2015/01/Python-Lesson-2-%E2%80%93-Dictionaries.pdf\n",
        "* https://www.thegeekstuff.com/2019/04/python-set-examples/\n",
        "* https://www.linuxtopia.org/online_books/programming_books/python_programming/python_ch13s07.html"
      ]
    }
  ]
}