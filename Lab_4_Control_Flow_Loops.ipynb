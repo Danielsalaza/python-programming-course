{
  "nbformat": 4,
  "nbformat_minor": 0,
  "metadata": {
    "colab": {
      "name": "Lab_4_Control_Flow_Loops.ipynb",
      "provenance": [],
      "collapsed_sections": [],
      "authorship_tag": "ABX9TyMj1Rm7+ha/03qKR1n1MOz6",
      "include_colab_link": true
    },
    "kernelspec": {
      "name": "python3",
      "display_name": "Python 3"
    }
  },
  "cells": [
    {
      "cell_type": "markdown",
      "metadata": {
        "id": "view-in-github",
        "colab_type": "text"
      },
      "source": [
        "<a href=\"https://colab.research.google.com/github/chemaar/python-programming-course/blob/master/Lab_4_Control_Flow_Loops.ipynb\" target=\"_parent\"><img src=\"https://colab.research.google.com/assets/colab-badge.svg\" alt=\"Open In Colab\"/></a>"
      ]
    },
    {
      "cell_type": "markdown",
      "metadata": {
        "id": "l88YgeqXK38T",
        "colab_type": "text"
      },
      "source": [
        "# Lab 4: Control flow-Loops\n",
        "\n",
        "In this notebook, we propose and solve some exercises about loops.\n",
        "\n",
        "**As a good programming practice, our test cases should ensure that all branches of the code are executed at least once.**"
      ]
    },
    {
      "cell_type": "markdown",
      "metadata": {
        "id": "ZfRgZHNdLIuf",
        "colab_type": "text"
      },
      "source": [
        "## List of exercises"
      ]
    },
    {
      "cell_type": "markdown",
      "metadata": {
        "id": "wV7mERYcMlJ3",
        "colab_type": "text"
      },
      "source": [
        "\n",
        "\n",
        "1. Write a program that prints out the numbers from 0 to 10 (only even numbers). Use both: while and for loops.\n",
        "\n",
        "\n",
        "* Input: no input\n",
        "* Expected output:\n",
        "\n",
        "```\n",
        "0\n",
        "2\n",
        "4\n",
        "6\n",
        "8\n",
        "10\n",
        "```"
      ]
    },
    {
      "cell_type": "code",
      "metadata": {
        "id": "tcS5he3ca2eh",
        "colab_type": "code",
        "colab": {}
      },
      "source": [
        "i = 0\n",
        "while i <= 10:\n",
        "  print(i)\n",
        "  i = i + 2\n",
        "  \n",
        "for i in range(0,12,2):\n",
        "  print(i)\n",
        "\n"
      ],
      "execution_count": 0,
      "outputs": []
    },
    {
      "cell_type": "markdown",
      "metadata": {
        "id": "c1cyKMQ2qB9E",
        "colab_type": "text"
      },
      "source": [
        "2. Write a program that prints out the numbers from 0 to 10 (only odd numbers). Use both: while and for loops.\n",
        "\n",
        "\n",
        "* Input: no input\n",
        "* Expected output:\n",
        "\n",
        "```\n",
        "1\n",
        "3\n",
        "5\n",
        "7\n",
        "9\n",
        "```"
      ]
    },
    {
      "cell_type": "code",
      "metadata": {
        "id": "XME9YFE5a-IJ",
        "colab_type": "code",
        "colab": {}
      },
      "source": [
        "i = 1\n",
        "while i < 11:\n",
        "  print(i)\n",
        "  i = i + 2\n",
        "  \n",
        "\n",
        "for i in range(1,11,2):\n",
        "  print(i)"
      ],
      "execution_count": 0,
      "outputs": []
    },
    {
      "cell_type": "markdown",
      "metadata": {
        "id": "ClKV62cVqNNM",
        "colab_type": "text"
      },
      "source": [
        "3. Write a program that prints out the numbers from 10 to 0 (only odd numbers). Use both: while and for loops.\n",
        "\n",
        "\n",
        "* Input: no input\n",
        "* Expected output:\n",
        "\n",
        "```\n",
        "9\n",
        "7\n",
        "5\n",
        "3\n",
        "1\n",
        "```"
      ]
    },
    {
      "cell_type": "code",
      "metadata": {
        "id": "HegG9Rc6bIGa",
        "colab_type": "code",
        "colab": {}
      },
      "source": [
        "i = 9\n",
        "while i >= 0:\n",
        "  print(i)\n",
        "  i = i - 2\n",
        "  \n",
        "\n",
        "for i in range(9,0,-2):\n",
        "  print(i)"
      ],
      "execution_count": 0,
      "outputs": []
    },
    {
      "cell_type": "markdown",
      "metadata": {
        "id": "A9zjAN40qbpH",
        "colab_type": "text"
      },
      "source": [
        "4. Write a program to calculate the factorial of an integer number. Use both: while and for loops.\n",
        "  * factorial (n) = n * factorial (n-1) \n",
        "\n",
        "* Input: an integer number, 5\n",
        "* Expected output:\n",
        "\n",
        "```\n",
        "120\n",
        "```"
      ]
    },
    {
      "cell_type": "code",
      "metadata": {
        "id": "Bbk2wQ1Nb-yz",
        "colab_type": "code",
        "colab": {}
      },
      "source": [
        "number = 5\n",
        "fact = 1\n",
        "\n",
        "if number < 0:\n",
        "  fact = -1\n",
        "elif number == 0 or number == 1:\n",
        "  fact = 1\n",
        "else:\n",
        "  for i in range(1,number+1):\n",
        "    fact *= i\n",
        "\n",
        "print(fact)\n",
        "\n"
      ],
      "execution_count": 0,
      "outputs": []
    },
    {
      "cell_type": "markdown",
      "metadata": {
        "id": "HbbL-UUBq1Sm",
        "colab_type": "text"
      },
      "source": [
        "5. Write a program to calculate the exponentiation of a number with base b, and exponent n, both: while and for loops.\n",
        "  * $base^{exponent} = a * a* a...*a$\n",
        "\n",
        "* Input: base 2, exponent 3\n",
        "* Expected output:\n",
        "\n",
        "```\n",
        "8\n",
        "```"
      ]
    },
    {
      "cell_type": "code",
      "metadata": {
        "id": "A3O7yIdWcX0L",
        "colab_type": "code",
        "colab": {}
      },
      "source": [
        "base = 2\n",
        "exponent = 3\n",
        "mipow = 1\n",
        "\n",
        "if exponent > 0:\n",
        "  for i in range(0,exponent):\n",
        "    mipow *= base\n",
        "\n",
        "print(mipow)"
      ],
      "execution_count": 0,
      "outputs": []
    },
    {
      "cell_type": "markdown",
      "metadata": {
        "id": "C3OS64fwrg1f",
        "colab_type": "text"
      },
      "source": [
        "6. Given an integer number, n, make the sum of all the numbers from 0 to n.\n",
        "\n",
        "\n",
        "* Input: 5\n",
        "* Expected output:\n",
        "\n",
        "```\n",
        "15\n",
        "```"
      ]
    },
    {
      "cell_type": "code",
      "metadata": {
        "id": "tqISsyUgcwG2",
        "colab_type": "code",
        "colab": {}
      },
      "source": [
        "n = 5\n",
        "add_n = 0\n",
        "for i in range(0,n+1,1):\n",
        "  add_n += i\n",
        "\n",
        "print(add_n)"
      ],
      "execution_count": 0,
      "outputs": []
    },
    {
      "cell_type": "markdown",
      "metadata": {
        "id": "MZ2kS7XwdQCz",
        "colab_type": "text"
      },
      "source": [
        "7. Given an integer number, n, print a cross of radius n as follows.\n",
        "\n",
        "\n",
        "* Input: 9\n",
        "* Expected output:\n",
        "\n",
        "```\n",
        " * . . . . . . . *\n",
        " . * . . . . . * .\n",
        " . . * . . . * . .\n",
        " . . . * . * . . .\n",
        " . . . . * . . . .\n",
        " . . . * . * . . .\n",
        " . . * . . . * . .\n",
        " . * . . . . . * .\n",
        " * . . . . . . . *\n",
        "```\n",
        "\n"
      ]
    },
    {
      "cell_type": "code",
      "metadata": {
        "id": "5uynEbnQdPAE",
        "colab_type": "code",
        "colab": {}
      },
      "source": [
        "n = 9\n",
        "for i in range(0, n, 1):\n",
        "  for j in range (0, n, 1):\n",
        "    if (i==j or n-i-1 == j):\n",
        "      print(\" *\", end=\"\")\n",
        "    else:\n",
        "      print(\" .\", end=\"\")\n",
        "  print(\"\")    "
      ],
      "execution_count": 0,
      "outputs": []
    },
    {
      "cell_type": "markdown",
      "metadata": {
        "id": "v_X34RKdd-PI",
        "colab_type": "text"
      },
      "source": [
        "8. Given an integer number, n, print a wedge of stars as follows.\n",
        "\n",
        "\n",
        "* Input: 5\n",
        "* Expected output:\n",
        "\n",
        "```\n",
        "*****\n",
        "****\n",
        "***\n",
        "**\n",
        "*\n",
        "```\n",
        "\n",
        "\n",
        "\n"
      ]
    },
    {
      "cell_type": "code",
      "metadata": {
        "id": "DphIwNkUd_CB",
        "colab_type": "code",
        "colab": {}
      },
      "source": [
        "n_stars = 5\n",
        "for i in range (n_stars, 0, -1):\n",
        "  for j in range (0, i, 1):\n",
        "    print(\"*\", end=\"\")\n",
        "  print(\"\")\n",
        "\n",
        "#Pythonic\n",
        "for i in range (n_stars, 0, -1):\n",
        "    print(\"*\"*i)"
      ],
      "execution_count": 0,
      "outputs": []
    },
    {
      "cell_type": "markdown",
      "metadata": {
        "id": "ZTTZiGgeszjc",
        "colab_type": "text"
      },
      "source": [
        "9. Given an integer number, n, print a wedge of stars as follows.\n",
        "\n",
        "\n",
        "* Input: 5\n",
        "* Expected output:\n",
        "\n",
        "```\n",
        "*\n",
        "**\n",
        "***\n",
        "****\n",
        "*****\n",
        "```"
      ]
    },
    {
      "cell_type": "code",
      "metadata": {
        "id": "YECJEA1Ks6hf",
        "colab_type": "code",
        "colab": {}
      },
      "source": [
        "n_stars = 5\n",
        "for i in range (0, n_stars+1, 1):\n",
        "    print(\"*\"*i)"
      ],
      "execution_count": 0,
      "outputs": []
    },
    {
      "cell_type": "markdown",
      "metadata": {
        "id": "YgfcQ7Ejt_ZL",
        "colab_type": "text"
      },
      "source": [
        "10. Make a program to display the multiplication table (1-10).\n",
        "\n",
        "\n",
        "* Input: no input\n",
        "* Expected output:\n",
        "\n",
        "```\n",
        "1\t  2\t 3\t 4\t  5\t 6\t 7\t 8\t 9\t10\t\n",
        "2\t  4\t 6\t 8\t 10\t12\t14\t16\t18\t20\t\n",
        "3\t  6\t 9\t 12\t15\t18\t21\t24\t27\t30\t\n",
        "4\t  8\t 12\t16\t20\t24\t28\t32\t36\t40\t\n",
        "5\t  10\t15\t20\t25\t30\t35\t40\t45\t50\t\n",
        "6\t  12\t18\t24\t30\t36\t42\t48\t54\t60\t\n",
        "7\t  14\t21\t28\t35\t42\t49\t56\t63\t70\t\n",
        "8\t  16\t24\t32\t40\t48\t56\t64\t72\t80\t\n",
        "9\t  18\t27\t36\t45\t54\t63\t72\t81\t90\t\n",
        "10\t 20\t30\t40\t50\t60\t70\t80\t90\t100\n",
        "```"
      ]
    },
    {
      "cell_type": "code",
      "metadata": {
        "id": "sfzw6C7Megvj",
        "colab_type": "code",
        "outputId": "c8cd7b75-8006-4e9a-e650-77d669402808",
        "colab": {
          "base_uri": "https://localhost:8080/",
          "height": 189
        }
      },
      "source": [
        "for i in range(1,11,1):\n",
        "  for j in range (1, 11, 1):\n",
        "    print(i*j, end = \"\")\n",
        "    print(\"\\t\", end = \"\")\n",
        "  print(\"\")\n"
      ],
      "execution_count": 0,
      "outputs": [
        {
          "output_type": "stream",
          "text": [
            "1\t2\t3\t4\t5\t6\t7\t8\t9\t10\t\n",
            "2\t4\t6\t8\t10\t12\t14\t16\t18\t20\t\n",
            "3\t6\t9\t12\t15\t18\t21\t24\t27\t30\t\n",
            "4\t8\t12\t16\t20\t24\t28\t32\t36\t40\t\n",
            "5\t10\t15\t20\t25\t30\t35\t40\t45\t50\t\n",
            "6\t12\t18\t24\t30\t36\t42\t48\t54\t60\t\n",
            "7\t14\t21\t28\t35\t42\t49\t56\t63\t70\t\n",
            "8\t16\t24\t32\t40\t48\t56\t64\t72\t80\t\n",
            "9\t18\t27\t36\t45\t54\t63\t72\t81\t90\t\n",
            "10\t20\t30\t40\t50\t60\t70\t80\t90\t100\t\n"
          ],
          "name": "stdout"
        }
      ]
    },
    {
      "cell_type": "markdown",
      "metadata": {
        "id": "wGpHuw26uVJH",
        "colab_type": "text"
      },
      "source": [
        "11. Write a program to detect if a number is a prime number.\n",
        "\n",
        "\n",
        "* Input: 5, 8\n",
        "* Expected output:\n",
        "\n",
        "\n",
        "\n",
        "```\n",
        "The number 5 is prime.\n",
        "The number 8 is not prime.\n",
        "```\n",
        "\n"
      ]
    },
    {
      "cell_type": "code",
      "metadata": {
        "id": "HMM-w_YAucEK",
        "colab_type": "code",
        "colab": {}
      },
      "source": [
        "n = 1\n",
        "n_divisors = 1\n",
        "divisor = 2\n",
        "while divisor < n and n_divisors <= 2:\n",
        "  if n % divisor == 0:\n",
        "    n_divisors = n_divisors + 1\n",
        "  divisor = divisor + 1\n",
        "\n",
        "if n_divisors > 2:\n",
        "  print(\"The number {} is not prime.\".format(n))\n",
        "else:\n",
        "  print(\"The number {} is prime.\".format(n)) "
      ],
      "execution_count": 0,
      "outputs": []
    },
    {
      "cell_type": "markdown",
      "metadata": {
        "id": "1jfxpuwWvTQx",
        "colab_type": "text"
      },
      "source": [
        "12. Write a program to sum all odd numbers between n and 100 (included).\n",
        "\n",
        "\n",
        "* Input: 11\n",
        "* Expected output:\n",
        "\n",
        "```\n",
        "The sum between 11-100 is 4995.\n",
        "```\n"
      ]
    },
    {
      "cell_type": "code",
      "metadata": {
        "id": "DO1u7tYqvZJz",
        "colab_type": "code",
        "outputId": "75504da6-d57d-4bd4-b058-863624f11d09",
        "colab": {
          "base_uri": "https://localhost:8080/",
          "height": 34
        }
      },
      "source": [
        "top = 100\n",
        "n = 11\n",
        "add_top = 0\n",
        "for value in range(11, top+1):\n",
        "    add_top = add_top + value\n",
        "\n",
        "print(\"The sum between {}-{} is {}\".format(n,top,add_top))"
      ],
      "execution_count": 0,
      "outputs": [
        {
          "output_type": "stream",
          "text": [
            "The sum between 11-100 is 4995\n"
          ],
          "name": "stdout"
        }
      ]
    },
    {
      "cell_type": "markdown",
      "metadata": {
        "id": "ZX98yeJXv5KY",
        "colab_type": "text"
      },
      "source": [
        "13. Write a program to show the square of the first 10 numbers.\n",
        "\n",
        "\n",
        "* Input: no input\n",
        "* Expected output:\n",
        "\n",
        "```\n",
        "The square of 0 is 0\n",
        "The square of 1 is 1\n",
        "The square of 2 is 4\n",
        "The square of 3 is 9\n",
        "The square of 4 is 16\n",
        "The square of 5 is 25\n",
        "The square of 6 is 36\n",
        "The square of 7 is 49\n",
        "The square of 8 is 64\n",
        "The square of 9 is 81\n",
        "The square of 10 is 100\n",
        "```"
      ]
    },
    {
      "cell_type": "code",
      "metadata": {
        "id": "2KmdBG1hv_Zu",
        "colab_type": "code",
        "outputId": "2739a505-6f7a-4ce8-e7d6-532e26a73a29",
        "colab": {
          "base_uri": "https://localhost:8080/",
          "height": 206
        }
      },
      "source": [
        "for i in range(0, 11):\n",
        "  print(\"The square of {} is {}\".format(i,i**2))"
      ],
      "execution_count": 0,
      "outputs": [
        {
          "output_type": "stream",
          "text": [
            "The square of 0 is 0\n",
            "The square of 1 is 1\n",
            "The square of 2 is 4\n",
            "The square of 3 is 9\n",
            "The square of 4 is 16\n",
            "The square of 5 is 25\n",
            "The square of 6 is 36\n",
            "The square of 7 is 49\n",
            "The square of 8 is 64\n",
            "The square of 9 is 81\n",
            "The square of 10 is 100\n"
          ],
          "name": "stdout"
        }
      ]
    },
    {
      "cell_type": "markdown",
      "metadata": {
        "id": "xEAU3EngwNWp",
        "colab_type": "text"
      },
      "source": [
        "14. Write a program to show the Fibonnacci sequence of a given number n.\n",
        "\n",
        "\t\tfibonacci(n) = \n",
        "\t\t\t\t\t\tfibonacci (0) = 0\n",
        "\t\t\t\t\t\tfibonacci (1) = 1\n",
        "\t\t\t\t\t\tfibonacci (n) = fibonacci(n-1) + fibonacci (n-2)\n",
        "\n",
        "\n",
        "* Input: a positive number n\n",
        "* Expected output:\n",
        "\n",
        "```\n",
        "0\n",
        "1\n",
        "1\n",
        "2\n",
        "3\n",
        "```\n",
        "\n"
      ]
    },
    {
      "cell_type": "code",
      "metadata": {
        "id": "oHfvhU9cwY2V",
        "colab_type": "code",
        "colab": {}
      },
      "source": [
        "numbersToGenerate=5\n",
        "fn2 = 0\n",
        "fn1 = 1\n",
        "print(fn2)\n",
        "print(fn1)\n",
        "for i in range(2, numbersToGenerate):\n",
        "  fcurrent = fn1 + fn2\n",
        "  temp = fn1\n",
        "  fn1 = fcurrent\n",
        "  fn2 = temp\n",
        "  print(fn1)"
      ],
      "execution_count": 0,
      "outputs": []
    },
    {
      "cell_type": "markdown",
      "metadata": {
        "id": "FpxzKzmx0waj",
        "colab_type": "text"
      },
      "source": [
        "15. Write a program to check if an integer number is a palindrome.\n",
        "\n",
        "* Input: 121\n",
        "* Expected output:\n",
        "\n",
        "```\n",
        "The number 121 is palindrome: True\n",
        "```\n",
        "\n"
      ]
    },
    {
      "cell_type": "code",
      "metadata": {
        "id": "NGnYk6tN08qJ",
        "colab_type": "code",
        "outputId": "89efaa58-4293-481d-84d9-e0bed1b6b80f",
        "colab": {
          "base_uri": "https://localhost:8080/",
          "height": 34
        }
      },
      "source": [
        "number = 121\n",
        "palindrome = number\n",
        "reverse = 0\n",
        "while (palindrome != 0):\n",
        "  remainder = palindrome % 10\n",
        "  reverse = reverse * 10 + remainder\n",
        "  palindrome = palindrome // 10\n",
        "  \n",
        "\n",
        "print(\"The number \"+str(number)+\" is palindrome: \"+str((number==reverse)))"
      ],
      "execution_count": 0,
      "outputs": [
        {
          "output_type": "stream",
          "text": [
            "The number 121 is palindrome: True\n"
          ],
          "name": "stdout"
        }
      ]
    },
    {
      "cell_type": "markdown",
      "metadata": {
        "colab_type": "text",
        "id": "FuCDSsgV2WLJ"
      },
      "source": [
        "16. Write a program to check if an integer number of three digit is an Armstrong number.\n",
        "   *  An Armstrong number of three digit is a number whose sum of cubes of its digit is equal to its number.\"\n",
        "\n",
        "* Input: $153 = 1^3+5^3+3^3$ or $1+125+27=153$\n",
        "* Expected output:\n",
        "\n",
        "```\n",
        "The number 153 is an Armstrong number.\n",
        "```\n",
        "\n"
      ]
    },
    {
      "cell_type": "code",
      "metadata": {
        "id": "M1icLH8E2nnL",
        "colab_type": "code",
        "colab": {}
      },
      "source": [
        "number = 153\n",
        "initial_number = number\n",
        "result = 0\n",
        "if number>=100 and number <= 999:\n",
        "  while number != 0:\n",
        "    remainder = number % 10\n",
        "    result = result + remainder**3\n",
        "    number = number // 10\n",
        "  if result == initial_number:\n",
        "    print(\"The number {} is an Armstrong number.\".format(result))\n",
        "  else:\n",
        "    print(\"The number {} is NOT an Armstrong number.\".format(result))\n",
        "else:\n",
        "  print(\"Number is not valid.\")"
      ],
      "execution_count": 0,
      "outputs": []
    },
    {
      "cell_type": "markdown",
      "metadata": {
        "id": "cNop6s6HqiCG",
        "colab_type": "text"
      },
      "source": [
        "17. Write a program to show the first N prime numbers.\n",
        "\n",
        "* Input: N = 10\n",
        "* Expected output:\n",
        "\n",
        "```\n",
        "The number 1 is prime.\n",
        "The number 2 is prime.\n",
        "The number 3 is prime.\n",
        "The number 5 is prime.\n",
        "The number 7 is prime.\n",
        "The number 11 is prime.\n",
        "The number 13 is prime.\n",
        "The number 17 is prime.\n",
        "The number 19 is prime.\n",
        "The number 23 is prime.\n",
        "```"
      ]
    },
    {
      "cell_type": "code",
      "metadata": {
        "id": "OlSmg1-pqoaw",
        "colab_type": "code",
        "colab": {}
      },
      "source": [
        "counter = 0\n",
        "MAX_PRIMES = 10\n",
        "n = 1\n",
        "\n",
        "while counter < MAX_PRIMES:\n",
        "  n_divisors = 1\n",
        "  divisor = 1\n",
        "  #Loop if n is prime\n",
        "  while divisor < n and n_divisors <= 2:\n",
        "    if n % divisor == 0:\n",
        "      n_divisors = n_divisors + 1\n",
        "    divisor = divisor + 1\n",
        "  #End loop if n is prime\n",
        "  #Step second loop\n",
        "  if n_divisors <= 2:\n",
        "    print(\"The number {} is prime.\".format(n)) \n",
        "    counter = counter + +1\n",
        "  \n",
        "  n = n + 1"
      ],
      "execution_count": 0,
      "outputs": []
    },
    {
      "cell_type": "markdown",
      "metadata": {
        "id": "bNh2IiRmYPGv",
        "colab_type": "text"
      },
      "source": [
        "18. Write a program to calculate the combinatorial number\n",
        "\n",
        "$\\binom{m}{n} = \\frac{m!}{n! (m-n)!}$\n",
        "\n",
        "* Input: m = 10, n = 5\n",
        "* Expected output:\n",
        "\n",
        "```\n",
        "252\n",
        "```"
      ]
    },
    {
      "cell_type": "code",
      "metadata": {
        "id": "ALyNsMoHYnXd",
        "colab_type": "code",
        "colab": {}
      },
      "source": [
        "m = 10\n",
        "n = 5\n",
        "factorialmn = 1\n",
        "factorialn = 1\n",
        "factorialm = 1\n",
        "\n",
        "if (m < n):\n",
        "  print(\"M must be >= n\");\n",
        "else:\n",
        "  #Factorial m\n",
        "  if m == 0 or m == 1:\n",
        "    factorialm = 1\n",
        "  else:\n",
        "    i = m\n",
        "    while i > 0:\n",
        "      factorialm = i * factorialm\n",
        "      i = i - 1\n",
        "  #Factorial n\n",
        "  if n == 0 or n == 1:\n",
        "    factorialn = 1\n",
        "  else:\n",
        "    i = n\n",
        "    while i>0 :\n",
        "      factorialn = i * factorialn\n",
        "      i = i - 1\n",
        "  #Factorial m-n\n",
        "  if (m - n == 0 or m - m == 1):\n",
        "    factorialmn = 1\n",
        "  else:\n",
        "    i =  m - n\n",
        "    while i>0 :\n",
        "      factorialmn = i * factorialmn\n",
        "      i = i - 1   \n",
        "  print(\"The result is: \",(factorialm / (factorialn * factorialmn)))"
      ],
      "execution_count": 0,
      "outputs": []
    },
    {
      "cell_type": "markdown",
      "metadata": {
        "id": "fHQD4JA8b9qx",
        "colab_type": "text"
      },
      "source": [
        "19. Write a program to print a Christmas tree of 15 base stars.\n",
        "\n",
        "* Input: base_stars = 15\n",
        "* Expected output:\n",
        "\n",
        "\n",
        "\n",
        "```\n",
        "       *       \n",
        "      ***      \n",
        "     *****     \n",
        "    *******    \n",
        "   *********   \n",
        "  ***********  \n",
        " ************* \n",
        "      ***      \n",
        "      ***      \n",
        "      ***     \n",
        "```\n",
        "\n"
      ]
    },
    {
      "cell_type": "code",
      "metadata": {
        "id": "iVvHgkJIcFtx",
        "colab_type": "code",
        "colab": {
          "base_uri": "https://localhost:8080/",
          "height": 191
        },
        "outputId": "cd03c4b6-ca68-48a2-9723-95f35a2f9b2e"
      },
      "source": [
        "base_stars = 15\n",
        "half_blank_spaces = 0;\n",
        "for i in range(1,base_stars, 2):\n",
        "  half_blank_spaces = (base_stars-i) // 2\n",
        "  for j in range(0, half_blank_spaces):\n",
        "    print(\" \",end=\"\")\n",
        "  for k in range(0, i):\n",
        "    print(\"*\",end=\"\")\n",
        "  for j in range(0, half_blank_spaces):\n",
        "    print(\" \",end=\"\")\n",
        "  print(\"\")\n",
        "\n",
        "half_blank_spaces = (base_stars//2)-1;\n",
        "for i in range(3):\n",
        "  for j in range(0,half_blank_spaces):\n",
        "    print(\" \",end=\"\")\n",
        "  for k in range(0, 3):\n",
        "    print(\"*\",end=\"\")\n",
        "  for j in range(0, half_blank_spaces):\n",
        "    print(\" \",end=\"\")\n",
        "  print(\"\")"
      ],
      "execution_count": 63,
      "outputs": [
        {
          "output_type": "stream",
          "text": [
            "       *       \n",
            "      ***      \n",
            "     *****     \n",
            "    *******    \n",
            "   *********   \n",
            "  ***********  \n",
            " ************* \n",
            "      ***      \n",
            "      ***      \n",
            "      ***      \n"
          ],
          "name": "stdout"
        }
      ]
    },
    {
      "cell_type": "markdown",
      "metadata": {
        "id": "iKpe8NtBdWbv",
        "colab_type": "text"
      },
      "source": [
        "20. Write a program to print an * in the upper diagonal of an implicit matrix of size n.\n",
        "\n",
        "* Input: n = 3\n",
        "* Expected output:\n",
        "\n",
        "\n",
        "\n",
        "```\n",
        "* * * \n",
        ". * * \n",
        ". . * \n",
        "```\n",
        "\n"
      ]
    },
    {
      "cell_type": "code",
      "metadata": {
        "id": "fbf185oudjEm",
        "colab_type": "code",
        "colab": {}
      },
      "source": [
        "n = 3\n",
        "for i in range(1,n+1):\n",
        "  for j in range (1,n+1):\n",
        "    if (i <= j):\n",
        "      print(\"*\", end = \"\")\n",
        "    else:\n",
        "      print(\".\", end = \"\")\n",
        "  print(\"\")"
      ],
      "execution_count": 0,
      "outputs": []
    },
    {
      "cell_type": "markdown",
      "metadata": {
        "id": "7spzGX7XeGlp",
        "colab_type": "text"
      },
      "source": [
        "21. Write a program to print an * in the lower diagonal of an implicit matrix of size n.\n",
        "\n",
        "* Input: n = 3\n",
        "* Expected output:\n",
        "\n",
        "\n",
        "\n",
        "```\n",
        "* . . \n",
        "* * . \n",
        "* * * \n",
        "```\n"
      ]
    },
    {
      "cell_type": "code",
      "metadata": {
        "id": "Goy35Iq0eQNv",
        "colab_type": "code",
        "colab": {}
      },
      "source": [
        "n = 3\n",
        "for i in range(1,n+1):\n",
        "  for j in range (1,n+1):\n",
        "    if (i >= j):\n",
        "      print(\"*\", end = \"\")\n",
        "    else:\n",
        "      print(\".\", end = \"\")\n",
        "  print(\"\")"
      ],
      "execution_count": 0,
      "outputs": []
    },
    {
      "cell_type": "markdown",
      "metadata": {
        "id": "wTJVSB0jeYPi",
        "colab_type": "text"
      },
      "source": [
        "22. Write a program to print a diamond of radius n.\n",
        "\n",
        "* Input: n = 7\n",
        "* Expected output:\n",
        "\n",
        "\n",
        "\n",
        "```\n",
        " . . . * . . .\n",
        " . . * * * . .\n",
        " . * * * * * .\n",
        " * * * * * * *\n",
        " . * * * * * .\n",
        " . . * * * . .\n",
        " . . . * . . .\n",
        "```\n",
        "\n",
        "\n"
      ]
    },
    {
      "cell_type": "code",
      "metadata": {
        "id": "9cQz9GhregBH",
        "colab_type": "code",
        "colab": {}
      },
      "source": [
        "n = 7\n",
        "mid = n//2\n",
        "lmin=0\n",
        "rmax=0\n",
        "if (n % 2 != 0):\n",
        "  for i in range(0,n):\n",
        "    if i <= mid:\n",
        "      lmin=mid-i\n",
        "      rmax=mid+i\n",
        "    else:\n",
        "      lmin=mid-(n-i)+1\n",
        "      rmax=mid+(n-i)-1\n",
        "    for j in range (0,n):\n",
        "      if j>=lmin and j<=rmax:\n",
        "        print(\" *\", end = \"\")\n",
        "      else:\n",
        "        print(\" .\", end = \"\")\n",
        "    print(\"\")"
      ],
      "execution_count": 0,
      "outputs": []
    },
    {
      "cell_type": "markdown",
      "metadata": {
        "id": "ySrNX4Hfg4Gp",
        "colab_type": "text"
      },
      "source": [
        "23. Write a program that displays a table of size (n x n) in which each cell will have * if i is a divisor of j or \"\" otherwise.\n",
        "\n",
        "* Input: n = 10\n",
        "* Expected output:\n",
        "\n",
        "\n",
        "\n",
        "\n",
        "```\n",
        "* * * * * * * * * * 1\n",
        "* *   *   *   *   * 2\n",
        "*   *     *     *   3\n",
        "* *   *       *     4\n",
        "*       *         * 5\n",
        "* * *     *         6\n",
        "*           *       7\n",
        "* *   *       *     8\n",
        "*   *           *   9\n",
        "* *     *         * 10\n",
        "\n",
        "```\n",
        "\n"
      ]
    },
    {
      "cell_type": "code",
      "metadata": {
        "id": "EMSBZwvxhPFT",
        "colab_type": "code",
        "colab": {}
      },
      "source": [
        "N = 10\n",
        "for i in range (1, N+1):\n",
        "  for j in range (1, N+1):\n",
        "    if (i%j == 0 or j%i == 0):\n",
        "      print(\" *\", end = \"\")\n",
        "    else:\n",
        "      print(\"  \", end = \"\")\n",
        "  print(\" \",i)\n",
        "  print(\"\")"
      ],
      "execution_count": 0,
      "outputs": []
    },
    {
      "cell_type": "markdown",
      "metadata": {
        "id": "VzE8WPbFh1ET",
        "colab_type": "text"
      },
      "source": [
        "24. Write a program to display a menu with 3 options (to say hello in English, Spanish and French) and to finish, the user shall introduce the keyword \"quit\". If any other option is introduced, the program shall display that the input value is not a valid option.\n",
        "\n",
        "* Input: test the options\n",
        "* Expected output:\n",
        "\n",
        "\n",
        "\n",
        "```\n",
        "----------MENU OPTIONS----------\n",
        "1-Say Hello!\n",
        "2-Say ¡Hola!\n",
        "3-Say Salut!\n",
        "> introduce an option or quit to exit...\n",
        "```\n",
        "\n"
      ]
    },
    {
      "cell_type": "code",
      "metadata": {
        "id": "xyr-DPlFh_7X",
        "colab_type": "code",
        "colab": {}
      },
      "source": [
        "option = \"1\"\n",
        "while option != \"quit\":\n",
        "  print(\"----------MENU OPTIONS----------\")\n",
        "  print(\"1-Say Hello!\")\n",
        "  print(\"2-Say ¡Hola!\")\n",
        "  print(\"3-Say Salut!\")\n",
        "  option = input(\"> introduce an option or quit to exit...\")\n",
        "  if option == \"1\":\n",
        "    print(\"Hello!\")\n",
        "  elif option == \"2\":\n",
        "    print(\"¡Hola!\")\n",
        "  elif option == \"3\":\n",
        "    print(\"Salut!\")\n",
        "  elif option == \"quit\":\n",
        "    print(\"...finishing...\")\n",
        "  else:\n",
        "    print(\"Not a valid option: \", option)\n",
        "\n"
      ],
      "execution_count": 0,
      "outputs": []
    },
    {
      "cell_type": "markdown",
      "metadata": {
        "id": "z5W6sGp0jt97",
        "colab_type": "text"
      },
      "source": [
        "25. The number finder: write a program that asks the user to find out a target number. If the input value is less than the target number, the program shall say \"the target value is less than X\", otherwise, the program shall say \"the target value is greater than X. The program shall finish once the user finds out the target number.\n",
        "\n",
        "* Input: target = 10\n",
        "* Expected output:\n",
        "\n",
        "\n",
        "\n",
        "```\n",
        "Introduce a number: 3\n",
        "The target value is greater than  3\n",
        "Introduce a number: 5\n",
        "The target value is greater than  5\n",
        "Introduce a number: 12\n",
        "The target value is less than  12\n",
        "Introduce a number: 10\n",
        "```\n",
        "\n"
      ]
    },
    {
      "cell_type": "code",
      "metadata": {
        "id": "bqiU3LTkkDnb",
        "colab_type": "code",
        "colab": {}
      },
      "source": [
        "target = 10\n",
        "found = False\n",
        "while (not found):\n",
        "  value = int(input(\"Introduce a number: \"))\n",
        "  if target < value:\n",
        "    print(\"The target value is less than \", value)\n",
        "  elif target > value:\n",
        "    print(\"The target value is greater than \", value)\n",
        "  else:\n",
        "    found = True\n",
        "\n",
        "if found:\n",
        "  print(\"You have found out the target value!\")"
      ],
      "execution_count": 0,
      "outputs": []
    },
    {
      "cell_type": "markdown",
      "metadata": {
        "id": "nz3M9EDMky1H",
        "colab_type": "text"
      },
      "source": [
        "26. Modify the program in 20 to give only 5 attempts.\n",
        "\n",
        "* Input: target = 10\n",
        "* Expected output:\n",
        "\n",
        "\n",
        "\n",
        "```\n",
        "Introduce a number: 6\n",
        "The target value is greater than  6\n",
        "Introduce a number: 7\n",
        "The target value is greater than  7\n",
        "Introduce a number: 12\n",
        "The target value is less than  12\n",
        "Introduce a number: 9\n",
        "The target value is greater than  9\n",
        "Introduce a number: 11\n",
        "The target value is less than  11\n",
        "You have consumed the max number of attempts.\n",
        "```\n",
        "\n"
      ]
    },
    {
      "cell_type": "code",
      "metadata": {
        "id": "22_LYGTik4ri",
        "colab_type": "code",
        "colab": {}
      },
      "source": [
        "target = 10\n",
        "found = False\n",
        "attempts = 0\n",
        "MAX_ATTEMPTS = 5\n",
        "while (not found and attempts < MAX_ATTEMPTS):\n",
        "  value = int(input(\"Introduce a number: \"))\n",
        "  if target < value:\n",
        "    print(\"The target value is less than \", value)\n",
        "  elif target > value:\n",
        "    print(\"The target value is greater than \", value)\n",
        "  else:\n",
        "    found = True\n",
        "  attempts = attempts + 1\n",
        "\n",
        "if found:\n",
        "  print(\"You have found out the target value!\")\n",
        "else:\n",
        "  print(\"You have consumed the max number of attempts.\")"
      ],
      "execution_count": 0,
      "outputs": []
    },
    {
      "cell_type": "markdown",
      "metadata": {
        "id": "c1YJCNA8lgaM",
        "colab_type": "text"
      },
      "source": [
        "27. Write a program to print the following pattern:\n",
        "\n",
        "\n",
        "\n",
        "```\n",
        "1\n",
        "22\n",
        "333\n",
        "4444\n",
        "55555\n",
        "```\n",
        "\n"
      ]
    },
    {
      "cell_type": "code",
      "metadata": {
        "id": "N9uwap_Zll-Y",
        "colab_type": "code",
        "colab": {}
      },
      "source": [
        "for i in range (1,6):\n",
        "  print(str(i)*i)"
      ],
      "execution_count": 0,
      "outputs": []
    },
    {
      "cell_type": "markdown",
      "metadata": {
        "id": "P28719mtl6Tq",
        "colab_type": "text"
      },
      "source": [
        "28. Write a program to find greatest common divisor (GCD) of two numbers.\n",
        "\n",
        "* Input: x = 54, y = 24\n",
        "* Expected output:\n",
        "* Tip: try to improve the algorithm following the strategies here: https://en.wikipedia.org/wiki/Greatest_common_divisor\n",
        "\n",
        "\n",
        "\n",
        "```\n",
        "The GCD of 54 and 24 is: 6\n",
        "```\n",
        "\n"
      ]
    },
    {
      "cell_type": "code",
      "metadata": {
        "id": "DLh8bFmBoXVx",
        "colab_type": "code",
        "colab": {}
      },
      "source": [
        "#Python version in the math library\n",
        "def gcd(a, b):\n",
        "    \"\"\"Calculate the Greatest Common Divisor of a and b.\n",
        "\n",
        "    Unless b==0, the result will have the same sign as b (so that when\n",
        "    b is divided by it, the result comes out positive).\n",
        "    \"\"\"\n",
        "    while b:\n",
        "        a, b = b, a%b\n",
        "    return a"
      ],
      "execution_count": 0,
      "outputs": []
    },
    {
      "cell_type": "code",
      "metadata": {
        "id": "cIPayz6NmTUu",
        "colab_type": "code",
        "colab": {}
      },
      "source": [
        "x = 54\n",
        "y = 24\n",
        "gcd = 1\n",
        "#find x divisor\n",
        "current_divisor = 1\n",
        "if x != 0 and y != 0:\n",
        "  if x > y:\n",
        "    top = y\n",
        "  else:\n",
        "    top = x\n",
        "  while (current_divisor < top):\n",
        "    if (x % current_divisor == 0) and (y % current_divisor == 0):\n",
        "      gcd = current_divisor\n",
        "    current_divisor = current_divisor + 1\n",
        "\n",
        "  print(\"The GCD of {} and {} is: {}\".format(x,y,gcd))\n",
        "else:\n",
        "  print(\"The input must be different to 0.\")\n",
        "  \n",
        "  "
      ],
      "execution_count": 0,
      "outputs": []
    },
    {
      "cell_type": "markdown",
      "metadata": {
        "id": "ZrB7HLLtqwBo",
        "colab_type": "text"
      },
      "source": [
        "29. Write a program that counts the number of primer numbers between 1-MAX.\n",
        "\n",
        "* Input: MAX = 100\n",
        "* Expected output:\n",
        "\n",
        "\n",
        "```\n",
        "The number of primer numbers between 1 and 100 is 26.\n",
        "```\n",
        "\n"
      ]
    },
    {
      "cell_type": "code",
      "metadata": {
        "id": "vRLGyzpkrB4d",
        "colab_type": "code",
        "colab": {
          "base_uri": "https://localhost:8080/",
          "height": 34
        },
        "outputId": "2f0ae2b5-b0d0-42b9-866d-338e31975db1"
      },
      "source": [
        "MAX = 100\n",
        "n_primes = 0\n",
        "n = 1\n",
        "\n",
        "while n < MAX:\n",
        "  n_divisors = 1\n",
        "  divisor = 1\n",
        "  #Loop if n is prime\n",
        "  while divisor < n and n_divisors <= 2:\n",
        "    if n % divisor == 0:\n",
        "      n_divisors = n_divisors + 1\n",
        "    divisor = divisor + 1\n",
        "  #End loop if n is prime\n",
        "  #Step second loop\n",
        "  if n_divisors <= 2:\n",
        "    n_primes = n_primes + 1\n",
        "  \n",
        "  n = n + 1\n",
        "\n",
        "print(\"The number of primer numbers between 1 and {} is {}.\".format(MAX, n_primes)) "
      ],
      "execution_count": 53,
      "outputs": [
        {
          "output_type": "stream",
          "text": [
            "The number of primer numbers between 1 and 100 is 26.\n"
          ],
          "name": "stdout"
        }
      ]
    },
    {
      "cell_type": "markdown",
      "metadata": {
        "id": "mMWJkzHhrkZM",
        "colab_type": "text"
      },
      "source": [
        "30. Write a program that sums all primer numbers between 1-MAX.\n",
        "\n",
        "* Input: MAX = 100\n",
        "* Expected output:\n",
        "\n",
        "\n",
        "```\n",
        "The sum of all primer numbers between 1 and 100 is 1061.\n",
        "```"
      ]
    },
    {
      "cell_type": "code",
      "metadata": {
        "id": "L2O9mXFnrq5e",
        "colab_type": "code",
        "colab": {
          "base_uri": "https://localhost:8080/",
          "height": 34
        },
        "outputId": "f687fd21-2719-450d-c0e2-214a84b420de"
      },
      "source": [
        "MAX = 100\n",
        "sum_primes = 0\n",
        "n = 1\n",
        "\n",
        "while n < MAX:\n",
        "  n_divisors = 1\n",
        "  divisor = 1\n",
        "  #Loop if n is prime\n",
        "  while divisor < n and n_divisors <= 2:\n",
        "    if n % divisor == 0:\n",
        "      n_divisors = n_divisors + 1\n",
        "    divisor = divisor + 1\n",
        "  #End loop if n is prime\n",
        "  #Step second loop\n",
        "  if n_divisors <= 2:\n",
        "    sum_primes = sum_primes + n\n",
        "  \n",
        "  n = n + 1\n",
        "\n",
        "print(\"The sum of all primer numbers between 1 and {} is {}.\".format(MAX, sum_primes)) "
      ],
      "execution_count": 54,
      "outputs": [
        {
          "output_type": "stream",
          "text": [
            "The sum of all primer numbers between 1 and 100 is 1061.\n"
          ],
          "name": "stdout"
        }
      ]
    },
    {
      "cell_type": "markdown",
      "metadata": {
        "id": "ghYo6SaxsBaM",
        "colab_type": "text"
      },
      "source": [
        "31. Write a program to approximate the value of $e$ using the Taylor series for $e^x$.\n",
        "\n",
        "$\\begin{align}\n",
        "   \\sum_{n=0}^\\infty \\frac{x^n}{n!} &= \\frac{x^0}{0!} + \\frac{x^1}{1!} + \\frac{x^2}{2!} + \\frac{x^3}{3!} + \\frac{x^4}{4!} + \\frac{x^5}{5!}+ \\cdots \n",
        " \\end{align}$\n",
        "\n",
        " * Input: x = 1, MAX (N) = 100\n",
        " * Expected output: \n",
        "\n",
        "\n",
        "```\n",
        "The value of e is 2.7182818284590455\n",
        "```\n",
        "\n"
      ]
    },
    {
      "cell_type": "code",
      "metadata": {
        "id": "XQ8LoAjosgDK",
        "colab_type": "code",
        "colab": {}
      },
      "source": [
        "sum_e = 0\n",
        "MAX = 100\n",
        "x = 1\n",
        "for n in range (1, MAX+1):\n",
        " factorial_n = 1\n",
        " for i in range(1,n):\n",
        "   factorial_n = i * factorial_n\n",
        " sum_e = sum_e + (1/factorial_n)\n",
        "\n",
        "print(\"The value of e is {}\".format(sum_e))"
      ],
      "execution_count": 0,
      "outputs": []
    },
    {
      "cell_type": "markdown",
      "metadata": {
        "id": "uLkqZeLf04p-",
        "colab_type": "text"
      },
      "source": [
        "32. Write a program to detect whether a number is a perfect number.\n",
        "\n",
        "* A number is perfect if the addition of all positive divisors is equal to the number.\n",
        "\n",
        "* Input: n = 6\n",
        "* Expected output:\n",
        "\n",
        "\n",
        "```\n",
        "The number 6 is perfect.\n",
        "```\n",
        "\n"
      ]
    },
    {
      "cell_type": "code",
      "metadata": {
        "id": "VlZdg6sJ1KD_",
        "colab_type": "code",
        "colab": {}
      },
      "source": [
        "n = 6\n",
        "perfect = 0\n",
        "for i in range (1,n):\n",
        "  if n%i == 0:\n",
        "    perfect = perfect + i\n",
        "\n",
        "if perfect == n:\n",
        "  print(\"The number {} is perfect.\".format(n))\n",
        "else:\n",
        "  print(\"The number {} is NOT perfect.\".format(n))"
      ],
      "execution_count": 0,
      "outputs": []
    }
  ]
}