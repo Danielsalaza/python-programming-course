{
  "nbformat": 4,
  "nbformat_minor": 0,
  "metadata": {
    "colab": {
      "name": "Best_Summer_Intro_Python_2022.ipynb",
      "provenance": []
    },
    "kernelspec": {
      "name": "python3",
      "display_name": "Python 3"
    },
    "language_info": {
      "name": "python"
    }
  },
  "cells": [
    {
      "cell_type": "markdown",
      "source": [
        "#The Python programming language\n"
      ],
      "metadata": {
        "id": "H-HqhwJBHLd1"
      }
    },
    {
      "cell_type": "markdown",
      "source": [
        "\n",
        "## **Is software eating the world?**\n",
        "\n",
        "The popular web pioneer *Mark Anderssen* pointed out and discussed this question in an article in the New York Times in 2011. He stated that everything is fueled by software. From a business to a personal perspective we can agree that this is completely true.\n",
        "\n",
        "* *Could we find examples of our daily life in which software is participating somehow?*\n",
        "\n",
        "* *Can you think in some example?*\n",
        "\n",
        "* *When was the last time you bought a music album? 5 years ago? Maybe for a present?*\n",
        "* *Do you go to a travel agency to make the reservation of a hotel or to buy ticket flights?*\n",
        "* *Have you realized that telephone boxes are now a point of interest to make pictures but not to call?*\n",
        "\n",
        "I guess, again, your answer, in a high percentage, is **YES**! \n",
        "\n",
        "and, now, AI is eating software...\n",
        "\n",
        "## Python\n",
        "\n",
        "Python was designed in the late 1980s by Guido van Rossum (CWI, Google) inspired by the ABC programming language (a general-purpose language and environment created in the CWI, Netherlands).\n",
        "\n",
        "> ![Guido_van_Rossum](https://upload.wikimedia.org/wikipedia/commons/thumb/9/94/Guido_van_Rossum_OSCON_2006_cropped.png/160px-Guido_van_Rossum_OSCON_2006_cropped.png)\n",
        "\n",
        "> Figure: Guido van Rossum. Source: Wikimedia. \n",
        "\n",
        "Initially, the Python creator and other developers were thinking in a programming language that will fulfill some requirements (see the next section, The Zen of Python). The philosophy behind Python is that** code must be readable helping programmers to write clean code**. As we have introduced, Python is a general-purpose programming language that supports multiple programming paradigm: procedural, object-oriented, and functional programming. It also includes a large library of functionalities (modules that offer some specific capabilities).\n",
        "\n",
        "There are Python interpreters for most of the operating systems and a community of developers maintains the [CPython](https://github.com/python/cpython), an open source reference implementation. Currently, [Python is in its version 3.8.1](https://www.python.org/downloads/).\n",
        "\n",
        "The name of \"Python\" comes as a tribute to the Monty Python group.\n",
        "\n",
        "The use of Python can be found in [many domains and sectors](https://realpython.com/world-class-companies-using-python/):\n",
        "\n",
        "* Google\n",
        "* Facebook\n",
        "* Instagram\n",
        "* Spotify\n",
        "* Quora\n",
        "* Netflix\n",
        "* Dropbox\n",
        "* Reddit\n",
        "* Microsoft\n",
        "\n",
        "Last times, Python is keeping a good battle to be the main programming language for data science. (see the next video)\n",
        "\n",
        "\n",
        "### The Zen of Python (not for studying)\n",
        "* Beautiful is better than ugly.\n",
        "* Explicit is better than implicit.\n",
        "* Simple is better than complex.\n",
        "* Complex is better than complicated.\n",
        "* Flat is better than nested.\n",
        "* Sparse is better than dense.\n",
        "* Readability counts.\n",
        "* Special cases aren't special enough to break the rules.\n",
        "* Although practicality beats purity.\n",
        "* Errors should never pass silently.\n",
        "* Unless explicitly silenced.\n",
        "* In the face of ambiguity, refuse the temptation to guess.\n",
        "* There should be one -- and preferably only one -- obvious way to do it.\n",
        "* Although that way may not be obvious at first unless you're Dutch.\n",
        "* Now is better than never.\n",
        "* Although never is often better than *right* now.\n",
        "* If the implementation is hard to explain, it's a bad idea.\n",
        "* If the implementation is easy to explain, it may be a good idea.\n",
        "* Namespaces are one honking great idea -- let's do more of those!\n",
        "\n"
      ],
      "metadata": {
        "id": "jRD7uck4J1c_"
      }
    },
    {
      "cell_type": "markdown",
      "source": [
        "##Setting up the environment\n",
        "\n",
        "nce we know the process of compiling and execution of a Python program (theoretically speaking), it is time to start coding simple programs and setting up our development environment. We need to configure the next things in our machine:\n",
        "*   A Python compiler and interpreter.\n",
        "*   An integrated development environment (IDE). This is **not completely necessary** since we could write source code in any text-processor such as Notepad++. However, an IDE eases the tasks of: project management, program coding (syntax highlighting, debugging, etc.) and program construction and execution.\n",
        "\n",
        "To prepare this environment, we have different options:\n",
        "\n",
        "1. **Manual Python local installation** (Python 3 + Spyder). Make an instalation of the Python compiler and interpreter (isolated). Afterwards, we download and installed an IDE like Spyder or Pycharm. \n",
        "  * To do so, we have select our platform and the last version of the Python [distribution in the official web page](https://www.python.org/downloads/).\n",
        "     * [Spyder](https://www.spyder-ide.org/) or \n",
        "     * [PyCharm](https://www.jetbrains.com/es-es/pycharm/).\n",
        "  * To check the installation, we can open a console a type \"python\".\n",
        "  * If we need to install extra packages, we can use the [pip](https://pypi.org/project/pip/) (Python Package Index) utility as a command line tool (here, it is showed the Python interpreter within Anaconda).\n",
        "\n",
        "![Python console](https://github.com/chemaar/python-programming-course/raw/master/imgs/pyton-console.png)\n",
        ">*Figure: Python running from the console.*\n",
        "\n",
        "2. **Managed Python installation** (Anaconda, recommended). Anaconda is a meta-manager of Python tools that already includes the Python interpreter, the IDE, etc. You can download Anaconda from [here](https://www.anaconda.com/distribution/), depending on your machine (~700MB). \n",
        "  * We can prepare an isolated `conda` environment (by default we have the base environment) for our work and, thus, it is possible to m[anage all dependencies we have](https://docs.conda.io/projects/conda/en/latest/user-guide/tasks/manage-environments.html). To do so, we have to open the Anaconda console (it is also possible through the Anaconda graphical user interface).\n",
        "\n",
        "> ```\n",
        " conda create --name ProgrammingCourse\n",
        "conda activate ProgrammingCourse\n",
        "```\n",
        "\n",
        "![Conda create environment](https://github.com/chemaar/python-programming-course/raw/master/imgs/conda-create.png)\n",
        "\n",
        ">*Figure: Anaconda console and commands to create a new environment.*\n",
        "\n",
        "In this manner, we can already run from the console any Python program through the interpreter executing one of the following commands:\n",
        "\n",
        "> ```\n",
        "python #to open the interpreter, Ctrl+d to exit\n",
        "python file.py #to run a script\n",
        "```\n",
        "\n",
        "![Conda Navigator](https://github.com/chemaar/python-programming-course/raw/master/imgs/anaconda-navigator.png)\n",
        "\n",
        ">*Figure: Anaconda navigator.*\n",
        "\n",
        "Even better, we can now launch the Anaconda Navigator, select and launch Spyder and we have everything ready to code with an IDE (the first time, it will take sometime to configure the environment). It is important to remark that inside Spyder we have as interpreter IPython (Interactive Python), an enhanced version of the Python interpreter.\n",
        "\n",
        "![Spyder](https://github.com/chemaar/python-programming-course/raw/master/imgs/spyder-gui.png)\n",
        "\n",
        ">*Figure: Spyder IDE.*\n",
        "\n",
        "and now, **we are ready to code!**\n"
      ],
      "metadata": {
        "id": "kGOhVLJoIYXC"
      }
    },
    {
      "cell_type": "markdown",
      "source": [
        "#Elements of programming: constants, variables, operators and expressions\n"
      ],
      "metadata": {
        "id": "oe7BNPZsHQGC"
      }
    },
    {
      "cell_type": "markdown",
      "source": [
        "\n",
        "## Identifiers\n",
        "\n",
        "An identifier can be defined as human-readable name for an element within a \n",
        "program.\n",
        "\n",
        "### **Application**\n",
        "\n",
        "It is possible to name almost any element within a program. For example:\n",
        "\n",
        "* Constants\n",
        "* Variables\n",
        "* Functions\n",
        "* Class attributes\n",
        "* Class methods\n",
        "* Modules\n",
        "* ...\n",
        "\n",
        "### **Identifiers in the Python programming language**\n",
        "\n",
        "* In the Python programming language, an identifier is  basically a sequence of case sensitive characters that must begin with a letter (a-z,A-B) or underscore (_) and follow by other similar characters with a reasonable lenght.\n",
        "* Some reserved words cannot be used as identifiers to avoid ambiguity.\n",
        "\n",
        "\n",
        "```\n",
        "identifier   ::=  xid_start xid_continue*\n",
        "id_start     ::=  <all characters in general categories Lu, Ll, Lt, Lm, Lo, Nl, the underscore, and characters with the Other_ID_Start property>\n",
        "id_continue  ::=  <all characters in id_start, plus characters in the categories Mn, Mc, Nd, Pc and others with the Other_ID_Continue property>\n",
        "xid_start    ::=  <all characters in id_start whose NFKC normalization is in \"id_start xid_continue*\">\n",
        "xid_continue ::=  <all characters in id_continue whose NFKC normalization is in \"id_continue*\">\n",
        "```\n",
        "\n",
        "   * Lu - uppercase letters\n",
        "   * Ll - lowercase letters\n",
        "   * Lt - titlecase letters\n",
        "   * Lm - modifier letters\n",
        "   * Lo - other letters\n",
        "   * Nl - letter numbers\n",
        "   * Mn - nonspacing marks\n",
        "   * Mc - spacing combining marks\n",
        "   * Nd - decimal numbers\n",
        "   * Pc - connector punctuations\n",
        "\n"
      ],
      "metadata": {
        "id": "0QYpLpQVKAUL"
      }
    },
    {
      "cell_type": "code",
      "source": [
        "this_is_my_identifier = 3\n",
        "_another_identifier = 4\n",
        "This_is_my_identifier = 5\n",
        "other_4567890_identifier = 6\n",
        "id = 7 #id is a reserved word, and can lead to misleading behaviors\n",
        "print(this_is_my_identifier)\n",
        "print(_another_identifier)\n",
        "print(This_is_my_identifier)\n",
        "print(other_4567890_identifier)\n",
        "print(id)"
      ],
      "metadata": {
        "id": "555McAjoJK_i"
      },
      "execution_count": null,
      "outputs": []
    },
    {
      "cell_type": "markdown",
      "source": [
        "## Variables\n",
        "\n",
        "A variable is an identifier to access a memory area (reference) in which we will store a value that can change during the execution of the program.\n",
        "\n",
        "### **Application**\n",
        "\n",
        "* The use of variables is clear when we need to store and retrieve a value.\n",
        "\n",
        "### **Variables in the Python programming language**\n",
        "\n",
        "In Python, we have the notion of a variable as an identifier that can be declared at any time, anywhere at a **local scope**. Following some Python-specific features are presented:\n",
        "\n",
        "* A variable is an **identifier** (name) following the [rules to write identifiers in the Python programming language](https://docs.python.org/3/reference/lexical_analysis.html#identifiers).\n",
        "* A variable has a **datatype** that indicates the size of the content in the memory and how to interpret the information stored in the memory.\n",
        "* In Python, variables are **managed at a local scope**.\n",
        "* As a good practice, a variable name should be **representative and explanatory** avoiding names such as \"temp\", \"other\", etc.\n",
        "* In Python, any variable is **a reference to an object in the memory**.\n"
      ],
      "metadata": {
        "id": "Fm_kixuxJMJf"
      }
    },
    {
      "cell_type": "code",
      "source": [
        "my_integer_variable = 2\n",
        "print(my_integer_variable)\n",
        "#Reference to the memory: identity of the variable\n",
        "print(id(my_integer_variable))\n",
        "my_integer_variable = 5\n",
        "print(id(my_integer_variable))"
      ],
      "metadata": {
        "id": "ElHlQO2iJeWl",
        "colab": {
          "base_uri": "https://localhost:8080/"
        },
        "outputId": "457f6d08-b0e4-4113-8299-980d4ed25e14"
      },
      "execution_count": 9,
      "outputs": [
        {
          "output_type": "stream",
          "name": "stdout",
          "text": [
            "2\n",
            "11256096\n",
            "11256192\n"
          ]
        }
      ]
    },
    {
      "cell_type": "code",
      "source": [
        "a = 2\n",
        "#A datatype is integer\n",
        "print(type(a))\n",
        "#...now we assign another value, with type string\n",
        "a = \"hello\"\n",
        "print(type(a))"
      ],
      "metadata": {
        "id": "j4OgKhgpJslH",
        "colab": {
          "base_uri": "https://localhost:8080/"
        },
        "outputId": "139fe147-04cb-49ab-ed7a-8ced9b1d1b50"
      },
      "execution_count": 10,
      "outputs": [
        {
          "output_type": "stream",
          "name": "stdout",
          "text": [
            "<class 'int'>\n",
            "<class 'str'>\n"
          ]
        }
      ]
    },
    {
      "cell_type": "markdown",
      "source": [
        "## Statements\n",
        "\n",
        "* A statement is a grammatically correct sentence. There are different types of statements, but we can summarize them in the following list:\n",
        "\n",
        "  * ***Constant/variable*** declaration. It is an statement in which a new value is assigned to a variable.\n",
        "  * ***Assignments***. It is an statement in which a value is assigned to an identifier (variable, constant).\n",
        "  * ***Expressions***. It is an statement that performs some calculation with operators and operands. There are different types of expressions:\n",
        "     1. Arithmetical\n",
        "     2. Comparison\n",
        "     3. Logical\n",
        "  * *Control flow statements*. There are two main types:\n",
        "     1. Conditional (if-else) statements.\n",
        "     2. Loops (for, while) statements.\n",
        "     3. Unconditional jumps (go to, pass, break) statements.\n",
        "  * *Function declaration*.\n",
        "  * *Function invocation*.\n",
        "  * *Class declaration*.\n",
        "  * *Method declaration*.\n",
        "  * *Method invocation*.\n",
        "  * ...\n",
        "\n",
        "#### **Application**\n",
        "\n",
        "* When coding we will make use of the different statements to build our program."
      ],
      "metadata": {
        "id": "Gxi5pJBbKT6D"
      }
    },
    {
      "cell_type": "markdown",
      "source": [
        "## Datatypes\n",
        "\n",
        "A datatype indicates the type of content that is stored in some variable and, by extension, the size that must be allocated in the memory and the type and semantics of the operations that we can make with those values.\n",
        "\n",
        "### **Application**\n",
        "\n",
        "* When coding we will make use of the different statements to build our program.\n",
        "\n",
        "### **Datatypes in the Python programming language**\n",
        "\n",
        "In Python, we have different datatypes:\n",
        "   * There are **simple datatypes** like integer, float or boolean.\n",
        "   * There are **complex datatypes** (objects) such as string, date or any other class.\n",
        "   * There are **user-defined datatypes** that are specific datatypes defined by the programmer using a combination of existing datatypes.\n",
        "   * Datatypes allow us to ensure that specific operations can be done with constants/variables.\n",
        "   * Variables can be **mutable** (the value that is referenced in the memory can change) or **inmutable** (if a new value is assigned, a new memory area is allocated).\n",
        "   * In Python, any constant and/or variable has a type that corresponds to the current value that is pointed by the identifier (**dynamic typing**).\n",
        "\n",
        "Following, we present a summary of the [official hierarchy of datatypes](https://docs.python.org/3/reference/datamodel.html#the-standard-type-hierarchy) in Python (directly taken from the official reference):\n",
        "\n",
        "* `None`. This type has a single value. There is a single object with this value. This object is accessed through the built-in name None. It is used to signify the absence of a value in many situations. Its truth value is false.\n",
        "* **Number**. These are created by numeric literals and returned as results by arithmetic operators and arithmetic built-in functions. **Numeric objects are immutable; once created their value never changes.** Python numbers are of course strongly related to mathematical numbers, but subject to the limitations of numerical representation in computers.\n",
        "  *  Integers (int)\n",
        "  *  Booleans (bool)\n",
        "  *  Float (float)\n",
        "  *  Complex (complex)\n",
        "* **Sequences**\n",
        "  * **Immutable sequences**. An object of an immutable sequence type cannot change once it is created.\n",
        "    * Strings. A string is a sequence of values that represent Unicode code points. All the code points in the range U+0000 - U+10FFFF can be represented in a string. Python doesn’t have a char type; instead, every code point in the string is represented as a string object with length 1. \n",
        "    * Tuples. The items of a tuple are arbitrary Python objects. Tuples of two or more items are formed by comma-separated lists of expressions. \n",
        "  * **Mutable sequences**. Mutable sequences can be changed after they are created. \n",
        "    * Lists. The items of a list are arbitrary Python objects. Lists are formed by placing a comma-separated list of expressions in square brackets.\n",
        "* **Set types**. These represent unordered, finite sets of unique, immutable objects. \n",
        "* **Mappings**. These represent finite sets of objects indexed by arbitrary index sets. The subscript notation a[k] selects the item indexed by k from the mapping a; \n",
        "  * Dictionaries. These represent finite sets of objects indexed by nearly arbitrary values. The only types of values not acceptable as keys are values containing lists or dictionaries or other mutable types that are compared by value rather than by object identity, the reason being that the efficient implementation of dictionaries requires a key’s hash value to remain constant.\n",
        "* ...\n",
        "* **Modules**. Modules are a basic organizational unit of Python code, and are created by the `import` system as invoked either by the `import` statement.\n"
      ],
      "metadata": {
        "id": "4A81Oe2yJf0n"
      }
    },
    {
      "cell_type": "markdown",
      "source": [
        "## Expressions and operators\n",
        "\n",
        "As we have introduced, an expression is a type of statement to define an operation with **operators** and operands. There are different types of expressions: \n",
        "     1. Arithmetical\n",
        "     2. Comparison\n",
        "     3. Logical\n",
        "\n",
        "* **Operators**. An operator is a symbol that serves us to build expressions combining different operands.\n",
        "\n",
        "#### **Expressions in the Python programming language**\n",
        "\n",
        "\n",
        "1. **Arithmetic  operators**. These are operators that perform some artithmetical operation returning a number.\n",
        "\n",
        "|Operator | Type | Interpretation| Example |\n",
        "--- | --- | --- | ---\n",
        "|+ | Unary | Only to complement the unary negation| +a\n",
        "|- | Unary | Unary negation| -a\n",
        "|+ | Binary | Adds two expressions (e.g. two variables) | a + b\n",
        "|- | Binary | Subtracts two expressions (e.g. two variables) | a - b\n",
        "| \\* | Binary | Multiplies two expressions (e.g. two variables) | a * b\n",
        "| / | Binary | Divides (float value) two expressions (e.g. two variables) | a / b\n",
        "| // | Binary | Divides (integer two expressions (e.g. two variables) | a // b\n",
        "| % | Binary | Returns the remainder of two expressions (e.g. two variables) | a % b\n",
        "| ** | Binary | Raise an expression to an exponent  (e.g. two variables) | a \\** b\n",
        "\n",
        "\n",
        "2. **Comparison operators**. These are operators that perform a comparison returning a boolean value (True or False).\n",
        "\n",
        "|Operator | Type | Interpretation| Example |\n",
        "--- | --- | --- | ---\n",
        "|== | Binary | True if the two expressions are **equal** (by value), False otherwise| a == b\n",
        "|!= | Binary | True if the two expressions are **NOT equal** (by value), False otherwise| a != b\n",
        "|>| Binary | True if one value is greater than the other (by value), False otherwise| a > b\n",
        "|<| Binary | True if one value is less than the other (by value), False otherwise| a < b\n",
        "|>=| Binary | True if one value is greater or equal than the other (by value), False otherwise| a >= b\n",
        "|<=| Binary | True if one value is less or equal than the other (by value), False otherwise| a <= b\n",
        "\n",
        "> It is possible to evaluate some expressions that are not boolean, as boolean values. Python has a perfectly defined strategy to evaluate as **FALSE** the following situations.\n",
        "> \n",
        "\n",
        "*   The value `False`.\n",
        "*   Any numerical value that is zero (0, 0.0, 0.0+0.0j).\n",
        "*   An empty string.\n",
        "*   An instance of built-in composite datatype (such as list) which is empty.\n",
        "*   The value `None`.\n",
        "\n",
        "> **In the case of comparing floating numbers, we need to be specially careful because of the representation error.**\n",
        "\n",
        "\n",
        "\n",
        "```\n",
        "r = 2.1 + 3.2\n",
        "print(r == 5.3)\n",
        "#Another way to compare float values is to consider some tolerance\n",
        "print(abs(r - 5.3) < 0.0000001)\n",
        "```\n",
        "\n",
        "3. **Logical operators**. These operators serve us to compose logical expressions (make conditions). It is important to know the truth tables of each operator.\n",
        "\n",
        "|Operator | Type | Interpretation| Example |\n",
        "--- | --- | --- | ---\n",
        "|and | Binary | Logical AND, true if both are true, false otherwise.| a and b\n",
        "|or | Binary | Logical OR, true if any is true, false otherwise| a or b\n",
        "|not | Unary | Logical NOT, it negates the current logical value. | not a\n",
        "\n",
        "> **The evaluation of a logical AND is short-circuited (once an operand is false, the interpreter will NOT continue evaluating the rest of operands.**\n",
        "\n",
        "> Other interesting Python feature are **chained comparisons** in which we can express natural comparisons that are more complex.\n",
        "\n",
        "\n",
        "\n",
        "```\n",
        "a = 2\n",
        "b = 3\n",
        "c = 8\n",
        "a < b <= c\n",
        "#This is similar to\n",
        "a < b and b <= c\n",
        "```\n",
        "\n",
        "\n",
        "4. **Bitwise operators**. They manage operands as sequences of binary digits operating them bit by bit. \n",
        "\n",
        "|Operator | Type | Interpretation| Example |\n",
        "--- | --- | --- | ---\n",
        "|& | Binary | Each bit position is the AND operation between the bits at that position | a & b\n",
        "| \\| | Binary |  Each bit position is the OR operation between the bits at that position | a | b\n",
        "|~ | Unary | Bit negation | ~ a\n",
        "|^ | Binary | Each bit position is the XOR operation between the bits at that position| a ^ b\n",
        "|>> | Binary | Each bit is shifted right n places | a >> n\n",
        "|<< | Binary | Each bit is shifted left n places | a >> n\n",
        "\n",
        "5. **Identity Operators.** `is` and `id` that determine whether the given operands have the same identity—that is, refer to the same object. This is not the same thing as equality, which means the two operands refer to objects that contain the same data but are not necessarily the same object\n",
        "\n",
        "* **Operator precedence**. When performing operations on expressions with operands and operators, it is necessary to know the operator precedence to properly calculate the value. The precedence and order of evaluation in **Python is similar to other languages: from the highest to lowest precedence and from the left to the right**. The precedence is something we can establish using parenthesis. \n",
        "\n",
        "|Operator | Priority (highest)\n",
        "--- | --- |\n",
        "** | exponentiation\n",
        "+a, -b, ~b | unary operations\n",
        "*, /, //, % | mutiplication and division\n",
        "+, - | addition and subtraction\n",
        "+, - | addition and subtraction\n",
        "<<, >> | bit shifts\n",
        "& | bit and\n",
        "^ | bit xor\n",
        "\\| | bit or\n",
        "==, !=, <, <=, >, >=, is, is not | comparison\n",
        "not | logical not\n",
        "and | logical and\n",
        "or | logical or\n"
      ],
      "metadata": {
        "id": "54MgUeinKtkW"
      }
    },
    {
      "cell_type": "markdown",
      "source": [
        "## Other elements of the Python programming language\n",
        "\n",
        "* **Keywords**. The following identifiers are used as reserved words, or keywords of the language, and cannot be used as ordinary identifiers. They must be spelled exactly as written here:\n",
        "\n",
        "\n",
        "```\n",
        "False      await      else       import     pass\n",
        "None       break      except     in         raise\n",
        "True       class      finally    is         return\n",
        "and        continue   for        lambda     try\n",
        "as         def        from       nonlocal   while\n",
        "assert     del        global     not        with\n",
        "async      elif       if         or         yield\n",
        "```\n",
        "\n",
        "* **Builtin-functions**. The Python interpreter has a number of functions and types built into it that are always available. ([See more](https://docs.python.org/3/library/functions.html))\n",
        "\n",
        "\n",
        "* **Delimiters**. These are symbols/tokens that serve as delimiters in the grammar.\n",
        "\n",
        "```\n",
        "(       )       [       ]       {       }\n",
        ",       :       .       ;       @       =       ->\n",
        "+=      -=      *=      /=      //=     %=      @=\n",
        "&=      |=      ^=      >>=     <<=     **=\n",
        "```\n"
      ],
      "metadata": {
        "id": "y_dM25dOMklT"
      }
    },
    {
      "cell_type": "markdown",
      "source": [
        "## Examples"
      ],
      "metadata": {
        "id": "mizd9gh3Mtwh"
      }
    },
    {
      "cell_type": "code",
      "source": [
        "#Checking variable types\n",
        "a = 2\n",
        "b = 3\n",
        "c = a\n",
        "char = 'a'\n",
        "string_value = \"hello\"\n",
        "bool_value = True\n",
        "float_value = 2.3\n",
        "print(type(a))\n",
        "print(type(b))\n",
        "print(type(c))\n",
        "print(type(char))\n",
        "print(type(string_value))\n",
        "print(type(bool_value))\n",
        "print(type(float_value))"
      ],
      "metadata": {
        "id": "TFXhOnsLMvAI",
        "colab": {
          "base_uri": "https://localhost:8080/"
        },
        "outputId": "516b9d7e-66f3-4a12-ec39-453f8f87208c"
      },
      "execution_count": 11,
      "outputs": [
        {
          "output_type": "stream",
          "name": "stdout",
          "text": [
            "<class 'int'>\n",
            "<class 'int'>\n",
            "<class 'int'>\n",
            "<class 'str'>\n",
            "<class 'str'>\n",
            "<class 'bool'>\n",
            "<class 'float'>\n"
          ]
        }
      ]
    },
    {
      "cell_type": "code",
      "source": [
        "#Ask for a name and calculate the lenght\n",
        "name = input(\"What is your name? \")\n",
        "l_name = len(name)\n",
        "print (\"Your name: \"+name+\" has \"+str(l_name)+\" characters.\")"
      ],
      "metadata": {
        "id": "0RuSWe78Mx4F",
        "colab": {
          "base_uri": "https://localhost:8080/"
        },
        "outputId": "dc1cafa5-3727-4798-a0f4-6937129e39de"
      },
      "execution_count": 12,
      "outputs": [
        {
          "output_type": "stream",
          "name": "stdout",
          "text": [
            "What is your name? Foo\n",
            "Your name: Foo has 3 characters.\n"
          ]
        }
      ]
    },
    {
      "cell_type": "code",
      "source": [
        "#Calculate the years until 100\n",
        "age = int(input(\"What is your age? \"))\n",
        "years_until_100 = 100-age\n",
        "print (\"Until 100 there are \"+str(years_until_100)+\" years.\")"
      ],
      "metadata": {
        "id": "EqbpxG8bMvIF",
        "colab": {
          "base_uri": "https://localhost:8080/"
        },
        "outputId": "8cd9ae82-bdcf-4c1f-e319-e68cb8a3fcdd"
      },
      "execution_count": 13,
      "outputs": [
        {
          "output_type": "stream",
          "name": "stdout",
          "text": [
            "What is your age? 35\n",
            "Until 100 there are 65 years.\n"
          ]
        }
      ]
    },
    {
      "cell_type": "code",
      "source": [
        "#Temperature conversion\n",
        "t_kelvin = float(input(\"Introduce the temperature in Kelvin...\"))\n",
        "t_celsius = t_kelvin-273.15\n",
        "print (\"The temperature in Celsius is: \"+str(t_celsius))"
      ],
      "metadata": {
        "id": "SKmQtuu0M093"
      },
      "execution_count": null,
      "outputs": []
    },
    {
      "cell_type": "code",
      "source": [
        "#Leap year\n",
        "year = int(input(\"Introduce a year: \"))\n",
        "is_leap_year = (year % 4 == 0)\n",
        "is_leap_year = is_leap_year and (year % 100 != 0)\n",
        "is_leap_year = is_leap_year or (year % 400 == 0)\n",
        "print(\"The year \"+str(year)+\" is leap: \"+str(is_leap_year))"
      ],
      "metadata": {
        "id": "YzhDdFQKM5IS",
        "colab": {
          "base_uri": "https://localhost:8080/"
        },
        "outputId": "fb363a4a-bcb1-43df-d000-9385aa307c7a"
      },
      "execution_count": 15,
      "outputs": [
        {
          "output_type": "stream",
          "name": "stdout",
          "text": [
            "Introduce a year: 1980\n",
            "The year 1980 is leap: True\n"
          ]
        }
      ]
    },
    {
      "cell_type": "code",
      "source": [
        "#Roots\n",
        "import math\n",
        "a = 4\n",
        "b = 5\n",
        "c = 1\n",
        "bac=b**2-4*a*c\n",
        "#This will not work if the roots are not real\n",
        "root_positive = (-b + math.sqrt(bac))/(2*a)\n",
        "root_negative = (-b - math.sqrt(bac))/(2*a)\n",
        "print(\"The roots are:\")\n",
        "print (str(root_positive))\n",
        "print (str(root_negative))"
      ],
      "metadata": {
        "id": "NSYCAKnsM-Tm",
        "colab": {
          "base_uri": "https://localhost:8080/"
        },
        "outputId": "d64c19b7-fc11-416c-c228-f64f9c943698"
      },
      "execution_count": 14,
      "outputs": [
        {
          "output_type": "stream",
          "name": "stdout",
          "text": [
            "The roots are:\n",
            "-0.25\n",
            "-1.0\n"
          ]
        }
      ]
    },
    {
      "cell_type": "code",
      "source": [
        "#Ask Python about the module\n",
        "dir(math)"
      ],
      "metadata": {
        "id": "rmRj-JVDNDtv",
        "colab": {
          "base_uri": "https://localhost:8080/"
        },
        "outputId": "ca438c5c-22c3-4463-e17c-c709311f2455"
      },
      "execution_count": 16,
      "outputs": [
        {
          "output_type": "execute_result",
          "data": {
            "text/plain": [
              "['__doc__',\n",
              " '__loader__',\n",
              " '__name__',\n",
              " '__package__',\n",
              " '__spec__',\n",
              " 'acos',\n",
              " 'acosh',\n",
              " 'asin',\n",
              " 'asinh',\n",
              " 'atan',\n",
              " 'atan2',\n",
              " 'atanh',\n",
              " 'ceil',\n",
              " 'copysign',\n",
              " 'cos',\n",
              " 'cosh',\n",
              " 'degrees',\n",
              " 'e',\n",
              " 'erf',\n",
              " 'erfc',\n",
              " 'exp',\n",
              " 'expm1',\n",
              " 'fabs',\n",
              " 'factorial',\n",
              " 'floor',\n",
              " 'fmod',\n",
              " 'frexp',\n",
              " 'fsum',\n",
              " 'gamma',\n",
              " 'gcd',\n",
              " 'hypot',\n",
              " 'inf',\n",
              " 'isclose',\n",
              " 'isfinite',\n",
              " 'isinf',\n",
              " 'isnan',\n",
              " 'ldexp',\n",
              " 'lgamma',\n",
              " 'log',\n",
              " 'log10',\n",
              " 'log1p',\n",
              " 'log2',\n",
              " 'modf',\n",
              " 'nan',\n",
              " 'pi',\n",
              " 'pow',\n",
              " 'radians',\n",
              " 'remainder',\n",
              " 'sin',\n",
              " 'sinh',\n",
              " 'sqrt',\n",
              " 'tan',\n",
              " 'tanh',\n",
              " 'tau',\n",
              " 'trunc']"
            ]
          },
          "metadata": {},
          "execution_count": 16
        }
      ]
    },
    {
      "cell_type": "code",
      "source": [
        "#Help about a function\n",
        "help(math.sqrt)"
      ],
      "metadata": {
        "id": "MfB42IZYNFMP",
        "colab": {
          "base_uri": "https://localhost:8080/"
        },
        "outputId": "94a16ed2-0f22-4655-f3fd-8fad9a214257"
      },
      "execution_count": 17,
      "outputs": [
        {
          "output_type": "stream",
          "name": "stdout",
          "text": [
            "Help on built-in function sqrt in module math:\n",
            "\n",
            "sqrt(x, /)\n",
            "    Return the square root of x.\n",
            "\n"
          ]
        }
      ]
    },
    {
      "cell_type": "markdown",
      "source": [
        "#Control flow"
      ],
      "metadata": {
        "id": "YPh0wezaNHA8"
      }
    },
    {
      "cell_type": "markdown",
      "source": [
        "## Conditional statements"
      ],
      "metadata": {
        "id": "Lpk0GsNOQD3V"
      }
    },
    {
      "cell_type": "markdown",
      "source": [
        "In the Python programming language, the `if-else` statement is classified as a compound statement (because after its execution a new set of statements will be executed, or, in other words, a new indented block will follow to some of the branches).\n",
        "\n",
        "* The grammar is as follows (in this case we will focus in the first case):\n",
        "\n",
        "\n",
        "```\n",
        "if_stmt ::=  \"if\" expression \":\" suite\n",
        "             (\"elif\" expression \":\" suite)*\n",
        "             [\"else\" \":\" suite]\n",
        "```\n",
        "\n",
        "  * `expression` is a conditional expression (logical operators and operands) that will be evaluated as True or False.\n",
        "  * `suite` is a set of **indented** statements.\n",
        "  * Altough it is not necessary, sometimes it is good to enclose the expression between parenthesis for a better source code readability.\n",
        "\n",
        "> Grammar meaning, \n",
        "> * ()* means between 0-n repetitions of the statement (optional).\n",
        "> * [] means between 0-1 repetitions of the statement (optional).\n"
      ],
      "metadata": {
        "id": "3bELKwU9NeOO"
      }
    },
    {
      "cell_type": "markdown",
      "source": [
        "### Examples"
      ],
      "metadata": {
        "id": "gUP8kjjdN6G8"
      }
    },
    {
      "cell_type": "code",
      "source": [
        "grade = 6\n",
        "\n",
        "if grade >= 5:\n",
        "  print(\"You have passed the course...\")\n",
        "else: \n",
        "  print (\"You have NOT passed the course...\")"
      ],
      "metadata": {
        "id": "X2qCpUivNwC3",
        "colab": {
          "base_uri": "https://localhost:8080/"
        },
        "outputId": "6f462df4-e187-4054-b350-6596c5d6db4b"
      },
      "execution_count": 18,
      "outputs": [
        {
          "output_type": "stream",
          "name": "stdout",
          "text": [
            "You have passed the course...\n"
          ]
        }
      ]
    },
    {
      "cell_type": "code",
      "source": [
        "day = 2\n",
        "\n",
        "if day == 1:\n",
        "  print (\"Monday\")\n",
        "elif day == 2:\n",
        "  print (\"Tuesday\")\n",
        "elif day == 3:\n",
        "  print (\"Wednesday\")\n",
        "elif day == 4:\n",
        "  print (\"Thursday\")\n",
        "elif day == 5:\n",
        "  print (\"Friday\")\n",
        "elif day == 6:\n",
        "  print (\"Saturday\")\n",
        "elif day == 7:\n",
        "  print (\"Sunday\")\n",
        "else:\n",
        "  print(\"That number of day has not a name...\")\n",
        "\n",
        "#Sometimes this it not an elegant way of writing Python code...but it is just an \n",
        "#explanatory example."
      ],
      "metadata": {
        "id": "oSXAOm_yNutx",
        "colab": {
          "base_uri": "https://localhost:8080/"
        },
        "outputId": "f7cdab2f-9a18-4035-ac53-730e1dfdc4d7"
      },
      "execution_count": 19,
      "outputs": [
        {
          "output_type": "stream",
          "name": "stdout",
          "text": [
            "Tuesday\n"
          ]
        }
      ]
    },
    {
      "cell_type": "markdown",
      "source": [
        "## Loops"
      ],
      "metadata": {
        "id": "hTCYy5RIQHnw"
      }
    },
    {
      "cell_type": "markdown",
      "source": [
        "### **WHILE statement in the Python programming language**"
      ],
      "metadata": {
        "id": "dJAE4azlQLLL"
      }
    },
    {
      "cell_type": "markdown",
      "source": [
        "* In the Python programming language, the `while` statement is classified as a compound statement (because after its execution a new set of statements will be executed, or, in other words, a new indented block will follow to some of the branches).\n",
        "\n",
        "* The grammar is as follows (in this case we will focus in the first case):\n",
        "\n",
        "\n",
        "```\n",
        "while_stmt ::=  \"while\" assignment_expression \":\" suite\n",
        "                [\"else\" \":\" suite]\n",
        "```\n",
        "\n",
        "  * `assignment_expression` is a conditional expression (logical operators and operands) that will be evaluated as True or False.\n",
        "  * `suite` is a set of **indented** statements.\n",
        "\n",
        "Following, the official definition is presented:\n",
        "\n",
        ">*This repeatedly tests the expression and, if it is true, executes the first suite; if the expression is false (which may be the first time it is tested) the suite of the else clause, if present, is executed and the loop terminates.* \n",
        ">*A `break` statement executed in the first suite terminates the loop without executing the `else` clause’s suite. A continue statement executed in the first suite skips the rest of the suite and goes back to testing the expression.*\n",
        "\n",
        "> Grammar meaning, \n",
        "> * ()* means between 0-n repetitions of the statement (optional).\n",
        "> * [] means between 0-1 repetitions of the statement (optional).\n",
        "\n",
        "In addition, the `while` statement in the Python programming language allows us to include an `else` statement that will be executed after finishing the loop. **This statement will NOT be executed when the loop is terminated by a break statement**.\n",
        "\n"
      ],
      "metadata": {
        "id": "hGzsin4zN8hv"
      }
    },
    {
      "cell_type": "markdown",
      "source": [
        "### **FOR statement in the Python programming language**\n",
        "\n",
        "The grammar is as follows:\n",
        "\n",
        "```\n",
        "for_stmt ::=  \"for\" target_list \"in\" expression_list \":\" suite\n",
        "              [\"else\" \":\" suite]\n",
        "```\n",
        "* Again, here it is important to remark that **the suite of statements that follow the for clause must be properly indented**.\n",
        "\n",
        ">The expression list is evaluated once; it should yield an iterable object. An iterator is created for the result of the `expression_list`. The suite is then executed once for each item provided by the iterator, in the order returned by the iterator. Each item in turn is assigned to the target list using the standard rules for assignments, and then the `suite` is executed. When the items are exhausted (which is immediately when the sequence is empty or an iterator raises a StopIteration exception), the `suite` in the else clause, if present, is executed, and the loop terminates. (see the [official documentation](https://docs.python.org/3/reference/compound_stmts.html?highlight=control%20flow#grammar-token-for-stmt))\n",
        "\n",
        "* In addition, the `for` statement in the Python programming language allows us to include an `else` statement that will be executed after finishing the loop. A `break` statement executed in the first suite terminates the loop without executing the else clause’s suite. A `continue` statement executed in the first suite skips the rest of the suite and continues with the next item, or with the else clause if there is no next item.\n",
        "\n",
        ">**Remark**: there is a subtlety when the sequence is being modified by the loop (this can only occur for mutable sequences, e.g. lists). An internal counter is used to keep track of which item is used next, and this is incremented on each iteration. When this counter has reached the length of the sequence the loop terminates. This means that if the suite deletes the current (or a previous) item from the sequence, the next item will be skipped (since it gets the index of the current item which has already been treated). Likewise, if the suite inserts an item in the sequence before the current item, the current item will be treated again the next time through the loop. This can lead to nasty bugs that can be avoided by making a temporary copy using a slice of the whole sequence, e.g.,\n"
      ],
      "metadata": {
        "id": "MLK_gx5fQUTh"
      }
    },
    {
      "cell_type": "code",
      "source": [
        "for i in range(0,5):\n",
        "  print (i)"
      ],
      "metadata": {
        "id": "LgUeQLPWOUOQ",
        "colab": {
          "base_uri": "https://localhost:8080/"
        },
        "outputId": "e2922fe4-eb53-4703-bbf8-0c66fe7b244f"
      },
      "execution_count": 20,
      "outputs": [
        {
          "output_type": "stream",
          "name": "stdout",
          "text": [
            "0\n",
            "1\n",
            "2\n",
            "3\n",
            "4\n"
          ]
        }
      ]
    },
    {
      "cell_type": "markdown",
      "source": [
        "### Generating an iterable sequence: the `range` class\n",
        "\n",
        "* `range(start, stop[, step])` (simplified definitions from the [official documentation](https://docs.python.org/3/library/stdtypes.html#range))\n",
        "\n",
        "  * The arguments to the range constructor must be integers (either built-in int or any object that implements the `__index__` special method). If the step argument is omitted, it defaults to 1. \n",
        "\n",
        "  * Ranges containing absolute values larger than sys.maxsize are permitted but some features (such as len()) may raise OverflowError.\n",
        "\n",
        "  * Ranges implement all of the common sequence operations except concatenation and repetition (due to the fact that range objects can only represent sequences that follow a strict pattern and repetition and concatenation will usually violate that pattern).\n",
        "\n",
        "* Parameters:\n",
        "\n",
        "  * `start`: the value of the start parameter (or 0 if the parameter was not supplied)\n",
        "\n",
        "  * `stop`: the value of the stop parameter\n",
        "\n",
        "  * `step`: the value of the step parameter (or 1 if the parameter was not supplied)\n",
        "\n",
        "* **Remark**: *The advantage of the range type over a regular list or tuple is that a range object will always take the same (small) amount of memory, no matter the size of the range it represents (as it only stores the start, stop and step values, calculating individual items and subranges as needed).*"
      ],
      "metadata": {
        "id": "WhU-4outOYor"
      }
    },
    {
      "cell_type": "code",
      "source": [
        "#Examples of range\n",
        "\n",
        "# 10 numbers between 0 and 9: 0,1,2,3,4,5,6,7,8,9\n",
        "for i in range (0,10): \n",
        "  print(str(i)+\",\",end=\"\")\n",
        "print()\n",
        "\n",
        "#Even numbers between 0 and 10 (not included): 0,2,4,6,8\n",
        "for i in range (0, 10, 2): \n",
        "  print(str(i)+\",\",end=\"\")\n",
        "print()\n",
        "#10 numbers between 10 and 0 (not included): 10,9,8,7,6,5,4,3,2,1\n",
        "for i in range (10, 0, -1): \n",
        "  print(str(i)+\",\",end=\"\")\n",
        "print()\n",
        "\n",
        "#Ranges can be sliced\n",
        "# 5 numbers between 0 and 5 (not included): 0,1,2,3,4,\n",
        "for i in range (0,10)[:5]: \n",
        "  print(str(i)+\",\",end=\"\")\n",
        "print()\n",
        "\n",
        "# we reverse here the range: 9,8,7,6,5,4,3,2,1,0,\n",
        "for i in range (0,10)[::-1]: \n",
        "  print(str(i)+\",\",end=\"\")\n",
        "print()"
      ],
      "metadata": {
        "id": "cmbwVszmOhlv",
        "colab": {
          "base_uri": "https://localhost:8080/"
        },
        "outputId": "a2073d2b-bf89-4639-acf7-523e0eeb9771"
      },
      "execution_count": 21,
      "outputs": [
        {
          "output_type": "stream",
          "name": "stdout",
          "text": [
            "0,1,2,3,4,5,6,7,8,9,\n",
            "0,2,4,6,8,\n",
            "10,9,8,7,6,5,4,3,2,1,\n",
            "0,1,2,3,4,\n",
            "9,8,7,6,5,4,3,2,1,0,\n"
          ]
        }
      ]
    },
    {
      "cell_type": "markdown",
      "source": [
        "#Data structures"
      ],
      "metadata": {
        "id": "gYDqwieIP_jE"
      }
    },
    {
      "cell_type": "markdown",
      "source": [
        "\n",
        "\n",
        "**A data structure is the way we organize, structure and store data within a program.**\n",
        "\n",
        "\n",
        "The next figure shows the main relationships between data, data structure, data type and variable. In general, we have **data** (e.g. a list of grades), that, depending on the problem, can be conceptualized in some **data structure** (e.g. a vector of numbers) and, then, we can define a **specific data type** to implement that data structure (e.g. a list of numbers). Finally, we can create **variables** of that new data type.\n",
        "\n",
        "![alt text](https://github.com/chemaar/python-programming-course/raw/master/imgs/IF-ELSE-Data-structures-concepts.png)\n",
        "\n",
        ">Data, Data structure, Data type and variable relationships.\n",
        "\n",
        "Conceptually speaking, we should apply the next steps to identify a proper data structure:\n",
        "\n",
        "1. Identify the type of data. E.g. a sequence of numbers, records, etc.\n",
        "2. Identify the structure to organize data. E.g. a vector, a set, etc.\n",
        "3. Identify the target operations to perform. E.g. search, access element by element, etc.\n",
        "4. Study the cost (and scalability) of the target operations in the different data structures. Usually, this evaluation requires knowledge about the different data structures and their spatial and temporal complexity for each of the target operations.\n",
        "5. Select the most efficient data structure.\n",
        "\n",
        "In our case, we will focus in the first three steps trying to directly map our necessities to a set of predefined data structures."
      ],
      "metadata": {
        "id": "P9sJwVXXHVsT"
      }
    },
    {
      "cell_type": "markdown",
      "source": [
        "## Lists"
      ],
      "metadata": {
        "id": "NHTFLJ76Qbao"
      }
    },
    {
      "cell_type": "markdown",
      "source": [
        "\n",
        "\n",
        "The [class list](https://docs.python.org/3/library/stdtypes.html#list) in Python: `class list([iterable])`:\n",
        "\n",
        "* Lists may be constructed in several ways:\n",
        "\n",
        "  * Using a pair of square brackets to denote the empty list: `[]`\n",
        "\n",
        "  * Using square brackets, separating items with commas: `[a], [a, b, c]`\n",
        "\n",
        "  * Using a list comprehension: `[x for x in iterable]`\n",
        "\n",
        "  * Using the type constructor: `list() or list(iterable)`\n",
        "\n",
        "The constructor builds a list whose items are the same and in the same order as iterable’s items. iterable may be either a sequence, a container that supports iteration, or an iterator object. If iterable is already a list, a copy is made and returned, similar to `iterable[:]`.\n",
        "\n",
        "* Mutability. A list in Python is mutable.\n",
        "\n",
        "* Size. A list in Python is dynamic. Although, this is not what we expect from a vector, it is a feature that we may know when using the class list in Python.\n",
        "\n",
        "* Types of the elements. A list in Python can contain elements of different types. As before, this is a feature that does not correspond to the conceptual view of a vector.\n",
        "\n",
        "* Indexing and slicing. A list in Python can be accessed by position (index) or by slicing the list into a chunk.\n",
        "\n",
        "  * An index is an integer expression. To access an element by an index, we must use the brackets: `mylist[position]`. It is also possible to access elements by using a negative index since there is a double indexing.\n",
        "\n",
        "|Positive index |   0|  1 |2   |\n",
        "|---|---|---|---|\n",
        "|List content|  5 | 6  | 7  |\n",
        "|**Negative index**|  **-3** |  **-2** |  **-1** |\n",
        "\n",
        "  * An slice follows the same notation and has the same meaning as a `range`.\n",
        "\n",
        "\n",
        "* Nested lists. A list in Python can contain elements that are lists. In this manner, we can implement $n$ dimensional vectors.\n",
        "\n",
        "* Operators. Some operators can be applied to lists\n",
        "   * \"+\" which has the meaning of concatenation.\n",
        "\n",
        "```\n",
        "[1, 3, 4] + [2, 5]\n",
        "\n",
        "[1, 3, 4, 2, 5]\n",
        "```\n",
        "\n",
        "\n",
        "   * \"*\" which has the meaning of concatenating $n$ times the list elements.\n",
        "\n",
        "\n",
        "```\n",
        "[1,3,4]*4\n",
        "\n",
        "[1, 3, 4, 1, 3, 4, 1, 3, 4, 1, 3, 4]\n",
        "\n",
        "```\n",
        "\n",
        "\n",
        "\n",
        "#### **Examples of the main functions and methods**\n",
        "\n",
        "Given a list $L$, some of the main methods to work with a list are presented below (-> return value):\n",
        "\n",
        "* len: `len(L) -> number of elements of the list.`\n",
        "* append: `L.append(object) -> None -- append object to end.`\n",
        "* insert: `L.insert(index, object) -- insert object before index. Index is a position.` \n",
        "* index: `L.index(value, [start, [stop]]) -> integer -- return first index of value. Raises ValueError if the value is not present.`\n",
        "* count: `L.count(value) -> integer -- return number of occurrences of value.`\n",
        "* copy: `L.copy() -> list -- a shallow copy of L`. A new object is created.\n",
        "* reverse: `L.reverse() -- reverse *IN PLACE*`. \"In place\" means that the list is modified.\n",
        "* sort: `L.sort(key=None, reverse=False) -> None -- stable sort *IN PLACE*`\n",
        "* remove: `L.remove(value) -> None -- remove first occurrence of value.     Raises ValueError if the value is not present.`\n",
        "* clear: `L.clear() -> None -- remove all items from L.`\n",
        "\n",
        "Other interesting functions are: `extend`, `push` and `pop` (operations for the management of a list with different input/output strategies)."
      ],
      "metadata": {
        "id": "fxOPPz2XOrbG"
      }
    },
    {
      "cell_type": "code",
      "source": [
        "#Creating a list\n",
        "values = [1,2,3]\n",
        "#Accessing elements\n",
        "\n",
        "#Prints 1\n",
        "print(values[0])\n",
        "\n",
        "#Length\n",
        "#Prints 3\n",
        "print(len(values))\n",
        "\n",
        "#Iterating\n",
        "\n",
        "#By value\n",
        "for v in values:\n",
        "  print(v)\n",
        "#By index\n",
        "for i in range (len(values)):\n",
        "  print(values[i])\n",
        "\n",
        "#Adding an element\n",
        "values.append(100)\n",
        "\n",
        "#Creating a copy\n",
        "other_values = values.copy()\n",
        "\n",
        "#Counting elements\n",
        "values.count(3)\n",
        "\n",
        "#Reversing the list\n",
        "values.reverse()\n",
        "\n",
        "#Removing an element\n",
        "values.remove(1)\n",
        "\n",
        "#Removing all elements\n",
        "values.clear()\n",
        "\n",
        "#Slicing\n",
        "#[start, stop, step]"
      ],
      "metadata": {
        "id": "rwspJOXnPTH_",
        "colab": {
          "base_uri": "https://localhost:8080/"
        },
        "outputId": "355295ed-06c3-43d8-aca3-6aff7d251bef"
      },
      "execution_count": 22,
      "outputs": [
        {
          "output_type": "stream",
          "name": "stdout",
          "text": [
            "1\n",
            "3\n",
            "1\n",
            "2\n",
            "3\n",
            "1\n",
            "2\n",
            "3\n"
          ]
        }
      ]
    },
    {
      "cell_type": "markdown",
      "source": [
        "##Strings"
      ],
      "metadata": {
        "id": "2wYNXN8gOtGi"
      }
    },
    {
      "cell_type": "markdown",
      "source": [
        "\n",
        "Textual data in Python is handled with str objects, or strings. Strings are immutable sequences of Unicode code points. String literals are written in a variety of ways:\n",
        "\n",
        "* Single quotes: 'allows embedded \"double\" quotes'\n",
        "\n",
        "* Double quotes: \"allows embedded 'single' quotes\".\n",
        "\n",
        "* Triple quoted: '''Three single quotes''', \"\"\"Three double quotes\"\"\"\n",
        "\n",
        "Triple quoted strings may span multiple lines - all associated whitespace will be included in the string literal.\n",
        "\n",
        "String literals that are part of a single expression and have only whitespace between them will be implicitly converted to a single string literal. That is, (\"spam \" \"eggs\") == \"spam eggs\".\n",
        "\n",
        "The [class string](https://docs.python.org/3/library/stdtypes.html#str) in python is initialized through the next method: `class str(object=b'', encoding='utf-8', errors='strict')`.\n",
        "\n",
        "\n",
        "* Mutability. A string in Python is **inmutable**.\n",
        "\n",
        "* Size. A string in Python is dynamic.\n",
        "\n",
        "* Types of the elements. A string in Python can contain characters.\n",
        "\n",
        "* Indexing and slicing. A string in Python can be accessed by position (index) or by slicing the string into a chunk.\n",
        "\n",
        "  * An index is an integer expression. To access an element by an index, we must use the brackets: `string[position]`. It is also possible to access elements by using a negative index since there is a double indexing.\n",
        "\n",
        "|Positive index |   0|  1 |2   |\n",
        "|---|---|---|---|\n",
        "|String \"Two\" |  T | w  | o  |\n",
        "|**Negative index**|  **-3** |  **-2** |  **-1** |\n",
        "\n",
        "\n",
        "  * An slice follows the same notation and has the same meaning as a `range`.\n",
        "\n",
        "* Operators. Some operators can be applied to strings:\n",
        "   * \"+\" which has the meaning of concatenation.\n",
        "\n",
        "```\n",
        "\"Hello\" + \"World\"\n",
        "\n",
        "\"HelloWorld\"\n",
        "```\n",
        "\n",
        "\n",
        "   * \"*\" which has the meaning of concatenating $n$ times the string characters.\n",
        "\n",
        "\n",
        "```\n",
        "\"Hello\"*2\n",
        "\n",
        "\"HelloHello\"\n",
        "\n",
        "```\n",
        "\n",
        "### **Examples of the main functions and methods**\n",
        "\n",
        "Given a string $S$, some of the main methods to work with a list are presented below (-> return value):\n",
        "\n",
        "* len: `len(S) -> number of characters of the string.`\n",
        "* capitalize: `S.capitalize() -> str`. Return a capitalized version of S, i.e. make the first character have upper case and the rest lower case.\n",
        "* count: `S.count(sub[, start[, end]]) -> int`. Return the number of non-overlapping occurrences of substring sub in string `S[start:end]`.  \n",
        "\n",
        "Optional arguments start and end are interpreted as in slice notation.\n",
        "* endswith: ` S.endswith(suffix[, start[, end]]) -> bool`. Return True if S ends with the specified suffix, False otherwise. With optional start, test S beginning at that position. With optional end, stop comparing S at that position. \n",
        "\n",
        "suffix can also be a tuple of strings to try.\n",
        "* find: `S.find(sub[, start[, end]]) -> int`. Return the lowest index in S where substring sub is found, such that sub is contained within `S[start:end]`. \n",
        "\n",
        "\n",
        "Optional arguments start and end are interpreted as in slice notation. Return -1 on failure.\n",
        "* format: `S.format(*args, **kwargs) -> str`. Return a formatted version of S, using substitutions from args and kwargs. \n",
        "\n",
        "The substitutions are identified by braces ('{' and '}').\n",
        "* index: ` S.index(sub[, start[, end]]) -> int`. Return the lowest index in S where substring sub is found, such that sub is contained within `S[start:end]`.  \n",
        "\n",
        "\n",
        "Optional arguments start and end are interpreted as in slice notation.\n",
        "\n",
        "Raises ValueError when the substring is not found.\n",
        "* isalnum: `S.isalnum() -> bool`. Return True if all characters in S are alphanumeric and there is at least one character in S, False otherwise.\n",
        "* isalpha: ` S.isalpha() -> bool`. Return True if all characters in S are alphabetic and there is at least one character in S, False otherwise.\n",
        "* isdecimal: `S.isdecimal() -> bool`. Return True if there are only decimal characters in S, False otherwise.\n",
        "* isdigit: `S.isdigit() -> bool`.  Return True if all characters in S are digits and there is at least one character in S, False otherwise.\n",
        "* isidentifier: `S.isidentifier() -> bool`. Return True if S is a valid identifier according to the language definition.\n",
        "\n",
        " Use `keyword.iskeyword()` to test for reserved identifiers such as \"def\" and \"class\".\n",
        "\n",
        "    \n",
        "* islower: ` S.islower() -> bool`. Return True if all cased characters in S are lowercase and there is at least one cased character in S, False otherwise.\n",
        "\n",
        "* isnumeric: `S.isnumeric() -> bool`. Return True if there are only numeric characters in S, False otherwise.\n",
        "\n",
        "* isspace: `S.isspace() -> bool`. Return True if all characters in S are whitespace  and there is at least one character in S, False otherwise.\n",
        "\n",
        "* isupper: `S.isupper() -> bool`. Return True if all cased characters in S are uppercase and there is at least one cased character in S, False otherwise.\n",
        "* join: `S.join(iterable) -> str`. Return a string which is the concatenation of the strings in the iterable.  The separator between elements is S.\n",
        "* lower: `S.lower() -> str`. Return a copy of the string S converted to lowercase.\n",
        "* replace: `S.replace(old, new[, count]) -> str`. Return a copy of S with all occurrences of substring old replaced by new.  If the optional argument count is given, only the first count occurrences are replaced.\n",
        "* split: `S.split(sep=None, maxsplit=-1) -> list of strings`. Return a list of the words in S, using sep as the     delimiter string.  \n",
        "\n",
        "If maxsplit is given, at most maxsplit splits are done. If sep is not specified or is None, any whitespace string is a separator and empty strings are removed from the result.\n",
        "* splitlines: `S.splitlines([keepends]) -> list of strings`. Return a list of the lines in S, breaking at line boundaries. Line breaks are not included in the resulting list unless keepends     is given and true.\n",
        "* startswith: `S.startswith(prefix[, start[, end]]) -> bool`.  Return True if S starts with the specified prefix, False otherwise. With optional start, test S beginning at that position.    With optional end, stop comparing S at that position. prefix can also be a tuple of strings to try.\n",
        "* strip: `S.strip([chars]) -> str`.  Return a copy of the string S with leading and trailing whitespace removed.\n",
        "\n",
        "If chars is given and not None, remove characters in chars instead.\n",
        "\n",
        "\n",
        "* title: `S.title() -> str`. Return a titlecased version of S, i.e. words start with title case characters, all remaining cased characters have lower case.\n",
        "\n",
        "There are other methods that are specific implementations of replace, index, find, etc. \n"
      ],
      "metadata": {
        "id": "52UjaS3EPfzL"
      }
    },
    {
      "cell_type": "code",
      "source": [
        "#Some examples of string method invocation\n",
        "\n",
        "name = \"Mary\"\n",
        "print(len(name))\n",
        "\n",
        "print(name.count(\"a\"))\n",
        "\n",
        "#Formatting\n",
        "print(\"mary\".capitalize())\n",
        "\n",
        "#Is methods\n",
        "print(\"123\".isalnum())\n",
        "print(\"A\".isalpha())\n",
        "print(\"1\".isdigit())\n",
        "print(\"def\".isidentifier())\n",
        "print(name.islower())\n",
        "print(name.isupper())\n",
        "print(\" \".isspace())\n",
        "\n",
        "print(\" \".join([\"Mary\", \"has\", \"20\", \"years\"]))\n",
        "#Checking values\n",
        "print(name.startswith(\"M\"))\n",
        "print(name.endswith(\"ry\"))\n",
        "\n",
        "#Finding\n",
        "print(name.find(\"r\"))\n",
        "print(name.index(\"r\"))\n",
        "\n",
        "#Replace\n",
        "print(name.replace(\"M\",\"T\"))\n",
        "\n",
        "#Splitting\n",
        "print(\"Mary has 20 years\".split(\" \"))\n",
        "\n",
        "print(\"    Mary   \".strip())"
      ],
      "metadata": {
        "id": "jgqRkfGSPnmE",
        "colab": {
          "base_uri": "https://localhost:8080/"
        },
        "outputId": "9ba858c4-3e81-4da8-a054-eb9d31925772"
      },
      "execution_count": 23,
      "outputs": [
        {
          "output_type": "stream",
          "name": "stdout",
          "text": [
            "4\n",
            "1\n",
            "Mary\n",
            "True\n",
            "True\n",
            "True\n",
            "True\n",
            "False\n",
            "False\n",
            "True\n",
            "Mary has 20 years\n",
            "True\n",
            "True\n",
            "2\n",
            "2\n",
            "Tary\n",
            "['Mary', 'has', '20', 'years']\n",
            "Mary\n"
          ]
        }
      ]
    },
    {
      "cell_type": "code",
      "source": [
        "#Listing string methods and get the method definition\n",
        "dir(\"\")\n",
        "help(\"\".strip)"
      ],
      "metadata": {
        "id": "UFyqf85TPqP-",
        "colab": {
          "base_uri": "https://localhost:8080/"
        },
        "outputId": "a122fd7c-e5df-4ac0-cd87-c4b165109f77"
      },
      "execution_count": 24,
      "outputs": [
        {
          "output_type": "stream",
          "name": "stdout",
          "text": [
            "Help on built-in function strip:\n",
            "\n",
            "strip(chars=None, /) method of builtins.str instance\n",
            "    Return a copy of the string with leading and trailing whitespace removed.\n",
            "    \n",
            "    If chars is given and not None, remove characters in chars instead.\n",
            "\n"
          ]
        }
      ]
    },
    {
      "cell_type": "markdown",
      "source": [
        "##Tuples"
      ],
      "metadata": {
        "id": "AwLpd_kcOuRh"
      }
    },
    {
      "cell_type": "markdown",
      "source": [
        "According to this context, there are two main factors that can lead us to think in other type of data type to allocate and manage data items fulfilling the following requirements:\n",
        "* Keep the order of elements\n",
        "* Ensure a type that is immutable\n",
        "* Ensure a structure that is fixed size \n",
        "\n",
        "For instance, let’s suppose we have to represent data about a person. A person has three fields: name, age and id. We know the number, type and order of fields will not change over time. So, how can we proceed? So far, we could think in a list associating each position to some field. However, this approach is quite weak. We cannot ensure the content of each field and we cannot access by using a name (just an index). Furthermore, new fields could be added changing the expected behavior of our data structure.\n",
        "\n",
        "In other programming languages, it is possible to find the notion of “record” or “struct”. This is a kind of user-defined datatype to represent and organize data of an entity, accessing fields by name. Close to this notion, we have the datatype Tuple.\n",
        "\n",
        "In the Python programming language, a built-in datatype tuple is available. According to the official documentation, \n",
        "\n",
        "Tuples are immutable sequences, typically used to store collections of heterogeneous data (such as the 2-tuples produced by the enumerate() built-in). Tuples are also used for cases where an immutable sequence of homogeneous data is needed (such as allowing storage in a set or dict instance).\n",
        "\n",
        "Tuples have the same capabilities in terms of indexing and slicing than lists.\n",
        "\n",
        "The class tuple in Python: class tuple([iterable]) may be constructed in several ways:\n",
        "\n",
        "* Using a pair of parentheses to denote the empty tuple: ()\n",
        "* Using a trailing comma for a singleton tuple: a, or (a,)\n",
        "* Separating items with commas: a, b, c or (a, b, c)\n",
        "* Using the tuple() built-in: tuple() or tuple(iterable)\n",
        "\n"
      ],
      "metadata": {
        "id": "efMgrnF-QhTz"
      }
    },
    {
      "cell_type": "code",
      "source": [
        "#Create\n",
        "my_tuple = (\"Jose\", 8) #name and grade\n",
        "print(my_tuple)\n",
        "\n",
        "my_other_tuple = tuple([\"Jose\", 8])\n",
        "print(my_other_tuple)\n",
        "#Tuple -->Record | Card\n",
        "\n",
        "#Access\n",
        "#Sequence\n",
        "for field in my_tuple:\n",
        "  print(field)\n",
        "\n",
        "print(len(my_tuple))\n",
        "#Searching for a value within a tuple\n",
        "print(\"Jose\" in my_tuple)\n",
        "print(my_tuple*3)# repeat 3 times the tuple\n",
        "print(my_tuple + my_other_tuple) #concat\n",
        "\n",
        "#Slice\n",
        "print(my_tuple[::-1])\n",
        "#Add this comma-->create a tuple of one element\n",
        "t = (2,) \n",
        "#syntax to de-ambiguate \n",
        "print(len(t))\n",
        "#Following an example of a simulated namedtuple is presented:\n",
        "#cars: brand, model\n",
        "brand, model = (0,1) #unpackaging: brand-->0, model-->1\n",
        "car = (\"Peugeot\", \"307\")\n",
        "#Avoid literal values\n",
        "print(car[brand]) #brand-->0\n",
        "print(car[model]) # model-->1\n",
        "print(car[0]) #brand-->0\n",
        "print(car[1]) # model-->1\n",
        "#It is not possible to add elements to a tuple\n",
        "#car.append(\"\") \n",
        "\n",
        "#It is not possible to add elements\n",
        "#car[0] = 1 \n",
        "\n",
        "#it is not possible to assign new values / modifiy the type of an element"
      ],
      "metadata": {
        "id": "j9FctOOya_UE",
        "colab": {
          "base_uri": "https://localhost:8080/"
        },
        "outputId": "d86e8d2c-c254-4e9b-a01c-c9db890ad1d0"
      },
      "execution_count": 26,
      "outputs": [
        {
          "output_type": "stream",
          "name": "stdout",
          "text": [
            "('Jose', 8)\n",
            "('Jose', 8)\n",
            "Jose\n",
            "8\n",
            "2\n",
            "True\n",
            "('Jose', 8, 'Jose', 8, 'Jose', 8)\n",
            "('Jose', 8, 'Jose', 8)\n",
            "(8, 'Jose')\n",
            "1\n",
            "Peugeot\n",
            "307\n",
            "Peugeot\n",
            "307\n"
          ]
        }
      ]
    },
    {
      "cell_type": "markdown",
      "source": [
        "##Sets"
      ],
      "metadata": {
        "id": "PuUjX_mFOvUQ"
      }
    },
    {
      "cell_type": "markdown",
      "source": [
        "* A set is an unordered collection of unique elements. \n",
        "\n",
        "The class set in Python may be constructed in two main ways:\n",
        "\n",
        "* Curly braces or the set() function can be used to create sets. Note: to create an empty set you have to use set(), not {}; the latter creates an empty dictionary.\n",
        "\n",
        "* The set in Python is mutable. If necessary, it is possible to create a frozen set.\n"
      ],
      "metadata": {
        "id": "OwCt88h2QxNy"
      }
    },
    {
      "cell_type": "code",
      "source": [
        "#Sets\n",
        "\n",
        "#Create a set\n",
        "my_set = {1, 2, 3}\n",
        "print(my_set)\n",
        "my_set = set()\n",
        "#Adding\n",
        "for i in range(3):\n",
        "  my_set.add(i)\n",
        "print(my_set)\n",
        "#Sequence\n",
        "for item in my_set:\n",
        "  print(item)\n",
        "\n",
        "#Remove\n",
        "print(my_set)\n",
        "if 3 in my_set: #to protect the KeyError, in case the element does not exist within the set\n",
        "  my_set.remove(3)\n",
        "my_set.remove(2)\n",
        "print(my_set)\n",
        "\n",
        "#Operations: set-specific\n",
        "s1 = {1, 2, 3}\n",
        "s2 = {5, 2, 6}\n",
        "s3 = {1}\n",
        "\n",
        "print(s1-s3) #Operator\n",
        "print(s1.difference(s3)) #method invocation\n",
        "print(s1 & s2)\n",
        "print(s1.intersection(s2))\n",
        "print(s1 | s2)\n",
        "print(s1.union(s2))\n",
        "\n",
        "s4 = set() #empty set\n",
        "print(s1-s4)\n"
      ],
      "metadata": {
        "id": "f2k_Fs88bbM0",
        "colab": {
          "base_uri": "https://localhost:8080/"
        },
        "outputId": "6400d0f3-4020-4fc8-de1b-c2c0def51d6a"
      },
      "execution_count": 27,
      "outputs": [
        {
          "output_type": "stream",
          "name": "stdout",
          "text": [
            "{1, 2, 3}\n",
            "{0, 1, 2}\n",
            "0\n",
            "1\n",
            "2\n",
            "{0, 1, 2}\n",
            "{0, 1}\n",
            "{2, 3}\n",
            "{2, 3}\n",
            "{2}\n",
            "{2}\n",
            "{1, 2, 3, 5, 6}\n",
            "{1, 2, 3, 5, 6}\n",
            "{1, 2, 3}\n"
          ]
        }
      ]
    },
    {
      "cell_type": "markdown",
      "source": [
        "##Dictionaries"
      ],
      "metadata": {
        "id": "RPTUCzmYOwDY"
      }
    },
    {
      "cell_type": "markdown",
      "source": [
        "In the Python programming language, a built-in datatype dict is available. \n",
        "\n",
        "According to the official documentation, \n",
        "\n",
        "*A mapping object maps hashable values to arbitrary objects. Mappings are mutable objects. There is currently only one standard mapping type, the dictionary.*\n",
        "\n",
        "The class dict in Python may be constructed in two main ways:\n",
        "\n",
        "* By placing a comma-separated list of key: value pairs within braces, for example: {'1': “Jose”, '2': “Claudia”}.\n",
        "* By the dict constructor.\n",
        "\n",
        "Note that there are some implications in the use of dictionaries in Python:\n",
        "\n",
        "* A key must be an immutable object. So, it is not possible that the hash can change over time.\n",
        "* The key object must be hashable. This means that the object must implement the internal method __hash__.\n",
        "* A value can be any object.\n",
        "* Dictionaries in Python are un-ordered. However, there is an implementation of ordered dictionaries that can be used to keep the order of the different items.\n",
        "Internally, a Python dictionary contains three objects:\n",
        "*\tKeys: a set of objects.\n",
        "*\tValues: a collection of values.\n",
        "*\tItems: a collection of <k,v> (key, value) pairs.\n"
      ],
      "metadata": {
        "id": "xS01G0j2Qxur"
      }
    },
    {
      "cell_type": "code",
      "source": [
        "#Common errors\n",
        "\n",
        "#Error 1: key is not hashable-->the key is mutable\n",
        "table = {}\n",
        "bad_key = [1,2,3]\n",
        "good_key = (1,2,3)\n",
        "table[good_key] = \"\"\n",
        "\n",
        "#Error 2: access and element that does not exist-->key error\n",
        "table = {\"1\":\"foo\"}\n",
        "#table[\"2\"] #key error\n",
        "#del table[\"2\"] #key error\n",
        "#In the following code snippet, some of the main methods are outlined:\n",
        "#Create a dictionary\n",
        "student_grades = dict()\n",
        "print(type(student_grades))\n",
        "#Add element\n",
        "student_grades[\"123456789\"] = 9\n",
        "student_grades[\"987654321\"] = 8\n",
        "print(student_grades)\n",
        "#Access an element\n",
        "print(student_grades[\"123456789\"])\n",
        "print(student_grades.get(\"123456789\"))\n",
        "#Iterate\n",
        "#Over the keys\n",
        "for student_id in student_grades.keys():\n",
        "  print(student_id)\n",
        "  print(student_grades[student_id])\n",
        "\n",
        "#Over the values\n",
        "for student_grade in student_grades.values(): #Iterable\n",
        "  print(student_grade)\n",
        "\n",
        "#Over the items, unpackaging key and valud\n",
        "for student_id, student_grade in student_grades.items():\n",
        "  print(\"ID: \", student_id,\" grade: \",student_id)\n",
        "\n",
        "#Removing elements\n",
        "\n",
        "#Remove element\n",
        "del student_grades[\"987654321\"]\n",
        "print(student_grades)\n",
        "student_grades.clear()\n",
        "\n",
        "#Common methods for length, etc.\n",
        "print(len(student_grades))\n",
        "print(len(student_grades.keys()))\n",
        "print(len(student_grades.values()))\n",
        "\n",
        "#Checking the existence of a key before accessing\n",
        "student_grades[\"123456789\"] = 9\n",
        "input_id = \"\"\n",
        "#input_id = input(\"Introduce your id: \")\n",
        "if input_id in student_grades: #IMPORTANT! Protecting the access to the dictionary items\n",
        "  print(student_grades[input_id])\n",
        "else:\n",
        "  print(\"Your id does not exist\")\n",
        "\n",
        "#Initialize\n",
        "student_grades = {'1': 9, '2': 8} # {key:value, key:value}\n",
        "print(student_grades)\n",
        "student_grades = dict({'1': 9, '2': 8})\n"
      ],
      "metadata": {
        "id": "RgKht7Ofbx2u",
        "colab": {
          "base_uri": "https://localhost:8080/"
        },
        "outputId": "9202d8e5-f87e-48fa-d947-f3518904e0e6"
      },
      "execution_count": 28,
      "outputs": [
        {
          "output_type": "stream",
          "name": "stdout",
          "text": [
            "<class 'dict'>\n",
            "{'123456789': 9, '987654321': 8}\n",
            "9\n",
            "9\n",
            "123456789\n",
            "9\n",
            "987654321\n",
            "8\n",
            "9\n",
            "8\n",
            "ID:  123456789  grade:  123456789\n",
            "ID:  987654321  grade:  987654321\n",
            "{'123456789': 9}\n",
            "0\n",
            "0\n",
            "0\n",
            "Your id does not exist\n",
            "{'1': 9, '2': 8}\n"
          ]
        }
      ]
    },
    {
      "cell_type": "code",
      "source": [
        "#Write a program that reads an input string, and displays the frequency of each word within the input string\n",
        "\n",
        "#input string: this is an input string containing this is an input\n",
        "\n",
        "#output (not in this order):\n",
        "# this: 2\n",
        "# is: 2\n",
        "# an: 2\n",
        "# input: 2\n",
        "# string: 1\n",
        "# containing: 1\n",
        "freq = dict()\n",
        "string = input(\"Write your string: \")\n",
        "#Split\n",
        "lista = string.split(\" \") #list of words [\"\",\"\",\"\"]\n",
        "#Count frequency\n",
        "for word in lista:\n",
        "  if word in freq:\n",
        "    freq[i]=freq[i]+1\n",
        "  else:\n",
        "    freq[i]=1\n",
        "\n",
        "for word,frequency in freq.items():\n",
        "  print(\"{}: {}\".format(word,frequency))\n",
        "\n",
        "\n",
        "#Write a program to store the data about demography in different regions and to\n",
        "#display some report.\n",
        "#Demography: number_of_women, number_of_men, avg_age\n",
        "#Input:\n",
        "\n",
        "#Madrid = 100, 95, 45\n",
        "#CyL = 80, 86, 55\n",
        "#Extremadura = 75, 72, 57\n",
        "\n",
        "#Output:\n",
        "\n",
        "#Report:\n",
        "#Nº of women in Spain\n",
        "#Nº of men in Spain\n",
        "#Avg. age in Spain\n",
        "\n",
        "demography = {\"Madrid\":(100,95,45),\"CyL\":(80,86,55),\"Extremadura\":(75,72,57)}\n",
        "women_spain=0\n",
        "men_spain=0\n",
        "avg_age_spain=0\n",
        "\n",
        "for info in demography.values():\n",
        "  (women,men,age)=info #Unpackage a tuple info(1,2,3)\n",
        "  #women = info[0]\n",
        "  #men = info[1]\n",
        "  #age = info[2]\n",
        "  women_spain +=women\n",
        "  men_spain +=men\n",
        "  avg_age_spain +=age\n",
        "\n",
        "avg_age_spain = avg_age_spain/len(demography.keys())\n",
        "print(\"Report:\\nWomen in Spain: {}\\nMen in Spain: {}\\nAvg. age in Spain: {}\".format(women_spain,men_spain,avg_age_spain))\n"
      ],
      "metadata": {
        "id": "ofHYdEelb1Dp"
      },
      "execution_count": null,
      "outputs": []
    },
    {
      "cell_type": "markdown",
      "source": [
        "### Comprehension list, set and dictionary\n",
        "\n",
        "The general syntax to create lists, sets and dictionaries using comprehension techniques follows the next grammar rules:\n",
        "\n",
        "* [expression for element in collection if expr]\n",
        "* {expression for element in collection if expr}\n",
        "*{(expression, expression) for element in collection if expr}\n"
      ],
      "metadata": {
        "id": "dRXcfK_rb7dx"
      }
    },
    {
      "cell_type": "code",
      "source": [
        "#List\n",
        "grades = [5,6,7,8]\n",
        "#Comprehension list applying a bonus of the 25% of the initial grad.\n",
        "updated_grades = [g+(g*0.25) for g in grades]\n",
        "print(updated_grades)\n",
        "#Comprehension list applying a bonus under some condition.\n",
        "updated_grades = [g+(g*0.25) for g in grades if g >= 7]\n",
        "print(updated_grades)\n",
        "\n",
        "#Set\n",
        "repeated_names = [\"Jose\", \"Mary\", \"Jose\", \"Claudia\"]\n",
        "#Comprehension set\n",
        "name_set = {name for name in repeated_names}\n",
        "print(name_set)\n",
        "\n",
        "#Dict\n",
        "names = [\"Jose\", \"Mary\", \"Claudia\", \"Antón\"]\n",
        "#Comprehension dict by mapping grades and names, the use of the zip function will be also valid.\n",
        "names_grades = { (names[i], grades[i]) for i in range(len(names))}\n",
        "print(names_grades)"
      ],
      "metadata": {
        "id": "0-NyzHeOb6_D",
        "colab": {
          "base_uri": "https://localhost:8080/"
        },
        "outputId": "7845be14-12db-4419-a2a5-cf0add591195"
      },
      "execution_count": 29,
      "outputs": [
        {
          "output_type": "stream",
          "name": "stdout",
          "text": [
            "[6.25, 7.5, 8.75, 10.0]\n",
            "[8.75, 10.0]\n",
            "{'Claudia', 'Jose', 'Mary'}\n",
            "{('Claudia', 7), ('Mary', 6), ('Antón', 8), ('Jose', 5)}\n"
          ]
        }
      ]
    },
    {
      "cell_type": "markdown",
      "source": [
        "#Functions"
      ],
      "metadata": {
        "id": "hRQFtmXPHX92"
      }
    },
    {
      "cell_type": "markdown",
      "source": [
        "Two main principles are addressed with functions:\n",
        "* Don’t Repeat Yourself (DRY).\n",
        "*\tDon’t Reinvent the Wheel.\n",
        "\n",
        "A function (taking definition from mathematics):\n",
        "\n",
        "* A function has a name that denotes the binary relation.\n",
        "* A function has some input set.\n",
        "* A function has some output set.\n",
        "* A function relates the input with the output set (an application).\n",
        "\n",
        "According to the official documentation, a function definition defines a user-defined function object:\n"
      ],
      "metadata": {
        "id": "19pq00-NQuJb"
      }
    },
    {
      "cell_type": "markdown",
      "source": [
        "\n",
        "\n",
        "```\n",
        "funcdef                   ::=  [decorators] \"def\" funcname \"(\" [parameter_list] \")\"\n",
        "                               [\"->\" expression] \":\" suite\n",
        "decorators                ::=  decorator+\n",
        "decorator                 ::=  \"@\" dotted_name [\"(\" [argument_list [\",\"]] \")\"] NEWLINE\n",
        "dotted_name               ::=  identifier (\".\" identifier)*\n",
        "parameter_list            ::=  defparameter (\",\" defparameter)* \",\" \"/\" [\",\" [parameter_list_no_posonly]]\n",
        "                                 | parameter_list_no_posonly\n",
        "parameter_list_no_posonly ::=  defparameter (\",\" defparameter)* [\",\" [parameter_list_starargs]]\n",
        "                               | parameter_list_starargs\n",
        "parameter_list_starargs   ::=  \"*\" [parameter] (\",\" defparameter)* [\",\" [\"**\" parameter [\",\"]]]\n",
        "                               | \"**\" parameter [\",\"]\n",
        "parameter                 ::=  identifier [\":\" expression]\n",
        "defparameter              ::=  parameter [\"=\" expression]\n",
        "funcname                  ::=  identifier\n",
        "\n",
        "```\n",
        "\n"
      ],
      "metadata": {
        "id": "aX5k8OA8cWpH"
      }
    },
    {
      "cell_type": "code",
      "source": [
        "def factorial(n):\n",
        "    if n==0 or n == 1:\n",
        "        return 1\n",
        "    else:\n",
        "        fact = 1\n",
        "        for v in range(1,n+1):\n",
        "            fact = fact * v\n",
        "        return fact\n",
        "#if n<0 the function will not work, a new case must be defined.\n",
        "\n",
        "#def name (list of parameters):\n",
        "#      block of code\n",
        "# return (optional)"
      ],
      "metadata": {
        "id": "ES3mwJ-acdLn"
      },
      "execution_count": 31,
      "outputs": []
    },
    {
      "cell_type": "markdown",
      "source": [
        "\n",
        "\n",
        "```\n",
        "positional-or-keyword: specifies an argument that can be passed either positionally or as a keyword argument. This is the default kind of parameter, for example foo and bar in the following:\n",
        "def func(foo, bar=None): ...\n",
        "\n",
        "positional-only: specifies an argument that can be supplied only by position. Positional-only parameters can be defined by including a / character in the parameter list of the function definition after them, for example posonly1 and posonly2 in the following:\n",
        "def func(posonly1, posonly2, /, positional_or_keyword): ...\n",
        "\n",
        "keyword-only: specifies an argument that can be supplied only by keyword. \n",
        "\n",
        "Keyword-only parameters can be defined by including a single var-positional parameter or bare * in the parameter list of the function definition before them, for example kw_only1 and kw_only2 in the following:\n",
        "\n",
        "\n",
        "def func(arg, *, kw_only1, kw_only2): ...\n",
        "var-positional: specifies that an arbitrary sequence of positional arguments can be provided (in addition to any positional arguments already accepted by other parameters). Such a parameter can be defined by prepending the parameter name with *, for example args in the following:\n",
        "def func(*args, **kwargs): ...\n",
        "var-keyword: specifies that arbitrarily many keyword arguments can be provided (in addition to any keyword arguments already accepted by other parameters). Such a parameter can be defined by prepending the parameter name with **, for example kwargs in the example above.\n",
        "\n",
        "```\n",
        "\n"
      ],
      "metadata": {
        "id": "wxxjG2bScgLK"
      }
    },
    {
      "cell_type": "code",
      "source": [
        "#Positional Parameters\n",
        "def add(a,b):\n",
        "  return a+b\n",
        "\n",
        "#Optional Parameters\n",
        "def add_3(a,b=3):\n",
        "  return a+b\n",
        "\n",
        "def add_k(a,k=0):\n",
        "  return a+k\n",
        "\n",
        "#Keyword Parameters\n",
        "def keyword_params(*args):\n",
        "  for i in args:\n",
        "    print(i)\n",
        "\n",
        "#Dictionary Parameters\n",
        "def dict_params(**kwargs):\n",
        "  for k, v in kwargs.items():\n",
        "    print(k,\":\", v)\n",
        "\n",
        "#Invoke a function\n",
        "print(add(2,3))\n",
        "print(add_3(2))\n",
        "print(add_k(3))\n",
        "keyword_params([\"a\",2])\n",
        "dict_param ={\"name\":\"Jose\"} \n",
        "dict_params(**dict_param)\n"
      ],
      "metadata": {
        "id": "XXTHOADzcwKP",
        "colab": {
          "base_uri": "https://localhost:8080/"
        },
        "outputId": "499e7053-39f5-4d71-fbf0-df40042f079a"
      },
      "execution_count": 32,
      "outputs": [
        {
          "output_type": "stream",
          "name": "stdout",
          "text": [
            "5\n",
            "5\n",
            "3\n",
            "['a', 2]\n",
            "name : Jose\n"
          ]
        }
      ]
    },
    {
      "cell_type": "code",
      "source": [
        "#Pass parameters by reference \n",
        "def my_max(a, b):\n",
        "  print(id(a)) #identifier of the parameter\n",
        "  print(id(b)) #identifier of the parameter\n",
        "  a = 1000 #a is a number-->Inmutable-->there is a new assignment a new space in the memory is allocated\n",
        "  if a > b:\n",
        "    return a\n",
        "  else:\n",
        "    return b\n",
        "\n",
        "def modify (alist):\n",
        "  print(id(alist))\n",
        "  #Append a new element-->modify\n",
        "  alist.append(1000)\n",
        "  #return is optional --> functions without a return statement are called procedures\n",
        "\n",
        "\n",
        "if __name__==\"__main__\":\n",
        "  a = 2\n",
        "  b = 3\n",
        "  print(id(a)) #identifier of the variable\n",
        "  print(id(b)) #identifier of the variable\n",
        "  my_max(a, b)\n",
        "  print(a)\n",
        "  mylist = [1,3,4]\n",
        "  print(\"Before calling...\")\n",
        "  print(mylist)\n",
        "  print(id(mylist))\n",
        "  modify(mylist)\n",
        "  print(\"After calling...\")\n",
        "  print(mylist)\n",
        "  #Pure functions-->no side effects"
      ],
      "metadata": {
        "id": "qHm4TkhMc0PK",
        "colab": {
          "base_uri": "https://localhost:8080/"
        },
        "outputId": "a3cb1a1d-4cfb-4087-91af-6f66c8c58a76"
      },
      "execution_count": 33,
      "outputs": [
        {
          "output_type": "stream",
          "name": "stdout",
          "text": [
            "11256096\n",
            "11256128\n",
            "11256096\n",
            "11256128\n",
            "2\n",
            "Before calling...\n",
            "[1, 3, 4]\n",
            "140109860467648\n",
            "140109860467648\n",
            "After calling...\n",
            "[1, 3, 4, 1000]\n"
          ]
        }
      ]
    },
    {
      "cell_type": "markdown",
      "source": [
        "\n",
        "\n",
        "```\n",
        "#Annotations can be just string values.\n",
        "def my_add(a: '<a>', b: '<b>') -> '<return_value>':\n",
        "  return a+b\n",
        " \n",
        "print(my_add.__annotations__)\n",
        " \n",
        "\n",
        "```\n",
        "\n"
      ],
      "metadata": {
        "id": "hmUZLLlv2Vk3"
      }
    },
    {
      "cell_type": "code",
      "source": [
        "#Annotations can also include types. However, this is only documentation. it does not impose any restriction on the parameters.\n",
        "def my_add2(a: int, b: int) -> float:\n",
        "  return a+b\n",
        " \n",
        "print(my_add2.__annotations__)"
      ],
      "metadata": {
        "colab": {
          "base_uri": "https://localhost:8080/"
        },
        "id": "BsvUFc-N2aG5",
        "outputId": "bfc4db93-f067-451c-8811-4f9008ad2634"
      },
      "execution_count": 34,
      "outputs": [
        {
          "output_type": "stream",
          "name": "stdout",
          "text": [
            "{'a': <class 'int'>, 'b': <class 'int'>, 'return': <class 'float'>}\n"
          ]
        }
      ]
    },
    {
      "cell_type": "markdown",
      "source": [
        "#### Lambda functions\n",
        "A lambda function is an anonymous function declared online.\n",
        "*\tA lambda function can take any number of arguments.\n",
        "*\tA lambda function can only return one expression.\n",
        "*\tA lambda function is a Python function, so anything regarding parameters, annotations, etc. are applicable to lambda functions.\n",
        "\n",
        "\n",
        "\n",
        "```\n",
        "lambda_expr ::= \"lambda\" [parameter_list] \":\" expression lambda_expr_nocond ::= \"lambda\" [parameter_list] \":\" expression_nocond\n",
        "```\n",
        "\n",
        "\n"
      ],
      "metadata": {
        "id": "DXjE9kQXc_xR"
      }
    },
    {
      "cell_type": "code",
      "source": [
        "l1 = [4, 5, 7, 8, 10]\n",
        "\n",
        "filtered = filter(lambda x: x%2==0, l1)\n",
        "print(list(filtered))\n",
        "\n",
        "to_square = map(lambda x: pow(x,2), l1)\n",
        "print(list(to_square))"
      ],
      "metadata": {
        "colab": {
          "base_uri": "https://localhost:8080/"
        },
        "id": "SUWDK1t20TTI",
        "outputId": "55947722-86b4-43e9-f0e1-f758587f6538"
      },
      "execution_count": 35,
      "outputs": [
        {
          "output_type": "stream",
          "name": "stdout",
          "text": [
            "[4, 8, 10]\n",
            "[16, 25, 49, 64, 100]\n"
          ]
        }
      ]
    },
    {
      "cell_type": "code",
      "source": [
        "#High-order functions\n",
        "#We define a function that takes as a parameter a function f and a list, a list, \n",
        "#then applies the function f to any element in the list.\n",
        "def apply_f_to_list(f, alist):\n",
        "  results = []\n",
        "  for v in alist:\n",
        "    value = f(v)\n",
        "    results.append(value)\n",
        "  return results\n",
        " \n",
        "def my_square(n):\n",
        "  return n**2\n",
        " \n",
        "def add_2(n):\n",
        "  return n+2\n",
        " \n",
        "if __name__==\"__main__\":\n",
        "  values = [1,2,3]\n",
        "  results = apply_f_to_list(my_square,values)\n",
        "  print(results)\n",
        "  results = apply_f_to_list(add_2,values)\n",
        "  print(results)\n"
      ],
      "metadata": {
        "id": "7QS5Xibac60F",
        "colab": {
          "base_uri": "https://localhost:8080/"
        },
        "outputId": "ece93523-de70-41d1-a901-aab0f77b779c"
      },
      "execution_count": 37,
      "outputs": [
        {
          "output_type": "stream",
          "name": "stdout",
          "text": [
            "[1, 4, 9]\n",
            "[3, 4, 5]\n"
          ]
        }
      ]
    },
    {
      "cell_type": "markdown",
      "source": [
        "#Objects"
      ],
      "metadata": {
        "id": "5C4_Z9H4HZDX"
      }
    },
    {
      "cell_type": "markdown",
      "source": [
        "\n",
        "* What is a **class**?\n",
        "\n",
        ">A class is an abstraction of a (real/virtual) entity defined by a set of attributes (data/features) and a set of capabilities/functionalities/operations (methods). \n",
        "\n",
        "As an example, let suppose we have to store the information about a person (id and name) and provide some capabilities (speaking and running). We can define a class Person with these attributes and capabilities.\n",
        "\n",
        "```\n",
        "class Person:\n",
        "  id = \"\"\n",
        "  name = \"\"\n",
        "\n",
        "  speaking():\n",
        "    #do speaking\n",
        "\n",
        "  running(velocity):\n",
        "    #do running\n",
        "```\n",
        "\n",
        "A class defines a category of objects and contains all common attributes and operations.\n",
        "\n",
        "* What is an **object**?\n",
        "\n",
        ">An object is an instance, a realization, of a class. It is the realization of a class with specific values for each attribute and a shared behavior.\n",
        "\n",
        "Following with the example, we can now define an instance of a Person, Jhon, with some id (1).\n",
        "\n",
        "* What is an **attribute**?\n",
        "\n",
        ">An attribute is a feature/characteristic/property shared by a set of objects.\n",
        "\n",
        "In the Python programming language, an attribute can be accessed using the next syntax:\n",
        "\n",
        "\n",
        "```\n",
        "instance_name.attribute\n",
        "```\n",
        "\n",
        "\n",
        "* What is an **method**?\n",
        "\n",
        ">A method is a capability/operation/functionality/behavior shared by a set of objects.\n",
        "\n",
        "In the Python programming language, a method can be invoked using the next syntax:\n",
        "\n",
        "```\n",
        "instance_name.method_name(parameters) \n",
        "```\n",
        "\n",
        "\n",
        "In our context, we only need to know these basic definitions since our data structures in Python will be implemented through classes (like the class list) and, by extension, we need to know how to invoke a method, how to access an attribute, etc.\n",
        "\n",
        "Finally, there are 4 principles of the OOP that are relevant and are enumerated below:\n",
        "\n",
        "* Abstraction\n",
        "* Encapsulation\n",
        "* Inheritance\n",
        "* Polymorphism\n",
        "\n",
        "More information about OOP in Python can be found in the following link:\n",
        "\n",
        "* https://docs.python.org/3/tutorial/classes.html"
      ],
      "metadata": {
        "id": "CmzMsEbeQu2I"
      }
    },
    {
      "cell_type": "markdown",
      "source": [
        "#Input/Output"
      ],
      "metadata": {
        "id": "SB_c94x4HaGn"
      }
    },
    {
      "cell_type": "code",
      "source": [
        "from os import listdir\n",
        "from os.path import isfile, isdir, join\n",
        "\n",
        "if __name__ == \"__main__\":\n",
        "    path = \"../\"\n",
        "    for f in listdir(path):\n",
        "        if isfile(join(path, f)):\n",
        "            print(f)\n",
        "        elif isdir(join(path, f)):\n",
        "            print(f)"
      ],
      "metadata": {
        "id": "dpBLdqHadyum"
      },
      "execution_count": null,
      "outputs": []
    },
    {
      "cell_type": "code",
      "source": [
        "if __name__ == \"__main__\":\n",
        "    msgs = [\"Hello\", \"Mary\", \"How are you?\"]\n",
        "    path = \"messages.txt\"\n",
        "    file = open(path,\"w\")\n",
        "    for msg in msgs:\n",
        "        file.write(msg+\"\\n\")\n",
        "    file.close()            \n"
      ],
      "metadata": {
        "id": "4uBkJyhRdqDH"
      },
      "execution_count": null,
      "outputs": []
    },
    {
      "cell_type": "code",
      "source": [
        "if __name__ == \"__main__\":\n",
        "    msgs = []\n",
        "    path = \"messages.txt\"\n",
        "    file = open(path,\"r\")\n",
        "    for line in file:\n",
        "        msgs.append(line.strip())\n",
        "    file.close()        \n",
        "    print(msgs)    "
      ],
      "metadata": {
        "id": "7O3X-TLzd3Ks"
      },
      "execution_count": null,
      "outputs": []
    },
    {
      "cell_type": "markdown",
      "source": [
        "#Tips and Tricks\n"
      ],
      "metadata": {
        "id": "ywRvBtxQHcLM"
      }
    },
    {
      "cell_type": "markdown",
      "source": [
        "In general, some tips for improvement our Python programs are:\n",
        "\n",
        "* Use builtin functions.\n",
        "* Try to refactor large calculations in loops.\n",
        "* Use `while 1` instead of `while True` in infinite loops.\n",
        "* Use generators like `range`.\n",
        "* Try to use constants when possible.\n",
        "* Be careful with operations in immutable types like strings.\n",
        "* Use an up-to-date Python version.\n",
        "* ... Optimize what can be optimized not more.\n"
      ],
      "metadata": {
        "id": "BNI26jHHQv-9"
      }
    },
    {
      "cell_type": "code",
      "source": [
        "import time\n",
        "\n",
        "def concat_1(s1, s2): \n",
        "    return s1 + s2 \n",
        "\n",
        "def concat_2(s1, s2): \n",
        "    return \"%s%s\" % (s1, s2) \n",
        "\n",
        "def concat_3(s1, s2): \n",
        "    return \"{0}{1}\".format(s1, s2) \n",
        "\n",
        "\n",
        "s1 = \"123\"\n",
        "s2 = \"abc\"\n",
        "\n",
        "print(\"Short strings...\")\n",
        "\n",
        "print(\"Concat +\")\n",
        "t = time.time()\n",
        "concat_1(s1, s2)\n",
        "print(\"\\n\\tTime Taken: %.8f sec\\n\" % (time.time()-t))\n",
        "\n",
        "print(\"Concat %\")\n",
        "t = time.time()\n",
        "concat_2(s1, s2)\n",
        "print(\"\\n\\tTime Taken: %.8f sec\\n\" % (time.time()-t))\n",
        "\n",
        "\n",
        "print(\"Concat format\")\n",
        "t = time.time()\n",
        "concat_3(s1, s2)\n",
        "print(\"\\n\\tTime Taken: %.8f sec\\n\" % (time.time()-t))\n",
        "\n",
        "s1 = \"123\" * 100000\n",
        "s2 = \"abc\" * 100000\n",
        "\n",
        "print(\"Large strings...\")\n",
        "\n",
        "print(\"Concat +\")\n",
        "t = time.time()\n",
        "concat_1(s1, s2)\n",
        "print(\"\\n\\tTime Taken: %.8f sec\\n\" % (time.time()-t))\n",
        "\n",
        "print(\"Concat %\")\n",
        "t = time.time()\n",
        "concat_2(s1, s2)\n",
        "print(\"\\n\\tTime Taken: %.8f sec\\n\" % (time.time()-t))\n",
        "\n",
        "\n",
        "print(\"Concat format\")\n",
        "t = time.time()\n",
        "concat_3(s1, s2)\n",
        "print(\"\\n\\tTime Taken: %.8f sec\\n\" % (time.time()-t))"
      ],
      "metadata": {
        "id": "R2h1MHomeM2d",
        "colab": {
          "base_uri": "https://localhost:8080/"
        },
        "outputId": "864c4013-3c4d-4147-d3d5-e50915a80962"
      },
      "execution_count": 38,
      "outputs": [
        {
          "output_type": "stream",
          "name": "stdout",
          "text": [
            "Short strings...\n",
            "Concat +\n",
            "\n",
            "\tTime Taken: 0.00005364 sec\n",
            "\n",
            "Concat %\n",
            "\n",
            "\tTime Taken: 0.00005007 sec\n",
            "\n",
            "Concat format\n",
            "\n",
            "\tTime Taken: 0.00005269 sec\n",
            "\n",
            "Large strings...\n",
            "Concat +\n",
            "\n",
            "\tTime Taken: 0.00059390 sec\n",
            "\n",
            "Concat %\n",
            "\n",
            "\tTime Taken: 0.00063109 sec\n",
            "\n",
            "Concat format\n",
            "\n",
            "\tTime Taken: 0.00036216 sec\n",
            "\n"
          ]
        }
      ]
    },
    {
      "cell_type": "code",
      "source": [
        "import time\n",
        "\n",
        "def reverse_1(s):\n",
        "  reverse = \"\"\n",
        "  for i in range(len(s)-1,0,-1):\n",
        "    reverse = reverse + s[i]\n",
        "  return reverse\n",
        "\n",
        "def reverse_2(s):\n",
        "  reverse = \"\"\n",
        "  for i in range(len(s)):\n",
        "    reverse = s[i] + reverse \n",
        "  return reverse\n",
        "\n",
        "def reverse_slicing(s):\n",
        "  return s[::-1]\n",
        "\n",
        "def reverse_list(s):\n",
        "  sl = list(s)\n",
        "  sl.reverse()\n",
        "  return ''.join(sl)\n",
        "\n",
        "def reverse_builtin(s):\n",
        "  return ''.join(reversed(s))\n",
        "\n",
        "s = [str(i) for i in range(100000)]\n",
        "print(\"Backward\")\n",
        "t = time.time()\n",
        "reverse_1(s)\n",
        "print(\"\\n\\tTime Taken: %.8f sec\" % (time.time()-t))\n",
        "\n",
        "print(\"Forward\")\n",
        "t = time.time()\n",
        "reverse_2(s)\n",
        "print(\"\\n\\tTime Taken: %.8f sec\" % (time.time()-t))\n",
        "\n",
        "print(\"Slicing\")\n",
        "t = time.time()\n",
        "reverse_slicing(s)\n",
        "print(\"\\n\\tTime Taken: %.8f sec\" % (time.time()-t))\n",
        "\n",
        "print(\"Reverse list\")\n",
        "t = time.time()\n",
        "reverse_list(s)\n",
        "print(\"\\n\\tTime Taken: %.8f sec\" % (time.time()-t))\n",
        "\n",
        "print(\"Reverse builtin\")\n",
        "t = time.time()\n",
        "reverse_builtin(s)\n",
        "print(\"\\n\\tTime Taken: %.8f sec\" % (time.time()-t))\n"
      ],
      "metadata": {
        "id": "6EqF7uUBeRIo",
        "colab": {
          "base_uri": "https://localhost:8080/"
        },
        "outputId": "0d961145-850a-417b-b40d-29248f6ef42a"
      },
      "execution_count": 39,
      "outputs": [
        {
          "output_type": "stream",
          "name": "stdout",
          "text": [
            "Backward\n",
            "\n",
            "\tTime Taken: 0.01108837 sec\n",
            "Forward\n",
            "\n",
            "\tTime Taken: 2.65786839 sec\n",
            "Slicing\n",
            "\n",
            "\tTime Taken: 0.00166464 sec\n",
            "Reverse list\n",
            "\n",
            "\tTime Taken: 0.00303745 sec\n",
            "Reverse builtin\n",
            "\n",
            "\tTime Taken: 0.00260115 sec\n"
          ]
        }
      ]
    },
    {
      "cell_type": "code",
      "source": [
        "#Sorting a list of tuples\n",
        "l1 = [(\"foo\", 10), (\"bar\", 9), (\"foobar\", 8)]\n",
        "sorted_by_second = sorted(l1, key=lambda tup: tup[1], reverse=True)\n",
        "print(sorted_by_second)\n",
        "l1.sort(key=lambda tup: tup[1], reverse=True)  # sorts in place\n",
        "print(l1)"
      ],
      "metadata": {
        "colab": {
          "base_uri": "https://localhost:8080/"
        },
        "id": "ZXUs0Kcp1LB1",
        "outputId": "ca9ad728-83a9-4372-8e47-5e30fc401447"
      },
      "execution_count": 40,
      "outputs": [
        {
          "output_type": "stream",
          "name": "stdout",
          "text": [
            "[('foo', 10), ('bar', 9), ('foobar', 8)]\n",
            "[('foo', 10), ('bar', 9), ('foobar', 8)]\n"
          ]
        }
      ]
    },
    {
      "cell_type": "code",
      "source": [
        "#Combinations\n",
        "import itertools\n",
        "l1 = [1, 2, 3, 4]\n",
        "for combination in itertools.combinations(l1, 2):\n",
        "  print(combination)"
      ],
      "metadata": {
        "id": "LHX1gekB2llZ"
      },
      "execution_count": null,
      "outputs": []
    },
    {
      "cell_type": "code",
      "source": [
        "#Numberl\n",
        "\n",
        "# -*- coding: utf-8 -*-\n",
        "\n",
        "import random\n",
        "import os\n",
        "\n",
        "\"\"\"\n",
        "In this exercise, we are going to implement a version of the popular Wordle but with numbers. \n",
        "So, the flow would be the next one:\n",
        "\n",
        "1-Create a random number of 5 digits between 00000-99999. This is the target number to find out.\n",
        "\n",
        "2-Create an initial number using random or making a permutation of the target number. \n",
        "Swap positions of that number to generate a new version containing the same digits but in different positions. \n",
        "This is a very simple strategy to make a permutations.\n",
        "\n",
        "3-Configure a maximum number of attempts to find out the target number (3).\n",
        "\n",
        "4-Start the game, showing the current number and asking the user to enter an attempt (only 5 digit numbers are allowed).\n",
        "\n",
        "    Compare the user input with the target number and display the digits following the next strategy:\n",
        "        -If the digit is in the target number and in the same position, the character will be displayed in Green or with some symbol (+).\n",
        "        -If the digit is in the target number but not in the same position, the character will be displayer in Red or with some symbol (*).\n",
        "        -If the digit is not in the target number, the character will be displayed in black (default console color) or with some symbol (-).\n",
        "\n",
        "5-Technical approach:\n",
        "    Make use of strings to manage the number positions and values.\n",
        "\n",
        "\"\"\"\n",
        "\n",
        "class Color:\n",
        "    GREEN = '\\033[32m'\n",
        "    BLUE = '\\033[34m'\n",
        "    RESET = '\\033[0m'\n",
        "    ORANGE ='\\033[33m'\n",
        "\n",
        "\n",
        "MIN = 10000\n",
        "MAX = 99999\n",
        "\n",
        "if __name__==\"__main__\":\n",
        "    target_number = str(random.randint(MIN, MAX))\n",
        "    SIZE = len(target_number)\n",
        "    max_attempts = 5\n",
        "    #Simple initial Permutation \n",
        "    #random.shuffle(current)\n",
        "   \n",
        "    #for pos in range(len(current)-1):\n",
        "    #    current[pos], current[pos+1] = current[pos+1], current[pos]\n",
        "    \n",
        "    current = str(random.randint(MIN, MAX))\n",
        "    #Only for debugging\n",
        "    #print(\"[DEBUG] The target number is: \"+target_number)\n",
        "    \n",
        "    #Program header\n",
        "    print(\"______________________________________\\n\")    \n",
        "    print(\"NUMBERL: a kind of Wordle for numbers\")\n",
        "    print(\"______________________________________\\n\")    \n",
        "    print(\"A number with {} digits...\".format(SIZE))\n",
        "    print(\"{} attempts...\".format(max_attempts))\n",
        "    print(Color.GREEN +\" correct digit and position.\")\n",
        "    print(Color.ORANGE +\" correct digit but NOT position.\")\n",
        "    print(Color.RESET +\" digit not in the number.\")\n",
        "    print(\"______________________________________\\n\")\n",
        "    \n",
        "    \n",
        "  \n",
        "    target = False\n",
        "    n_attempts = 1\n",
        "    \n",
        "    while not target and n_attempts <= max_attempts:\n",
        "        #Printing with colors\n",
        "        for pos in range(len(target_number)):\n",
        "            if target_number[pos] == current[pos]:\n",
        "                print(Color.GREEN+current[pos]+\" \", end=\"\")\n",
        "            elif current[pos] in target_number:\n",
        "                print(Color.ORANGE+current[pos]+\" \", end=\"\")\n",
        "            else:\n",
        "                print(Color.RESET+current[pos]+\" \", end=\"\")\n",
        "        print(Color.RESET)    \n",
        "            \n",
        "        #Validating input\n",
        "        correct_input = False    \n",
        "        while not correct_input:\n",
        "            input_number = input(\"Attempt {} of {}-->\".format(n_attempts, max_attempts))\n",
        "            correct_input = len(input_number) == SIZE\n",
        "            if not correct_input:\n",
        "                print(\"Please enter a number with {} digits.\".format(SIZE))\n",
        "            \n",
        "        #Checking if end\n",
        "        target = input_number == target_number\n",
        "        current =[x for x in input_number]\n",
        "        n_attempts += 1    \n",
        "    \n",
        "    if target:\n",
        "        print(\"Win in {} attempts!\".format(n_attempts-1))        \n",
        "    else:\n",
        "        print(\"No more attempts, the number was: {}.\".format(target_number))\n",
        "    \n",
        "    "
      ],
      "metadata": {
        "id": "Kwoo5o1N3Nbo"
      },
      "execution_count": null,
      "outputs": []
    },
    {
      "cell_type": "markdown",
      "source": [
        "#Relevant links and references\n",
        "\n",
        "* Tools for iterating: https://docs.python.org/3/library/itertools.html\n",
        "* Fluent Python book: https://www.oreilly.com/library/view/fluent-python/9781491946237/\n",
        "* David M. Beazley. Python Cookbook: Recipes for Mastering Python 3. O'Reilly. 2011\n",
        "* Python cheatsheet: https://perso.limsi.fr/pointal/_media/python:cours:mementopython3-english.pdf \n",
        "* Jose María Alvarez Rodríguez · Hands on Programming with Python : https://chemaar.github.io/python-programming-course/\n",
        "* Python Community · Real Python Tutorials : https://realpython.com/\n",
        "Python Software Foundation · Python documentation and official resources : https://www.python.org/doc/\n",
        "* Qingkai Kong, Timmy Siauw, Alexandre Bayen · Python Programming And Numerical Methods: A Guide For Engineers And Scientists : https://pythonnumericalmethods.berkeley.edu/notebooks/Index.html\n",
        "* The Python Software Foundation · The Python Tutorial : https://docs.python.org/3/tutorial/"
      ],
      "metadata": {
        "id": "V1RM_9azHgzb"
      }
    }
  ]
}