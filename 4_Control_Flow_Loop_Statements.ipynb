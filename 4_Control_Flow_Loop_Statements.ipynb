{
  "nbformat": 4,
  "nbformat_minor": 0,
  "metadata": {
    "colab": {
      "name": "4-Control Flow: Loop Statements",
      "provenance": [],
      "collapsed_sections": [],
      "authorship_tag": "ABX9TyOeRY8ySVgVqm81cVavnG55",
      "include_colab_link": true
    },
    "kernelspec": {
      "name": "python3",
      "display_name": "Python 3"
    }
  },
  "cells": [
    {
      "cell_type": "markdown",
      "metadata": {
        "id": "view-in-github",
        "colab_type": "text"
      },
      "source": [
        "<a href=\"https://colab.research.google.com/github/chemaar/python-programming-course/blob/master/4_Control_Flow_Loop_Statements.ipynb\" target=\"_parent\"><img src=\"https://colab.research.google.com/assets/colab-badge.svg\" alt=\"Open In Colab\"/></a>"
      ]
    },
    {
      "cell_type": "markdown",
      "metadata": {
        "id": "08ADk7tgHvga",
        "colab_type": "text"
      },
      "source": [
        "# Chapter 4: Control flow-Loops\n"
      ]
    },
    {
      "cell_type": "markdown",
      "metadata": {
        "id": "e8G-jN1TH182",
        "colab_type": "text"
      },
      "source": [
        "## 4.1 Control flow in a program\n",
        "\n",
        "As we have introduced in the previous chapter, we have made some simple programs that get some input, *check some condition*, perform some operation and display the result. However, the execution of a program is not always so easy and ideal. In many cases, it is necessary to repeat a set of actions and make decisions depending on the result. For instance, we may need:\n",
        "\n",
        "* Aggregate values.\n",
        "* Search for something.\n",
        "* Show a set of elements.\n",
        "* Process a set of elements.\n",
        "* ...\n",
        "\n",
        "Again, any programming language includes constructors to control the program flow. Basically, it implies that we are able to perform \"jumps\" in our program from one line to another depending on some condition. \n",
        "\n",
        "Let's put a simple example:\n",
        "\n",
        ">Write a program that calculates the average grade of the students.\n",
        "\n",
        "How can we proceed?\n",
        "\n",
        ">**Use of loop statements**.\n",
        "\n",
        "\n"
      ]
    },
    {
      "cell_type": "markdown",
      "metadata": {
        "id": "QRLp07N3IZyB",
        "colab_type": "text"
      },
      "source": [
        "## 4.2 Loop statements\n",
        "\n",
        "**A loop statement is a kind of statement to control the flow of a program and repeat a set of statements until a condition is True or False, or, until a set of elements have been visited.**\n",
        "\n",
        "We have different types of loop statements:\n",
        "\n",
        "* **While statement**. It firstly checks a **stop condition**, and, if it is True, a set of statements are executed. Then, the stop condition is checked again. This process is repeated until the condition is False. This loop can potentially be infinite (due to bugs, errors or other coding issues).\n",
        "\n",
        "* **For statement**. It iterates over a set of elements and, once, all the elements have been visited the loop ends. However, there are different types of **for** loops:\n",
        "  * For statement (fully equivavalent to the `while` statement). In this case, the for loop has another syntax but, the semantics and execution, is completely equivalent to a `while` loop. This type of loop is NOT available in the Python programming language. Take a look to the next loop in the Java programming language.\n",
        "```\n",
        "for (int i = 0; i<5; i++)\n",
        "  System.out.println(i)\n",
        "```\n",
        "\n",
        "  *  For statement to iterate over an iterable sequence. In this case, the for statement allows us to iterate over a set of elements and, the loop will end, once all elements have been visited.\n",
        "\n"
      ]
    },
    {
      "cell_type": "markdown",
      "metadata": {
        "id": "oFO639Ye8aft",
        "colab_type": "text"
      },
      "source": [
        "### 4.2.1 WHILE statement"
      ]
    },
    {
      "cell_type": "markdown",
      "metadata": {
        "id": "abQ40kYZEeAm",
        "colab_type": "text"
      },
      "source": [
        "#### **While statement**\n",
        "\n",
        "There are many times in which we have to repeate a set of actions until some condition is True or False. In the case of the while loop, the loop will be executed while the stop condition is True.\n",
        "\n",
        "For instance:\n",
        "\n",
        ">while it is not the end of the list of grades, get the grade at position $i$ and aggregate.\n",
        "\n",
        "#### **Concept**\n",
        "\n",
        "* The WHILE statement is a compound statement in which a condition is checked and, if it is True, a set of statements are executed. Then, the stop condition is checked again.\n",
        "\n",
        "  * True branch: set of statements to be executed if the condition was True.\n",
        " \n",
        "* The while loop will be executed between $[0-N]$ times.\n",
        "\n",
        "* **Flow diagram**:\n",
        "\n",
        "![alt text](https://github.com/chemaar/python-programming-course/raw/master/imgs/IF-ELSE-while.png)\n",
        "\n",
        "* The while loop is composed of the next elements:\n",
        "  * **Control variables**. These are the variables participating in the stop condition. **It is necessary to always initialize these variables before entering in the loop**.\n",
        "  * **Stop condition**. This is a logical expression.\n",
        "  * **Step**. This is a set of statements that updates the control variables in each iteration.\n",
        "\n",
        "#### **Application**\n",
        "\n",
        "* The main application of the while loop is the repetition of a set of statements while the stop condition is True.\n",
        "\n",
        "#### **WHILE statement in the Python programming language**\n",
        "\n",
        "* In the Python programming language, the `while` statement is classified as a compound statement (because after its execution a new set of statements will be executed, or, in other words, a new indented block will follow to some of the branches).\n",
        "\n",
        "* The grammar is as follows (in this case we will focus in the first case):\n",
        "\n",
        "\n",
        "```\n",
        "while_stmt ::=  \"while\" assignment_expression \":\" suite\n",
        "                [\"else\" \":\" suite]\n",
        "```\n",
        "\n",
        "  * `assignment_expression` is a conditional expression (logical operators and operands) that will be evaluated as True or False.\n",
        "  * `suite` is a set of **indented** statements.\n",
        "\n",
        "Following, the official definition is presented:\n",
        "\n",
        ">*This repeatedly tests the expression and, if it is true, executes the first suite; if the expression is false (which may be the first time it is tested) the suite of the else clause, if present, is executed and the loop terminates.* \n",
        ">*A `break` statement executed in the first suite terminates the loop without executing the `else` clause’s suite. A continue statement executed in the first suite skips the rest of the suite and goes back to testing the expression.*\n",
        "\n",
        "> Grammar meaning, \n",
        "> * ()* means between 0-n repetitions of the statement (optional).\n",
        "> * [] means between 0-1 repetitions of the statement (optional).\n",
        "\n",
        "In addition, the `while` statement in the Python programming language allows us to include an `else` statement that will be executed after finishing the loop. **This statement will NOT be executed when the loop is terminated by a break statement**.\n",
        "\n",
        "\n",
        "\n",
        "#### **Examples**\n"
      ]
    },
    {
      "cell_type": "code",
      "metadata": {
        "id": "wASGJZd4ry6_",
        "colab_type": "code",
        "colab": {}
      },
      "source": [
        "i = 0\n",
        "while i < 5:\n",
        "  print(i)\n",
        "  i = i + 1\n",
        "\n",
        "while i < 5:\n",
        "  print(i)\n",
        "  i = i + 1\n",
        "else:\n",
        "  print(\"Done\")"
      ],
      "execution_count": 0,
      "outputs": []
    },
    {
      "cell_type": "markdown",
      "metadata": {
        "colab_type": "text",
        "id": "inwVW1wc8e20"
      },
      "source": [
        "### 4.2.2 FOR statement"
      ]
    },
    {
      "cell_type": "markdown",
      "metadata": {
        "id": "8LMgButlEpPJ",
        "colab_type": "text"
      },
      "source": [
        "#### **Problem statement**\n",
        "\n",
        "In this case, we have a set of elements that we want to visit (iterate over) and perform some operation (usually, aggregation, searching, etc.). \n",
        "\n",
        "For instance:\n",
        "\n",
        ">For each student, print the ID, name and grade.\n",
        "\n",
        "\n",
        "#### **Concept**\n",
        "\n",
        "* The `for` statement is programming language constructor to give support to the iteration over an iterable sequence of elements.\n",
        "\n",
        "* Flow diagram:\n",
        "\n",
        "![alt text](https://github.com/chemaar/python-programming-course/raw/master/imgs/IF-ELSE-Page-4.png)\n",
        "\n",
        "#### **Application**\n",
        "\n",
        "* The main application of the for loop statement is for providing a commnon set of operations to a set of values. As it has been commented before, aggregation, searching for some value, replacing a value, etc.\n",
        "\n",
        "#### **FOR statement in the Python programming language**\n",
        "\n",
        "* The grammar is as follows:\n",
        "\n",
        "```\n",
        "for_stmt ::=  \"for\" target_list \"in\" expression_list \":\" suite\n",
        "              [\"else\" \":\" suite]\n",
        "```\n",
        "* Again, here it is important to remark that **the suite of statements that follow the for clause must be properly indented**.\n",
        "\n",
        ">The expression list is evaluated once; it should yield an iterable object. An iterator is created for the result of the `expression_list`. The suite is then executed once for each item provided by the iterator, in the order returned by the iterator. Each item in turn is assigned to the target list using the standard rules for assignments, and then the `suite` is executed. When the items are exhausted (which is immediately when the sequence is empty or an iterator raises a StopIteration exception), the `suite` in the else clause, if present, is executed, and the loop terminates. (see the [official documentation](https://docs.python.org/3/reference/compound_stmts.html?highlight=control%20flow#grammar-token-for-stmt))\n",
        "\n",
        "* In addition, the `for` statement in the Python programming language allows us to include an `else` statement that will be executed after finishing the loop. A `break` statement executed in the first suite terminates the loop without executing the else clause’s suite. A `continue` statement executed in the first suite skips the rest of the suite and continues with the next item, or with the else clause if there is no next item.\n",
        "\n",
        ">**Remark**: there is a subtlety when the sequence is being modified by the loop (this can only occur for mutable sequences, e.g. lists). An internal counter is used to keep track of which item is used next, and this is incremented on each iteration. When this counter has reached the length of the sequence the loop terminates. This means that if the suite deletes the current (or a previous) item from the sequence, the next item will be skipped (since it gets the index of the current item which has already been treated). Likewise, if the suite inserts an item in the sequence before the current item, the current item will be treated again the next time through the loop. This can lead to nasty bugs that can be avoided by making a temporary copy using a slice of the whole sequence, e.g.,\n",
        "\n",
        "\n",
        "```\n",
        "for x in a[:]:\n",
        "    if x < 0: a.remove(x)\n",
        "```\n",
        "\n",
        "\n",
        "\n",
        "#### **Examples**"
      ]
    },
    {
      "cell_type": "code",
      "metadata": {
        "id": "wfQOhUsxu1Cb",
        "colab_type": "code",
        "colab": {}
      },
      "source": [
        "for i in range(0,5):\n",
        "  print (i)"
      ],
      "execution_count": 0,
      "outputs": []
    },
    {
      "cell_type": "markdown",
      "metadata": {
        "id": "WSNJmRBvNE5C",
        "colab_type": "text"
      },
      "source": [
        "## 4.3 Generating an iterable sequence: the `range` class\n",
        "\n",
        "* `range(start, stop[, step])` (simplified definitions from the [official documentation](https://docs.python.org/3/library/stdtypes.html#range))\n",
        "\n",
        "  * The arguments to the range constructor must be integers (either built-in int or any object that implements the `__index__` special method). If the step argument is omitted, it defaults to 1. \n",
        "\n",
        "  * Ranges containing absolute values larger than sys.maxsize are permitted but some features (such as len()) may raise OverflowError.\n",
        "\n",
        "  * Ranges implement all of the common sequence operations except concatenation and repetition (due to the fact that range objects can only represent sequences that follow a strict pattern and repetition and concatenation will usually violate that pattern).\n",
        "\n",
        "* Parameters:\n",
        "\n",
        "  * `start`: the value of the start parameter (or 0 if the parameter was not supplied)\n",
        "\n",
        "  * `stop`: the value of the stop parameter\n",
        "\n",
        "  * `step`: the value of the step parameter (or 1 if the parameter was not supplied)\n",
        "\n",
        "* **Remark**: *The advantage of the range type over a regular list or tuple is that a range object will always take the same (small) amount of memory, no matter the size of the range it represents (as it only stores the start, stop and step values, calculating individual items and subranges as needed).*"
      ]
    },
    {
      "cell_type": "markdown",
      "metadata": {
        "id": "dY769PAc8tVh",
        "colab_type": "text"
      },
      "source": [
        "## 4.4 Other statements: `break` and `continue`\n"
      ]
    },
    {
      "cell_type": "markdown",
      "metadata": {
        "id": "f-OiPEmp2XKR",
        "colab_type": "text"
      },
      "source": [
        "* **break statement**. The `break` statement, like in C, breaks out of the innermost enclosing for or while loop.\n",
        "\n",
        "* **continue statement**. The `continue` statement, also borrowed from C, continues with the next iteration of the loop.\n",
        "\n",
        "\n"
      ]
    },
    {
      "cell_type": "markdown",
      "metadata": {
        "id": "KXIlQFkSyTRz",
        "colab_type": "text"
      },
      "source": [
        "## 4.5 Efficient creation of iterators (NOT FOR STUDYING)\n",
        "\n",
        "Learn more: https://docs.python.org/3/library/itertools.html"
      ]
    },
    {
      "cell_type": "markdown",
      "metadata": {
        "id": "5OQPfEDhIdJv",
        "colab_type": "text"
      },
      "source": [
        "## Relevant resources\n",
        "\n",
        "* https://docs.python.org/3/reference/compound_stmts.html\n"
      ]
    }
  ]
}