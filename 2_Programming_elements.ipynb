{
  "nbformat": 4,
  "nbformat_minor": 0,
  "metadata": {
    "colab": {
      "name": "2-Programming elements",
      "provenance": [],
      "authorship_tag": "ABX9TyP8YMxDjoYg0Y9PYCte5sjR",
      "include_colab_link": true
    },
    "kernelspec": {
      "name": "python3",
      "display_name": "Python 3"
    }
  },
  "cells": [
    {
      "cell_type": "markdown",
      "metadata": {
        "id": "view-in-github",
        "colab_type": "text"
      },
      "source": [
        "<a href=\"https://colab.research.google.com/github/chemaar/python-programming-course/blob/master/2_Programming_elements.ipynb\" target=\"_parent\"><img src=\"https://colab.research.google.com/assets/colab-badge.svg\" alt=\"Open In Colab\"/></a>"
      ]
    },
    {
      "cell_type": "markdown",
      "metadata": {
        "id": "08ADk7tgHvga",
        "colab_type": "text"
      },
      "source": [
        "# Chapter 2: Programming elements"
      ]
    },
    {
      "cell_type": "markdown",
      "metadata": {
        "id": "e8G-jN1TH182",
        "colab_type": "text"
      },
      "source": [
        "## 2.1 Elements of a programming language\n",
        "\n",
        "A program is composed of a set of different statements that perform some kind of operation or algorithm taking some input and generating some output. During the design and implementation of a program, we will find different needs:\n",
        "\n",
        "*   Store (and recover) values of different type.\n",
        "*   Create expressions to perform some calculation.\n",
        "*   Assign values.\n",
        "*   Make decissions depending on some state.\n",
        "*   Repeat a set of statements until reaching some state.\n",
        "*   Define specific sub-programs or functions.\n",
        "*   Reuse existing functionalities.\n",
        "*   ...\n",
        "\n",
        "To do so any programming language comprises a set of basic elements of programming.\n",
        "\n",
        "\n"
      ]
    },
    {
      "cell_type": "markdown",
      "metadata": {
        "id": "J0O_dSPkXZvX",
        "colab_type": "text"
      },
      "source": [
        "### 2.1.1 Identifiers\n"
      ]
    },
    {
      "cell_type": "markdown",
      "metadata": {
        "id": "QcOxz37dpYuA",
        "colab_type": "text"
      },
      "source": [
        "\n",
        "#### **Problem statement**\n",
        "\n",
        "* Information is stored in memory slots. A memory slot is reference by memory address that usually is represented as an hexadecimal number: `0x0000F1A0`. A memory address has not been designed to be used by humans (like programmers) and, unless, you are coding at a very low level, it is not easy to remember a memory address and to know what content and type is stored in such address. \n",
        "* Furthermore, when coding, we create new functionalities, elements, etc. that must be reused. So, we need a technique to be able to easily make references to those elements we have created.\n",
        "\n",
        "#### **Concept**\n",
        "\n",
        "* To ease the management of memory resources and to be able to reuse parts of our program (e.g. variables, functions, etc.), we need a strategy to name it. \n",
        "\n",
        "* **An identifier can be defined as human-readable name for an element within a program.**\n",
        "\n",
        "#### **Application**\n",
        "\n",
        "It is possible to name almost any element within a program. For example:\n",
        "\n",
        "* Constants\n",
        "* Variables\n",
        "* Functions\n",
        "* Class attributes\n",
        "* Class methods\n",
        "* Modules\n",
        "* ...\n",
        "\n",
        "#### **Identifiers in the Python programming language**\n",
        "\n",
        "* In the Python programming language, an identifier is  basically a sequence of case sensitive characters that must begin with a letter (a-z,A-B) or underscore (_) and follow by other similar characters with a reasonable lenght.\n",
        "* Some reserved words cannot be used as identifiers to avoid ambiguity.\n",
        "\n",
        "\n",
        "```\n",
        "identifier   ::=  xid_start xid_continue*\n",
        "id_start     ::=  <all characters in general categories Lu, Ll, Lt, Lm, Lo, Nl, the underscore, and characters with the Other_ID_Start property>\n",
        "id_continue  ::=  <all characters in id_start, plus characters in the categories Mn, Mc, Nd, Pc and others with the Other_ID_Continue property>\n",
        "xid_start    ::=  <all characters in id_start whose NFKC normalization is in \"id_start xid_continue*\">\n",
        "xid_continue ::=  <all characters in id_continue whose NFKC normalization is in \"id_continue*\">\n",
        "```\n",
        "\n",
        "   * Lu - uppercase letters\n",
        "   * Ll - lowercase letters\n",
        "   * Lt - titlecase letters\n",
        "   * Lm - modifier letters\n",
        "   * Lo - other letters\n",
        "   * Nl - letter numbers\n",
        "   * Mn - nonspacing marks\n",
        "   * Mc - spacing combining marks\n",
        "   * Nd - decimal numbers\n",
        "   * Pc - connector punctuations\n",
        "\n",
        "#### **Examples in Python**\n",
        "\n",
        "\n"
      ]
    },
    {
      "cell_type": "code",
      "metadata": {
        "id": "7FfST9rWZ_6t",
        "colab_type": "code",
        "colab": {}
      },
      "source": [
        "this_is_my_identifier = 3\n",
        "_another_identifier = 4\n",
        "This_is_my_identifier = 5\n",
        "other_4567890_identifier = 6\n",
        "id = 7 #id is a reserved word, and can lead to misleading behaviors\n",
        "print(this_is_my_identifier)\n",
        "print(_another_identifier)\n",
        "print(This_is_my_identifier)\n",
        "print(other_4567890_identifier)\n",
        "print(id)"
      ],
      "execution_count": 0,
      "outputs": []
    },
    {
      "cell_type": "markdown",
      "metadata": {
        "id": "iGsRIaeFaSum",
        "colab_type": "text"
      },
      "source": [
        "### 2.1.2 Constants\n"
      ]
    },
    {
      "cell_type": "markdown",
      "metadata": {
        "id": "Ess_TIuLpfHi",
        "colab_type": "text"
      },
      "source": [
        "\n",
        "#### **Problem statement**\n",
        "\n",
        " * In many cases, we find domains in which some values are always the same. They will NOT change during the execution of a program. For instance, the value of PI, the number of weekdays, the number of months, a set of colors, a threshold value for a specific problem, etc.\n",
        " * Furthermore, these values are commonly used in different parts of a program, so we need a strategy to be able to update them without visiting all the statements in which they are being used.\n",
        "\n",
        "#### **Concept**\n",
        "\n",
        "* To ease the management of constant values and to provide a strategy to make our source code more generic and clean, we can identify these values and name them with an identifier.\n",
        "\n",
        "* **A constant an identifier to access a memory area (reference) in which we will store a value that will NOT change during the execution of the program.**\n",
        "\n",
        "#### **Application**\n",
        "\n",
        "* The use of constants is clear when we use the same value along the code. In these cases, as a good programming practice, we should declare a constant (an identifier) and assign that value. Then, we can refer the constant name to access the value in the memory.\n",
        "\n",
        "\n",
        "\n",
        "#### **Constants in the Python programming language**\n",
        "\n",
        "In Python, we do not really have a \"constant\" as a concept. We have variables that are declared in a **global scope**. Following some Python-specific features are presented:\n",
        "\n",
        "* A constant is an **identifier** (name) following the [rules to write identifiers in the Python programming language](https://docs.python.org/3/reference/lexical_analysis.html#identifiers).\n",
        "* A constant has a **datatype** that indicates the size of the content in the memory and how to interpret the information stored in the memory.\n",
        "* Although it is not mandatory, constants identifiers are usually written in **UPPERCASE** or **UPPER_CASE_WITH_UNDERSCORES** letters.\n",
        "* In Python, there is no special management of constants. Constants are just variables that are **managed at a global scope**.\n",
        "* As a good practice, a constant name should be **representative and explanatory** avoiding names such as \"temp\", \"other\", etc.\n",
        "\n",
        "\n",
        "\n",
        "#### **Examples in Python**"
      ]
    },
    {
      "cell_type": "code",
      "metadata": {
        "id": "qjmg0fykeStv",
        "colab_type": "code",
        "colab": {}
      },
      "source": [
        "#Define a constant\n",
        "#Note that there is no indentation.\n",
        "NUMBER_OF_DAYS = 7\n",
        "print(NUMBER_OF_DAYS)"
      ],
      "execution_count": 0,
      "outputs": []
    },
    {
      "cell_type": "markdown",
      "metadata": {
        "colab_type": "text",
        "id": "_uU6sKF1efeY"
      },
      "source": [
        "### 2.1.3 Variables\n"
      ]
    },
    {
      "cell_type": "markdown",
      "metadata": {
        "id": "qlwSvdn4pjZP",
        "colab_type": "text"
      },
      "source": [
        "\n",
        "#### **Problem statement**\n",
        "\n",
        " * A program implements some algorithm taking as an input some data and generating some result. During this computation process, there is a need of storing values that can be reused for further computations where they will be updated. \n",
        "\n",
        "#### **Concept**\n",
        "\n",
        "* To ease the management of variables values and to provide a strategy to store and retrieve them from the memory, we can identify and name them an identifier.\n",
        "\n",
        "* **A variable is an identifier to access a memory area (reference) in which we will store a value that can change during the execution of the program.**\n",
        "\n",
        "#### **Application**\n",
        "\n",
        "* The use of variables is clear when we need to store and retrieve a value.\n",
        "\n",
        "#### **Variables in the Python programming language**\n",
        "\n",
        "In Python, we have the notion of a variable as an identifier that can be declared at any time, anywhere at a **local scope**. Following some Python-specific features are presented:\n",
        "\n",
        "* A variable is an **identifier** (name) following the [rules to write identifiers in the Python programming language](https://docs.python.org/3/reference/lexical_analysis.html#identifiers).\n",
        "* A variable has a **datatype** that indicates the size of the content in the memory and how to interpret the information stored in the memory.\n",
        "* In Python, variables are **managed at a local scope**.\n",
        "* As a good practice, a variable name should be **representative and explanatory** avoiding names such as \"temp\", \"other\", etc.\n",
        "* In Python, any variable is **a reference to an object in the memory**.\n",
        "\n",
        "\n",
        "#### **Examples in Python**\n",
        "\n"
      ]
    },
    {
      "cell_type": "code",
      "metadata": {
        "id": "T9k1iWeVhx18",
        "colab_type": "code",
        "colab": {}
      },
      "source": [
        "my_integer_variable = 2\n",
        "print(my_integer_variable)\n",
        "#Reference to the memory: identity of the variable\n",
        "print(id(my_integer_variable))\n",
        "my_integer_variable = 5\n",
        "print(id(my_integer_variable))"
      ],
      "execution_count": 0,
      "outputs": []
    },
    {
      "cell_type": "markdown",
      "metadata": {
        "colab_type": "text",
        "id": "-mY553g4kOsU"
      },
      "source": [
        "### 2.1.4 Datatypes\n"
      ]
    },
    {
      "cell_type": "markdown",
      "metadata": {
        "id": "nl-L9T1mpnvQ",
        "colab_type": "text"
      },
      "source": [
        "\n",
        "#### **Problem statement**\n",
        "\n",
        " * When using a constant or a variable, we need to know which type of data we are managing because of two main reasons:\n",
        "    * To exactly know what is the size required to store the value in the memory (and being able to recover from it).\n",
        "    * To exactly know which are the operations that can be made with that type of content. \n",
        "\n",
        "#### **Concept**\n",
        "\n",
        "* A datatype indicates the type of content that is stored in some variable and, by extension, the size that must be allocated in the memory and the type and semantics of the operations that we can make with those values.\n",
        "\n",
        "#### **Application**\n",
        "\n",
        "* When coding we will make use of the different statements to build our program.\n",
        "\n",
        "#### **Datatypes in the Python programming language**\n",
        "\n",
        "In Python, we have different datatypes:\n",
        "   * There are **simple datatypes** like integer, float or boolean.\n",
        "   * There are **complex datatypes** (objects) such as string, date or any other class.\n",
        "   * There are **user-defined datatypes** that are specific datatypes defined by the programmer using a combination of existing datatypes.\n",
        "   * Datatypes allow us to ensure that specific operations can be done with constants/variables.\n",
        "   * Variables can be **mutable** (the value that is referenced in the memory can change) or **inmutable** (if a new value is assigned, a new memory area is allocated).\n",
        "   * In Python, any constant and/or variable has a type that corresponds to the current value that is pointed by the identifier (**dynamic typing**).\n",
        "\n",
        "Following, we present a summary of the [official hierarchy of datatypes](https://docs.python.org/3/reference/datamodel.html#the-standard-type-hierarchy) in Python (directly taken from the official reference):\n",
        "\n",
        "* `None`. This type has a single value. There is a single object with this value. This object is accessed through the built-in name None. It is used to signify the absence of a value in many situations. Its truth value is false.\n",
        "* **Number**. These are created by numeric literals and returned as results by arithmetic operators and arithmetic built-in functions. **Numeric objects are immutable; once created their value never changes.** Python numbers are of course strongly related to mathematical numbers, but subject to the limitations of numerical representation in computers.\n",
        "  *  Integers (int)\n",
        "  *  Booleans (bool)\n",
        "  *  Float (float)\n",
        "  *  Complex (complex)\n",
        "* **Sequences**\n",
        "  * **Immutable sequences**. An object of an immutable sequence type cannot change once it is created.\n",
        "    * Strings. A string is a sequence of values that represent Unicode code points. All the code points in the range U+0000 - U+10FFFF can be represented in a string. Python doesn’t have a char type; instead, every code point in the string is represented as a string object with length 1. \n",
        "    * Tuples. The items of a tuple are arbitrary Python objects. Tuples of two or more items are formed by comma-separated lists of expressions. \n",
        "  * **Mutable sequences**. Mutable sequences can be changed after they are created. \n",
        "    * Lists. The items of a list are arbitrary Python objects. Lists are formed by placing a comma-separated list of expressions in square brackets.\n",
        "* **Set types**. These represent unordered, finite sets of unique, immutable objects. \n",
        "* **Mappings**. These represent finite sets of objects indexed by arbitrary index sets. The subscript notation a[k] selects the item indexed by k from the mapping a; \n",
        "  * Dictionaries. These represent finite sets of objects indexed by nearly arbitrary values. The only types of values not acceptable as keys are values containing lists or dictionaries or other mutable types that are compared by value rather than by object identity, the reason being that the efficient implementation of dictionaries requires a key’s hash value to remain constant.\n",
        "* ...\n",
        "* **Modules**. Modules are a basic organizational unit of Python code, and are created by the `import` system as invoked either by the `import` statement.\n",
        "\n",
        "#### **Examples in Python**\n",
        "\n"
      ]
    },
    {
      "cell_type": "code",
      "metadata": {
        "id": "YWfEK8DYlEzw",
        "colab_type": "code",
        "colab": {}
      },
      "source": [
        "a = 2\n",
        "#A datatype is integer\n",
        "print(type(a))\n",
        "#...now we assign another value, with type string\n",
        "a = \"hello\"\n",
        "print(type(a))"
      ],
      "execution_count": 0,
      "outputs": []
    },
    {
      "cell_type": "markdown",
      "metadata": {
        "id": "SwYJ1Yc0psoJ",
        "colab_type": "text"
      },
      "source": [
        "### 2.1.5 Statements"
      ]
    },
    {
      "cell_type": "markdown",
      "metadata": {
        "id": "en8As7Q0p6Ls",
        "colab_type": "text"
      },
      "source": [
        "#### **Problem statement**\n",
        "\n",
        " * A program is a set of statements. A statement represents a step to accomplish with some task or to reach some objective.  \n",
        "\n",
        "#### **Concept**\n",
        "\n",
        "* A statement is a grammatically correct sentence. There are different types of statements, but we can summarize them in the following list:\n",
        "\n",
        "  * ***Constant/variable*** declaration. It is an statement in which a new value is assigned to a variable.\n",
        "  * ***Assignments***. It is an statement in which a value is assigned to an identifier (variable, constant).\n",
        "  * ***Expressions***. It is an statement that performs some calculation with operators and operands. There are different types of expressions:\n",
        "     1. Arithmetical\n",
        "     2. Comparison\n",
        "     3. Logical\n",
        "  * *Control flow statements*. There are two main types:\n",
        "     1. Conditional (if-else) statements.\n",
        "     2. Loops (for, while) statements.\n",
        "     3. Unconditional jumps (go to, pass, break) statements.\n",
        "  * *Function declaration*.\n",
        "  * *Function invocation*.\n",
        "  * *Class declaration*.\n",
        "  * *Method declaration*.\n",
        "  * *Method invocation*.\n",
        "  * ...\n",
        "\n",
        "#### **Application**\n",
        "\n",
        "* When coding we will make use of the different statements to build our program.\n",
        "\n",
        "#### **Statements in the Python programming language**\n",
        "\n",
        "In Python, as in any other programmin language, a statement is a grammatically correct sentence.\n",
        "\n",
        "#### **Examples in Python**\n",
        "\n"
      ]
    },
    {
      "cell_type": "markdown",
      "metadata": {
        "id": "Fr2NUu6ZpvTQ",
        "colab_type": "text"
      },
      "source": [
        "### 2.1.6 Expressions"
      ]
    },
    {
      "cell_type": "markdown",
      "metadata": {
        "colab_type": "text",
        "id": "61I-_5-mln64"
      },
      "source": [
        "\n",
        "\n",
        "#### **Problem statement**\n",
        "\n",
        " * When building a program, we need to perform operations that will return some value. \n",
        "\n",
        "#### **Concept**\n",
        "\n",
        "* As we have introduced, an expression is a type of statement to define an operation with **operators** and operands. There are different types of expressions: \n",
        "     1. Arithmetical\n",
        "     2. Comparison\n",
        "     3. Logical\n",
        "\n",
        "* **Operators**. An operator is a symbol that serves us to build expressions combining different operands.\n",
        "\n",
        "\n",
        "#### **Application**\n",
        "\n",
        "* In order to perform some operation, we will design expressions combining operators and operands.\n",
        "\n",
        "#### **Expressions in the Python programming language**\n",
        "\n",
        "\n",
        "1. **Arithmetic  operators**. These are operators that perform some artithmetical operation returning a number.\n",
        "\n",
        "|Operator | Type | Interpretation| Example |\n",
        "--- | --- | --- | ---\n",
        "|+ | Unary | Only to complement the unary negation| +a\n",
        "|- | Unary | Unary negation| -a\n",
        "|+ | Binary | Adds two expressions (e.g. two variables) | a + b\n",
        "|- | Binary | Subtracts two expressions (e.g. two variables) | a - b\n",
        "| \\* | Binary | Multiplies two expressions (e.g. two variables) | a * b\n",
        "| / | Binary | Divides (float value) two expressions (e.g. two variables) | a / b\n",
        "| // | Binary | Divides (integer two expressions (e.g. two variables) | a // b\n",
        "| % | Binary | Returns the remainder of two expressions (e.g. two variables) | a % b\n",
        "| ** | Binary | Raise an expression to an exponent  (e.g. two variables) | a \\** b\n",
        "\n",
        "\n",
        "2. **Comparison operators**. These are operators that perform a comparison returning a boolean value (True or False).\n",
        "\n",
        "|Operator | Type | Interpretation| Example |\n",
        "--- | --- | --- | ---\n",
        "|== | Binary | True if the two expressions are **equal** (by value), False otherwise| a == b\n",
        "|!= | Binary | True if the two expressions are **NOT equal** (by value), False otherwise| a != b\n",
        "|>| Binary | True if one value is greater than the other (by value), False otherwise| a > b\n",
        "|<| Binary | True if one value is less than the other (by value), False otherwise| a < b\n",
        "|>=| Binary | True if one value is greater or equal than the other (by value), False otherwise| a >= b\n",
        "|<=| Binary | True if one value is less or equal than the other (by value), False otherwise| a <= b\n",
        "\n",
        "> It is possible to evaluate some expressions that are not boolean, as boolean values. Python has a perfectly defined strategy to evaluate as **FALSE** the following situations.\n",
        "> \n",
        "\n",
        "*   The value `False`.\n",
        "*   Any numerical value that is zero (0, 0.0, 0.0+0.0j).\n",
        "*   An empty string.\n",
        "*   An instance of built-in composite datatype (such as list) which is empty.\n",
        "*   The value `None`.\n",
        "\n",
        "> **In the case of comparing floating numbers, we need to be specially careful because of the representation error.**\n",
        "\n",
        "\n",
        "\n",
        "```\n",
        "r = 2.1 + 3.2\n",
        "print(r == 5.3)\n",
        "#Another way to compare float values is to consider some tolerance\n",
        "print(abs(r - 5.3) < 0.0000001)\n",
        "```\n",
        "\n",
        "3. **Logical operators**. These operators serve us to compose logical expressions (make conditions). It is important to know the truth tables of each operator.\n",
        "\n",
        "|Operator | Type | Interpretation| Example |\n",
        "--- | --- | --- | ---\n",
        "|and | Binary | Logical AND, true if both are true, false otherwise.| a and b\n",
        "|or | Binary | Logical OR, true if any is true, false otherwise| a or b\n",
        "|not | Unary | Logical NOT, it negates the current logical value. | not a\n",
        "\n",
        "> **The evaluation of a logical AND is short-circuited (once an operand is false, the interpreter will NOT continue evaluating the rest of operands.**\n",
        "\n",
        "> Other interesting Python feature are **chained comparisons** in which we can express natural comparisons that are more complex.\n",
        "\n",
        "\n",
        "\n",
        "```\n",
        "a = 2\n",
        "b = 3\n",
        "c = 8\n",
        "a < b <= c\n",
        "#This is similar to\n",
        "a < b and b <= c\n",
        "```\n",
        "\n",
        "\n",
        "4. **Bitwise operators**. They manage operands as sequences of binary digits operating them bit by bit. \n",
        "\n",
        "|Operator | Type | Interpretation| Example |\n",
        "--- | --- | --- | ---\n",
        "|& | Binary | Each bit position is the AND operation between the bits at that position | a & b\n",
        "| \\| | Binary |  Each bit position is the OR operation between the bits at that position | a | b\n",
        "|~ | Unary | Bit negation | ~ a\n",
        "|^ | Binary | Each bit position is the XOR operation between the bits at that position| a ^ b\n",
        "|>> | Binary | Each bit is shifted right n places | a >> n\n",
        "|<< | Binary | Each bit is shifted left n places | a >> n\n",
        "\n",
        "5. **Identity Operators.** `is` and `id` that determine whether the given operands have the same identity—that is, refer to the same object. This is not the same thing as equality, which means the two operands refer to objects that contain the same data but are not necessarily the same object\n",
        "\n",
        "* **Operator precedence**. When performing operations on expressions with operands and operators, it is necessary to know the operator precedence to properly calculate the value. The precedence and order of evaluation in **Python is similar to other languages: from the highest to lowest precedence and from the left to the right**. The precedence is something we can establish using parenthesis. \n",
        "\n",
        "|Operator | Priority (highest)\n",
        "--- | --- |\n",
        "** | exponentiation\n",
        "+a, -b, ~b | unary operations\n",
        "*, /, //, % | mutiplication and division\n",
        "+, - | addition and subtraction\n",
        "+, - | addition and subtraction\n",
        "<<, >> | bit shifts\n",
        "& | bit and\n",
        "^ | bit xor\n",
        "\\| | bit or\n",
        "==, !=, <, <=, >, >=, is, is not | comparison\n",
        "not | logical not\n",
        "and | logical and\n",
        "or | logical or\n",
        "\n",
        "#### **Examples in Python**\n",
        "\n",
        "* See Lab-2-Programming elements notebook for the complete list of examples.\n",
        "\n"
      ]
    },
    {
      "cell_type": "markdown",
      "metadata": {
        "id": "xri6I-tHqyKJ",
        "colab_type": "text"
      },
      "source": [
        "### 2.1.7 Other functional programming elements"
      ]
    },
    {
      "cell_type": "markdown",
      "metadata": {
        "id": "WI0Q9CkJrau2",
        "colab_type": "text"
      },
      "source": [
        "* **Keywords**. The following identifiers are used as reserved words, or keywords of the language, and cannot be used as ordinary identifiers. They must be spelled exactly as written here:\n",
        "\n",
        "\n",
        "```\n",
        "False      await      else       import     pass\n",
        "None       break      except     in         raise\n",
        "True       class      finally    is         return\n",
        "and        continue   for        lambda     try\n",
        "as         def        from       nonlocal   while\n",
        "assert     del        global     not        with\n",
        "async      elif       if         or         yield\n",
        "```\n",
        "\n",
        "* **Builtin-functions**. The Python interpreter has a number of functions and types built into it that are always available. ([See more](https://docs.python.org/3/library/functions.html))\n",
        "\n",
        "\n",
        "* **Delimiters**. These are symbols/tokens that serve as delimiters in the grammar.\n",
        "\n",
        "```\n",
        "(       )       [       ]       {       }\n",
        ",       :       .       ;       @       =       ->\n",
        "+=      -=      *=      /=      //=     %=      @=\n",
        "&=      |=      ^=      >>=     <<=     **=\n",
        "```\n"
      ]
    },
    {
      "cell_type": "markdown",
      "metadata": {
        "id": "T0MvPP24rrLK",
        "colab_type": "text"
      },
      "source": [
        "### 2.1.8 Other non-functional programming elements"
      ]
    },
    {
      "cell_type": "markdown",
      "metadata": {
        "colab_type": "text",
        "id": "VYObbI95rEb6"
      },
      "source": [
        "\n",
        "\n",
        "* **Comments**. A comment starts with a hash character (#) that is not part of a string literal, and ends at the end of the physical line. \n",
        "\n",
        "   1. *Block comments*. Block comments generally apply to some (or all) code that follows them, and are indented to the same level as that code. Each line of a block comment starts with a # and a single space (unless it is indented text inside the comment). Paragraphs inside a block comment are separated by a line containing a single #.\n",
        "   2. *Inline comments*. An inline comment is a comment on the same line as a statement. Inline comments should be separated by at least two spaces from the statement. They should start with a # and a single space. Inline comments are unnecessary and in fact distracting if they state the obvious.\n",
        "\n",
        "* **Documentation**. To write with documentation strings (a.k.a. \"docstrings\"), you may visit PEP 257.\n"
      ]
    },
    {
      "cell_type": "markdown",
      "metadata": {
        "id": "QRLp07N3IZyB",
        "colab_type": "text"
      },
      "source": [
        "## 2.2 Representing a program: flow diagram\n"
      ]
    },
    {
      "cell_type": "markdown",
      "metadata": {
        "id": "HNO7Nx9wsgCB",
        "colab_type": "text"
      },
      "source": [
        "As it has been define, a program is a set of statements that perform some operation. Basically, the set of statements represents a step-by-step method to solve a problem, a process.\n",
        "\n",
        "To represent a process, we have technique: the flow diagram. A flow diagram is just a chart in which we model which are the steps to complete a process.\n",
        "\n",
        "In flowchart, we will find two main entities:\n",
        "\n",
        "* **A rounded box**: representing the beginning or the ending of a program.\n",
        "\n",
        "![alt text](https://upload.wikimedia.org/wikipedia/commons/thumb/a/ad/Flowchart_Terminal.svg/200px-Flowchart_Terminal.svg.png)\n",
        "\n",
        "* **A square box**: representing a set of statements.\n",
        "\n",
        "![alt text](https://upload.wikimedia.org/wikipedia/commons/thumb/7/7e/Flowchart_Process.svg/200px-Flowchart_Process.svg.png)\n",
        "\n",
        "* **A decission point**: representing the evaluation of some condition.\n",
        "\n",
        "![alt text](https://upload.wikimedia.org/wikipedia/commons/thumb/0/0e/Flowchart_Decision.svg/200px-Flowchart_Decision.svg.png)\n",
        "\n",
        "* **An arrow**: representing the flow to one entity to another.\n",
        "\n",
        "![alt text](https://upload.wikimedia.org/wikipedia/commons/thumb/6/6c/Flowchart_Line.svg/200px-Flowchart_Line.svg.png)\n",
        "\n",
        "* **A parallelogram**: representing an input/output of the program.\n",
        "\n",
        "![alt text](https://upload.wikimedia.org/wikipedia/commons/thumb/f/f4/Flowchart_IO.svg/200px-Flowchart_IO.svg.png)\n",
        "\n",
        ">There are other specific symbols that can be included in the flow diagram. However, in our case, this notation is more than enough to represent the flow of our programs.\n",
        "\n",
        "As a good practice, before coding and in the design phase, we can use a flow diagram to design and describe the sequence of steps and tasks in our program.\n",
        "\n",
        "**Example**"
      ]
    },
    {
      "cell_type": "markdown",
      "metadata": {
        "id": "j5qxzT_KIao3",
        "colab_type": "text"
      },
      "source": [
        "## 2.3 General structure of a program\n"
      ]
    },
    {
      "cell_type": "markdown",
      "metadata": {
        "id": "9YeBrENPyp-y",
        "colab_type": "text"
      },
      "source": [
        "### The entry point: the `main` function\n",
        "\n",
        "Any program has an **entry point**. This means the first instruction that will be executed by the interpreter. \n",
        "\n",
        "In Python, this is the `main` function. To define, the main function, we declare the next statement:\n",
        "\n",
        "```\n",
        "#Other elements some imports and functions\n",
        "\n",
        "if __name__==\"__main__\"_\n",
        "  #sententences\n",
        "```\n",
        "\n",
        "In general, a Python program will have the next structure:\n",
        "\n",
        "\n",
        "\n",
        "```\n",
        "# Documentation\n",
        "\n",
        "#import sections: see the next section\n",
        "\n",
        "#function definitions\n",
        "\n",
        "#main function\n",
        "\n",
        "if __name__==\"__main__\"_\n",
        "  #sententences\n",
        "\n",
        "```\n",
        "> It is important to remark that the evaluation of a program in Python is \"lazy\", so until we do not go trough some sentence we cannot know whether it will behave properly.\n",
        "\n"
      ]
    },
    {
      "cell_type": "markdown",
      "metadata": {
        "id": "bHQHl-RFzvfC",
        "colab_type": "text"
      },
      "source": [
        "## References\n",
        "\n",
        "*  [ISO 5807:1985.Information processing — Documentation symbols and conventions for data, program and system flowcharts, program network charts and system resources charts](https://www.iso.org/standard/11955.html)"
      ]
    }
  ]
}