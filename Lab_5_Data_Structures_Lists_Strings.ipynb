{
  "nbformat": 4,
  "nbformat_minor": 0,
  "metadata": {
    "colab": {
      "name": "Lab_5_Data_Structures_Lists_Strings.ipynb",
      "provenance": [],
      "collapsed_sections": [],
      "authorship_tag": "ABX9TyPbCCmlzJKGmzBGPCJovC9w",
      "include_colab_link": true
    },
    "kernelspec": {
      "name": "python3",
      "display_name": "Python 3"
    }
  },
  "cells": [
    {
      "cell_type": "markdown",
      "metadata": {
        "id": "view-in-github",
        "colab_type": "text"
      },
      "source": [
        "<a href=\"https://colab.research.google.com/github/chemaar/python-programming-course/blob/master/Lab_5_Data_Structures_Lists_Strings.ipynb\" target=\"_parent\"><img src=\"https://colab.research.google.com/assets/colab-badge.svg\" alt=\"Open In Colab\"/></a>"
      ]
    },
    {
      "cell_type": "markdown",
      "metadata": {
        "id": "l88YgeqXK38T",
        "colab_type": "text"
      },
      "source": [
        "# Lab 5: Data structures: Lists and strings\n",
        "\n",
        "In this notebook, we propose and solve some exercises about basic data structures implemented through Python lists and strings.\n",
        "\n",
        "* **In these exercises, we can always proceed solving the problems in a generic way or taking advantage of Python capabilities. As a recommendation, first, try the generic way (applicable to any programming language) and, then, using Python**\n",
        "\n",
        "* **As a good programming practice, our test cases should ensure that all branches of the code are executed at least once.**"
      ]
    },
    {
      "cell_type": "code",
      "metadata": {
        "id": "aYnLfL5eYvA6",
        "colab_type": "code",
        "colab": {}
      },
      "source": [
        "#Review of list methods\n",
        "\n",
        "#Create a list\n",
        "\n",
        "values = []\n",
        "\n",
        "#Append an element\n",
        "\n",
        "values.append(1)\n",
        "print(values)\n",
        "\n",
        "#Access an element\n",
        "\n",
        "print(values[0])\n",
        "\n",
        "#Get number of elements\n",
        "\n",
        "len(values)\n",
        "print(len(values))\n",
        "\n",
        "#Count the number of elements\n",
        "\n",
        "print(values.count(1))\n",
        "\n",
        "#Slicing [start:end:step], default start = 0, end = len(list), step = 1\n",
        "\n",
        "#First k elements, k = 1\n",
        "print(values[:1])\n",
        "\n",
        "#List sort\n",
        "\n",
        "print(values.sort())\n",
        "\n",
        "#List reverse\n",
        "\n",
        "values.reverse()\n",
        "\n",
        "#Remove all elements\n",
        "\n",
        "values.clear()"
      ],
      "execution_count": 0,
      "outputs": []
    },
    {
      "cell_type": "markdown",
      "metadata": {
        "id": "ZfRgZHNdLIuf",
        "colab_type": "text"
      },
      "source": [
        "## List of exercises"
      ]
    },
    {
      "cell_type": "markdown",
      "metadata": {
        "id": "wV7mERYcMlJ3",
        "colab_type": "text"
      },
      "source": [
        "\n",
        "\n",
        "1. Write a a program that creates a list of $n$ numbers initializing each position with a value (the numeric value of such position). Display the list in the console.\n",
        "\n",
        "\n",
        "* Input: 5\n",
        "* Expected output:\n",
        "\n",
        "```\n",
        "[0,1,3,4,5]\n",
        "```"
      ]
    },
    {
      "cell_type": "code",
      "metadata": {
        "id": "tcS5he3ca2eh",
        "colab_type": "code",
        "colab": {}
      },
      "source": [
        "values = []\n",
        "n = 5\n",
        "for i in range(5):\n",
        "  values.append(i)\n",
        "print (values)\n",
        "\n",
        "#Python way\n",
        "values = [x for x in range(5)]\n",
        "print(values)\n",
        "\n"
      ],
      "execution_count": 0,
      "outputs": []
    },
    {
      "cell_type": "markdown",
      "metadata": {
        "id": "KSIuWolrRpc5",
        "colab_type": "text"
      },
      "source": [
        "2. Write a program that given a list of $n$ numbers, calculates and displays the length of the list.\n",
        "\n",
        "\n",
        "* Input: [3,4,5,6]\n",
        "* Expected output:\n",
        "\n",
        "```\n",
        "The length of the list is: 4\n",
        "```"
      ]
    },
    {
      "cell_type": "code",
      "metadata": {
        "id": "lBs8ZEBYRoq-",
        "colab_type": "code",
        "outputId": "62658c3f-a041-43d7-d4a8-59459b014db6",
        "colab": {
          "base_uri": "https://localhost:8080/",
          "height": 51
        }
      },
      "source": [
        "values = [3,4,5,6]\n",
        "length = 0\n",
        "for v in values:\n",
        "  length = length + 1\n",
        "print(\"The length of the list is: \", length)\n",
        "#Python way\n",
        "print(\"The length of the list is: \", len(values))"
      ],
      "execution_count": 0,
      "outputs": [
        {
          "output_type": "stream",
          "text": [
            "The length of the list is:  4\n",
            "The length of the list is:  4\n"
          ],
          "name": "stdout"
        }
      ]
    },
    {
      "cell_type": "markdown",
      "metadata": {
        "id": "g-ogwutGSb4n",
        "colab_type": "text"
      },
      "source": [
        "3. Write a program that given a list of $n$ numbers, calculates and displays the max value within the list and its position.\n",
        "\n",
        "\n",
        "* Input: [8, 1, 9, 2]\n",
        "* Expected output:\n",
        "\n",
        "```\n",
        "The max value is: 9 in position: 2.\n",
        "```"
      ]
    },
    {
      "cell_type": "code",
      "metadata": {
        "id": "ezRSK8_KSvGG",
        "colab_type": "code",
        "colab": {}
      },
      "source": [
        "values = [8,1,9,2]\n",
        "if values and len(values) > 0:\n",
        "  max_value = values[0]\n",
        "  position = 0\n",
        "  for i in range(1, len(values)):\n",
        "    if values [i] > max_value:\n",
        "      max_value = values [i]\n",
        "      position = i\n",
        "print(\"The max value is {} in position: {}\".format(max_value, position))\n",
        "\n",
        "#Python way to find the max value\n",
        "max_value = max(values)\n",
        "position = values.index(max_value)\n",
        "print(\"The max value is {} in position: {}\".format(max_value, position))"
      ],
      "execution_count": 0,
      "outputs": []
    },
    {
      "cell_type": "markdown",
      "metadata": {
        "id": "XYxZMPq4T8KQ",
        "colab_type": "text"
      },
      "source": [
        "4. Write a program that given a list of $n$ numbers, calculates and displays the min value within the list and its position.\n",
        "\n",
        "\n",
        "* Input: [8, 1, 9, 2]\n",
        "* Expected output:\n",
        "\n",
        "```\n",
        "The min value is: 1 in position: 1.\n",
        "```"
      ]
    },
    {
      "cell_type": "code",
      "metadata": {
        "id": "gf-q-MYaUsYr",
        "colab_type": "code",
        "colab": {}
      },
      "source": [
        "values = [8,1,9,2]\n",
        "if values and len(values) > 0:\n",
        "  min_value = values[0]\n",
        "  position = 0\n",
        "  for i in range(1, len(values)):\n",
        "    if values [i] < min_value:\n",
        "      min_value = values [i]\n",
        "      position = i\n",
        "print(\"The min value is {} in position: {}\".format(min_value, position))\n",
        "\n",
        "#Python way to find the max value\n",
        "min_value = min(values)\n",
        "position = values.index(min_value)\n",
        "print(\"The min value is {} in position: {}\".format(min_value, position))"
      ],
      "execution_count": 0,
      "outputs": []
    },
    {
      "cell_type": "markdown",
      "metadata": {
        "id": "YHX4fHYqUSYX",
        "colab_type": "text"
      },
      "source": [
        "5. Write a program that given a list of $n$ numbers, calculates and displays the sum of the its elements.\n",
        "\n",
        "\n",
        "* Input: [8, 1, 9, 2]\n",
        "* Expected output:\n",
        "\n",
        "```\n",
        "The sum is: 20\n",
        "```"
      ]
    },
    {
      "cell_type": "code",
      "metadata": {
        "id": "tCptV5LwUB9N",
        "colab_type": "code",
        "outputId": "90e27315-bc72-46ab-91ee-a9a9ca54ef81",
        "colab": {
          "base_uri": "https://localhost:8080/",
          "height": 51
        }
      },
      "source": [
        "values = [8,1,9,2]\n",
        "sum_values = 0\n",
        "for v in values:\n",
        "  sum_values = sum_values + v\n",
        "print(\"The sum is {}.\".format(sum_values))\n",
        "\n",
        "#Python way to find the max value\n",
        "print(\"The sum is {}.\".format(sum(values)))"
      ],
      "execution_count": 0,
      "outputs": [
        {
          "output_type": "stream",
          "text": [
            "The sum is 20.\n",
            "The sum is 20.\n"
          ],
          "name": "stdout"
        }
      ]
    },
    {
      "cell_type": "markdown",
      "metadata": {
        "id": "BW0ih-scU9_e",
        "colab_type": "text"
      },
      "source": [
        "6. Write a program that given a list of $n$ numbers and a target number $k$, counts the number of occurrences of $k$ in the list.\n",
        "\n",
        "\n",
        "* Input: [8, 1, 9, 1], $k=1$\n",
        "* Expected output:\n",
        "\n",
        "```\n",
        "The number 1 has 2 occurrences.\n",
        "```"
      ]
    },
    {
      "cell_type": "code",
      "metadata": {
        "id": "QyFqIXueVRNR",
        "colab_type": "code",
        "outputId": "5e3c33f6-385c-4f3c-f113-ea9a72556103",
        "colab": {
          "base_uri": "https://localhost:8080/",
          "height": 51
        }
      },
      "source": [
        "values = [8,1,9,1]\n",
        "k = 1\n",
        "occurrences = 0\n",
        "for v in values:\n",
        "  if k == v:\n",
        "    occurrences += 1\n",
        "print(\"The number {} has {} occurrences.\".format(k, occurrences))\n",
        "\n",
        "#Python way\n",
        "occurrences = values.count(k)\n",
        "print(\"The number {} has {} occurrences.\".format(k, occurrences))"
      ],
      "execution_count": 0,
      "outputs": [
        {
          "output_type": "stream",
          "text": [
            "The number 1 has 2 occurrences.\n",
            "The number 1 has 2 occurrences.\n"
          ],
          "name": "stdout"
        }
      ]
    },
    {
      "cell_type": "markdown",
      "metadata": {
        "id": "PdgUWA3AVrB2",
        "colab_type": "text"
      },
      "source": [
        "7. Write a program that given a list of $n$ numbers and a target number $k$, returns and displays the position of the first apparition of the number $k$.\n",
        "\n",
        "\n",
        "* Input: [8, 1, 9, 1], $k=1$\n",
        "* Expected output:\n",
        "\n",
        "```\n",
        "The number 1 occurs first in position 1.\n",
        "```"
      ]
    },
    {
      "cell_type": "code",
      "metadata": {
        "id": "MxzffO3RYE1A",
        "colab_type": "code",
        "colab": {}
      },
      "source": [
        "values = [8,1,9,1]\n",
        "k = 1\n",
        "first_occur = -1\n",
        "i = 0\n",
        "size = len(values)\n",
        "while i<size and first_occur == -1:\n",
        "  if values[i] == k:\n",
        "    first_occur = i\n",
        "  i += 1\n",
        "    \n",
        "if first_occur != -1:\n",
        "  print(\"The number {} occurs first in position {}.\".format(k, first_occur))\n",
        "\n",
        "#Python way\n",
        "print(\"The number {} occurs first in position {}.\".format(k, values.index(k)))"
      ],
      "execution_count": 0,
      "outputs": []
    },
    {
      "cell_type": "markdown",
      "metadata": {
        "id": "pC8zQkz0YzYE",
        "colab_type": "text"
      },
      "source": [
        "8. Write a program that given a list of $n$ numbers and a target number $k$, returns and displays the position of the last apparition.\n",
        "\n",
        "\n",
        "* Input: [8, 1, 9, 1], $k=1$\n",
        "* Expected output:\n",
        "\n",
        "```\n",
        "The number 1 occurs last in position 3.\n",
        "```"
      ]
    },
    {
      "cell_type": "code",
      "metadata": {
        "id": "uYcnCx87bO-K",
        "colab_type": "code",
        "outputId": "a6bd3d64-084f-44e5-834c-7c29ff4f6346",
        "colab": {
          "base_uri": "https://localhost:8080/",
          "height": 51
        }
      },
      "source": [
        "values = [8,1,9,1]\n",
        "k = 1\n",
        "last_occur = -1\n",
        "i = len(values)-1\n",
        "while i>=0 and last_occur == -1:\n",
        "  if values[i] == k:\n",
        "    last_occur = i\n",
        "  i -= 1\n",
        "    \n",
        "if last_occur != -1:\n",
        "  print(\"The number {} occurs last in position {}.\".format(k, last_occur))"
      ],
      "execution_count": 0,
      "outputs": [
        {
          "output_type": "stream",
          "text": [
            "The number 1 occurs last in position 3.\n",
            "The number 1 occurs first in position 1.\n"
          ],
          "name": "stdout"
        }
      ]
    },
    {
      "cell_type": "markdown",
      "metadata": {
        "id": "DO1-eIlYbxEZ",
        "colab_type": "text"
      },
      "source": [
        "9. Write a program that given a list of $n$ numbers and a target number $k$, returns and displays a list of all positions in which the value $k$ occurs.\n",
        "\n",
        "\n",
        "* Input: [8, 1, 9, 1], $k=1$\n",
        "* Expected output:\n",
        "\n",
        "```\n",
        "The number 1 occurs in [1, 3].\n",
        "```"
      ]
    },
    {
      "cell_type": "code",
      "metadata": {
        "id": "jzyKj9sgb6UV",
        "colab_type": "code",
        "outputId": "0ba37cdc-8b1d-4fe1-c8cb-933436f77082",
        "colab": {
          "base_uri": "https://localhost:8080/",
          "height": 34
        }
      },
      "source": [
        "values = [8,1,9,1]\n",
        "positions = []\n",
        "k = 1\n",
        "size = len(values)\n",
        "for i in range(size):\n",
        "  if values[i] == k:\n",
        "    positions.append(i)\n",
        "print(\"The number {} occurs in {}.\".format(k,positions))"
      ],
      "execution_count": 0,
      "outputs": [
        {
          "output_type": "stream",
          "text": [
            "The number 1 occurs in [1, 3].\n"
          ],
          "name": "stdout"
        }
      ]
    },
    {
      "cell_type": "markdown",
      "metadata": {
        "id": "Qz8dThJBejkd",
        "colab_type": "text"
      },
      "source": [
        "10. Write a program that given a list of $n$ numbers, creates a new list in reverse order.\n",
        "\n",
        "\n",
        "* Input: [7, 5, 9, 2]\n",
        "* Expected output:\n",
        "\n",
        "```\n",
        "The reverse list is [2, 9, 5, 7].\n",
        "```"
      ]
    },
    {
      "cell_type": "code",
      "metadata": {
        "id": "6-u3NluiexSK",
        "colab_type": "code",
        "colab": {}
      },
      "source": [
        "values =  [7, 5, 9, 2]\n",
        "reverse_values = []\n",
        "for i in range(len(values)-1, -1, -1):\n",
        "  reverse_values.append(values[i])\n",
        "\n",
        "print(\"The reverse list is {}.\".format(reverse_values))\n",
        "\n",
        "#Python way\n",
        "reverse_values = values [::-1]\n",
        "print(\"The reverse list is {}.\".format(reverse_values))\n",
        "\n",
        "#print(\"The reverse list is {}.\".format(values.reverse()))"
      ],
      "execution_count": 0,
      "outputs": []
    },
    {
      "cell_type": "markdown",
      "metadata": {
        "id": "i3eXLr4rcXbX",
        "colab_type": "text"
      },
      "source": [
        "11. **Benchmarking**: compare your previous code against the Python versions. See the next example."
      ]
    },
    {
      "cell_type": "code",
      "metadata": {
        "id": "ug2ktZLfcmFP",
        "colab_type": "code",
        "colab": {}
      },
      "source": [
        "#Module to use timers\n",
        "import time\n",
        "\n",
        "values = [8,1,9,2]\n",
        "\n",
        "#Start the timer\n",
        "t = time.time()\n",
        "\n",
        "min_value = values[0]\n",
        "position = 0\n",
        "for i in range(1, len(values)):\n",
        "  if values [i] < min_value:\n",
        "    min_value = values [i]\n",
        "    position = i\n",
        "\n",
        "print(\"\\n\\tMy min version-->time Taken: %.5f sec\" % (time.time()-t))\n",
        "\n",
        "#Python way to find the max value\n",
        "\n",
        "#Start the timer\n",
        "t = time.time()\n",
        "\n",
        "min_value = min(values)\n",
        "position = values.index(min_value)\n",
        "\n",
        "print(\"\\n\\tPython version-->time Taken: %.5f sec\" % (time.time()-t))"
      ],
      "execution_count": 0,
      "outputs": []
    },
    {
      "cell_type": "markdown",
      "metadata": {
        "id": "1DHP7oVGdH5b",
        "colab_type": "text"
      },
      "source": [
        "12. Write a program that given a list of $n$ numbers, $v$ and an scalar number $k$, returns and displays the scalar product of $k\t\\cdot v$.\n",
        "\n",
        "\n",
        "* Input: [7, 5, 9, 2], k = 3\n",
        "* Expected output:\n",
        "\n",
        "```\n",
        "The scalar product of 3 and [7, 5, 9, 2] is [21, 15, 27, 6].\n",
        "```\n",
        "\n"
      ]
    },
    {
      "cell_type": "code",
      "metadata": {
        "id": "UE-Ov5jvfc6F",
        "colab_type": "code",
        "outputId": "29bf29a6-b662-41a5-e7b4-5dc863efdc46",
        "colab": {
          "base_uri": "https://localhost:8080/",
          "height": 51
        }
      },
      "source": [
        "vector = [7, 5, 9, 2]\n",
        "k = 3\n",
        "result = []\n",
        "for v in vector:\n",
        "  result.append(k * v)\n",
        "print(\"The scalar product of {} and {} is {}.\".format(k,vector, result))\n",
        "\n",
        "#Python way\n",
        "result = [k * v for v in vector]\n",
        "print(\"The scalar product of {} and {} is {}.\".format(k,vector, result))"
      ],
      "execution_count": 0,
      "outputs": [
        {
          "output_type": "stream",
          "text": [
            "The scalar product of 3 and [7, 5, 9, 2] is [21, 15, 27, 6].\n",
            "The scalar product of 3 and [7, 5, 9, 2] is [21, 15, 27, 6].\n"
          ],
          "name": "stdout"
        }
      ]
    },
    {
      "cell_type": "markdown",
      "metadata": {
        "id": "-pedghgBJ06_",
        "colab_type": "text"
      },
      "source": [
        "14. Write a program that given two lists of $n$ numbers, returns and displays the vector product of $l1\t\\cdot l2$.\n",
        "\n",
        "\n",
        "* Input: [7, 5, 9, 2], [4, 5, 6, 7] \n",
        "* Expected output:\n",
        "\n",
        "```\n",
        "The vector product of [7, 5, 9, 2] and [4, 5, 6, 7]  is [28, 25, 54, 14].\n",
        "```"
      ]
    },
    {
      "cell_type": "code",
      "metadata": {
        "id": "MoOo5S9RKOzR",
        "colab_type": "code",
        "colab": {
          "base_uri": "https://localhost:8080/",
          "height": 34
        },
        "outputId": "0dc57817-cd73-49e7-9b74-c1284bfba6c9"
      },
      "source": [
        "l1 = [7, 5, 9, 2]\n",
        "l2 = [4, 5, 6, 7]\n",
        "result = []\n",
        "if len(l1)==len(l2):\n",
        "  for i in range(len(l1)):\n",
        "    result.append(l1[i]*l2[i])\n",
        "print(\"The vector product of {} and {} is {}.\".format(l1,l2,result))"
      ],
      "execution_count": 7,
      "outputs": [
        {
          "output_type": "stream",
          "text": [
            "The vector product of [7, 5, 9, 2] and [4, 5, 6, 7] is [28, 25, 54, 14].\n"
          ],
          "name": "stdout"
        }
      ]
    },
    {
      "cell_type": "markdown",
      "metadata": {
        "id": "BRK_644_LIy_",
        "colab_type": "text"
      },
      "source": [
        "15. Write a program that given two lists of $n$ numbers, returns all combination of pairs (cartesian product).\n",
        "\n",
        "\n",
        "* Input: [7, 5, 9, 2], [4, 5, 6, 7] \n",
        "* Expected output:\n",
        "\n",
        "```\n",
        "The cartesian product is: [[7, 4], [7, 5], [7, 6], [7, 7], [5, 4], [5, 5], [5, 6], [5, 7], [9, 4], [9, 5], [9, 6], [9, 7], [2, 4], [2, 5], [2, 6], [2, 7]].\n",
        "\n",
        "```"
      ]
    },
    {
      "cell_type": "code",
      "metadata": {
        "id": "VFKyxyt2LYFJ",
        "colab_type": "code",
        "colab": {
          "base_uri": "https://localhost:8080/",
          "height": 71
        },
        "outputId": "c0d1f322-400f-4f91-b20c-6c05327c2413"
      },
      "source": [
        "l1 = [7, 5, 9, 2]\n",
        "l2 = [4, 5, 6, 7]\n",
        "result = []\n",
        "for v in l1:\n",
        "  for w in l2:\n",
        "    result.append([v,w])\n",
        "\n",
        "print(\"The cartesian product is: {}.\".format(result))\n",
        "\n",
        "#Python way returning tuples\n",
        "result = [(x, y) for x in l1 for y in l2]\n",
        "print(result)"
      ],
      "execution_count": 11,
      "outputs": [
        {
          "output_type": "stream",
          "text": [
            "The cartesian product is: [[7, 4], [7, 5], [7, 6], [7, 7], [5, 4], [5, 5], [5, 6], [5, 7], [9, 4], [9, 5], [9, 6], [9, 7], [2, 4], [2, 5], [2, 6], [2, 7]].\n",
            "[(7, 4), (7, 5), (7, 6), (7, 7), (5, 4), (5, 5), (5, 6), (5, 7), (9, 4), (9, 5), (9, 6), (9, 7), (2, 4), (2, 5), (2, 6), (2, 7)]\n"
          ],
          "name": "stdout"
        }
      ]
    },
    {
      "cell_type": "markdown",
      "metadata": {
        "id": "E0W2_8PTL69G",
        "colab_type": "text"
      },
      "source": [
        "16. Write a program that given a list of $n$ numbers, returns and displays the average of the list numbers.\n",
        "\n",
        "\n",
        "* Input: [4, 5, 6, 7] \n",
        "* Expected output:\n",
        "\n",
        "```\n",
        "The average of [4, 5, 6, 7] is 5.5.\n",
        "\n",
        "```"
      ]
    },
    {
      "cell_type": "code",
      "metadata": {
        "id": "MwfYAi8SMZXD",
        "colab_type": "code",
        "colab": {
          "base_uri": "https://localhost:8080/",
          "height": 51
        },
        "outputId": "d04a87ac-1f5a-4f11-bec9-4d41940c0a37"
      },
      "source": [
        "l1 = [4, 5, 6, 7]\n",
        "sum_l1 = 0\n",
        "for v in l1:\n",
        "  sum_l1 +=v\n",
        "if len(l1) >0:\n",
        "  avg = sum_l1/len(l1)\n",
        "  print(\"The average of {} is {}.\".format(l1, avg))\n",
        "\n",
        "#Python way\n",
        "if len(l1) > 0:\n",
        "  avg = sum(l1)/len(l1)\n",
        "  print(\"The average of {} is {}.\".format(l1, avg))"
      ],
      "execution_count": 16,
      "outputs": [
        {
          "output_type": "stream",
          "text": [
            "The average of [4, 5, 6, 7] is 5.5.\n",
            "The average of [4, 5, 6, 7] is 5.5.\n"
          ],
          "name": "stdout"
        }
      ]
    },
    {
      "cell_type": "markdown",
      "metadata": {
        "id": "zoEZYOrHM7BW",
        "colab_type": "text"
      },
      "source": [
        "17. Write a program that given a list of $n$ numbers and a number $k$, returns the first $k$ numbers.\n",
        "\n",
        "\n",
        "* Input: [4, 5, 6, 7], k = 2\n",
        "* Expected output:\n",
        "\n",
        "```\n",
        "[4,5]\n",
        "\n",
        "```"
      ]
    },
    {
      "cell_type": "code",
      "metadata": {
        "id": "b0he043sNQMa",
        "colab_type": "code",
        "colab": {
          "base_uri": "https://localhost:8080/",
          "height": 51
        },
        "outputId": "94423122-1cd3-47fa-8f13-d07821c414f1"
      },
      "source": [
        "l1 = [4, 5, 6, 7]\n",
        "k = 2\n",
        "result = []\n",
        "if k <= len(l1):\n",
        "  for i in range(k):\n",
        "    result.append(l1[i])\n",
        "print(result)\n",
        "\n",
        "#Python way\n",
        "\n",
        "result = l1[:k:]\n",
        "print(result)"
      ],
      "execution_count": 18,
      "outputs": [
        {
          "output_type": "stream",
          "text": [
            "[4, 5]\n",
            "[4, 5]\n"
          ],
          "name": "stdout"
        }
      ]
    },
    {
      "cell_type": "markdown",
      "metadata": {
        "id": "8Ei6cSqUNk2T",
        "colab_type": "text"
      },
      "source": [
        "18. Write a program that given a list of $n$ numbers and a number $k$, returns the last $k$ numbers.\n",
        "\n",
        "\n",
        "* Input: [4, 5, 6, 7], k = 2\n",
        "* Expected output:\n",
        "\n",
        "```\n",
        "[7,6]\n",
        "\n",
        "```"
      ]
    },
    {
      "cell_type": "code",
      "metadata": {
        "id": "qYhOPb6GNqcO",
        "colab_type": "code",
        "colab": {
          "base_uri": "https://localhost:8080/",
          "height": 51
        },
        "outputId": "f4f69094-8da1-4b82-aae6-151d06524a64"
      },
      "source": [
        "l1 = [4, 5, 6, 7]\n",
        "k = 2\n",
        "result = []\n",
        "if k <= len(l1):\n",
        "  for i in range(len(l1)-1, k-1, -1):\n",
        "    result.append(l1[i])\n",
        "print(result)\n",
        "\n",
        "#Python way\n",
        "\n",
        "result = l1[len(l1)-1 : k-1 : -1]\n",
        "print(result)"
      ],
      "execution_count": 23,
      "outputs": [
        {
          "output_type": "stream",
          "text": [
            "[7, 6]\n",
            "[7, 6]\n"
          ],
          "name": "stdout"
        }
      ]
    },
    {
      "cell_type": "markdown",
      "metadata": {
        "id": "IgbPFxnuOWRy",
        "colab_type": "text"
      },
      "source": [
        "19. Write a program that given a list of $n$ numbers, returns a new list containing in the same position the factorial of that value (if the value is < 0, the return value will be -1) .\n",
        "\n",
        "\n",
        "* Input: [5, 0, 1, -1]\n",
        "* Expected output:\n",
        "\n",
        "```\n",
        "[120, 1, 1, -1]\n",
        "\n",
        "```"
      ]
    },
    {
      "cell_type": "code",
      "metadata": {
        "id": "80q1XvGFOj-U",
        "colab_type": "code",
        "colab": {
          "base_uri": "https://localhost:8080/",
          "height": 34
        },
        "outputId": "bebfe94b-ce9e-4c81-f68b-344d02e40b72"
      },
      "source": [
        "v = [5, 0, 1, -1]\n",
        "factorials = []\n",
        "for value in v:\n",
        "  if value == 0 or value == 1:\n",
        "    fact_value = 1\n",
        "  elif value >1:\n",
        "    fact_value = 1\n",
        "    for i in range(1, value+1):\n",
        "      fact_value = fact_value * i\n",
        "  else:\n",
        "    fact_value = -1\n",
        "  factorials.append(fact_value)\n",
        "\n",
        "print(factorials)\n",
        "    "
      ],
      "execution_count": 25,
      "outputs": [
        {
          "output_type": "stream",
          "text": [
            "[120, 1, 1, -1]\n"
          ],
          "name": "stdout"
        }
      ]
    },
    {
      "cell_type": "markdown",
      "metadata": {
        "id": "YJra1YM-PTt7",
        "colab_type": "text"
      },
      "source": [
        "20. Write a program that given a list of $n$ numbers, returns a new list without the repeated numbers.\n",
        "\n",
        "\n",
        "* Input: [4, 5, 5, 6, 6, 8]\n",
        "* Expected output:\n",
        "\n",
        "```\n",
        "[4, 5, 6, 8]\n",
        "\n",
        "```"
      ]
    },
    {
      "cell_type": "code",
      "metadata": {
        "id": "GdrWmSeuPkqH",
        "colab_type": "code",
        "colab": {
          "base_uri": "https://localhost:8080/",
          "height": 51
        },
        "outputId": "477c8476-d9a6-418e-ef17-a28e485dda11"
      },
      "source": [
        "values = [4, 5, 5, 6, 6, 8]\n",
        "clean_values = []\n",
        "for v in values:\n",
        "  found = False\n",
        "  pos = 0\n",
        "  while not found and pos < len(clean_values):\n",
        "    found = clean_values[pos] == v\n",
        "    pos = pos + 1\n",
        "  if not found:\n",
        "    clean_values.append(v)\n",
        "\n",
        "print(clean_values)\n",
        "\n",
        "#Python way\n",
        "\n",
        "clean_values = []\n",
        "for v in values:\n",
        "  if clean_values.count(v) == 0:\n",
        "    clean_values.append(v)\n",
        "print(clean_values)"
      ],
      "execution_count": 29,
      "outputs": [
        {
          "output_type": "stream",
          "text": [
            "[4, 5, 6, 8]\n",
            "[4, 5, 6, 8]\n"
          ],
          "name": "stdout"
        }
      ]
    },
    {
      "cell_type": "markdown",
      "metadata": {
        "id": "8E_G7JagRagL",
        "colab_type": "text"
      },
      "source": [
        "21. Write a program that given two lists of $n$ numbers, returns the union of both lists.\n",
        "\n",
        "\n",
        "* Input: [4,5,6] [5,7,8,9]\n",
        "* Expected output:\n",
        "\n",
        "```\n",
        "[4, 5, 6, 7, 8, 9]\n",
        "\n",
        "```"
      ]
    },
    {
      "cell_type": "code",
      "metadata": {
        "id": "DRqWhmFoRpbp",
        "colab_type": "code",
        "colab": {
          "base_uri": "https://localhost:8080/",
          "height": 69
        },
        "outputId": "e2c62f93-2bff-4d67-c4c8-e29d3d93ee2a"
      },
      "source": [
        "v1 = [4,5,6] \n",
        "v2 = [5,7,8,9]\n",
        "union = []\n",
        "for v in v1:\n",
        "  union.append(v)\n",
        "for v in v2:\n",
        "  found = False\n",
        "  pos = 0\n",
        "  while not found and pos < len(union):\n",
        "    found = union[pos] == v\n",
        "    pos = pos + 1\n",
        "  if not found:\n",
        "    union.append(v)\n",
        "print(union)\n",
        "\n",
        "#Python way\n",
        "union = []\n",
        "union.extend(v1)\n",
        "for v in v2:\n",
        "  if union.count(v) == 0:\n",
        "    union.append(v)\n",
        "print(union)"
      ],
      "execution_count": 34,
      "outputs": [
        {
          "output_type": "stream",
          "text": [
            "[4, 5, 6, 7, 8, 9]\n",
            "[4, 5, 6, 7, 8, 9]\n",
            "[4, 5, 6, 5, 7, 8, 9]\n"
          ],
          "name": "stdout"
        }
      ]
    },
    {
      "cell_type": "markdown",
      "metadata": {
        "id": "Tmx6Vs1pSd-a",
        "colab_type": "text"
      },
      "source": [
        "22. Write a program that given two lists of $n$ numbers, returns the intersection of both lists.\n",
        "\n",
        "\n",
        "* Input: [4,5,6] [5,7,8,9]\n",
        "* Expected output:\n",
        "\n",
        "```\n",
        "[5]\n",
        "\n",
        "```"
      ]
    },
    {
      "cell_type": "code",
      "metadata": {
        "id": "F7LHEbNESjs_",
        "colab_type": "code",
        "colab": {
          "base_uri": "https://localhost:8080/",
          "height": 34
        },
        "outputId": "0af319b6-c436-4b7b-a54d-4dedc789b5ab"
      },
      "source": [
        "v1 = [4,5,6] \n",
        "v2 = [5,7,8,9]\n",
        "intersection = []\n",
        "for v in v1:\n",
        "  if v2.count(v) != 0:\n",
        "    intersection.append(v)\n",
        "\n",
        "print(intersection)\n"
      ],
      "execution_count": 38,
      "outputs": [
        {
          "output_type": "stream",
          "text": [
            "[5]\n"
          ],
          "name": "stdout"
        }
      ]
    },
    {
      "cell_type": "markdown",
      "metadata": {
        "id": "mA7_kZruT5zJ",
        "colab_type": "text"
      },
      "source": [
        "23. Write a program that asks the user for $n$ numbers and returns a sorted list.\n",
        "\n",
        "* Use the funciton `insert(pos, value)`\n",
        "\n",
        "* Input:  6, 4, 8\n",
        "* Expected output:\n",
        "\n",
        "```\n",
        "[4, 6, 8]\n",
        "\n",
        "```"
      ]
    },
    {
      "cell_type": "code",
      "metadata": {
        "id": "Pl8EwdvAUCys",
        "colab_type": "code",
        "colab": {
          "base_uri": "https://localhost:8080/",
          "height": 86
        },
        "outputId": "97d76fe9-be61-4633-bef8-2afb4d7a2cd0"
      },
      "source": [
        "n = 3\n",
        "values = []\n",
        "for i in range(n):\n",
        "  number = input(\"Introduce a number: \")\n",
        "  #Find position\n",
        "  pos = 0\n",
        "  while pos < len(values) and values[pos] < number:\n",
        "    pos = pos + 1\n",
        "  values.insert(pos, number)\n",
        "print(values)"
      ],
      "execution_count": 41,
      "outputs": [
        {
          "output_type": "stream",
          "text": [
            "Introduce a number: 4\n",
            "Introduce a number: 6\n",
            "Introduce a number: 8\n",
            "['4', '6', '8']\n"
          ],
          "name": "stdout"
        }
      ]
    },
    {
      "cell_type": "markdown",
      "metadata": {
        "id": "QES6CMPWVm3U",
        "colab_type": "text"
      },
      "source": [
        "24. Write a program that asks the user for $n$ numbers and returns a sorted list in descending order.\n",
        "\n",
        "* Use the function `insert(pos, value)`\n",
        "\n",
        "* Input:  6, 4, 8\n",
        "* Expected output:\n",
        "\n",
        "```\n",
        "[8, 6, 4]\n",
        "\n",
        "```"
      ]
    },
    {
      "cell_type": "code",
      "metadata": {
        "id": "S6xGMaFpVuLR",
        "colab_type": "code",
        "colab": {
          "base_uri": "https://localhost:8080/",
          "height": 86
        },
        "outputId": "56215041-ab32-48e9-919f-2309212585e4"
      },
      "source": [
        "n = 3\n",
        "values = []\n",
        "for i in range(n):\n",
        "  number = input(\"Introduce a number: \")\n",
        "  #Find position\n",
        "  pos = 0\n",
        "  while pos < len(values) and values[pos] > number:\n",
        "    pos = pos + 1\n",
        "  values.insert(pos, number)\n",
        "print(values)"
      ],
      "execution_count": 42,
      "outputs": [
        {
          "output_type": "stream",
          "text": [
            "Introduce a number: 6\n",
            "Introduce a number: 4\n",
            "Introduce a number: 8\n",
            "['8', '6', '4']\n"
          ],
          "name": "stdout"
        }
      ]
    },
    {
      "cell_type": "markdown",
      "metadata": {
        "id": "wY_mI7EBW-ND",
        "colab_type": "text"
      },
      "source": [
        "25. Write a program that given a list of $n$ numbers and a parameter $k$, creates chunks of $k$ elements.\n",
        "\n",
        "\n",
        "* Input:  [1,2,3,4,5,6,7,8,9], k = 3\n",
        "* Expected output:\n",
        "\n",
        "```\n",
        "[ [1,2,3], [4,5,6], [7,8,9] ]\n",
        "\n",
        "```"
      ]
    },
    {
      "cell_type": "code",
      "metadata": {
        "id": "acI7YCHqXPRg",
        "colab_type": "code",
        "colab": {}
      },
      "source": [
        "values = [1,2,3,4,5,6,7,8,9]\n",
        "k = 3\n",
        "chunks = []\n",
        "i = 0\n",
        "size = len(values)\n",
        "while i < size:\n",
        "  chunk = []\n",
        "  for j in range(i, k+i):\n",
        "    chunk.append(values[j])\n",
        "  chunks.append(chunk)\n",
        "  i = i + k\n",
        "print(chunks)\n",
        "\n",
        "#Python way\n",
        "chunks = []\n",
        "size = len(values)\n",
        "for i in range(0, size, k):\n",
        "  chunks.append(values[i:k+i])\n",
        "\n",
        "print(chunks)\n",
        "\n",
        "chunks.clear()\n",
        "size = len(values)\n",
        "chunks = [values[i:k+i] for i in range(0, size, k)]\n",
        "print(chunks)"
      ],
      "execution_count": 0,
      "outputs": []
    },
    {
      "cell_type": "markdown",
      "metadata": {
        "id": "AMyYq2tnagWY",
        "colab_type": "text"
      },
      "source": [
        "26. Write a program that given a number $n$ and an initial value $k$, creates a list of size $n$ with all positions having the initial value.\n",
        "\n",
        "* Input:  n = 10, k = -1\n",
        "* Expected output:\n",
        "\n",
        "```\n",
        "[-1, -1, -1, -1, -1]\n",
        "\n",
        "```"
      ]
    },
    {
      "cell_type": "code",
      "metadata": {
        "id": "-ChUuMcaa3iJ",
        "colab_type": "code",
        "colab": {}
      },
      "source": [
        "n = 5\n",
        "k = -1\n",
        "\n",
        "list_values = []\n",
        "for i in range(n):\n",
        "  list_values.append(k)\n",
        "\n",
        "print(list_values)\n",
        "\n",
        "#Python way\n",
        "list_values = [k for i in range(n)]\n",
        "print(list_values)"
      ],
      "execution_count": 0,
      "outputs": []
    }
  ]
}