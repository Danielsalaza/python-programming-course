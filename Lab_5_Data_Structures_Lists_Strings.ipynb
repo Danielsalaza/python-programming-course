{
  "nbformat": 4,
  "nbformat_minor": 0,
  "metadata": {
    "colab": {
      "name": "Lab_5_Data_Structures_Lists_Strings.ipynb",
      "provenance": [],
      "collapsed_sections": [],
      "authorship_tag": "ABX9TyPrFLV1RgkhBxWsXFD6Rqcu",
      "include_colab_link": true
    },
    "kernelspec": {
      "name": "python3",
      "display_name": "Python 3"
    }
  },
  "cells": [
    {
      "cell_type": "markdown",
      "metadata": {
        "id": "view-in-github",
        "colab_type": "text"
      },
      "source": [
        "<a href=\"https://colab.research.google.com/github/chemaar/python-programming-course/blob/master/Lab_5_Data_Structures_Lists_Strings.ipynb\" target=\"_parent\"><img src=\"https://colab.research.google.com/assets/colab-badge.svg\" alt=\"Open In Colab\"/></a>"
      ]
    },
    {
      "cell_type": "markdown",
      "metadata": {
        "id": "l88YgeqXK38T",
        "colab_type": "text"
      },
      "source": [
        "# Lab 5: Data structures: Lists and strings\n",
        "\n",
        "In this notebook, we propose and solve some exercises about basic data structures implemented through Python lists and strings.\n",
        "\n",
        "* **In these exercise we can always proceed solving the problems in a generic way or taking advantage of Python capabilities. As a recommendation, first, try the generic way (applicable to any programming language) and, then, using Python**\n",
        "\n",
        "* **As a good programming practice, our test cases should ensure that all branches of the code are executed at least once.**"
      ]
    },
    {
      "cell_type": "markdown",
      "metadata": {
        "id": "ZfRgZHNdLIuf",
        "colab_type": "text"
      },
      "source": [
        "## List of exercises"
      ]
    },
    {
      "cell_type": "markdown",
      "metadata": {
        "id": "wV7mERYcMlJ3",
        "colab_type": "text"
      },
      "source": [
        "\n",
        "\n",
        "1. Write a a program that creates a list of $n$ numbers initializing each position with a value (the numeric value of such position). Display the list in the console.\n",
        "\n",
        "\n",
        "* Input: 5\n",
        "* Expected output:\n",
        "\n",
        "```\n",
        "[0,1,3,4,5]\n",
        "```"
      ]
    },
    {
      "cell_type": "code",
      "metadata": {
        "id": "tcS5he3ca2eh",
        "colab_type": "code",
        "colab": {}
      },
      "source": [
        "values = []\n",
        "n = 5\n",
        "for i in range(5):\n",
        "  values.append(i)\n",
        "print (values)\n",
        "\n",
        "#Python way\n",
        "values = [x for x in range(5)]\n",
        "print(values)\n",
        "\n"
      ],
      "execution_count": 0,
      "outputs": []
    },
    {
      "cell_type": "markdown",
      "metadata": {
        "id": "KSIuWolrRpc5",
        "colab_type": "text"
      },
      "source": [
        "2. Write a program that given a list of $n$ numbers, calculates and displays the length of the list.\n",
        "\n",
        "\n",
        "* Input: [3,4,5,6]\n",
        "* Expected output:\n",
        "\n",
        "```\n",
        "The length of the list is: 4\n",
        "```"
      ]
    },
    {
      "cell_type": "code",
      "metadata": {
        "id": "lBs8ZEBYRoq-",
        "colab_type": "code",
        "colab": {
          "base_uri": "https://localhost:8080/",
          "height": 51
        },
        "outputId": "62658c3f-a041-43d7-d4a8-59459b014db6"
      },
      "source": [
        "values = [3,4,5,6]\n",
        "length = 0\n",
        "for v in values:\n",
        "  length = length + 1\n",
        "print(\"The length of the list is: \", length)\n",
        "#Python way\n",
        "print(\"The length of the list is: \", len(values))"
      ],
      "execution_count": 11,
      "outputs": [
        {
          "output_type": "stream",
          "text": [
            "The length of the list is:  4\n",
            "The length of the list is:  4\n"
          ],
          "name": "stdout"
        }
      ]
    },
    {
      "cell_type": "markdown",
      "metadata": {
        "id": "g-ogwutGSb4n",
        "colab_type": "text"
      },
      "source": [
        "3. Write a program that given a list of $n$ numbers, calculates and displays the max value within the list and its position.\n",
        "\n",
        "\n",
        "* Input: [8, 1, 9, 2]\n",
        "* Expected output:\n",
        "\n",
        "```\n",
        "The max value is: 9 in position: 2.\n",
        "```"
      ]
    },
    {
      "cell_type": "code",
      "metadata": {
        "id": "ezRSK8_KSvGG",
        "colab_type": "code",
        "colab": {}
      },
      "source": [
        "values = [8,1,9,2]\n",
        "if values and len(values) > 0:\n",
        "  max_value = values[0]\n",
        "  position = 0\n",
        "  for i in range(1, len(values)):\n",
        "    if values [i] > max_value:\n",
        "      max_value = values [i]\n",
        "      position = i\n",
        "print(\"The max value is {} in position: {}\".format(max_value, position))\n",
        "\n",
        "#Python way to find the max value\n",
        "max_value = max(values)\n",
        "position = values.index(max_value)\n",
        "print(\"The max value is {} in position: {}\".format(max_value, position))"
      ],
      "execution_count": 0,
      "outputs": []
    },
    {
      "cell_type": "markdown",
      "metadata": {
        "id": "XYxZMPq4T8KQ",
        "colab_type": "text"
      },
      "source": [
        "4. Write a program that given a list of $n$ numbers, calculates and displays the min value within the list and its position.\n",
        "\n",
        "\n",
        "* Input: [8, 1, 9, 2]\n",
        "* Expected output:\n",
        "\n",
        "```\n",
        "The min value is: 1 in position: 1.\n",
        "```"
      ]
    },
    {
      "cell_type": "code",
      "metadata": {
        "id": "gf-q-MYaUsYr",
        "colab_type": "code",
        "colab": {}
      },
      "source": [
        "values = [8,1,9,2]\n",
        "if values and len(values) > 0:\n",
        "  min_value = values[0]\n",
        "  position = 0\n",
        "  for i in range(1, len(values)):\n",
        "    if values [i] < min_value:\n",
        "      min_value = values [i]\n",
        "      position = i\n",
        "print(\"The min value is {} in position: {}\".format(min_value, position))\n",
        "\n",
        "#Python way to find the max value\n",
        "min_value = min(values)\n",
        "position = values.index(min_value)\n",
        "print(\"The min value is {} in position: {}\".format(min_value, position))"
      ],
      "execution_count": 0,
      "outputs": []
    },
    {
      "cell_type": "markdown",
      "metadata": {
        "id": "YHX4fHYqUSYX",
        "colab_type": "text"
      },
      "source": [
        "5. Write a program that given a list of $n$ numbers, calculates and displays the sum of the its elements.\n",
        "\n",
        "\n",
        "* Input: [8, 1, 9, 2]\n",
        "* Expected output:\n",
        "\n",
        "```\n",
        "The sum is: 20\n",
        "```"
      ]
    },
    {
      "cell_type": "code",
      "metadata": {
        "id": "tCptV5LwUB9N",
        "colab_type": "code",
        "colab": {
          "base_uri": "https://localhost:8080/",
          "height": 51
        },
        "outputId": "90e27315-bc72-46ab-91ee-a9a9ca54ef81"
      },
      "source": [
        "values = [8,1,9,2]\n",
        "sum_values = 0\n",
        "for v in values:\n",
        "  sum_values = sum_values + v\n",
        "print(\"The sum is {}.\".format(sum_values))\n",
        "\n",
        "#Python way to find the max value\n",
        "print(\"The sum is {}.\".format(sum(values)))"
      ],
      "execution_count": 17,
      "outputs": [
        {
          "output_type": "stream",
          "text": [
            "The sum is 20.\n",
            "The sum is 20.\n"
          ],
          "name": "stdout"
        }
      ]
    },
    {
      "cell_type": "markdown",
      "metadata": {
        "id": "BW0ih-scU9_e",
        "colab_type": "text"
      },
      "source": [
        "6. Write a program that given a list of $n$ numbers and a target number $k$, counts the number of occurrences of $k$ in the list.\n",
        "\n",
        "\n",
        "* Input: [8, 1, 9, 1], $k=1$\n",
        "* Expected output:\n",
        "\n",
        "```\n",
        "The number 1 has 2 occurrences.\n",
        "```"
      ]
    },
    {
      "cell_type": "code",
      "metadata": {
        "id": "QyFqIXueVRNR",
        "colab_type": "code",
        "colab": {
          "base_uri": "https://localhost:8080/",
          "height": 51
        },
        "outputId": "5e3c33f6-385c-4f3c-f113-ea9a72556103"
      },
      "source": [
        "values = [8,1,9,1]\n",
        "k = 1\n",
        "occurrences = 0\n",
        "for v in values:\n",
        "  if k == v:\n",
        "    occurrences += 1\n",
        "print(\"The number {} has {} occurrences.\".format(k, occurrences))\n",
        "\n",
        "#Python way\n",
        "occurrences = values.count(k)\n",
        "print(\"The number {} has {} occurrences.\".format(k, occurrences))"
      ],
      "execution_count": 20,
      "outputs": [
        {
          "output_type": "stream",
          "text": [
            "The number 1 has 2 occurrences.\n",
            "The number 1 has 2 occurrences.\n"
          ],
          "name": "stdout"
        }
      ]
    },
    {
      "cell_type": "markdown",
      "metadata": {
        "id": "PdgUWA3AVrB2",
        "colab_type": "text"
      },
      "source": [
        "7. Write a program that given a list of $n$ numbers and a target number $k$, returns and displays the position of the first apparition of the number $k$.\n",
        "\n",
        "\n",
        "* Input: [8, 1, 9, 1], $k=1$\n",
        "* Expected output:\n",
        "\n",
        "```\n",
        "The number 1 occurs first in position 1.\n",
        "```"
      ]
    },
    {
      "cell_type": "code",
      "metadata": {
        "id": "MxzffO3RYE1A",
        "colab_type": "code",
        "colab": {}
      },
      "source": [
        "values = [8,1,9,1]\n",
        "k = 1\n",
        "first_occur = -1\n",
        "i = 0\n",
        "size = len(values)\n",
        "while i<size and first_occur == -1:\n",
        "  if values[i] == k:\n",
        "    first_occur = i\n",
        "  i += 1\n",
        "    \n",
        "if first_occur != -1:\n",
        "  print(\"The number {} occurs first in position {}.\".format(k, first_occur))\n",
        "\n",
        "#Python way\n",
        "print(\"The number {} occurs first in position {}.\".format(k, values.index(k)))"
      ],
      "execution_count": 0,
      "outputs": []
    },
    {
      "cell_type": "markdown",
      "metadata": {
        "id": "pC8zQkz0YzYE",
        "colab_type": "text"
      },
      "source": [
        "8. Write a program that given a list of $n$ numbers and a target number $k$, returns and displays the position of the last apparition.\n",
        "\n",
        "\n",
        "* Input: [8, 1, 9, 1], $k=1$\n",
        "* Expected output:\n",
        "\n",
        "```\n",
        "The number 1 occurs last in position 3.\n",
        "```"
      ]
    },
    {
      "cell_type": "code",
      "metadata": {
        "id": "uYcnCx87bO-K",
        "colab_type": "code",
        "colab": {
          "base_uri": "https://localhost:8080/",
          "height": 51
        },
        "outputId": "a6bd3d64-084f-44e5-834c-7c29ff4f6346"
      },
      "source": [
        "values = [8,1,9,1]\n",
        "k = 1\n",
        "last_occur = -1\n",
        "i = len(values)-1\n",
        "while i>=0 and last_occur == -1:\n",
        "  if values[i] == k:\n",
        "    last_occur = i\n",
        "  i -= 1\n",
        "    \n",
        "if last_occur != -1:\n",
        "  print(\"The number {} occurs last in position {}.\".format(k, last_occur))"
      ],
      "execution_count": 24,
      "outputs": [
        {
          "output_type": "stream",
          "text": [
            "The number 1 occurs last in position 3.\n",
            "The number 1 occurs first in position 1.\n"
          ],
          "name": "stdout"
        }
      ]
    },
    {
      "cell_type": "markdown",
      "metadata": {
        "id": "DO1-eIlYbxEZ",
        "colab_type": "text"
      },
      "source": [
        "9. Write a program that given a list of $n$ numbers and a target number $k$, returns and displays a list of all positions in which the value $k$ occurs.\n",
        "\n",
        "\n",
        "* Input: [8, 1, 9, 1], $k=1$\n",
        "* Expected output:\n",
        "\n",
        "```\n",
        "The number 1 occurs in [1, 3].\n",
        "```"
      ]
    },
    {
      "cell_type": "code",
      "metadata": {
        "id": "jzyKj9sgb6UV",
        "colab_type": "code",
        "colab": {
          "base_uri": "https://localhost:8080/",
          "height": 34
        },
        "outputId": "0ba37cdc-8b1d-4fe1-c8cb-933436f77082"
      },
      "source": [
        "values = [8,1,9,1]\n",
        "positions = []\n",
        "k = 1\n",
        "size = len(values)\n",
        "for i in range(size):\n",
        "  if values[i] == k:\n",
        "    positions.append(i)\n",
        "print(\"The number {} occurs in {}.\".format(k,positions))"
      ],
      "execution_count": 26,
      "outputs": [
        {
          "output_type": "stream",
          "text": [
            "The number 1 occurs in [1, 3].\n"
          ],
          "name": "stdout"
        }
      ]
    },
    {
      "cell_type": "markdown",
      "metadata": {
        "id": "Qz8dThJBejkd",
        "colab_type": "text"
      },
      "source": [
        "10. Write a program that given a list of $n$ numbers, creates a new list in reverse order.\n",
        "\n",
        "\n",
        "* Input: [7, 5, 9, 2]\n",
        "* Expected output:\n",
        "\n",
        "```\n",
        "The reverse list is [2, 9, 5, 7].\n",
        "```"
      ]
    },
    {
      "cell_type": "code",
      "metadata": {
        "id": "6-u3NluiexSK",
        "colab_type": "code",
        "colab": {}
      },
      "source": [
        "values =  [7, 5, 9, 2]\n",
        "reverse_values = []\n",
        "for i in range(len(values)-1, -1, -1):\n",
        "  reverse_values.append(values[i])\n",
        "\n",
        "print(\"The reverse list is {}.\".format(reverse_values))\n",
        "\n",
        "#Python way\n",
        "reverse_values = values [::-1]\n",
        "print(\"The reverse list is {}.\".format(reverse_values))\n",
        "\n",
        "#print(\"The reverse list is {}.\".format(values.reverse()))"
      ],
      "execution_count": 0,
      "outputs": []
    },
    {
      "cell_type": "markdown",
      "metadata": {
        "id": "i3eXLr4rcXbX",
        "colab_type": "text"
      },
      "source": [
        "11. **Benchmarking**: compare your previous code against the Python versions. See the next example."
      ]
    },
    {
      "cell_type": "code",
      "metadata": {
        "id": "ug2ktZLfcmFP",
        "colab_type": "code",
        "colab": {}
      },
      "source": [
        "#Module to use timers\n",
        "import time\n",
        "\n",
        "values = [8,1,9,2]\n",
        "\n",
        "#Start the timer\n",
        "t = time.time()\n",
        "\n",
        "min_value = values[0]\n",
        "position = 0\n",
        "for i in range(1, len(values)):\n",
        "  if values [i] < min_value:\n",
        "    min_value = values [i]\n",
        "    position = i\n",
        "\n",
        "print(\"\\n\\tMy min version-->time Taken: %.5f sec\" % (time.time()-t))\n",
        "\n",
        "#Python way to find the max value\n",
        "\n",
        "#Start the timer\n",
        "t = time.time()\n",
        "\n",
        "min_value = min(values)\n",
        "position = values.index(min_value)\n",
        "\n",
        "print(\"\\n\\tPython version-->time Taken: %.5f sec\" % (time.time()-t))"
      ],
      "execution_count": 0,
      "outputs": []
    },
    {
      "cell_type": "markdown",
      "metadata": {
        "id": "1DHP7oVGdH5b",
        "colab_type": "text"
      },
      "source": [
        "12. Write a program that given a list of $n$ numbers, $v$ and an scalar number $k$, returns and displays the scalar product of $k\t\\cdot v$.\n",
        "\n",
        "\n",
        "* Input: [7, 5, 9, 2], k = 3\n",
        "* Expected output:\n",
        "\n",
        "```\n",
        "The scalar product of 3 and [7, 5, 9, 2] is [21, 15, 27, 6].\n",
        "```\n",
        "\n"
      ]
    },
    {
      "cell_type": "code",
      "metadata": {
        "id": "UE-Ov5jvfc6F",
        "colab_type": "code",
        "colab": {
          "base_uri": "https://localhost:8080/",
          "height": 51
        },
        "outputId": "29bf29a6-b662-41a5-e7b4-5dc863efdc46"
      },
      "source": [
        "vector = [7, 5, 9, 2]\n",
        "k = 3\n",
        "result = []\n",
        "for v in vector:\n",
        "  result.append(k * v)\n",
        "print(\"The scalar product of {} and {} is {}.\".format(k,vector, result))\n",
        "\n",
        "#Python way\n",
        "result = [k * v for v in vector]\n",
        "print(\"The scalar product of {} and {} is {}.\".format(k,vector, result))"
      ],
      "execution_count": 44,
      "outputs": [
        {
          "output_type": "stream",
          "text": [
            "The scalar product of 3 and [7, 5, 9, 2] is [21, 15, 27, 6].\n",
            "The scalar product of 3 and [7, 5, 9, 2] is [21, 15, 27, 6].\n"
          ],
          "name": "stdout"
        }
      ]
    }
  ]
}