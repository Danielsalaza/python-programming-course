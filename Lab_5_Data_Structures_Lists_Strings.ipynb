{
  "nbformat": 4,
  "nbformat_minor": 0,
  "metadata": {
    "colab": {
      "name": "Lab_5_Data_Structures_Lists_Strings.ipynb",
      "provenance": [],
      "collapsed_sections": [],
      "authorship_tag": "ABX9TyOF6tG1Oi1hbhWLHUqoIj8s",
      "include_colab_link": true
    },
    "kernelspec": {
      "name": "python3",
      "display_name": "Python 3"
    }
  },
  "cells": [
    {
      "cell_type": "markdown",
      "metadata": {
        "id": "view-in-github",
        "colab_type": "text"
      },
      "source": [
        "<a href=\"https://colab.research.google.com/github/chemaar/python-programming-course/blob/master/Lab_5_Data_Structures_Lists_Strings.ipynb\" target=\"_parent\"><img src=\"https://colab.research.google.com/assets/colab-badge.svg\" alt=\"Open In Colab\"/></a>"
      ]
    },
    {
      "cell_type": "markdown",
      "metadata": {
        "id": "l88YgeqXK38T",
        "colab_type": "text"
      },
      "source": [
        "# Lab 5: Data structures: Lists and strings\n",
        "\n",
        "In this notebook, we propose and solve some exercises about basic data structures implemented through Python lists and strings.\n",
        "\n",
        "* **In these exercises, we can always proceed solving the problems in a generic way or taking advantage of Python capabilities. As a recommendation, first, try the generic way (applicable to any programming language) and, then, using Python**\n",
        "\n",
        "* **As a good programming practice, our test cases should ensure that all branches of the code are executed at least once.**"
      ]
    },
    {
      "cell_type": "markdown",
      "metadata": {
        "id": "ZfRgZHNdLIuf",
        "colab_type": "text"
      },
      "source": [
        "## List of exercises"
      ]
    },
    {
      "cell_type": "markdown",
      "metadata": {
        "id": "wV7mERYcMlJ3",
        "colab_type": "text"
      },
      "source": [
        "\n",
        "\n",
        "1. Write a a program that creates a list of $n$ numbers initializing each position with a value (the numeric value of such position). Display the list in the console.\n",
        "\n",
        "\n",
        "* Input: 5\n",
        "* Expected output:\n",
        "\n",
        "```\n",
        "[0,1,3,4,5]\n",
        "```"
      ]
    },
    {
      "cell_type": "code",
      "metadata": {
        "id": "tcS5he3ca2eh",
        "colab_type": "code",
        "colab": {}
      },
      "source": [
        "values = []\n",
        "n = 5\n",
        "for i in range(n):\n",
        "  values.append(i)\n",
        "print (values)\n",
        "\n",
        "#Python way\n",
        "values = [x for x in range(n)]\n",
        "print(values)\n",
        "\n"
      ],
      "execution_count": 0,
      "outputs": []
    },
    {
      "cell_type": "markdown",
      "metadata": {
        "id": "KSIuWolrRpc5",
        "colab_type": "text"
      },
      "source": [
        "2. Write a program that given a list of $n$ numbers, calculates and displays the length of the list.\n",
        "\n",
        "\n",
        "* Input: [3,4,5,6]\n",
        "* Expected output:\n",
        "\n",
        "```\n",
        "The length of the list is: 4\n",
        "```"
      ]
    },
    {
      "cell_type": "code",
      "metadata": {
        "id": "lBs8ZEBYRoq-",
        "colab_type": "code",
        "colab": {}
      },
      "source": [
        "values = [3,4,5,6]\n",
        "length = 0\n",
        "for v in values:\n",
        "  length = length + 1\n",
        "print(\"The length of the list is: \", length)\n",
        "#Python way\n",
        "print(\"The length of the list is: \", len(values))"
      ],
      "execution_count": 0,
      "outputs": []
    },
    {
      "cell_type": "markdown",
      "metadata": {
        "id": "g-ogwutGSb4n",
        "colab_type": "text"
      },
      "source": [
        "3. Write a program that given a list of $n$ numbers, calculates and displays the max value within the list and its position.\n",
        "\n",
        "\n",
        "* Input: [8, 1, 9, 2]\n",
        "* Expected output:\n",
        "\n",
        "```\n",
        "The max value is: 9 in position: 2.\n",
        "```"
      ]
    },
    {
      "cell_type": "code",
      "metadata": {
        "id": "ezRSK8_KSvGG",
        "colab_type": "code",
        "colab": {}
      },
      "source": [
        "values = [8,1,9,2]\n",
        "if values and len(values) > 0:\n",
        "  max_value = values[0]\n",
        "  position = 0\n",
        "  for i in range(1, len(values)):\n",
        "    if values [i] > max_value:\n",
        "      max_value = values [i]\n",
        "      position = i\n",
        "print(\"The max value is {} in position: {}\".format(max_value, position))\n",
        "\n",
        "#Python way to find the max value\n",
        "max_value = max(values)\n",
        "position = values.index(max_value)\n",
        "print(\"The max value is {} in position: {}\".format(max_value, position))"
      ],
      "execution_count": 0,
      "outputs": []
    },
    {
      "cell_type": "markdown",
      "metadata": {
        "id": "XYxZMPq4T8KQ",
        "colab_type": "text"
      },
      "source": [
        "4. Write a program that given a list of $n$ numbers, calculates and displays the min value within the list and its position.\n",
        "\n",
        "\n",
        "* Input: [8, 1, 9, 2]\n",
        "* Expected output:\n",
        "\n",
        "```\n",
        "The min value is: 1 in position: 1.\n",
        "```"
      ]
    },
    {
      "cell_type": "code",
      "metadata": {
        "id": "gf-q-MYaUsYr",
        "colab_type": "code",
        "colab": {}
      },
      "source": [
        "values = [8,1,9,2]\n",
        "if values and len(values) > 0:\n",
        "  min_value = values[0]\n",
        "  position = 0\n",
        "  for i in range(1, len(values)):\n",
        "    if values [i] < min_value:\n",
        "      min_value = values [i]\n",
        "      position = i\n",
        "print(\"The min value is {} in position: {}.\".format(min_value, position))\n",
        "\n",
        "#Python way to find the max value\n",
        "min_value = min(values)\n",
        "position = values.index(min_value)\n",
        "print(\"The min value is {} in position: {}.\".format(min_value, position))"
      ],
      "execution_count": 0,
      "outputs": []
    },
    {
      "cell_type": "markdown",
      "metadata": {
        "id": "YHX4fHYqUSYX",
        "colab_type": "text"
      },
      "source": [
        "5. Write a program that given a list of $n$ numbers, calculates and displays the sum of its elements.\n",
        "\n",
        "\n",
        "* Input: [8, 1, 9, 2]\n",
        "* Expected output:\n",
        "\n",
        "```\n",
        "The sum is: 20.\n",
        "```"
      ]
    },
    {
      "cell_type": "code",
      "metadata": {
        "id": "tCptV5LwUB9N",
        "colab_type": "code",
        "colab": {}
      },
      "source": [
        "values = [8,1,9,2]\n",
        "sum_values = 0\n",
        "for v in values:\n",
        "  sum_values = sum_values + v\n",
        "print(\"The sum is {}.\".format(sum_values))\n",
        "\n",
        "#Python way to find the max value\n",
        "print(\"The sum is {}.\".format(sum(values)))"
      ],
      "execution_count": 0,
      "outputs": []
    },
    {
      "cell_type": "markdown",
      "metadata": {
        "id": "BW0ih-scU9_e",
        "colab_type": "text"
      },
      "source": [
        "6. Write a program that given a list of $n$ numbers and a target number $k$, counts the number of occurrences of $k$ in the list.\n",
        "\n",
        "\n",
        "* Input: [8, 1, 9, 1], $k=1$\n",
        "* Expected output:\n",
        "\n",
        "```\n",
        "The number 1 has 2 occurrences.\n",
        "```"
      ]
    },
    {
      "cell_type": "code",
      "metadata": {
        "id": "QyFqIXueVRNR",
        "colab_type": "code",
        "colab": {}
      },
      "source": [
        "values = [8,1,9,1]\n",
        "k = 1\n",
        "occurrences = 0\n",
        "for v in values:\n",
        "  if k == v:\n",
        "    occurrences += 1\n",
        "print(\"The number {} has {} occurrences.\".format(k, occurrences))\n",
        "\n",
        "#Python way\n",
        "occurrences = values.count(k)\n",
        "print(\"The number {} has {} occurrences.\".format(k, occurrences))"
      ],
      "execution_count": 0,
      "outputs": []
    },
    {
      "cell_type": "markdown",
      "metadata": {
        "id": "PdgUWA3AVrB2",
        "colab_type": "text"
      },
      "source": [
        "7. Write a program that given a list of $n$ numbers and a target number $k$, returns and displays the position of the first apparition of the number $k$.\n",
        "\n",
        "\n",
        "* Input: [8, 1, 9, 1], $k=1$\n",
        "* Expected output:\n",
        "\n",
        "```\n",
        "The number 1 occurs first in position 1.\n",
        "```"
      ]
    },
    {
      "cell_type": "code",
      "metadata": {
        "id": "MxzffO3RYE1A",
        "colab_type": "code",
        "colab": {}
      },
      "source": [
        "values = [8,1,9,1]\n",
        "k = 1\n",
        "first_occur = -1\n",
        "i = 0\n",
        "size = len(values)\n",
        "while i<size and first_occur == -1:\n",
        "  if values[i] == k:\n",
        "    first_occur = i\n",
        "  i += 1\n",
        "    \n",
        "if first_occur != -1:\n",
        "  print(\"The number {} occurs first in position {}.\".format(k, first_occur))\n",
        "\n",
        "#Python way\n",
        "print(\"The number {} occurs first in position {}.\".format(k, values.index(k)))"
      ],
      "execution_count": 0,
      "outputs": []
    },
    {
      "cell_type": "markdown",
      "metadata": {
        "id": "pC8zQkz0YzYE",
        "colab_type": "text"
      },
      "source": [
        "8. Write a program that given a list of $n$ numbers and a target number $k$, returns and displays the position of the last apparition.\n",
        "\n",
        "\n",
        "* Input: [8, 1, 9, 1], $k=1$\n",
        "* Expected output:\n",
        "\n",
        "```\n",
        "The number 1 occurs last in position 3.\n",
        "```"
      ]
    },
    {
      "cell_type": "code",
      "metadata": {
        "id": "uYcnCx87bO-K",
        "colab_type": "code",
        "colab": {}
      },
      "source": [
        "values = [8,1,9,1]\n",
        "k = 1\n",
        "last_occur = -1\n",
        "i = len(values)-1\n",
        "while i>=0 and last_occur == -1:\n",
        "  if values[i] == k:\n",
        "    last_occur = i\n",
        "  i -= 1\n",
        "    \n",
        "if last_occur != -1:\n",
        "  print(\"The number {} occurs last in position {}.\".format(k, last_occur))"
      ],
      "execution_count": 0,
      "outputs": []
    },
    {
      "cell_type": "markdown",
      "metadata": {
        "id": "DO1-eIlYbxEZ",
        "colab_type": "text"
      },
      "source": [
        "9. Write a program that given a list of $n$ numbers and a target number $k$, returns and displays a list of all positions in which the value $k$ occurs.\n",
        "\n",
        "\n",
        "* Input: [8, 1, 9, 1], $k=1$\n",
        "* Expected output:\n",
        "\n",
        "```\n",
        "The number 1 occurs in [1, 3].\n",
        "```"
      ]
    },
    {
      "cell_type": "code",
      "metadata": {
        "id": "jzyKj9sgb6UV",
        "colab_type": "code",
        "colab": {}
      },
      "source": [
        "values = [8,1,9,1]\n",
        "positions = []\n",
        "k = 1\n",
        "size = len(values)\n",
        "for i in range(size):\n",
        "  if values[i] == k:\n",
        "    positions.append(i)\n",
        "print(\"The number {} occurs in {}.\".format(k,positions))"
      ],
      "execution_count": 0,
      "outputs": []
    },
    {
      "cell_type": "markdown",
      "metadata": {
        "id": "Qz8dThJBejkd",
        "colab_type": "text"
      },
      "source": [
        "10. Write a program that given a list of $n$ numbers, creates a new list in reverse order.\n",
        "\n",
        "\n",
        "* Input: [7, 5, 9, 2]\n",
        "* Expected output:\n",
        "\n",
        "```\n",
        "The reverse list is [2, 9, 5, 7].\n",
        "```"
      ]
    },
    {
      "cell_type": "code",
      "metadata": {
        "id": "6-u3NluiexSK",
        "colab_type": "code",
        "colab": {}
      },
      "source": [
        "values =  [7, 5, 9, 2]\n",
        "reverse_values = []\n",
        "for i in range(len(values)-1, -1, -1):\n",
        "  reverse_values.append(values[i])\n",
        "\n",
        "print(\"The reverse list is {}.\".format(reverse_values))\n",
        "\n",
        "#Python way\n",
        "reverse_values = values [::-1]\n",
        "print(\"The reverse list is {}.\".format(reverse_values))\n",
        "\n",
        "#print(\"The reverse list is {}.\".format(values.reverse()))"
      ],
      "execution_count": 0,
      "outputs": []
    },
    {
      "cell_type": "markdown",
      "metadata": {
        "id": "i3eXLr4rcXbX",
        "colab_type": "text"
      },
      "source": [
        "11. **Benchmarking**: compare your previous code against the Python versions. See the next example."
      ]
    },
    {
      "cell_type": "code",
      "metadata": {
        "id": "ug2ktZLfcmFP",
        "colab_type": "code",
        "colab": {}
      },
      "source": [
        "#Module to use timers\n",
        "import time\n",
        "\n",
        "values = [8,1,9,2]\n",
        "\n",
        "#Start the timer\n",
        "t = time.time()\n",
        "\n",
        "min_value = values[0]\n",
        "position = 0\n",
        "for i in range(1, len(values)):\n",
        "  if values [i] < min_value:\n",
        "    min_value = values [i]\n",
        "    position = i\n",
        "\n",
        "print(\"\\n\\tMy min version-->time Taken: %.5f sec\" % (time.time()-t))\n",
        "\n",
        "#Python way to find the max value\n",
        "\n",
        "#Start the timer\n",
        "t = time.time()\n",
        "\n",
        "min_value = min(values)\n",
        "position = values.index(min_value)\n",
        "\n",
        "print(\"\\n\\tPython version-->time Taken: %.5f sec\" % (time.time()-t))"
      ],
      "execution_count": 0,
      "outputs": []
    },
    {
      "cell_type": "markdown",
      "metadata": {
        "id": "1DHP7oVGdH5b",
        "colab_type": "text"
      },
      "source": [
        "12. Write a program that given a list of $n$ numbers, $v$ and an scalar number $k$, returns and displays the scalar product of $k\t\\cdot v$.\n",
        "\n",
        "\n",
        "* Input: [7, 5, 9, 2], k = 3\n",
        "* Expected output:\n",
        "\n",
        "```\n",
        "The scalar product of 3 and [7, 5, 9, 2] is [21, 15, 27, 6].\n",
        "```\n",
        "\n"
      ]
    },
    {
      "cell_type": "code",
      "metadata": {
        "id": "UE-Ov5jvfc6F",
        "colab_type": "code",
        "colab": {}
      },
      "source": [
        "vector = [7, 5, 9, 2]\n",
        "k = 3\n",
        "result = []\n",
        "for v in vector:\n",
        "  result.append(k * v)\n",
        "print(\"The scalar product of {} and {} is {}.\".format(k,vector, result))\n",
        "\n",
        "#Python way\n",
        "result = [k * v for v in vector]\n",
        "print(\"The scalar product of {} and {} is {}.\".format(k,vector, result))"
      ],
      "execution_count": 0,
      "outputs": []
    },
    {
      "cell_type": "markdown",
      "metadata": {
        "id": "-pedghgBJ06_",
        "colab_type": "text"
      },
      "source": [
        "14. Write a program that given two lists of $n$ numbers, returns and displays the vector product of $l1\t\\cdot l2$.\n",
        "\n",
        "\n",
        "* Input: [7, 5, 9, 2], [4, 5, 6, 7] \n",
        "* Expected output:\n",
        "\n",
        "```\n",
        "The vector product of [7, 5, 9, 2] and [4, 5, 6, 7]  is [28, 25, 54, 14].\n",
        "```"
      ]
    },
    {
      "cell_type": "code",
      "metadata": {
        "id": "MoOo5S9RKOzR",
        "colab_type": "code",
        "colab": {}
      },
      "source": [
        "l1 = [7, 5, 9, 2]\n",
        "l2 = [4, 5, 6, 7]\n",
        "result = []\n",
        "if len(l1)==len(l2):\n",
        "  for i in range(len(l1)):\n",
        "    result.append(l1[i]*l2[i])\n",
        "print(\"The vector product of {} and {} is {}.\".format(l1,l2,result))"
      ],
      "execution_count": 0,
      "outputs": []
    },
    {
      "cell_type": "markdown",
      "metadata": {
        "id": "BRK_644_LIy_",
        "colab_type": "text"
      },
      "source": [
        "15. Write a program that given two lists of $n$ numbers, returns all combination of pairs (cartesian product).\n",
        "\n",
        "\n",
        "* Input: [7, 5, 9, 2], [4, 5, 6, 7] \n",
        "* Expected output:\n",
        "\n",
        "```\n",
        "The cartesian product is: [[7, 4], [7, 5], [7, 6], [7, 7], [5, 4], [5, 5], [5, 6], [5, 7], [9, 4], [9, 5], [9, 6], [9, 7], [2, 4], [2, 5], [2, 6], [2, 7]].\n",
        "\n",
        "```"
      ]
    },
    {
      "cell_type": "code",
      "metadata": {
        "id": "VFKyxyt2LYFJ",
        "colab_type": "code",
        "colab": {}
      },
      "source": [
        "l1 = [7, 5, 9, 2]\n",
        "l2 = [4, 5, 6, 7]\n",
        "result = []\n",
        "for v in l1:\n",
        "  for w in l2:\n",
        "    result.append([v,w])\n",
        "\n",
        "print(\"The cartesian product is: {}.\".format(result))\n",
        "\n",
        "#Python way returning tuples\n",
        "result = [(x, y) for x in l1 for y in l2]\n",
        "print(result)"
      ],
      "execution_count": 0,
      "outputs": []
    },
    {
      "cell_type": "markdown",
      "metadata": {
        "id": "E0W2_8PTL69G",
        "colab_type": "text"
      },
      "source": [
        "16. Write a program that given a list of $n$ numbers, returns and displays the average of the list numbers.\n",
        "\n",
        "\n",
        "* Input: [4, 5, 6, 7] \n",
        "* Expected output:\n",
        "\n",
        "```\n",
        "The average of [4, 5, 6, 7] is 5.5.\n",
        "\n",
        "```"
      ]
    },
    {
      "cell_type": "code",
      "metadata": {
        "id": "MwfYAi8SMZXD",
        "colab_type": "code",
        "colab": {}
      },
      "source": [
        "l1 = [4, 5, 6, 7]\n",
        "sum_l1 = 0\n",
        "for v in l1:\n",
        "  sum_l1 +=v\n",
        "if len(l1) >0:\n",
        "  avg = sum_l1/len(l1)\n",
        "  print(\"The average of {} is {}.\".format(l1, avg))\n",
        "\n",
        "#Python way\n",
        "if len(l1) > 0:\n",
        "  avg = sum(l1)/len(l1)\n",
        "  print(\"The average of {} is {}.\".format(l1, avg))"
      ],
      "execution_count": 0,
      "outputs": []
    },
    {
      "cell_type": "markdown",
      "metadata": {
        "id": "zoEZYOrHM7BW",
        "colab_type": "text"
      },
      "source": [
        "17. Write a program that given a list of $n$ numbers and a number $k$, returns the first $k$ numbers.\n",
        "\n",
        "\n",
        "* Input: [4, 5, 6, 7], k = 2\n",
        "* Expected output:\n",
        "\n",
        "```\n",
        "[4,5]\n",
        "\n",
        "```"
      ]
    },
    {
      "cell_type": "code",
      "metadata": {
        "id": "b0he043sNQMa",
        "colab_type": "code",
        "colab": {}
      },
      "source": [
        "l1 = [4, 5, 6, 7]\n",
        "k = 2\n",
        "result = []\n",
        "if k <= len(l1):\n",
        "  for i in range(k):\n",
        "    result.append(l1[i])\n",
        "print(result)\n",
        "\n",
        "#Python way\n",
        "\n",
        "result = l1[:k:]\n",
        "print(result)"
      ],
      "execution_count": 0,
      "outputs": []
    },
    {
      "cell_type": "markdown",
      "metadata": {
        "id": "8Ei6cSqUNk2T",
        "colab_type": "text"
      },
      "source": [
        "18. Write a program that given a list of $n$ numbers and a number $k$, returns the last $k$ numbers.\n",
        "\n",
        "\n",
        "* Input: [4, 5, 6, 7], k = 2\n",
        "* Expected output:\n",
        "\n",
        "```\n",
        "[7,6]\n",
        "\n",
        "```"
      ]
    },
    {
      "cell_type": "code",
      "metadata": {
        "id": "qYhOPb6GNqcO",
        "colab_type": "code",
        "colab": {}
      },
      "source": [
        "l1 = [4, 5, 6, 7]\n",
        "k = 2\n",
        "result = []\n",
        "if k <= len(l1):\n",
        "  for i in range(len(l1)-1, k-1, -1):\n",
        "    result.append(l1[i])\n",
        "print(result)\n",
        "\n",
        "#Python way\n",
        "\n",
        "result = l1[len(l1)-1 : k-1 : -1]\n",
        "print(result)"
      ],
      "execution_count": 0,
      "outputs": []
    },
    {
      "cell_type": "markdown",
      "metadata": {
        "id": "IgbPFxnuOWRy",
        "colab_type": "text"
      },
      "source": [
        "19. Write a program that given a list of $n$ numbers, returns a new list containing in the same position the factorial of that value (if the value is < 0, the return value will be -1) .\n",
        "\n",
        "\n",
        "* Input: [5, 0, 1, -1]\n",
        "* Expected output:\n",
        "\n",
        "```\n",
        "[120, 1, 1, -1]\n",
        "\n",
        "```"
      ]
    },
    {
      "cell_type": "code",
      "metadata": {
        "id": "80q1XvGFOj-U",
        "colab_type": "code",
        "colab": {}
      },
      "source": [
        "v = [5, 0, 1, -1]\n",
        "factorials = []\n",
        "for value in v:\n",
        "  if value == 0 or value == 1:\n",
        "    fact_value = 1\n",
        "  elif value >1:\n",
        "    fact_value = 1\n",
        "    for i in range(1, value+1):\n",
        "      fact_value = fact_value * i\n",
        "  else:\n",
        "    fact_value = -1\n",
        "  factorials.append(fact_value)\n",
        "\n",
        "print(factorials)\n",
        "    "
      ],
      "execution_count": 0,
      "outputs": []
    },
    {
      "cell_type": "markdown",
      "metadata": {
        "id": "YJra1YM-PTt7",
        "colab_type": "text"
      },
      "source": [
        "20. Write a program that given a list of $n$ numbers, returns a new list without the repeated numbers.\n",
        "\n",
        "\n",
        "* Input: [4, 5, 5, 6, 6, 8]\n",
        "* Expected output:\n",
        "\n",
        "```\n",
        "[4, 5, 6, 8]\n",
        "\n",
        "```"
      ]
    },
    {
      "cell_type": "code",
      "metadata": {
        "id": "GdrWmSeuPkqH",
        "colab_type": "code",
        "colab": {}
      },
      "source": [
        "values = [4, 5, 5, 6, 6, 8]\n",
        "clean_values = []\n",
        "for v in values:\n",
        "  found = False\n",
        "  pos = 0\n",
        "  while not found and pos < len(clean_values):\n",
        "    found = clean_values[pos] == v\n",
        "    pos = pos + 1\n",
        "  if not found:\n",
        "    clean_values.append(v)\n",
        "\n",
        "print(clean_values)\n",
        "\n",
        "#Python way\n",
        "\n",
        "clean_values = []\n",
        "for v in values:\n",
        "  if clean_values.count(v) == 0:\n",
        "    clean_values.append(v)\n",
        "print(clean_values)"
      ],
      "execution_count": 0,
      "outputs": []
    },
    {
      "cell_type": "markdown",
      "metadata": {
        "id": "8E_G7JagRagL",
        "colab_type": "text"
      },
      "source": [
        "21. Write a program that given two lists of $n$ numbers, returns the union of both lists.\n",
        "\n",
        "\n",
        "* Input: [4,5,6] [5,7,8,9]\n",
        "* Expected output:\n",
        "\n",
        "```\n",
        "[4, 5, 6, 7, 8, 9]\n",
        "\n",
        "```"
      ]
    },
    {
      "cell_type": "code",
      "metadata": {
        "id": "DRqWhmFoRpbp",
        "colab_type": "code",
        "colab": {}
      },
      "source": [
        "v1 = [4,5,6] \n",
        "v2 = [5,7,8,9]\n",
        "union = []\n",
        "for v in v1:\n",
        "  union.append(v)\n",
        "for v in v2:\n",
        "  found = False\n",
        "  pos = 0\n",
        "  while not found and pos < len(union):\n",
        "    found = union[pos] == v\n",
        "    pos = pos + 1\n",
        "  if not found:\n",
        "    union.append(v)\n",
        "print(union)\n",
        "\n",
        "#Python way\n",
        "union = []\n",
        "union.extend(v1)\n",
        "for v in v2:\n",
        "  if union.count(v) == 0:\n",
        "    union.append(v)\n",
        "print(union)"
      ],
      "execution_count": 0,
      "outputs": []
    },
    {
      "cell_type": "markdown",
      "metadata": {
        "id": "Tmx6Vs1pSd-a",
        "colab_type": "text"
      },
      "source": [
        "22. Write a program that given two lists of $n$ numbers, returns the intersection of both lists.\n",
        "\n",
        "\n",
        "* Input: [4,5,6] [5,7,8,9]\n",
        "* Expected output:\n",
        "\n",
        "```\n",
        "[5]\n",
        "\n",
        "```"
      ]
    },
    {
      "cell_type": "code",
      "metadata": {
        "id": "F7LHEbNESjs_",
        "colab_type": "code",
        "colab": {}
      },
      "source": [
        "v1 = [4,5,6] \n",
        "v2 = [5,7,8,9]\n",
        "intersection = []\n",
        "for v in v1:\n",
        "  if v2.count(v) != 0:\n",
        "    intersection.append(v)\n",
        "\n",
        "print(intersection)\n"
      ],
      "execution_count": 0,
      "outputs": []
    },
    {
      "cell_type": "markdown",
      "metadata": {
        "id": "mA7_kZruT5zJ",
        "colab_type": "text"
      },
      "source": [
        "23. Write a program that asks the user for $n$ numbers and returns a sorted list.\n",
        "\n",
        "* Use the function `insert(pos, value)`\n",
        "\n",
        "* Input:  6, 4, 8\n",
        "* Expected output:\n",
        "\n",
        "```\n",
        "[4, 6, 8]\n",
        "\n",
        "```"
      ]
    },
    {
      "cell_type": "code",
      "metadata": {
        "id": "Pl8EwdvAUCys",
        "colab_type": "code",
        "colab": {}
      },
      "source": [
        "n = 3\n",
        "values = []\n",
        "for i in range(n):\n",
        "  number = input(\"Introduce a number: \")\n",
        "  #Find position\n",
        "  pos = 0\n",
        "  while pos < len(values) and values[pos] < number:\n",
        "    pos = pos + 1\n",
        "  values.insert(pos, number)\n",
        "print(values)"
      ],
      "execution_count": 0,
      "outputs": []
    },
    {
      "cell_type": "markdown",
      "metadata": {
        "id": "QES6CMPWVm3U",
        "colab_type": "text"
      },
      "source": [
        "24. Write a program that asks the user for $n$ numbers and returns a sorted list in descending order.\n",
        "\n",
        "* Use the function `insert(pos, value)`\n",
        "\n",
        "* Input:  6, 4, 8\n",
        "* Expected output:\n",
        "\n",
        "```\n",
        "[8, 6, 4]\n",
        "\n",
        "```"
      ]
    },
    {
      "cell_type": "code",
      "metadata": {
        "id": "S6xGMaFpVuLR",
        "colab_type": "code",
        "colab": {}
      },
      "source": [
        "n = 3\n",
        "values = []\n",
        "for i in range(n):\n",
        "  number = input(\"Introduce a number: \")\n",
        "  #Find position\n",
        "  pos = 0\n",
        "  while pos < len(values) and values[pos] > number:\n",
        "    pos = pos + 1\n",
        "  values.insert(pos, number)\n",
        "print(values)"
      ],
      "execution_count": 0,
      "outputs": []
    },
    {
      "cell_type": "markdown",
      "metadata": {
        "id": "wY_mI7EBW-ND",
        "colab_type": "text"
      },
      "source": [
        "25. Write a program that given a list of $n$ numbers and a parameter $k$, creates chunks of $k$ elements.\n",
        "\n",
        "\n",
        "* Input:  [1,2,3,4,5,6,7,8,9], k = 3\n",
        "* Expected output:\n",
        "\n",
        "```\n",
        "[ [1,2,3], [4,5,6], [7,8,9] ]\n",
        "\n",
        "```"
      ]
    },
    {
      "cell_type": "code",
      "metadata": {
        "id": "acI7YCHqXPRg",
        "colab_type": "code",
        "colab": {}
      },
      "source": [
        "values = [1,2,3,4,5,6,7,8,9]\n",
        "k = 3\n",
        "chunks = []\n",
        "i = 0\n",
        "size = len(values)\n",
        "while i < size:\n",
        "  chunk = []\n",
        "  for j in range(i, k+i):\n",
        "    chunk.append(values[j])\n",
        "  chunks.append(chunk)\n",
        "  i = i + k\n",
        "print(chunks)\n",
        "\n",
        "#Python way\n",
        "chunks = []\n",
        "size = len(values)\n",
        "for i in range(0, size, k):\n",
        "  chunks.append(values[i:k+i])\n",
        "\n",
        "print(chunks)\n",
        "\n",
        "chunks.clear()\n",
        "size = len(values)\n",
        "chunks = [values[i:k+i] for i in range(0, size, k)]\n",
        "print(chunks)"
      ],
      "execution_count": 0,
      "outputs": []
    },
    {
      "cell_type": "markdown",
      "metadata": {
        "id": "AMyYq2tnagWY",
        "colab_type": "text"
      },
      "source": [
        "26. Write a program that given a number $n$ and an initial value $k$, creates a list of size $n$ with all positions having the initial value.\n",
        "\n",
        "* Input:  n = 10, k = -1\n",
        "* Expected output:\n",
        "\n",
        "```\n",
        "[-1, -1, -1, -1, -1]\n",
        "\n",
        "```"
      ]
    },
    {
      "cell_type": "code",
      "metadata": {
        "id": "-ChUuMcaa3iJ",
        "colab_type": "code",
        "colab": {}
      },
      "source": [
        "n = 5\n",
        "k = -1\n",
        "\n",
        "list_values = []\n",
        "for i in range(n):\n",
        "  list_values.append(k)\n",
        "\n",
        "print(list_values)\n",
        "\n",
        "#Python way\n",
        "list_values = [k for i in range(n)]\n",
        "print(list_values)"
      ],
      "execution_count": 0,
      "outputs": []
    },
    {
      "cell_type": "markdown",
      "metadata": {
        "id": "Ydj33gKCO061",
        "colab_type": "text"
      },
      "source": [
        "27. Write a program that given a string, displays the lenght of the string.\n",
        "\n",
        "* Input:  Hello\n",
        "* Expected output:\n",
        "\n",
        "```\n",
        "The lenght of Hello is 5.\n",
        "\n",
        "```"
      ]
    },
    {
      "cell_type": "code",
      "metadata": {
        "id": "Er1krlv1O-XJ",
        "colab_type": "code",
        "colab": {}
      },
      "source": [
        "value = \"Hello\"\n",
        "value_size = 0\n",
        "for i in value:\n",
        "  value_size = value_size + 1\n",
        "print(\"The length of {} is {}.\".format(value, value_size))\n",
        "\n",
        "#Python version\n",
        "\n",
        "print(\"The length of {} is {}.\".format(value, len(value)))"
      ],
      "execution_count": 0,
      "outputs": []
    },
    {
      "cell_type": "markdown",
      "metadata": {
        "id": "ELX6cYpxPWT-",
        "colab_type": "text"
      },
      "source": [
        "28. Explore the string object methods.\n",
        "\n",
        "\n",
        "\n",
        "```\n",
        "dir (\"\")\n",
        "```\n",
        "\n"
      ]
    },
    {
      "cell_type": "code",
      "metadata": {
        "id": "XKhuWVQ-d4DG",
        "colab_type": "code",
        "colab": {}
      },
      "source": [
        "dir(\"\")"
      ],
      "execution_count": 0,
      "outputs": []
    },
    {
      "cell_type": "markdown",
      "metadata": {
        "id": "ezkPuQzePig4",
        "colab_type": "text"
      },
      "source": [
        "28. Write a program that given a string, displays the string in reverse order.\n",
        "\n",
        "* Input:  Hello\n",
        "* Expected output:\n",
        "\n",
        "```\n",
        "Hello and olleH\n",
        "\n",
        "```"
      ]
    },
    {
      "cell_type": "code",
      "metadata": {
        "id": "W-icDeW5d4Ou",
        "colab_type": "code",
        "colab": {}
      },
      "source": [
        "value = \"Hello\"\n",
        "new_value = \"\"\n",
        "for i in range(len(value)-1, -1, -1):\n",
        "  new_value = new_value + value[i]\n",
        "print(\"{} and {}\".format(value, new_value))\n",
        "\n",
        "#Python version\n",
        "new_value = value[::-1]\n",
        "print(\"{} and {}\".format(value, new_value))"
      ],
      "execution_count": 0,
      "outputs": []
    },
    {
      "cell_type": "markdown",
      "metadata": {
        "id": "mUx9Hn1KQOyo",
        "colab_type": "text"
      },
      "source": [
        "29. Write a program that given a string, displays whether the string is a palindrome.\n",
        "\n",
        "* Input:  anna\n",
        "* Expected output:\n",
        "\n",
        "```\n",
        "anna is a palindrome True.\n",
        "\n",
        "```"
      ]
    },
    {
      "cell_type": "code",
      "metadata": {
        "id": "qi1L0QFQQai3",
        "colab_type": "code",
        "colab": {}
      },
      "source": [
        "value = \"anna\"\n",
        "is_palindrome = value == value[::-1]\n",
        "print(\"{} is a palindrome {}.\".format(value, is_palindrome))"
      ],
      "execution_count": 0,
      "outputs": []
    },
    {
      "cell_type": "markdown",
      "metadata": {
        "id": "rMq7Nxl0ROYs",
        "colab_type": "text"
      },
      "source": [
        "30. Write a program that given a string, displays the string in uppercase letters.\n",
        "\n",
        "  * Make use of function `ord(char)`-->ASCII number of the char.\n",
        "\n",
        "\n",
        "\n",
        "* Input:  This is a string\n",
        "* Expected output:\n",
        "\n",
        "```\n",
        "THIS IS A STRING\n",
        "\n",
        "```"
      ]
    },
    {
      "cell_type": "code",
      "metadata": {
        "id": "xBPdzffNRdQV",
        "colab_type": "code",
        "colab": {
          "base_uri": "https://localhost:8080/",
          "height": 51
        },
        "outputId": "b2192973-4603-44b5-c093-10db9aba5cb0"
      },
      "source": [
        "value = \"This is a string\"\n",
        "upper_value = \"\"\n",
        "for v in value:\n",
        "  ord_v = ord(v)\n",
        "  if ord_v >= 97 and ord_v <= 122:\n",
        "    upper_value = upper_value + chr(ord_v-32)\n",
        "  else:\n",
        "     upper_value = upper_value + v\n",
        "print(upper_value)\n",
        "\n",
        "#Python version\n",
        "print(value.upper())"
      ],
      "execution_count": 20,
      "outputs": [
        {
          "output_type": "stream",
          "text": [
            "THIS IS A STRING\n",
            "THIS IS A STRING\n"
          ],
          "name": "stdout"
        }
      ]
    },
    {
      "cell_type": "markdown",
      "metadata": {
        "id": "h25VWkoWSxyn",
        "colab_type": "text"
      },
      "source": [
        "31. Write a program that given a string, displays the string in lowercase letters.\n",
        "\n",
        "* Input:  THIS IS A STRING\n",
        "* Expected output:\n",
        "\n",
        "```\n",
        "this is a string\n",
        "\n",
        "```"
      ]
    },
    {
      "cell_type": "code",
      "metadata": {
        "id": "zUaA-rt5S4kV",
        "colab_type": "code",
        "colab": {}
      },
      "source": [
        "value = \"THIS IS A STRING\"\n",
        "lower_value = \"\"\n",
        "for v in value:\n",
        "  ord_v = ord(v)\n",
        "  if ord_v >= 65 and ord_v <= 90:\n",
        "    lower_value = lower_value + chr(ord_v+32)\n",
        "  else:\n",
        "     lower_value = lower_value + v\n",
        "print(lower_value)\n",
        "\n",
        "#Python version\n",
        "print(value.lower())"
      ],
      "execution_count": 0,
      "outputs": []
    },
    {
      "cell_type": "markdown",
      "metadata": {
        "id": "dx_4gaorTJd4",
        "colab_type": "text"
      },
      "source": [
        "32. Write a program that given a string and a char separator, returns a list of the words. (Tokenizer)\n",
        "\n",
        "* Input:  Anna,21,Programming\n",
        "* Expected output:\n",
        "\n",
        "```\n",
        "[\"Anna\", \"21\", \"Programming\"]\n",
        "\n",
        "```"
      ]
    },
    {
      "cell_type": "code",
      "metadata": {
        "id": "xaRoU4J-TZqf",
        "colab_type": "code",
        "colab": {}
      },
      "source": [
        "value = \"Anna,21,Programming\"\n",
        "sep = \",\"\n",
        "tokens = []\n",
        "\n",
        "current_value = \"\"\n",
        "for v in value:\n",
        "  if v == \",\":\n",
        "    tokens.append(current_value)\n",
        "    current_value = \"\"\n",
        "  else:\n",
        "    current_value = current_value + v\n",
        "tokens.append(current_value)\n",
        "\n",
        "print(tokens)\n",
        "\n",
        "#Python version\n",
        "\n",
        "tokens = value.split(sep)\n",
        "print(tokens)"
      ],
      "execution_count": 0,
      "outputs": []
    },
    {
      "cell_type": "markdown",
      "metadata": {
        "id": "p_dBbawuU04B",
        "colab_type": "text"
      },
      "source": [
        "33. Write a program that given a list of strings, returns a list with the size of each string.\n",
        "\n",
        "* Input:  [\"Anna\", \"21\", \"Programming\"]\n",
        "* Expected output:\n",
        "\n",
        "```\n",
        "[4, 2, 11]\n",
        "\n",
        "```"
      ]
    },
    {
      "cell_type": "code",
      "metadata": {
        "id": "mB7FkhJKVHHu",
        "colab_type": "code",
        "colab": {}
      },
      "source": [
        "tokens = [\"Anna\", \"21\", \"Programming\"]\n",
        "sizes = []\n",
        "for t in tokens:\n",
        "  sizes.append(len(t))\n",
        "print(sizes)\n",
        "\n",
        "#Python version\n",
        "sizes = [len(x) for x in tokens]\n",
        "print(sizes)"
      ],
      "execution_count": 0,
      "outputs": []
    },
    {
      "cell_type": "markdown",
      "metadata": {
        "id": "mIL7Hf_7Vggd",
        "colab_type": "text"
      },
      "source": [
        "34. Write a program that given a string and a number $k$, returns a list of chunked strings of size $k$.\n",
        "\n",
        "* Input:  \"This is a very looooong string\" and $k=3$\n",
        "* Expected output:\n",
        "\n",
        "```\n",
        "['Thi', 's i', 's a', ' ve', 'ry ', 'loo', 'ooo', 'ng ', 'str', 'ing']\n",
        "\n",
        "```"
      ]
    },
    {
      "cell_type": "code",
      "metadata": {
        "id": "xaIGUVwgVyl2",
        "colab_type": "code",
        "colab": {}
      },
      "source": [
        "values = \"This is a very looooong string\"\n",
        "k = 3\n",
        "chunks = []\n",
        "i = 0\n",
        "size = len(values)\n",
        "while i < size:\n",
        "  chunk = \"\"\n",
        "  for j in range(i, k+i):\n",
        "    chunk = chunk + values[j]\n",
        "  chunks.append(chunk)\n",
        "  i = i + k\n",
        "print(chunks)\n",
        "\n",
        "#Python way\n",
        "chunks = []\n",
        "size = len(values)\n",
        "for i in range(0, size, k):\n",
        "  chunks.append(values[i:k+i])\n",
        "\n",
        "print(chunks)\n",
        "\n",
        "chunks.clear()\n",
        "size = len(values)\n",
        "chunks = [values[i:k+i] for i in range(0, size, k)]\n",
        "print(chunks)"
      ],
      "execution_count": 0,
      "outputs": []
    },
    {
      "cell_type": "markdown",
      "metadata": {
        "id": "psFaRQcRWMQN",
        "colab_type": "text"
      },
      "source": [
        "35. Write a program that given a string, returns a trimmed string (removing blankspaces at the beginning and at the end) and separating words with just one blankspace.\n",
        "\n",
        "* Input:  \"    Hello   Mary   \"\n",
        "* Expected output:\n",
        "\n",
        "\n",
        "\n",
        "```\n",
        "    Hello   Mary   has 18 characters.\n",
        "    Hello Mary has 10 characters.\n",
        "```\n",
        "\n"
      ]
    },
    {
      "cell_type": "code",
      "metadata": {
        "id": "bHJKfxklWjnc",
        "colab_type": "code",
        "colab": {}
      },
      "source": [
        "value = \"    Hello   Mary  \"\n",
        "print(\"{} has {} characters.\".format(value, len(value)))\n",
        "trim_value = \"\"\n",
        "state = 1\n",
        "pos = 0\n",
        "for v in value:\n",
        "  if v != \" \" and state == 1:\n",
        "    trim_value = trim_value + v\n",
        "    state = 2\n",
        "    previous = True\n",
        "  elif v == \" \" and state == 2 and previous and pos < len(value)-2:\n",
        "    trim_value = trim_value + v\n",
        "    previous = False\n",
        "  elif v != \" \" and state == 2:\n",
        "    trim_value = trim_value + v\n",
        "    previous = True\n",
        "  pos = pos + 1\n",
        "\n",
        "print(\"{} has {} characters.\".format(trim_value, len(trim_value)))  \n",
        "\n",
        "#Python version\n",
        "trim_value = (value.strip())\n",
        "clean_value = \"\"\n",
        "previous = False\n",
        "for v in trim_value:\n",
        "  if v != \" \":\n",
        "    clean_value = clean_value + v\n",
        "    previous = True\n",
        "  elif v == \" \" and previous:\n",
        "    clean_value = clean_value + v\n",
        "    previous = False\n",
        "\n",
        "print(\"{} has {} characters.\".format(clean_value, len(clean_value)))  \n",
        "    "
      ],
      "execution_count": 0,
      "outputs": []
    },
    {
      "cell_type": "markdown",
      "metadata": {
        "id": "LXMaVMYedEz5",
        "colab_type": "text"
      },
      "source": [
        "36. Write a program that given a string, an input character and a replacement character, returns a string replacing all occurrences of input character by the replacement character.\n",
        "\n",
        "* Input:  \"Hello\", input = \"l\", replacement =\"t\"\n",
        "* Expected output:\n",
        "\n",
        "\n",
        "\n",
        "```\n",
        "Hello is now Hetto.\n",
        "```"
      ]
    },
    {
      "cell_type": "code",
      "metadata": {
        "id": "YbA2L816dYZs",
        "colab_type": "code",
        "colab": {}
      },
      "source": [
        "value = \"Hello\"\n",
        "input_char = \"l\"\n",
        "replacement = \"t\"\n",
        "new_value = \"\"\n",
        "for v in value:\n",
        "  if v == input_char:\n",
        "    new_value = new_value + replacement\n",
        "  else:\n",
        "    new_value = new_value + v\n",
        "print(\"{} is now {}.\".format(value, new_value))\n",
        "\n",
        "#Python version\n",
        "\n",
        "new_value = value.replace(input_char, replacement)\n",
        "print(\"{} is now {}.\".format(value, new_value))"
      ],
      "execution_count": 0,
      "outputs": []
    },
    {
      "cell_type": "markdown",
      "metadata": {
        "id": "woj_sZWpeOQf",
        "colab_type": "text"
      },
      "source": [
        "37. Write a program that given a string, counts and displays the number of unique characters.\n",
        "\n",
        "* Input:  \"Hello\"\n",
        "* Expected output:\n",
        "\n",
        "\n",
        "\n",
        "```\n",
        "The number of unique characters is 4.\n",
        "```"
      ]
    },
    {
      "cell_type": "code",
      "metadata": {
        "id": "iazFSnEVeWJm",
        "colab_type": "code",
        "colab": {}
      },
      "source": [
        "value = \"Hello\"\n",
        "unique_chars = \"\"\n",
        "for v in value:\n",
        "  if unique_chars.count(v) == 0:\n",
        "    unique_chars = unique_chars + v\n",
        "print(\"The number of unique characters is {}.\".format(len(unique_chars)))\n"
      ],
      "execution_count": 0,
      "outputs": []
    },
    {
      "cell_type": "markdown",
      "metadata": {
        "id": "XfpWQwazfDNr",
        "colab_type": "text"
      },
      "source": [
        "38. Write a program that given a list of strings and a char separator, displays a message containing each string separated by separator.\n",
        "\n",
        "* Input:  [\"Hello\", \"Mary,\", \"How\", \"are\", \"you?\"], separator = \"#\"\n",
        "* Expected output:\n",
        "\n",
        "\n",
        "\n",
        "```\n",
        "Hello#Mary,#How#are#you?\n",
        "```"
      ]
    },
    {
      "cell_type": "code",
      "metadata": {
        "id": "CNue4odhfU8b",
        "colab_type": "code",
        "colab": {}
      },
      "source": [
        "words = [\"Hello\", \"Mary,\", \"How\", \"are\", \"you?\"]\n",
        "separator = \"#\"\n",
        "message = \"\"\n",
        "pos = 0\n",
        "for w in words:\n",
        "  if pos < len(words)-1:\n",
        "    message = message + w + separator\n",
        "  else:\n",
        "    message = message + w\n",
        "  pos = pos + 1\n",
        "print(message)\n",
        "\n",
        "#Python version\n",
        "print(\"#\".join(words))"
      ],
      "execution_count": 0,
      "outputs": []
    },
    {
      "cell_type": "markdown",
      "metadata": {
        "id": "00c5xYRbgqSF",
        "colab_type": "text"
      },
      "source": [
        "39. Write a program that given a string and and input pattern (another string), checks if the string starts with the input pattern.\n",
        "\n",
        "* Input:  \"Hello\", pattern=\"He\"\n",
        "* Expected output:\n",
        "\n",
        "\n",
        "\n",
        "```\n",
        "True\n",
        "```"
      ]
    },
    {
      "cell_type": "code",
      "metadata": {
        "id": "0LWgUQywg36t",
        "colab_type": "code",
        "colab": {}
      },
      "source": [
        "value = \"Hello\"\n",
        "pattern = \"He\"\n",
        "size_value = len(value)\n",
        "size_p = len(pattern)\n",
        "match = False\n",
        "if size_p < size_value:\n",
        "  match = True\n",
        "  i = 0\n",
        "  while match and i < size_p:\n",
        "    match = match and (pattern[i] == value[i])\n",
        "    i = i + 1\n",
        "print(match)\n",
        "\n",
        "#Python version\n",
        "print(value.startswith(pattern))\n",
        "    "
      ],
      "execution_count": 0,
      "outputs": []
    },
    {
      "cell_type": "markdown",
      "metadata": {
        "id": "G9y_MJbbk1My",
        "colab_type": "text"
      },
      "source": [
        "40. Write a program that given a string and and input pattern (another string), checks if the string ends with the input pattern.\n",
        "\n",
        "* Input:  \"Hello\", pattern=\"lo\"\n",
        "* Expected output:\n",
        "\n",
        "\n",
        "\n",
        "```\n",
        "True\n",
        "```"
      ]
    },
    {
      "cell_type": "code",
      "metadata": {
        "id": "HbDU6QKDk6FK",
        "colab_type": "code",
        "colab": {}
      },
      "source": [
        "value = \"Hello\"\n",
        "pattern = \"lo\"\n",
        "size_value = len(value)\n",
        "size_p = len(pattern)\n",
        "match = False\n",
        "if size_p < size_value:\n",
        "  match = True\n",
        "  i = 0\n",
        "  while match and i < size_p:\n",
        "    match = match and (pattern[i] == value[size_value-size_p+i])\n",
        "    i = i + 1\n",
        "print(match)\n",
        "\n",
        "#Python version\n",
        "print(value.endswith(pattern))"
      ],
      "execution_count": 0,
      "outputs": []
    },
    {
      "cell_type": "markdown",
      "metadata": {
        "id": "VUDgDvpjyuEH",
        "colab_type": "text"
      },
      "source": [
        "41. Write a program that given a string, filters all characters that are not numbers.\n",
        "\n",
        "* Use the function `value.isdigit()`\n",
        "\n",
        "* Input:  \"He2l3l4o5\"\n",
        "* Expected output:\n",
        "\n",
        "\n",
        "\n",
        "```\n",
        "['2', '3', '4', '5']\n",
        "```"
      ]
    },
    {
      "cell_type": "code",
      "metadata": {
        "id": "TLcbENvMzHYQ",
        "colab_type": "code",
        "colab": {}
      },
      "source": [
        "value = \"He2l3l4o5\"\n",
        "numbers = []\n",
        "for v in value:\n",
        "  if v.isdigit():\n",
        "    numbers.append(v)\n",
        "print(numbers)\n",
        "\n",
        "#Python version\n",
        "numbers = [x for x in value if x.isdigit()]\n",
        "print(numbers)"
      ],
      "execution_count": 0,
      "outputs": []
    },
    {
      "cell_type": "markdown",
      "metadata": {
        "id": "w7x_oRSx1mkl",
        "colab_type": "text"
      },
      "source": [
        "42. Write a program that given a list of integers and a value $k$, filters all numbers that are less than $k$.\n",
        "\n",
        "* Input:  [4, 15, 9, 21], $k=10$\n",
        "* Expected output:\n",
        "\n",
        "\n",
        "\n",
        "```\n",
        "[4, 9]\n",
        "```"
      ]
    },
    {
      "cell_type": "code",
      "metadata": {
        "id": "d2d3GdFF1_N3",
        "colab_type": "code",
        "colab": {}
      },
      "source": [
        "values = [4, 15, 9, 21]\n",
        "filtered = []\n",
        "k = 10\n",
        "for v in values:\n",
        "  if v < k:\n",
        "    filtered.append(v)\n",
        "print(filtered)\n",
        "\n",
        "#Python version\n",
        "filtered = [x for x in values if x < k]\n",
        "print(filtered)"
      ],
      "execution_count": 0,
      "outputs": []
    },
    {
      "cell_type": "markdown",
      "metadata": {
        "id": "UFBdRkpamv2p",
        "colab_type": "text"
      },
      "source": [
        "## Quick questions\n",
        "\n",
        "**1. Define the lists x and y as lists of numbers.**\n",
        "\n",
        " * x = [2, 4, 6, 8]\n",
        " * y = [1, 3, 5, 7]\n",
        "\n",
        "* What is the value of 2*x?\n",
        "* What is the result of x+y?\n",
        "* What is the result of x-y?\n",
        "* What is the value of x[1]?\n",
        "* What is the value of x[-1]?\n",
        "* What is the value of x[:]?\n",
        "* What is the value of x[2:4]?\n",
        "* What is the value of x[1:4:2]?\n",
        "* What is the value of x[:2]?\n",
        "* What is the value of x[::2]?\n",
        "* What is the result of the following two expressions? x[3]=8\n",
        "\n",
        "**2. Define a string x = \"Hello\"**\n",
        "\n",
        "* What is the value of 4*x?\n",
        "* What is the value of x[1]?\n",
        "* What is the value of x[-1]?\n",
        "* What is the value of x[::2]?\n",
        "* What is the value of x[::-1]?\n"
      ]
    },
    {
      "cell_type": "code",
      "metadata": {
        "id": "cRly0bS7nsf_",
        "colab_type": "code",
        "colab": {
          "base_uri": "https://localhost:8080/",
          "height": 172
        },
        "outputId": "305249b2-5556-4cd2-e398-b2e008043d11"
      },
      "source": [
        "x = [2, 4, 6, 8]\n",
        "y = [1, 3, 5, 7]\n",
        "print(2*x)\n",
        "print(x+y)\n",
        "#print(x-y) #Raise an error\n",
        "print(x[1])\n",
        "print(x[-1])\n",
        "print(x[:])\n",
        "print(x[2:4])\n",
        "print(x[1:4:2])\n",
        "print(x[:2])\n",
        "print(x[::2])"
      ],
      "execution_count": 93,
      "outputs": [
        {
          "output_type": "stream",
          "text": [
            "[2, 4, 6, 8, 2, 4, 6, 8]\n",
            "[2, 4, 6, 8, 1, 3, 5, 7]\n",
            "4\n",
            "8\n",
            "[2, 4, 6, 8]\n",
            "[6, 8]\n",
            "[4, 8]\n",
            "[2, 4]\n",
            "[2, 6]\n"
          ],
          "name": "stdout"
        }
      ]
    },
    {
      "cell_type": "code",
      "metadata": {
        "id": "7ymZFFgfoK9C",
        "colab_type": "code",
        "colab": {
          "base_uri": "https://localhost:8080/",
          "height": 103
        },
        "outputId": "1521c848-789b-4c0d-8b66-198d243d7781"
      },
      "source": [
        "x = \"Hello\"\n",
        "print(4*x)\n",
        "print(x[1])\n",
        "print(x[-1])\n",
        "print(x[::2])\n",
        "print(x[::-1])"
      ],
      "execution_count": 94,
      "outputs": [
        {
          "output_type": "stream",
          "text": [
            "HelloHelloHelloHello\n",
            "e\n",
            "o\n",
            "Hlo\n",
            "olleH\n"
          ],
          "name": "stdout"
        }
      ]
    },
    {
      "cell_type": "markdown",
      "metadata": {
        "id": "-4jeKWR12eUh",
        "colab_type": "text"
      },
      "source": [
        "## Quick review of list and string methods"
      ]
    },
    {
      "cell_type": "markdown",
      "metadata": {
        "id": "r_ylj8YQ2iAB",
        "colab_type": "text"
      },
      "source": [
        "### List: some relevant methods"
      ]
    },
    {
      "cell_type": "code",
      "metadata": {
        "id": "aYnLfL5eYvA6",
        "colab_type": "code",
        "colab": {}
      },
      "source": [
        "#Review of list methods\n",
        "\n",
        "#Create a list\n",
        "\n",
        "values = []\n",
        "\n",
        "#Append an element\n",
        "\n",
        "values.append(1)\n",
        "print(values)\n",
        "\n",
        "#Access an element\n",
        "\n",
        "print(values[0])\n",
        "\n",
        "#Get number of elements\n",
        "\n",
        "len(values)\n",
        "print(len(values))\n",
        "\n",
        "#Count the number of elements\n",
        "\n",
        "print(values.count(1))\n",
        "\n",
        "#Slicing [start:end:step], default start = 0, end = len(list), step = 1\n",
        "\n",
        "#First k elements, k = 1\n",
        "print(values[:1])\n",
        "\n",
        "#List sort\n",
        "\n",
        "print(values.sort())\n",
        "\n",
        "#List reverse\n",
        "\n",
        "values.reverse()\n",
        "\n",
        "#Remove all elements\n",
        "\n",
        "values.clear()"
      ],
      "execution_count": 0,
      "outputs": []
    },
    {
      "cell_type": "markdown",
      "metadata": {
        "id": "-yNqZFCI2oBg",
        "colab_type": "text"
      },
      "source": [
        "### String: some relevant methods"
      ]
    },
    {
      "cell_type": "code",
      "metadata": {
        "id": "OUm93lnz242u",
        "colab_type": "code",
        "colab": {}
      },
      "source": [
        "#Review of string methods\n",
        "\n",
        "value = \"   Hello, Mary  \"\n",
        "\n",
        "print(len(value))\n",
        "\n",
        "#Accessing\n",
        "\n",
        "print(value[5])\n",
        "\n",
        "#Cleaning\n",
        "print(value.strip())\n",
        "\n",
        "#Modifying values\n",
        "print(value.upper())\n",
        "print(value.lower())\n",
        "\n",
        "#Finding and replacing\n",
        "print(\"Hello\".startswith(\"He\"))\n",
        "print(\"Hello\".endswith(\"lo\"))\n",
        "print(value.find(\"H\"))\n",
        "print(value.replace(\" \",\"#\"))\n",
        "\n",
        "#Check values\n",
        "\n",
        "print(\"1\".isdigit())\n",
        "\n",
        "print(\"a\".isalpha())\n",
        "\n",
        "#Tokenizing\n",
        "print(value.split(\",\"))\n",
        "\n",
        "\n"
      ],
      "execution_count": 0,
      "outputs": []
    }
  ]
}